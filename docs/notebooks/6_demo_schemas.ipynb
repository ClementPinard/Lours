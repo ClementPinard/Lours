{
 "cells": [
  {
   "cell_type": "markdown",
   "id": "6ab66bc0-91d6-493f-9efd-baaaa9a37829",
   "metadata": {},
   "source": [
    "# Schemas mechanics\n",
    "\n",
    "The Caipy loader features a way to parse the caipyjson and efficiently transform into column-wise data which is more compatible with pandas.\n",
    "\n",
    "The schemas will help check caipy json structure, automatically normalize the data so that it's not nested anymore, and will booleanize the sets. See related tutorial about booleanization here : [Demo booleanization](7_demo_booleanize.ipynb)\n",
    "\n",
    "## What is a schemas ?\n",
    "\n",
    "A schemas is way to specify data structure. For each key of an object is given its type. It can be a string, a float, to more complexe types like lists and objects themselves. That ways you can specify how should the data be nested.\n",
    "\n",
    "See more info about json schemas in the [official documentation](https://json-schema.org/specification)\n",
    "\n",
    "This library provides a default schema but you can provide your own schema as well with a path or a url.\n",
    "\n",
    ".. nbinfo::\n",
    "    For a better readability, we use mercury's [JSON displayer](https://runmercury.com/examples/display-json-jupyter-notebook/), but you can simply replace `mr.JSON` with `display` for every shown dictionary\n"
   ]
  },
  {
   "cell_type": "code",
   "execution_count": 1,
   "id": "de814ecb-25c8-454d-8081-094a53e37dc0",
   "metadata": {},
   "outputs": [],
   "source": [
    "%%capture\n",
    "\n",
    "%load_ext autoreload\n",
    "%autoreload 2\n",
    "import mercury as mr\n",
    "import json\n",
    "from lours.dataset.io.schema_util import load_json_schema\n",
    "\n",
    "app = mr.App(title=\"Display notebook\", static_notebook=True)"
   ]
  },
  {
   "cell_type": "code",
   "execution_count": 2,
   "id": "9f4eb685-6f28-4f36-a9f8-1c5d79e15412",
   "metadata": {},
   "outputs": [
    {
     "data": {
      "text/html": [
       "<style>.renderjson a              { text-decoration: none; }\n",
       ".renderjson .disclosure    { color: grey; font-size: 125%; }\n",
       ".renderjson .syntax        { color: grey; }\n",
       ".renderjson .string        { color: #fe46a5; }\n",
       ".renderjson .number        { color: #0f9b8e; }\n",
       ".renderjson .boolean       { color: black; }\n",
       ".renderjson .key           { color: #2684ff; }\n",
       ".renderjson .keyword       { color: gray; }\n",
       ".renderjson .object.syntax { color: gray; }\n",
       ".renderjson .array.syntax  { color: gray; }</style><div id=\"30d324a9-63c0-4dd0-8df0-ec513c4cc676\"></div>"
      ],
      "text/plain": [
       "<IPython.core.display.HTML object>"
      ]
     },
     "metadata": {},
     "output_type": "display_data"
    },
    {
     "data": {
      "text/html": [
       "<script>var renderjson=function(){var t=function(){for(var t=[];arguments.length;)t.push(n(s(Array.prototype.shift.call(arguments)),o(Array.prototype.shift.call(arguments))));return t},n=function(){for(var t=Array.prototype.shift.call(arguments),e=0;e<arguments.length;e++)arguments[e].constructor==Array?n.apply(this,[t].concat(arguments[e])):t.appendChild(arguments[e]);return t},e=function(t,n){return t.insertBefore(n,t.firstChild),t},r=function(t,n){var e=n||Object.keys(t);for(var r in e)if(Object.hasOwnProperty.call(t,e[r]))return!1;return!0},o=function(t){return document.createTextNode(t)},s=function(t){var n=document.createElement(\"span\");return t&&(n.className=t),n},l=function(t,n,e){var r=document.createElement(\"a\");return n&&(r.className=n),r.appendChild(o(t)),r.href=\"#\",r.onclick=function(t){return e(),t&&t.stopPropagation(),!1},r};function a(i,c,u,p,y){var _=u?\"\":c,f=function(r,a,i,c,u){var f,g=s(c),h=function(){f||n(g.parentNode,f=e(u(),l(y.hide,\"disclosure\",(function(){f.style.display=\"none\",g.style.display=\"inline\"})))),f.style.display=\"inline\",g.style.display=\"none\"};n(g,l(y.show,\"disclosure\",h),t(c+\" syntax\",r),l(a,null,h),t(c+\" syntax\",i));var d=n(s(),o(_.slice(0,-1)),g);return p>0&&\"string\"!=c&&h(),d};return null===i?t(null,_,\"keyword\",\"null\"):void 0===i?t(null,_,\"keyword\",\"undefined\"):\"string\"==typeof i&&i.length>y.max_string_length?f('\"',i.substr(0,y.max_string_length)+\" ...\",'\"',\"string\",(function(){return n(s(\"string\"),t(null,_,\"string\",JSON.stringify(i)))})):\"object\"!=typeof i||[Number,String,Boolean,Date].indexOf(i.constructor)>=0?t(null,_,typeof i,JSON.stringify(i)):i.constructor==Array?0==i.length?t(null,_,\"array syntax\",\"[]\"):f(\"[\",y.collapse_msg(i.length),\"]\",\"array\",(function(){for(var e=n(s(\"array\"),t(\"array syntax\",\"[\",null,\"\\n\")),r=0;r<i.length;r++)n(e,a(y.replacer.call(i,r,i[r]),c+\"    \",!1,p-1,y),r!=i.length-1?t(\"syntax\",\",\"):[],o(\"\\n\"));return n(e,t(null,c,\"array syntax\",\"]\")),e})):r(i,y.property_list)?t(null,_,\"object syntax\",\"{}\"):f(\"{\",y.collapse_msg(Object.keys(i).length),\"}\",\"object\",(function(){var e=n(s(\"object\"),t(\"object syntax\",\"{\",null,\"\\n\"));for(var r in i)var l=r;var u=y.property_list||Object.keys(i);for(var _ in y.sort_objects&&(u=u.sort()),u){(r=u[_])in i&&n(e,t(null,c+\"    \",\"key\",'\"'+r+'\"',\"object syntax\",\": \"),a(y.replacer.call(i,r,i[r]),c+\"    \",!0,p-1,y),r!=l?t(\"syntax\",\",\"):[],o(\"\\n\"))}return n(e,t(null,c,\"object syntax\",\"}\")),e}))}var i=function t(e){var r=new Object(t.options);r.replacer=\"function\"==typeof r.replacer?r.replacer:function(t,n){return n};var o=n(document.createElement(\"pre\"),a(e,\"\",!1,r.show_to_level,r));return o.className=\"renderjson\",o};return i.set_icons=function(t,n){return i.options.show=t,i.options.hide=n,i},i.set_show_to_level=function(t){return i.options.show_to_level=\"string\"==typeof t&&\"all\"===t.toLowerCase()?Number.MAX_VALUE:t,i},i.set_max_string_length=function(t){return i.options.max_string_length=\"string\"==typeof t&&\"none\"===t.toLowerCase()?Number.MAX_VALUE:t,i},i.set_sort_objects=function(t){return i.options.sort_objects=t,i},i.set_replacer=function(t){return i.options.replacer=t,i},i.set_collapse_msg=function(t){return i.options.collapse_msg=t,i},i.set_property_list=function(t){return i.options.property_list=t,i},i.set_show_by_default=function(t){return i.options.show_to_level=t?Number.MAX_VALUE:0,i},i.options={},i.set_icons(\"⊕\",\"⊖\"),i.set_show_by_default(!1),i.set_sort_objects(!1),i.set_max_string_length(\"none\"),i.set_replacer(void 0),i.set_property_list(void 0),i.set_collapse_msg((function(t){return t+\" item\"+(1==t?\"\":\"s\")})),i}(); renderjson.set_show_to_level(1); document.getElementById(\"30d324a9-63c0-4dd0-8df0-ec513c4cc676\").appendChild(renderjson({\"$schema\": \"http://json-schema.org/draft-07/schema#\", \"$id\": \"https://github.com/XXII-AI/Lours\", \"type\": \"object\", \"properties\": {\"image\": {\"type\": \"object\", \"properties\": {\"file_name\": {\"type\": \"string\"}, \"id\": {\"type\": \"integer\", \"minimum\": 0}, \"width\": {\"type\": \"integer\", \"minimum\": 0}, \"height\": {\"type\": \"integer\", \"minimum\": 0}, \"tags\": {\"type\": \"object\", \"properties\": {\"time\": {\"enum\": [\"day\", \"night\"]}, \"weather\": {\"enum\": [\"rainy\", \"sunny\", \"snowy\", \"foggy\", \"cloudy\", \"clear\"]}}}}, \"required\": [\"file_name\", \"id\", \"width\", \"height\"]}, \"annotations\": {\"type\": \"array\", \"items\": {\"type\": \"object\", \"properties\": {\"id\": {\"type\": \"integer\", \"minimum\": 0}, \"parent_id\": {\"type\": \"integer\", \"minimum\": 0}, \"children_ids\": {\"type\": \"array\", \"items\": {\"type\": \"integer\", \"minimum\": 0}, \"uniqueItems\": true}, \"tracking_id\": {\"type\": \"integer\", \"minimum\": 0}, \"category_id\": {\"type\": \"integer\", \"minimum\": 0}, \"category_str\": {\"type\": \"string\"}, \"confidence\": {\"type\": \"number\", \"minimum\": 0, \"maximum\": 1}, \"bbox\": {\"type\": \"array\", \"items\": {\"type\": \"number\", \"minimum\": 0}, \"minItems\": 2, \"maxItems\": 4}, \"attributes\": {\"type\": \"object\", \"properties\": {\"colors\": {\"type\": \"array\", \"items\": {\"enum\": [\"red\", \"green\", \"yellow\", \"blue\", \"white\", \"black\", \"orange\", \"purple\", \"grey\", \"brown\", \"pink\", \"beige\", \"cyan\"]}, \"uniqueItems\": true}, \"position\": {\"type\": \"array\", \"items\": {\"enum\": [\"side\", \"front\", \"top\", \"back\", \"unknown\"]}, \"uniqueItems\": true}, \"occluded\": {\"type\": \"boolean\"}}}}, \"required\": [\"id\", \"category_id\", \"bbox\"]}}}}))</script>"
      ],
      "text/plain": [
       "<IPython.core.display.HTML object>"
      ]
     },
     "metadata": {},
     "output_type": "display_data"
    }
   ],
   "source": [
    "default_caipy_schema = load_json_schema(\"default\")\n",
    "# Show the json with mercury, for better readability\n",
    "mr.JSON(default_caipy_schema)"
   ]
  },
  {
   "cell_type": "markdown",
   "id": "09257084-56fe-4b17-be6f-28c65585a7a3",
   "metadata": {},
   "source": [
    "The interesting types for us are\n",
    "- `enum` which can be converted to [pandas categorical](https://pandas.pydata.org/docs/user_guide/categorical.html)\n",
    "- `array`, with the `uniqueItems` set to `True`, this can be seen as an unordered set and thus can be [booleanized](7_demo_booleanize.ipynb)\n",
    "- `object` this tells us that data is nested and thus need to be normalized. For example, the `weather` tag for images is inside the `tags` object. In the images dataframe, this will go in the `tags.weather` column.\n",
    "\n",
    "In the future, we might have to deal with `array` object that are not ordered sets. They can be converted to categorical data within the columns `array.1`, `array.2` etc, but there is no support for it for the moment.\n",
    "\n",
    "### Data checking\n",
    "\n",
    "The first obvious use of schemas is for validation.\n",
    "\n",
    "For example the following data structure is rejected because the value `custom_dict[\"annotations\"][0][\"attributes\"][\"colors\"]` is set to `turquoise` while it must be on of the following values, that are specified in the schema: `custom_caipy_schema[\"properties\"][\"annotations\"][\"items\"][\"properties\"][\"attributes\"][\"properties\"][\"colors\"][\"items\"][\"enum\"]`"
   ]
  },
  {
   "cell_type": "code",
   "execution_count": 3,
   "id": "5e3c191a-6141-43e6-ad28-72b5dd295963",
   "metadata": {},
   "outputs": [
    {
     "data": {
      "text/html": [
       "<style>.renderjson a              { text-decoration: none; }\n",
       ".renderjson .disclosure    { color: grey; font-size: 125%; }\n",
       ".renderjson .syntax        { color: grey; }\n",
       ".renderjson .string        { color: #fe46a5; }\n",
       ".renderjson .number        { color: #0f9b8e; }\n",
       ".renderjson .boolean       { color: black; }\n",
       ".renderjson .key           { color: #2684ff; }\n",
       ".renderjson .keyword       { color: gray; }\n",
       ".renderjson .object.syntax { color: gray; }\n",
       ".renderjson .array.syntax  { color: gray; }</style><div id=\"715f53dc-be07-47ba-950b-27ccdc267861\"></div>"
      ],
      "text/plain": [
       "<IPython.core.display.HTML object>"
      ]
     },
     "metadata": {},
     "output_type": "display_data"
    },
    {
     "data": {
      "text/html": [
       "<script>var renderjson=function(){var t=function(){for(var t=[];arguments.length;)t.push(n(s(Array.prototype.shift.call(arguments)),o(Array.prototype.shift.call(arguments))));return t},n=function(){for(var t=Array.prototype.shift.call(arguments),e=0;e<arguments.length;e++)arguments[e].constructor==Array?n.apply(this,[t].concat(arguments[e])):t.appendChild(arguments[e]);return t},e=function(t,n){return t.insertBefore(n,t.firstChild),t},r=function(t,n){var e=n||Object.keys(t);for(var r in e)if(Object.hasOwnProperty.call(t,e[r]))return!1;return!0},o=function(t){return document.createTextNode(t)},s=function(t){var n=document.createElement(\"span\");return t&&(n.className=t),n},l=function(t,n,e){var r=document.createElement(\"a\");return n&&(r.className=n),r.appendChild(o(t)),r.href=\"#\",r.onclick=function(t){return e(),t&&t.stopPropagation(),!1},r};function a(i,c,u,p,y){var _=u?\"\":c,f=function(r,a,i,c,u){var f,g=s(c),h=function(){f||n(g.parentNode,f=e(u(),l(y.hide,\"disclosure\",(function(){f.style.display=\"none\",g.style.display=\"inline\"})))),f.style.display=\"inline\",g.style.display=\"none\"};n(g,l(y.show,\"disclosure\",h),t(c+\" syntax\",r),l(a,null,h),t(c+\" syntax\",i));var d=n(s(),o(_.slice(0,-1)),g);return p>0&&\"string\"!=c&&h(),d};return null===i?t(null,_,\"keyword\",\"null\"):void 0===i?t(null,_,\"keyword\",\"undefined\"):\"string\"==typeof i&&i.length>y.max_string_length?f('\"',i.substr(0,y.max_string_length)+\" ...\",'\"',\"string\",(function(){return n(s(\"string\"),t(null,_,\"string\",JSON.stringify(i)))})):\"object\"!=typeof i||[Number,String,Boolean,Date].indexOf(i.constructor)>=0?t(null,_,typeof i,JSON.stringify(i)):i.constructor==Array?0==i.length?t(null,_,\"array syntax\",\"[]\"):f(\"[\",y.collapse_msg(i.length),\"]\",\"array\",(function(){for(var e=n(s(\"array\"),t(\"array syntax\",\"[\",null,\"\\n\")),r=0;r<i.length;r++)n(e,a(y.replacer.call(i,r,i[r]),c+\"    \",!1,p-1,y),r!=i.length-1?t(\"syntax\",\",\"):[],o(\"\\n\"));return n(e,t(null,c,\"array syntax\",\"]\")),e})):r(i,y.property_list)?t(null,_,\"object syntax\",\"{}\"):f(\"{\",y.collapse_msg(Object.keys(i).length),\"}\",\"object\",(function(){var e=n(s(\"object\"),t(\"object syntax\",\"{\",null,\"\\n\"));for(var r in i)var l=r;var u=y.property_list||Object.keys(i);for(var _ in y.sort_objects&&(u=u.sort()),u){(r=u[_])in i&&n(e,t(null,c+\"    \",\"key\",'\"'+r+'\"',\"object syntax\",\": \"),a(y.replacer.call(i,r,i[r]),c+\"    \",!0,p-1,y),r!=l?t(\"syntax\",\",\"):[],o(\"\\n\"))}return n(e,t(null,c,\"object syntax\",\"}\")),e}))}var i=function t(e){var r=new Object(t.options);r.replacer=\"function\"==typeof r.replacer?r.replacer:function(t,n){return n};var o=n(document.createElement(\"pre\"),a(e,\"\",!1,r.show_to_level,r));return o.className=\"renderjson\",o};return i.set_icons=function(t,n){return i.options.show=t,i.options.hide=n,i},i.set_show_to_level=function(t){return i.options.show_to_level=\"string\"==typeof t&&\"all\"===t.toLowerCase()?Number.MAX_VALUE:t,i},i.set_max_string_length=function(t){return i.options.max_string_length=\"string\"==typeof t&&\"none\"===t.toLowerCase()?Number.MAX_VALUE:t,i},i.set_sort_objects=function(t){return i.options.sort_objects=t,i},i.set_replacer=function(t){return i.options.replacer=t,i},i.set_collapse_msg=function(t){return i.options.collapse_msg=t,i},i.set_property_list=function(t){return i.options.property_list=t,i},i.set_show_by_default=function(t){return i.options.show_to_level=t?Number.MAX_VALUE:0,i},i.options={},i.set_icons(\"⊕\",\"⊖\"),i.set_show_by_default(!1),i.set_sort_objects(!1),i.set_max_string_length(\"none\"),i.set_replacer(void 0),i.set_property_list(void 0),i.set_collapse_msg((function(t){return t+\" item\"+(1==t?\"\":\"s\")})),i}(); renderjson.set_show_to_level(1); document.getElementById(\"715f53dc-be07-47ba-950b-27ccdc267861\").appendChild(renderjson({\"image\": {\"id\": 200, \"file_name\": \"785.jpg\", \"height\": 427, \"width\": 640, \"tags\": {\"weather\": \"sunny\", \"time\": \"day\"}}, \"type\": \"instances\", \"annotations\": [{\"id\": 0, \"category_id\": 2, \"category_str\": \"person\", \"bbox\": [1256, 202, 59, 47], \"attributes\": {\"colors\": [\"blue\", \"turquoise\"], \"occluded\": true}, \"parent_id\": 1, \"confidence\": 0.5}, {\"id\": 1, \"category_id\": 800, \"category_str\": \"head\", \"bbox\": [1256, 202, 59, 47], \"attributes\": {\"position\": [\"side\"]}, \"children_ids\": [0]}]}))</script>"
      ],
      "text/plain": [
       "<IPython.core.display.HTML object>"
      ]
     },
     "metadata": {},
     "output_type": "display_data"
    },
    {
     "data": {
      "text/html": [
       "<style>.renderjson a              { text-decoration: none; }\n",
       ".renderjson .disclosure    { color: grey; font-size: 125%; }\n",
       ".renderjson .syntax        { color: grey; }\n",
       ".renderjson .string        { color: #fe46a5; }\n",
       ".renderjson .number        { color: #0f9b8e; }\n",
       ".renderjson .boolean       { color: black; }\n",
       ".renderjson .key           { color: #2684ff; }\n",
       ".renderjson .keyword       { color: gray; }\n",
       ".renderjson .object.syntax { color: gray; }\n",
       ".renderjson .array.syntax  { color: gray; }</style><div id=\"8f151cd9-1921-430b-8c00-0b8808782f9e\"></div>"
      ],
      "text/plain": [
       "<IPython.core.display.HTML object>"
      ]
     },
     "metadata": {},
     "output_type": "display_data"
    },
    {
     "data": {
      "text/html": [
       "<script>var renderjson=function(){var t=function(){for(var t=[];arguments.length;)t.push(n(s(Array.prototype.shift.call(arguments)),o(Array.prototype.shift.call(arguments))));return t},n=function(){for(var t=Array.prototype.shift.call(arguments),e=0;e<arguments.length;e++)arguments[e].constructor==Array?n.apply(this,[t].concat(arguments[e])):t.appendChild(arguments[e]);return t},e=function(t,n){return t.insertBefore(n,t.firstChild),t},r=function(t,n){var e=n||Object.keys(t);for(var r in e)if(Object.hasOwnProperty.call(t,e[r]))return!1;return!0},o=function(t){return document.createTextNode(t)},s=function(t){var n=document.createElement(\"span\");return t&&(n.className=t),n},l=function(t,n,e){var r=document.createElement(\"a\");return n&&(r.className=n),r.appendChild(o(t)),r.href=\"#\",r.onclick=function(t){return e(),t&&t.stopPropagation(),!1},r};function a(i,c,u,p,y){var _=u?\"\":c,f=function(r,a,i,c,u){var f,g=s(c),h=function(){f||n(g.parentNode,f=e(u(),l(y.hide,\"disclosure\",(function(){f.style.display=\"none\",g.style.display=\"inline\"})))),f.style.display=\"inline\",g.style.display=\"none\"};n(g,l(y.show,\"disclosure\",h),t(c+\" syntax\",r),l(a,null,h),t(c+\" syntax\",i));var d=n(s(),o(_.slice(0,-1)),g);return p>0&&\"string\"!=c&&h(),d};return null===i?t(null,_,\"keyword\",\"null\"):void 0===i?t(null,_,\"keyword\",\"undefined\"):\"string\"==typeof i&&i.length>y.max_string_length?f('\"',i.substr(0,y.max_string_length)+\" ...\",'\"',\"string\",(function(){return n(s(\"string\"),t(null,_,\"string\",JSON.stringify(i)))})):\"object\"!=typeof i||[Number,String,Boolean,Date].indexOf(i.constructor)>=0?t(null,_,typeof i,JSON.stringify(i)):i.constructor==Array?0==i.length?t(null,_,\"array syntax\",\"[]\"):f(\"[\",y.collapse_msg(i.length),\"]\",\"array\",(function(){for(var e=n(s(\"array\"),t(\"array syntax\",\"[\",null,\"\\n\")),r=0;r<i.length;r++)n(e,a(y.replacer.call(i,r,i[r]),c+\"    \",!1,p-1,y),r!=i.length-1?t(\"syntax\",\",\"):[],o(\"\\n\"));return n(e,t(null,c,\"array syntax\",\"]\")),e})):r(i,y.property_list)?t(null,_,\"object syntax\",\"{}\"):f(\"{\",y.collapse_msg(Object.keys(i).length),\"}\",\"object\",(function(){var e=n(s(\"object\"),t(\"object syntax\",\"{\",null,\"\\n\"));for(var r in i)var l=r;var u=y.property_list||Object.keys(i);for(var _ in y.sort_objects&&(u=u.sort()),u){(r=u[_])in i&&n(e,t(null,c+\"    \",\"key\",'\"'+r+'\"',\"object syntax\",\": \"),a(y.replacer.call(i,r,i[r]),c+\"    \",!0,p-1,y),r!=l?t(\"syntax\",\",\"):[],o(\"\\n\"))}return n(e,t(null,c,\"object syntax\",\"}\")),e}))}var i=function t(e){var r=new Object(t.options);r.replacer=\"function\"==typeof r.replacer?r.replacer:function(t,n){return n};var o=n(document.createElement(\"pre\"),a(e,\"\",!1,r.show_to_level,r));return o.className=\"renderjson\",o};return i.set_icons=function(t,n){return i.options.show=t,i.options.hide=n,i},i.set_show_to_level=function(t){return i.options.show_to_level=\"string\"==typeof t&&\"all\"===t.toLowerCase()?Number.MAX_VALUE:t,i},i.set_max_string_length=function(t){return i.options.max_string_length=\"string\"==typeof t&&\"none\"===t.toLowerCase()?Number.MAX_VALUE:t,i},i.set_sort_objects=function(t){return i.options.sort_objects=t,i},i.set_replacer=function(t){return i.options.replacer=t,i},i.set_collapse_msg=function(t){return i.options.collapse_msg=t,i},i.set_property_list=function(t){return i.options.property_list=t,i},i.set_show_by_default=function(t){return i.options.show_to_level=t?Number.MAX_VALUE:0,i},i.options={},i.set_icons(\"⊕\",\"⊖\"),i.set_show_by_default(!1),i.set_sort_objects(!1),i.set_max_string_length(\"none\"),i.set_replacer(void 0),i.set_property_list(void 0),i.set_collapse_msg((function(t){return t+\" item\"+(1==t?\"\":\"s\")})),i}(); renderjson.set_show_to_level(1); document.getElementById(\"8f151cd9-1921-430b-8c00-0b8808782f9e\").appendChild(renderjson(['red', 'green', 'yellow', 'blue', 'white', 'black', 'orange', 'purple', 'grey', 'brown', 'pink', 'beige', 'cyan']))</script>"
      ],
      "text/plain": [
       "<IPython.core.display.HTML object>"
      ]
     },
     "metadata": {},
     "output_type": "display_data"
    }
   ],
   "source": [
    "with open(\"../../test_lours/test_data/caipy_dataset/tags/custom_schema/785.json\") as f:\n",
    "    custom_dict = json.load(f)\n",
    "\n",
    "mr.JSON(custom_dict)\n",
    "\n",
    "mr.JSON(\n",
    "    default_caipy_schema[\"properties\"][\"annotations\"][\"items\"][\"properties\"][\n",
    "        \"attributes\"\n",
    "    ][\"properties\"][\"colors\"][\"items\"][\"enum\"]\n",
    ")"
   ]
  },
  {
   "cell_type": "code",
   "execution_count": 4,
   "id": "22741882-a848-411f-8329-1b3163917dd9",
   "metadata": {
    "tags": [
     "raises-exception"
    ]
   },
   "outputs": [
    {
     "ename": "ValidationError",
     "evalue": "\"turquoise\" is not one of [\"red\",\"green\",\"yellow\",\"blue\",\"white\",\"black\",\"orange\",\"purple\",\"grey\",\"brown\",\"pink\",\"beige\",\"cyan\"]\n\nFailed validating \"enum\" in schema[\"properties\"][\"annotations\"][\"items\"][\"properties\"][\"attributes\"][\"properties\"][\"colors\"][\"items\"]\n\nOn instance[\"annotations\"][0][\"attributes\"][\"colors\"][1]:\n    \"turquoise\"",
     "output_type": "error",
     "traceback": [
      "\u001b[0;31m---------------------------------------------------------------------------\u001b[0m",
      "\u001b[0;31mValidationError\u001b[0m                           Traceback (most recent call last)",
      "Cell \u001b[0;32mIn[4], line 5\u001b[0m\n\u001b[1;32m      1\u001b[0m \u001b[38;5;28;01mfrom\u001b[39;00m \u001b[38;5;21;01mjsonschema_rs\u001b[39;00m \u001b[38;5;28;01mimport\u001b[39;00m JSONSchema\n\u001b[1;32m      3\u001b[0m validator \u001b[38;5;241m=\u001b[39m JSONSchema(default_caipy_schema)\n\u001b[0;32m----> 5\u001b[0m \u001b[43mvalidator\u001b[49m\u001b[38;5;241;43m.\u001b[39;49m\u001b[43mvalidate\u001b[49m\u001b[43m(\u001b[49m\u001b[43mcustom_dict\u001b[49m\u001b[43m)\u001b[49m\n",
      "\u001b[0;31mValidationError\u001b[0m: \"turquoise\" is not one of [\"red\",\"green\",\"yellow\",\"blue\",\"white\",\"black\",\"orange\",\"purple\",\"grey\",\"brown\",\"pink\",\"beige\",\"cyan\"]\n\nFailed validating \"enum\" in schema[\"properties\"][\"annotations\"][\"items\"][\"properties\"][\"attributes\"][\"properties\"][\"colors\"][\"items\"]\n\nOn instance[\"annotations\"][0][\"attributes\"][\"colors\"][1]:\n    \"turquoise\""
     ]
    }
   ],
   "source": [
    "from jsonschema_rs import JSONSchema\n",
    "\n",
    "validator = JSONSchema(default_caipy_schema)\n",
    "\n",
    "validator.validate(custom_dict)"
   ]
  },
  {
   "cell_type": "markdown",
   "id": "36e70901-4c47-4390-aecf-ac16b3266bf4",
   "metadata": {},
   "source": [
    "### list and enum formatting\n",
    "\n",
    "As mentioned above, we can use the schemas to construct dataframe with the right columns and dtypes, even if some values are not present.\n",
    "\n",
    "A regular caveat is the mix of fields that are present in some annotations but not in others. Pandas deals with missing values with `NaN` and `None`, but we can replace them with the right default value. For example, if we know that a field is a list, we can give it the empty list as default value."
   ]
  },
  {
   "cell_type": "code",
   "execution_count": 5,
   "id": "9034c67e-7f95-4468-9481-d4cec283d6c7",
   "metadata": {},
   "outputs": [],
   "source": [
    "from lours.dataset.io.schema_util import (\n",
    "    get_enums,\n",
    "    get_remapping_dict_from_schema,\n",
    "    fill_with_dtypes_and_default_value,\n",
    ")\n",
    "\n",
    "image_schema = default_caipy_schema[\"properties\"][\"image\"]\n",
    "annotations_schema = default_caipy_schema[\"properties\"][\"annotations\"][\"items\"]"
   ]
  },
  {
   "cell_type": "markdown",
   "id": "9bca5efe-2068-44fe-a4d6-b4543f69a319",
   "metadata": {},
   "source": [
    "To better understand the flattening of the data, we can look at some utility function with schemas.\n",
    "\n",
    "`get_remapping_dict_from_schema` function will construct a nested dict where the values are the column name destination.\n",
    "\n",
    "`get_enums` will search for arrays with unique items and retrieve all possible values. This will be used to construct boolean columns which tell us for each enum if it was in the original list for this very row."
   ]
  },
  {
   "cell_type": "code",
   "execution_count": 6,
   "id": "3e797653-948a-4a9c-a33d-c3e837b52c15",
   "metadata": {},
   "outputs": [
    {
     "data": {
      "text/html": [
       "<style>.renderjson a              { text-decoration: none; }\n",
       ".renderjson .disclosure    { color: grey; font-size: 125%; }\n",
       ".renderjson .syntax        { color: grey; }\n",
       ".renderjson .string        { color: #fe46a5; }\n",
       ".renderjson .number        { color: #0f9b8e; }\n",
       ".renderjson .boolean       { color: black; }\n",
       ".renderjson .key           { color: #2684ff; }\n",
       ".renderjson .keyword       { color: gray; }\n",
       ".renderjson .object.syntax { color: gray; }\n",
       ".renderjson .array.syntax  { color: gray; }</style><div id=\"9284a98d-bbef-42ac-a1cd-00d1e6326285\"></div>"
      ],
      "text/plain": [
       "<IPython.core.display.HTML object>"
      ]
     },
     "metadata": {},
     "output_type": "display_data"
    },
    {
     "data": {
      "text/html": [
       "<script>var renderjson=function(){var t=function(){for(var t=[];arguments.length;)t.push(n(s(Array.prototype.shift.call(arguments)),o(Array.prototype.shift.call(arguments))));return t},n=function(){for(var t=Array.prototype.shift.call(arguments),e=0;e<arguments.length;e++)arguments[e].constructor==Array?n.apply(this,[t].concat(arguments[e])):t.appendChild(arguments[e]);return t},e=function(t,n){return t.insertBefore(n,t.firstChild),t},r=function(t,n){var e=n||Object.keys(t);for(var r in e)if(Object.hasOwnProperty.call(t,e[r]))return!1;return!0},o=function(t){return document.createTextNode(t)},s=function(t){var n=document.createElement(\"span\");return t&&(n.className=t),n},l=function(t,n,e){var r=document.createElement(\"a\");return n&&(r.className=n),r.appendChild(o(t)),r.href=\"#\",r.onclick=function(t){return e(),t&&t.stopPropagation(),!1},r};function a(i,c,u,p,y){var _=u?\"\":c,f=function(r,a,i,c,u){var f,g=s(c),h=function(){f||n(g.parentNode,f=e(u(),l(y.hide,\"disclosure\",(function(){f.style.display=\"none\",g.style.display=\"inline\"})))),f.style.display=\"inline\",g.style.display=\"none\"};n(g,l(y.show,\"disclosure\",h),t(c+\" syntax\",r),l(a,null,h),t(c+\" syntax\",i));var d=n(s(),o(_.slice(0,-1)),g);return p>0&&\"string\"!=c&&h(),d};return null===i?t(null,_,\"keyword\",\"null\"):void 0===i?t(null,_,\"keyword\",\"undefined\"):\"string\"==typeof i&&i.length>y.max_string_length?f('\"',i.substr(0,y.max_string_length)+\" ...\",'\"',\"string\",(function(){return n(s(\"string\"),t(null,_,\"string\",JSON.stringify(i)))})):\"object\"!=typeof i||[Number,String,Boolean,Date].indexOf(i.constructor)>=0?t(null,_,typeof i,JSON.stringify(i)):i.constructor==Array?0==i.length?t(null,_,\"array syntax\",\"[]\"):f(\"[\",y.collapse_msg(i.length),\"]\",\"array\",(function(){for(var e=n(s(\"array\"),t(\"array syntax\",\"[\",null,\"\\n\")),r=0;r<i.length;r++)n(e,a(y.replacer.call(i,r,i[r]),c+\"    \",!1,p-1,y),r!=i.length-1?t(\"syntax\",\",\"):[],o(\"\\n\"));return n(e,t(null,c,\"array syntax\",\"]\")),e})):r(i,y.property_list)?t(null,_,\"object syntax\",\"{}\"):f(\"{\",y.collapse_msg(Object.keys(i).length),\"}\",\"object\",(function(){var e=n(s(\"object\"),t(\"object syntax\",\"{\",null,\"\\n\"));for(var r in i)var l=r;var u=y.property_list||Object.keys(i);for(var _ in y.sort_objects&&(u=u.sort()),u){(r=u[_])in i&&n(e,t(null,c+\"    \",\"key\",'\"'+r+'\"',\"object syntax\",\": \"),a(y.replacer.call(i,r,i[r]),c+\"    \",!0,p-1,y),r!=l?t(\"syntax\",\",\"):[],o(\"\\n\"))}return n(e,t(null,c,\"object syntax\",\"}\")),e}))}var i=function t(e){var r=new Object(t.options);r.replacer=\"function\"==typeof r.replacer?r.replacer:function(t,n){return n};var o=n(document.createElement(\"pre\"),a(e,\"\",!1,r.show_to_level,r));return o.className=\"renderjson\",o};return i.set_icons=function(t,n){return i.options.show=t,i.options.hide=n,i},i.set_show_to_level=function(t){return i.options.show_to_level=\"string\"==typeof t&&\"all\"===t.toLowerCase()?Number.MAX_VALUE:t,i},i.set_max_string_length=function(t){return i.options.max_string_length=\"string\"==typeof t&&\"none\"===t.toLowerCase()?Number.MAX_VALUE:t,i},i.set_sort_objects=function(t){return i.options.sort_objects=t,i},i.set_replacer=function(t){return i.options.replacer=t,i},i.set_collapse_msg=function(t){return i.options.collapse_msg=t,i},i.set_property_list=function(t){return i.options.property_list=t,i},i.set_show_by_default=function(t){return i.options.show_to_level=t?Number.MAX_VALUE:0,i},i.options={},i.set_icons(\"⊕\",\"⊖\"),i.set_show_by_default(!1),i.set_sort_objects(!1),i.set_max_string_length(\"none\"),i.set_replacer(void 0),i.set_property_list(void 0),i.set_collapse_msg((function(t){return t+\" item\"+(1==t?\"\":\"s\")})),i}(); renderjson.set_show_to_level(1); document.getElementById(\"9284a98d-bbef-42ac-a1cd-00d1e6326285\").appendChild(renderjson({\"file_name\": \"file_name\", \"id\": \"id\", \"width\": \"width\", \"height\": \"height\", \"tags\": {\"time\": \"tags.time\", \"weather\": \"tags.weather\"}}))</script>"
      ],
      "text/plain": [
       "<IPython.core.display.HTML object>"
      ]
     },
     "metadata": {},
     "output_type": "display_data"
    }
   ],
   "source": [
    "mr.JSON(get_remapping_dict_from_schema(image_schema))"
   ]
  },
  {
   "cell_type": "code",
   "execution_count": 7,
   "id": "6b115140-3b0f-42fe-86a3-9349c7a6566b",
   "metadata": {},
   "outputs": [
    {
     "data": {
      "text/html": [
       "<style>.renderjson a              { text-decoration: none; }\n",
       ".renderjson .disclosure    { color: grey; font-size: 125%; }\n",
       ".renderjson .syntax        { color: grey; }\n",
       ".renderjson .string        { color: #fe46a5; }\n",
       ".renderjson .number        { color: #0f9b8e; }\n",
       ".renderjson .boolean       { color: black; }\n",
       ".renderjson .key           { color: #2684ff; }\n",
       ".renderjson .keyword       { color: gray; }\n",
       ".renderjson .object.syntax { color: gray; }\n",
       ".renderjson .array.syntax  { color: gray; }</style><div id=\"03a4eb00-ecd7-4891-a309-a6899f3750cc\"></div>"
      ],
      "text/plain": [
       "<IPython.core.display.HTML object>"
      ]
     },
     "metadata": {},
     "output_type": "display_data"
    },
    {
     "data": {
      "text/html": [
       "<script>var renderjson=function(){var t=function(){for(var t=[];arguments.length;)t.push(n(s(Array.prototype.shift.call(arguments)),o(Array.prototype.shift.call(arguments))));return t},n=function(){for(var t=Array.prototype.shift.call(arguments),e=0;e<arguments.length;e++)arguments[e].constructor==Array?n.apply(this,[t].concat(arguments[e])):t.appendChild(arguments[e]);return t},e=function(t,n){return t.insertBefore(n,t.firstChild),t},r=function(t,n){var e=n||Object.keys(t);for(var r in e)if(Object.hasOwnProperty.call(t,e[r]))return!1;return!0},o=function(t){return document.createTextNode(t)},s=function(t){var n=document.createElement(\"span\");return t&&(n.className=t),n},l=function(t,n,e){var r=document.createElement(\"a\");return n&&(r.className=n),r.appendChild(o(t)),r.href=\"#\",r.onclick=function(t){return e(),t&&t.stopPropagation(),!1},r};function a(i,c,u,p,y){var _=u?\"\":c,f=function(r,a,i,c,u){var f,g=s(c),h=function(){f||n(g.parentNode,f=e(u(),l(y.hide,\"disclosure\",(function(){f.style.display=\"none\",g.style.display=\"inline\"})))),f.style.display=\"inline\",g.style.display=\"none\"};n(g,l(y.show,\"disclosure\",h),t(c+\" syntax\",r),l(a,null,h),t(c+\" syntax\",i));var d=n(s(),o(_.slice(0,-1)),g);return p>0&&\"string\"!=c&&h(),d};return null===i?t(null,_,\"keyword\",\"null\"):void 0===i?t(null,_,\"keyword\",\"undefined\"):\"string\"==typeof i&&i.length>y.max_string_length?f('\"',i.substr(0,y.max_string_length)+\" ...\",'\"',\"string\",(function(){return n(s(\"string\"),t(null,_,\"string\",JSON.stringify(i)))})):\"object\"!=typeof i||[Number,String,Boolean,Date].indexOf(i.constructor)>=0?t(null,_,typeof i,JSON.stringify(i)):i.constructor==Array?0==i.length?t(null,_,\"array syntax\",\"[]\"):f(\"[\",y.collapse_msg(i.length),\"]\",\"array\",(function(){for(var e=n(s(\"array\"),t(\"array syntax\",\"[\",null,\"\\n\")),r=0;r<i.length;r++)n(e,a(y.replacer.call(i,r,i[r]),c+\"    \",!1,p-1,y),r!=i.length-1?t(\"syntax\",\",\"):[],o(\"\\n\"));return n(e,t(null,c,\"array syntax\",\"]\")),e})):r(i,y.property_list)?t(null,_,\"object syntax\",\"{}\"):f(\"{\",y.collapse_msg(Object.keys(i).length),\"}\",\"object\",(function(){var e=n(s(\"object\"),t(\"object syntax\",\"{\",null,\"\\n\"));for(var r in i)var l=r;var u=y.property_list||Object.keys(i);for(var _ in y.sort_objects&&(u=u.sort()),u){(r=u[_])in i&&n(e,t(null,c+\"    \",\"key\",'\"'+r+'\"',\"object syntax\",\": \"),a(y.replacer.call(i,r,i[r]),c+\"    \",!0,p-1,y),r!=l?t(\"syntax\",\",\"):[],o(\"\\n\"))}return n(e,t(null,c,\"object syntax\",\"}\")),e}))}var i=function t(e){var r=new Object(t.options);r.replacer=\"function\"==typeof r.replacer?r.replacer:function(t,n){return n};var o=n(document.createElement(\"pre\"),a(e,\"\",!1,r.show_to_level,r));return o.className=\"renderjson\",o};return i.set_icons=function(t,n){return i.options.show=t,i.options.hide=n,i},i.set_show_to_level=function(t){return i.options.show_to_level=\"string\"==typeof t&&\"all\"===t.toLowerCase()?Number.MAX_VALUE:t,i},i.set_max_string_length=function(t){return i.options.max_string_length=\"string\"==typeof t&&\"none\"===t.toLowerCase()?Number.MAX_VALUE:t,i},i.set_sort_objects=function(t){return i.options.sort_objects=t,i},i.set_replacer=function(t){return i.options.replacer=t,i},i.set_collapse_msg=function(t){return i.options.collapse_msg=t,i},i.set_property_list=function(t){return i.options.property_list=t,i},i.set_show_by_default=function(t){return i.options.show_to_level=t?Number.MAX_VALUE:0,i},i.options={},i.set_icons(\"⊕\",\"⊖\"),i.set_show_by_default(!1),i.set_sort_objects(!1),i.set_max_string_length(\"none\"),i.set_replacer(void 0),i.set_property_list(void 0),i.set_collapse_msg((function(t){return t+\" item\"+(1==t?\"\":\"s\")})),i}(); renderjson.set_show_to_level(1); document.getElementById(\"03a4eb00-ecd7-4891-a309-a6899f3750cc\").appendChild(renderjson({\"attributes.colors\": [\"cyan\", \"pink\", \"purple\", \"grey\", \"brown\", \"red\", \"black\", \"blue\", \"orange\", \"beige\", \"yellow\", \"white\", \"green\"], \"attributes.position\": [\"front\", \"unknown\", \"side\", \"top\", \"back\"]}))</script>"
      ],
      "text/plain": [
       "<IPython.core.display.HTML object>"
      ]
     },
     "metadata": {},
     "output_type": "display_data"
    }
   ],
   "source": [
    "enums = get_enums(annotations_schema)\n",
    "# convert sets to list for json serialization\n",
    "mr.JSON({k: list(v) for k, v in enums.items()})"
   ]
  },
  {
   "cell_type": "markdown",
   "id": "03106ccb-0e67-42c6-9b45-766e11a7f4ee",
   "metadata": {},
   "source": [
    "In the following cells, we use the caipy loader with and without the default schema. Notice how in the the annotations data of image1, there is no \"position\" in the dictionary.\n",
    "\n",
    "If we load the caipy without schema, we can flatten the json data, thanks to [pandas.json_normalize](https://pandas.pydata.org/pandas-docs/stable/reference/api/pandas.json_normalize.html), but the missing data will be set to `None`, while it should be an empty list.\n",
    "\n",
    "Using the schema can help setting the right default value"
   ]
  },
  {
   "cell_type": "code",
   "execution_count": 8,
   "id": "ceab5df0-764a-4d36-8f31-31ba94492866",
   "metadata": {},
   "outputs": [
    {
     "data": {
      "text/html": [
       "<style>.renderjson a              { text-decoration: none; }\n",
       ".renderjson .disclosure    { color: grey; font-size: 125%; }\n",
       ".renderjson .syntax        { color: grey; }\n",
       ".renderjson .string        { color: #fe46a5; }\n",
       ".renderjson .number        { color: #0f9b8e; }\n",
       ".renderjson .boolean       { color: black; }\n",
       ".renderjson .key           { color: #2684ff; }\n",
       ".renderjson .keyword       { color: gray; }\n",
       ".renderjson .object.syntax { color: gray; }\n",
       ".renderjson .array.syntax  { color: gray; }</style><div id=\"84ecb21a-842c-4897-b6db-07bfb55693bc\"></div>"
      ],
      "text/plain": [
       "<IPython.core.display.HTML object>"
      ]
     },
     "metadata": {},
     "output_type": "display_data"
    },
    {
     "data": {
      "text/html": [
       "<script>var renderjson=function(){var t=function(){for(var t=[];arguments.length;)t.push(n(s(Array.prototype.shift.call(arguments)),o(Array.prototype.shift.call(arguments))));return t},n=function(){for(var t=Array.prototype.shift.call(arguments),e=0;e<arguments.length;e++)arguments[e].constructor==Array?n.apply(this,[t].concat(arguments[e])):t.appendChild(arguments[e]);return t},e=function(t,n){return t.insertBefore(n,t.firstChild),t},r=function(t,n){var e=n||Object.keys(t);for(var r in e)if(Object.hasOwnProperty.call(t,e[r]))return!1;return!0},o=function(t){return document.createTextNode(t)},s=function(t){var n=document.createElement(\"span\");return t&&(n.className=t),n},l=function(t,n,e){var r=document.createElement(\"a\");return n&&(r.className=n),r.appendChild(o(t)),r.href=\"#\",r.onclick=function(t){return e(),t&&t.stopPropagation(),!1},r};function a(i,c,u,p,y){var _=u?\"\":c,f=function(r,a,i,c,u){var f,g=s(c),h=function(){f||n(g.parentNode,f=e(u(),l(y.hide,\"disclosure\",(function(){f.style.display=\"none\",g.style.display=\"inline\"})))),f.style.display=\"inline\",g.style.display=\"none\"};n(g,l(y.show,\"disclosure\",h),t(c+\" syntax\",r),l(a,null,h),t(c+\" syntax\",i));var d=n(s(),o(_.slice(0,-1)),g);return p>0&&\"string\"!=c&&h(),d};return null===i?t(null,_,\"keyword\",\"null\"):void 0===i?t(null,_,\"keyword\",\"undefined\"):\"string\"==typeof i&&i.length>y.max_string_length?f('\"',i.substr(0,y.max_string_length)+\" ...\",'\"',\"string\",(function(){return n(s(\"string\"),t(null,_,\"string\",JSON.stringify(i)))})):\"object\"!=typeof i||[Number,String,Boolean,Date].indexOf(i.constructor)>=0?t(null,_,typeof i,JSON.stringify(i)):i.constructor==Array?0==i.length?t(null,_,\"array syntax\",\"[]\"):f(\"[\",y.collapse_msg(i.length),\"]\",\"array\",(function(){for(var e=n(s(\"array\"),t(\"array syntax\",\"[\",null,\"\\n\")),r=0;r<i.length;r++)n(e,a(y.replacer.call(i,r,i[r]),c+\"    \",!1,p-1,y),r!=i.length-1?t(\"syntax\",\",\"):[],o(\"\\n\"));return n(e,t(null,c,\"array syntax\",\"]\")),e})):r(i,y.property_list)?t(null,_,\"object syntax\",\"{}\"):f(\"{\",y.collapse_msg(Object.keys(i).length),\"}\",\"object\",(function(){var e=n(s(\"object\"),t(\"object syntax\",\"{\",null,\"\\n\"));for(var r in i)var l=r;var u=y.property_list||Object.keys(i);for(var _ in y.sort_objects&&(u=u.sort()),u){(r=u[_])in i&&n(e,t(null,c+\"    \",\"key\",'\"'+r+'\"',\"object syntax\",\": \"),a(y.replacer.call(i,r,i[r]),c+\"    \",!0,p-1,y),r!=l?t(\"syntax\",\",\"):[],o(\"\\n\"))}return n(e,t(null,c,\"object syntax\",\"}\")),e}))}var i=function t(e){var r=new Object(t.options);r.replacer=\"function\"==typeof r.replacer?r.replacer:function(t,n){return n};var o=n(document.createElement(\"pre\"),a(e,\"\",!1,r.show_to_level,r));return o.className=\"renderjson\",o};return i.set_icons=function(t,n){return i.options.show=t,i.options.hide=n,i},i.set_show_to_level=function(t){return i.options.show_to_level=\"string\"==typeof t&&\"all\"===t.toLowerCase()?Number.MAX_VALUE:t,i},i.set_max_string_length=function(t){return i.options.max_string_length=\"string\"==typeof t&&\"none\"===t.toLowerCase()?Number.MAX_VALUE:t,i},i.set_sort_objects=function(t){return i.options.sort_objects=t,i},i.set_replacer=function(t){return i.options.replacer=t,i},i.set_collapse_msg=function(t){return i.options.collapse_msg=t,i},i.set_property_list=function(t){return i.options.property_list=t,i},i.set_show_by_default=function(t){return i.options.show_to_level=t?Number.MAX_VALUE:0,i},i.options={},i.set_icons(\"⊕\",\"⊖\"),i.set_show_by_default(!1),i.set_sort_objects(!1),i.set_max_string_length(\"none\"),i.set_replacer(void 0),i.set_property_list(void 0),i.set_collapse_msg((function(t){return t+\" item\"+(1==t?\"\":\"s\")})),i}(); renderjson.set_show_to_level(1); document.getElementById(\"84ecb21a-842c-4897-b6db-07bfb55693bc\").appendChild(renderjson({\"area\": 46726.43029999999, \"category_str\": \"stop sign\", \"image_id\": 6091, \"bbox\": [100.22, 117.54, 253.43, 274.9], \"category_id\": 13, \"id\": 269791, \"attributes\": {\"colors\": [\"red\", \"white\"], \"occluded\": true}}))</script>"
      ],
      "text/plain": [
       "<IPython.core.display.HTML object>"
      ]
     },
     "metadata": {},
     "output_type": "display_data"
    },
    {
     "data": {
      "text/html": [
       "<style>.renderjson a              { text-decoration: none; }\n",
       ".renderjson .disclosure    { color: grey; font-size: 125%; }\n",
       ".renderjson .syntax        { color: grey; }\n",
       ".renderjson .string        { color: #fe46a5; }\n",
       ".renderjson .number        { color: #0f9b8e; }\n",
       ".renderjson .boolean       { color: black; }\n",
       ".renderjson .key           { color: #2684ff; }\n",
       ".renderjson .keyword       { color: gray; }\n",
       ".renderjson .object.syntax { color: gray; }\n",
       ".renderjson .array.syntax  { color: gray; }</style><div id=\"00b7a61c-b822-476c-90d2-f5d92c7bd1cb\"></div>"
      ],
      "text/plain": [
       "<IPython.core.display.HTML object>"
      ]
     },
     "metadata": {},
     "output_type": "display_data"
    },
    {
     "data": {
      "text/html": [
       "<script>var renderjson=function(){var t=function(){for(var t=[];arguments.length;)t.push(n(s(Array.prototype.shift.call(arguments)),o(Array.prototype.shift.call(arguments))));return t},n=function(){for(var t=Array.prototype.shift.call(arguments),e=0;e<arguments.length;e++)arguments[e].constructor==Array?n.apply(this,[t].concat(arguments[e])):t.appendChild(arguments[e]);return t},e=function(t,n){return t.insertBefore(n,t.firstChild),t},r=function(t,n){var e=n||Object.keys(t);for(var r in e)if(Object.hasOwnProperty.call(t,e[r]))return!1;return!0},o=function(t){return document.createTextNode(t)},s=function(t){var n=document.createElement(\"span\");return t&&(n.className=t),n},l=function(t,n,e){var r=document.createElement(\"a\");return n&&(r.className=n),r.appendChild(o(t)),r.href=\"#\",r.onclick=function(t){return e(),t&&t.stopPropagation(),!1},r};function a(i,c,u,p,y){var _=u?\"\":c,f=function(r,a,i,c,u){var f,g=s(c),h=function(){f||n(g.parentNode,f=e(u(),l(y.hide,\"disclosure\",(function(){f.style.display=\"none\",g.style.display=\"inline\"})))),f.style.display=\"inline\",g.style.display=\"none\"};n(g,l(y.show,\"disclosure\",h),t(c+\" syntax\",r),l(a,null,h),t(c+\" syntax\",i));var d=n(s(),o(_.slice(0,-1)),g);return p>0&&\"string\"!=c&&h(),d};return null===i?t(null,_,\"keyword\",\"null\"):void 0===i?t(null,_,\"keyword\",\"undefined\"):\"string\"==typeof i&&i.length>y.max_string_length?f('\"',i.substr(0,y.max_string_length)+\" ...\",'\"',\"string\",(function(){return n(s(\"string\"),t(null,_,\"string\",JSON.stringify(i)))})):\"object\"!=typeof i||[Number,String,Boolean,Date].indexOf(i.constructor)>=0?t(null,_,typeof i,JSON.stringify(i)):i.constructor==Array?0==i.length?t(null,_,\"array syntax\",\"[]\"):f(\"[\",y.collapse_msg(i.length),\"]\",\"array\",(function(){for(var e=n(s(\"array\"),t(\"array syntax\",\"[\",null,\"\\n\")),r=0;r<i.length;r++)n(e,a(y.replacer.call(i,r,i[r]),c+\"    \",!1,p-1,y),r!=i.length-1?t(\"syntax\",\",\"):[],o(\"\\n\"));return n(e,t(null,c,\"array syntax\",\"]\")),e})):r(i,y.property_list)?t(null,_,\"object syntax\",\"{}\"):f(\"{\",y.collapse_msg(Object.keys(i).length),\"}\",\"object\",(function(){var e=n(s(\"object\"),t(\"object syntax\",\"{\",null,\"\\n\"));for(var r in i)var l=r;var u=y.property_list||Object.keys(i);for(var _ in y.sort_objects&&(u=u.sort()),u){(r=u[_])in i&&n(e,t(null,c+\"    \",\"key\",'\"'+r+'\"',\"object syntax\",\": \"),a(y.replacer.call(i,r,i[r]),c+\"    \",!0,p-1,y),r!=l?t(\"syntax\",\",\"):[],o(\"\\n\"))}return n(e,t(null,c,\"object syntax\",\"}\")),e}))}var i=function t(e){var r=new Object(t.options);r.replacer=\"function\"==typeof r.replacer?r.replacer:function(t,n){return n};var o=n(document.createElement(\"pre\"),a(e,\"\",!1,r.show_to_level,r));return o.className=\"renderjson\",o};return i.set_icons=function(t,n){return i.options.show=t,i.options.hide=n,i},i.set_show_to_level=function(t){return i.options.show_to_level=\"string\"==typeof t&&\"all\"===t.toLowerCase()?Number.MAX_VALUE:t,i},i.set_max_string_length=function(t){return i.options.max_string_length=\"string\"==typeof t&&\"none\"===t.toLowerCase()?Number.MAX_VALUE:t,i},i.set_sort_objects=function(t){return i.options.sort_objects=t,i},i.set_replacer=function(t){return i.options.replacer=t,i},i.set_collapse_msg=function(t){return i.options.collapse_msg=t,i},i.set_property_list=function(t){return i.options.property_list=t,i},i.set_show_by_default=function(t){return i.options.show_to_level=t?Number.MAX_VALUE:0,i},i.options={},i.set_icons(\"⊕\",\"⊖\"),i.set_show_by_default(!1),i.set_sort_objects(!1),i.set_max_string_length(\"none\"),i.set_replacer(void 0),i.set_property_list(void 0),i.set_collapse_msg((function(t){return t+\" item\"+(1==t?\"\":\"s\")})),i}(); renderjson.set_show_to_level(1); document.getElementById(\"00b7a61c-b822-476c-90d2-f5d92c7bd1cb\").appendChild(renderjson({\"area\": 84587.43910000003, \"category_str\": \"teddy bear\", \"image_id\": 10395, \"bbox\": [49.19, 66.2, 378.97, 379.68], \"category_id\": 88, \"id\": 1161234, \"attributes\": {\"colors\": [\"grey\"], \"position\": [\"front\"]}}))</script>"
      ],
      "text/plain": [
       "<IPython.core.display.HTML object>"
      ]
     },
     "metadata": {},
     "output_type": "display_data"
    }
   ],
   "source": [
    "from lours.dataset import from_caipy\n",
    "\n",
    "with open(\n",
    "    \"../../test_lours/test_data/caipy_dataset/tags/small_tagged_dataset/Annotations/image1.json\"\n",
    ") as f:\n",
    "    caipy_json = json.load(f)\n",
    "mr.JSON(caipy_json[\"annotations\"][0])\n",
    "with open(\n",
    "    \"../../test_lours/test_data/caipy_dataset/tags/small_tagged_dataset/Annotations/image2.json\"\n",
    ") as f:\n",
    "    caipy_json = json.load(f)\n",
    "mr.JSON(caipy_json[\"annotations\"][0])"
   ]
  },
  {
   "cell_type": "code",
   "execution_count": 9,
   "id": "6327eb19-c223-4751-9c6b-97359bbffad2",
   "metadata": {},
   "outputs": [
    {
     "data": {
      "application/vnd.jupyter.widget-view+json": {
       "model_id": "88a37355f05b4ef3b974f68388ddd16d",
       "version_major": 2,
       "version_minor": 0
      },
      "text/plain": [
       "  0%|          | 0/2 [00:00<?, ?it/s]"
      ]
     },
     "metadata": {},
     "output_type": "display_data"
    },
    {
     "data": {
      "application/vnd.jupyter.widget-view+json": {
       "model_id": "6c24e12e64e14b009abe66f9a3fd0ff0",
       "version_major": 2,
       "version_minor": 0
      },
      "text/plain": [
       "  0%|          | 0/2 [00:00<?, ?it/s]"
      ]
     },
     "metadata": {},
     "output_type": "display_data"
    }
   ],
   "source": [
    "no_schema_dataset = from_caipy(\n",
    "    \"../../test_lours/test_data/caipy_dataset/tags/small_tagged_dataset/\",\n",
    "    use_schema=False,\n",
    ")\n",
    "\n",
    "schema_dataset = from_caipy(\n",
    "    \"../../test_lours/test_data/caipy_dataset/tags/small_tagged_dataset/\",\n",
    "    use_schema=True,\n",
    "    booleanize=False,\n",
    ")"
   ]
  },
  {
   "cell_type": "code",
   "execution_count": 10,
   "id": "a66b5960-d5fd-40ba-887d-b515df437ae8",
   "metadata": {},
   "outputs": [
    {
     "data": {
      "text/html": [
       "<div>\n",
       "<style scoped>\n",
       "    .dataframe tbody tr th:only-of-type {\n",
       "        vertical-align: middle;\n",
       "    }\n",
       "\n",
       "    .dataframe tbody tr th {\n",
       "        vertical-align: top;\n",
       "    }\n",
       "\n",
       "    .dataframe thead th {\n",
       "        text-align: right;\n",
       "    }\n",
       "</style>\n",
       "<table border=\"1\" class=\"dataframe\">\n",
       "  <thead>\n",
       "    <tr style=\"text-align: right;\">\n",
       "      <th></th>\n",
       "      <th>image_id</th>\n",
       "      <th>category_str</th>\n",
       "      <th>category_id</th>\n",
       "      <th>box_x_min</th>\n",
       "      <th>box_y_min</th>\n",
       "      <th>box_width</th>\n",
       "      <th>box_height</th>\n",
       "      <th>area</th>\n",
       "      <th>attributes.colors</th>\n",
       "      <th>attributes.occluded</th>\n",
       "      <th>attributes.position</th>\n",
       "    </tr>\n",
       "    <tr>\n",
       "      <th>id</th>\n",
       "      <th></th>\n",
       "      <th></th>\n",
       "      <th></th>\n",
       "      <th></th>\n",
       "      <th></th>\n",
       "      <th></th>\n",
       "      <th></th>\n",
       "      <th></th>\n",
       "      <th></th>\n",
       "      <th></th>\n",
       "      <th></th>\n",
       "    </tr>\n",
       "  </thead>\n",
       "  <tbody>\n",
       "    <tr>\n",
       "      <th>269791</th>\n",
       "      <td>6091</td>\n",
       "      <td>stop sign</td>\n",
       "      <td>13</td>\n",
       "      <td>100.22</td>\n",
       "      <td>117.54</td>\n",
       "      <td>253.43</td>\n",
       "      <td>274.90</td>\n",
       "      <td>46726.4303</td>\n",
       "      <td>[red, white]</td>\n",
       "      <td>True</td>\n",
       "      <td>None</td>\n",
       "    </tr>\n",
       "    <tr>\n",
       "      <th>1161234</th>\n",
       "      <td>10395</td>\n",
       "      <td>teddy bear</td>\n",
       "      <td>88</td>\n",
       "      <td>49.19</td>\n",
       "      <td>66.20</td>\n",
       "      <td>378.97</td>\n",
       "      <td>379.68</td>\n",
       "      <td>84587.4391</td>\n",
       "      <td>[grey]</td>\n",
       "      <td>None</td>\n",
       "      <td>[front]</td>\n",
       "    </tr>\n",
       "  </tbody>\n",
       "</table>\n",
       "</div>"
      ],
      "text/plain": [
       "         image_id category_str  category_id  box_x_min  box_y_min  box_width  \\\n",
       "id                                                                             \n",
       "269791       6091    stop sign           13     100.22     117.54     253.43   \n",
       "1161234     10395   teddy bear           88      49.19      66.20     378.97   \n",
       "\n",
       "         box_height        area attributes.colors attributes.occluded  \\\n",
       "id                                                                      \n",
       "269791       274.90  46726.4303      [red, white]                True   \n",
       "1161234      379.68  84587.4391            [grey]                None   \n",
       "\n",
       "        attributes.position  \n",
       "id                           \n",
       "269791                 None  \n",
       "1161234             [front]  "
      ]
     },
     "execution_count": 10,
     "metadata": {},
     "output_type": "execute_result"
    }
   ],
   "source": [
    "no_schema_dataset.annotations"
   ]
  },
  {
   "cell_type": "code",
   "execution_count": 11,
   "id": "52706cbc-3a74-476e-a1a7-fd4ddbee938e",
   "metadata": {},
   "outputs": [
    {
     "data": {
      "text/html": [
       "<div>\n",
       "<style scoped>\n",
       "    .dataframe tbody tr th:only-of-type {\n",
       "        vertical-align: middle;\n",
       "    }\n",
       "\n",
       "    .dataframe tbody tr th {\n",
       "        vertical-align: top;\n",
       "    }\n",
       "\n",
       "    .dataframe thead th {\n",
       "        text-align: right;\n",
       "    }\n",
       "</style>\n",
       "<table border=\"1\" class=\"dataframe\">\n",
       "  <thead>\n",
       "    <tr style=\"text-align: right;\">\n",
       "      <th></th>\n",
       "      <th>image_id</th>\n",
       "      <th>category_str</th>\n",
       "      <th>category_id</th>\n",
       "      <th>box_x_min</th>\n",
       "      <th>box_y_min</th>\n",
       "      <th>box_width</th>\n",
       "      <th>box_height</th>\n",
       "      <th>area</th>\n",
       "      <th>attributes.colors</th>\n",
       "      <th>attributes.occluded</th>\n",
       "      <th>attributes.position</th>\n",
       "    </tr>\n",
       "    <tr>\n",
       "      <th>id</th>\n",
       "      <th></th>\n",
       "      <th></th>\n",
       "      <th></th>\n",
       "      <th></th>\n",
       "      <th></th>\n",
       "      <th></th>\n",
       "      <th></th>\n",
       "      <th></th>\n",
       "      <th></th>\n",
       "      <th></th>\n",
       "      <th></th>\n",
       "    </tr>\n",
       "  </thead>\n",
       "  <tbody>\n",
       "    <tr>\n",
       "      <th>269791</th>\n",
       "      <td>6091</td>\n",
       "      <td>stop sign</td>\n",
       "      <td>13</td>\n",
       "      <td>100.22</td>\n",
       "      <td>117.54</td>\n",
       "      <td>253.43</td>\n",
       "      <td>274.90</td>\n",
       "      <td>46726.4303</td>\n",
       "      <td>[red, white]</td>\n",
       "      <td>True</td>\n",
       "      <td>[]</td>\n",
       "    </tr>\n",
       "    <tr>\n",
       "      <th>1161234</th>\n",
       "      <td>10395</td>\n",
       "      <td>teddy bear</td>\n",
       "      <td>88</td>\n",
       "      <td>49.19</td>\n",
       "      <td>66.20</td>\n",
       "      <td>378.97</td>\n",
       "      <td>379.68</td>\n",
       "      <td>84587.4391</td>\n",
       "      <td>[grey]</td>\n",
       "      <td>None</td>\n",
       "      <td>[front]</td>\n",
       "    </tr>\n",
       "  </tbody>\n",
       "</table>\n",
       "</div>"
      ],
      "text/plain": [
       "         image_id category_str  category_id  box_x_min  box_y_min  box_width  \\\n",
       "id                                                                             \n",
       "269791       6091    stop sign           13     100.22     117.54     253.43   \n",
       "1161234     10395   teddy bear           88      49.19      66.20     378.97   \n",
       "\n",
       "         box_height        area attributes.colors attributes.occluded  \\\n",
       "id                                                                      \n",
       "269791       274.90  46726.4303      [red, white]                True   \n",
       "1161234      379.68  84587.4391            [grey]                None   \n",
       "\n",
       "        attributes.position  \n",
       "id                           \n",
       "269791                   []  \n",
       "1161234             [front]  "
      ]
     },
     "execution_count": 11,
     "metadata": {},
     "output_type": "execute_result"
    }
   ],
   "source": [
    "schema_dataset.annotations"
   ]
  },
  {
   "cell_type": "markdown",
   "id": "c2acc4bb-0177-4a17-b858-f1259e7a5bb1",
   "metadata": {},
   "source": [
    "Note that thanks to schema tool `fill_with_default_value` we can put default values afterward."
   ]
  },
  {
   "cell_type": "code",
   "execution_count": 12,
   "id": "f75c7186-517b-4ac6-a862-82eca358c611",
   "metadata": {},
   "outputs": [
    {
     "data": {
      "text/html": [
       "<div>\n",
       "<style scoped>\n",
       "    .dataframe tbody tr th:only-of-type {\n",
       "        vertical-align: middle;\n",
       "    }\n",
       "\n",
       "    .dataframe tbody tr th {\n",
       "        vertical-align: top;\n",
       "    }\n",
       "\n",
       "    .dataframe thead th {\n",
       "        text-align: right;\n",
       "    }\n",
       "</style>\n",
       "<table border=\"1\" class=\"dataframe\">\n",
       "  <thead>\n",
       "    <tr style=\"text-align: right;\">\n",
       "      <th></th>\n",
       "      <th>image_id</th>\n",
       "      <th>category_str</th>\n",
       "      <th>category_id</th>\n",
       "      <th>box_x_min</th>\n",
       "      <th>box_y_min</th>\n",
       "      <th>box_width</th>\n",
       "      <th>box_height</th>\n",
       "      <th>area</th>\n",
       "      <th>attributes.colors</th>\n",
       "      <th>attributes.occluded</th>\n",
       "      <th>attributes.position</th>\n",
       "    </tr>\n",
       "    <tr>\n",
       "      <th>id</th>\n",
       "      <th></th>\n",
       "      <th></th>\n",
       "      <th></th>\n",
       "      <th></th>\n",
       "      <th></th>\n",
       "      <th></th>\n",
       "      <th></th>\n",
       "      <th></th>\n",
       "      <th></th>\n",
       "      <th></th>\n",
       "      <th></th>\n",
       "    </tr>\n",
       "  </thead>\n",
       "  <tbody>\n",
       "    <tr>\n",
       "      <th>269791</th>\n",
       "      <td>6091</td>\n",
       "      <td>stop sign</td>\n",
       "      <td>13</td>\n",
       "      <td>100.22</td>\n",
       "      <td>117.54</td>\n",
       "      <td>253.43</td>\n",
       "      <td>274.90</td>\n",
       "      <td>46726.4303</td>\n",
       "      <td>[red, white]</td>\n",
       "      <td>True</td>\n",
       "      <td>[]</td>\n",
       "    </tr>\n",
       "    <tr>\n",
       "      <th>1161234</th>\n",
       "      <td>10395</td>\n",
       "      <td>teddy bear</td>\n",
       "      <td>88</td>\n",
       "      <td>49.19</td>\n",
       "      <td>66.20</td>\n",
       "      <td>378.97</td>\n",
       "      <td>379.68</td>\n",
       "      <td>84587.4391</td>\n",
       "      <td>[grey]</td>\n",
       "      <td>None</td>\n",
       "      <td>[front]</td>\n",
       "    </tr>\n",
       "  </tbody>\n",
       "</table>\n",
       "</div>"
      ],
      "text/plain": [
       "         image_id category_str  category_id  box_x_min  box_y_min  box_width  \\\n",
       "id                                                                             \n",
       "269791       6091    stop sign           13     100.22     117.54     253.43   \n",
       "1161234     10395   teddy bear           88      49.19      66.20     378.97   \n",
       "\n",
       "         box_height        area attributes.colors attributes.occluded  \\\n",
       "id                                                                      \n",
       "269791       274.90  46726.4303      [red, white]                True   \n",
       "1161234      379.68  84587.4391            [grey]                None   \n",
       "\n",
       "        attributes.position  \n",
       "id                           \n",
       "269791                   []  \n",
       "1161234             [front]  "
      ]
     },
     "execution_count": 12,
     "metadata": {},
     "output_type": "execute_result"
    }
   ],
   "source": [
    "fill_with_dtypes_and_default_value(annotations_schema, schema_dataset.annotations)"
   ]
  },
  {
   "cell_type": "markdown",
   "id": "aaaca254-e00a-4d32-b394-0a679bf9602d",
   "metadata": {},
   "source": [
    "### From dataframe to nested json\n",
    "\n",
    "Once you have manipulated your dataset you can then re-save it according to the schema."
   ]
  },
  {
   "cell_type": "code",
   "execution_count": 13,
   "id": "7a889e81-3fd6-4fb5-885c-356be2a82803",
   "metadata": {},
   "outputs": [
    {
     "data": {
      "text/html": [
       "<style>.renderjson a              { text-decoration: none; }\n",
       ".renderjson .disclosure    { color: grey; font-size: 125%; }\n",
       ".renderjson .syntax        { color: grey; }\n",
       ".renderjson .string        { color: #fe46a5; }\n",
       ".renderjson .number        { color: #0f9b8e; }\n",
       ".renderjson .boolean       { color: black; }\n",
       ".renderjson .key           { color: #2684ff; }\n",
       ".renderjson .keyword       { color: gray; }\n",
       ".renderjson .object.syntax { color: gray; }\n",
       ".renderjson .array.syntax  { color: gray; }</style><div id=\"94c642e7-3283-44b5-8d7b-bfaa54dee579\"></div>"
      ],
      "text/plain": [
       "<IPython.core.display.HTML object>"
      ]
     },
     "metadata": {},
     "output_type": "display_data"
    },
    {
     "data": {
      "text/html": [
       "<script>var renderjson=function(){var t=function(){for(var t=[];arguments.length;)t.push(n(s(Array.prototype.shift.call(arguments)),o(Array.prototype.shift.call(arguments))));return t},n=function(){for(var t=Array.prototype.shift.call(arguments),e=0;e<arguments.length;e++)arguments[e].constructor==Array?n.apply(this,[t].concat(arguments[e])):t.appendChild(arguments[e]);return t},e=function(t,n){return t.insertBefore(n,t.firstChild),t},r=function(t,n){var e=n||Object.keys(t);for(var r in e)if(Object.hasOwnProperty.call(t,e[r]))return!1;return!0},o=function(t){return document.createTextNode(t)},s=function(t){var n=document.createElement(\"span\");return t&&(n.className=t),n},l=function(t,n,e){var r=document.createElement(\"a\");return n&&(r.className=n),r.appendChild(o(t)),r.href=\"#\",r.onclick=function(t){return e(),t&&t.stopPropagation(),!1},r};function a(i,c,u,p,y){var _=u?\"\":c,f=function(r,a,i,c,u){var f,g=s(c),h=function(){f||n(g.parentNode,f=e(u(),l(y.hide,\"disclosure\",(function(){f.style.display=\"none\",g.style.display=\"inline\"})))),f.style.display=\"inline\",g.style.display=\"none\"};n(g,l(y.show,\"disclosure\",h),t(c+\" syntax\",r),l(a,null,h),t(c+\" syntax\",i));var d=n(s(),o(_.slice(0,-1)),g);return p>0&&\"string\"!=c&&h(),d};return null===i?t(null,_,\"keyword\",\"null\"):void 0===i?t(null,_,\"keyword\",\"undefined\"):\"string\"==typeof i&&i.length>y.max_string_length?f('\"',i.substr(0,y.max_string_length)+\" ...\",'\"',\"string\",(function(){return n(s(\"string\"),t(null,_,\"string\",JSON.stringify(i)))})):\"object\"!=typeof i||[Number,String,Boolean,Date].indexOf(i.constructor)>=0?t(null,_,typeof i,JSON.stringify(i)):i.constructor==Array?0==i.length?t(null,_,\"array syntax\",\"[]\"):f(\"[\",y.collapse_msg(i.length),\"]\",\"array\",(function(){for(var e=n(s(\"array\"),t(\"array syntax\",\"[\",null,\"\\n\")),r=0;r<i.length;r++)n(e,a(y.replacer.call(i,r,i[r]),c+\"    \",!1,p-1,y),r!=i.length-1?t(\"syntax\",\",\"):[],o(\"\\n\"));return n(e,t(null,c,\"array syntax\",\"]\")),e})):r(i,y.property_list)?t(null,_,\"object syntax\",\"{}\"):f(\"{\",y.collapse_msg(Object.keys(i).length),\"}\",\"object\",(function(){var e=n(s(\"object\"),t(\"object syntax\",\"{\",null,\"\\n\"));for(var r in i)var l=r;var u=y.property_list||Object.keys(i);for(var _ in y.sort_objects&&(u=u.sort()),u){(r=u[_])in i&&n(e,t(null,c+\"    \",\"key\",'\"'+r+'\"',\"object syntax\",\": \"),a(y.replacer.call(i,r,i[r]),c+\"    \",!0,p-1,y),r!=l?t(\"syntax\",\",\"):[],o(\"\\n\"))}return n(e,t(null,c,\"object syntax\",\"}\")),e}))}var i=function t(e){var r=new Object(t.options);r.replacer=\"function\"==typeof r.replacer?r.replacer:function(t,n){return n};var o=n(document.createElement(\"pre\"),a(e,\"\",!1,r.show_to_level,r));return o.className=\"renderjson\",o};return i.set_icons=function(t,n){return i.options.show=t,i.options.hide=n,i},i.set_show_to_level=function(t){return i.options.show_to_level=\"string\"==typeof t&&\"all\"===t.toLowerCase()?Number.MAX_VALUE:t,i},i.set_max_string_length=function(t){return i.options.max_string_length=\"string\"==typeof t&&\"none\"===t.toLowerCase()?Number.MAX_VALUE:t,i},i.set_sort_objects=function(t){return i.options.sort_objects=t,i},i.set_replacer=function(t){return i.options.replacer=t,i},i.set_collapse_msg=function(t){return i.options.collapse_msg=t,i},i.set_property_list=function(t){return i.options.property_list=t,i},i.set_show_by_default=function(t){return i.options.show_to_level=t?Number.MAX_VALUE:0,i},i.options={},i.set_icons(\"⊕\",\"⊖\"),i.set_show_by_default(!1),i.set_sort_objects(!1),i.set_max_string_length(\"none\"),i.set_replacer(void 0),i.set_property_list(void 0),i.set_collapse_msg((function(t){return t+\" item\"+(1==t?\"\":\"s\")})),i}(); renderjson.set_show_to_level(1); document.getElementById(\"94c642e7-3283-44b5-8d7b-bfaa54dee579\").appendChild(renderjson({\"image_id\": 6091, \"category_str\": \"stop sign\", \"category_id\": 13, \"box_x_min\": 100.22, \"box_y_min\": 117.54, \"box_width\": 253.43, \"box_height\": 274.9, \"area\": 46726.43029999999, \"attributes.colors\": [\"red\", \"white\"], \"attributes.occluded\": true, \"attributes.position\": []}))</script>"
      ],
      "text/plain": [
       "<IPython.core.display.HTML object>"
      ]
     },
     "metadata": {},
     "output_type": "display_data"
    },
    {
     "data": {
      "text/html": [
       "<style>.renderjson a              { text-decoration: none; }\n",
       ".renderjson .disclosure    { color: grey; font-size: 125%; }\n",
       ".renderjson .syntax        { color: grey; }\n",
       ".renderjson .string        { color: #fe46a5; }\n",
       ".renderjson .number        { color: #0f9b8e; }\n",
       ".renderjson .boolean       { color: black; }\n",
       ".renderjson .key           { color: #2684ff; }\n",
       ".renderjson .keyword       { color: gray; }\n",
       ".renderjson .object.syntax { color: gray; }\n",
       ".renderjson .array.syntax  { color: gray; }</style><div id=\"8184b0e8-75d1-40cb-bb6f-8122e3bd13c8\"></div>"
      ],
      "text/plain": [
       "<IPython.core.display.HTML object>"
      ]
     },
     "metadata": {},
     "output_type": "display_data"
    },
    {
     "data": {
      "text/html": [
       "<script>var renderjson=function(){var t=function(){for(var t=[];arguments.length;)t.push(n(s(Array.prototype.shift.call(arguments)),o(Array.prototype.shift.call(arguments))));return t},n=function(){for(var t=Array.prototype.shift.call(arguments),e=0;e<arguments.length;e++)arguments[e].constructor==Array?n.apply(this,[t].concat(arguments[e])):t.appendChild(arguments[e]);return t},e=function(t,n){return t.insertBefore(n,t.firstChild),t},r=function(t,n){var e=n||Object.keys(t);for(var r in e)if(Object.hasOwnProperty.call(t,e[r]))return!1;return!0},o=function(t){return document.createTextNode(t)},s=function(t){var n=document.createElement(\"span\");return t&&(n.className=t),n},l=function(t,n,e){var r=document.createElement(\"a\");return n&&(r.className=n),r.appendChild(o(t)),r.href=\"#\",r.onclick=function(t){return e(),t&&t.stopPropagation(),!1},r};function a(i,c,u,p,y){var _=u?\"\":c,f=function(r,a,i,c,u){var f,g=s(c),h=function(){f||n(g.parentNode,f=e(u(),l(y.hide,\"disclosure\",(function(){f.style.display=\"none\",g.style.display=\"inline\"})))),f.style.display=\"inline\",g.style.display=\"none\"};n(g,l(y.show,\"disclosure\",h),t(c+\" syntax\",r),l(a,null,h),t(c+\" syntax\",i));var d=n(s(),o(_.slice(0,-1)),g);return p>0&&\"string\"!=c&&h(),d};return null===i?t(null,_,\"keyword\",\"null\"):void 0===i?t(null,_,\"keyword\",\"undefined\"):\"string\"==typeof i&&i.length>y.max_string_length?f('\"',i.substr(0,y.max_string_length)+\" ...\",'\"',\"string\",(function(){return n(s(\"string\"),t(null,_,\"string\",JSON.stringify(i)))})):\"object\"!=typeof i||[Number,String,Boolean,Date].indexOf(i.constructor)>=0?t(null,_,typeof i,JSON.stringify(i)):i.constructor==Array?0==i.length?t(null,_,\"array syntax\",\"[]\"):f(\"[\",y.collapse_msg(i.length),\"]\",\"array\",(function(){for(var e=n(s(\"array\"),t(\"array syntax\",\"[\",null,\"\\n\")),r=0;r<i.length;r++)n(e,a(y.replacer.call(i,r,i[r]),c+\"    \",!1,p-1,y),r!=i.length-1?t(\"syntax\",\",\"):[],o(\"\\n\"));return n(e,t(null,c,\"array syntax\",\"]\")),e})):r(i,y.property_list)?t(null,_,\"object syntax\",\"{}\"):f(\"{\",y.collapse_msg(Object.keys(i).length),\"}\",\"object\",(function(){var e=n(s(\"object\"),t(\"object syntax\",\"{\",null,\"\\n\"));for(var r in i)var l=r;var u=y.property_list||Object.keys(i);for(var _ in y.sort_objects&&(u=u.sort()),u){(r=u[_])in i&&n(e,t(null,c+\"    \",\"key\",'\"'+r+'\"',\"object syntax\",\": \"),a(y.replacer.call(i,r,i[r]),c+\"    \",!0,p-1,y),r!=l?t(\"syntax\",\",\"):[],o(\"\\n\"))}return n(e,t(null,c,\"object syntax\",\"}\")),e}))}var i=function t(e){var r=new Object(t.options);r.replacer=\"function\"==typeof r.replacer?r.replacer:function(t,n){return n};var o=n(document.createElement(\"pre\"),a(e,\"\",!1,r.show_to_level,r));return o.className=\"renderjson\",o};return i.set_icons=function(t,n){return i.options.show=t,i.options.hide=n,i},i.set_show_to_level=function(t){return i.options.show_to_level=\"string\"==typeof t&&\"all\"===t.toLowerCase()?Number.MAX_VALUE:t,i},i.set_max_string_length=function(t){return i.options.max_string_length=\"string\"==typeof t&&\"none\"===t.toLowerCase()?Number.MAX_VALUE:t,i},i.set_sort_objects=function(t){return i.options.sort_objects=t,i},i.set_replacer=function(t){return i.options.replacer=t,i},i.set_collapse_msg=function(t){return i.options.collapse_msg=t,i},i.set_property_list=function(t){return i.options.property_list=t,i},i.set_show_by_default=function(t){return i.options.show_to_level=t?Number.MAX_VALUE:0,i},i.options={},i.set_icons(\"⊕\",\"⊖\"),i.set_show_by_default(!1),i.set_sort_objects(!1),i.set_max_string_length(\"none\"),i.set_replacer(void 0),i.set_property_list(void 0),i.set_collapse_msg((function(t){return t+\" item\"+(1==t?\"\":\"s\")})),i}(); renderjson.set_show_to_level(1); document.getElementById(\"8184b0e8-75d1-40cb-bb6f-8122e3bd13c8\").appendChild(renderjson({\"category_id\": 13, \"category_str\": \"stop sign\", \"attributes\": {\"colors\": [\"red\", \"white\"], \"occluded\": true}}))</script>"
      ],
      "text/plain": [
       "<IPython.core.display.HTML object>"
      ]
     },
     "metadata": {},
     "output_type": "display_data"
    }
   ],
   "source": [
    "from lours.dataset.io.schema_util import remap_dict\n",
    "\n",
    "flat_dict = schema_dataset.annotations.iloc[0].to_dict()\n",
    "mr.JSON(flat_dict)\n",
    "\n",
    "nested_dict = remap_dict(flat_dict, get_remapping_dict_from_schema(annotations_schema))\n",
    "mr.JSON(nested_dict)"
   ]
  },
  {
   "cell_type": "markdown",
   "id": "0f54b8a1-94b1-40c6-93b1-4ae2cca0ec52",
   "metadata": {},
   "source": [
    "## Using a custom schema"
   ]
  },
  {
   "cell_type": "markdown",
   "id": "582e7e7d-685b-42e2-b0e5-6f29e715a3ce",
   "metadata": {},
   "source": [
    "If you have custom data that you want to work with, you can give your own json schema instead of the ones provided by the official package.\n",
    "\n",
    "The given schema to `from_caipy` and `from_caipy_generic` can be either a path to a json or directly a dictionary.\n",
    "\n",
    "In the following schema, the value \"turquoise\" is now considered as a valid value in image's spectrum. Also, the possible values for list items for annotations colors (`annotation[\"attributes\"][\"colors\"]`) and annotations actions (`annotations[\"attributes\"][\"actions\"]`) and reduced to only 2 possible items each. Respectively \"blue\" and \"white\" for colors, and \"sitting\" and \"laying\" for actions.\n"
   ]
  },
  {
   "cell_type": "code",
   "execution_count": 14,
   "id": "558af890-daf3-4054-8bf5-465bcb40c2ff",
   "metadata": {},
   "outputs": [
    {
     "data": {
      "text/html": [
       "<style>.renderjson a              { text-decoration: none; }\n",
       ".renderjson .disclosure    { color: grey; font-size: 125%; }\n",
       ".renderjson .syntax        { color: grey; }\n",
       ".renderjson .string        { color: #fe46a5; }\n",
       ".renderjson .number        { color: #0f9b8e; }\n",
       ".renderjson .boolean       { color: black; }\n",
       ".renderjson .key           { color: #2684ff; }\n",
       ".renderjson .keyword       { color: gray; }\n",
       ".renderjson .object.syntax { color: gray; }\n",
       ".renderjson .array.syntax  { color: gray; }</style><div id=\"3c111f0f-8fad-4327-9905-c5b1e0b533ae\"></div>"
      ],
      "text/plain": [
       "<IPython.core.display.HTML object>"
      ]
     },
     "metadata": {},
     "output_type": "display_data"
    },
    {
     "data": {
      "text/html": [
       "<script>var renderjson=function(){var t=function(){for(var t=[];arguments.length;)t.push(n(s(Array.prototype.shift.call(arguments)),o(Array.prototype.shift.call(arguments))));return t},n=function(){for(var t=Array.prototype.shift.call(arguments),e=0;e<arguments.length;e++)arguments[e].constructor==Array?n.apply(this,[t].concat(arguments[e])):t.appendChild(arguments[e]);return t},e=function(t,n){return t.insertBefore(n,t.firstChild),t},r=function(t,n){var e=n||Object.keys(t);for(var r in e)if(Object.hasOwnProperty.call(t,e[r]))return!1;return!0},o=function(t){return document.createTextNode(t)},s=function(t){var n=document.createElement(\"span\");return t&&(n.className=t),n},l=function(t,n,e){var r=document.createElement(\"a\");return n&&(r.className=n),r.appendChild(o(t)),r.href=\"#\",r.onclick=function(t){return e(),t&&t.stopPropagation(),!1},r};function a(i,c,u,p,y){var _=u?\"\":c,f=function(r,a,i,c,u){var f,g=s(c),h=function(){f||n(g.parentNode,f=e(u(),l(y.hide,\"disclosure\",(function(){f.style.display=\"none\",g.style.display=\"inline\"})))),f.style.display=\"inline\",g.style.display=\"none\"};n(g,l(y.show,\"disclosure\",h),t(c+\" syntax\",r),l(a,null,h),t(c+\" syntax\",i));var d=n(s(),o(_.slice(0,-1)),g);return p>0&&\"string\"!=c&&h(),d};return null===i?t(null,_,\"keyword\",\"null\"):void 0===i?t(null,_,\"keyword\",\"undefined\"):\"string\"==typeof i&&i.length>y.max_string_length?f('\"',i.substr(0,y.max_string_length)+\" ...\",'\"',\"string\",(function(){return n(s(\"string\"),t(null,_,\"string\",JSON.stringify(i)))})):\"object\"!=typeof i||[Number,String,Boolean,Date].indexOf(i.constructor)>=0?t(null,_,typeof i,JSON.stringify(i)):i.constructor==Array?0==i.length?t(null,_,\"array syntax\",\"[]\"):f(\"[\",y.collapse_msg(i.length),\"]\",\"array\",(function(){for(var e=n(s(\"array\"),t(\"array syntax\",\"[\",null,\"\\n\")),r=0;r<i.length;r++)n(e,a(y.replacer.call(i,r,i[r]),c+\"    \",!1,p-1,y),r!=i.length-1?t(\"syntax\",\",\"):[],o(\"\\n\"));return n(e,t(null,c,\"array syntax\",\"]\")),e})):r(i,y.property_list)?t(null,_,\"object syntax\",\"{}\"):f(\"{\",y.collapse_msg(Object.keys(i).length),\"}\",\"object\",(function(){var e=n(s(\"object\"),t(\"object syntax\",\"{\",null,\"\\n\"));for(var r in i)var l=r;var u=y.property_list||Object.keys(i);for(var _ in y.sort_objects&&(u=u.sort()),u){(r=u[_])in i&&n(e,t(null,c+\"    \",\"key\",'\"'+r+'\"',\"object syntax\",\": \"),a(y.replacer.call(i,r,i[r]),c+\"    \",!0,p-1,y),r!=l?t(\"syntax\",\",\"):[],o(\"\\n\"))}return n(e,t(null,c,\"object syntax\",\"}\")),e}))}var i=function t(e){var r=new Object(t.options);r.replacer=\"function\"==typeof r.replacer?r.replacer:function(t,n){return n};var o=n(document.createElement(\"pre\"),a(e,\"\",!1,r.show_to_level,r));return o.className=\"renderjson\",o};return i.set_icons=function(t,n){return i.options.show=t,i.options.hide=n,i},i.set_show_to_level=function(t){return i.options.show_to_level=\"string\"==typeof t&&\"all\"===t.toLowerCase()?Number.MAX_VALUE:t,i},i.set_max_string_length=function(t){return i.options.max_string_length=\"string\"==typeof t&&\"none\"===t.toLowerCase()?Number.MAX_VALUE:t,i},i.set_sort_objects=function(t){return i.options.sort_objects=t,i},i.set_replacer=function(t){return i.options.replacer=t,i},i.set_collapse_msg=function(t){return i.options.collapse_msg=t,i},i.set_property_list=function(t){return i.options.property_list=t,i},i.set_show_by_default=function(t){return i.options.show_to_level=t?Number.MAX_VALUE:0,i},i.options={},i.set_icons(\"⊕\",\"⊖\"),i.set_show_by_default(!1),i.set_sort_objects(!1),i.set_max_string_length(\"none\"),i.set_replacer(void 0),i.set_property_list(void 0),i.set_collapse_msg((function(t){return t+\" item\"+(1==t?\"\":\"s\")})),i}(); renderjson.set_show_to_level(1); document.getElementById(\"3c111f0f-8fad-4327-9905-c5b1e0b533ae\").appendChild(renderjson({\"$schema\": \"http://json-schema.org/draft-07/schema#\", \"$id\": \"https://github.com/XXII-AI/Lours\", \"type\": \"object\", \"properties\": {\"image\": {\"type\": \"object\", \"properties\": {\"file_name\": {\"type\": \"string\"}, \"id\": {\"type\": \"integer\", \"minimum\": 0}, \"width\": {\"type\": \"integer\", \"minimum\": 0}, \"height\": {\"type\": \"integer\", \"minimum\": 0}, \"tags\": {\"type\": \"object\", \"properties\": {\"time\": {\"enum\": [\"day\", \"night\"]}, \"weather\": {\"enum\": [\"rainy\", \"sunny\", \"snowy\", \"foggy\", \"cloudy\", \"clear\"]}}}}, \"required\": [\"file_name\", \"id\", \"width\", \"height\"]}, \"annotations\": {\"type\": \"array\", \"items\": {\"type\": \"object\", \"properties\": {\"id\": {\"type\": \"integer\", \"minimum\": 0}, \"parent_id\": {\"type\": \"integer\", \"minimum\": 0}, \"children_ids\": {\"type\": \"array\", \"items\": {\"type\": \"integer\", \"minimum\": 0}, \"uniqueItems\": true}, \"tracking_id\": {\"type\": \"integer\", \"minimum\": 0}, \"category_id\": {\"type\": \"integer\", \"minimum\": 0}, \"category_str\": {\"type\": \"string\"}, \"confidence\": {\"type\": \"number\", \"minimum\": 0, \"maximum\": 1}, \"bbox\": {\"type\": \"array\", \"items\": {\"type\": \"number\", \"minimum\": 0}, \"minItems\": 2, \"maxItems\": 4}, \"attributes\": {\"type\": \"object\", \"properties\": {\"colors\": {\"type\": \"array\", \"items\": {\"enum\": [\"red\", \"green\", \"yellow\", \"blue\", \"black\", \"orange\", \"purple\", \"grey\", \"brown\", \"pink\", \"beige\", \"cyan\", \"turquoise\"]}, \"uniqueItems\": true}, \"position\": {\"type\": \"array\", \"items\": {\"enum\": [\"side\", \"front\", \"top\", \"back\", \"unknown\"]}, \"uniqueItems\": true}, \"occluded\": {\"type\": \"boolean\"}}}}, \"required\": [\"id\", \"category_id\", \"bbox\"]}}}}))</script>"
      ],
      "text/plain": [
       "<IPython.core.display.HTML object>"
      ]
     },
     "metadata": {},
     "output_type": "display_data"
    }
   ],
   "source": [
    "with open(\"../../test_lours/test_data/caipy_dataset/tags/custom_schema.json\") as f:\n",
    "    custom_schema = json.load(f)\n",
    "\n",
    "mr.JSON(custom_schema)"
   ]
  },
  {
   "cell_type": "code",
   "execution_count": 15,
   "id": "8204ae39-103e-444d-a18c-86dd285feb3f",
   "metadata": {},
   "outputs": [],
   "source": [
    "from lours.dataset import from_caipy_generic"
   ]
  },
  {
   "cell_type": "markdown",
   "id": "880ad091-ffee-477c-a539-c15934925a44",
   "metadata": {},
   "source": [
    "As mentioned above, this cell will fail because by default caipy expects the CA-V5.b schema"
   ]
  },
  {
   "cell_type": "code",
   "execution_count": 16,
   "id": "76b8077b-8506-40c6-92f0-74bf58156d17",
   "metadata": {
    "tags": [
     "raises-exception"
    ]
   },
   "outputs": [
    {
     "name": "stdout",
     "output_type": "stream",
     "text": [
      "specifying a fictive path for images : ../../test_lours/test_data/caipy_dataset/tags/Images\n"
     ]
    },
    {
     "data": {
      "application/vnd.jupyter.widget-view+json": {
       "model_id": "cd6e10c8d20b4caf97173220374c6f9e",
       "version_major": 2,
       "version_minor": 0
      },
      "text/plain": [
       "  0%|          | 0/1 [00:00<?, ?it/s]"
      ]
     },
     "metadata": {},
     "output_type": "display_data"
    },
    {
     "ename": "ValidationError",
     "evalue": "\"turquoise\" is not one of [\"red\",\"green\",\"yellow\",\"blue\",\"white\",\"black\",\"orange\",\"purple\",\"grey\",\"brown\",\"pink\",\"beige\",\"cyan\"]\n\nFailed validating \"enum\" in schema[\"properties\"][\"annotations\"][\"items\"][\"properties\"][\"attributes\"][\"properties\"][\"colors\"][\"items\"]\n\nOn instance[\"annotations\"][0][\"attributes\"][\"colors\"][1]:\n    \"turquoise\"",
     "output_type": "error",
     "traceback": [
      "\u001b[0;31m---------------------------------------------------------------------------\u001b[0m",
      "\u001b[0;31mValidationError\u001b[0m                           Traceback (most recent call last)",
      "Cell \u001b[0;32mIn[16], line 1\u001b[0m\n\u001b[0;32m----> 1\u001b[0m dataset \u001b[38;5;241m=\u001b[39m \u001b[43mfrom_caipy_generic\u001b[49m\u001b[43m(\u001b[49m\n\u001b[1;32m      2\u001b[0m \u001b[43m    \u001b[49m\u001b[43mimages_folder\u001b[49m\u001b[38;5;241;43m=\u001b[39;49m\u001b[38;5;28;43;01mNone\u001b[39;49;00m\u001b[43m,\u001b[49m\n\u001b[1;32m      3\u001b[0m \u001b[43m    \u001b[49m\u001b[43mannotations_folder\u001b[49m\u001b[38;5;241;43m=\u001b[39;49m\u001b[38;5;124;43m\"\u001b[39;49m\u001b[38;5;124;43m../../test_lours/test_data/caipy_dataset/tags/custom_schema/\u001b[39;49m\u001b[38;5;124;43m\"\u001b[39;49m\u001b[43m,\u001b[49m\n\u001b[1;32m      4\u001b[0m \u001b[43m    \u001b[49m\u001b[43muse_schema\u001b[49m\u001b[38;5;241;43m=\u001b[39;49m\u001b[38;5;28;43;01mTrue\u001b[39;49;00m\u001b[43m,\u001b[49m\n\u001b[1;32m      5\u001b[0m \u001b[43m)\u001b[49m\n",
      "File \u001b[0;32m~/workspace/Bamboo/lours/dataset/io/caipy.py:326\u001b[0m, in \u001b[0;36mfrom_caipy_generic\u001b[0;34m(images_folder, annotations_folder, dataset_name, split, splits_to_read, use_schema, json_schema, booleanize)\u001b[0m\n\u001b[1;32m    323\u001b[0m     dataset \u001b[38;5;241m+\u001b[39m\u001b[38;5;241m=\u001b[39m split_dataset\n\u001b[1;32m    325\u001b[0m \u001b[38;5;28;01mif\u001b[39;00m \u001b[38;5;28mlen\u001b[39m(dataset) \u001b[38;5;241m==\u001b[39m \u001b[38;5;241m0\u001b[39m \u001b[38;5;129;01mand\u001b[39;00m splits_to_read \u001b[38;5;129;01mis\u001b[39;00m \u001b[38;5;28;01mNone\u001b[39;00m:\n\u001b[0;32m--> 326\u001b[0m     dataset \u001b[38;5;241m=\u001b[39m \u001b[43mload_caipy_split\u001b[49m\u001b[43m(\u001b[49m\n\u001b[1;32m    327\u001b[0m \u001b[43m        \u001b[49m\u001b[43mimages_folder\u001b[49m\u001b[38;5;241;43m=\u001b[39;49m\u001b[43mimages_folder\u001b[49m\u001b[43m,\u001b[49m\n\u001b[1;32m    328\u001b[0m \u001b[43m        \u001b[49m\u001b[43mannotations_folder\u001b[49m\u001b[38;5;241;43m=\u001b[39;49m\u001b[43mannotations_folder\u001b[49m\u001b[43m,\u001b[49m\n\u001b[1;32m    329\u001b[0m \u001b[43m        \u001b[49m\u001b[43mdataset_name\u001b[49m\u001b[38;5;241;43m=\u001b[39;49m\u001b[43mdataset_name\u001b[49m\u001b[43m,\u001b[49m\n\u001b[1;32m    330\u001b[0m \u001b[43m        \u001b[49m\u001b[43msplit_name\u001b[49m\u001b[38;5;241;43m=\u001b[39;49m\u001b[43msplit\u001b[49m\u001b[43m,\u001b[49m\n\u001b[1;32m    331\u001b[0m \u001b[43m        \u001b[49m\u001b[43mschema\u001b[49m\u001b[38;5;241;43m=\u001b[39;49m\u001b[43mschema\u001b[49m\u001b[43m,\u001b[49m\n\u001b[1;32m    332\u001b[0m \u001b[43m    \u001b[49m\u001b[43m)\u001b[49m\n\u001b[1;32m    334\u001b[0m \u001b[38;5;28;01mif\u001b[39;00m schema \u001b[38;5;129;01mis\u001b[39;00m \u001b[38;5;129;01mnot\u001b[39;00m \u001b[38;5;28;01mNone\u001b[39;00m:\n\u001b[1;32m    335\u001b[0m     image_schema \u001b[38;5;241m=\u001b[39m schema[\u001b[38;5;124m\"\u001b[39m\u001b[38;5;124mproperties\u001b[39m\u001b[38;5;124m\"\u001b[39m][\u001b[38;5;124m\"\u001b[39m\u001b[38;5;124mimage\u001b[39m\u001b[38;5;124m\"\u001b[39m]\n",
      "File \u001b[0;32m~/workspace/Bamboo/lours/dataset/io/caipy.py:132\u001b[0m, in \u001b[0;36mload_caipy_split\u001b[0;34m(images_folder, annotations_folder, dataset_name, split_name, schema)\u001b[0m\n\u001b[1;32m    105\u001b[0m \u001b[38;5;28;01mdef\u001b[39;00m \u001b[38;5;21mload_caipy_split\u001b[39m(\n\u001b[1;32m    106\u001b[0m     images_folder: Path,\n\u001b[1;32m    107\u001b[0m     annotations_folder: Path,\n\u001b[0;32m   (...)\u001b[0m\n\u001b[1;32m    110\u001b[0m     schema: \u001b[38;5;28mdict\u001b[39m \u001b[38;5;241m|\u001b[39m \u001b[38;5;28;01mNone\u001b[39;00m \u001b[38;5;241m=\u001b[39m \u001b[38;5;28;01mNone\u001b[39;00m,\n\u001b[1;32m    111\u001b[0m ) \u001b[38;5;241m-\u001b[39m\u001b[38;5;241m>\u001b[39m Dataset:\n\u001b[1;32m    112\u001b[0m \u001b[38;5;250m    \u001b[39m\u001b[38;5;124;03m\"\"\"Load a particular caipy split folder and convert it to a lours Dataset\u001b[39;00m\n\u001b[1;32m    113\u001b[0m \n\u001b[1;32m    114\u001b[0m \u001b[38;5;124;03m    Args:\u001b[39;00m\n\u001b[0;32m   (...)\u001b[0m\n\u001b[1;32m    130\u001b[0m \u001b[38;5;124;03m        caipy splits\u001b[39;00m\n\u001b[1;32m    131\u001b[0m \u001b[38;5;124;03m    \"\"\"\u001b[39;00m\n\u001b[0;32m--> 132\u001b[0m     images, annotations \u001b[38;5;241m=\u001b[39m \u001b[43mload_caipy_annot_folder\u001b[49m\u001b[43m(\u001b[49m\u001b[43mannotations_folder\u001b[49m\u001b[43m,\u001b[49m\u001b[43m \u001b[49m\u001b[43mschema\u001b[49m\u001b[43m)\u001b[49m\n\u001b[1;32m    133\u001b[0m     \u001b[38;5;28;01mif\u001b[39;00m images \u001b[38;5;129;01mis\u001b[39;00m \u001b[38;5;129;01mnot\u001b[39;00m \u001b[38;5;28;01mNone\u001b[39;00m:\n\u001b[1;32m    134\u001b[0m         \u001b[38;5;28;01mif\u001b[39;00m \u001b[38;5;129;01mnot\u001b[39;00m images\u001b[38;5;241m.\u001b[39mindex\u001b[38;5;241m.\u001b[39mis_unique:\n",
      "File \u001b[0;32m~/workspace/Bamboo/lours/dataset/io/caipy.py:55\u001b[0m, in \u001b[0;36mload_caipy_annot_folder\u001b[0;34m(folder_path, schema)\u001b[0m\n\u001b[1;32m     53\u001b[0m     frame_data \u001b[38;5;241m=\u001b[39m json\u001b[38;5;241m.\u001b[39mload(f)\n\u001b[1;32m     54\u001b[0m \u001b[38;5;28;01mif\u001b[39;00m validator \u001b[38;5;129;01mis\u001b[39;00m \u001b[38;5;129;01mnot\u001b[39;00m \u001b[38;5;28;01mNone\u001b[39;00m:\n\u001b[0;32m---> 55\u001b[0m     validator\u001b[38;5;241m.\u001b[39mvalidate(frame_data)\n\u001b[1;32m     56\u001b[0m \u001b[38;5;28;01mif\u001b[39;00m \u001b[38;5;124m\"\u001b[39m\u001b[38;5;124mtype\u001b[39m\u001b[38;5;124m\"\u001b[39m \u001b[38;5;129;01min\u001b[39;00m frame_data\u001b[38;5;241m.\u001b[39mkeys():\n\u001b[1;32m     57\u001b[0m     \u001b[38;5;28;01massert\u001b[39;00m (\n\u001b[1;32m     58\u001b[0m         frame_data[\u001b[38;5;124m\"\u001b[39m\u001b[38;5;124mtype\u001b[39m\u001b[38;5;124m\"\u001b[39m] \u001b[38;5;241m==\u001b[39m \u001b[38;5;124m\"\u001b[39m\u001b[38;5;124minstances\u001b[39m\u001b[38;5;124m\"\u001b[39m\n\u001b[1;32m     59\u001b[0m     ), \u001b[38;5;124m\"\u001b[39m\u001b[38;5;124mOnly instance type supported for now\u001b[39m\u001b[38;5;124m\"\u001b[39m\n",
      "\u001b[0;31mValidationError\u001b[0m: \"turquoise\" is not one of [\"red\",\"green\",\"yellow\",\"blue\",\"white\",\"black\",\"orange\",\"purple\",\"grey\",\"brown\",\"pink\",\"beige\",\"cyan\"]\n\nFailed validating \"enum\" in schema[\"properties\"][\"annotations\"][\"items\"][\"properties\"][\"attributes\"][\"properties\"][\"colors\"][\"items\"]\n\nOn instance[\"annotations\"][0][\"attributes\"][\"colors\"][1]:\n    \"turquoise\""
     ]
    }
   ],
   "source": [
    "dataset = from_caipy_generic(\n",
    "    images_folder=None,\n",
    "    annotations_folder=\"../../test_lours/test_data/caipy_dataset/tags/custom_schema/\",\n",
    "    use_schema=True,\n",
    ")"
   ]
  },
  {
   "cell_type": "markdown",
   "id": "077e2450-e510-4c8c-aea0-9a4aee104453",
   "metadata": {},
   "source": [
    "This one will succeed\n",
    "\n",
    "Also note that booleanize columns are less numerous for `attributes.actions` and `attributes.colors`"
   ]
  },
  {
   "cell_type": "code",
   "execution_count": 17,
   "id": "19a2abea-83e2-41a8-8689-9ad7104ff60c",
   "metadata": {},
   "outputs": [
    {
     "name": "stdout",
     "output_type": "stream",
     "text": [
      "specifying a fictive path for images : ../../test_lours/test_data/caipy_dataset/tags/Images\n"
     ]
    },
    {
     "data": {
      "application/vnd.jupyter.widget-view+json": {
       "model_id": "ce270fd6fb914081b3c9bc69ca5e5cf1",
       "version_major": 2,
       "version_minor": 0
      },
      "text/plain": [
       "  0%|          | 0/1 [00:00<?, ?it/s]"
      ]
     },
     "metadata": {},
     "output_type": "display_data"
    }
   ],
   "source": [
    "dataset = from_caipy_generic(\n",
    "    images_folder=None,\n",
    "    annotations_folder=\"../../test_lours/test_data/caipy_dataset/tags/custom_schema/\",\n",
    "    use_schema=True,\n",
    "    json_schema=custom_schema,\n",
    ")"
   ]
  },
  {
   "cell_type": "code",
   "execution_count": 18,
   "id": "190f3ede-670a-4e0e-99b1-8ecf965daeaa",
   "metadata": {},
   "outputs": [
    {
     "data": {
      "application/vnd.jupyter.widget-view+json": {
       "model_id": "29a6b41de3114f749258456ab38f966e",
       "version_major": 2,
       "version_minor": 0
      },
      "text/plain": [
       "VBox(children=(HTML(value=\"<p><span style='white-space: pre-wrap; font-weight: bold'>Dataset object containing…"
      ]
     },
     "metadata": {},
     "output_type": "display_data"
    }
   ],
   "source": [
    "dataset"
   ]
  }
 ],
 "metadata": {
  "kernelspec": {
   "display_name": "Python 3 (ipykernel)",
   "language": "python",
   "name": "python3"
  },
  "language_info": {
   "codemirror_mode": {
    "name": "ipython",
    "version": 3
   },
   "file_extension": ".py",
   "mimetype": "text/x-python",
   "name": "python",
   "nbconvert_exporter": "python",
   "pygments_lexer": "ipython3",
   "version": "3.11.9"
  },
  "widgets": {
   "application/vnd.jupyter.widget-state+json": {
    "state": {
     "00080efd6fc74beeb129eebc6f18c6ae": {
      "model_module": "@jupyter-widgets/base",
      "model_module_version": "2.0.0",
      "model_name": "LayoutModel",
      "state": {}
     },
     "009938e3aace4fb5be4b7f9d753a6ec5": {
      "model_module": "@jupyter-widgets/controls",
      "model_module_version": "2.0.0",
      "model_name": "ProgressStyleModel",
      "state": {
       "description_width": ""
      }
     },
     "0335d9e94cb5453b8e0b049b5a419f37": {
      "model_module": "@jupyter-widgets/controls",
      "model_module_version": "2.0.0",
      "model_name": "LabelStyleModel",
      "state": {
       "description_width": "",
       "font_family": null,
       "font_size": null,
       "font_style": null,
       "font_variant": null,
       "font_weight": null,
       "text_color": null,
       "text_decoration": null
      }
     },
     "04696e3cd993462dadfda0e1e6c6da90": {
      "model_module": "@jupyter-widgets/controls",
      "model_module_version": "2.0.0",
      "model_name": "ProgressStyleModel",
      "state": {
       "description_width": ""
      }
     },
     "04b6d94f735744478c368ed662c26c9d": {
      "model_module": "@jupyter-widgets/base",
      "model_module_version": "2.0.0",
      "model_name": "LayoutModel",
      "state": {}
     },
     "079fe507b8fe4c6bacc08bed21e28407": {
      "model_module": "@jupyter-widgets/output",
      "model_module_version": "1.0.0",
      "model_name": "OutputModel",
      "state": {
       "layout": "IPY_MODEL_6624fa062dbf4e6a8010502eb7f8463e",
       "outputs": [
        {
         "data": {
          "text/html": "<style type=\"text/css\">\n#T_18bee th {\n  border-right: 1px solid #F0F0F0;\n}\n</style>\n<table id=\"T_18bee\">\n  <thead>\n    <tr>\n      <th class=\"blank level0\" >&nbsp;</th>\n      <th id=\"T_18bee_level0_col0\" class=\"col_heading level0 col0\" >width</th>\n      <th id=\"T_18bee_level0_col1\" class=\"col_heading level0 col1\" >height</th>\n      <th id=\"T_18bee_level0_col2\" class=\"col_heading level0 col2\" >relative_path</th>\n      <th id=\"T_18bee_level0_col3\" class=\"col_heading level0 col3\" >type</th>\n      <th id=\"T_18bee_level0_col4\" class=\"col_heading level0 col4\" colspan=\"7\">tags</th>\n    </tr>\n    <tr>\n      <th class=\"blank level1\" >&nbsp;</th>\n      <th id=\"T_18bee_level1_col0\" class=\"col_heading level1 col0\" ></th>\n      <th id=\"T_18bee_level1_col1\" class=\"col_heading level1 col1\" ></th>\n      <th id=\"T_18bee_level1_col2\" class=\"col_heading level1 col2\" ></th>\n      <th id=\"T_18bee_level1_col3\" class=\"col_heading level1 col3\" ></th>\n      <th id=\"T_18bee_level1_col4\" class=\"col_heading level1 col4\" >label_book_version</th>\n      <th id=\"T_18bee_level1_col5\" class=\"col_heading level1 col5\" >light</th>\n      <th id=\"T_18bee_level1_col6\" class=\"col_heading level1 col6\" >location</th>\n      <th id=\"T_18bee_level1_col7\" class=\"col_heading level1 col7\" >spectrum</th>\n      <th id=\"T_18bee_level1_col8\" class=\"col_heading level1 col8\" >time</th>\n      <th id=\"T_18bee_level1_col9\" class=\"col_heading level1 col9\" >view</th>\n      <th id=\"T_18bee_level1_col10\" class=\"col_heading level1 col10\" >weather</th>\n    </tr>\n    <tr>\n      <th class=\"index_name level0\" >id</th>\n      <th class=\"blank col0\" >&nbsp;</th>\n      <th class=\"blank col1\" >&nbsp;</th>\n      <th class=\"blank col2\" >&nbsp;</th>\n      <th class=\"blank col3\" >&nbsp;</th>\n      <th class=\"blank col4\" >&nbsp;</th>\n      <th class=\"blank col5\" >&nbsp;</th>\n      <th class=\"blank col6\" >&nbsp;</th>\n      <th class=\"blank col7\" >&nbsp;</th>\n      <th class=\"blank col8\" >&nbsp;</th>\n      <th class=\"blank col9\" >&nbsp;</th>\n      <th class=\"blank col10\" >&nbsp;</th>\n    </tr>\n  </thead>\n  <tbody>\n    <tr>\n      <th id=\"T_18bee_level0_row0\" class=\"row_heading level0 row0\" >200</th>\n      <td id=\"T_18bee_row0_col0\" class=\"data row0 col0\" >640</td>\n      <td id=\"T_18bee_row0_col1\" class=\"data row0 col1\" >427</td>\n      <td id=\"T_18bee_row0_col2\" class=\"data row0 col2\" >785.jpg</td>\n      <td id=\"T_18bee_row0_col3\" class=\"data row0 col3\" >.jpg</td>\n      <td id=\"T_18bee_row0_col4\" class=\"data row0 col4\" >V5</td>\n      <td id=\"T_18bee_row0_col5\" class=\"data row0 col5\" >natural-light</td>\n      <td id=\"T_18bee_row0_col6\" class=\"data row0 col6\" >exterior</td>\n      <td id=\"T_18bee_row0_col7\" class=\"data row0 col7\" >A BAD VALUE</td>\n      <td id=\"T_18bee_row0_col8\" class=\"data row0 col8\" >day</td>\n      <td id=\"T_18bee_row0_col9\" class=\"data row0 col9\" >front-view</td>\n      <td id=\"T_18bee_row0_col10\" class=\"data row0 col10\" >sunny</td>\n    </tr>\n  </tbody>\n</table>\n",
          "text/plain": "<pandas.io.formats.style.Styler at 0x70c122281010>"
         },
         "metadata": {},
         "output_type": "display_data"
        }
       ]
      }
     },
     "07c8354f71934e158f3849257da4916e": {
      "model_module": "@jupyter-widgets/base",
      "model_module_version": "2.0.0",
      "model_name": "LayoutModel",
      "state": {}
     },
     "07f6ee033b804612b9120acf6c737cb3": {
      "model_module": "@jupyter-widgets/base",
      "model_module_version": "2.0.0",
      "model_name": "LayoutModel",
      "state": {}
     },
     "0806dbda179749f3b23409b7242c3fa3": {
      "model_module": "@jupyter-widgets/base",
      "model_module_version": "2.0.0",
      "model_name": "LayoutModel",
      "state": {}
     },
     "102150428d504944858d95e0718df1fc": {
      "model_module": "@jupyter-widgets/base",
      "model_module_version": "2.0.0",
      "model_name": "LayoutModel",
      "state": {}
     },
     "168f8465646742d6af40515e0c73e805": {
      "model_module": "@jupyter-widgets/controls",
      "model_module_version": "2.0.0",
      "model_name": "VBoxModel",
      "state": {
       "children": [
        "IPY_MODEL_4234234bd0224ffaa9f24021a6f47559",
        "IPY_MODEL_ca8ef64a212942208b718cf64f69d33f"
       ],
       "layout": "IPY_MODEL_58537903e8c5451cb568dfbe4a78fc1a"
      }
     },
     "1789521777ef4b358ccb6ec920c4e88c": {
      "model_module": "@jupyter-widgets/base",
      "model_module_version": "2.0.0",
      "model_name": "LayoutModel",
      "state": {}
     },
     "19b43f8983084133be47a20ab9d80be3": {
      "model_module": "@jupyter-widgets/controls",
      "model_module_version": "2.0.0",
      "model_name": "LinkModel",
      "state": {
       "source": [
        "IPY_MODEL_4234234bd0224ffaa9f24021a6f47559",
        "index"
       ],
       "target": [
        "IPY_MODEL_7c1b3544327e4b86a6af0328908c9b8c",
        "selected_index"
       ]
      }
     },
     "1a3b6f260a85451e90474f1222c46c2b": {
      "model_module": "@jupyter-widgets/base",
      "model_module_version": "2.0.0",
      "model_name": "LayoutModel",
      "state": {}
     },
     "21430331a20a40f2b7bd4a9642576b67": {
      "model_module": "@jupyter-widgets/controls",
      "model_module_version": "2.0.0",
      "model_name": "LabelModel",
      "state": {
       "layout": "IPY_MODEL_4799ce4fcbe949bcb531cbbf0a5d696e",
       "style": "IPY_MODEL_0335d9e94cb5453b8e0b049b5a419f37",
       "value": "Booleanize"
      }
     },
     "2710850c7d1d44868e2db2a2d3f3854c": {
      "model_module": "@jupyter-widgets/controls",
      "model_module_version": "2.0.0",
      "model_name": "LabelStyleModel",
      "state": {
       "description_width": "",
       "font_family": null,
       "font_size": null,
       "font_style": null,
       "font_variant": null,
       "font_weight": null,
       "text_color": null,
       "text_decoration": null
      }
     },
     "2d407c197db543ca9c8a68930ed96f5f": {
      "model_module": "@jupyter-widgets/controls",
      "model_module_version": "2.0.0",
      "model_name": "ProgressStyleModel",
      "state": {
       "description_width": ""
      }
     },
     "2f4d59a98fed40f29122cede91009a0d": {
      "model_module": "@jupyter-widgets/controls",
      "model_module_version": "2.0.0",
      "model_name": "DropdownModel",
      "state": {
       "_options_labels": [
        "raw",
        "nested"
       ],
       "index": 0,
       "layout": "IPY_MODEL_faf56f6943b747259db2e44dec206377",
       "style": "IPY_MODEL_3024bba3701f42498ee53cb3cec47644"
      }
     },
     "3024bba3701f42498ee53cb3cec47644": {
      "model_module": "@jupyter-widgets/controls",
      "model_module_version": "2.0.0",
      "model_name": "DescriptionStyleModel",
      "state": {
       "description_width": ""
      }
     },
     "3834552ef0e5488892fdd0a937db0710": {
      "model_module": "@jupyter-widgets/controls",
      "model_module_version": "2.0.0",
      "model_name": "HTMLModel",
      "state": {
       "layout": "IPY_MODEL_8302f7594c7246f0a5e034d84e8df039",
       "style": "IPY_MODEL_7b05bbcf88fc453192fc6a16bf161174",
       "value": " 2/2 [00:00&lt;00:00, 342.17it/s]"
      }
     },
     "3a713713799146e8bf49bcfc53ab9ec7": {
      "model_module": "@jupyter-widgets/base",
      "model_module_version": "2.0.0",
      "model_name": "LayoutModel",
      "state": {}
     },
     "3dfc9daf7c534c988906f759cd8b8777": {
      "model_module": "@jupyter-widgets/base",
      "model_module_version": "2.0.0",
      "model_name": "LayoutModel",
      "state": {}
     },
     "3ff80506461c407eb63971c6797b8c03": {
      "model_module": "@jupyter-widgets/controls",
      "model_module_version": "2.0.0",
      "model_name": "VBoxModel",
      "state": {
       "children": [
        "IPY_MODEL_6e04bb5e28db49e7933fd3bff4410226",
        "IPY_MODEL_7c1b3544327e4b86a6af0328908c9b8c"
       ],
       "layout": "IPY_MODEL_ed9d86965d304f35b6cdbec3b117b6a3"
      }
     },
     "4156fd78fe4d483dbf211578ce948264": {
      "model_module": "@jupyter-widgets/output",
      "model_module_version": "1.0.0",
      "model_name": "OutputModel",
      "state": {
       "layout": "IPY_MODEL_c371c772e6114cda9841bb0bb6e38374",
       "outputs": [
        {
         "data": {
          "text/html": "<style type=\"text/css\">\n#T_848e3 th {\n  border-right: 1px solid #F0F0F0;\n}\n</style>\n<table id=\"T_848e3\">\n  <thead>\n    <tr>\n      <th class=\"blank level0\" >&nbsp;</th>\n      <th id=\"T_848e3_level0_col0\" class=\"col_heading level0 col0\" >image_id</th>\n      <th id=\"T_848e3_level0_col1\" class=\"col_heading level0 col1\" >category_str</th>\n      <th id=\"T_848e3_level0_col2\" class=\"col_heading level0 col2\" >category_id</th>\n      <th id=\"T_848e3_level0_col3\" class=\"col_heading level0 col3\" >box_x_min</th>\n      <th id=\"T_848e3_level0_col4\" class=\"col_heading level0 col4\" >box_y_min</th>\n      <th id=\"T_848e3_level0_col5\" class=\"col_heading level0 col5\" >box_width</th>\n      <th id=\"T_848e3_level0_col6\" class=\"col_heading level0 col6\" >box_height</th>\n      <th id=\"T_848e3_level0_col7\" class=\"col_heading level0 col7\" colspan=\"5\">attributes</th>\n    </tr>\n    <tr>\n      <th class=\"blank level1\" >&nbsp;</th>\n      <th id=\"T_848e3_level1_col0\" class=\"col_heading level1 col0\" ></th>\n      <th id=\"T_848e3_level1_col1\" class=\"col_heading level1 col1\" ></th>\n      <th id=\"T_848e3_level1_col2\" class=\"col_heading level1 col2\" ></th>\n      <th id=\"T_848e3_level1_col3\" class=\"col_heading level1 col3\" ></th>\n      <th id=\"T_848e3_level1_col4\" class=\"col_heading level1 col4\" ></th>\n      <th id=\"T_848e3_level1_col5\" class=\"col_heading level1 col5\" ></th>\n      <th id=\"T_848e3_level1_col6\" class=\"col_heading level1 col6\" ></th>\n      <th id=\"T_848e3_level1_col7\" class=\"col_heading level1 col7\" >doubt</th>\n      <th id=\"T_848e3_level1_col8\" class=\"col_heading level1 col8\" >actions</th>\n      <th id=\"T_848e3_level1_col9\" class=\"col_heading level1 col9\" >colors</th>\n      <th id=\"T_848e3_level1_col10\" class=\"col_heading level1 col10\" >headwear</th>\n      <th id=\"T_848e3_level1_col11\" class=\"col_heading level1 col11\" >position</th>\n    </tr>\n    <tr>\n      <th class=\"index_name level0\" >id</th>\n      <th class=\"blank col0\" >&nbsp;</th>\n      <th class=\"blank col1\" >&nbsp;</th>\n      <th class=\"blank col2\" >&nbsp;</th>\n      <th class=\"blank col3\" >&nbsp;</th>\n      <th class=\"blank col4\" >&nbsp;</th>\n      <th class=\"blank col5\" >&nbsp;</th>\n      <th class=\"blank col6\" >&nbsp;</th>\n      <th class=\"blank col7\" >&nbsp;</th>\n      <th class=\"blank col8\" >&nbsp;</th>\n      <th class=\"blank col9\" >&nbsp;</th>\n      <th class=\"blank col10\" >&nbsp;</th>\n      <th class=\"blank col11\" >&nbsp;</th>\n    </tr>\n  </thead>\n  <tbody>\n    <tr>\n      <th id=\"T_848e3_level0_row0\" class=\"row_heading level0 row0\" >0</th>\n      <td id=\"T_848e3_row0_col0\" class=\"data row0 col0\" >200</td>\n      <td id=\"T_848e3_row0_col1\" class=\"data row0 col1\" >person</td>\n      <td id=\"T_848e3_row0_col2\" class=\"data row0 col2\" >2</td>\n      <td id=\"T_848e3_row0_col3\" class=\"data row0 col3\" >1256.000000</td>\n      <td id=\"T_848e3_row0_col4\" class=\"data row0 col4\" >202.000000</td>\n      <td id=\"T_848e3_row0_col5\" class=\"data row0 col5\" >59.000000</td>\n      <td id=\"T_848e3_row0_col6\" class=\"data row0 col6\" >47.000000</td>\n      <td id=\"T_848e3_row0_col7\" class=\"data row0 col7\" >True</td>\n      <td id=\"T_848e3_row0_col8\" class=\"data row0 col8\" >['sitting']</td>\n      <td id=\"T_848e3_row0_col9\" class=\"data row0 col9\" >['blue', 'white']</td>\n      <td id=\"T_848e3_row0_col10\" class=\"data row0 col10\" >[]</td>\n      <td id=\"T_848e3_row0_col11\" class=\"data row0 col11\" >[]</td>\n    </tr>\n    <tr>\n      <th id=\"T_848e3_level0_row1\" class=\"row_heading level0 row1\" >1</th>\n      <td id=\"T_848e3_row1_col0\" class=\"data row1 col0\" >200</td>\n      <td id=\"T_848e3_row1_col1\" class=\"data row1 col1\" >head</td>\n      <td id=\"T_848e3_row1_col2\" class=\"data row1 col2\" >800</td>\n      <td id=\"T_848e3_row1_col3\" class=\"data row1 col3\" >1256.000000</td>\n      <td id=\"T_848e3_row1_col4\" class=\"data row1 col4\" >202.000000</td>\n      <td id=\"T_848e3_row1_col5\" class=\"data row1 col5\" >59.000000</td>\n      <td id=\"T_848e3_row1_col6\" class=\"data row1 col6\" >47.000000</td>\n      <td id=\"T_848e3_row1_col7\" class=\"data row1 col7\" >None</td>\n      <td id=\"T_848e3_row1_col8\" class=\"data row1 col8\" >[]</td>\n      <td id=\"T_848e3_row1_col9\" class=\"data row1 col9\" >[]</td>\n      <td id=\"T_848e3_row1_col10\" class=\"data row1 col10\" >['partial']</td>\n      <td id=\"T_848e3_row1_col11\" class=\"data row1 col11\" >['side']</td>\n    </tr>\n  </tbody>\n</table>\n",
          "text/plain": "<pandas.io.formats.style.Styler at 0x70c122c8a810>"
         },
         "metadata": {},
         "output_type": "display_data"
        }
       ]
      }
     },
     "4234234bd0224ffaa9f24021a6f47559": {
      "model_module": "@jupyter-widgets/controls",
      "model_module_version": "2.0.0",
      "model_name": "ToggleButtonsModel",
      "state": {
       "_options_labels": [
        "yes ",
        "no "
       ],
       "button_style": "",
       "icons": [
        "check",
        "times"
       ],
       "index": 0,
       "layout": "IPY_MODEL_a4d58d85324e4d7e864f762144ca8c58",
       "style": "IPY_MODEL_db1e9b2211ba4fb692913b406877539d",
       "tooltips": []
      }
     },
     "45931f756db64979b5841710be916027": {
      "model_module": "@jupyter-widgets/controls",
      "model_module_version": "2.0.0",
      "model_name": "HBoxModel",
      "state": {
       "children": [
        "IPY_MODEL_9a0ac2337d0f4cf8b319a2cb3c1b0969",
        "IPY_MODEL_2f4d59a98fed40f29122cede91009a0d"
       ],
       "layout": "IPY_MODEL_63a1b2c42ad24882949a1475868eb955"
      }
     },
     "4799ce4fcbe949bcb531cbbf0a5d696e": {
      "model_module": "@jupyter-widgets/base",
      "model_module_version": "2.0.0",
      "model_name": "LayoutModel",
      "state": {}
     },
     "48e812286b9047ef82467faf16123e94": {
      "model_module": "@jupyter-widgets/controls",
      "model_module_version": "2.0.0",
      "model_name": "HTMLModel",
      "state": {
       "layout": "IPY_MODEL_00080efd6fc74beeb129eebc6f18c6ae",
       "style": "IPY_MODEL_589812d4789b4d93a8d7a09d3cdb7424",
       "value": "100%"
      }
     },
     "495994a218f04e6da7a87704a07bfbfd": {
      "model_module": "@jupyter-widgets/output",
      "model_module_version": "1.0.0",
      "model_name": "OutputModel",
      "state": {
       "layout": "IPY_MODEL_d37f1a475ad4456f84892f38dc266932",
       "outputs": [
        {
         "data": {
          "text/html": "<div>\n<style scoped>\n    .dataframe tbody tr th:only-of-type {\n        vertical-align: middle;\n    }\n\n    .dataframe tbody tr th {\n        vertical-align: top;\n    }\n\n    .dataframe thead th {\n        text-align: right;\n    }\n</style>\n<table border=\"1\" class=\"dataframe\">\n  <thead>\n    <tr style=\"text-align: right;\">\n      <th></th>\n      <th>width</th>\n      <th>height</th>\n      <th>relative_path</th>\n      <th>type</th>\n      <th>tags.label_book_version</th>\n      <th>tags.light</th>\n      <th>tags.location</th>\n      <th>tags.spectrum</th>\n      <th>tags.time</th>\n      <th>tags.view</th>\n      <th>tags.weather</th>\n    </tr>\n    <tr>\n      <th>id</th>\n      <th></th>\n      <th></th>\n      <th></th>\n      <th></th>\n      <th></th>\n      <th></th>\n      <th></th>\n      <th></th>\n      <th></th>\n      <th></th>\n      <th></th>\n    </tr>\n  </thead>\n  <tbody>\n    <tr>\n      <th>200</th>\n      <td>640</td>\n      <td>427</td>\n      <td>785.jpg</td>\n      <td>.jpg</td>\n      <td>V5</td>\n      <td>natural-light</td>\n      <td>exterior</td>\n      <td>A BAD VALUE</td>\n      <td>day</td>\n      <td>front-view</td>\n      <td>sunny</td>\n    </tr>\n  </tbody>\n</table>\n</div>",
          "text/plain": "     width  height relative_path  type tags.label_book_version     tags.light  \\\nid                                                                              \n200    640     427       785.jpg  .jpg                      V5  natural-light   \n\n    tags.location tags.spectrum tags.time   tags.view tags.weather  \nid                                                                  \n200      exterior   A BAD VALUE       day  front-view        sunny  "
         },
         "metadata": {},
         "output_type": "display_data"
        }
       ]
      }
     },
     "4db3ba35209e423b8eebb4aa809ae08c": {
      "model_module": "@jupyter-widgets/base",
      "model_module_version": "2.0.0",
      "model_name": "LayoutModel",
      "state": {}
     },
     "4e3798b135a44394ae37b4ae9a0cf288": {
      "model_module": "@jupyter-widgets/controls",
      "model_module_version": "2.0.0",
      "model_name": "HTMLModel",
      "state": {
       "layout": "IPY_MODEL_86158f6a277e4bd1b63f97037a48d44f",
       "style": "IPY_MODEL_82c5e56bb7f144d8a4f3e21860a76d18",
       "value": " 0/1 [00:00&lt;?, ?it/s]"
      }
     },
     "535006edd38641dd9eb373d611f6dcba": {
      "model_module": "@jupyter-widgets/controls",
      "model_module_version": "2.0.0",
      "model_name": "LinkModel",
      "state": {
       "source": [
        "IPY_MODEL_2f4d59a98fed40f29122cede91009a0d",
        "index"
       ],
       "target": [
        "IPY_MODEL_6334f79ec8b64697ada644a5dd062e11",
        "selected_index"
       ]
      }
     },
     "55e76c63abf14947a21f1440641d040f": {
      "model_module": "@jupyter-widgets/controls",
      "model_module_version": "2.0.0",
      "model_name": "FloatProgressModel",
      "state": {
       "bar_style": "danger",
       "layout": "IPY_MODEL_81662c2999f94c0c8d0114e4c6c7d44f",
       "max": 1,
       "style": "IPY_MODEL_04696e3cd993462dadfda0e1e6c6da90"
      }
     },
     "5851c0e9dec34bdaa6e699709b872cfa": {
      "model_module": "@jupyter-widgets/controls",
      "model_module_version": "2.0.0",
      "model_name": "HBoxModel",
      "state": {
       "children": [
        "IPY_MODEL_d2ab51218bba428ca5e3ff1dead2b587",
        "IPY_MODEL_802121038d4641229b0d4a5863e2e7a9",
        "IPY_MODEL_7b701ff5bc0545c59e64d38f7de2c003"
       ],
       "layout": "IPY_MODEL_e7f6ac9c81494ef497f6625ff0c726f3"
      }
     },
     "58537903e8c5451cb568dfbe4a78fc1a": {
      "model_module": "@jupyter-widgets/base",
      "model_module_version": "2.0.0",
      "model_name": "LayoutModel",
      "state": {}
     },
     "589812d4789b4d93a8d7a09d3cdb7424": {
      "model_module": "@jupyter-widgets/controls",
      "model_module_version": "2.0.0",
      "model_name": "HTMLStyleModel",
      "state": {
       "description_width": "",
       "font_size": null,
       "text_color": null
      }
     },
     "6334f79ec8b64697ada644a5dd062e11": {
      "model_module": "@jupyter-widgets/controls",
      "model_module_version": "2.0.0",
      "model_name": "StackModel",
      "state": {
       "children": [
        "IPY_MODEL_cb60b12436ec46b492132064cde0f313",
        "IPY_MODEL_079fe507b8fe4c6bacc08bed21e28407"
       ],
       "layout": "IPY_MODEL_1789521777ef4b358ccb6ec920c4e88c",
       "selected_index": 0,
       "titles": [
        "",
        ""
       ]
      }
     },
     "63a1b2c42ad24882949a1475868eb955": {
      "model_module": "@jupyter-widgets/base",
      "model_module_version": "2.0.0",
      "model_name": "LayoutModel",
      "state": {}
     },
     "6624fa062dbf4e6a8010502eb7f8463e": {
      "model_module": "@jupyter-widgets/base",
      "model_module_version": "2.0.0",
      "model_name": "LayoutModel",
      "state": {}
     },
     "66e90ea266e54621886b53c328a12608": {
      "model_module": "@jupyter-widgets/controls",
      "model_module_version": "2.0.0",
      "model_name": "HTMLModel",
      "state": {
       "layout": "IPY_MODEL_04b6d94f735744478c368ed662c26c9d",
       "style": "IPY_MODEL_6f9693f15075420fbdb961e86c00e7aa",
       "value": " 2/2 [00:00&lt;00:00, 273.32it/s]"
      }
     },
     "6940c31217d34f6f84c03d60a6c88b59": {
      "model_module": "@jupyter-widgets/controls",
      "model_module_version": "2.0.0",
      "model_name": "HBoxModel",
      "state": {
       "children": [
        "IPY_MODEL_891a822afb9543149f4ca877bb137eef",
        "IPY_MODEL_55e76c63abf14947a21f1440641d040f",
        "IPY_MODEL_4e3798b135a44394ae37b4ae9a0cf288"
       ],
       "layout": "IPY_MODEL_72295d451fff4e88b260b53910998963"
      }
     },
     "6e04bb5e28db49e7933fd3bff4410226": {
      "model_module": "@jupyter-widgets/controls",
      "model_module_version": "2.0.0",
      "model_name": "HBoxModel",
      "state": {
       "children": [
        "IPY_MODEL_dfc240866b7e476eb46b8e3009f5a786",
        "IPY_MODEL_168f8465646742d6af40515e0c73e805"
       ],
       "layout": "IPY_MODEL_e20aad781ac7474199000fb043606cc8"
      }
     },
     "6f9693f15075420fbdb961e86c00e7aa": {
      "model_module": "@jupyter-widgets/controls",
      "model_module_version": "2.0.0",
      "model_name": "HTMLStyleModel",
      "state": {
       "description_width": "",
       "font_size": null,
       "text_color": null
      }
     },
     "70dcd0662dfd49ae947665fad895605d": {
      "model_module": "@jupyter-widgets/base",
      "model_module_version": "2.0.0",
      "model_name": "LayoutModel",
      "state": {}
     },
     "72295d451fff4e88b260b53910998963": {
      "model_module": "@jupyter-widgets/base",
      "model_module_version": "2.0.0",
      "model_name": "LayoutModel",
      "state": {}
     },
     "7353f88c72d94e7ba8269c66efb8785d": {
      "model_module": "@jupyter-widgets/output",
      "model_module_version": "1.0.0",
      "model_name": "OutputModel",
      "state": {
       "layout": "IPY_MODEL_07f6ee033b804612b9120acf6c737cb3",
       "outputs": [
        {
         "data": {
          "text/html": "<div>\n<style scoped>\n    .dataframe tbody tr th:only-of-type {\n        vertical-align: middle;\n    }\n\n    .dataframe tbody tr th {\n        vertical-align: top;\n    }\n\n    .dataframe thead th {\n        text-align: right;\n    }\n</style>\n<table border=\"1\" class=\"dataframe\">\n  <thead>\n    <tr style=\"text-align: right;\">\n      <th></th>\n      <th>image_id</th>\n      <th>category_str</th>\n      <th>category_id</th>\n      <th>box_x_min</th>\n      <th>box_y_min</th>\n      <th>box_width</th>\n      <th>box_height</th>\n      <th>attributes.doubt</th>\n      <th>attributes.actions.laying</th>\n      <th>attributes.actions.sitting</th>\n      <th>attributes.colors.blue</th>\n      <th>attributes.colors.white</th>\n      <th>attributes.headwear.full</th>\n      <th>attributes.headwear.none</th>\n      <th>attributes.headwear.partial</th>\n      <th>attributes.position.back</th>\n      <th>attributes.position.front</th>\n      <th>attributes.position.side</th>\n      <th>attributes.position.top</th>\n      <th>attributes.position.unknown</th>\n    </tr>\n    <tr>\n      <th>id</th>\n      <th></th>\n      <th></th>\n      <th></th>\n      <th></th>\n      <th></th>\n      <th></th>\n      <th></th>\n      <th></th>\n      <th></th>\n      <th></th>\n      <th></th>\n      <th></th>\n      <th></th>\n      <th></th>\n      <th></th>\n      <th></th>\n      <th></th>\n      <th></th>\n      <th></th>\n      <th></th>\n    </tr>\n  </thead>\n  <tbody>\n    <tr>\n      <th>0</th>\n      <td>200</td>\n      <td>person</td>\n      <td>2</td>\n      <td>1256.0</td>\n      <td>202.0</td>\n      <td>59.0</td>\n      <td>47.0</td>\n      <td>True</td>\n      <td>False</td>\n      <td>True</td>\n      <td>True</td>\n      <td>True</td>\n      <td>False</td>\n      <td>False</td>\n      <td>False</td>\n      <td>False</td>\n      <td>False</td>\n      <td>False</td>\n      <td>False</td>\n      <td>False</td>\n    </tr>\n    <tr>\n      <th>1</th>\n      <td>200</td>\n      <td>head</td>\n      <td>800</td>\n      <td>1256.0</td>\n      <td>202.0</td>\n      <td>59.0</td>\n      <td>47.0</td>\n      <td>None</td>\n      <td>False</td>\n      <td>False</td>\n      <td>False</td>\n      <td>False</td>\n      <td>False</td>\n      <td>False</td>\n      <td>True</td>\n      <td>False</td>\n      <td>False</td>\n      <td>True</td>\n      <td>False</td>\n      <td>False</td>\n    </tr>\n  </tbody>\n</table>\n</div>",
          "text/plain": "    image_id category_str  category_id  box_x_min  box_y_min  box_width  \\\nid                                                                        \n0        200       person            2     1256.0      202.0       59.0   \n1        200         head          800     1256.0      202.0       59.0   \n\n    box_height attributes.doubt  attributes.actions.laying  \\\nid                                                           \n0         47.0             True                      False   \n1         47.0             None                      False   \n\n    attributes.actions.sitting  attributes.colors.blue  \\\nid                                                       \n0                         True                    True   \n1                        False                   False   \n\n    attributes.colors.white  attributes.headwear.full  \\\nid                                                      \n0                      True                     False   \n1                     False                     False   \n\n    attributes.headwear.none  attributes.headwear.partial  \\\nid                                                          \n0                      False                        False   \n1                      False                         True   \n\n    attributes.position.back  attributes.position.front  \\\nid                                                        \n0                      False                      False   \n1                      False                      False   \n\n    attributes.position.side  attributes.position.top  \\\nid                                                      \n0                      False                    False   \n1                       True                    False   \n\n    attributes.position.unknown  \nid                               \n0                         False  \n1                         False  "
         },
         "metadata": {},
         "output_type": "display_data"
        }
       ]
      }
     },
     "7aa95d431ae3490fbaf4e450c90b2b15": {
      "model_module": "@jupyter-widgets/controls",
      "model_module_version": "2.0.0",
      "model_name": "StackModel",
      "state": {
       "children": [
        "IPY_MODEL_7353f88c72d94e7ba8269c66efb8785d",
        "IPY_MODEL_a150f85e07224b34b89f4b9074749272"
       ],
       "layout": "IPY_MODEL_8a1586fb5ea2402dbfd31ba21273095a",
       "selected_index": 0,
       "titles": [
        "",
        ""
       ]
      }
     },
     "7b05bbcf88fc453192fc6a16bf161174": {
      "model_module": "@jupyter-widgets/controls",
      "model_module_version": "2.0.0",
      "model_name": "HTMLStyleModel",
      "state": {
       "description_width": "",
       "font_size": null,
       "text_color": null
      }
     },
     "7b701ff5bc0545c59e64d38f7de2c003": {
      "model_module": "@jupyter-widgets/controls",
      "model_module_version": "2.0.0",
      "model_name": "HTMLModel",
      "state": {
       "layout": "IPY_MODEL_c8b1651a8ff049d28482b934290c9a2a",
       "style": "IPY_MODEL_9cd07fa3b7954dc781e076204a67863b",
       "value": " 1/1 [00:00&lt;00:00, 134.67it/s]"
      }
     },
     "7c1b3544327e4b86a6af0328908c9b8c": {
      "model_module": "@jupyter-widgets/controls",
      "model_module_version": "2.0.0",
      "model_name": "StackModel",
      "state": {
       "children": [
        "IPY_MODEL_7aa95d431ae3490fbaf4e450c90b2b15",
        "IPY_MODEL_d46e365c48204d43acb32dd5c944cf02"
       ],
       "layout": "IPY_MODEL_3a713713799146e8bf49bcfc53ab9ec7",
       "selected_index": 0,
       "titles": [
        "",
        ""
       ]
      }
     },
     "802121038d4641229b0d4a5863e2e7a9": {
      "model_module": "@jupyter-widgets/controls",
      "model_module_version": "2.0.0",
      "model_name": "FloatProgressModel",
      "state": {
       "bar_style": "success",
       "layout": "IPY_MODEL_a025a5a18a7349c4bda10bb6cceee401",
       "max": 1,
       "style": "IPY_MODEL_2d407c197db543ca9c8a68930ed96f5f",
       "value": 1
      }
     },
     "81662c2999f94c0c8d0114e4c6c7d44f": {
      "model_module": "@jupyter-widgets/base",
      "model_module_version": "2.0.0",
      "model_name": "LayoutModel",
      "state": {}
     },
     "82846336e02a485d959f5c0647166dae": {
      "model_module": "@jupyter-widgets/base",
      "model_module_version": "2.0.0",
      "model_name": "LayoutModel",
      "state": {}
     },
     "82c5e56bb7f144d8a4f3e21860a76d18": {
      "model_module": "@jupyter-widgets/controls",
      "model_module_version": "2.0.0",
      "model_name": "HTMLStyleModel",
      "state": {
       "description_width": "",
       "font_size": null,
       "text_color": null
      }
     },
     "8302f7594c7246f0a5e034d84e8df039": {
      "model_module": "@jupyter-widgets/base",
      "model_module_version": "2.0.0",
      "model_name": "LayoutModel",
      "state": {}
     },
     "8314c5aaae6840449a58f769ed04a9eb": {
      "model_module": "@jupyter-widgets/base",
      "model_module_version": "2.0.0",
      "model_name": "LayoutModel",
      "state": {}
     },
     "86158f6a277e4bd1b63f97037a48d44f": {
      "model_module": "@jupyter-widgets/base",
      "model_module_version": "2.0.0",
      "model_name": "LayoutModel",
      "state": {}
     },
     "86fb97217fde40c8b400bd5f844cc38a": {
      "model_module": "@jupyter-widgets/output",
      "model_module_version": "1.0.0",
      "model_name": "OutputModel",
      "state": {
       "layout": "IPY_MODEL_c25aa2c74edb4331a42aa7ced04bae82",
       "outputs": [
        {
         "data": {
          "application/vnd.jupyter.widget-view+json": {
           "model_id": "966d8701ade04adc9abc0e5806fafbba",
           "version_major": 2,
           "version_minor": 0
          },
          "text/plain": "VBox(children=(HBox(children=(Label(value='Column format'), Dropdown(options=('raw', 'nested'), value='raw')))…"
         },
         "metadata": {},
         "output_type": "display_data"
        }
       ]
      }
     },
     "891a822afb9543149f4ca877bb137eef": {
      "model_module": "@jupyter-widgets/controls",
      "model_module_version": "2.0.0",
      "model_name": "HTMLModel",
      "state": {
       "layout": "IPY_MODEL_cf176ce2fa164ae2b26d5607342851aa",
       "style": "IPY_MODEL_cb13a00bfa334dbdb1fc46b7def9b37a",
       "value": "  0%"
      }
     },
     "8a1586fb5ea2402dbfd31ba21273095a": {
      "model_module": "@jupyter-widgets/base",
      "model_module_version": "2.0.0",
      "model_name": "LayoutModel",
      "state": {}
     },
     "9220b083170e486f82c6195ebdac6d3e": {
      "model_module": "@jupyter-widgets/controls",
      "model_module_version": "2.0.0",
      "model_name": "HTMLStyleModel",
      "state": {
       "description_width": "",
       "font_size": null,
       "text_color": null
      }
     },
     "926fab6e984e44ce9dda3a7a3d09c091": {
      "model_module": "@jupyter-widgets/output",
      "model_module_version": "1.0.0",
      "model_name": "OutputModel",
      "state": {
       "layout": "IPY_MODEL_95b31ace4c314f569fd86593a93b6baf",
       "outputs": [
        {
         "data": {
          "text/html": "<style type=\"text/css\">\n#T_2145b th {\n  border-right: 1px solid #F0F0F0;\n}\n</style>\n<table id=\"T_2145b\">\n  <thead>\n    <tr>\n      <th class=\"blank level0\" >&nbsp;</th>\n      <th id=\"T_2145b_level0_col0\" class=\"col_heading level0 col0\" >width</th>\n      <th id=\"T_2145b_level0_col1\" class=\"col_heading level0 col1\" >height</th>\n      <th id=\"T_2145b_level0_col2\" class=\"col_heading level0 col2\" >relative_path</th>\n      <th id=\"T_2145b_level0_col3\" class=\"col_heading level0 col3\" >type</th>\n      <th id=\"T_2145b_level0_col4\" class=\"col_heading level0 col4\" colspan=\"7\">tags</th>\n    </tr>\n    <tr>\n      <th class=\"blank level1\" >&nbsp;</th>\n      <th id=\"T_2145b_level1_col0\" class=\"col_heading level1 col0\" ></th>\n      <th id=\"T_2145b_level1_col1\" class=\"col_heading level1 col1\" ></th>\n      <th id=\"T_2145b_level1_col2\" class=\"col_heading level1 col2\" ></th>\n      <th id=\"T_2145b_level1_col3\" class=\"col_heading level1 col3\" ></th>\n      <th id=\"T_2145b_level1_col4\" class=\"col_heading level1 col4\" >label_book_version</th>\n      <th id=\"T_2145b_level1_col5\" class=\"col_heading level1 col5\" >light</th>\n      <th id=\"T_2145b_level1_col6\" class=\"col_heading level1 col6\" >location</th>\n      <th id=\"T_2145b_level1_col7\" class=\"col_heading level1 col7\" >spectrum</th>\n      <th id=\"T_2145b_level1_col8\" class=\"col_heading level1 col8\" >time</th>\n      <th id=\"T_2145b_level1_col9\" class=\"col_heading level1 col9\" >view</th>\n      <th id=\"T_2145b_level1_col10\" class=\"col_heading level1 col10\" >weather</th>\n    </tr>\n    <tr>\n      <th class=\"index_name level0\" >id</th>\n      <th class=\"blank col0\" >&nbsp;</th>\n      <th class=\"blank col1\" >&nbsp;</th>\n      <th class=\"blank col2\" >&nbsp;</th>\n      <th class=\"blank col3\" >&nbsp;</th>\n      <th class=\"blank col4\" >&nbsp;</th>\n      <th class=\"blank col5\" >&nbsp;</th>\n      <th class=\"blank col6\" >&nbsp;</th>\n      <th class=\"blank col7\" >&nbsp;</th>\n      <th class=\"blank col8\" >&nbsp;</th>\n      <th class=\"blank col9\" >&nbsp;</th>\n      <th class=\"blank col10\" >&nbsp;</th>\n    </tr>\n  </thead>\n  <tbody>\n    <tr>\n      <th id=\"T_2145b_level0_row0\" class=\"row_heading level0 row0\" >200</th>\n      <td id=\"T_2145b_row0_col0\" class=\"data row0 col0\" >640</td>\n      <td id=\"T_2145b_row0_col1\" class=\"data row0 col1\" >427</td>\n      <td id=\"T_2145b_row0_col2\" class=\"data row0 col2\" >785.jpg</td>\n      <td id=\"T_2145b_row0_col3\" class=\"data row0 col3\" >.jpg</td>\n      <td id=\"T_2145b_row0_col4\" class=\"data row0 col4\" >V5</td>\n      <td id=\"T_2145b_row0_col5\" class=\"data row0 col5\" >natural-light</td>\n      <td id=\"T_2145b_row0_col6\" class=\"data row0 col6\" >exterior</td>\n      <td id=\"T_2145b_row0_col7\" class=\"data row0 col7\" >A BAD VALUE</td>\n      <td id=\"T_2145b_row0_col8\" class=\"data row0 col8\" >day</td>\n      <td id=\"T_2145b_row0_col9\" class=\"data row0 col9\" >front-view</td>\n      <td id=\"T_2145b_row0_col10\" class=\"data row0 col10\" >sunny</td>\n    </tr>\n  </tbody>\n</table>\n",
          "text/plain": "<pandas.io.formats.style.Styler at 0x70c12485f390>"
         },
         "metadata": {},
         "output_type": "display_data"
        }
       ]
      }
     },
     "92bfcb652bae45e3ab2b5ab41e067a42": {
      "model_module": "@jupyter-widgets/base",
      "model_module_version": "2.0.0",
      "model_name": "LayoutModel",
      "state": {}
     },
     "9341b168149a40c7b219903191d359b1": {
      "model_module": "@jupyter-widgets/controls",
      "model_module_version": "2.0.0",
      "model_name": "LabelStyleModel",
      "state": {
       "description_width": "",
       "font_family": null,
       "font_size": null,
       "font_style": null,
       "font_variant": null,
       "font_weight": null,
       "text_color": null,
       "text_decoration": null
      }
     },
     "945fe0f42792452fb99df0fce5a49910": {
      "model_module": "@jupyter-widgets/base",
      "model_module_version": "2.0.0",
      "model_name": "LayoutModel",
      "state": {}
     },
     "94d032ce50d546fbae4ba97ce43a89de": {
      "model_module": "@jupyter-widgets/controls",
      "model_module_version": "2.0.0",
      "model_name": "TabModel",
      "state": {
       "children": [
        "IPY_MODEL_86fb97217fde40c8b400bd5f844cc38a",
        "IPY_MODEL_a662a534628146ee9065da6a6351b8c5",
        "IPY_MODEL_e17fba1647694f4eaaa5e3cb89b819a5"
       ],
       "layout": "IPY_MODEL_d438c987308740a2878d423b4d4790b4",
       "selected_index": 0,
       "titles": [
        "Images",
        "Annotations",
        "Label Map"
       ]
      }
     },
     "95b31ace4c314f569fd86593a93b6baf": {
      "model_module": "@jupyter-widgets/base",
      "model_module_version": "2.0.0",
      "model_name": "LayoutModel",
      "state": {}
     },
     "966d8701ade04adc9abc0e5806fafbba": {
      "model_module": "@jupyter-widgets/controls",
      "model_module_version": "2.0.0",
      "model_name": "VBoxModel",
      "state": {
       "children": [
        "IPY_MODEL_45931f756db64979b5841710be916027",
        "IPY_MODEL_6334f79ec8b64697ada644a5dd062e11"
       ],
       "layout": "IPY_MODEL_102150428d504944858d95e0718df1fc"
      }
     },
     "9a0ac2337d0f4cf8b319a2cb3c1b0969": {
      "model_module": "@jupyter-widgets/controls",
      "model_module_version": "2.0.0",
      "model_name": "LabelModel",
      "state": {
       "layout": "IPY_MODEL_c311cf324b804856b6c06a8e84c8afc1",
       "style": "IPY_MODEL_9341b168149a40c7b219903191d359b1",
       "value": "Column format"
      }
     },
     "9cd07fa3b7954dc781e076204a67863b": {
      "model_module": "@jupyter-widgets/controls",
      "model_module_version": "2.0.0",
      "model_name": "HTMLStyleModel",
      "state": {
       "description_width": "",
       "font_size": null,
       "text_color": null
      }
     },
     "a025a5a18a7349c4bda10bb6cceee401": {
      "model_module": "@jupyter-widgets/base",
      "model_module_version": "2.0.0",
      "model_name": "LayoutModel",
      "state": {}
     },
     "a150f85e07224b34b89f4b9074749272": {
      "model_module": "@jupyter-widgets/output",
      "model_module_version": "1.0.0",
      "model_name": "OutputModel",
      "state": {
       "layout": "IPY_MODEL_3dfc9daf7c534c988906f759cd8b8777",
       "outputs": [
        {
         "data": {
          "text/html": "<style type=\"text/css\">\n#T_8ffaa th {\n  border-right: 1px solid #F0F0F0;\n}\n</style>\n<table id=\"T_8ffaa\">\n  <thead>\n    <tr>\n      <th class=\"blank level0\" >&nbsp;</th>\n      <th id=\"T_8ffaa_level0_col0\" class=\"col_heading level0 col0\" >image_id</th>\n      <th id=\"T_8ffaa_level0_col1\" class=\"col_heading level0 col1\" >category_str</th>\n      <th id=\"T_8ffaa_level0_col2\" class=\"col_heading level0 col2\" >category_id</th>\n      <th id=\"T_8ffaa_level0_col3\" class=\"col_heading level0 col3\" >box_x_min</th>\n      <th id=\"T_8ffaa_level0_col4\" class=\"col_heading level0 col4\" >box_y_min</th>\n      <th id=\"T_8ffaa_level0_col5\" class=\"col_heading level0 col5\" >box_width</th>\n      <th id=\"T_8ffaa_level0_col6\" class=\"col_heading level0 col6\" >box_height</th>\n      <th id=\"T_8ffaa_level0_col7\" class=\"col_heading level0 col7\" colspan=\"13\">attributes</th>\n    </tr>\n    <tr>\n      <th class=\"blank level1\" >&nbsp;</th>\n      <th id=\"T_8ffaa_level1_col0\" class=\"col_heading level1 col0\" ></th>\n      <th id=\"T_8ffaa_level1_col1\" class=\"col_heading level1 col1\" ></th>\n      <th id=\"T_8ffaa_level1_col2\" class=\"col_heading level1 col2\" ></th>\n      <th id=\"T_8ffaa_level1_col3\" class=\"col_heading level1 col3\" ></th>\n      <th id=\"T_8ffaa_level1_col4\" class=\"col_heading level1 col4\" ></th>\n      <th id=\"T_8ffaa_level1_col5\" class=\"col_heading level1 col5\" ></th>\n      <th id=\"T_8ffaa_level1_col6\" class=\"col_heading level1 col6\" ></th>\n      <th id=\"T_8ffaa_level1_col7\" class=\"col_heading level1 col7\" >doubt</th>\n      <th id=\"T_8ffaa_level1_col8\" class=\"col_heading level1 col8\" colspan=\"2\">actions</th>\n      <th id=\"T_8ffaa_level1_col10\" class=\"col_heading level1 col10\" colspan=\"2\">colors</th>\n      <th id=\"T_8ffaa_level1_col12\" class=\"col_heading level1 col12\" colspan=\"3\">headwear</th>\n      <th id=\"T_8ffaa_level1_col15\" class=\"col_heading level1 col15\" colspan=\"5\">position</th>\n    </tr>\n    <tr>\n      <th class=\"blank level2\" >&nbsp;</th>\n      <th id=\"T_8ffaa_level2_col0\" class=\"col_heading level2 col0\" ></th>\n      <th id=\"T_8ffaa_level2_col1\" class=\"col_heading level2 col1\" ></th>\n      <th id=\"T_8ffaa_level2_col2\" class=\"col_heading level2 col2\" ></th>\n      <th id=\"T_8ffaa_level2_col3\" class=\"col_heading level2 col3\" ></th>\n      <th id=\"T_8ffaa_level2_col4\" class=\"col_heading level2 col4\" ></th>\n      <th id=\"T_8ffaa_level2_col5\" class=\"col_heading level2 col5\" ></th>\n      <th id=\"T_8ffaa_level2_col6\" class=\"col_heading level2 col6\" ></th>\n      <th id=\"T_8ffaa_level2_col7\" class=\"col_heading level2 col7\" ></th>\n      <th id=\"T_8ffaa_level2_col8\" class=\"col_heading level2 col8\" >laying</th>\n      <th id=\"T_8ffaa_level2_col9\" class=\"col_heading level2 col9\" >sitting</th>\n      <th id=\"T_8ffaa_level2_col10\" class=\"col_heading level2 col10\" >blue</th>\n      <th id=\"T_8ffaa_level2_col11\" class=\"col_heading level2 col11\" >white</th>\n      <th id=\"T_8ffaa_level2_col12\" class=\"col_heading level2 col12\" >full</th>\n      <th id=\"T_8ffaa_level2_col13\" class=\"col_heading level2 col13\" >none</th>\n      <th id=\"T_8ffaa_level2_col14\" class=\"col_heading level2 col14\" >partial</th>\n      <th id=\"T_8ffaa_level2_col15\" class=\"col_heading level2 col15\" >back</th>\n      <th id=\"T_8ffaa_level2_col16\" class=\"col_heading level2 col16\" >front</th>\n      <th id=\"T_8ffaa_level2_col17\" class=\"col_heading level2 col17\" >side</th>\n      <th id=\"T_8ffaa_level2_col18\" class=\"col_heading level2 col18\" >top</th>\n      <th id=\"T_8ffaa_level2_col19\" class=\"col_heading level2 col19\" >unknown</th>\n    </tr>\n    <tr>\n      <th class=\"index_name level0\" >id</th>\n      <th class=\"blank col0\" >&nbsp;</th>\n      <th class=\"blank col1\" >&nbsp;</th>\n      <th class=\"blank col2\" >&nbsp;</th>\n      <th class=\"blank col3\" >&nbsp;</th>\n      <th class=\"blank col4\" >&nbsp;</th>\n      <th class=\"blank col5\" >&nbsp;</th>\n      <th class=\"blank col6\" >&nbsp;</th>\n      <th class=\"blank col7\" >&nbsp;</th>\n      <th class=\"blank col8\" >&nbsp;</th>\n      <th class=\"blank col9\" >&nbsp;</th>\n      <th class=\"blank col10\" >&nbsp;</th>\n      <th class=\"blank col11\" >&nbsp;</th>\n      <th class=\"blank col12\" >&nbsp;</th>\n      <th class=\"blank col13\" >&nbsp;</th>\n      <th class=\"blank col14\" >&nbsp;</th>\n      <th class=\"blank col15\" >&nbsp;</th>\n      <th class=\"blank col16\" >&nbsp;</th>\n      <th class=\"blank col17\" >&nbsp;</th>\n      <th class=\"blank col18\" >&nbsp;</th>\n      <th class=\"blank col19\" >&nbsp;</th>\n    </tr>\n  </thead>\n  <tbody>\n    <tr>\n      <th id=\"T_8ffaa_level0_row0\" class=\"row_heading level0 row0\" >0</th>\n      <td id=\"T_8ffaa_row0_col0\" class=\"data row0 col0\" >200</td>\n      <td id=\"T_8ffaa_row0_col1\" class=\"data row0 col1\" >person</td>\n      <td id=\"T_8ffaa_row0_col2\" class=\"data row0 col2\" >2</td>\n      <td id=\"T_8ffaa_row0_col3\" class=\"data row0 col3\" >1256.000000</td>\n      <td id=\"T_8ffaa_row0_col4\" class=\"data row0 col4\" >202.000000</td>\n      <td id=\"T_8ffaa_row0_col5\" class=\"data row0 col5\" >59.000000</td>\n      <td id=\"T_8ffaa_row0_col6\" class=\"data row0 col6\" >47.000000</td>\n      <td id=\"T_8ffaa_row0_col7\" class=\"data row0 col7\" >True</td>\n      <td id=\"T_8ffaa_row0_col8\" class=\"data row0 col8\" >False</td>\n      <td id=\"T_8ffaa_row0_col9\" class=\"data row0 col9\" >True</td>\n      <td id=\"T_8ffaa_row0_col10\" class=\"data row0 col10\" >True</td>\n      <td id=\"T_8ffaa_row0_col11\" class=\"data row0 col11\" >True</td>\n      <td id=\"T_8ffaa_row0_col12\" class=\"data row0 col12\" >False</td>\n      <td id=\"T_8ffaa_row0_col13\" class=\"data row0 col13\" >False</td>\n      <td id=\"T_8ffaa_row0_col14\" class=\"data row0 col14\" >False</td>\n      <td id=\"T_8ffaa_row0_col15\" class=\"data row0 col15\" >False</td>\n      <td id=\"T_8ffaa_row0_col16\" class=\"data row0 col16\" >False</td>\n      <td id=\"T_8ffaa_row0_col17\" class=\"data row0 col17\" >False</td>\n      <td id=\"T_8ffaa_row0_col18\" class=\"data row0 col18\" >False</td>\n      <td id=\"T_8ffaa_row0_col19\" class=\"data row0 col19\" >False</td>\n    </tr>\n    <tr>\n      <th id=\"T_8ffaa_level0_row1\" class=\"row_heading level0 row1\" >1</th>\n      <td id=\"T_8ffaa_row1_col0\" class=\"data row1 col0\" >200</td>\n      <td id=\"T_8ffaa_row1_col1\" class=\"data row1 col1\" >head</td>\n      <td id=\"T_8ffaa_row1_col2\" class=\"data row1 col2\" >800</td>\n      <td id=\"T_8ffaa_row1_col3\" class=\"data row1 col3\" >1256.000000</td>\n      <td id=\"T_8ffaa_row1_col4\" class=\"data row1 col4\" >202.000000</td>\n      <td id=\"T_8ffaa_row1_col5\" class=\"data row1 col5\" >59.000000</td>\n      <td id=\"T_8ffaa_row1_col6\" class=\"data row1 col6\" >47.000000</td>\n      <td id=\"T_8ffaa_row1_col7\" class=\"data row1 col7\" >None</td>\n      <td id=\"T_8ffaa_row1_col8\" class=\"data row1 col8\" >False</td>\n      <td id=\"T_8ffaa_row1_col9\" class=\"data row1 col9\" >False</td>\n      <td id=\"T_8ffaa_row1_col10\" class=\"data row1 col10\" >False</td>\n      <td id=\"T_8ffaa_row1_col11\" class=\"data row1 col11\" >False</td>\n      <td id=\"T_8ffaa_row1_col12\" class=\"data row1 col12\" >False</td>\n      <td id=\"T_8ffaa_row1_col13\" class=\"data row1 col13\" >False</td>\n      <td id=\"T_8ffaa_row1_col14\" class=\"data row1 col14\" >True</td>\n      <td id=\"T_8ffaa_row1_col15\" class=\"data row1 col15\" >False</td>\n      <td id=\"T_8ffaa_row1_col16\" class=\"data row1 col16\" >False</td>\n      <td id=\"T_8ffaa_row1_col17\" class=\"data row1 col17\" >True</td>\n      <td id=\"T_8ffaa_row1_col18\" class=\"data row1 col18\" >False</td>\n      <td id=\"T_8ffaa_row1_col19\" class=\"data row1 col19\" >False</td>\n    </tr>\n  </tbody>\n</table>\n",
          "text/plain": "<pandas.io.formats.style.Styler at 0x70c1222c35d0>"
         },
         "metadata": {},
         "output_type": "display_data"
        }
       ]
      }
     },
     "a4d58d85324e4d7e864f762144ca8c58": {
      "model_module": "@jupyter-widgets/base",
      "model_module_version": "2.0.0",
      "model_name": "LayoutModel",
      "state": {
       "width": "auto"
      }
     },
     "a4e6be9675ce4f63b0eb11e32f72b681": {
      "model_module": "@jupyter-widgets/controls",
      "model_module_version": "2.0.0",
      "model_name": "HTMLModel",
      "state": {
       "layout": "IPY_MODEL_0806dbda179749f3b23409b7242c3fa3",
       "style": "IPY_MODEL_b43bab7c537846c6a85eaee34193a714",
       "value": "<p><span style='white-space: pre-wrap; font-weight: bold'>Dataset object containing 1 image and 2 objects\nName :\n\tNone\nImages root :\n\t../../test_libia/test_data/caipy_dataset/tags/Images</span></p>"
      }
     },
     "a662a534628146ee9065da6a6351b8c5": {
      "model_module": "@jupyter-widgets/output",
      "model_module_version": "1.0.0",
      "model_name": "OutputModel",
      "state": {
       "layout": "IPY_MODEL_8314c5aaae6840449a58f769ed04a9eb",
       "outputs": [
        {
         "data": {
          "application/vnd.jupyter.widget-view+json": {
           "model_id": "3ff80506461c407eb63971c6797b8c03",
           "version_major": 2,
           "version_minor": 0
          },
          "text/plain": "VBox(children=(HBox(children=(VBox(children=(Label(value='Booleanize'), Label(value='Column format'))), VBox(c…"
         },
         "metadata": {},
         "output_type": "display_data"
        }
       ]
      }
     },
     "ac25b270cb1841a8aab0b187ec706652": {
      "model_module": "@jupyter-widgets/base",
      "model_module_version": "2.0.0",
      "model_name": "LayoutModel",
      "state": {}
     },
     "adea838b5eff4bf099e2992a8ae25971": {
      "model_module": "@jupyter-widgets/controls",
      "model_module_version": "2.0.0",
      "model_name": "VBoxModel",
      "state": {
       "children": [
        "IPY_MODEL_a4e6be9675ce4f63b0eb11e32f72b681",
        "IPY_MODEL_94d032ce50d546fbae4ba97ce43a89de"
       ],
       "layout": "IPY_MODEL_bbe551fd84d442c19e22d95a93b20357"
      }
     },
     "aecabec779bd49dbbe314b05432038bb": {
      "model_module": "@jupyter-widgets/controls",
      "model_module_version": "2.0.0",
      "model_name": "FloatProgressModel",
      "state": {
       "bar_style": "success",
       "layout": "IPY_MODEL_d73a747efb964a22b15d2f97a07b9e11",
       "max": 2,
       "style": "IPY_MODEL_009938e3aace4fb5be4b7f9d753a6ec5",
       "value": 2
      }
     },
     "b043e656654e4268b14579470972b386": {
      "model_module": "@jupyter-widgets/controls",
      "model_module_version": "2.0.0",
      "model_name": "LinkModel",
      "state": {
       "source": [
        "IPY_MODEL_ca8ef64a212942208b718cf64f69d33f",
        "index"
       ],
       "target": [
        "IPY_MODEL_d46e365c48204d43acb32dd5c944cf02",
        "selected_index"
       ]
      }
     },
     "b43bab7c537846c6a85eaee34193a714": {
      "model_module": "@jupyter-widgets/controls",
      "model_module_version": "2.0.0",
      "model_name": "HTMLStyleModel",
      "state": {
       "description_width": "",
       "font_size": null,
       "text_color": null
      }
     },
     "bbe551fd84d442c19e22d95a93b20357": {
      "model_module": "@jupyter-widgets/base",
      "model_module_version": "2.0.0",
      "model_name": "LayoutModel",
      "state": {}
     },
     "beae6502c7e544f5a732e9f3bfb26421": {
      "model_module": "@jupyter-widgets/controls",
      "model_module_version": "2.0.0",
      "model_name": "LinkModel",
      "state": {
       "source": [
        "IPY_MODEL_ca8ef64a212942208b718cf64f69d33f",
        "index"
       ],
       "target": [
        "IPY_MODEL_7aa95d431ae3490fbaf4e450c90b2b15",
        "selected_index"
       ]
      }
     },
     "c25aa2c74edb4331a42aa7ced04bae82": {
      "model_module": "@jupyter-widgets/base",
      "model_module_version": "2.0.0",
      "model_name": "LayoutModel",
      "state": {}
     },
     "c2b2b95113844923901af0cd69146e31": {
      "model_module": "@jupyter-widgets/controls",
      "model_module_version": "2.0.0",
      "model_name": "HBoxModel",
      "state": {
       "children": [
        "IPY_MODEL_48e812286b9047ef82467faf16123e94",
        "IPY_MODEL_aecabec779bd49dbbe314b05432038bb",
        "IPY_MODEL_3834552ef0e5488892fdd0a937db0710"
       ],
       "layout": "IPY_MODEL_d24c29db9fb243a38c5edcec0e3d1767"
      }
     },
     "c311cf324b804856b6c06a8e84c8afc1": {
      "model_module": "@jupyter-widgets/base",
      "model_module_version": "2.0.0",
      "model_name": "LayoutModel",
      "state": {}
     },
     "c371c772e6114cda9841bb0bb6e38374": {
      "model_module": "@jupyter-widgets/base",
      "model_module_version": "2.0.0",
      "model_name": "LayoutModel",
      "state": {}
     },
     "c45f9b0316b14496995e20611923b039": {
      "model_module": "@jupyter-widgets/base",
      "model_module_version": "2.0.0",
      "model_name": "LayoutModel",
      "state": {}
     },
     "c7183614c5844863a7d2c19525418946": {
      "model_module": "@jupyter-widgets/controls",
      "model_module_version": "2.0.0",
      "model_name": "HTMLModel",
      "state": {
       "layout": "IPY_MODEL_c45f9b0316b14496995e20611923b039",
       "style": "IPY_MODEL_9220b083170e486f82c6195ebdac6d3e",
       "value": "100%"
      }
     },
     "c77725a123134e21ad6fe91f853dfcfa": {
      "model_module": "@jupyter-widgets/output",
      "model_module_version": "1.0.0",
      "model_name": "OutputModel",
      "state": {
       "layout": "IPY_MODEL_ac25b270cb1841a8aab0b187ec706652",
       "outputs": [
        {
         "data": {
          "text/html": "<div>\n<style scoped>\n    .dataframe tbody tr th:only-of-type {\n        vertical-align: middle;\n    }\n\n    .dataframe tbody tr th {\n        vertical-align: top;\n    }\n\n    .dataframe thead th {\n        text-align: right;\n    }\n</style>\n<table border=\"1\" class=\"dataframe\">\n  <thead>\n    <tr style=\"text-align: right;\">\n      <th></th>\n      <th>image_id</th>\n      <th>category_str</th>\n      <th>category_id</th>\n      <th>box_x_min</th>\n      <th>box_y_min</th>\n      <th>box_width</th>\n      <th>box_height</th>\n      <th>attributes.doubt</th>\n      <th>attributes.actions</th>\n      <th>attributes.colors</th>\n      <th>attributes.headwear</th>\n      <th>attributes.position</th>\n    </tr>\n    <tr>\n      <th>id</th>\n      <th></th>\n      <th></th>\n      <th></th>\n      <th></th>\n      <th></th>\n      <th></th>\n      <th></th>\n      <th></th>\n      <th></th>\n      <th></th>\n      <th></th>\n      <th></th>\n    </tr>\n  </thead>\n  <tbody>\n    <tr>\n      <th>0</th>\n      <td>200</td>\n      <td>person</td>\n      <td>2</td>\n      <td>1256.0</td>\n      <td>202.0</td>\n      <td>59.0</td>\n      <td>47.0</td>\n      <td>True</td>\n      <td>[sitting]</td>\n      <td>[blue, white]</td>\n      <td>[]</td>\n      <td>[]</td>\n    </tr>\n    <tr>\n      <th>1</th>\n      <td>200</td>\n      <td>head</td>\n      <td>800</td>\n      <td>1256.0</td>\n      <td>202.0</td>\n      <td>59.0</td>\n      <td>47.0</td>\n      <td>None</td>\n      <td>[]</td>\n      <td>[]</td>\n      <td>[partial]</td>\n      <td>[side]</td>\n    </tr>\n  </tbody>\n</table>\n</div>",
          "text/plain": "    image_id category_str  category_id  box_x_min  box_y_min  box_width  \\\nid                                                                        \n0        200       person            2     1256.0      202.0       59.0   \n1        200         head          800     1256.0      202.0       59.0   \n\n    box_height attributes.doubt attributes.actions attributes.colors  \\\nid                                                                     \n0         47.0             True          [sitting]     [blue, white]   \n1         47.0             None                 []                []   \n\n   attributes.headwear attributes.position  \nid                                          \n0                   []                  []  \n1            [partial]              [side]  "
         },
         "metadata": {},
         "output_type": "display_data"
        }
       ]
      }
     },
     "c8b1651a8ff049d28482b934290c9a2a": {
      "model_module": "@jupyter-widgets/base",
      "model_module_version": "2.0.0",
      "model_name": "LayoutModel",
      "state": {}
     },
     "ca8ef64a212942208b718cf64f69d33f": {
      "model_module": "@jupyter-widgets/controls",
      "model_module_version": "2.0.0",
      "model_name": "DropdownModel",
      "state": {
       "_options_labels": [
        "raw",
        "nested"
       ],
       "index": 0,
       "layout": "IPY_MODEL_945fe0f42792452fb99df0fce5a49910",
       "style": "IPY_MODEL_dcac46f8961643c39c9e1815bcae4349"
      }
     },
     "cb13a00bfa334dbdb1fc46b7def9b37a": {
      "model_module": "@jupyter-widgets/controls",
      "model_module_version": "2.0.0",
      "model_name": "HTMLStyleModel",
      "state": {
       "description_width": "",
       "font_size": null,
       "text_color": null
      }
     },
     "cb60b12436ec46b492132064cde0f313": {
      "model_module": "@jupyter-widgets/output",
      "model_module_version": "1.0.0",
      "model_name": "OutputModel",
      "state": {
       "layout": "IPY_MODEL_f584b9e43a834083930aaa998e674570",
       "outputs": [
        {
         "data": {
          "text/html": "<div>\n<style scoped>\n    .dataframe tbody tr th:only-of-type {\n        vertical-align: middle;\n    }\n\n    .dataframe tbody tr th {\n        vertical-align: top;\n    }\n\n    .dataframe thead th {\n        text-align: right;\n    }\n</style>\n<table border=\"1\" class=\"dataframe\">\n  <thead>\n    <tr style=\"text-align: right;\">\n      <th></th>\n      <th>width</th>\n      <th>height</th>\n      <th>relative_path</th>\n      <th>type</th>\n      <th>tags.label_book_version</th>\n      <th>tags.light</th>\n      <th>tags.location</th>\n      <th>tags.spectrum</th>\n      <th>tags.time</th>\n      <th>tags.view</th>\n      <th>tags.weather</th>\n    </tr>\n    <tr>\n      <th>id</th>\n      <th></th>\n      <th></th>\n      <th></th>\n      <th></th>\n      <th></th>\n      <th></th>\n      <th></th>\n      <th></th>\n      <th></th>\n      <th></th>\n      <th></th>\n    </tr>\n  </thead>\n  <tbody>\n    <tr>\n      <th>200</th>\n      <td>640</td>\n      <td>427</td>\n      <td>785.jpg</td>\n      <td>.jpg</td>\n      <td>V5</td>\n      <td>natural-light</td>\n      <td>exterior</td>\n      <td>A BAD VALUE</td>\n      <td>day</td>\n      <td>front-view</td>\n      <td>sunny</td>\n    </tr>\n  </tbody>\n</table>\n</div>",
          "text/plain": "     width  height relative_path  type tags.label_book_version     tags.light  \\\nid                                                                              \n200    640     427       785.jpg  .jpg                      V5  natural-light   \n\n    tags.location tags.spectrum tags.time   tags.view tags.weather  \nid                                                                  \n200      exterior   A BAD VALUE       day  front-view        sunny  "
         },
         "metadata": {},
         "output_type": "display_data"
        }
       ]
      }
     },
     "cf176ce2fa164ae2b26d5607342851aa": {
      "model_module": "@jupyter-widgets/base",
      "model_module_version": "2.0.0",
      "model_name": "LayoutModel",
      "state": {}
     },
     "d24c29db9fb243a38c5edcec0e3d1767": {
      "model_module": "@jupyter-widgets/base",
      "model_module_version": "2.0.0",
      "model_name": "LayoutModel",
      "state": {}
     },
     "d2ab51218bba428ca5e3ff1dead2b587": {
      "model_module": "@jupyter-widgets/controls",
      "model_module_version": "2.0.0",
      "model_name": "HTMLModel",
      "state": {
       "layout": "IPY_MODEL_82846336e02a485d959f5c0647166dae",
       "style": "IPY_MODEL_f04db5f6a15747d699d849789fb4cda4",
       "value": "100%"
      }
     },
     "d37f1a475ad4456f84892f38dc266932": {
      "model_module": "@jupyter-widgets/base",
      "model_module_version": "2.0.0",
      "model_name": "LayoutModel",
      "state": {}
     },
     "d438c987308740a2878d423b4d4790b4": {
      "model_module": "@jupyter-widgets/base",
      "model_module_version": "2.0.0",
      "model_name": "LayoutModel",
      "state": {}
     },
     "d46e365c48204d43acb32dd5c944cf02": {
      "model_module": "@jupyter-widgets/controls",
      "model_module_version": "2.0.0",
      "model_name": "StackModel",
      "state": {
       "children": [
        "IPY_MODEL_c77725a123134e21ad6fe91f853dfcfa",
        "IPY_MODEL_4156fd78fe4d483dbf211578ce948264"
       ],
       "layout": "IPY_MODEL_1a3b6f260a85451e90474f1222c46c2b",
       "selected_index": 0,
       "titles": [
        "",
        ""
       ]
      }
     },
     "d73a747efb964a22b15d2f97a07b9e11": {
      "model_module": "@jupyter-widgets/base",
      "model_module_version": "2.0.0",
      "model_name": "LayoutModel",
      "state": {}
     },
     "db1e9b2211ba4fb692913b406877539d": {
      "model_module": "@jupyter-widgets/controls",
      "model_module_version": "2.0.0",
      "model_name": "ToggleButtonsStyleModel",
      "state": {
       "button_width": "auto",
       "description_width": ""
      }
     },
     "dc18f32543644b98ac4bb57180b9b26f": {
      "model_module": "@jupyter-widgets/controls",
      "model_module_version": "2.0.0",
      "model_name": "ProgressStyleModel",
      "state": {
       "description_width": ""
      }
     },
     "dcac46f8961643c39c9e1815bcae4349": {
      "model_module": "@jupyter-widgets/controls",
      "model_module_version": "2.0.0",
      "model_name": "DescriptionStyleModel",
      "state": {
       "description_width": ""
      }
     },
     "dfc240866b7e476eb46b8e3009f5a786": {
      "model_module": "@jupyter-widgets/controls",
      "model_module_version": "2.0.0",
      "model_name": "VBoxModel",
      "state": {
       "children": [
        "IPY_MODEL_21430331a20a40f2b7bd4a9642576b67",
        "IPY_MODEL_ef9b88563d6a46e0b8956adef14d02b6"
       ],
       "layout": "IPY_MODEL_70dcd0662dfd49ae947665fad895605d"
      }
     },
     "e17fba1647694f4eaaa5e3cb89b819a5": {
      "model_module": "@jupyter-widgets/output",
      "model_module_version": "1.0.0",
      "model_name": "OutputModel",
      "state": {
       "layout": "IPY_MODEL_4db3ba35209e423b8eebb4aa809ae08c",
       "outputs": [
        {
         "data": {
          "text/html": "<div>\n<style scoped>\n    .dataframe tbody tr th:only-of-type {\n        vertical-align: middle;\n    }\n\n    .dataframe tbody tr th {\n        vertical-align: top;\n    }\n\n    .dataframe thead th {\n        text-align: right;\n    }\n</style>\n<table border=\"1\" class=\"dataframe\">\n  <thead>\n    <tr style=\"text-align: right;\">\n      <th></th>\n      <th>category string</th>\n    </tr>\n    <tr>\n      <th>category_id</th>\n      <th></th>\n    </tr>\n  </thead>\n  <tbody>\n    <tr>\n      <th>2</th>\n      <td>person</td>\n    </tr>\n    <tr>\n      <th>800</th>\n      <td>head</td>\n    </tr>\n  </tbody>\n</table>\n</div>",
          "text/plain": "            category string\ncategory_id                \n2                    person\n800                    head"
         },
         "metadata": {},
         "output_type": "display_data"
        }
       ]
      }
     },
     "e20aad781ac7474199000fb043606cc8": {
      "model_module": "@jupyter-widgets/base",
      "model_module_version": "2.0.0",
      "model_name": "LayoutModel",
      "state": {}
     },
     "e256a426d559462b91e8e174dbbccf0c": {
      "model_module": "@jupyter-widgets/controls",
      "model_module_version": "2.0.0",
      "model_name": "HBoxModel",
      "state": {
       "children": [
        "IPY_MODEL_c7183614c5844863a7d2c19525418946",
        "IPY_MODEL_f46ed9514ddf4a8797fa78ef33608621",
        "IPY_MODEL_66e90ea266e54621886b53c328a12608"
       ],
       "layout": "IPY_MODEL_92bfcb652bae45e3ab2b5ab41e067a42"
      }
     },
     "e7f6ac9c81494ef497f6625ff0c726f3": {
      "model_module": "@jupyter-widgets/base",
      "model_module_version": "2.0.0",
      "model_name": "LayoutModel",
      "state": {}
     },
     "ed9d86965d304f35b6cdbec3b117b6a3": {
      "model_module": "@jupyter-widgets/base",
      "model_module_version": "2.0.0",
      "model_name": "LayoutModel",
      "state": {}
     },
     "ef3607aa55ee4c98b688f4f9aae44b84": {
      "model_module": "@jupyter-widgets/base",
      "model_module_version": "2.0.0",
      "model_name": "LayoutModel",
      "state": {}
     },
     "ef9b88563d6a46e0b8956adef14d02b6": {
      "model_module": "@jupyter-widgets/controls",
      "model_module_version": "2.0.0",
      "model_name": "LabelModel",
      "state": {
       "layout": "IPY_MODEL_ef3607aa55ee4c98b688f4f9aae44b84",
       "style": "IPY_MODEL_2710850c7d1d44868e2db2a2d3f3854c",
       "value": "Column format"
      }
     },
     "f04db5f6a15747d699d849789fb4cda4": {
      "model_module": "@jupyter-widgets/controls",
      "model_module_version": "2.0.0",
      "model_name": "HTMLStyleModel",
      "state": {
       "description_width": "",
       "font_size": null,
       "text_color": null
      }
     },
     "f46ed9514ddf4a8797fa78ef33608621": {
      "model_module": "@jupyter-widgets/controls",
      "model_module_version": "2.0.0",
      "model_name": "FloatProgressModel",
      "state": {
       "bar_style": "success",
       "layout": "IPY_MODEL_07c8354f71934e158f3849257da4916e",
       "max": 2,
       "style": "IPY_MODEL_dc18f32543644b98ac4bb57180b9b26f",
       "value": 2
      }
     },
     "f584b9e43a834083930aaa998e674570": {
      "model_module": "@jupyter-widgets/base",
      "model_module_version": "2.0.0",
      "model_name": "LayoutModel",
      "state": {}
     },
     "faf56f6943b747259db2e44dec206377": {
      "model_module": "@jupyter-widgets/base",
      "model_module_version": "2.0.0",
      "model_name": "LayoutModel",
      "state": {}
     }
    },
    "version_major": 2,
    "version_minor": 0
   }
  }
 },
 "nbformat": 4,
 "nbformat_minor": 5
}
