{
 "cells": [
  {
   "cell_type": "markdown",
   "metadata": {},
   "source": [
    "# Booleanize columns of lists in you Dataset dataframes\n",
    "\n",
    "This notebooks shows how the `booleanize` and `debooleanize` methods can be used for easy attributes/tags filtering\n",
    "\n",
    "Booleanization is the action of converting columns of list to a list of boolean columns. Each boolean column tells whether the element is present in the original list or not.\n",
    "\n",
    "What's more, it shows how the widget works to be able to choose between showing boolean values or list values."
   ]
  },
  {
   "cell_type": "code",
   "execution_count": 1,
   "metadata": {},
   "outputs": [],
   "source": [
    "%load_ext autoreload\n",
    "\n",
    "%autoreload 2\n",
    "import warnings\n",
    "\n",
    "warnings.simplefilter(action=\"ignore\", category=FutureWarning)\n",
    "import lours\n",
    "from lours.dataset import from_caipy\n",
    "from lours.utils.testing import assert_dataset_equal"
   ]
  },
  {
   "cell_type": "markdown",
   "metadata": {},
   "source": [
    "## Booleanization example\n",
    "\n",
    "### Note on widget interface\n",
    "\n",
    "You can see by selecting the \"Annotations\" tab that you can chose to show the dataframes as booleanized or not, and with nested columns or not.\n",
    "\n",
    "Don't forget that under the hood, the columns are booleanized and not nested, here, it's just for readability of the widget.\n",
    "\n",
    "## Automatic booleanization\n",
    "\n",
    "By default, when using `from_caipy` with `use_schema` set to `True`, it booleanizes the dataset.\n",
    "\n",
    "See more info about advanced parsing with caipy and schemas in the related tutorial : [Demo schemas](6_demo_schemas.ipynb)"
   ]
  },
  {
   "cell_type": "code",
   "execution_count": 2,
   "metadata": {},
   "outputs": [
    {
     "data": {
      "application/vnd.jupyter.widget-view+json": {
       "model_id": "640fc4ab1b5647a1b7db3d4e4c3687fe",
       "version_major": 2,
       "version_minor": 0
      },
      "text/plain": [
       "  0%|          | 0/2 [00:00<?, ?it/s]"
      ]
     },
     "metadata": {},
     "output_type": "display_data"
    },
    {
     "data": {
      "application/vnd.jupyter.widget-view+json": {
       "model_id": "e95a5732cf754fc9813fc4a66723b908",
       "version_major": 2,
       "version_minor": 0
      },
      "text/plain": [
       "VBox(children=(HTML(value=\"<p><span style='white-space: pre-wrap; font-weight: bold'>Dataset object containing…"
      ]
     },
     "metadata": {},
     "output_type": "display_data"
    }
   ],
   "source": [
    "from_caipy(\n",
    "    \"../../test_lours/test_data/caipy_dataset/tags/small_tagged_dataset/\",\n",
    "    use_schema=True,\n",
    "    booleanize=True,\n",
    ")"
   ]
  },
  {
   "cell_type": "markdown",
   "metadata": {},
   "source": [
    "Also, note that by default, columns are shown as they appear on the dataframe, i.e. raw columns with boolean value, but the default display option can be changed in the `lours.utils` module."
   ]
  },
  {
   "cell_type": "code",
   "execution_count": 3,
   "metadata": {},
   "outputs": [
    {
     "data": {
      "application/vnd.jupyter.widget-view+json": {
       "model_id": "efab93cac02640288836dcc56de2569e",
       "version_major": 2,
       "version_minor": 0
      },
      "text/plain": [
       "  0%|          | 0/2 [00:00<?, ?it/s]"
      ]
     },
     "metadata": {},
     "output_type": "display_data"
    },
    {
     "data": {
      "application/vnd.jupyter.widget-view+json": {
       "model_id": "b62cd32fbc454a568d788e358d81719b",
       "version_major": 2,
       "version_minor": 0
      },
      "text/plain": [
       "VBox(children=(HTML(value=\"<p><span style='white-space: pre-wrap; font-weight: bold'>Dataset object containing…"
      ]
     },
     "metadata": {},
     "output_type": "display_data"
    }
   ],
   "source": [
    "lours.utils.DISPLAY_NESTED_COLUMNS = True\n",
    "lours.utils.DISPLAY_UNBOOLEANIZED = True\n",
    "from_caipy(\n",
    "    \"../../test_lours/test_data/caipy_dataset/tags/small_tagged_dataset/\",\n",
    "    use_schema=True,\n",
    "    booleanize=True,\n",
    ")"
   ]
  },
  {
   "cell_type": "markdown",
   "metadata": {},
   "source": [
    "## Manual Booleanization\n",
    "\n",
    "If you select `booleanize=False` when loading with `from_caipy`, you will keep the item column.\n",
    "To booleanize it manually, you can call the method `.booleanize` Make sure that the column names you give to that method are only composed of iterables in each cell (be it set or list)"
   ]
  },
  {
   "cell_type": "code",
   "execution_count": 4,
   "metadata": {},
   "outputs": [
    {
     "data": {
      "application/vnd.jupyter.widget-view+json": {
       "model_id": "8f768406784e42a5bd0416d0d4d49177",
       "version_major": 2,
       "version_minor": 0
      },
      "text/plain": [
       "  0%|          | 0/2 [00:00<?, ?it/s]"
      ]
     },
     "metadata": {},
     "output_type": "display_data"
    }
   ],
   "source": [
    "dataset = from_caipy(\n",
    "    \"../../test_lours/test_data/caipy_dataset/tags/small_tagged_dataset/\",\n",
    "    json_schema=\"default\",\n",
    "    booleanize=False,\n",
    ")"
   ]
  },
  {
   "cell_type": "code",
   "execution_count": 5,
   "metadata": {},
   "outputs": [
    {
     "data": {
      "application/vnd.jupyter.widget-view+json": {
       "model_id": "88b8f9769d3f44268c43e109596151a0",
       "version_major": 2,
       "version_minor": 0
      },
      "text/plain": [
       "VBox(children=(HTML(value=\"<p><span style='white-space: pre-wrap; font-weight: bold'>Dataset object containing…"
      ]
     },
     "metadata": {},
     "output_type": "display_data"
    }
   ],
   "source": [
    "dataset"
   ]
  },
  {
   "cell_type": "code",
   "execution_count": 6,
   "metadata": {},
   "outputs": [
    {
     "data": {
      "application/vnd.jupyter.widget-view+json": {
       "model_id": "0016410fbb0c4cc0ac07a5ed16c9fca0",
       "version_major": 2,
       "version_minor": 0
      },
      "text/plain": [
       "VBox(children=(HTML(value=\"<p><span style='white-space: pre-wrap; font-weight: bold'>Dataset object containing…"
      ]
     },
     "metadata": {},
     "output_type": "display_data"
    }
   ],
   "source": [
    "booleanized = dataset.booleanize(\"attributes.colors\")\n",
    "booleanized"
   ]
  },
  {
   "cell_type": "markdown",
   "metadata": {},
   "source": [
    "## Working with booleanized data\n",
    "\n",
    "See how simpler it is to filter annotations based on attributes.colors :\n",
    "\n",
    "In this example, we  are interested into keeping annotations that have \"red\" in their \"colors\"\n",
    "\n",
    "With a regular dataset, you will need to call the very inefficient `.apply` method."
   ]
  },
  {
   "cell_type": "code",
   "execution_count": 7,
   "metadata": {},
   "outputs": [
    {
     "data": {
      "application/vnd.jupyter.widget-view+json": {
       "model_id": "8c761bf016664dec9312c62bfece2045",
       "version_major": 2,
       "version_minor": 0
      },
      "text/plain": [
       "VBox(children=(HTML(value=\"<p><span style='white-space: pre-wrap; font-weight: bold'>Dataset object containing…"
      ]
     },
     "metadata": {},
     "output_type": "display_data"
    }
   ],
   "source": [
    "dataset.loc_annot[dataset.annotations[\"attributes.colors\"].apply(lambda x: \"red\" in x)]"
   ]
  },
  {
   "cell_type": "markdown",
   "metadata": {},
   "source": [
    "With a booleanized dataset, you can directly call the `.loc_annot` method with the `attributes.colors.red` column."
   ]
  },
  {
   "cell_type": "code",
   "execution_count": 8,
   "metadata": {},
   "outputs": [
    {
     "data": {
      "application/vnd.jupyter.widget-view+json": {
       "model_id": "6c9c4a81448a4284851db4a66db3a890",
       "version_major": 2,
       "version_minor": 0
      },
      "text/plain": [
       "VBox(children=(HTML(value=\"<p><span style='white-space: pre-wrap; font-weight: bold'>Dataset object containing…"
      ]
     },
     "metadata": {},
     "output_type": "display_data"
    }
   ],
   "source": [
    "booleanized.loc_annot[booleanized.annotations[\"attributes.colors.red\"]]"
   ]
  },
  {
   "cell_type": "markdown",
   "metadata": {},
   "source": [
    "## Debooleanization\n",
    "\n",
    "Although the booleanized columns are dropped in favor of the boolean ones, we keep track of them in a special attribute `Dataset.booleanized_columns`\n",
    "\n",
    "As such, we can use the `debooleanize` method to get back to the original dataset. Note that this method has to be used for several io methods :\n",
    " - `to_caipy`\n",
    " - `to_caipy_generic`\n",
    " - `to_coco`\n",
    " - `to_fiftyone`"
   ]
  },
  {
   "cell_type": "code",
   "execution_count": 9,
   "metadata": {},
   "outputs": [
    {
     "data": {
      "application/vnd.jupyter.widget-view+json": {
       "model_id": "e80f694f3bec4dafbdf5d819b5fb5088",
       "version_major": 2,
       "version_minor": 0
      },
      "text/plain": [
       "VBox(children=(HTML(value=\"<p><span style='white-space: pre-wrap; font-weight: bold'>Dataset object containing…"
      ]
     },
     "metadata": {},
     "output_type": "display_data"
    }
   ],
   "source": [
    "debool = booleanized.debooleanize()\n",
    "assert_dataset_equal(debool, dataset)\n",
    "debool"
   ]
  }
 ],
 "metadata": {
  "kernelspec": {
   "display_name": "Python 3 (ipykernel)",
   "language": "python",
   "name": "python3"
  },
  "language_info": {
   "codemirror_mode": {
    "name": "ipython",
    "version": 3
   },
   "file_extension": ".py",
   "mimetype": "text/x-python",
   "name": "python",
   "nbconvert_exporter": "python",
   "pygments_lexer": "ipython3",
   "version": "3.11.9"
  },
  "widgets": {
   "application/vnd.jupyter.widget-state+json": {
    "state": {
     "00105760164c49b08951734e94d401c8": {
      "model_module": "@jupyter-widgets/controls",
      "model_module_version": "2.0.0",
      "model_name": "StackModel",
      "state": {
       "children": [
        "IPY_MODEL_ace75e5bfc284bd2bd9ecb8f5636bb48",
        "IPY_MODEL_99226b544c3841ea8ba9e045cad83eac"
       ],
       "layout": "IPY_MODEL_9d4609281c014251a47809ebaf7409f3",
       "selected_index": 1,
       "titles": [
        "",
        ""
       ]
      }
     },
     "00178f21f8804fc2baa6277c97ce20b1": {
      "model_module": "@jupyter-widgets/controls",
      "model_module_version": "2.0.0",
      "model_name": "DescriptionStyleModel",
      "state": {
       "description_width": ""
      }
     },
     "008ef973c8f642558c8de06d1f27c09d": {
      "model_module": "@jupyter-widgets/base",
      "model_module_version": "2.0.0",
      "model_name": "LayoutModel",
      "state": {}
     },
     "025e2d92d09d4dc1960241d7f82b00ff": {
      "model_module": "@jupyter-widgets/base",
      "model_module_version": "2.0.0",
      "model_name": "LayoutModel",
      "state": {}
     },
     "03e7dbcfbb694ef4be8d08e041cbe1bf": {
      "model_module": "@jupyter-widgets/controls",
      "model_module_version": "2.0.0",
      "model_name": "LabelModel",
      "state": {
       "layout": "IPY_MODEL_4f68a89efccb4589a58694b80c45ecd3",
       "style": "IPY_MODEL_0bd14685602241ef88b0b870f6750600",
       "value": "Column format"
      }
     },
     "04264ed64ed946a48928781c30b5d755": {
      "model_module": "@jupyter-widgets/base",
      "model_module_version": "2.0.0",
      "model_name": "LayoutModel",
      "state": {}
     },
     "04e46c56624b4f56bfeea1e9495e2717": {
      "model_module": "@jupyter-widgets/base",
      "model_module_version": "2.0.0",
      "model_name": "LayoutModel",
      "state": {}
     },
     "054e5460702a4fbbbf2b92a4b1390c23": {
      "model_module": "@jupyter-widgets/controls",
      "model_module_version": "2.0.0",
      "model_name": "LinkModel",
      "state": {
       "source": [
        "IPY_MODEL_b559e3280e504adaa50fd0003dfeee3d",
        "index"
       ],
       "target": [
        "IPY_MODEL_827a8fe062e94b4f8116397a0b0a49fe",
        "selected_index"
       ]
      }
     },
     "055f2fabf98b415ba51d397bfc7d28b6": {
      "model_module": "@jupyter-widgets/controls",
      "model_module_version": "2.0.0",
      "model_name": "StackModel",
      "state": {
       "children": [
        "IPY_MODEL_96e12c005b5d4a919b024bab56d1dba5",
        "IPY_MODEL_b18f09bd82cd4dfba29320e4cf85e72e"
       ],
       "layout": "IPY_MODEL_0f7326c85d8c4429aae10c78d9fae596",
       "selected_index": 1,
       "titles": [
        "",
        ""
       ]
      }
     },
     "06314e795d3341ae8c31f6cf1ff62c8e": {
      "model_module": "@jupyter-widgets/output",
      "model_module_version": "1.0.0",
      "model_name": "OutputModel",
      "state": {
       "layout": "IPY_MODEL_3831225f13834870bdc2986fceb98b0a",
       "outputs": [
        {
         "data": {
          "text/html": "<style type=\"text/css\">\n#T_88114 th {\n  border-right: 1px solid #F0F0F0;\n}\n</style>\n<table id=\"T_88114\">\n  <thead>\n    <tr>\n      <th class=\"blank level0\" >&nbsp;</th>\n      <th id=\"T_88114_level0_col0\" class=\"col_heading level0 col0\" >width</th>\n      <th id=\"T_88114_level0_col1\" class=\"col_heading level0 col1\" >height</th>\n      <th id=\"T_88114_level0_col2\" class=\"col_heading level0 col2\" >relative_path</th>\n      <th id=\"T_88114_level0_col3\" class=\"col_heading level0 col3\" >type</th>\n      <th id=\"T_88114_level0_col4\" class=\"col_heading level0 col4\" colspan=\"3\">tags</th>\n    </tr>\n    <tr>\n      <th class=\"blank level1\" >&nbsp;</th>\n      <th id=\"T_88114_level1_col0\" class=\"col_heading level1 col0\" ></th>\n      <th id=\"T_88114_level1_col1\" class=\"col_heading level1 col1\" ></th>\n      <th id=\"T_88114_level1_col2\" class=\"col_heading level1 col2\" ></th>\n      <th id=\"T_88114_level1_col3\" class=\"col_heading level1 col3\" ></th>\n      <th id=\"T_88114_level1_col4\" class=\"col_heading level1 col4\" >location</th>\n      <th id=\"T_88114_level1_col5\" class=\"col_heading level1 col5\" >spectrum</th>\n      <th id=\"T_88114_level1_col6\" class=\"col_heading level1 col6\" >time</th>\n    </tr>\n    <tr>\n      <th class=\"index_name level0\" >id</th>\n      <th class=\"blank col0\" >&nbsp;</th>\n      <th class=\"blank col1\" >&nbsp;</th>\n      <th class=\"blank col2\" >&nbsp;</th>\n      <th class=\"blank col3\" >&nbsp;</th>\n      <th class=\"blank col4\" >&nbsp;</th>\n      <th class=\"blank col5\" >&nbsp;</th>\n      <th class=\"blank col6\" >&nbsp;</th>\n    </tr>\n  </thead>\n  <tbody>\n    <tr>\n      <th id=\"T_88114_level0_row0\" class=\"row_heading level0 row0\" >6091</th>\n      <td id=\"T_88114_row0_col0\" class=\"data row0 col0\" >480</td>\n      <td id=\"T_88114_row0_col1\" class=\"data row0 col1\" >640</td>\n      <td id=\"T_88114_row0_col2\" class=\"data row0 col2\" >image1.jpg</td>\n      <td id=\"T_88114_row0_col3\" class=\"data row0 col3\" >.jpg</td>\n      <td id=\"T_88114_row0_col4\" class=\"data row0 col4\" >exterior</td>\n      <td id=\"T_88114_row0_col5\" class=\"data row0 col5\" >RGB</td>\n      <td id=\"T_88114_row0_col6\" class=\"data row0 col6\" >night</td>\n    </tr>\n    <tr>\n      <th id=\"T_88114_level0_row1\" class=\"row_heading level0 row1\" >10395</th>\n      <td id=\"T_88114_row1_col0\" class=\"data row1 col0\" >500</td>\n      <td id=\"T_88114_row1_col1\" class=\"data row1 col1\" >476</td>\n      <td id=\"T_88114_row1_col2\" class=\"data row1 col2\" >image2.jpg</td>\n      <td id=\"T_88114_row1_col3\" class=\"data row1 col3\" >.jpg</td>\n      <td id=\"T_88114_row1_col4\" class=\"data row1 col4\" >exterior</td>\n      <td id=\"T_88114_row1_col5\" class=\"data row1 col5\" >RGB</td>\n      <td id=\"T_88114_row1_col6\" class=\"data row1 col6\" >night</td>\n    </tr>\n  </tbody>\n</table>\n",
          "text/plain": "<pandas.io.formats.style.Styler at 0x7940f3b6d650>"
         },
         "metadata": {},
         "output_type": "display_data"
        }
       ]
      }
     },
     "06604cd3c200445b98faa4a20fc53f46": {
      "model_module": "@jupyter-widgets/base",
      "model_module_version": "2.0.0",
      "model_name": "LayoutModel",
      "state": {}
     },
     "066a6791a702412fb1d15d3a81d4027c": {
      "model_module": "@jupyter-widgets/controls",
      "model_module_version": "2.0.0",
      "model_name": "VBoxModel",
      "state": {
       "children": [
        "IPY_MODEL_a43b4e0d825f416a925bcb62337151b0",
        "IPY_MODEL_c50789bee7754ba2bab3591d4f9b4b8c"
       ],
       "layout": "IPY_MODEL_e5622346c6de44ae8179842d2158ebf4"
      }
     },
     "06d5df245e064116bafb80d1d0ed2eb6": {
      "model_module": "@jupyter-widgets/controls",
      "model_module_version": "2.0.0",
      "model_name": "HTMLModel",
      "state": {
       "layout": "IPY_MODEL_71ca3af25f7841b198d6e39e710d72a7",
       "style": "IPY_MODEL_1f35fa06f93f47e08881d75db50dca72",
       "value": "<p><span style='white-space: pre-wrap; font-weight: bold'>Dataset object containing 2 images and 2 objects\nName :\n\tsmall_v5_dataset\nImages root :\n\t../../test_libia/test_data/caipy_dataset/tags/small_v5_dataset/Images</span></p>"
      }
     },
     "07e2bf8160054c949d80bc1f8646cf19": {
      "model_module": "@jupyter-widgets/base",
      "model_module_version": "2.0.0",
      "model_name": "LayoutModel",
      "state": {}
     },
     "07f8d3c3c18c47c59a892247b5651124": {
      "model_module": "@jupyter-widgets/controls",
      "model_module_version": "2.0.0",
      "model_name": "HTMLModel",
      "state": {
       "layout": "IPY_MODEL_c38b00829145442599727fa4c420ab9b",
       "style": "IPY_MODEL_0d1702d15ea64e05ac503ff6725277a3",
       "value": "<p><span style='white-space: pre-wrap; font-weight: bold'>Dataset object containing 2 images and 1 object\nName :\n\tsmall_v5_dataset\nImages root :\n\t../../test_libia/test_data/caipy_dataset/tags/small_v5_dataset/Images</span></p>"
      }
     },
     "087b64e7cb034695b087b4e79caa07f1": {
      "model_module": "@jupyter-widgets/output",
      "model_module_version": "1.0.0",
      "model_name": "OutputModel",
      "state": {
       "layout": "IPY_MODEL_2fea8c66d507491f85e08d348f845d34",
       "outputs": [
        {
         "data": {
          "text/html": "<div>\n<style scoped>\n    .dataframe tbody tr th:only-of-type {\n        vertical-align: middle;\n    }\n\n    .dataframe tbody tr th {\n        vertical-align: top;\n    }\n\n    .dataframe thead th {\n        text-align: right;\n    }\n</style>\n<table border=\"1\" class=\"dataframe\">\n  <thead>\n    <tr style=\"text-align: right;\">\n      <th></th>\n      <th>image_id</th>\n      <th>category_str</th>\n      <th>category_id</th>\n      <th>box_x_min</th>\n      <th>box_y_min</th>\n      <th>box_width</th>\n      <th>box_height</th>\n      <th>area</th>\n      <th>attributes.colors</th>\n      <th>attributes.job</th>\n    </tr>\n    <tr>\n      <th>id</th>\n      <th></th>\n      <th></th>\n      <th></th>\n      <th></th>\n      <th></th>\n      <th></th>\n      <th></th>\n      <th></th>\n      <th></th>\n      <th></th>\n    </tr>\n  </thead>\n  <tbody>\n    <tr>\n      <th>269791</th>\n      <td>6091</td>\n      <td>stop sign</td>\n      <td>13</td>\n      <td>100.22</td>\n      <td>117.54</td>\n      <td>253.43</td>\n      <td>274.9</td>\n      <td>46726.4303</td>\n      <td>[red, white]</td>\n      <td>[police]</td>\n    </tr>\n  </tbody>\n</table>\n</div>",
          "text/plain": "        image_id category_str  category_id  box_x_min  box_y_min  box_width  \\\nid                                                                            \n269791      6091    stop sign           13     100.22     117.54     253.43   \n\n        box_height        area attributes.colors attributes.job  \nid                                                               \n269791       274.9  46726.4303      [red, white]       [police]  "
         },
         "metadata": {},
         "output_type": "display_data"
        }
       ]
      }
     },
     "093a56d92eb240c5bf5a85efa12f8c36": {
      "model_module": "@jupyter-widgets/output",
      "model_module_version": "1.0.0",
      "model_name": "OutputModel",
      "state": {
       "layout": "IPY_MODEL_ca41e0229000482e88010897dd0b16df",
       "outputs": [
        {
         "data": {
          "text/html": "<div>\n<style scoped>\n    .dataframe tbody tr th:only-of-type {\n        vertical-align: middle;\n    }\n\n    .dataframe tbody tr th {\n        vertical-align: top;\n    }\n\n    .dataframe thead th {\n        text-align: right;\n    }\n</style>\n<table border=\"1\" class=\"dataframe\">\n  <thead>\n    <tr style=\"text-align: right;\">\n      <th></th>\n      <th>image_id</th>\n      <th>category_str</th>\n      <th>category_id</th>\n      <th>box_x_min</th>\n      <th>box_y_min</th>\n      <th>box_width</th>\n      <th>box_height</th>\n      <th>area</th>\n      <th>attributes.colors.beige</th>\n      <th>attributes.colors.black</th>\n      <th>...</th>\n      <th>attributes.colors.pink</th>\n      <th>attributes.colors.purple</th>\n      <th>attributes.colors.red</th>\n      <th>attributes.colors.white</th>\n      <th>attributes.colors.yellow</th>\n      <th>attributes.job.ambulance</th>\n      <th>attributes.job.firefighter</th>\n      <th>attributes.job.police</th>\n      <th>attributes.job.public worker</th>\n      <th>attributes.job.unknown</th>\n    </tr>\n    <tr>\n      <th>id</th>\n      <th></th>\n      <th></th>\n      <th></th>\n      <th></th>\n      <th></th>\n      <th></th>\n      <th></th>\n      <th></th>\n      <th></th>\n      <th></th>\n      <th></th>\n      <th></th>\n      <th></th>\n      <th></th>\n      <th></th>\n      <th></th>\n      <th></th>\n      <th></th>\n      <th></th>\n      <th></th>\n      <th></th>\n    </tr>\n  </thead>\n  <tbody>\n    <tr>\n      <th>269791</th>\n      <td>6091</td>\n      <td>stop sign</td>\n      <td>13</td>\n      <td>100.22</td>\n      <td>117.54</td>\n      <td>253.43</td>\n      <td>274.90</td>\n      <td>46726.4303</td>\n      <td>False</td>\n      <td>False</td>\n      <td>...</td>\n      <td>False</td>\n      <td>False</td>\n      <td>True</td>\n      <td>True</td>\n      <td>False</td>\n      <td>False</td>\n      <td>False</td>\n      <td>True</td>\n      <td>False</td>\n      <td>False</td>\n    </tr>\n    <tr>\n      <th>1161234</th>\n      <td>10395</td>\n      <td>teddy bear</td>\n      <td>88</td>\n      <td>49.19</td>\n      <td>66.20</td>\n      <td>378.97</td>\n      <td>379.68</td>\n      <td>84587.4391</td>\n      <td>False</td>\n      <td>False</td>\n      <td>...</td>\n      <td>False</td>\n      <td>False</td>\n      <td>False</td>\n      <td>False</td>\n      <td>False</td>\n      <td>False</td>\n      <td>False</td>\n      <td>False</td>\n      <td>False</td>\n      <td>False</td>\n    </tr>\n  </tbody>\n</table>\n<p>2 rows × 26 columns</p>\n</div>",
          "text/plain": "         image_id category_str  category_id  box_x_min  box_y_min  box_width  \\\nid                                                                             \n269791       6091    stop sign           13     100.22     117.54     253.43   \n1161234     10395   teddy bear           88      49.19      66.20     378.97   \n\n         box_height        area  attributes.colors.beige  \\\nid                                                         \n269791       274.90  46726.4303                    False   \n1161234      379.68  84587.4391                    False   \n\n         attributes.colors.black  ...  attributes.colors.pink  \\\nid                                ...                           \n269791                     False  ...                   False   \n1161234                    False  ...                   False   \n\n         attributes.colors.purple  attributes.colors.red  \\\nid                                                         \n269791                      False                   True   \n1161234                     False                  False   \n\n         attributes.colors.white  attributes.colors.yellow  \\\nid                                                           \n269791                      True                     False   \n1161234                    False                     False   \n\n         attributes.job.ambulance  attributes.job.firefighter  \\\nid                                                              \n269791                      False                       False   \n1161234                     False                       False   \n\n         attributes.job.police  attributes.job.public worker  \\\nid                                                             \n269791                    True                         False   \n1161234                  False                         False   \n\n         attributes.job.unknown  \nid                               \n269791                    False  \n1161234                   False  \n\n[2 rows x 26 columns]"
         },
         "metadata": {},
         "output_type": "display_data"
        }
       ]
      }
     },
     "09c08f2772594ca9ab39e1c2c7ec8aea": {
      "model_module": "@jupyter-widgets/base",
      "model_module_version": "2.0.0",
      "model_name": "LayoutModel",
      "state": {}
     },
     "0a5ad3a8c572402eb1b02cf86c507e1c": {
      "model_module": "@jupyter-widgets/controls",
      "model_module_version": "2.0.0",
      "model_name": "DropdownModel",
      "state": {
       "_options_labels": [
        "raw",
        "nested"
       ],
       "index": 1,
       "layout": "IPY_MODEL_832592f6d6694ac89ee1a8177863fdd1",
       "style": "IPY_MODEL_8451cee892544113bb3ea74b326cc035"
      }
     },
     "0b73631e80df49f6b1399b32864f73c0": {
      "model_module": "@jupyter-widgets/output",
      "model_module_version": "1.0.0",
      "model_name": "OutputModel",
      "state": {
       "layout": "IPY_MODEL_7956f796da2f46f4b5981bf56a042df3",
       "outputs": [
        {
         "data": {
          "text/html": "<div>\n<style scoped>\n    .dataframe tbody tr th:only-of-type {\n        vertical-align: middle;\n    }\n\n    .dataframe tbody tr th {\n        vertical-align: top;\n    }\n\n    .dataframe thead th {\n        text-align: right;\n    }\n</style>\n<table border=\"1\" class=\"dataframe\">\n  <thead>\n    <tr style=\"text-align: right;\">\n      <th></th>\n      <th>category string</th>\n    </tr>\n    <tr>\n      <th>category_id</th>\n      <th></th>\n    </tr>\n  </thead>\n  <tbody>\n    <tr>\n      <th>13</th>\n      <td>stop sign</td>\n    </tr>\n    <tr>\n      <th>88</th>\n      <td>teddy bear</td>\n    </tr>\n  </tbody>\n</table>\n</div>",
          "text/plain": "            category string\ncategory_id                \n13                stop sign\n88               teddy bear"
         },
         "metadata": {},
         "output_type": "display_data"
        }
       ]
      }
     },
     "0bd14685602241ef88b0b870f6750600": {
      "model_module": "@jupyter-widgets/controls",
      "model_module_version": "2.0.0",
      "model_name": "LabelStyleModel",
      "state": {
       "description_width": "",
       "font_family": null,
       "font_size": null,
       "font_style": null,
       "font_variant": null,
       "font_weight": null,
       "text_color": null,
       "text_decoration": null
      }
     },
     "0c3022feb15d49968e3d6aee27805c44": {
      "model_module": "@jupyter-widgets/output",
      "model_module_version": "1.0.0",
      "model_name": "OutputModel",
      "state": {
       "layout": "IPY_MODEL_07e2bf8160054c949d80bc1f8646cf19",
       "outputs": [
        {
         "data": {
          "text/html": "<div>\n<style scoped>\n    .dataframe tbody tr th:only-of-type {\n        vertical-align: middle;\n    }\n\n    .dataframe tbody tr th {\n        vertical-align: top;\n    }\n\n    .dataframe thead th {\n        text-align: right;\n    }\n</style>\n<table border=\"1\" class=\"dataframe\">\n  <thead>\n    <tr style=\"text-align: right;\">\n      <th></th>\n      <th>width</th>\n      <th>height</th>\n      <th>relative_path</th>\n      <th>type</th>\n      <th>tags.location</th>\n      <th>tags.spectrum</th>\n      <th>tags.time</th>\n    </tr>\n    <tr>\n      <th>id</th>\n      <th></th>\n      <th></th>\n      <th></th>\n      <th></th>\n      <th></th>\n      <th></th>\n      <th></th>\n    </tr>\n  </thead>\n  <tbody>\n    <tr>\n      <th>6091</th>\n      <td>480</td>\n      <td>640</td>\n      <td>image1.jpg</td>\n      <td>.jpg</td>\n      <td>exterior</td>\n      <td>RGB</td>\n      <td>night</td>\n    </tr>\n    <tr>\n      <th>10395</th>\n      <td>500</td>\n      <td>476</td>\n      <td>image2.jpg</td>\n      <td>.jpg</td>\n      <td>exterior</td>\n      <td>RGB</td>\n      <td>night</td>\n    </tr>\n  </tbody>\n</table>\n</div>",
          "text/plain": "       width  height relative_path  type tags.location tags.spectrum tags.time\nid                                                                            \n6091     480     640    image1.jpg  .jpg      exterior           RGB     night\n10395    500     476    image2.jpg  .jpg      exterior           RGB     night"
         },
         "metadata": {},
         "output_type": "display_data"
        }
       ]
      }
     },
     "0cad1d65402d46368442f111431fadd0": {
      "model_module": "@jupyter-widgets/controls",
      "model_module_version": "2.0.0",
      "model_name": "HBoxModel",
      "state": {
       "children": [
        "IPY_MODEL_f9655fdfe462442db231096f1c04604b",
        "IPY_MODEL_78a7b1c849fc4437a221a0a375aa2de1"
       ],
       "layout": "IPY_MODEL_b68ce890cf1a4b42acc281030f38db79"
      }
     },
     "0d1702d15ea64e05ac503ff6725277a3": {
      "model_module": "@jupyter-widgets/controls",
      "model_module_version": "2.0.0",
      "model_name": "HTMLStyleModel",
      "state": {
       "description_width": "",
       "font_size": null,
       "text_color": null
      }
     },
     "0e79bb2e760f4b718d5fe7c2a920c87a": {
      "model_module": "@jupyter-widgets/base",
      "model_module_version": "2.0.0",
      "model_name": "LayoutModel",
      "state": {}
     },
     "0e9b3b6dce1f4ad8a40a541decdbde84": {
      "model_module": "@jupyter-widgets/controls",
      "model_module_version": "2.0.0",
      "model_name": "LinkModel",
      "state": {
       "source": [
        "IPY_MODEL_ceb29c60259946778e7b1c5c11f394c4",
        "index"
       ],
       "target": [
        "IPY_MODEL_f9e2d860b6784e2bae70aacd9696aa26",
        "selected_index"
       ]
      }
     },
     "0f060f5e128640eda2088571b417d82d": {
      "model_module": "@jupyter-widgets/controls",
      "model_module_version": "2.0.0",
      "model_name": "VBoxModel",
      "state": {
       "children": [
        "IPY_MODEL_af5c6e1f126d4d81a620bbb605c0f7ee",
        "IPY_MODEL_49c8c09615b24f3183dcb8eace1c8b6f"
       ],
       "layout": "IPY_MODEL_06604cd3c200445b98faa4a20fc53f46"
      }
     },
     "0f7326c85d8c4429aae10c78d9fae596": {
      "model_module": "@jupyter-widgets/base",
      "model_module_version": "2.0.0",
      "model_name": "LayoutModel",
      "state": {}
     },
     "0ff6ef25b14445d4896e6e470d76ce2e": {
      "model_module": "@jupyter-widgets/controls",
      "model_module_version": "2.0.0",
      "model_name": "VBoxModel",
      "state": {
       "children": [
        "IPY_MODEL_f840a5e024af4c3cb4c2a55b3c9816d8",
        "IPY_MODEL_465c52c33d2948c3be255f7d9672373b"
       ],
       "layout": "IPY_MODEL_51739dddb7eb4f0fa2722a51018b206a"
      }
     },
     "10ead96d57f44abf97eb89464993150a": {
      "model_module": "@jupyter-widgets/base",
      "model_module_version": "2.0.0",
      "model_name": "LayoutModel",
      "state": {}
     },
     "116b4624ae8e411bb06cfcdbb7ffa397": {
      "model_module": "@jupyter-widgets/output",
      "model_module_version": "1.0.0",
      "model_name": "OutputModel",
      "state": {
       "layout": "IPY_MODEL_c49337a1fb2e46cd85d83c5aca262060",
       "outputs": [
        {
         "data": {
          "text/html": "<div>\n<style scoped>\n    .dataframe tbody tr th:only-of-type {\n        vertical-align: middle;\n    }\n\n    .dataframe tbody tr th {\n        vertical-align: top;\n    }\n\n    .dataframe thead th {\n        text-align: right;\n    }\n</style>\n<table border=\"1\" class=\"dataframe\">\n  <thead>\n    <tr style=\"text-align: right;\">\n      <th></th>\n      <th>image_id</th>\n      <th>category_str</th>\n      <th>category_id</th>\n      <th>box_x_min</th>\n      <th>box_y_min</th>\n      <th>box_width</th>\n      <th>box_height</th>\n      <th>area</th>\n      <th>attributes.colors</th>\n      <th>attributes.job</th>\n    </tr>\n    <tr>\n      <th>id</th>\n      <th></th>\n      <th></th>\n      <th></th>\n      <th></th>\n      <th></th>\n      <th></th>\n      <th></th>\n      <th></th>\n      <th></th>\n      <th></th>\n    </tr>\n  </thead>\n  <tbody>\n    <tr>\n      <th>269791</th>\n      <td>6091</td>\n      <td>stop sign</td>\n      <td>13</td>\n      <td>100.22</td>\n      <td>117.54</td>\n      <td>253.43</td>\n      <td>274.90</td>\n      <td>46726.4303</td>\n      <td>[red, white]</td>\n      <td>[police]</td>\n    </tr>\n    <tr>\n      <th>1161234</th>\n      <td>10395</td>\n      <td>teddy bear</td>\n      <td>88</td>\n      <td>49.19</td>\n      <td>66.20</td>\n      <td>378.97</td>\n      <td>379.68</td>\n      <td>84587.4391</td>\n      <td>[grey]</td>\n      <td>[]</td>\n    </tr>\n  </tbody>\n</table>\n</div>",
          "text/plain": "         image_id category_str  category_id  box_x_min  box_y_min  box_width  \\\nid                                                                             \n269791       6091    stop sign           13     100.22     117.54     253.43   \n1161234     10395   teddy bear           88      49.19      66.20     378.97   \n\n         box_height        area attributes.colors attributes.job  \nid                                                                \n269791       274.90  46726.4303      [red, white]       [police]  \n1161234      379.68  84587.4391            [grey]             []  "
         },
         "metadata": {},
         "output_type": "display_data"
        }
       ]
      }
     },
     "116dd2fe884141609a3cabafb30e488a": {
      "model_module": "@jupyter-widgets/controls",
      "model_module_version": "2.0.0",
      "model_name": "HTMLStyleModel",
      "state": {
       "description_width": "",
       "font_size": null,
       "text_color": null
      }
     },
     "11ae35d8b24c43829c520b2483e5fc3a": {
      "model_module": "@jupyter-widgets/output",
      "model_module_version": "1.0.0",
      "model_name": "OutputModel",
      "state": {
       "layout": "IPY_MODEL_45befa17b8d34198b6bc85c3c76ec316",
       "outputs": [
        {
         "data": {
          "text/html": "<div>\n<style scoped>\n    .dataframe tbody tr th:only-of-type {\n        vertical-align: middle;\n    }\n\n    .dataframe tbody tr th {\n        vertical-align: top;\n    }\n\n    .dataframe thead th {\n        text-align: right;\n    }\n</style>\n<table border=\"1\" class=\"dataframe\">\n  <thead>\n    <tr style=\"text-align: right;\">\n      <th></th>\n      <th>width</th>\n      <th>height</th>\n      <th>relative_path</th>\n      <th>type</th>\n      <th>tags.location</th>\n      <th>tags.spectrum</th>\n      <th>tags.time</th>\n    </tr>\n    <tr>\n      <th>id</th>\n      <th></th>\n      <th></th>\n      <th></th>\n      <th></th>\n      <th></th>\n      <th></th>\n      <th></th>\n    </tr>\n  </thead>\n  <tbody>\n    <tr>\n      <th>6091</th>\n      <td>480</td>\n      <td>640</td>\n      <td>image1.jpg</td>\n      <td>.jpg</td>\n      <td>exterior</td>\n      <td>RGB</td>\n      <td>night</td>\n    </tr>\n    <tr>\n      <th>10395</th>\n      <td>500</td>\n      <td>476</td>\n      <td>image2.jpg</td>\n      <td>.jpg</td>\n      <td>exterior</td>\n      <td>RGB</td>\n      <td>night</td>\n    </tr>\n  </tbody>\n</table>\n</div>",
          "text/plain": "       width  height relative_path  type tags.location tags.spectrum tags.time\nid                                                                            \n6091     480     640    image1.jpg  .jpg      exterior           RGB     night\n10395    500     476    image2.jpg  .jpg      exterior           RGB     night"
         },
         "metadata": {},
         "output_type": "display_data"
        }
       ]
      }
     },
     "12f682b10a5d483ab1cb8c65dcbadee2": {
      "model_module": "@jupyter-widgets/controls",
      "model_module_version": "2.0.0",
      "model_name": "VBoxModel",
      "state": {
       "children": [
        "IPY_MODEL_8337de32257745aeb78cfa5f3e946c10",
        "IPY_MODEL_4338ece490314e2cb34107ab22460d8d"
       ],
       "layout": "IPY_MODEL_9ddebf729dd042899592a38c4b1ac425"
      }
     },
     "137273feae674dffb709841507c73a67": {
      "model_module": "@jupyter-widgets/controls",
      "model_module_version": "2.0.0",
      "model_name": "StackModel",
      "state": {
       "children": [
        "IPY_MODEL_236d13e7a357419a82368ac30a95971b",
        "IPY_MODEL_cb2e6fc81a814f04ba2bc97d91516e68"
       ],
       "layout": "IPY_MODEL_d94b69cea45e49978b12cae3fe9c3323",
       "selected_index": 1,
       "titles": [
        "",
        ""
       ]
      }
     },
     "13a9a2e276f44aff9a8b53bff9a48677": {
      "model_module": "@jupyter-widgets/controls",
      "model_module_version": "2.0.0",
      "model_name": "LinkModel",
      "state": {
       "source": [
        "IPY_MODEL_887130e2a4a84c33849784401bfedba6",
        "index"
       ],
       "target": [
        "IPY_MODEL_f8efbd7eeef84d0ea663c63d38c7753d",
        "selected_index"
       ]
      }
     },
     "14132848699c469eabd3abd14b660851": {
      "model_module": "@jupyter-widgets/output",
      "model_module_version": "1.0.0",
      "model_name": "OutputModel",
      "state": {
       "layout": "IPY_MODEL_f31a5d9c55ec4e4f87afc75e237aa428",
       "outputs": [
        {
         "data": {
          "text/html": "<div>\n<style scoped>\n    .dataframe tbody tr th:only-of-type {\n        vertical-align: middle;\n    }\n\n    .dataframe tbody tr th {\n        vertical-align: top;\n    }\n\n    .dataframe thead th {\n        text-align: right;\n    }\n</style>\n<table border=\"1\" class=\"dataframe\">\n  <thead>\n    <tr style=\"text-align: right;\">\n      <th></th>\n      <th>image_id</th>\n      <th>category_str</th>\n      <th>category_id</th>\n      <th>box_x_min</th>\n      <th>box_y_min</th>\n      <th>box_width</th>\n      <th>box_height</th>\n      <th>area</th>\n      <th>attributes.colors.beige</th>\n      <th>attributes.colors.black</th>\n      <th>...</th>\n      <th>attributes.colors.pink</th>\n      <th>attributes.colors.purple</th>\n      <th>attributes.colors.red</th>\n      <th>attributes.colors.white</th>\n      <th>attributes.colors.yellow</th>\n      <th>attributes.job.ambulance</th>\n      <th>attributes.job.firefighter</th>\n      <th>attributes.job.police</th>\n      <th>attributes.job.public worker</th>\n      <th>attributes.job.unknown</th>\n    </tr>\n    <tr>\n      <th>id</th>\n      <th></th>\n      <th></th>\n      <th></th>\n      <th></th>\n      <th></th>\n      <th></th>\n      <th></th>\n      <th></th>\n      <th></th>\n      <th></th>\n      <th></th>\n      <th></th>\n      <th></th>\n      <th></th>\n      <th></th>\n      <th></th>\n      <th></th>\n      <th></th>\n      <th></th>\n      <th></th>\n      <th></th>\n    </tr>\n  </thead>\n  <tbody>\n    <tr>\n      <th>269791</th>\n      <td>6091</td>\n      <td>stop sign</td>\n      <td>13</td>\n      <td>100.22</td>\n      <td>117.54</td>\n      <td>253.43</td>\n      <td>274.90</td>\n      <td>46726.4303</td>\n      <td>False</td>\n      <td>False</td>\n      <td>...</td>\n      <td>False</td>\n      <td>False</td>\n      <td>True</td>\n      <td>True</td>\n      <td>False</td>\n      <td>False</td>\n      <td>False</td>\n      <td>True</td>\n      <td>False</td>\n      <td>False</td>\n    </tr>\n    <tr>\n      <th>1161234</th>\n      <td>10395</td>\n      <td>teddy bear</td>\n      <td>88</td>\n      <td>49.19</td>\n      <td>66.20</td>\n      <td>378.97</td>\n      <td>379.68</td>\n      <td>84587.4391</td>\n      <td>False</td>\n      <td>False</td>\n      <td>...</td>\n      <td>False</td>\n      <td>False</td>\n      <td>False</td>\n      <td>False</td>\n      <td>False</td>\n      <td>False</td>\n      <td>False</td>\n      <td>False</td>\n      <td>False</td>\n      <td>False</td>\n    </tr>\n  </tbody>\n</table>\n<p>2 rows × 26 columns</p>\n</div>",
          "text/plain": "         image_id category_str  category_id  box_x_min  box_y_min  box_width  \\\nid                                                                             \n269791       6091    stop sign           13     100.22     117.54     253.43   \n1161234     10395   teddy bear           88      49.19      66.20     378.97   \n\n         box_height        area  attributes.colors.beige  \\\nid                                                         \n269791       274.90  46726.4303                    False   \n1161234      379.68  84587.4391                    False   \n\n         attributes.colors.black  ...  attributes.colors.pink  \\\nid                                ...                           \n269791                     False  ...                   False   \n1161234                    False  ...                   False   \n\n         attributes.colors.purple  attributes.colors.red  \\\nid                                                         \n269791                      False                   True   \n1161234                     False                  False   \n\n         attributes.colors.white  attributes.colors.yellow  \\\nid                                                           \n269791                      True                     False   \n1161234                    False                     False   \n\n         attributes.job.ambulance  attributes.job.firefighter  \\\nid                                                              \n269791                      False                       False   \n1161234                     False                       False   \n\n         attributes.job.police  attributes.job.public worker  \\\nid                                                             \n269791                    True                         False   \n1161234                  False                         False   \n\n         attributes.job.unknown  \nid                               \n269791                    False  \n1161234                   False  \n\n[2 rows x 26 columns]"
         },
         "metadata": {},
         "output_type": "display_data"
        }
       ]
      }
     },
     "14df742b05b34116b676c62121718770": {
      "model_module": "@jupyter-widgets/output",
      "model_module_version": "1.0.0",
      "model_name": "OutputModel",
      "state": {
       "layout": "IPY_MODEL_fd4eed059e104c76b2c45b5ffa0fe211",
       "outputs": [
        {
         "data": {
          "text/html": "<style type=\"text/css\">\n#T_0a66c th {\n  border-right: 1px solid #F0F0F0;\n}\n</style>\n<table id=\"T_0a66c\">\n  <thead>\n    <tr>\n      <th class=\"blank level0\" >&nbsp;</th>\n      <th id=\"T_0a66c_level0_col0\" class=\"col_heading level0 col0\" >width</th>\n      <th id=\"T_0a66c_level0_col1\" class=\"col_heading level0 col1\" >height</th>\n      <th id=\"T_0a66c_level0_col2\" class=\"col_heading level0 col2\" >relative_path</th>\n      <th id=\"T_0a66c_level0_col3\" class=\"col_heading level0 col3\" >type</th>\n      <th id=\"T_0a66c_level0_col4\" class=\"col_heading level0 col4\" colspan=\"3\">tags</th>\n    </tr>\n    <tr>\n      <th class=\"blank level1\" >&nbsp;</th>\n      <th id=\"T_0a66c_level1_col0\" class=\"col_heading level1 col0\" ></th>\n      <th id=\"T_0a66c_level1_col1\" class=\"col_heading level1 col1\" ></th>\n      <th id=\"T_0a66c_level1_col2\" class=\"col_heading level1 col2\" ></th>\n      <th id=\"T_0a66c_level1_col3\" class=\"col_heading level1 col3\" ></th>\n      <th id=\"T_0a66c_level1_col4\" class=\"col_heading level1 col4\" >location</th>\n      <th id=\"T_0a66c_level1_col5\" class=\"col_heading level1 col5\" >spectrum</th>\n      <th id=\"T_0a66c_level1_col6\" class=\"col_heading level1 col6\" >time</th>\n    </tr>\n    <tr>\n      <th class=\"index_name level0\" >id</th>\n      <th class=\"blank col0\" >&nbsp;</th>\n      <th class=\"blank col1\" >&nbsp;</th>\n      <th class=\"blank col2\" >&nbsp;</th>\n      <th class=\"blank col3\" >&nbsp;</th>\n      <th class=\"blank col4\" >&nbsp;</th>\n      <th class=\"blank col5\" >&nbsp;</th>\n      <th class=\"blank col6\" >&nbsp;</th>\n    </tr>\n  </thead>\n  <tbody>\n    <tr>\n      <th id=\"T_0a66c_level0_row0\" class=\"row_heading level0 row0\" >6091</th>\n      <td id=\"T_0a66c_row0_col0\" class=\"data row0 col0\" >480</td>\n      <td id=\"T_0a66c_row0_col1\" class=\"data row0 col1\" >640</td>\n      <td id=\"T_0a66c_row0_col2\" class=\"data row0 col2\" >image1.jpg</td>\n      <td id=\"T_0a66c_row0_col3\" class=\"data row0 col3\" >.jpg</td>\n      <td id=\"T_0a66c_row0_col4\" class=\"data row0 col4\" >exterior</td>\n      <td id=\"T_0a66c_row0_col5\" class=\"data row0 col5\" >RGB</td>\n      <td id=\"T_0a66c_row0_col6\" class=\"data row0 col6\" >night</td>\n    </tr>\n    <tr>\n      <th id=\"T_0a66c_level0_row1\" class=\"row_heading level0 row1\" >10395</th>\n      <td id=\"T_0a66c_row1_col0\" class=\"data row1 col0\" >500</td>\n      <td id=\"T_0a66c_row1_col1\" class=\"data row1 col1\" >476</td>\n      <td id=\"T_0a66c_row1_col2\" class=\"data row1 col2\" >image2.jpg</td>\n      <td id=\"T_0a66c_row1_col3\" class=\"data row1 col3\" >.jpg</td>\n      <td id=\"T_0a66c_row1_col4\" class=\"data row1 col4\" >exterior</td>\n      <td id=\"T_0a66c_row1_col5\" class=\"data row1 col5\" >RGB</td>\n      <td id=\"T_0a66c_row1_col6\" class=\"data row1 col6\" >night</td>\n    </tr>\n  </tbody>\n</table>\n",
          "text/plain": "<pandas.io.formats.style.Styler at 0x7940f3e7d590>"
         },
         "metadata": {},
         "output_type": "display_data"
        }
       ]
      }
     },
     "15753d0f0b7c40339e3fc4d9d892ee1b": {
      "model_module": "@jupyter-widgets/base",
      "model_module_version": "2.0.0",
      "model_name": "LayoutModel",
      "state": {}
     },
     "15c996b6beb84a9eb54c28226f2bd579": {
      "model_module": "@jupyter-widgets/controls",
      "model_module_version": "2.0.0",
      "model_name": "HBoxModel",
      "state": {
       "children": [
        "IPY_MODEL_dfd0233da24b49b89441836c5f9e9e89",
        "IPY_MODEL_98ae043445f74245af887299a198de3a"
       ],
       "layout": "IPY_MODEL_a216e667ebf642459c813f16df72d61c"
      }
     },
     "1604518b7c994e74861f063957f0e7f3": {
      "model_module": "@jupyter-widgets/controls",
      "model_module_version": "2.0.0",
      "model_name": "LinkModel",
      "state": {
       "source": [
        "IPY_MODEL_b4862abefd164a6197462e5a6e3b0572",
        "index"
       ],
       "target": [
        "IPY_MODEL_37f890dec4b74ea29127f8542ac20839",
        "selected_index"
       ]
      }
     },
     "164d41eff09845da98d36f2bafb49942": {
      "model_module": "@jupyter-widgets/controls",
      "model_module_version": "2.0.0",
      "model_name": "VBoxModel",
      "state": {
       "children": [
        "IPY_MODEL_3eea33de3c3e4184b12a9eebd2800eb0",
        "IPY_MODEL_8b25e9549910415da84db6b3adddc1e1"
       ],
       "layout": "IPY_MODEL_4b1f96a5ffb14ae98d02cc1b113478cc"
      }
     },
     "1681e663fd65493cbdea9161be82ba07": {
      "model_module": "@jupyter-widgets/controls",
      "model_module_version": "2.0.0",
      "model_name": "HBoxModel",
      "state": {
       "children": [
        "IPY_MODEL_7f4065f3b4c445c4a3541e584838f776",
        "IPY_MODEL_0f060f5e128640eda2088571b417d82d"
       ],
       "layout": "IPY_MODEL_6307b906b1d84813a1d315b1841b0f44"
      }
     },
     "173ab3fb03604746807dfadde1945553": {
      "model_module": "@jupyter-widgets/base",
      "model_module_version": "2.0.0",
      "model_name": "LayoutModel",
      "state": {}
     },
     "1763df3f9ef242158b93ed675df78684": {
      "model_module": "@jupyter-widgets/controls",
      "model_module_version": "2.0.0",
      "model_name": "VBoxModel",
      "state": {
       "children": [
        "IPY_MODEL_32bcf802a0dd4b2e84d4ed28119e4c07",
        "IPY_MODEL_ab28170db9de44c39e8c590191d2286a"
       ],
       "layout": "IPY_MODEL_36db4709690a4a58b09ab812a1b6bef6"
      }
     },
     "17872b7fc2da400283f1064ef7aa0870": {
      "model_module": "@jupyter-widgets/controls",
      "model_module_version": "2.0.0",
      "model_name": "VBoxModel",
      "state": {
       "children": [
        "IPY_MODEL_5f7d0fe9ecce4208922c568519e73024",
        "IPY_MODEL_f73b8bed0af648f9b15a279652f50227"
       ],
       "layout": "IPY_MODEL_974f1c4b3d534a929cf930ffa7330433"
      }
     },
     "18c76c4652d24ae498506da979b2eac1": {
      "model_module": "@jupyter-widgets/controls",
      "model_module_version": "2.0.0",
      "model_name": "VBoxModel",
      "state": {
       "children": [
        "IPY_MODEL_6f6995a077d34855bd4a4c96993b73a4",
        "IPY_MODEL_827a8fe062e94b4f8116397a0b0a49fe"
       ],
       "layout": "IPY_MODEL_3ccc50a1a4554d36bfc87f7b8fc78fbd"
      }
     },
     "19b2826311584f93a824b4860f97de76": {
      "model_module": "@jupyter-widgets/output",
      "model_module_version": "1.0.0",
      "model_name": "OutputModel",
      "state": {
       "layout": "IPY_MODEL_8470f9b41dac44f49f78c1a3b778474e",
       "outputs": [
        {
         "data": {
          "text/html": "<div>\n<style scoped>\n    .dataframe tbody tr th:only-of-type {\n        vertical-align: middle;\n    }\n\n    .dataframe tbody tr th {\n        vertical-align: top;\n    }\n\n    .dataframe thead th {\n        text-align: right;\n    }\n</style>\n<table border=\"1\" class=\"dataframe\">\n  <thead>\n    <tr style=\"text-align: right;\">\n      <th></th>\n      <th>width</th>\n      <th>height</th>\n      <th>relative_path</th>\n      <th>type</th>\n      <th>tags.location</th>\n      <th>tags.spectrum</th>\n      <th>tags.time</th>\n    </tr>\n    <tr>\n      <th>id</th>\n      <th></th>\n      <th></th>\n      <th></th>\n      <th></th>\n      <th></th>\n      <th></th>\n      <th></th>\n    </tr>\n  </thead>\n  <tbody>\n    <tr>\n      <th>6091</th>\n      <td>480</td>\n      <td>640</td>\n      <td>image1.jpg</td>\n      <td>.jpg</td>\n      <td>exterior</td>\n      <td>RGB</td>\n      <td>night</td>\n    </tr>\n    <tr>\n      <th>10395</th>\n      <td>500</td>\n      <td>476</td>\n      <td>image2.jpg</td>\n      <td>.jpg</td>\n      <td>exterior</td>\n      <td>RGB</td>\n      <td>night</td>\n    </tr>\n  </tbody>\n</table>\n</div>",
          "text/plain": "       width  height relative_path  type tags.location tags.spectrum tags.time\nid                                                                            \n6091     480     640    image1.jpg  .jpg      exterior           RGB     night\n10395    500     476    image2.jpg  .jpg      exterior           RGB     night"
         },
         "metadata": {},
         "output_type": "display_data"
        }
       ]
      }
     },
     "19e462a0d377449cabb8182a67bef4b4": {
      "model_module": "@jupyter-widgets/controls",
      "model_module_version": "2.0.0",
      "model_name": "StackModel",
      "state": {
       "children": [
        "IPY_MODEL_2c2c13bed10149a3974d0149d0219a9b",
        "IPY_MODEL_5a51be3ccfd64837b1d04f54b6251a54"
       ],
       "layout": "IPY_MODEL_d9cd2de0277c470bb7ca0716e5010460",
       "selected_index": 1,
       "titles": [
        "",
        ""
       ]
      }
     },
     "1a7f4da375764e33adea6392aa185a8c": {
      "model_module": "@jupyter-widgets/output",
      "model_module_version": "1.0.0",
      "model_name": "OutputModel",
      "state": {
       "layout": "IPY_MODEL_5be401bed3744c9ab88b873c0d9e7b31",
       "outputs": [
        {
         "data": {
          "text/html": "<div>\n<style scoped>\n    .dataframe tbody tr th:only-of-type {\n        vertical-align: middle;\n    }\n\n    .dataframe tbody tr th {\n        vertical-align: top;\n    }\n\n    .dataframe thead th {\n        text-align: right;\n    }\n</style>\n<table border=\"1\" class=\"dataframe\">\n  <thead>\n    <tr style=\"text-align: right;\">\n      <th></th>\n      <th>image_id</th>\n      <th>category_str</th>\n      <th>category_id</th>\n      <th>box_x_min</th>\n      <th>box_y_min</th>\n      <th>box_width</th>\n      <th>box_height</th>\n      <th>area</th>\n      <th>attributes.colors</th>\n      <th>attributes.job</th>\n    </tr>\n    <tr>\n      <th>id</th>\n      <th></th>\n      <th></th>\n      <th></th>\n      <th></th>\n      <th></th>\n      <th></th>\n      <th></th>\n      <th></th>\n      <th></th>\n      <th></th>\n    </tr>\n  </thead>\n  <tbody>\n    <tr>\n      <th>269791</th>\n      <td>6091</td>\n      <td>stop sign</td>\n      <td>13</td>\n      <td>100.22</td>\n      <td>117.54</td>\n      <td>253.43</td>\n      <td>274.90</td>\n      <td>46726.4303</td>\n      <td>[red, white]</td>\n      <td>[police]</td>\n    </tr>\n    <tr>\n      <th>1161234</th>\n      <td>10395</td>\n      <td>teddy bear</td>\n      <td>88</td>\n      <td>49.19</td>\n      <td>66.20</td>\n      <td>378.97</td>\n      <td>379.68</td>\n      <td>84587.4391</td>\n      <td>[grey]</td>\n      <td>None</td>\n    </tr>\n  </tbody>\n</table>\n</div>",
          "text/plain": "         image_id category_str  category_id  box_x_min  box_y_min  box_width  \\\nid                                                                             \n269791       6091    stop sign           13     100.22     117.54     253.43   \n1161234     10395   teddy bear           88      49.19      66.20     378.97   \n\n         box_height        area attributes.colors attributes.job  \nid                                                                \n269791       274.90  46726.4303      [red, white]       [police]  \n1161234      379.68  84587.4391            [grey]           None  "
         },
         "metadata": {},
         "output_type": "display_data"
        }
       ]
      }
     },
     "1ad86fe68e6e4682b7f14a6e920bc032": {
      "model_module": "@jupyter-widgets/base",
      "model_module_version": "2.0.0",
      "model_name": "LayoutModel",
      "state": {}
     },
     "1c06226e0ffb4cf0bce739ddc2e9c562": {
      "model_module": "@jupyter-widgets/output",
      "model_module_version": "1.0.0",
      "model_name": "OutputModel",
      "state": {
       "layout": "IPY_MODEL_008ef973c8f642558c8de06d1f27c09d",
       "outputs": [
        {
         "data": {
          "text/html": "<div>\n<style scoped>\n    .dataframe tbody tr th:only-of-type {\n        vertical-align: middle;\n    }\n\n    .dataframe tbody tr th {\n        vertical-align: top;\n    }\n\n    .dataframe thead th {\n        text-align: right;\n    }\n</style>\n<table border=\"1\" class=\"dataframe\">\n  <thead>\n    <tr style=\"text-align: right;\">\n      <th></th>\n      <th>image_id</th>\n      <th>category_str</th>\n      <th>category_id</th>\n      <th>box_x_min</th>\n      <th>box_y_min</th>\n      <th>box_width</th>\n      <th>box_height</th>\n      <th>area</th>\n      <th>attributes.colors</th>\n      <th>attributes.job</th>\n    </tr>\n    <tr>\n      <th>id</th>\n      <th></th>\n      <th></th>\n      <th></th>\n      <th></th>\n      <th></th>\n      <th></th>\n      <th></th>\n      <th></th>\n      <th></th>\n      <th></th>\n    </tr>\n  </thead>\n  <tbody>\n    <tr>\n      <th>269791</th>\n      <td>6091</td>\n      <td>stop sign</td>\n      <td>13</td>\n      <td>100.22</td>\n      <td>117.54</td>\n      <td>253.43</td>\n      <td>274.90</td>\n      <td>46726.4303</td>\n      <td>[red, white]</td>\n      <td>[police]</td>\n    </tr>\n    <tr>\n      <th>1161234</th>\n      <td>10395</td>\n      <td>teddy bear</td>\n      <td>88</td>\n      <td>49.19</td>\n      <td>66.20</td>\n      <td>378.97</td>\n      <td>379.68</td>\n      <td>84587.4391</td>\n      <td>[grey]</td>\n      <td>None</td>\n    </tr>\n  </tbody>\n</table>\n</div>",
          "text/plain": "         image_id category_str  category_id  box_x_min  box_y_min  box_width  \\\nid                                                                             \n269791       6091    stop sign           13     100.22     117.54     253.43   \n1161234     10395   teddy bear           88      49.19      66.20     378.97   \n\n         box_height        area attributes.colors attributes.job  \nid                                                                \n269791       274.90  46726.4303      [red, white]       [police]  \n1161234      379.68  84587.4391            [grey]           None  "
         },
         "metadata": {},
         "output_type": "display_data"
        }
       ]
      }
     },
     "1c45655045d042be94b2984b6afab3be": {
      "model_module": "@jupyter-widgets/controls",
      "model_module_version": "2.0.0",
      "model_name": "LabelModel",
      "state": {
       "layout": "IPY_MODEL_1ad86fe68e6e4682b7f14a6e920bc032",
       "style": "IPY_MODEL_5157b0d87bf841909fc20e6fe4d347a3",
       "value": "Column format"
      }
     },
     "1c4a75b300d946949af14de954a372f5": {
      "model_module": "@jupyter-widgets/base",
      "model_module_version": "2.0.0",
      "model_name": "LayoutModel",
      "state": {}
     },
     "1c65f4021a3b401484770ef291c382d3": {
      "model_module": "@jupyter-widgets/controls",
      "model_module_version": "2.0.0",
      "model_name": "HTMLModel",
      "state": {
       "layout": "IPY_MODEL_25e044b729e04f78aaa3fe04f59f0f0a",
       "style": "IPY_MODEL_689259b83518429d87318e8e270efd7d",
       "value": " 2/2 [00:00&lt;00:00, 210.38it/s]"
      }
     },
     "1c85d1590abf4bf98d2f322f6ef4cf61": {
      "model_module": "@jupyter-widgets/base",
      "model_module_version": "2.0.0",
      "model_name": "LayoutModel",
      "state": {}
     },
     "1d7f7e7fb4f6494e959f91befa693e04": {
      "model_module": "@jupyter-widgets/base",
      "model_module_version": "2.0.0",
      "model_name": "LayoutModel",
      "state": {}
     },
     "1d8ca6079e344e32887539802f824163": {
      "model_module": "@jupyter-widgets/controls",
      "model_module_version": "2.0.0",
      "model_name": "DropdownModel",
      "state": {
       "_options_labels": [
        "raw",
        "nested"
       ],
       "index": 0,
       "layout": "IPY_MODEL_4b9315e0d8614c3d9fb0b20bdd49773d",
       "style": "IPY_MODEL_a2a83e9e6bbc40528e03b2dd1af0dbad"
      }
     },
     "1de0daa9b3de4ded941f28072774630e": {
      "model_module": "@jupyter-widgets/controls",
      "model_module_version": "2.0.0",
      "model_name": "LabelStyleModel",
      "state": {
       "description_width": "",
       "font_family": null,
       "font_size": null,
       "font_style": null,
       "font_variant": null,
       "font_weight": null,
       "text_color": null,
       "text_decoration": null
      }
     },
     "1df511c63d7f41c19d46847830648ea0": {
      "model_module": "@jupyter-widgets/base",
      "model_module_version": "2.0.0",
      "model_name": "LayoutModel",
      "state": {}
     },
     "1e0baf4e93784bb9b6a3959ece03961c": {
      "model_module": "@jupyter-widgets/output",
      "model_module_version": "1.0.0",
      "model_name": "OutputModel",
      "state": {
       "layout": "IPY_MODEL_334275da8a374bcbbbce07a31d958f50",
       "outputs": [
        {
         "data": {
          "text/html": "<style type=\"text/css\">\n#T_24068 th {\n  border-right: 1px solid #F0F0F0;\n}\n</style>\n<table id=\"T_24068\">\n  <thead>\n    <tr>\n      <th class=\"blank level0\" >&nbsp;</th>\n      <th id=\"T_24068_level0_col0\" class=\"col_heading level0 col0\" >image_id</th>\n      <th id=\"T_24068_level0_col1\" class=\"col_heading level0 col1\" >category_str</th>\n      <th id=\"T_24068_level0_col2\" class=\"col_heading level0 col2\" >category_id</th>\n      <th id=\"T_24068_level0_col3\" class=\"col_heading level0 col3\" >box_x_min</th>\n      <th id=\"T_24068_level0_col4\" class=\"col_heading level0 col4\" >box_y_min</th>\n      <th id=\"T_24068_level0_col5\" class=\"col_heading level0 col5\" >box_width</th>\n      <th id=\"T_24068_level0_col6\" class=\"col_heading level0 col6\" >box_height</th>\n      <th id=\"T_24068_level0_col7\" class=\"col_heading level0 col7\" >area</th>\n      <th id=\"T_24068_level0_col8\" class=\"col_heading level0 col8\" colspan=\"18\">attributes</th>\n    </tr>\n    <tr>\n      <th class=\"blank level1\" >&nbsp;</th>\n      <th id=\"T_24068_level1_col0\" class=\"col_heading level1 col0\" ></th>\n      <th id=\"T_24068_level1_col1\" class=\"col_heading level1 col1\" ></th>\n      <th id=\"T_24068_level1_col2\" class=\"col_heading level1 col2\" ></th>\n      <th id=\"T_24068_level1_col3\" class=\"col_heading level1 col3\" ></th>\n      <th id=\"T_24068_level1_col4\" class=\"col_heading level1 col4\" ></th>\n      <th id=\"T_24068_level1_col5\" class=\"col_heading level1 col5\" ></th>\n      <th id=\"T_24068_level1_col6\" class=\"col_heading level1 col6\" ></th>\n      <th id=\"T_24068_level1_col7\" class=\"col_heading level1 col7\" ></th>\n      <th id=\"T_24068_level1_col8\" class=\"col_heading level1 col8\" colspan=\"13\">colors</th>\n      <th id=\"T_24068_level1_col21\" class=\"col_heading level1 col21\" colspan=\"5\">job</th>\n    </tr>\n    <tr>\n      <th class=\"blank level2\" >&nbsp;</th>\n      <th id=\"T_24068_level2_col0\" class=\"col_heading level2 col0\" ></th>\n      <th id=\"T_24068_level2_col1\" class=\"col_heading level2 col1\" ></th>\n      <th id=\"T_24068_level2_col2\" class=\"col_heading level2 col2\" ></th>\n      <th id=\"T_24068_level2_col3\" class=\"col_heading level2 col3\" ></th>\n      <th id=\"T_24068_level2_col4\" class=\"col_heading level2 col4\" ></th>\n      <th id=\"T_24068_level2_col5\" class=\"col_heading level2 col5\" ></th>\n      <th id=\"T_24068_level2_col6\" class=\"col_heading level2 col6\" ></th>\n      <th id=\"T_24068_level2_col7\" class=\"col_heading level2 col7\" ></th>\n      <th id=\"T_24068_level2_col8\" class=\"col_heading level2 col8\" >beige</th>\n      <th id=\"T_24068_level2_col9\" class=\"col_heading level2 col9\" >black</th>\n      <th id=\"T_24068_level2_col10\" class=\"col_heading level2 col10\" >blue</th>\n      <th id=\"T_24068_level2_col11\" class=\"col_heading level2 col11\" >brown</th>\n      <th id=\"T_24068_level2_col12\" class=\"col_heading level2 col12\" >cyan</th>\n      <th id=\"T_24068_level2_col13\" class=\"col_heading level2 col13\" >green</th>\n      <th id=\"T_24068_level2_col14\" class=\"col_heading level2 col14\" >grey</th>\n      <th id=\"T_24068_level2_col15\" class=\"col_heading level2 col15\" >orange</th>\n      <th id=\"T_24068_level2_col16\" class=\"col_heading level2 col16\" >pink</th>\n      <th id=\"T_24068_level2_col17\" class=\"col_heading level2 col17\" >purple</th>\n      <th id=\"T_24068_level2_col18\" class=\"col_heading level2 col18\" >red</th>\n      <th id=\"T_24068_level2_col19\" class=\"col_heading level2 col19\" >white</th>\n      <th id=\"T_24068_level2_col20\" class=\"col_heading level2 col20\" >yellow</th>\n      <th id=\"T_24068_level2_col21\" class=\"col_heading level2 col21\" >ambulance</th>\n      <th id=\"T_24068_level2_col22\" class=\"col_heading level2 col22\" >firefighter</th>\n      <th id=\"T_24068_level2_col23\" class=\"col_heading level2 col23\" >police</th>\n      <th id=\"T_24068_level2_col24\" class=\"col_heading level2 col24\" >public worker</th>\n      <th id=\"T_24068_level2_col25\" class=\"col_heading level2 col25\" >unknown</th>\n    </tr>\n    <tr>\n      <th class=\"index_name level0\" >id</th>\n      <th class=\"blank col0\" >&nbsp;</th>\n      <th class=\"blank col1\" >&nbsp;</th>\n      <th class=\"blank col2\" >&nbsp;</th>\n      <th class=\"blank col3\" >&nbsp;</th>\n      <th class=\"blank col4\" >&nbsp;</th>\n      <th class=\"blank col5\" >&nbsp;</th>\n      <th class=\"blank col6\" >&nbsp;</th>\n      <th class=\"blank col7\" >&nbsp;</th>\n      <th class=\"blank col8\" >&nbsp;</th>\n      <th class=\"blank col9\" >&nbsp;</th>\n      <th class=\"blank col10\" >&nbsp;</th>\n      <th class=\"blank col11\" >&nbsp;</th>\n      <th class=\"blank col12\" >&nbsp;</th>\n      <th class=\"blank col13\" >&nbsp;</th>\n      <th class=\"blank col14\" >&nbsp;</th>\n      <th class=\"blank col15\" >&nbsp;</th>\n      <th class=\"blank col16\" >&nbsp;</th>\n      <th class=\"blank col17\" >&nbsp;</th>\n      <th class=\"blank col18\" >&nbsp;</th>\n      <th class=\"blank col19\" >&nbsp;</th>\n      <th class=\"blank col20\" >&nbsp;</th>\n      <th class=\"blank col21\" >&nbsp;</th>\n      <th class=\"blank col22\" >&nbsp;</th>\n      <th class=\"blank col23\" >&nbsp;</th>\n      <th class=\"blank col24\" >&nbsp;</th>\n      <th class=\"blank col25\" >&nbsp;</th>\n    </tr>\n  </thead>\n  <tbody>\n    <tr>\n      <th id=\"T_24068_level0_row0\" class=\"row_heading level0 row0\" >269791</th>\n      <td id=\"T_24068_row0_col0\" class=\"data row0 col0\" >6091</td>\n      <td id=\"T_24068_row0_col1\" class=\"data row0 col1\" >stop sign</td>\n      <td id=\"T_24068_row0_col2\" class=\"data row0 col2\" >13</td>\n      <td id=\"T_24068_row0_col3\" class=\"data row0 col3\" >100.220000</td>\n      <td id=\"T_24068_row0_col4\" class=\"data row0 col4\" >117.540000</td>\n      <td id=\"T_24068_row0_col5\" class=\"data row0 col5\" >253.430000</td>\n      <td id=\"T_24068_row0_col6\" class=\"data row0 col6\" >274.900000</td>\n      <td id=\"T_24068_row0_col7\" class=\"data row0 col7\" >46726.430300</td>\n      <td id=\"T_24068_row0_col8\" class=\"data row0 col8\" >False</td>\n      <td id=\"T_24068_row0_col9\" class=\"data row0 col9\" >False</td>\n      <td id=\"T_24068_row0_col10\" class=\"data row0 col10\" >False</td>\n      <td id=\"T_24068_row0_col11\" class=\"data row0 col11\" >False</td>\n      <td id=\"T_24068_row0_col12\" class=\"data row0 col12\" >False</td>\n      <td id=\"T_24068_row0_col13\" class=\"data row0 col13\" >False</td>\n      <td id=\"T_24068_row0_col14\" class=\"data row0 col14\" >False</td>\n      <td id=\"T_24068_row0_col15\" class=\"data row0 col15\" >False</td>\n      <td id=\"T_24068_row0_col16\" class=\"data row0 col16\" >False</td>\n      <td id=\"T_24068_row0_col17\" class=\"data row0 col17\" >False</td>\n      <td id=\"T_24068_row0_col18\" class=\"data row0 col18\" >True</td>\n      <td id=\"T_24068_row0_col19\" class=\"data row0 col19\" >True</td>\n      <td id=\"T_24068_row0_col20\" class=\"data row0 col20\" >False</td>\n      <td id=\"T_24068_row0_col21\" class=\"data row0 col21\" >False</td>\n      <td id=\"T_24068_row0_col22\" class=\"data row0 col22\" >False</td>\n      <td id=\"T_24068_row0_col23\" class=\"data row0 col23\" >True</td>\n      <td id=\"T_24068_row0_col24\" class=\"data row0 col24\" >False</td>\n      <td id=\"T_24068_row0_col25\" class=\"data row0 col25\" >False</td>\n    </tr>\n    <tr>\n      <th id=\"T_24068_level0_row1\" class=\"row_heading level0 row1\" >1161234</th>\n      <td id=\"T_24068_row1_col0\" class=\"data row1 col0\" >10395</td>\n      <td id=\"T_24068_row1_col1\" class=\"data row1 col1\" >teddy bear</td>\n      <td id=\"T_24068_row1_col2\" class=\"data row1 col2\" >88</td>\n      <td id=\"T_24068_row1_col3\" class=\"data row1 col3\" >49.190000</td>\n      <td id=\"T_24068_row1_col4\" class=\"data row1 col4\" >66.200000</td>\n      <td id=\"T_24068_row1_col5\" class=\"data row1 col5\" >378.970000</td>\n      <td id=\"T_24068_row1_col6\" class=\"data row1 col6\" >379.680000</td>\n      <td id=\"T_24068_row1_col7\" class=\"data row1 col7\" >84587.439100</td>\n      <td id=\"T_24068_row1_col8\" class=\"data row1 col8\" >False</td>\n      <td id=\"T_24068_row1_col9\" class=\"data row1 col9\" >False</td>\n      <td id=\"T_24068_row1_col10\" class=\"data row1 col10\" >False</td>\n      <td id=\"T_24068_row1_col11\" class=\"data row1 col11\" >False</td>\n      <td id=\"T_24068_row1_col12\" class=\"data row1 col12\" >False</td>\n      <td id=\"T_24068_row1_col13\" class=\"data row1 col13\" >False</td>\n      <td id=\"T_24068_row1_col14\" class=\"data row1 col14\" >True</td>\n      <td id=\"T_24068_row1_col15\" class=\"data row1 col15\" >False</td>\n      <td id=\"T_24068_row1_col16\" class=\"data row1 col16\" >False</td>\n      <td id=\"T_24068_row1_col17\" class=\"data row1 col17\" >False</td>\n      <td id=\"T_24068_row1_col18\" class=\"data row1 col18\" >False</td>\n      <td id=\"T_24068_row1_col19\" class=\"data row1 col19\" >False</td>\n      <td id=\"T_24068_row1_col20\" class=\"data row1 col20\" >False</td>\n      <td id=\"T_24068_row1_col21\" class=\"data row1 col21\" >False</td>\n      <td id=\"T_24068_row1_col22\" class=\"data row1 col22\" >False</td>\n      <td id=\"T_24068_row1_col23\" class=\"data row1 col23\" >False</td>\n      <td id=\"T_24068_row1_col24\" class=\"data row1 col24\" >False</td>\n      <td id=\"T_24068_row1_col25\" class=\"data row1 col25\" >False</td>\n    </tr>\n  </tbody>\n</table>\n",
          "text/plain": "<pandas.io.formats.style.Styler at 0x7940f3a015d0>"
         },
         "metadata": {},
         "output_type": "display_data"
        }
       ]
      }
     },
     "1e6657237fd043b7b81592a26f51e6de": {
      "model_module": "@jupyter-widgets/controls",
      "model_module_version": "2.0.0",
      "model_name": "LinkModel",
      "state": {
       "source": [
        "IPY_MODEL_0a5ad3a8c572402eb1b02cf86c507e1c",
        "index"
       ],
       "target": [
        "IPY_MODEL_78c759f31dc74dd4ae5cd78d7d8204eb",
        "selected_index"
       ]
      }
     },
     "1ece89c4bc6b40418fbc6b13aee1a5d6": {
      "model_module": "@jupyter-widgets/base",
      "model_module_version": "2.0.0",
      "model_name": "LayoutModel",
      "state": {}
     },
     "1f35fa06f93f47e08881d75db50dca72": {
      "model_module": "@jupyter-widgets/controls",
      "model_module_version": "2.0.0",
      "model_name": "HTMLStyleModel",
      "state": {
       "description_width": "",
       "font_size": null,
       "text_color": null
      }
     },
     "1ffdd18db8bf4763af225f9a5b222a8d": {
      "model_module": "@jupyter-widgets/controls",
      "model_module_version": "2.0.0",
      "model_name": "LinkModel",
      "state": {
       "source": [
        "IPY_MODEL_ceb29c60259946778e7b1c5c11f394c4",
        "index"
       ],
       "target": [
        "IPY_MODEL_d8771d6d18fe4fcf8605a1c5e15e00ce",
        "selected_index"
       ]
      }
     },
     "200609463d994d1f9a047bd8b9ae8e8c": {
      "model_module": "@jupyter-widgets/output",
      "model_module_version": "1.0.0",
      "model_name": "OutputModel",
      "state": {
       "layout": "IPY_MODEL_4cef32a489a646ab862a0068911245ae",
       "outputs": [
        {
         "data": {
          "text/html": "<style type=\"text/css\">\n#T_c96e9 th {\n  border-right: 1px solid #F0F0F0;\n}\n</style>\n<table id=\"T_c96e9\">\n  <thead>\n    <tr>\n      <th class=\"blank level0\" >&nbsp;</th>\n      <th id=\"T_c96e9_level0_col0\" class=\"col_heading level0 col0\" >image_id</th>\n      <th id=\"T_c96e9_level0_col1\" class=\"col_heading level0 col1\" >category_str</th>\n      <th id=\"T_c96e9_level0_col2\" class=\"col_heading level0 col2\" >category_id</th>\n      <th id=\"T_c96e9_level0_col3\" class=\"col_heading level0 col3\" >box_x_min</th>\n      <th id=\"T_c96e9_level0_col4\" class=\"col_heading level0 col4\" >box_y_min</th>\n      <th id=\"T_c96e9_level0_col5\" class=\"col_heading level0 col5\" >box_width</th>\n      <th id=\"T_c96e9_level0_col6\" class=\"col_heading level0 col6\" >box_height</th>\n      <th id=\"T_c96e9_level0_col7\" class=\"col_heading level0 col7\" >area</th>\n      <th id=\"T_c96e9_level0_col8\" class=\"col_heading level0 col8\" colspan=\"2\">attributes</th>\n    </tr>\n    <tr>\n      <th class=\"blank level1\" >&nbsp;</th>\n      <th id=\"T_c96e9_level1_col0\" class=\"col_heading level1 col0\" ></th>\n      <th id=\"T_c96e9_level1_col1\" class=\"col_heading level1 col1\" ></th>\n      <th id=\"T_c96e9_level1_col2\" class=\"col_heading level1 col2\" ></th>\n      <th id=\"T_c96e9_level1_col3\" class=\"col_heading level1 col3\" ></th>\n      <th id=\"T_c96e9_level1_col4\" class=\"col_heading level1 col4\" ></th>\n      <th id=\"T_c96e9_level1_col5\" class=\"col_heading level1 col5\" ></th>\n      <th id=\"T_c96e9_level1_col6\" class=\"col_heading level1 col6\" ></th>\n      <th id=\"T_c96e9_level1_col7\" class=\"col_heading level1 col7\" ></th>\n      <th id=\"T_c96e9_level1_col8\" class=\"col_heading level1 col8\" >colors</th>\n      <th id=\"T_c96e9_level1_col9\" class=\"col_heading level1 col9\" >job</th>\n    </tr>\n    <tr>\n      <th class=\"index_name level0\" >id</th>\n      <th class=\"blank col0\" >&nbsp;</th>\n      <th class=\"blank col1\" >&nbsp;</th>\n      <th class=\"blank col2\" >&nbsp;</th>\n      <th class=\"blank col3\" >&nbsp;</th>\n      <th class=\"blank col4\" >&nbsp;</th>\n      <th class=\"blank col5\" >&nbsp;</th>\n      <th class=\"blank col6\" >&nbsp;</th>\n      <th class=\"blank col7\" >&nbsp;</th>\n      <th class=\"blank col8\" >&nbsp;</th>\n      <th class=\"blank col9\" >&nbsp;</th>\n    </tr>\n  </thead>\n  <tbody>\n    <tr>\n      <th id=\"T_c96e9_level0_row0\" class=\"row_heading level0 row0\" >269791</th>\n      <td id=\"T_c96e9_row0_col0\" class=\"data row0 col0\" >6091</td>\n      <td id=\"T_c96e9_row0_col1\" class=\"data row0 col1\" >stop sign</td>\n      <td id=\"T_c96e9_row0_col2\" class=\"data row0 col2\" >13</td>\n      <td id=\"T_c96e9_row0_col3\" class=\"data row0 col3\" >100.220000</td>\n      <td id=\"T_c96e9_row0_col4\" class=\"data row0 col4\" >117.540000</td>\n      <td id=\"T_c96e9_row0_col5\" class=\"data row0 col5\" >253.430000</td>\n      <td id=\"T_c96e9_row0_col6\" class=\"data row0 col6\" >274.900000</td>\n      <td id=\"T_c96e9_row0_col7\" class=\"data row0 col7\" >46726.430300</td>\n      <td id=\"T_c96e9_row0_col8\" class=\"data row0 col8\" >['red', 'white']</td>\n      <td id=\"T_c96e9_row0_col9\" class=\"data row0 col9\" >['police']</td>\n    </tr>\n    <tr>\n      <th id=\"T_c96e9_level0_row1\" class=\"row_heading level0 row1\" >1161234</th>\n      <td id=\"T_c96e9_row1_col0\" class=\"data row1 col0\" >10395</td>\n      <td id=\"T_c96e9_row1_col1\" class=\"data row1 col1\" >teddy bear</td>\n      <td id=\"T_c96e9_row1_col2\" class=\"data row1 col2\" >88</td>\n      <td id=\"T_c96e9_row1_col3\" class=\"data row1 col3\" >49.190000</td>\n      <td id=\"T_c96e9_row1_col4\" class=\"data row1 col4\" >66.200000</td>\n      <td id=\"T_c96e9_row1_col5\" class=\"data row1 col5\" >378.970000</td>\n      <td id=\"T_c96e9_row1_col6\" class=\"data row1 col6\" >379.680000</td>\n      <td id=\"T_c96e9_row1_col7\" class=\"data row1 col7\" >84587.439100</td>\n      <td id=\"T_c96e9_row1_col8\" class=\"data row1 col8\" >['grey']</td>\n      <td id=\"T_c96e9_row1_col9\" class=\"data row1 col9\" >None</td>\n    </tr>\n  </tbody>\n</table>\n",
          "text/plain": "<pandas.io.formats.style.Styler at 0x7940f3b8ea10>"
         },
         "metadata": {},
         "output_type": "display_data"
        }
       ]
      }
     },
     "201da11722164c878c27bcb9814c772c": {
      "model_module": "@jupyter-widgets/base",
      "model_module_version": "2.0.0",
      "model_name": "LayoutModel",
      "state": {}
     },
     "20ea0df56af04072ba7dc98d8f347b03": {
      "model_module": "@jupyter-widgets/controls",
      "model_module_version": "2.0.0",
      "model_name": "LinkModel",
      "state": {
       "source": [
        "IPY_MODEL_49c8c09615b24f3183dcb8eace1c8b6f",
        "index"
       ],
       "target": [
        "IPY_MODEL_055f2fabf98b415ba51d397bfc7d28b6",
        "selected_index"
       ]
      }
     },
     "2172561c2a6846bca782dec44ed6eedc": {
      "model_module": "@jupyter-widgets/base",
      "model_module_version": "2.0.0",
      "model_name": "LayoutModel",
      "state": {}
     },
     "21a9dd5c63824583a0f18b54c0b4dda8": {
      "model_module": "@jupyter-widgets/base",
      "model_module_version": "2.0.0",
      "model_name": "LayoutModel",
      "state": {
       "width": "auto"
      }
     },
     "21b88b13e9e74f1ea17dc3f3b3438be2": {
      "model_module": "@jupyter-widgets/controls",
      "model_module_version": "2.0.0",
      "model_name": "ToggleButtonsStyleModel",
      "state": {
       "button_width": "auto",
       "description_width": ""
      }
     },
     "236d13e7a357419a82368ac30a95971b": {
      "model_module": "@jupyter-widgets/output",
      "model_module_version": "1.0.0",
      "model_name": "OutputModel",
      "state": {
       "layout": "IPY_MODEL_5158dc70026a4294a71f01d2e154a9fc",
       "outputs": [
        {
         "data": {
          "text/html": "<div>\n<style scoped>\n    .dataframe tbody tr th:only-of-type {\n        vertical-align: middle;\n    }\n\n    .dataframe tbody tr th {\n        vertical-align: top;\n    }\n\n    .dataframe thead th {\n        text-align: right;\n    }\n</style>\n<table border=\"1\" class=\"dataframe\">\n  <thead>\n    <tr style=\"text-align: right;\">\n      <th></th>\n      <th>width</th>\n      <th>height</th>\n      <th>relative_path</th>\n      <th>type</th>\n      <th>tags.location</th>\n      <th>tags.spectrum</th>\n      <th>tags.time</th>\n    </tr>\n    <tr>\n      <th>id</th>\n      <th></th>\n      <th></th>\n      <th></th>\n      <th></th>\n      <th></th>\n      <th></th>\n      <th></th>\n    </tr>\n  </thead>\n  <tbody>\n    <tr>\n      <th>6091</th>\n      <td>480</td>\n      <td>640</td>\n      <td>image1.jpg</td>\n      <td>.jpg</td>\n      <td>exterior</td>\n      <td>RGB</td>\n      <td>night</td>\n    </tr>\n    <tr>\n      <th>10395</th>\n      <td>500</td>\n      <td>476</td>\n      <td>image2.jpg</td>\n      <td>.jpg</td>\n      <td>exterior</td>\n      <td>RGB</td>\n      <td>night</td>\n    </tr>\n  </tbody>\n</table>\n</div>",
          "text/plain": "       width  height relative_path  type tags.location tags.spectrum tags.time\nid                                                                            \n6091     480     640    image1.jpg  .jpg      exterior           RGB     night\n10395    500     476    image2.jpg  .jpg      exterior           RGB     night"
         },
         "metadata": {},
         "output_type": "display_data"
        }
       ]
      }
     },
     "244603f2ef7c4bf69dce525a6ef27b35": {
      "model_module": "@jupyter-widgets/controls",
      "model_module_version": "2.0.0",
      "model_name": "LinkModel",
      "state": {
       "source": [
        "IPY_MODEL_3eea33de3c3e4184b12a9eebd2800eb0",
        "index"
       ],
       "target": [
        "IPY_MODEL_465c52c33d2948c3be255f7d9672373b",
        "selected_index"
       ]
      }
     },
     "25a895ae0b624377aaa7b4b5bd8554e7": {
      "model_module": "@jupyter-widgets/base",
      "model_module_version": "2.0.0",
      "model_name": "LayoutModel",
      "state": {}
     },
     "25e044b729e04f78aaa3fe04f59f0f0a": {
      "model_module": "@jupyter-widgets/base",
      "model_module_version": "2.0.0",
      "model_name": "LayoutModel",
      "state": {}
     },
     "27d01299cf544075a45a465fe6457ef7": {
      "model_module": "@jupyter-widgets/base",
      "model_module_version": "2.0.0",
      "model_name": "LayoutModel",
      "state": {}
     },
     "28a867a6d756479dbf8da105e0fe6ee6": {
      "model_module": "@jupyter-widgets/controls",
      "model_module_version": "2.0.0",
      "model_name": "HTMLModel",
      "state": {
       "layout": "IPY_MODEL_5482c989571e41a0a4d9b012fecaac55",
       "style": "IPY_MODEL_bc1fb95a0b454824b37a8e68795624ed",
       "value": "<p><span style='white-space: pre-wrap; font-weight: bold'>Dataset object containing 2 images and 2 objects\nName :\n\tsmall_v5_dataset\nImages root :\n\t../../test_libia/test_data/caipy_dataset/tags/small_v5_dataset/Images</span></p>"
      }
     },
     "28f24a34506f4f3a81c7a0aee4488730": {
      "model_module": "@jupyter-widgets/base",
      "model_module_version": "2.0.0",
      "model_name": "LayoutModel",
      "state": {}
     },
     "2953790d879f4626a671bade59126c36": {
      "model_module": "@jupyter-widgets/output",
      "model_module_version": "1.0.0",
      "model_name": "OutputModel",
      "state": {
       "layout": "IPY_MODEL_e7b9a727554741fcb369349e53f6c0f3",
       "outputs": [
        {
         "data": {
          "application/vnd.jupyter.widget-view+json": {
           "model_id": "98967b02edcc48dc864a7aef38769f2c",
           "version_major": 2,
           "version_minor": 0
          },
          "text/plain": "VBox(children=(HBox(children=(VBox(children=(Label(value='Booleanize'), Label(value='Column format'))), VBox(c…"
         },
         "metadata": {},
         "output_type": "display_data"
        }
       ]
      }
     },
     "2977a2e3ce1946ab84f2899b27b96b5d": {
      "model_module": "@jupyter-widgets/base",
      "model_module_version": "2.0.0",
      "model_name": "LayoutModel",
      "state": {}
     },
     "29e603c11d8d4d73a8133fab2187783d": {
      "model_module": "@jupyter-widgets/base",
      "model_module_version": "2.0.0",
      "model_name": "LayoutModel",
      "state": {}
     },
     "2a9f1ee260d843efaf601c1846d954ba": {
      "model_module": "@jupyter-widgets/controls",
      "model_module_version": "2.0.0",
      "model_name": "ProgressStyleModel",
      "state": {
       "description_width": ""
      }
     },
     "2c2c13bed10149a3974d0149d0219a9b": {
      "model_module": "@jupyter-widgets/output",
      "model_module_version": "1.0.0",
      "model_name": "OutputModel",
      "state": {
       "layout": "IPY_MODEL_39b9e58e38834ac78607c8516e49de02",
       "outputs": [
        {
         "data": {
          "text/html": "<div>\n<style scoped>\n    .dataframe tbody tr th:only-of-type {\n        vertical-align: middle;\n    }\n\n    .dataframe tbody tr th {\n        vertical-align: top;\n    }\n\n    .dataframe thead th {\n        text-align: right;\n    }\n</style>\n<table border=\"1\" class=\"dataframe\">\n  <thead>\n    <tr style=\"text-align: right;\">\n      <th></th>\n      <th>image_id</th>\n      <th>category_str</th>\n      <th>category_id</th>\n      <th>box_x_min</th>\n      <th>box_y_min</th>\n      <th>box_width</th>\n      <th>box_height</th>\n      <th>area</th>\n      <th>attributes.job</th>\n      <th>attributes.colors.grey</th>\n      <th>attributes.colors.red</th>\n      <th>attributes.colors.white</th>\n    </tr>\n    <tr>\n      <th>id</th>\n      <th></th>\n      <th></th>\n      <th></th>\n      <th></th>\n      <th></th>\n      <th></th>\n      <th></th>\n      <th></th>\n      <th></th>\n      <th></th>\n      <th></th>\n      <th></th>\n    </tr>\n  </thead>\n  <tbody>\n    <tr>\n      <th>269791</th>\n      <td>6091</td>\n      <td>stop sign</td>\n      <td>13</td>\n      <td>100.22</td>\n      <td>117.54</td>\n      <td>253.43</td>\n      <td>274.90</td>\n      <td>46726.4303</td>\n      <td>[police]</td>\n      <td>False</td>\n      <td>True</td>\n      <td>True</td>\n    </tr>\n    <tr>\n      <th>1161234</th>\n      <td>10395</td>\n      <td>teddy bear</td>\n      <td>88</td>\n      <td>49.19</td>\n      <td>66.20</td>\n      <td>378.97</td>\n      <td>379.68</td>\n      <td>84587.4391</td>\n      <td>None</td>\n      <td>True</td>\n      <td>False</td>\n      <td>False</td>\n    </tr>\n  </tbody>\n</table>\n</div>",
          "text/plain": "         image_id category_str  category_id  box_x_min  box_y_min  box_width  \\\nid                                                                             \n269791       6091    stop sign           13     100.22     117.54     253.43   \n1161234     10395   teddy bear           88      49.19      66.20     378.97   \n\n         box_height        area attributes.job  attributes.colors.grey  \\\nid                                                                       \n269791       274.90  46726.4303       [police]                   False   \n1161234      379.68  84587.4391           None                    True   \n\n         attributes.colors.red  attributes.colors.white  \nid                                                       \n269791                    True                     True  \n1161234                  False                    False  "
         },
         "metadata": {},
         "output_type": "display_data"
        }
       ]
      }
     },
     "2eb5a09f0dd9439f8e897a5aea0e216f": {
      "model_module": "@jupyter-widgets/controls",
      "model_module_version": "2.0.0",
      "model_name": "LabelModel",
      "state": {
       "layout": "IPY_MODEL_39b59b088087480e94dc4283d123307a",
       "style": "IPY_MODEL_368a2a6be6004437884d525bfd057076",
       "value": "Column format"
      }
     },
     "2ec564d426a24931b4774a7b1cac9855": {
      "model_module": "@jupyter-widgets/base",
      "model_module_version": "2.0.0",
      "model_name": "LayoutModel",
      "state": {
       "width": "auto"
      }
     },
     "2fba735419bb4cf3909d16d20de8fbb2": {
      "model_module": "@jupyter-widgets/base",
      "model_module_version": "2.0.0",
      "model_name": "LayoutModel",
      "state": {}
     },
     "2fea8c66d507491f85e08d348f845d34": {
      "model_module": "@jupyter-widgets/base",
      "model_module_version": "2.0.0",
      "model_name": "LayoutModel",
      "state": {}
     },
     "30dc7e8e22214a4a813f2d3d86bee95a": {
      "model_module": "@jupyter-widgets/base",
      "model_module_version": "2.0.0",
      "model_name": "LayoutModel",
      "state": {}
     },
     "30e9f1825b9440238335ed8d48410989": {
      "model_module": "@jupyter-widgets/controls",
      "model_module_version": "2.0.0",
      "model_name": "VBoxModel",
      "state": {
       "children": [
        "IPY_MODEL_cb0e963631cb4d55a80900c365cdcbcf",
        "IPY_MODEL_00105760164c49b08951734e94d401c8"
       ],
       "layout": "IPY_MODEL_af3bea0edf7e499e85d2c968dc20adba"
      }
     },
     "31045c1a58de4f3db7fc7fb09b083776": {
      "model_module": "@jupyter-widgets/base",
      "model_module_version": "2.0.0",
      "model_name": "LayoutModel",
      "state": {}
     },
     "322827bb404043108aaeff537e91df81": {
      "model_module": "@jupyter-widgets/base",
      "model_module_version": "2.0.0",
      "model_name": "LayoutModel",
      "state": {}
     },
     "3230e659e66b4dee825e5917333d7b31": {
      "model_module": "@jupyter-widgets/controls",
      "model_module_version": "2.0.0",
      "model_name": "TabModel",
      "state": {
       "children": [
        "IPY_MODEL_711df07dfcab4e0592fdd9c39c99e4fc",
        "IPY_MODEL_4158c6e0f0bd416b941ab1443cbbf837",
        "IPY_MODEL_7ce64cca12244449979dd9585e3931e5"
       ],
       "layout": "IPY_MODEL_f004ecba0f3e4965b6458ab18211f8f8",
       "selected_index": 0,
       "titles": [
        "Images",
        "Annotations",
        "Label Map"
       ]
      }
     },
     "32bcf802a0dd4b2e84d4ed28119e4c07": {
      "model_module": "@jupyter-widgets/controls",
      "model_module_version": "2.0.0",
      "model_name": "HBoxModel",
      "state": {
       "children": [
        "IPY_MODEL_b7275f7e83674361b401534cecb78e36",
        "IPY_MODEL_1d8ca6079e344e32887539802f824163"
       ],
       "layout": "IPY_MODEL_f79eae4bdc0b49bba1790a8af63357f8"
      }
     },
     "334275da8a374bcbbbce07a31d958f50": {
      "model_module": "@jupyter-widgets/base",
      "model_module_version": "2.0.0",
      "model_name": "LayoutModel",
      "state": {}
     },
     "367cecc4875d4d51828437630874643e": {
      "model_module": "@jupyter-widgets/controls",
      "model_module_version": "2.0.0",
      "model_name": "VBoxModel",
      "state": {
       "children": [
        "IPY_MODEL_e6f2b75902004d5098639bfd8ba3ac08",
        "IPY_MODEL_7f20856ffda84558a6c94a48ed0fc6a9"
       ],
       "layout": "IPY_MODEL_bfa6e3c8d0154644a8f1bc866d765bf1"
      }
     },
     "368a2a6be6004437884d525bfd057076": {
      "model_module": "@jupyter-widgets/controls",
      "model_module_version": "2.0.0",
      "model_name": "LabelStyleModel",
      "state": {
       "description_width": "",
       "font_family": null,
       "font_size": null,
       "font_style": null,
       "font_variant": null,
       "font_weight": null,
       "text_color": null,
       "text_decoration": null
      }
     },
     "368c3b76181e4906961fa7dc7bb07a2c": {
      "model_module": "@jupyter-widgets/base",
      "model_module_version": "2.0.0",
      "model_name": "LayoutModel",
      "state": {}
     },
     "36db4709690a4a58b09ab812a1b6bef6": {
      "model_module": "@jupyter-widgets/base",
      "model_module_version": "2.0.0",
      "model_name": "LayoutModel",
      "state": {}
     },
     "37f890dec4b74ea29127f8542ac20839": {
      "model_module": "@jupyter-widgets/controls",
      "model_module_version": "2.0.0",
      "model_name": "StackModel",
      "state": {
       "children": [
        "IPY_MODEL_ca3b29d92ed84fa4981a912c3d477e0f",
        "IPY_MODEL_ba7b35e2c45b415c9a38f27d891652a4"
       ],
       "layout": "IPY_MODEL_b7f97c532dbb41a9a36bf60c5777faa1",
       "selected_index": 1,
       "titles": [
        "",
        ""
       ]
      }
     },
     "3831225f13834870bdc2986fceb98b0a": {
      "model_module": "@jupyter-widgets/base",
      "model_module_version": "2.0.0",
      "model_name": "LayoutModel",
      "state": {}
     },
     "38c8a647f223402690ddd1c96b3458e4": {
      "model_module": "@jupyter-widgets/controls",
      "model_module_version": "2.0.0",
      "model_name": "LabelModel",
      "state": {
       "layout": "IPY_MODEL_4ac5ea54b9124f75a5c79e2a30e5be4a",
       "style": "IPY_MODEL_7663ad6dc4f945f7b59b43d73279675b",
       "value": "Booleanize"
      }
     },
     "39b59b088087480e94dc4283d123307a": {
      "model_module": "@jupyter-widgets/base",
      "model_module_version": "2.0.0",
      "model_name": "LayoutModel",
      "state": {}
     },
     "39b9e58e38834ac78607c8516e49de02": {
      "model_module": "@jupyter-widgets/base",
      "model_module_version": "2.0.0",
      "model_name": "LayoutModel",
      "state": {}
     },
     "39f77f38b27446dbb1e54657337c0981": {
      "model_module": "@jupyter-widgets/controls",
      "model_module_version": "2.0.0",
      "model_name": "HTMLModel",
      "state": {
       "layout": "IPY_MODEL_ff6eeb6ed8834034ad8492f0e299246f",
       "style": "IPY_MODEL_6c5e444f692e4bd8a6a8a61b7005e104",
       "value": "100%"
      }
     },
     "3a7868db39ed4deb846a395330101d05": {
      "model_module": "@jupyter-widgets/controls",
      "model_module_version": "2.0.0",
      "model_name": "VBoxModel",
      "state": {
       "children": [
        "IPY_MODEL_a9eb32b5a389487e93301ac1f45eb4df",
        "IPY_MODEL_48a9e466b72d47ffb47d01caf7b714fd"
       ],
       "layout": "IPY_MODEL_fe78a68a9ffa4fd7896390027e528756"
      }
     },
     "3b8a36ee2a28484d80ae8b6aac54d711": {
      "model_module": "@jupyter-widgets/controls",
      "model_module_version": "2.0.0",
      "model_name": "VBoxModel",
      "state": {
       "children": [
        "IPY_MODEL_7dca6c6ac7254ca7a407be2f9977f934",
        "IPY_MODEL_37f890dec4b74ea29127f8542ac20839"
       ],
       "layout": "IPY_MODEL_dce316837afb4f9093ce18623f87b4d5"
      }
     },
     "3bf5e0470a6e450cb86a49b49c48e5ea": {
      "model_module": "@jupyter-widgets/base",
      "model_module_version": "2.0.0",
      "model_name": "LayoutModel",
      "state": {}
     },
     "3c4c4c7d73a84509a9bbf647ccc335d2": {
      "model_module": "@jupyter-widgets/base",
      "model_module_version": "2.0.0",
      "model_name": "LayoutModel",
      "state": {}
     },
     "3c7364babf564f4b90e46afa2db9f237": {
      "model_module": "@jupyter-widgets/base",
      "model_module_version": "2.0.0",
      "model_name": "LayoutModel",
      "state": {}
     },
     "3ca05d96a44243f192f4cd96e037bd65": {
      "model_module": "@jupyter-widgets/controls",
      "model_module_version": "2.0.0",
      "model_name": "LinkModel",
      "state": {
       "source": [
        "IPY_MODEL_d3e685051a8049a0bb805111c553034b",
        "index"
       ],
       "target": [
        "IPY_MODEL_f73b8bed0af648f9b15a279652f50227",
        "selected_index"
       ]
      }
     },
     "3ccc50a1a4554d36bfc87f7b8fc78fbd": {
      "model_module": "@jupyter-widgets/base",
      "model_module_version": "2.0.0",
      "model_name": "LayoutModel",
      "state": {}
     },
     "3d470d1ee1694e5581cbfa144a24d2af": {
      "model_module": "@jupyter-widgets/controls",
      "model_module_version": "2.0.0",
      "model_name": "ProgressStyleModel",
      "state": {
       "description_width": ""
      }
     },
     "3da4dc6d1f4b467b9c44bfed80270eae": {
      "model_module": "@jupyter-widgets/base",
      "model_module_version": "2.0.0",
      "model_name": "LayoutModel",
      "state": {}
     },
     "3e583336929d4789b15cb056a9e97c8c": {
      "model_module": "@jupyter-widgets/controls",
      "model_module_version": "2.0.0",
      "model_name": "VBoxModel",
      "state": {
       "children": [
        "IPY_MODEL_06d5df245e064116bafb80d1d0ed2eb6",
        "IPY_MODEL_8fd2dc5254fc491bbeed776618fbf44d"
       ],
       "layout": "IPY_MODEL_e8e291ed9b0a4bbbaa98b8a80ced2a01"
      }
     },
     "3eea33de3c3e4184b12a9eebd2800eb0": {
      "model_module": "@jupyter-widgets/controls",
      "model_module_version": "2.0.0",
      "model_name": "ToggleButtonsModel",
      "state": {
       "_options_labels": [
        "yes ",
        "no "
       ],
       "button_style": "",
       "icons": [
        "check",
        "times"
       ],
       "index": 1,
       "layout": "IPY_MODEL_21a9dd5c63824583a0f18b54c0b4dda8",
       "style": "IPY_MODEL_21b88b13e9e74f1ea17dc3f3b3438be2",
       "tooltips": []
      }
     },
     "3f321faf0de3434585a47c7485781ddf": {
      "model_module": "@jupyter-widgets/base",
      "model_module_version": "2.0.0",
      "model_name": "LayoutModel",
      "state": {}
     },
     "3f394af74daa4fd3bcb3fc1c2da9d662": {
      "model_module": "@jupyter-widgets/base",
      "model_module_version": "2.0.0",
      "model_name": "LayoutModel",
      "state": {}
     },
     "3fa81b77b59c4632af9d460a8be5cbaa": {
      "model_module": "@jupyter-widgets/controls",
      "model_module_version": "2.0.0",
      "model_name": "DescriptionStyleModel",
      "state": {
       "description_width": ""
      }
     },
     "3fd73a1aa1394ef980d95c641f73654b": {
      "model_module": "@jupyter-widgets/base",
      "model_module_version": "2.0.0",
      "model_name": "LayoutModel",
      "state": {}
     },
     "4075c27f828741dd9e89089f7d2b7ddd": {
      "model_module": "@jupyter-widgets/output",
      "model_module_version": "1.0.0",
      "model_name": "OutputModel",
      "state": {
       "layout": "IPY_MODEL_acac39f6b0d14adba2cfa0d1a956958d",
       "outputs": [
        {
         "data": {
          "text/html": "<style type=\"text/css\">\n#T_fe80a th {\n  border-right: 1px solid #F0F0F0;\n}\n</style>\n<table id=\"T_fe80a\">\n  <thead>\n    <tr>\n      <th class=\"blank level0\" >&nbsp;</th>\n      <th id=\"T_fe80a_level0_col0\" class=\"col_heading level0 col0\" >image_id</th>\n      <th id=\"T_fe80a_level0_col1\" class=\"col_heading level0 col1\" >category_str</th>\n      <th id=\"T_fe80a_level0_col2\" class=\"col_heading level0 col2\" >category_id</th>\n      <th id=\"T_fe80a_level0_col3\" class=\"col_heading level0 col3\" >box_x_min</th>\n      <th id=\"T_fe80a_level0_col4\" class=\"col_heading level0 col4\" >box_y_min</th>\n      <th id=\"T_fe80a_level0_col5\" class=\"col_heading level0 col5\" >box_width</th>\n      <th id=\"T_fe80a_level0_col6\" class=\"col_heading level0 col6\" >box_height</th>\n      <th id=\"T_fe80a_level0_col7\" class=\"col_heading level0 col7\" >area</th>\n      <th id=\"T_fe80a_level0_col8\" class=\"col_heading level0 col8\" colspan=\"2\">attributes</th>\n    </tr>\n    <tr>\n      <th class=\"blank level1\" >&nbsp;</th>\n      <th id=\"T_fe80a_level1_col0\" class=\"col_heading level1 col0\" ></th>\n      <th id=\"T_fe80a_level1_col1\" class=\"col_heading level1 col1\" ></th>\n      <th id=\"T_fe80a_level1_col2\" class=\"col_heading level1 col2\" ></th>\n      <th id=\"T_fe80a_level1_col3\" class=\"col_heading level1 col3\" ></th>\n      <th id=\"T_fe80a_level1_col4\" class=\"col_heading level1 col4\" ></th>\n      <th id=\"T_fe80a_level1_col5\" class=\"col_heading level1 col5\" ></th>\n      <th id=\"T_fe80a_level1_col6\" class=\"col_heading level1 col6\" ></th>\n      <th id=\"T_fe80a_level1_col7\" class=\"col_heading level1 col7\" ></th>\n      <th id=\"T_fe80a_level1_col8\" class=\"col_heading level1 col8\" >job</th>\n      <th id=\"T_fe80a_level1_col9\" class=\"col_heading level1 col9\" >colors</th>\n    </tr>\n    <tr>\n      <th class=\"index_name level0\" >id</th>\n      <th class=\"blank col0\" >&nbsp;</th>\n      <th class=\"blank col1\" >&nbsp;</th>\n      <th class=\"blank col2\" >&nbsp;</th>\n      <th class=\"blank col3\" >&nbsp;</th>\n      <th class=\"blank col4\" >&nbsp;</th>\n      <th class=\"blank col5\" >&nbsp;</th>\n      <th class=\"blank col6\" >&nbsp;</th>\n      <th class=\"blank col7\" >&nbsp;</th>\n      <th class=\"blank col8\" >&nbsp;</th>\n      <th class=\"blank col9\" >&nbsp;</th>\n    </tr>\n  </thead>\n  <tbody>\n    <tr>\n      <th id=\"T_fe80a_level0_row0\" class=\"row_heading level0 row0\" >269791</th>\n      <td id=\"T_fe80a_row0_col0\" class=\"data row0 col0\" >6091</td>\n      <td id=\"T_fe80a_row0_col1\" class=\"data row0 col1\" >stop sign</td>\n      <td id=\"T_fe80a_row0_col2\" class=\"data row0 col2\" >13</td>\n      <td id=\"T_fe80a_row0_col3\" class=\"data row0 col3\" >100.220000</td>\n      <td id=\"T_fe80a_row0_col4\" class=\"data row0 col4\" >117.540000</td>\n      <td id=\"T_fe80a_row0_col5\" class=\"data row0 col5\" >253.430000</td>\n      <td id=\"T_fe80a_row0_col6\" class=\"data row0 col6\" >274.900000</td>\n      <td id=\"T_fe80a_row0_col7\" class=\"data row0 col7\" >46726.430300</td>\n      <td id=\"T_fe80a_row0_col8\" class=\"data row0 col8\" >['police']</td>\n      <td id=\"T_fe80a_row0_col9\" class=\"data row0 col9\" >['red', 'white']</td>\n    </tr>\n    <tr>\n      <th id=\"T_fe80a_level0_row1\" class=\"row_heading level0 row1\" >1161234</th>\n      <td id=\"T_fe80a_row1_col0\" class=\"data row1 col0\" >10395</td>\n      <td id=\"T_fe80a_row1_col1\" class=\"data row1 col1\" >teddy bear</td>\n      <td id=\"T_fe80a_row1_col2\" class=\"data row1 col2\" >88</td>\n      <td id=\"T_fe80a_row1_col3\" class=\"data row1 col3\" >49.190000</td>\n      <td id=\"T_fe80a_row1_col4\" class=\"data row1 col4\" >66.200000</td>\n      <td id=\"T_fe80a_row1_col5\" class=\"data row1 col5\" >378.970000</td>\n      <td id=\"T_fe80a_row1_col6\" class=\"data row1 col6\" >379.680000</td>\n      <td id=\"T_fe80a_row1_col7\" class=\"data row1 col7\" >84587.439100</td>\n      <td id=\"T_fe80a_row1_col8\" class=\"data row1 col8\" >None</td>\n      <td id=\"T_fe80a_row1_col9\" class=\"data row1 col9\" >['grey']</td>\n    </tr>\n  </tbody>\n</table>\n",
          "text/plain": "<pandas.io.formats.style.Styler at 0x7940f3a61150>"
         },
         "metadata": {},
         "output_type": "display_data"
        }
       ]
      }
     },
     "4158c6e0f0bd416b941ab1443cbbf837": {
      "model_module": "@jupyter-widgets/output",
      "model_module_version": "1.0.0",
      "model_name": "OutputModel",
      "state": {
       "layout": "IPY_MODEL_3f394af74daa4fd3bcb3fc1c2da9d662",
       "outputs": [
        {
         "data": {
          "application/vnd.jupyter.widget-view+json": {
           "model_id": "0ff6ef25b14445d4896e6e470d76ce2e",
           "version_major": 2,
           "version_minor": 0
          },
          "text/plain": "VBox(children=(HBox(children=(VBox(children=(Label(value='Booleanize'), Label(value='Column format'))), VBox(c…"
         },
         "metadata": {},
         "output_type": "display_data"
        }
       ]
      }
     },
     "4257d4ce65ea479e961126ccd1f2fe18": {
      "model_module": "@jupyter-widgets/output",
      "model_module_version": "1.0.0",
      "model_name": "OutputModel",
      "state": {
       "layout": "IPY_MODEL_95aa70d1930b4cd1af18c1c5468ab764",
       "outputs": [
        {
         "data": {
          "application/vnd.jupyter.widget-view+json": {
           "model_id": "fd9fa9b20f264e76a69685a0b80b5f50",
           "version_major": 2,
           "version_minor": 0
          },
          "text/plain": "VBox(children=(HBox(children=(VBox(children=(Label(value='Booleanize'), Label(value='Column format'))), VBox(c…"
         },
         "metadata": {},
         "output_type": "display_data"
        }
       ]
      }
     },
     "4338ece490314e2cb34107ab22460d8d": {
      "model_module": "@jupyter-widgets/controls",
      "model_module_version": "2.0.0",
      "model_name": "TabModel",
      "state": {
       "children": [
        "IPY_MODEL_e78a13034b6e436d9fdce600c236468a",
        "IPY_MODEL_4257d4ce65ea479e961126ccd1f2fe18",
        "IPY_MODEL_f4e007fc83044dc8a4c4b1223e2eebbf"
       ],
       "layout": "IPY_MODEL_cf54d782dd024806a69f564ace26aaf7",
       "selected_index": 0,
       "titles": [
        "Images",
        "Annotations",
        "Label Map"
       ]
      }
     },
     "43749d59f28e483c96d433258e9c7744": {
      "model_module": "@jupyter-widgets/base",
      "model_module_version": "2.0.0",
      "model_name": "LayoutModel",
      "state": {}
     },
     "43a676678c3c43af8776b32d3d03b995": {
      "model_module": "@jupyter-widgets/output",
      "model_module_version": "1.0.0",
      "model_name": "OutputModel",
      "state": {
       "layout": "IPY_MODEL_5d4dc4f9ffce4abdad9f1e8117963f01",
       "outputs": [
        {
         "data": {
          "text/html": "<div>\n<style scoped>\n    .dataframe tbody tr th:only-of-type {\n        vertical-align: middle;\n    }\n\n    .dataframe tbody tr th {\n        vertical-align: top;\n    }\n\n    .dataframe thead th {\n        text-align: right;\n    }\n</style>\n<table border=\"1\" class=\"dataframe\">\n  <thead>\n    <tr style=\"text-align: right;\">\n      <th></th>\n      <th>width</th>\n      <th>height</th>\n      <th>relative_path</th>\n      <th>type</th>\n      <th>tags.location</th>\n      <th>tags.spectrum</th>\n      <th>tags.time</th>\n    </tr>\n    <tr>\n      <th>id</th>\n      <th></th>\n      <th></th>\n      <th></th>\n      <th></th>\n      <th></th>\n      <th></th>\n      <th></th>\n    </tr>\n  </thead>\n  <tbody>\n    <tr>\n      <th>6091</th>\n      <td>480</td>\n      <td>640</td>\n      <td>image1.jpg</td>\n      <td>.jpg</td>\n      <td>exterior</td>\n      <td>RGB</td>\n      <td>night</td>\n    </tr>\n    <tr>\n      <th>10395</th>\n      <td>500</td>\n      <td>476</td>\n      <td>image2.jpg</td>\n      <td>.jpg</td>\n      <td>exterior</td>\n      <td>RGB</td>\n      <td>night</td>\n    </tr>\n  </tbody>\n</table>\n</div>",
          "text/plain": "       width  height relative_path  type tags.location tags.spectrum tags.time\nid                                                                            \n6091     480     640    image1.jpg  .jpg      exterior           RGB     night\n10395    500     476    image2.jpg  .jpg      exterior           RGB     night"
         },
         "metadata": {},
         "output_type": "display_data"
        }
       ]
      }
     },
     "43a966ee67834d61909f3f7ddf7fc827": {
      "model_module": "@jupyter-widgets/base",
      "model_module_version": "2.0.0",
      "model_name": "LayoutModel",
      "state": {}
     },
     "4434795ffe6e43caa017965c31da4162": {
      "model_module": "@jupyter-widgets/controls",
      "model_module_version": "2.0.0",
      "model_name": "LabelModel",
      "state": {
       "layout": "IPY_MODEL_b8645807457946fbb899002cf48564b8",
       "style": "IPY_MODEL_b966c111a56b47998b255d81cd8bd75b",
       "value": "Booleanize"
      }
     },
     "45befa17b8d34198b6bc85c3c76ec316": {
      "model_module": "@jupyter-widgets/base",
      "model_module_version": "2.0.0",
      "model_name": "LayoutModel",
      "state": {}
     },
     "45d1800f668e4ed9a3609d3e2dfe267b": {
      "model_module": "@jupyter-widgets/base",
      "model_module_version": "2.0.0",
      "model_name": "LayoutModel",
      "state": {}
     },
     "462506374d444c44856848b74ed4dc46": {
      "model_module": "@jupyter-widgets/controls",
      "model_module_version": "2.0.0",
      "model_name": "StackModel",
      "state": {
       "children": [
        "IPY_MODEL_093a56d92eb240c5bf5a85efa12f8c36",
        "IPY_MODEL_1e0baf4e93784bb9b6a3959ece03961c"
       ],
       "layout": "IPY_MODEL_b176a70599544113b1fccd2411bb5643",
       "selected_index": 1,
       "titles": [
        "",
        ""
       ]
      }
     },
     "465c52c33d2948c3be255f7d9672373b": {
      "model_module": "@jupyter-widgets/controls",
      "model_module_version": "2.0.0",
      "model_name": "StackModel",
      "state": {
       "children": [
        "IPY_MODEL_19e462a0d377449cabb8182a67bef4b4",
        "IPY_MODEL_8150e92f60b44908ab386b6fb7d2a512"
       ],
       "layout": "IPY_MODEL_ac388d0a744d457badd2f20afd48009e",
       "selected_index": 1,
       "titles": [
        "",
        ""
       ]
      }
     },
     "4672297221bf40cbaf8208fa48b11720": {
      "model_module": "@jupyter-widgets/base",
      "model_module_version": "2.0.0",
      "model_name": "LayoutModel",
      "state": {}
     },
     "471a424aa7ae457fa953e06b84d8c738": {
      "model_module": "@jupyter-widgets/base",
      "model_module_version": "2.0.0",
      "model_name": "LayoutModel",
      "state": {}
     },
     "4746fe751c6b41ab8efbc2e46e07eca6": {
      "model_module": "@jupyter-widgets/base",
      "model_module_version": "2.0.0",
      "model_name": "LayoutModel",
      "state": {}
     },
     "4851d84bd1a045ae8a98286271d3cd41": {
      "model_module": "@jupyter-widgets/base",
      "model_module_version": "2.0.0",
      "model_name": "LayoutModel",
      "state": {}
     },
     "4861ea532d734ddc945c64878bceb481": {
      "model_module": "@jupyter-widgets/controls",
      "model_module_version": "2.0.0",
      "model_name": "HBoxModel",
      "state": {
       "children": [
        "IPY_MODEL_96cc77db99324f5eba57b2faf5044719",
        "IPY_MODEL_b95c3eef5065475e9059b05042a9b758",
        "IPY_MODEL_1c65f4021a3b401484770ef291c382d3"
       ],
       "layout": "IPY_MODEL_9d1e1606e8cb45138ccf4f21983b060d"
      }
     },
     "48a9e466b72d47ffb47d01caf7b714fd": {
      "model_module": "@jupyter-widgets/controls",
      "model_module_version": "2.0.0",
      "model_name": "StackModel",
      "state": {
       "children": [
        "IPY_MODEL_4b24d57d3e6449bbb694f853593e5b16",
        "IPY_MODEL_d3a486cd1a444ce297c04754d3229f07"
       ],
       "layout": "IPY_MODEL_847a6bfc69884c2188820ecb780da6e3",
       "selected_index": 1,
       "titles": [
        "",
        ""
       ]
      }
     },
     "49ba3f4dcf604acab1b120ecf5780aff": {
      "model_module": "@jupyter-widgets/base",
      "model_module_version": "2.0.0",
      "model_name": "LayoutModel",
      "state": {}
     },
     "49c8c09615b24f3183dcb8eace1c8b6f": {
      "model_module": "@jupyter-widgets/controls",
      "model_module_version": "2.0.0",
      "model_name": "DropdownModel",
      "state": {
       "_options_labels": [
        "raw",
        "nested"
       ],
       "index": 1,
       "layout": "IPY_MODEL_aac207e0866148cd9ea18309fb7b3dab",
       "style": "IPY_MODEL_c2537b897c9e44d187bb00f3f90cca5d"
      }
     },
     "4ac5ea54b9124f75a5c79e2a30e5be4a": {
      "model_module": "@jupyter-widgets/base",
      "model_module_version": "2.0.0",
      "model_name": "LayoutModel",
      "state": {}
     },
     "4b1f96a5ffb14ae98d02cc1b113478cc": {
      "model_module": "@jupyter-widgets/base",
      "model_module_version": "2.0.0",
      "model_name": "LayoutModel",
      "state": {}
     },
     "4b24d57d3e6449bbb694f853593e5b16": {
      "model_module": "@jupyter-widgets/output",
      "model_module_version": "1.0.0",
      "model_name": "OutputModel",
      "state": {
       "layout": "IPY_MODEL_aa0fa18c5b024eb3b2e57136256aaecb",
       "outputs": [
        {
         "data": {
          "text/html": "<div>\n<style scoped>\n    .dataframe tbody tr th:only-of-type {\n        vertical-align: middle;\n    }\n\n    .dataframe tbody tr th {\n        vertical-align: top;\n    }\n\n    .dataframe thead th {\n        text-align: right;\n    }\n</style>\n<table border=\"1\" class=\"dataframe\">\n  <thead>\n    <tr style=\"text-align: right;\">\n      <th></th>\n      <th>width</th>\n      <th>height</th>\n      <th>relative_path</th>\n      <th>type</th>\n      <th>tags.location</th>\n      <th>tags.spectrum</th>\n      <th>tags.time</th>\n    </tr>\n    <tr>\n      <th>id</th>\n      <th></th>\n      <th></th>\n      <th></th>\n      <th></th>\n      <th></th>\n      <th></th>\n      <th></th>\n    </tr>\n  </thead>\n  <tbody>\n    <tr>\n      <th>6091</th>\n      <td>480</td>\n      <td>640</td>\n      <td>image1.jpg</td>\n      <td>.jpg</td>\n      <td>exterior</td>\n      <td>RGB</td>\n      <td>night</td>\n    </tr>\n    <tr>\n      <th>10395</th>\n      <td>500</td>\n      <td>476</td>\n      <td>image2.jpg</td>\n      <td>.jpg</td>\n      <td>exterior</td>\n      <td>RGB</td>\n      <td>night</td>\n    </tr>\n  </tbody>\n</table>\n</div>",
          "text/plain": "       width  height relative_path  type tags.location tags.spectrum tags.time\nid                                                                            \n6091     480     640    image1.jpg  .jpg      exterior           RGB     night\n10395    500     476    image2.jpg  .jpg      exterior           RGB     night"
         },
         "metadata": {},
         "output_type": "display_data"
        }
       ]
      }
     },
     "4b9315e0d8614c3d9fb0b20bdd49773d": {
      "model_module": "@jupyter-widgets/base",
      "model_module_version": "2.0.0",
      "model_name": "LayoutModel",
      "state": {}
     },
     "4c28d96cb5cf4332bed6dad63659b8bd": {
      "model_module": "@jupyter-widgets/base",
      "model_module_version": "2.0.0",
      "model_name": "LayoutModel",
      "state": {}
     },
     "4c67d2645735491392cdd393588ddd76": {
      "model_module": "@jupyter-widgets/controls",
      "model_module_version": "2.0.0",
      "model_name": "HTMLModel",
      "state": {
       "layout": "IPY_MODEL_a33b60b688f444c88cbb989f8c7e19a8",
       "style": "IPY_MODEL_e71ee6ccc60745ecbcd3865fd5522de4",
       "value": " 2/2 [00:00&lt;00:00, 223.37it/s]"
      }
     },
     "4cef32a489a646ab862a0068911245ae": {
      "model_module": "@jupyter-widgets/base",
      "model_module_version": "2.0.0",
      "model_name": "LayoutModel",
      "state": {}
     },
     "4d14944e30204271b8982300371d62bf": {
      "model_module": "@jupyter-widgets/controls",
      "model_module_version": "2.0.0",
      "model_name": "LabelStyleModel",
      "state": {
       "description_width": "",
       "font_family": null,
       "font_size": null,
       "font_style": null,
       "font_variant": null,
       "font_weight": null,
       "text_color": null,
       "text_decoration": null
      }
     },
     "4f68a89efccb4589a58694b80c45ecd3": {
      "model_module": "@jupyter-widgets/base",
      "model_module_version": "2.0.0",
      "model_name": "LayoutModel",
      "state": {}
     },
     "503fde465433400088b5b1ba849a8363": {
      "model_module": "@jupyter-widgets/base",
      "model_module_version": "2.0.0",
      "model_name": "LayoutModel",
      "state": {}
     },
     "510e43b152b64e628289d7e5ed425402": {
      "model_module": "@jupyter-widgets/controls",
      "model_module_version": "2.0.0",
      "model_name": "HTMLStyleModel",
      "state": {
       "description_width": "",
       "font_size": null,
       "text_color": null
      }
     },
     "5157b0d87bf841909fc20e6fe4d347a3": {
      "model_module": "@jupyter-widgets/controls",
      "model_module_version": "2.0.0",
      "model_name": "LabelStyleModel",
      "state": {
       "description_width": "",
       "font_family": null,
       "font_size": null,
       "font_style": null,
       "font_variant": null,
       "font_weight": null,
       "text_color": null,
       "text_decoration": null
      }
     },
     "5158dc70026a4294a71f01d2e154a9fc": {
      "model_module": "@jupyter-widgets/base",
      "model_module_version": "2.0.0",
      "model_name": "LayoutModel",
      "state": {}
     },
     "51739dddb7eb4f0fa2722a51018b206a": {
      "model_module": "@jupyter-widgets/base",
      "model_module_version": "2.0.0",
      "model_name": "LayoutModel",
      "state": {}
     },
     "51c0c1c889f04158839d9738571b8ede": {
      "model_module": "@jupyter-widgets/output",
      "model_module_version": "1.0.0",
      "model_name": "OutputModel",
      "state": {
       "layout": "IPY_MODEL_f2f462a605ea4c719be284c6f432ce59",
       "outputs": [
        {
         "data": {
          "text/html": "<div>\n<style scoped>\n    .dataframe tbody tr th:only-of-type {\n        vertical-align: middle;\n    }\n\n    .dataframe tbody tr th {\n        vertical-align: top;\n    }\n\n    .dataframe thead th {\n        text-align: right;\n    }\n</style>\n<table border=\"1\" class=\"dataframe\">\n  <thead>\n    <tr style=\"text-align: right;\">\n      <th></th>\n      <th>width</th>\n      <th>height</th>\n      <th>relative_path</th>\n      <th>type</th>\n      <th>tags.location</th>\n      <th>tags.spectrum</th>\n      <th>tags.time</th>\n    </tr>\n    <tr>\n      <th>id</th>\n      <th></th>\n      <th></th>\n      <th></th>\n      <th></th>\n      <th></th>\n      <th></th>\n      <th></th>\n    </tr>\n  </thead>\n  <tbody>\n    <tr>\n      <th>6091</th>\n      <td>480</td>\n      <td>640</td>\n      <td>image1.jpg</td>\n      <td>.jpg</td>\n      <td>exterior</td>\n      <td>RGB</td>\n      <td>night</td>\n    </tr>\n    <tr>\n      <th>10395</th>\n      <td>500</td>\n      <td>476</td>\n      <td>image2.jpg</td>\n      <td>.jpg</td>\n      <td>exterior</td>\n      <td>RGB</td>\n      <td>night</td>\n    </tr>\n  </tbody>\n</table>\n</div>",
          "text/plain": "       width  height relative_path  type tags.location tags.spectrum tags.time\nid                                                                            \n6091     480     640    image1.jpg  .jpg      exterior           RGB     night\n10395    500     476    image2.jpg  .jpg      exterior           RGB     night"
         },
         "metadata": {},
         "output_type": "display_data"
        }
       ]
      }
     },
     "522abf073cc24e96be29b07456d678c0": {
      "model_module": "@jupyter-widgets/base",
      "model_module_version": "2.0.0",
      "model_name": "LayoutModel",
      "state": {}
     },
     "5251143b52974036ab355ee7cacdf55d": {
      "model_module": "@jupyter-widgets/base",
      "model_module_version": "2.0.0",
      "model_name": "LayoutModel",
      "state": {}
     },
     "52f0c44c873943e989db8b4dffe84ca1": {
      "model_module": "@jupyter-widgets/controls",
      "model_module_version": "2.0.0",
      "model_name": "VBoxModel",
      "state": {
       "children": [
        "IPY_MODEL_ead8e2a950284944ba78c30f0a64d593",
        "IPY_MODEL_ae242a0a739048a784ba17b197941a5d"
       ],
       "layout": "IPY_MODEL_ac616466b17a48f1be2dab241d09aaaa"
      }
     },
     "53c24dd8211f40899e5fa4f1b3645c71": {
      "model_module": "@jupyter-widgets/base",
      "model_module_version": "2.0.0",
      "model_name": "LayoutModel",
      "state": {}
     },
     "5444e177e4b64b3d960c8eb8b997a11c": {
      "model_module": "@jupyter-widgets/base",
      "model_module_version": "2.0.0",
      "model_name": "LayoutModel",
      "state": {}
     },
     "5482c989571e41a0a4d9b012fecaac55": {
      "model_module": "@jupyter-widgets/base",
      "model_module_version": "2.0.0",
      "model_name": "LayoutModel",
      "state": {}
     },
     "54c6a81a6e0245ee9ffd87107c2061c1": {
      "model_module": "@jupyter-widgets/base",
      "model_module_version": "2.0.0",
      "model_name": "LayoutModel",
      "state": {}
     },
     "550a0431017642538ef5d674b395b710": {
      "model_module": "@jupyter-widgets/controls",
      "model_module_version": "2.0.0",
      "model_name": "LabelModel",
      "state": {
       "layout": "IPY_MODEL_7077e2077d874fe89f732530b7319909",
       "style": "IPY_MODEL_4d14944e30204271b8982300371d62bf",
       "value": "Column format"
      }
     },
     "550c13d08bcd4a42bb9187e8a9a2079b": {
      "model_module": "@jupyter-widgets/base",
      "model_module_version": "2.0.0",
      "model_name": "LayoutModel",
      "state": {}
     },
     "5516f4db51814e0a9efc4acf48419c63": {
      "model_module": "@jupyter-widgets/controls",
      "model_module_version": "2.0.0",
      "model_name": "VBoxModel",
      "state": {
       "children": [
        "IPY_MODEL_07f8d3c3c18c47c59a892247b5651124",
        "IPY_MODEL_a8c9d7a83c8f4554b40d37fe4f6a3d6d"
       ],
       "layout": "IPY_MODEL_8acae534a7c94fbba1b51c284bf46617"
      }
     },
     "563d06068bbd4354bff2da022003b747": {
      "model_module": "@jupyter-widgets/base",
      "model_module_version": "2.0.0",
      "model_name": "LayoutModel",
      "state": {}
     },
     "576e534969ee474abbd43a14366cbcac": {
      "model_module": "@jupyter-widgets/controls",
      "model_module_version": "2.0.0",
      "model_name": "DescriptionStyleModel",
      "state": {
       "description_width": ""
      }
     },
     "5a0bb661dfe74bd78d608a11e6a3dfde": {
      "model_module": "@jupyter-widgets/output",
      "model_module_version": "1.0.0",
      "model_name": "OutputModel",
      "state": {
       "layout": "IPY_MODEL_a57cc8f2031b4ff7ac5264dae4185143",
       "outputs": [
        {
         "data": {
          "text/html": "<style type=\"text/css\">\n#T_7f4dd th {\n  border-right: 1px solid #F0F0F0;\n}\n</style>\n<table id=\"T_7f4dd\">\n  <thead>\n    <tr>\n      <th class=\"blank level0\" >&nbsp;</th>\n      <th id=\"T_7f4dd_level0_col0\" class=\"col_heading level0 col0\" >image_id</th>\n      <th id=\"T_7f4dd_level0_col1\" class=\"col_heading level0 col1\" >category_str</th>\n      <th id=\"T_7f4dd_level0_col2\" class=\"col_heading level0 col2\" >category_id</th>\n      <th id=\"T_7f4dd_level0_col3\" class=\"col_heading level0 col3\" >box_x_min</th>\n      <th id=\"T_7f4dd_level0_col4\" class=\"col_heading level0 col4\" >box_y_min</th>\n      <th id=\"T_7f4dd_level0_col5\" class=\"col_heading level0 col5\" >box_width</th>\n      <th id=\"T_7f4dd_level0_col6\" class=\"col_heading level0 col6\" >box_height</th>\n      <th id=\"T_7f4dd_level0_col7\" class=\"col_heading level0 col7\" >area</th>\n      <th id=\"T_7f4dd_level0_col8\" class=\"col_heading level0 col8\" colspan=\"2\">attributes</th>\n    </tr>\n    <tr>\n      <th class=\"blank level1\" >&nbsp;</th>\n      <th id=\"T_7f4dd_level1_col0\" class=\"col_heading level1 col0\" ></th>\n      <th id=\"T_7f4dd_level1_col1\" class=\"col_heading level1 col1\" ></th>\n      <th id=\"T_7f4dd_level1_col2\" class=\"col_heading level1 col2\" ></th>\n      <th id=\"T_7f4dd_level1_col3\" class=\"col_heading level1 col3\" ></th>\n      <th id=\"T_7f4dd_level1_col4\" class=\"col_heading level1 col4\" ></th>\n      <th id=\"T_7f4dd_level1_col5\" class=\"col_heading level1 col5\" ></th>\n      <th id=\"T_7f4dd_level1_col6\" class=\"col_heading level1 col6\" ></th>\n      <th id=\"T_7f4dd_level1_col7\" class=\"col_heading level1 col7\" ></th>\n      <th id=\"T_7f4dd_level1_col8\" class=\"col_heading level1 col8\" >colors</th>\n      <th id=\"T_7f4dd_level1_col9\" class=\"col_heading level1 col9\" >job</th>\n    </tr>\n    <tr>\n      <th class=\"index_name level0\" >id</th>\n      <th class=\"blank col0\" >&nbsp;</th>\n      <th class=\"blank col1\" >&nbsp;</th>\n      <th class=\"blank col2\" >&nbsp;</th>\n      <th class=\"blank col3\" >&nbsp;</th>\n      <th class=\"blank col4\" >&nbsp;</th>\n      <th class=\"blank col5\" >&nbsp;</th>\n      <th class=\"blank col6\" >&nbsp;</th>\n      <th class=\"blank col7\" >&nbsp;</th>\n      <th class=\"blank col8\" >&nbsp;</th>\n      <th class=\"blank col9\" >&nbsp;</th>\n    </tr>\n  </thead>\n  <tbody>\n    <tr>\n      <th id=\"T_7f4dd_level0_row0\" class=\"row_heading level0 row0\" >269791</th>\n      <td id=\"T_7f4dd_row0_col0\" class=\"data row0 col0\" >6091</td>\n      <td id=\"T_7f4dd_row0_col1\" class=\"data row0 col1\" >stop sign</td>\n      <td id=\"T_7f4dd_row0_col2\" class=\"data row0 col2\" >13</td>\n      <td id=\"T_7f4dd_row0_col3\" class=\"data row0 col3\" >100.220000</td>\n      <td id=\"T_7f4dd_row0_col4\" class=\"data row0 col4\" >117.540000</td>\n      <td id=\"T_7f4dd_row0_col5\" class=\"data row0 col5\" >253.430000</td>\n      <td id=\"T_7f4dd_row0_col6\" class=\"data row0 col6\" >274.900000</td>\n      <td id=\"T_7f4dd_row0_col7\" class=\"data row0 col7\" >46726.430300</td>\n      <td id=\"T_7f4dd_row0_col8\" class=\"data row0 col8\" >['red', 'white']</td>\n      <td id=\"T_7f4dd_row0_col9\" class=\"data row0 col9\" >['police']</td>\n    </tr>\n    <tr>\n      <th id=\"T_7f4dd_level0_row1\" class=\"row_heading level0 row1\" >1161234</th>\n      <td id=\"T_7f4dd_row1_col0\" class=\"data row1 col0\" >10395</td>\n      <td id=\"T_7f4dd_row1_col1\" class=\"data row1 col1\" >teddy bear</td>\n      <td id=\"T_7f4dd_row1_col2\" class=\"data row1 col2\" >88</td>\n      <td id=\"T_7f4dd_row1_col3\" class=\"data row1 col3\" >49.190000</td>\n      <td id=\"T_7f4dd_row1_col4\" class=\"data row1 col4\" >66.200000</td>\n      <td id=\"T_7f4dd_row1_col5\" class=\"data row1 col5\" >378.970000</td>\n      <td id=\"T_7f4dd_row1_col6\" class=\"data row1 col6\" >379.680000</td>\n      <td id=\"T_7f4dd_row1_col7\" class=\"data row1 col7\" >84587.439100</td>\n      <td id=\"T_7f4dd_row1_col8\" class=\"data row1 col8\" >['grey']</td>\n      <td id=\"T_7f4dd_row1_col9\" class=\"data row1 col9\" >[]</td>\n    </tr>\n  </tbody>\n</table>\n",
          "text/plain": "<pandas.io.formats.style.Styler at 0x7940f3b21d10>"
         },
         "metadata": {},
         "output_type": "display_data"
        }
       ]
      }
     },
     "5a51be3ccfd64837b1d04f54b6251a54": {
      "model_module": "@jupyter-widgets/output",
      "model_module_version": "1.0.0",
      "model_name": "OutputModel",
      "state": {
       "layout": "IPY_MODEL_1c4a75b300d946949af14de954a372f5",
       "outputs": [
        {
         "data": {
          "text/html": "<style type=\"text/css\">\n#T_83c12 th {\n  border-right: 1px solid #F0F0F0;\n}\n</style>\n<table id=\"T_83c12\">\n  <thead>\n    <tr>\n      <th class=\"blank level0\" >&nbsp;</th>\n      <th id=\"T_83c12_level0_col0\" class=\"col_heading level0 col0\" >image_id</th>\n      <th id=\"T_83c12_level0_col1\" class=\"col_heading level0 col1\" >category_str</th>\n      <th id=\"T_83c12_level0_col2\" class=\"col_heading level0 col2\" >category_id</th>\n      <th id=\"T_83c12_level0_col3\" class=\"col_heading level0 col3\" >box_x_min</th>\n      <th id=\"T_83c12_level0_col4\" class=\"col_heading level0 col4\" >box_y_min</th>\n      <th id=\"T_83c12_level0_col5\" class=\"col_heading level0 col5\" >box_width</th>\n      <th id=\"T_83c12_level0_col6\" class=\"col_heading level0 col6\" >box_height</th>\n      <th id=\"T_83c12_level0_col7\" class=\"col_heading level0 col7\" >area</th>\n      <th id=\"T_83c12_level0_col8\" class=\"col_heading level0 col8\" colspan=\"4\">attributes</th>\n    </tr>\n    <tr>\n      <th class=\"blank level1\" >&nbsp;</th>\n      <th id=\"T_83c12_level1_col0\" class=\"col_heading level1 col0\" ></th>\n      <th id=\"T_83c12_level1_col1\" class=\"col_heading level1 col1\" ></th>\n      <th id=\"T_83c12_level1_col2\" class=\"col_heading level1 col2\" ></th>\n      <th id=\"T_83c12_level1_col3\" class=\"col_heading level1 col3\" ></th>\n      <th id=\"T_83c12_level1_col4\" class=\"col_heading level1 col4\" ></th>\n      <th id=\"T_83c12_level1_col5\" class=\"col_heading level1 col5\" ></th>\n      <th id=\"T_83c12_level1_col6\" class=\"col_heading level1 col6\" ></th>\n      <th id=\"T_83c12_level1_col7\" class=\"col_heading level1 col7\" ></th>\n      <th id=\"T_83c12_level1_col8\" class=\"col_heading level1 col8\" >job</th>\n      <th id=\"T_83c12_level1_col9\" class=\"col_heading level1 col9\" colspan=\"3\">colors</th>\n    </tr>\n    <tr>\n      <th class=\"blank level2\" >&nbsp;</th>\n      <th id=\"T_83c12_level2_col0\" class=\"col_heading level2 col0\" ></th>\n      <th id=\"T_83c12_level2_col1\" class=\"col_heading level2 col1\" ></th>\n      <th id=\"T_83c12_level2_col2\" class=\"col_heading level2 col2\" ></th>\n      <th id=\"T_83c12_level2_col3\" class=\"col_heading level2 col3\" ></th>\n      <th id=\"T_83c12_level2_col4\" class=\"col_heading level2 col4\" ></th>\n      <th id=\"T_83c12_level2_col5\" class=\"col_heading level2 col5\" ></th>\n      <th id=\"T_83c12_level2_col6\" class=\"col_heading level2 col6\" ></th>\n      <th id=\"T_83c12_level2_col7\" class=\"col_heading level2 col7\" ></th>\n      <th id=\"T_83c12_level2_col8\" class=\"col_heading level2 col8\" ></th>\n      <th id=\"T_83c12_level2_col9\" class=\"col_heading level2 col9\" >grey</th>\n      <th id=\"T_83c12_level2_col10\" class=\"col_heading level2 col10\" >red</th>\n      <th id=\"T_83c12_level2_col11\" class=\"col_heading level2 col11\" >white</th>\n    </tr>\n    <tr>\n      <th class=\"index_name level0\" >id</th>\n      <th class=\"blank col0\" >&nbsp;</th>\n      <th class=\"blank col1\" >&nbsp;</th>\n      <th class=\"blank col2\" >&nbsp;</th>\n      <th class=\"blank col3\" >&nbsp;</th>\n      <th class=\"blank col4\" >&nbsp;</th>\n      <th class=\"blank col5\" >&nbsp;</th>\n      <th class=\"blank col6\" >&nbsp;</th>\n      <th class=\"blank col7\" >&nbsp;</th>\n      <th class=\"blank col8\" >&nbsp;</th>\n      <th class=\"blank col9\" >&nbsp;</th>\n      <th class=\"blank col10\" >&nbsp;</th>\n      <th class=\"blank col11\" >&nbsp;</th>\n    </tr>\n  </thead>\n  <tbody>\n    <tr>\n      <th id=\"T_83c12_level0_row0\" class=\"row_heading level0 row0\" >269791</th>\n      <td id=\"T_83c12_row0_col0\" class=\"data row0 col0\" >6091</td>\n      <td id=\"T_83c12_row0_col1\" class=\"data row0 col1\" >stop sign</td>\n      <td id=\"T_83c12_row0_col2\" class=\"data row0 col2\" >13</td>\n      <td id=\"T_83c12_row0_col3\" class=\"data row0 col3\" >100.220000</td>\n      <td id=\"T_83c12_row0_col4\" class=\"data row0 col4\" >117.540000</td>\n      <td id=\"T_83c12_row0_col5\" class=\"data row0 col5\" >253.430000</td>\n      <td id=\"T_83c12_row0_col6\" class=\"data row0 col6\" >274.900000</td>\n      <td id=\"T_83c12_row0_col7\" class=\"data row0 col7\" >46726.430300</td>\n      <td id=\"T_83c12_row0_col8\" class=\"data row0 col8\" >['police']</td>\n      <td id=\"T_83c12_row0_col9\" class=\"data row0 col9\" >False</td>\n      <td id=\"T_83c12_row0_col10\" class=\"data row0 col10\" >True</td>\n      <td id=\"T_83c12_row0_col11\" class=\"data row0 col11\" >True</td>\n    </tr>\n    <tr>\n      <th id=\"T_83c12_level0_row1\" class=\"row_heading level0 row1\" >1161234</th>\n      <td id=\"T_83c12_row1_col0\" class=\"data row1 col0\" >10395</td>\n      <td id=\"T_83c12_row1_col1\" class=\"data row1 col1\" >teddy bear</td>\n      <td id=\"T_83c12_row1_col2\" class=\"data row1 col2\" >88</td>\n      <td id=\"T_83c12_row1_col3\" class=\"data row1 col3\" >49.190000</td>\n      <td id=\"T_83c12_row1_col4\" class=\"data row1 col4\" >66.200000</td>\n      <td id=\"T_83c12_row1_col5\" class=\"data row1 col5\" >378.970000</td>\n      <td id=\"T_83c12_row1_col6\" class=\"data row1 col6\" >379.680000</td>\n      <td id=\"T_83c12_row1_col7\" class=\"data row1 col7\" >84587.439100</td>\n      <td id=\"T_83c12_row1_col8\" class=\"data row1 col8\" >None</td>\n      <td id=\"T_83c12_row1_col9\" class=\"data row1 col9\" >True</td>\n      <td id=\"T_83c12_row1_col10\" class=\"data row1 col10\" >False</td>\n      <td id=\"T_83c12_row1_col11\" class=\"data row1 col11\" >False</td>\n    </tr>\n  </tbody>\n</table>\n",
          "text/plain": "<pandas.io.formats.style.Styler at 0x7940f3ab3590>"
         },
         "metadata": {},
         "output_type": "display_data"
        }
       ]
      }
     },
     "5b59d92be4014ee7899b345bec85026b": {
      "model_module": "@jupyter-widgets/controls",
      "model_module_version": "2.0.0",
      "model_name": "HTMLStyleModel",
      "state": {
       "description_width": "",
       "font_size": null,
       "text_color": null
      }
     },
     "5bc8f8c2ad174b989c528c06010e714e": {
      "model_module": "@jupyter-widgets/base",
      "model_module_version": "2.0.0",
      "model_name": "LayoutModel",
      "state": {}
     },
     "5be401bed3744c9ab88b873c0d9e7b31": {
      "model_module": "@jupyter-widgets/base",
      "model_module_version": "2.0.0",
      "model_name": "LayoutModel",
      "state": {}
     },
     "5d0bcd38dce44cf9849cce41b0bade17": {
      "model_module": "@jupyter-widgets/controls",
      "model_module_version": "2.0.0",
      "model_name": "LinkModel",
      "state": {
       "source": [
        "IPY_MODEL_d8f01a0665d142f980214ff0509a664d",
        "index"
       ],
       "target": [
        "IPY_MODEL_00105760164c49b08951734e94d401c8",
        "selected_index"
       ]
      }
     },
     "5d4523028b1d4d0bba9854d36c472ae4": {
      "model_module": "@jupyter-widgets/controls",
      "model_module_version": "2.0.0",
      "model_name": "HTMLStyleModel",
      "state": {
       "description_width": "",
       "font_size": null,
       "text_color": null
      }
     },
     "5d4dc4f9ffce4abdad9f1e8117963f01": {
      "model_module": "@jupyter-widgets/base",
      "model_module_version": "2.0.0",
      "model_name": "LayoutModel",
      "state": {}
     },
     "5edf9acfdcdc400bbb04105993e0a371": {
      "model_module": "@jupyter-widgets/base",
      "model_module_version": "2.0.0",
      "model_name": "LayoutModel",
      "state": {}
     },
     "5f1148a6ad664667aac5f95283297181": {
      "model_module": "@jupyter-widgets/controls",
      "model_module_version": "2.0.0",
      "model_name": "LinkModel",
      "state": {
       "source": [
        "IPY_MODEL_78a7b1c849fc4437a221a0a375aa2de1",
        "index"
       ],
       "target": [
        "IPY_MODEL_5fcce537f996481ebe673bc94085e411",
        "selected_index"
       ]
      }
     },
     "5f6707f488274bcb9686c19b3f6ac783": {
      "model_module": "@jupyter-widgets/output",
      "model_module_version": "1.0.0",
      "model_name": "OutputModel",
      "state": {
       "layout": "IPY_MODEL_0e79bb2e760f4b718d5fe7c2a920c87a",
       "outputs": [
        {
         "data": {
          "text/html": "<div>\n<style scoped>\n    .dataframe tbody tr th:only-of-type {\n        vertical-align: middle;\n    }\n\n    .dataframe tbody tr th {\n        vertical-align: top;\n    }\n\n    .dataframe thead th {\n        text-align: right;\n    }\n</style>\n<table border=\"1\" class=\"dataframe\">\n  <thead>\n    <tr style=\"text-align: right;\">\n      <th></th>\n      <th>width</th>\n      <th>height</th>\n      <th>relative_path</th>\n      <th>type</th>\n      <th>tags.location</th>\n      <th>tags.spectrum</th>\n      <th>tags.time</th>\n    </tr>\n    <tr>\n      <th>id</th>\n      <th></th>\n      <th></th>\n      <th></th>\n      <th></th>\n      <th></th>\n      <th></th>\n      <th></th>\n    </tr>\n  </thead>\n  <tbody>\n    <tr>\n      <th>6091</th>\n      <td>480</td>\n      <td>640</td>\n      <td>image1.jpg</td>\n      <td>.jpg</td>\n      <td>exterior</td>\n      <td>RGB</td>\n      <td>night</td>\n    </tr>\n    <tr>\n      <th>10395</th>\n      <td>500</td>\n      <td>476</td>\n      <td>image2.jpg</td>\n      <td>.jpg</td>\n      <td>exterior</td>\n      <td>RGB</td>\n      <td>night</td>\n    </tr>\n  </tbody>\n</table>\n</div>",
          "text/plain": "       width  height relative_path  type tags.location tags.spectrum tags.time\nid                                                                            \n6091     480     640    image1.jpg  .jpg      exterior           RGB     night\n10395    500     476    image2.jpg  .jpg      exterior           RGB     night"
         },
         "metadata": {},
         "output_type": "display_data"
        }
       ]
      }
     },
     "5f7d0fe9ecce4208922c568519e73024": {
      "model_module": "@jupyter-widgets/controls",
      "model_module_version": "2.0.0",
      "model_name": "HBoxModel",
      "state": {
       "children": [
        "IPY_MODEL_7dbcd32800914fb1ab72354376c707f0",
        "IPY_MODEL_d3e685051a8049a0bb805111c553034b"
       ],
       "layout": "IPY_MODEL_5fc5106bae384a6e8a4bca68ef8289c2"
      }
     },
     "5fc5106bae384a6e8a4bca68ef8289c2": {
      "model_module": "@jupyter-widgets/base",
      "model_module_version": "2.0.0",
      "model_name": "LayoutModel",
      "state": {}
     },
     "5fcce537f996481ebe673bc94085e411": {
      "model_module": "@jupyter-widgets/controls",
      "model_module_version": "2.0.0",
      "model_name": "StackModel",
      "state": {
       "children": [
        "IPY_MODEL_1c06226e0ffb4cf0bce739ddc2e9c562",
        "IPY_MODEL_8dec6aea8ce74efc96d38909d91abdc8"
       ],
       "layout": "IPY_MODEL_31045c1a58de4f3db7fc7fb09b083776",
       "selected_index": 1,
       "titles": [
        "",
        ""
       ]
      }
     },
     "60fb081928d34f25b1131fac221a5c83": {
      "model_module": "@jupyter-widgets/controls",
      "model_module_version": "2.0.0",
      "model_name": "HTMLModel",
      "state": {
       "layout": "IPY_MODEL_726de51818694d1ea31e043482c108b8",
       "style": "IPY_MODEL_a0355fa8585b4f0190cac4831149d981",
       "value": "<p><span style='white-space: pre-wrap; font-weight: bold'>Dataset object containing 2 images and 1 object\nName :\n\tsmall_v5_dataset\nImages root :\n\t../../test_libia/test_data/caipy_dataset/tags/small_v5_dataset/Images</span></p>"
      }
     },
     "6307b906b1d84813a1d315b1841b0f44": {
      "model_module": "@jupyter-widgets/base",
      "model_module_version": "2.0.0",
      "model_name": "LayoutModel",
      "state": {}
     },
     "63d3103578f143eda9ef744c4199b33a": {
      "model_module": "@jupyter-widgets/base",
      "model_module_version": "2.0.0",
      "model_name": "LayoutModel",
      "state": {}
     },
     "63e357efab664a24ac49e586820a05d8": {
      "model_module": "@jupyter-widgets/output",
      "model_module_version": "1.0.0",
      "model_name": "OutputModel",
      "state": {
       "layout": "IPY_MODEL_53c24dd8211f40899e5fa4f1b3645c71",
       "outputs": [
        {
         "data": {
          "application/vnd.jupyter.widget-view+json": {
           "model_id": "7ed9c2e4243247bc9ff4eaffa03852c1",
           "version_major": 2,
           "version_minor": 0
          },
          "text/plain": "VBox(children=(HBox(children=(Label(value='Column format'), Dropdown(index=1, options=('raw', 'nested'), value…"
         },
         "metadata": {},
         "output_type": "display_data"
        }
       ]
      }
     },
     "6457415728be4cbe9f264af3403ab3bc": {
      "model_module": "@jupyter-widgets/base",
      "model_module_version": "2.0.0",
      "model_name": "LayoutModel",
      "state": {}
     },
     "64f63783a7d14fdc8cdeefdef6eb6fb4": {
      "model_module": "@jupyter-widgets/base",
      "model_module_version": "2.0.0",
      "model_name": "LayoutModel",
      "state": {}
     },
     "665995a2d44b4e2698e6fb69c100f814": {
      "model_module": "@jupyter-widgets/output",
      "model_module_version": "1.0.0",
      "model_name": "OutputModel",
      "state": {
       "layout": "IPY_MODEL_cb303aee35014106aacdd30b2be230e2",
       "outputs": [
        {
         "data": {
          "text/html": "<div>\n<style scoped>\n    .dataframe tbody tr th:only-of-type {\n        vertical-align: middle;\n    }\n\n    .dataframe tbody tr th {\n        vertical-align: top;\n    }\n\n    .dataframe thead th {\n        text-align: right;\n    }\n</style>\n<table border=\"1\" class=\"dataframe\">\n  <thead>\n    <tr style=\"text-align: right;\">\n      <th></th>\n      <th>width</th>\n      <th>height</th>\n      <th>relative_path</th>\n      <th>type</th>\n      <th>tags.location</th>\n      <th>tags.spectrum</th>\n      <th>tags.time</th>\n    </tr>\n    <tr>\n      <th>id</th>\n      <th></th>\n      <th></th>\n      <th></th>\n      <th></th>\n      <th></th>\n      <th></th>\n      <th></th>\n    </tr>\n  </thead>\n  <tbody>\n    <tr>\n      <th>6091</th>\n      <td>480</td>\n      <td>640</td>\n      <td>image1.jpg</td>\n      <td>.jpg</td>\n      <td>exterior</td>\n      <td>RGB</td>\n      <td>night</td>\n    </tr>\n    <tr>\n      <th>10395</th>\n      <td>500</td>\n      <td>476</td>\n      <td>image2.jpg</td>\n      <td>.jpg</td>\n      <td>exterior</td>\n      <td>RGB</td>\n      <td>night</td>\n    </tr>\n  </tbody>\n</table>\n</div>",
          "text/plain": "       width  height relative_path  type tags.location tags.spectrum tags.time\nid                                                                            \n6091     480     640    image1.jpg  .jpg      exterior           RGB     night\n10395    500     476    image2.jpg  .jpg      exterior           RGB     night"
         },
         "metadata": {},
         "output_type": "display_data"
        }
       ]
      }
     },
     "665c4c436bb342529bf01e32c99b0e55": {
      "model_module": "@jupyter-widgets/controls",
      "model_module_version": "2.0.0",
      "model_name": "DropdownModel",
      "state": {
       "_options_labels": [
        "raw",
        "nested"
       ],
       "index": 1,
       "layout": "IPY_MODEL_90119ebe56344d329c2cc79577b01e56",
       "style": "IPY_MODEL_7118b2f2036e455689712151df7a4607"
      }
     },
     "680b7700c0a14cf5a7389052d79a3a2c": {
      "model_module": "@jupyter-widgets/output",
      "model_module_version": "1.0.0",
      "model_name": "OutputModel",
      "state": {
       "layout": "IPY_MODEL_2fba735419bb4cf3909d16d20de8fbb2",
       "outputs": [
        {
         "data": {
          "text/html": "<div>\n<style scoped>\n    .dataframe tbody tr th:only-of-type {\n        vertical-align: middle;\n    }\n\n    .dataframe tbody tr th {\n        vertical-align: top;\n    }\n\n    .dataframe thead th {\n        text-align: right;\n    }\n</style>\n<table border=\"1\" class=\"dataframe\">\n  <thead>\n    <tr style=\"text-align: right;\">\n      <th></th>\n      <th>image_id</th>\n      <th>category_str</th>\n      <th>category_id</th>\n      <th>box_x_min</th>\n      <th>box_y_min</th>\n      <th>box_width</th>\n      <th>box_height</th>\n      <th>area</th>\n      <th>attributes.job</th>\n      <th>attributes.colors.grey</th>\n      <th>attributes.colors.red</th>\n      <th>attributes.colors.white</th>\n    </tr>\n    <tr>\n      <th>id</th>\n      <th></th>\n      <th></th>\n      <th></th>\n      <th></th>\n      <th></th>\n      <th></th>\n      <th></th>\n      <th></th>\n      <th></th>\n      <th></th>\n      <th></th>\n      <th></th>\n    </tr>\n  </thead>\n  <tbody>\n    <tr>\n      <th>269791</th>\n      <td>6091</td>\n      <td>stop sign</td>\n      <td>13</td>\n      <td>100.22</td>\n      <td>117.54</td>\n      <td>253.43</td>\n      <td>274.9</td>\n      <td>46726.4303</td>\n      <td>[police]</td>\n      <td>False</td>\n      <td>True</td>\n      <td>True</td>\n    </tr>\n  </tbody>\n</table>\n</div>",
          "text/plain": "        image_id category_str  category_id  box_x_min  box_y_min  box_width  \\\nid                                                                            \n269791      6091    stop sign           13     100.22     117.54     253.43   \n\n        box_height        area attributes.job  attributes.colors.grey  \\\nid                                                                      \n269791       274.9  46726.4303       [police]                   False   \n\n        attributes.colors.red  attributes.colors.white  \nid                                                      \n269791                   True                     True  "
         },
         "metadata": {},
         "output_type": "display_data"
        }
       ]
      }
     },
     "689259b83518429d87318e8e270efd7d": {
      "model_module": "@jupyter-widgets/controls",
      "model_module_version": "2.0.0",
      "model_name": "HTMLStyleModel",
      "state": {
       "description_width": "",
       "font_size": null,
       "text_color": null
      }
     },
     "69f94f9aa444432999a81465b9bd6797": {
      "model_module": "@jupyter-widgets/base",
      "model_module_version": "2.0.0",
      "model_name": "LayoutModel",
      "state": {}
     },
     "6aff1ed1e96a4861a2e091eec3efa902": {
      "model_module": "@jupyter-widgets/base",
      "model_module_version": "2.0.0",
      "model_name": "LayoutModel",
      "state": {}
     },
     "6b1bee49d1234b63922fad37788da759": {
      "model_module": "@jupyter-widgets/base",
      "model_module_version": "2.0.0",
      "model_name": "LayoutModel",
      "state": {}
     },
     "6b2f5db15cdd45bc85682ece22517214": {
      "model_module": "@jupyter-widgets/base",
      "model_module_version": "2.0.0",
      "model_name": "LayoutModel",
      "state": {}
     },
     "6c5e444f692e4bd8a6a8a61b7005e104": {
      "model_module": "@jupyter-widgets/controls",
      "model_module_version": "2.0.0",
      "model_name": "HTMLStyleModel",
      "state": {
       "description_width": "",
       "font_size": null,
       "text_color": null
      }
     },
     "6c637b5c6c94449c947140316ced66ae": {
      "model_module": "@jupyter-widgets/output",
      "model_module_version": "1.0.0",
      "model_name": "OutputModel",
      "state": {
       "layout": "IPY_MODEL_bc7a3894428247cfa807c1826acf9ea4",
       "outputs": [
        {
         "data": {
          "text/html": "<div>\n<style scoped>\n    .dataframe tbody tr th:only-of-type {\n        vertical-align: middle;\n    }\n\n    .dataframe tbody tr th {\n        vertical-align: top;\n    }\n\n    .dataframe thead th {\n        text-align: right;\n    }\n</style>\n<table border=\"1\" class=\"dataframe\">\n  <thead>\n    <tr style=\"text-align: right;\">\n      <th></th>\n      <th>width</th>\n      <th>height</th>\n      <th>relative_path</th>\n      <th>type</th>\n      <th>tags.location</th>\n      <th>tags.spectrum</th>\n      <th>tags.time</th>\n    </tr>\n    <tr>\n      <th>id</th>\n      <th></th>\n      <th></th>\n      <th></th>\n      <th></th>\n      <th></th>\n      <th></th>\n      <th></th>\n    </tr>\n  </thead>\n  <tbody>\n    <tr>\n      <th>6091</th>\n      <td>480</td>\n      <td>640</td>\n      <td>image1.jpg</td>\n      <td>.jpg</td>\n      <td>exterior</td>\n      <td>RGB</td>\n      <td>night</td>\n    </tr>\n    <tr>\n      <th>10395</th>\n      <td>500</td>\n      <td>476</td>\n      <td>image2.jpg</td>\n      <td>.jpg</td>\n      <td>exterior</td>\n      <td>RGB</td>\n      <td>night</td>\n    </tr>\n  </tbody>\n</table>\n</div>",
          "text/plain": "       width  height relative_path  type tags.location tags.spectrum tags.time\nid                                                                            \n6091     480     640    image1.jpg  .jpg      exterior           RGB     night\n10395    500     476    image2.jpg  .jpg      exterior           RGB     night"
         },
         "metadata": {},
         "output_type": "display_data"
        }
       ]
      }
     },
     "6c8a181f12d442fa997a6c9d13026986": {
      "model_module": "@jupyter-widgets/base",
      "model_module_version": "2.0.0",
      "model_name": "LayoutModel",
      "state": {}
     },
     "6d45873f50554e75b88d5efbee559578": {
      "model_module": "@jupyter-widgets/base",
      "model_module_version": "2.0.0",
      "model_name": "LayoutModel",
      "state": {}
     },
     "6d557186ad59433bb7515e22c2a8e4b0": {
      "model_module": "@jupyter-widgets/base",
      "model_module_version": "2.0.0",
      "model_name": "LayoutModel",
      "state": {}
     },
     "6d737b11bdab4f2284ef47fb6c3ea903": {
      "model_module": "@jupyter-widgets/controls",
      "model_module_version": "2.0.0",
      "model_name": "VBoxModel",
      "state": {
       "children": [
        "IPY_MODEL_28a867a6d756479dbf8da105e0fe6ee6",
        "IPY_MODEL_3230e659e66b4dee825e5917333d7b31"
       ],
       "layout": "IPY_MODEL_3fd73a1aa1394ef980d95c641f73654b"
      }
     },
     "6d7e2210e3914d59b21b33fac96cdc25": {
      "model_module": "@jupyter-widgets/base",
      "model_module_version": "2.0.0",
      "model_name": "LayoutModel",
      "state": {}
     },
     "6e5c8485f56a4d25a004ceffab205073": {
      "model_module": "@jupyter-widgets/base",
      "model_module_version": "2.0.0",
      "model_name": "LayoutModel",
      "state": {}
     },
     "6ed5fe2fdb2e4fceaff09625f94c4f7c": {
      "model_module": "@jupyter-widgets/output",
      "model_module_version": "1.0.0",
      "model_name": "OutputModel",
      "state": {
       "layout": "IPY_MODEL_2172561c2a6846bca782dec44ed6eedc",
       "outputs": [
        {
         "data": {
          "text/html": "<style type=\"text/css\">\n#T_f9fef th {\n  border-right: 1px solid #F0F0F0;\n}\n</style>\n<table id=\"T_f9fef\">\n  <thead>\n    <tr>\n      <th class=\"blank level0\" >&nbsp;</th>\n      <th id=\"T_f9fef_level0_col0\" class=\"col_heading level0 col0\" >image_id</th>\n      <th id=\"T_f9fef_level0_col1\" class=\"col_heading level0 col1\" >category_str</th>\n      <th id=\"T_f9fef_level0_col2\" class=\"col_heading level0 col2\" >category_id</th>\n      <th id=\"T_f9fef_level0_col3\" class=\"col_heading level0 col3\" >box_x_min</th>\n      <th id=\"T_f9fef_level0_col4\" class=\"col_heading level0 col4\" >box_y_min</th>\n      <th id=\"T_f9fef_level0_col5\" class=\"col_heading level0 col5\" >box_width</th>\n      <th id=\"T_f9fef_level0_col6\" class=\"col_heading level0 col6\" >box_height</th>\n      <th id=\"T_f9fef_level0_col7\" class=\"col_heading level0 col7\" >area</th>\n      <th id=\"T_f9fef_level0_col8\" class=\"col_heading level0 col8\" colspan=\"2\">attributes</th>\n    </tr>\n    <tr>\n      <th class=\"blank level1\" >&nbsp;</th>\n      <th id=\"T_f9fef_level1_col0\" class=\"col_heading level1 col0\" ></th>\n      <th id=\"T_f9fef_level1_col1\" class=\"col_heading level1 col1\" ></th>\n      <th id=\"T_f9fef_level1_col2\" class=\"col_heading level1 col2\" ></th>\n      <th id=\"T_f9fef_level1_col3\" class=\"col_heading level1 col3\" ></th>\n      <th id=\"T_f9fef_level1_col4\" class=\"col_heading level1 col4\" ></th>\n      <th id=\"T_f9fef_level1_col5\" class=\"col_heading level1 col5\" ></th>\n      <th id=\"T_f9fef_level1_col6\" class=\"col_heading level1 col6\" ></th>\n      <th id=\"T_f9fef_level1_col7\" class=\"col_heading level1 col7\" ></th>\n      <th id=\"T_f9fef_level1_col8\" class=\"col_heading level1 col8\" >colors</th>\n      <th id=\"T_f9fef_level1_col9\" class=\"col_heading level1 col9\" >job</th>\n    </tr>\n    <tr>\n      <th class=\"index_name level0\" >id</th>\n      <th class=\"blank col0\" >&nbsp;</th>\n      <th class=\"blank col1\" >&nbsp;</th>\n      <th class=\"blank col2\" >&nbsp;</th>\n      <th class=\"blank col3\" >&nbsp;</th>\n      <th class=\"blank col4\" >&nbsp;</th>\n      <th class=\"blank col5\" >&nbsp;</th>\n      <th class=\"blank col6\" >&nbsp;</th>\n      <th class=\"blank col7\" >&nbsp;</th>\n      <th class=\"blank col8\" >&nbsp;</th>\n      <th class=\"blank col9\" >&nbsp;</th>\n    </tr>\n  </thead>\n  <tbody>\n    <tr>\n      <th id=\"T_f9fef_level0_row0\" class=\"row_heading level0 row0\" >269791</th>\n      <td id=\"T_f9fef_row0_col0\" class=\"data row0 col0\" >6091</td>\n      <td id=\"T_f9fef_row0_col1\" class=\"data row0 col1\" >stop sign</td>\n      <td id=\"T_f9fef_row0_col2\" class=\"data row0 col2\" >13</td>\n      <td id=\"T_f9fef_row0_col3\" class=\"data row0 col3\" >100.220000</td>\n      <td id=\"T_f9fef_row0_col4\" class=\"data row0 col4\" >117.540000</td>\n      <td id=\"T_f9fef_row0_col5\" class=\"data row0 col5\" >253.430000</td>\n      <td id=\"T_f9fef_row0_col6\" class=\"data row0 col6\" >274.900000</td>\n      <td id=\"T_f9fef_row0_col7\" class=\"data row0 col7\" >46726.430300</td>\n      <td id=\"T_f9fef_row0_col8\" class=\"data row0 col8\" >['red', 'white']</td>\n      <td id=\"T_f9fef_row0_col9\" class=\"data row0 col9\" >['police']</td>\n    </tr>\n    <tr>\n      <th id=\"T_f9fef_level0_row1\" class=\"row_heading level0 row1\" >1161234</th>\n      <td id=\"T_f9fef_row1_col0\" class=\"data row1 col0\" >10395</td>\n      <td id=\"T_f9fef_row1_col1\" class=\"data row1 col1\" >teddy bear</td>\n      <td id=\"T_f9fef_row1_col2\" class=\"data row1 col2\" >88</td>\n      <td id=\"T_f9fef_row1_col3\" class=\"data row1 col3\" >49.190000</td>\n      <td id=\"T_f9fef_row1_col4\" class=\"data row1 col4\" >66.200000</td>\n      <td id=\"T_f9fef_row1_col5\" class=\"data row1 col5\" >378.970000</td>\n      <td id=\"T_f9fef_row1_col6\" class=\"data row1 col6\" >379.680000</td>\n      <td id=\"T_f9fef_row1_col7\" class=\"data row1 col7\" >84587.439100</td>\n      <td id=\"T_f9fef_row1_col8\" class=\"data row1 col8\" >['grey']</td>\n      <td id=\"T_f9fef_row1_col9\" class=\"data row1 col9\" >None</td>\n    </tr>\n  </tbody>\n</table>\n",
          "text/plain": "<pandas.io.formats.style.Styler at 0x7940f3a588d0>"
         },
         "metadata": {},
         "output_type": "display_data"
        }
       ]
      }
     },
     "6f6995a077d34855bd4a4c96993b73a4": {
      "model_module": "@jupyter-widgets/controls",
      "model_module_version": "2.0.0",
      "model_name": "HBoxModel",
      "state": {
       "children": [
        "IPY_MODEL_550a0431017642538ef5d674b395b710",
        "IPY_MODEL_b559e3280e504adaa50fd0003dfeee3d"
       ],
       "layout": "IPY_MODEL_6d45873f50554e75b88d5efbee559578"
      }
     },
     "6fbb38f2a05a459b8dd519be02faadc6": {
      "model_module": "@jupyter-widgets/base",
      "model_module_version": "2.0.0",
      "model_name": "LayoutModel",
      "state": {}
     },
     "7077e2077d874fe89f732530b7319909": {
      "model_module": "@jupyter-widgets/base",
      "model_module_version": "2.0.0",
      "model_name": "LayoutModel",
      "state": {}
     },
     "7118b2f2036e455689712151df7a4607": {
      "model_module": "@jupyter-widgets/controls",
      "model_module_version": "2.0.0",
      "model_name": "DescriptionStyleModel",
      "state": {
       "description_width": ""
      }
     },
     "711df07dfcab4e0592fdd9c39c99e4fc": {
      "model_module": "@jupyter-widgets/output",
      "model_module_version": "1.0.0",
      "model_name": "OutputModel",
      "state": {
       "layout": "IPY_MODEL_db231ae4be514d21a74f85d3770f6926",
       "outputs": [
        {
         "data": {
          "application/vnd.jupyter.widget-view+json": {
           "model_id": "3a7868db39ed4deb846a395330101d05",
           "version_major": 2,
           "version_minor": 0
          },
          "text/plain": "VBox(children=(HBox(children=(Label(value='Column format'), Dropdown(index=1, options=('raw', 'nested'), value…"
         },
         "metadata": {},
         "output_type": "display_data"
        }
       ]
      }
     },
     "7164a3fb294d4ad1982dad976f11d8b2": {
      "model_module": "@jupyter-widgets/output",
      "model_module_version": "1.0.0",
      "model_name": "OutputModel",
      "state": {
       "layout": "IPY_MODEL_dc64aef805da40d8a307d06d73dce679",
       "outputs": [
        {
         "data": {
          "text/html": "<style type=\"text/css\">\n#T_73b33 th {\n  border-right: 1px solid #F0F0F0;\n}\n</style>\n<table id=\"T_73b33\">\n  <thead>\n    <tr>\n      <th class=\"blank level0\" >&nbsp;</th>\n      <th id=\"T_73b33_level0_col0\" class=\"col_heading level0 col0\" >width</th>\n      <th id=\"T_73b33_level0_col1\" class=\"col_heading level0 col1\" >height</th>\n      <th id=\"T_73b33_level0_col2\" class=\"col_heading level0 col2\" >relative_path</th>\n      <th id=\"T_73b33_level0_col3\" class=\"col_heading level0 col3\" >type</th>\n      <th id=\"T_73b33_level0_col4\" class=\"col_heading level0 col4\" colspan=\"3\">tags</th>\n    </tr>\n    <tr>\n      <th class=\"blank level1\" >&nbsp;</th>\n      <th id=\"T_73b33_level1_col0\" class=\"col_heading level1 col0\" ></th>\n      <th id=\"T_73b33_level1_col1\" class=\"col_heading level1 col1\" ></th>\n      <th id=\"T_73b33_level1_col2\" class=\"col_heading level1 col2\" ></th>\n      <th id=\"T_73b33_level1_col3\" class=\"col_heading level1 col3\" ></th>\n      <th id=\"T_73b33_level1_col4\" class=\"col_heading level1 col4\" >location</th>\n      <th id=\"T_73b33_level1_col5\" class=\"col_heading level1 col5\" >spectrum</th>\n      <th id=\"T_73b33_level1_col6\" class=\"col_heading level1 col6\" >time</th>\n    </tr>\n    <tr>\n      <th class=\"index_name level0\" >id</th>\n      <th class=\"blank col0\" >&nbsp;</th>\n      <th class=\"blank col1\" >&nbsp;</th>\n      <th class=\"blank col2\" >&nbsp;</th>\n      <th class=\"blank col3\" >&nbsp;</th>\n      <th class=\"blank col4\" >&nbsp;</th>\n      <th class=\"blank col5\" >&nbsp;</th>\n      <th class=\"blank col6\" >&nbsp;</th>\n    </tr>\n  </thead>\n  <tbody>\n    <tr>\n      <th id=\"T_73b33_level0_row0\" class=\"row_heading level0 row0\" >6091</th>\n      <td id=\"T_73b33_row0_col0\" class=\"data row0 col0\" >480</td>\n      <td id=\"T_73b33_row0_col1\" class=\"data row0 col1\" >640</td>\n      <td id=\"T_73b33_row0_col2\" class=\"data row0 col2\" >image1.jpg</td>\n      <td id=\"T_73b33_row0_col3\" class=\"data row0 col3\" >.jpg</td>\n      <td id=\"T_73b33_row0_col4\" class=\"data row0 col4\" >exterior</td>\n      <td id=\"T_73b33_row0_col5\" class=\"data row0 col5\" >RGB</td>\n      <td id=\"T_73b33_row0_col6\" class=\"data row0 col6\" >night</td>\n    </tr>\n    <tr>\n      <th id=\"T_73b33_level0_row1\" class=\"row_heading level0 row1\" >10395</th>\n      <td id=\"T_73b33_row1_col0\" class=\"data row1 col0\" >500</td>\n      <td id=\"T_73b33_row1_col1\" class=\"data row1 col1\" >476</td>\n      <td id=\"T_73b33_row1_col2\" class=\"data row1 col2\" >image2.jpg</td>\n      <td id=\"T_73b33_row1_col3\" class=\"data row1 col3\" >.jpg</td>\n      <td id=\"T_73b33_row1_col4\" class=\"data row1 col4\" >exterior</td>\n      <td id=\"T_73b33_row1_col5\" class=\"data row1 col5\" >RGB</td>\n      <td id=\"T_73b33_row1_col6\" class=\"data row1 col6\" >night</td>\n    </tr>\n  </tbody>\n</table>\n",
          "text/plain": "<pandas.io.formats.style.Styler at 0x7940f3c6f4d0>"
         },
         "metadata": {},
         "output_type": "display_data"
        }
       ]
      }
     },
     "71ca3af25f7841b198d6e39e710d72a7": {
      "model_module": "@jupyter-widgets/base",
      "model_module_version": "2.0.0",
      "model_name": "LayoutModel",
      "state": {}
     },
     "71e265ccab664fe9b9ef55e3231b9f7e": {
      "model_module": "@jupyter-widgets/base",
      "model_module_version": "2.0.0",
      "model_name": "LayoutModel",
      "state": {}
     },
     "7246812156874e25b5294e3771f9d2dc": {
      "model_module": "@jupyter-widgets/base",
      "model_module_version": "2.0.0",
      "model_name": "LayoutModel",
      "state": {}
     },
     "726de51818694d1ea31e043482c108b8": {
      "model_module": "@jupyter-widgets/base",
      "model_module_version": "2.0.0",
      "model_name": "LayoutModel",
      "state": {}
     },
     "727aed3667e64759ae90299a047ae617": {
      "model_module": "@jupyter-widgets/base",
      "model_module_version": "2.0.0",
      "model_name": "LayoutModel",
      "state": {}
     },
     "72eef781e0654765ae3936703a0b3a97": {
      "model_module": "@jupyter-widgets/controls",
      "model_module_version": "2.0.0",
      "model_name": "LabelModel",
      "state": {
       "layout": "IPY_MODEL_da0d0cb76541403384776a4502467c08",
       "style": "IPY_MODEL_cc78d96e04854349b11c5234e852f6da",
       "value": "Booleanize"
      }
     },
     "7616070338b24855853cc7e4b73e8eff": {
      "model_module": "@jupyter-widgets/controls",
      "model_module_version": "2.0.0",
      "model_name": "LinkModel",
      "state": {
       "source": [
        "IPY_MODEL_8b25e9549910415da84db6b3adddc1e1",
        "index"
       ],
       "target": [
        "IPY_MODEL_19e462a0d377449cabb8182a67bef4b4",
        "selected_index"
       ]
      }
     },
     "7663ad6dc4f945f7b59b43d73279675b": {
      "model_module": "@jupyter-widgets/controls",
      "model_module_version": "2.0.0",
      "model_name": "LabelStyleModel",
      "state": {
       "description_width": "",
       "font_family": null,
       "font_size": null,
       "font_style": null,
       "font_variant": null,
       "font_weight": null,
       "text_color": null,
       "text_decoration": null
      }
     },
     "77472ab7c8c0493cab67207973b0f79b": {
      "model_module": "@jupyter-widgets/controls",
      "model_module_version": "2.0.0",
      "model_name": "LabelModel",
      "state": {
       "layout": "IPY_MODEL_fc8042ff984444a982b2e8675b5a37b6",
       "style": "IPY_MODEL_d0eb5159b5714eb5ac73be47f210dee9",
       "value": "Booleanize"
      }
     },
     "7760213cceaf4823ac275ff8472c91ab": {
      "model_module": "@jupyter-widgets/controls",
      "model_module_version": "2.0.0",
      "model_name": "HBoxModel",
      "state": {
       "children": [
        "IPY_MODEL_39f77f38b27446dbb1e54657337c0981",
        "IPY_MODEL_80642f77801c44558ed6e0e348cead3f",
        "IPY_MODEL_81b2068437a24e3786b2effe27317fc8"
       ],
       "layout": "IPY_MODEL_f7e8bfbe60a942b2a00b94464a416211"
      }
     },
     "78a7b1c849fc4437a221a0a375aa2de1": {
      "model_module": "@jupyter-widgets/controls",
      "model_module_version": "2.0.0",
      "model_name": "DropdownModel",
      "state": {
       "_options_labels": [
        "raw",
        "nested"
       ],
       "index": 1,
       "layout": "IPY_MODEL_dba7513f7a7942738daecbd3f1990edf",
       "style": "IPY_MODEL_e87f911d52a24f639a6acc54c921faba"
      }
     },
     "78c759f31dc74dd4ae5cd78d7d8204eb": {
      "model_module": "@jupyter-widgets/controls",
      "model_module_version": "2.0.0",
      "model_name": "StackModel",
      "state": {
       "children": [
        "IPY_MODEL_a39ce88aa0d5426192ff29aad4eac249",
        "IPY_MODEL_ca7c76f4872f49e3b487add5d0241be2"
       ],
       "layout": "IPY_MODEL_de584f02b4774207a1499a9c9d33b7e7",
       "selected_index": 1,
       "titles": [
        "",
        ""
       ]
      }
     },
     "78cc40c19b904654bc155eb36ec701bc": {
      "model_module": "@jupyter-widgets/controls",
      "model_module_version": "2.0.0",
      "model_name": "LabelModel",
      "state": {
       "layout": "IPY_MODEL_affeae28662b40fda2b69bf8291780cf",
       "style": "IPY_MODEL_7e77f595972444f49f378daa4b50eea8",
       "value": "Column format"
      }
     },
     "790e943d3bd54799a356f5851dfc06df": {
      "model_module": "@jupyter-widgets/base",
      "model_module_version": "2.0.0",
      "model_name": "LayoutModel",
      "state": {}
     },
     "7956f796da2f46f4b5981bf56a042df3": {
      "model_module": "@jupyter-widgets/base",
      "model_module_version": "2.0.0",
      "model_name": "LayoutModel",
      "state": {}
     },
     "7a363a5f09c041c3b8e22f96d3fb4922": {
      "model_module": "@jupyter-widgets/controls",
      "model_module_version": "2.0.0",
      "model_name": "DescriptionStyleModel",
      "state": {
       "description_width": ""
      }
     },
     "7aaabf0233ed4ed694845ba4c59f8a11": {
      "model_module": "@jupyter-widgets/output",
      "model_module_version": "1.0.0",
      "model_name": "OutputModel",
      "state": {
       "layout": "IPY_MODEL_f269d0a8572448d9a9a31886878024d2",
       "outputs": [
        {
         "data": {
          "text/html": "<style type=\"text/css\">\n#T_d89dd th {\n  border-right: 1px solid #F0F0F0;\n}\n</style>\n<table id=\"T_d89dd\">\n  <thead>\n    <tr>\n      <th class=\"blank level0\" >&nbsp;</th>\n      <th id=\"T_d89dd_level0_col0\" class=\"col_heading level0 col0\" >image_id</th>\n      <th id=\"T_d89dd_level0_col1\" class=\"col_heading level0 col1\" >category_str</th>\n      <th id=\"T_d89dd_level0_col2\" class=\"col_heading level0 col2\" >category_id</th>\n      <th id=\"T_d89dd_level0_col3\" class=\"col_heading level0 col3\" >box_x_min</th>\n      <th id=\"T_d89dd_level0_col4\" class=\"col_heading level0 col4\" >box_y_min</th>\n      <th id=\"T_d89dd_level0_col5\" class=\"col_heading level0 col5\" >box_width</th>\n      <th id=\"T_d89dd_level0_col6\" class=\"col_heading level0 col6\" >box_height</th>\n      <th id=\"T_d89dd_level0_col7\" class=\"col_heading level0 col7\" >area</th>\n      <th id=\"T_d89dd_level0_col8\" class=\"col_heading level0 col8\" colspan=\"2\">attributes</th>\n    </tr>\n    <tr>\n      <th class=\"blank level1\" >&nbsp;</th>\n      <th id=\"T_d89dd_level1_col0\" class=\"col_heading level1 col0\" ></th>\n      <th id=\"T_d89dd_level1_col1\" class=\"col_heading level1 col1\" ></th>\n      <th id=\"T_d89dd_level1_col2\" class=\"col_heading level1 col2\" ></th>\n      <th id=\"T_d89dd_level1_col3\" class=\"col_heading level1 col3\" ></th>\n      <th id=\"T_d89dd_level1_col4\" class=\"col_heading level1 col4\" ></th>\n      <th id=\"T_d89dd_level1_col5\" class=\"col_heading level1 col5\" ></th>\n      <th id=\"T_d89dd_level1_col6\" class=\"col_heading level1 col6\" ></th>\n      <th id=\"T_d89dd_level1_col7\" class=\"col_heading level1 col7\" ></th>\n      <th id=\"T_d89dd_level1_col8\" class=\"col_heading level1 col8\" >colors</th>\n      <th id=\"T_d89dd_level1_col9\" class=\"col_heading level1 col9\" >job</th>\n    </tr>\n    <tr>\n      <th class=\"index_name level0\" >id</th>\n      <th class=\"blank col0\" >&nbsp;</th>\n      <th class=\"blank col1\" >&nbsp;</th>\n      <th class=\"blank col2\" >&nbsp;</th>\n      <th class=\"blank col3\" >&nbsp;</th>\n      <th class=\"blank col4\" >&nbsp;</th>\n      <th class=\"blank col5\" >&nbsp;</th>\n      <th class=\"blank col6\" >&nbsp;</th>\n      <th class=\"blank col7\" >&nbsp;</th>\n      <th class=\"blank col8\" >&nbsp;</th>\n      <th class=\"blank col9\" >&nbsp;</th>\n    </tr>\n  </thead>\n  <tbody>\n    <tr>\n      <th id=\"T_d89dd_level0_row0\" class=\"row_heading level0 row0\" >269791</th>\n      <td id=\"T_d89dd_row0_col0\" class=\"data row0 col0\" >6091</td>\n      <td id=\"T_d89dd_row0_col1\" class=\"data row0 col1\" >stop sign</td>\n      <td id=\"T_d89dd_row0_col2\" class=\"data row0 col2\" >13</td>\n      <td id=\"T_d89dd_row0_col3\" class=\"data row0 col3\" >100.220000</td>\n      <td id=\"T_d89dd_row0_col4\" class=\"data row0 col4\" >117.540000</td>\n      <td id=\"T_d89dd_row0_col5\" class=\"data row0 col5\" >253.430000</td>\n      <td id=\"T_d89dd_row0_col6\" class=\"data row0 col6\" >274.900000</td>\n      <td id=\"T_d89dd_row0_col7\" class=\"data row0 col7\" >46726.430300</td>\n      <td id=\"T_d89dd_row0_col8\" class=\"data row0 col8\" >['red', 'white']</td>\n      <td id=\"T_d89dd_row0_col9\" class=\"data row0 col9\" >['police']</td>\n    </tr>\n  </tbody>\n</table>\n",
          "text/plain": "<pandas.io.formats.style.Styler at 0x7940f3adf490>"
         },
         "metadata": {},
         "output_type": "display_data"
        }
       ]
      }
     },
     "7b94c9ea32eb4ed09375153eb9a238ad": {
      "model_module": "@jupyter-widgets/base",
      "model_module_version": "2.0.0",
      "model_name": "LayoutModel",
      "state": {}
     },
     "7bd56e76409940a2bae7367eb1a573d8": {
      "model_module": "@jupyter-widgets/base",
      "model_module_version": "2.0.0",
      "model_name": "LayoutModel",
      "state": {}
     },
     "7cc6abdef1a44562aaea05b42b67c44b": {
      "model_module": "@jupyter-widgets/output",
      "model_module_version": "1.0.0",
      "model_name": "OutputModel",
      "state": {
       "layout": "IPY_MODEL_6b2f5db15cdd45bc85682ece22517214",
       "outputs": [
        {
         "data": {
          "application/vnd.jupyter.widget-view+json": {
           "model_id": "7ed3fdd4407b41bf8581fc075d6f1542",
           "version_major": 2,
           "version_minor": 0
          },
          "text/plain": "VBox(children=(HBox(children=(Label(value='Column format'), Dropdown(index=1, options=('raw', 'nested'), value…"
         },
         "metadata": {},
         "output_type": "display_data"
        }
       ]
      }
     },
     "7ce64cca12244449979dd9585e3931e5": {
      "model_module": "@jupyter-widgets/output",
      "model_module_version": "1.0.0",
      "model_name": "OutputModel",
      "state": {
       "layout": "IPY_MODEL_7246812156874e25b5294e3771f9d2dc",
       "outputs": [
        {
         "data": {
          "text/html": "<div>\n<style scoped>\n    .dataframe tbody tr th:only-of-type {\n        vertical-align: middle;\n    }\n\n    .dataframe tbody tr th {\n        vertical-align: top;\n    }\n\n    .dataframe thead th {\n        text-align: right;\n    }\n</style>\n<table border=\"1\" class=\"dataframe\">\n  <thead>\n    <tr style=\"text-align: right;\">\n      <th></th>\n      <th>category string</th>\n    </tr>\n    <tr>\n      <th>category_id</th>\n      <th></th>\n    </tr>\n  </thead>\n  <tbody>\n    <tr>\n      <th>13</th>\n      <td>stop sign</td>\n    </tr>\n    <tr>\n      <th>88</th>\n      <td>teddy bear</td>\n    </tr>\n  </tbody>\n</table>\n</div>",
          "text/plain": "            category string\ncategory_id                \n13                stop sign\n88               teddy bear"
         },
         "metadata": {},
         "output_type": "display_data"
        }
       ]
      }
     },
     "7dbcd32800914fb1ab72354376c707f0": {
      "model_module": "@jupyter-widgets/controls",
      "model_module_version": "2.0.0",
      "model_name": "LabelModel",
      "state": {
       "layout": "IPY_MODEL_727aed3667e64759ae90299a047ae617",
       "style": "IPY_MODEL_f78fd9f70020405e958b4539cd004526",
       "value": "Column format"
      }
     },
     "7dca6c6ac7254ca7a407be2f9977f934": {
      "model_module": "@jupyter-widgets/controls",
      "model_module_version": "2.0.0",
      "model_name": "HBoxModel",
      "state": {
       "children": [
        "IPY_MODEL_78cc40c19b904654bc155eb36ec701bc",
        "IPY_MODEL_b4862abefd164a6197462e5a6e3b0572"
       ],
       "layout": "IPY_MODEL_5bc8f8c2ad174b989c528c06010e714e"
      }
     },
     "7df58bff598b4b52840ad92d85f45e5e": {
      "model_module": "@jupyter-widgets/base",
      "model_module_version": "2.0.0",
      "model_name": "LayoutModel",
      "state": {}
     },
     "7e77f595972444f49f378daa4b50eea8": {
      "model_module": "@jupyter-widgets/controls",
      "model_module_version": "2.0.0",
      "model_name": "LabelStyleModel",
      "state": {
       "description_width": "",
       "font_family": null,
       "font_size": null,
       "font_style": null,
       "font_variant": null,
       "font_weight": null,
       "text_color": null,
       "text_decoration": null
      }
     },
     "7ed3fdd4407b41bf8581fc075d6f1542": {
      "model_module": "@jupyter-widgets/controls",
      "model_module_version": "2.0.0",
      "model_name": "VBoxModel",
      "state": {
       "children": [
        "IPY_MODEL_0cad1d65402d46368442f111431fadd0",
        "IPY_MODEL_5fcce537f996481ebe673bc94085e411"
       ],
       "layout": "IPY_MODEL_fb7e7441e17c42c3a58e8bd4bf04ef34"
      }
     },
     "7ed9c2e4243247bc9ff4eaffa03852c1": {
      "model_module": "@jupyter-widgets/controls",
      "model_module_version": "2.0.0",
      "model_name": "VBoxModel",
      "state": {
       "children": [
        "IPY_MODEL_a9770d7b192a402fada577ea268aed62",
        "IPY_MODEL_78c759f31dc74dd4ae5cd78d7d8204eb"
       ],
       "layout": "IPY_MODEL_94faa84eafe94898a48f21d30294155f"
      }
     },
     "7f20856ffda84558a6c94a48ed0fc6a9": {
      "model_module": "@jupyter-widgets/controls",
      "model_module_version": "2.0.0",
      "model_name": "TabModel",
      "state": {
       "children": [
        "IPY_MODEL_91058b9922dc4a50a3567d1f64601e6e",
        "IPY_MODEL_7cc6abdef1a44562aaea05b42b67c44b",
        "IPY_MODEL_0b73631e80df49f6b1399b32864f73c0"
       ],
       "layout": "IPY_MODEL_87e7402bb65044759e6b86f85760fa42",
       "selected_index": 0,
       "titles": [
        "Images",
        "Annotations",
        "Label Map"
       ]
      }
     },
     "7f4065f3b4c445c4a3541e584838f776": {
      "model_module": "@jupyter-widgets/controls",
      "model_module_version": "2.0.0",
      "model_name": "VBoxModel",
      "state": {
       "children": [
        "IPY_MODEL_72eef781e0654765ae3936703a0b3a97",
        "IPY_MODEL_c68021dbecb143ec8ae71e00749a7578"
       ],
       "layout": "IPY_MODEL_1c85d1590abf4bf98d2f322f6ef4cf61"
      }
     },
     "80642f77801c44558ed6e0e348cead3f": {
      "model_module": "@jupyter-widgets/controls",
      "model_module_version": "2.0.0",
      "model_name": "FloatProgressModel",
      "state": {
       "bar_style": "success",
       "layout": "IPY_MODEL_f42976d4974242b0a839a036e827d294",
       "max": 2,
       "style": "IPY_MODEL_3d470d1ee1694e5581cbfa144a24d2af",
       "value": 2
      }
     },
     "8150e92f60b44908ab386b6fb7d2a512": {
      "model_module": "@jupyter-widgets/controls",
      "model_module_version": "2.0.0",
      "model_name": "StackModel",
      "state": {
       "children": [
        "IPY_MODEL_af7d3642feb1415a950f9403536031fb",
        "IPY_MODEL_4075c27f828741dd9e89089f7d2b7ddd"
       ],
       "layout": "IPY_MODEL_c1bb38eb31d746ff9d9ed3db9965103a",
       "selected_index": 1,
       "titles": [
        "",
        ""
       ]
      }
     },
     "81b2068437a24e3786b2effe27317fc8": {
      "model_module": "@jupyter-widgets/controls",
      "model_module_version": "2.0.0",
      "model_name": "HTMLModel",
      "state": {
       "layout": "IPY_MODEL_98ef4e14d0ea460fb3715aede1697c79",
       "style": "IPY_MODEL_5d4523028b1d4d0bba9854d36c472ae4",
       "value": " 2/2 [00:00&lt;00:00, 211.21it/s]"
      }
     },
     "827a8fe062e94b4f8116397a0b0a49fe": {
      "model_module": "@jupyter-widgets/controls",
      "model_module_version": "2.0.0",
      "model_name": "StackModel",
      "state": {
       "children": [
        "IPY_MODEL_0c3022feb15d49968e3d6aee27805c44",
        "IPY_MODEL_14df742b05b34116b676c62121718770"
       ],
       "layout": "IPY_MODEL_49ba3f4dcf604acab1b120ecf5780aff",
       "selected_index": 1,
       "titles": [
        "",
        ""
       ]
      }
     },
     "82e957b0c4e14a9c8b54d941130028ba": {
      "model_module": "@jupyter-widgets/controls",
      "model_module_version": "2.0.0",
      "model_name": "DescriptionStyleModel",
      "state": {
       "description_width": ""
      }
     },
     "832592f6d6694ac89ee1a8177863fdd1": {
      "model_module": "@jupyter-widgets/base",
      "model_module_version": "2.0.0",
      "model_name": "LayoutModel",
      "state": {}
     },
     "8337de32257745aeb78cfa5f3e946c10": {
      "model_module": "@jupyter-widgets/controls",
      "model_module_version": "2.0.0",
      "model_name": "HTMLModel",
      "state": {
       "layout": "IPY_MODEL_f5fba25f9cab45bb8daf9377481da905",
       "style": "IPY_MODEL_510e43b152b64e628289d7e5ed425402",
       "value": "<p><span style='white-space: pre-wrap; font-weight: bold'>Dataset object containing 2 images and 2 objects\nName :\n\tsmall_v5_dataset\nImages root :\n\t../../test_libia/test_data/caipy_dataset/tags/small_v5_dataset/Images</span></p>"
      }
     },
     "83e111e3a0f6439dbc26d3b0ecc5eb02": {
      "model_module": "@jupyter-widgets/controls",
      "model_module_version": "2.0.0",
      "model_name": "DescriptionStyleModel",
      "state": {
       "description_width": ""
      }
     },
     "8451cee892544113bb3ea74b326cc035": {
      "model_module": "@jupyter-widgets/controls",
      "model_module_version": "2.0.0",
      "model_name": "DescriptionStyleModel",
      "state": {
       "description_width": ""
      }
     },
     "8470f9b41dac44f49f78c1a3b778474e": {
      "model_module": "@jupyter-widgets/base",
      "model_module_version": "2.0.0",
      "model_name": "LayoutModel",
      "state": {}
     },
     "847a6bfc69884c2188820ecb780da6e3": {
      "model_module": "@jupyter-widgets/base",
      "model_module_version": "2.0.0",
      "model_name": "LayoutModel",
      "state": {}
     },
     "8648df6315114b2492ac1edd4678d530": {
      "model_module": "@jupyter-widgets/output",
      "model_module_version": "1.0.0",
      "model_name": "OutputModel",
      "state": {
       "layout": "IPY_MODEL_5edf9acfdcdc400bbb04105993e0a371",
       "outputs": [
        {
         "data": {
          "text/html": "<style type=\"text/css\">\n#T_2d39a th {\n  border-right: 1px solid #F0F0F0;\n}\n</style>\n<table id=\"T_2d39a\">\n  <thead>\n    <tr>\n      <th class=\"blank level0\" >&nbsp;</th>\n      <th id=\"T_2d39a_level0_col0\" class=\"col_heading level0 col0\" >image_id</th>\n      <th id=\"T_2d39a_level0_col1\" class=\"col_heading level0 col1\" >category_str</th>\n      <th id=\"T_2d39a_level0_col2\" class=\"col_heading level0 col2\" >category_id</th>\n      <th id=\"T_2d39a_level0_col3\" class=\"col_heading level0 col3\" >box_x_min</th>\n      <th id=\"T_2d39a_level0_col4\" class=\"col_heading level0 col4\" >box_y_min</th>\n      <th id=\"T_2d39a_level0_col5\" class=\"col_heading level0 col5\" >box_width</th>\n      <th id=\"T_2d39a_level0_col6\" class=\"col_heading level0 col6\" >box_height</th>\n      <th id=\"T_2d39a_level0_col7\" class=\"col_heading level0 col7\" >area</th>\n      <th id=\"T_2d39a_level0_col8\" class=\"col_heading level0 col8\" colspan=\"4\">attributes</th>\n    </tr>\n    <tr>\n      <th class=\"blank level1\" >&nbsp;</th>\n      <th id=\"T_2d39a_level1_col0\" class=\"col_heading level1 col0\" ></th>\n      <th id=\"T_2d39a_level1_col1\" class=\"col_heading level1 col1\" ></th>\n      <th id=\"T_2d39a_level1_col2\" class=\"col_heading level1 col2\" ></th>\n      <th id=\"T_2d39a_level1_col3\" class=\"col_heading level1 col3\" ></th>\n      <th id=\"T_2d39a_level1_col4\" class=\"col_heading level1 col4\" ></th>\n      <th id=\"T_2d39a_level1_col5\" class=\"col_heading level1 col5\" ></th>\n      <th id=\"T_2d39a_level1_col6\" class=\"col_heading level1 col6\" ></th>\n      <th id=\"T_2d39a_level1_col7\" class=\"col_heading level1 col7\" ></th>\n      <th id=\"T_2d39a_level1_col8\" class=\"col_heading level1 col8\" >job</th>\n      <th id=\"T_2d39a_level1_col9\" class=\"col_heading level1 col9\" colspan=\"3\">colors</th>\n    </tr>\n    <tr>\n      <th class=\"blank level2\" >&nbsp;</th>\n      <th id=\"T_2d39a_level2_col0\" class=\"col_heading level2 col0\" ></th>\n      <th id=\"T_2d39a_level2_col1\" class=\"col_heading level2 col1\" ></th>\n      <th id=\"T_2d39a_level2_col2\" class=\"col_heading level2 col2\" ></th>\n      <th id=\"T_2d39a_level2_col3\" class=\"col_heading level2 col3\" ></th>\n      <th id=\"T_2d39a_level2_col4\" class=\"col_heading level2 col4\" ></th>\n      <th id=\"T_2d39a_level2_col5\" class=\"col_heading level2 col5\" ></th>\n      <th id=\"T_2d39a_level2_col6\" class=\"col_heading level2 col6\" ></th>\n      <th id=\"T_2d39a_level2_col7\" class=\"col_heading level2 col7\" ></th>\n      <th id=\"T_2d39a_level2_col8\" class=\"col_heading level2 col8\" ></th>\n      <th id=\"T_2d39a_level2_col9\" class=\"col_heading level2 col9\" >grey</th>\n      <th id=\"T_2d39a_level2_col10\" class=\"col_heading level2 col10\" >red</th>\n      <th id=\"T_2d39a_level2_col11\" class=\"col_heading level2 col11\" >white</th>\n    </tr>\n    <tr>\n      <th class=\"index_name level0\" >id</th>\n      <th class=\"blank col0\" >&nbsp;</th>\n      <th class=\"blank col1\" >&nbsp;</th>\n      <th class=\"blank col2\" >&nbsp;</th>\n      <th class=\"blank col3\" >&nbsp;</th>\n      <th class=\"blank col4\" >&nbsp;</th>\n      <th class=\"blank col5\" >&nbsp;</th>\n      <th class=\"blank col6\" >&nbsp;</th>\n      <th class=\"blank col7\" >&nbsp;</th>\n      <th class=\"blank col8\" >&nbsp;</th>\n      <th class=\"blank col9\" >&nbsp;</th>\n      <th class=\"blank col10\" >&nbsp;</th>\n      <th class=\"blank col11\" >&nbsp;</th>\n    </tr>\n  </thead>\n  <tbody>\n    <tr>\n      <th id=\"T_2d39a_level0_row0\" class=\"row_heading level0 row0\" >269791</th>\n      <td id=\"T_2d39a_row0_col0\" class=\"data row0 col0\" >6091</td>\n      <td id=\"T_2d39a_row0_col1\" class=\"data row0 col1\" >stop sign</td>\n      <td id=\"T_2d39a_row0_col2\" class=\"data row0 col2\" >13</td>\n      <td id=\"T_2d39a_row0_col3\" class=\"data row0 col3\" >100.220000</td>\n      <td id=\"T_2d39a_row0_col4\" class=\"data row0 col4\" >117.540000</td>\n      <td id=\"T_2d39a_row0_col5\" class=\"data row0 col5\" >253.430000</td>\n      <td id=\"T_2d39a_row0_col6\" class=\"data row0 col6\" >274.900000</td>\n      <td id=\"T_2d39a_row0_col7\" class=\"data row0 col7\" >46726.430300</td>\n      <td id=\"T_2d39a_row0_col8\" class=\"data row0 col8\" >['police']</td>\n      <td id=\"T_2d39a_row0_col9\" class=\"data row0 col9\" >False</td>\n      <td id=\"T_2d39a_row0_col10\" class=\"data row0 col10\" >True</td>\n      <td id=\"T_2d39a_row0_col11\" class=\"data row0 col11\" >True</td>\n    </tr>\n  </tbody>\n</table>\n",
          "text/plain": "<pandas.io.formats.style.Styler at 0x7940f392d590>"
         },
         "metadata": {},
         "output_type": "display_data"
        }
       ]
      }
     },
     "86a2ad8a8d464913bc1c480faa11c050": {
      "model_module": "@jupyter-widgets/base",
      "model_module_version": "2.0.0",
      "model_name": "LayoutModel",
      "state": {}
     },
     "87e7402bb65044759e6b86f85760fa42": {
      "model_module": "@jupyter-widgets/base",
      "model_module_version": "2.0.0",
      "model_name": "LayoutModel",
      "state": {}
     },
     "8840d0a90ac3484ab73cdadf004d7a40": {
      "model_module": "@jupyter-widgets/base",
      "model_module_version": "2.0.0",
      "model_name": "LayoutModel",
      "state": {}
     },
     "887130e2a4a84c33849784401bfedba6": {
      "model_module": "@jupyter-widgets/controls",
      "model_module_version": "2.0.0",
      "model_name": "ToggleButtonsModel",
      "state": {
       "_options_labels": [
        "yes ",
        "no "
       ],
       "button_style": "",
       "icons": [
        "check",
        "times"
       ],
       "index": 0,
       "layout": "IPY_MODEL_2ec564d426a24931b4774a7b1cac9855",
       "style": "IPY_MODEL_c35c18c049e94cc7bffa41bb78ea7b9f",
       "tooltips": []
      }
     },
     "893bdad326b7409ab4074f4a3907e148": {
      "model_module": "@jupyter-widgets/base",
      "model_module_version": "2.0.0",
      "model_name": "LayoutModel",
      "state": {}
     },
     "89411a5fe0b24f80985bfe7654079eab": {
      "model_module": "@jupyter-widgets/base",
      "model_module_version": "2.0.0",
      "model_name": "LayoutModel",
      "state": {}
     },
     "8a4ab33373f14f73be285069cf47140f": {
      "model_module": "@jupyter-widgets/controls",
      "model_module_version": "2.0.0",
      "model_name": "VBoxModel",
      "state": {
       "children": [
        "IPY_MODEL_77472ab7c8c0493cab67207973b0f79b",
        "IPY_MODEL_b7c959e0d52c4ae18e9cfc2c92c5c3d8"
       ],
       "layout": "IPY_MODEL_a965e68eaf084b5ca4eb5a94a09ebab3"
      }
     },
     "8acae534a7c94fbba1b51c284bf46617": {
      "model_module": "@jupyter-widgets/base",
      "model_module_version": "2.0.0",
      "model_name": "LayoutModel",
      "state": {}
     },
     "8b25e9549910415da84db6b3adddc1e1": {
      "model_module": "@jupyter-widgets/controls",
      "model_module_version": "2.0.0",
      "model_name": "DropdownModel",
      "state": {
       "_options_labels": [
        "raw",
        "nested"
       ],
       "index": 1,
       "layout": "IPY_MODEL_2977a2e3ce1946ab84f2899b27b96b5d",
       "style": "IPY_MODEL_7a363a5f09c041c3b8e22f96d3fb4922"
      }
     },
     "8cd1d0095470420f8e6d2fbb8b28457d": {
      "model_module": "@jupyter-widgets/output",
      "model_module_version": "1.0.0",
      "model_name": "OutputModel",
      "state": {
       "layout": "IPY_MODEL_b0b28fe5a2e24eafbf6c8d76144557bf",
       "outputs": [
        {
         "data": {
          "text/html": "<div>\n<style scoped>\n    .dataframe tbody tr th:only-of-type {\n        vertical-align: middle;\n    }\n\n    .dataframe tbody tr th {\n        vertical-align: top;\n    }\n\n    .dataframe thead th {\n        text-align: right;\n    }\n</style>\n<table border=\"1\" class=\"dataframe\">\n  <thead>\n    <tr style=\"text-align: right;\">\n      <th></th>\n      <th>image_id</th>\n      <th>category_str</th>\n      <th>category_id</th>\n      <th>box_x_min</th>\n      <th>box_y_min</th>\n      <th>box_width</th>\n      <th>box_height</th>\n      <th>area</th>\n      <th>attributes.colors</th>\n      <th>attributes.job</th>\n    </tr>\n    <tr>\n      <th>id</th>\n      <th></th>\n      <th></th>\n      <th></th>\n      <th></th>\n      <th></th>\n      <th></th>\n      <th></th>\n      <th></th>\n      <th></th>\n      <th></th>\n    </tr>\n  </thead>\n  <tbody>\n    <tr>\n      <th>269791</th>\n      <td>6091</td>\n      <td>stop sign</td>\n      <td>13</td>\n      <td>100.22</td>\n      <td>117.54</td>\n      <td>253.43</td>\n      <td>274.90</td>\n      <td>46726.4303</td>\n      <td>[red, white]</td>\n      <td>[police]</td>\n    </tr>\n    <tr>\n      <th>1161234</th>\n      <td>10395</td>\n      <td>teddy bear</td>\n      <td>88</td>\n      <td>49.19</td>\n      <td>66.20</td>\n      <td>378.97</td>\n      <td>379.68</td>\n      <td>84587.4391</td>\n      <td>[grey]</td>\n      <td>[]</td>\n    </tr>\n  </tbody>\n</table>\n</div>",
          "text/plain": "         image_id category_str  category_id  box_x_min  box_y_min  box_width  \\\nid                                                                             \n269791       6091    stop sign           13     100.22     117.54     253.43   \n1161234     10395   teddy bear           88      49.19      66.20     378.97   \n\n         box_height        area attributes.colors attributes.job  \nid                                                                \n269791       274.90  46726.4303      [red, white]       [police]  \n1161234      379.68  84587.4391            [grey]             []  "
         },
         "metadata": {},
         "output_type": "display_data"
        }
       ]
      }
     },
     "8cfa3a48c69041dda97dcce09c508d27": {
      "model_module": "@jupyter-widgets/controls",
      "model_module_version": "2.0.0",
      "model_name": "ToggleButtonsStyleModel",
      "state": {
       "button_width": "auto",
       "description_width": ""
      }
     },
     "8d23a83cc5384540bd03c93853b9fcd6": {
      "model_module": "@jupyter-widgets/base",
      "model_module_version": "2.0.0",
      "model_name": "LayoutModel",
      "state": {}
     },
     "8d76fa29b2d3468392279e1b2d0e7a83": {
      "model_module": "@jupyter-widgets/output",
      "model_module_version": "1.0.0",
      "model_name": "OutputModel",
      "state": {
       "layout": "IPY_MODEL_173ab3fb03604746807dfadde1945553",
       "outputs": [
        {
         "data": {
          "text/html": "<style type=\"text/css\">\n#T_40ebf th {\n  border-right: 1px solid #F0F0F0;\n}\n</style>\n<table id=\"T_40ebf\">\n  <thead>\n    <tr>\n      <th class=\"blank level0\" >&nbsp;</th>\n      <th id=\"T_40ebf_level0_col0\" class=\"col_heading level0 col0\" >width</th>\n      <th id=\"T_40ebf_level0_col1\" class=\"col_heading level0 col1\" >height</th>\n      <th id=\"T_40ebf_level0_col2\" class=\"col_heading level0 col2\" >relative_path</th>\n      <th id=\"T_40ebf_level0_col3\" class=\"col_heading level0 col3\" >type</th>\n      <th id=\"T_40ebf_level0_col4\" class=\"col_heading level0 col4\" colspan=\"3\">tags</th>\n    </tr>\n    <tr>\n      <th class=\"blank level1\" >&nbsp;</th>\n      <th id=\"T_40ebf_level1_col0\" class=\"col_heading level1 col0\" ></th>\n      <th id=\"T_40ebf_level1_col1\" class=\"col_heading level1 col1\" ></th>\n      <th id=\"T_40ebf_level1_col2\" class=\"col_heading level1 col2\" ></th>\n      <th id=\"T_40ebf_level1_col3\" class=\"col_heading level1 col3\" ></th>\n      <th id=\"T_40ebf_level1_col4\" class=\"col_heading level1 col4\" >location</th>\n      <th id=\"T_40ebf_level1_col5\" class=\"col_heading level1 col5\" >spectrum</th>\n      <th id=\"T_40ebf_level1_col6\" class=\"col_heading level1 col6\" >time</th>\n    </tr>\n    <tr>\n      <th class=\"index_name level0\" >id</th>\n      <th class=\"blank col0\" >&nbsp;</th>\n      <th class=\"blank col1\" >&nbsp;</th>\n      <th class=\"blank col2\" >&nbsp;</th>\n      <th class=\"blank col3\" >&nbsp;</th>\n      <th class=\"blank col4\" >&nbsp;</th>\n      <th class=\"blank col5\" >&nbsp;</th>\n      <th class=\"blank col6\" >&nbsp;</th>\n    </tr>\n  </thead>\n  <tbody>\n    <tr>\n      <th id=\"T_40ebf_level0_row0\" class=\"row_heading level0 row0\" >6091</th>\n      <td id=\"T_40ebf_row0_col0\" class=\"data row0 col0\" >480</td>\n      <td id=\"T_40ebf_row0_col1\" class=\"data row0 col1\" >640</td>\n      <td id=\"T_40ebf_row0_col2\" class=\"data row0 col2\" >image1.jpg</td>\n      <td id=\"T_40ebf_row0_col3\" class=\"data row0 col3\" >.jpg</td>\n      <td id=\"T_40ebf_row0_col4\" class=\"data row0 col4\" >exterior</td>\n      <td id=\"T_40ebf_row0_col5\" class=\"data row0 col5\" >RGB</td>\n      <td id=\"T_40ebf_row0_col6\" class=\"data row0 col6\" >night</td>\n    </tr>\n    <tr>\n      <th id=\"T_40ebf_level0_row1\" class=\"row_heading level0 row1\" >10395</th>\n      <td id=\"T_40ebf_row1_col0\" class=\"data row1 col0\" >500</td>\n      <td id=\"T_40ebf_row1_col1\" class=\"data row1 col1\" >476</td>\n      <td id=\"T_40ebf_row1_col2\" class=\"data row1 col2\" >image2.jpg</td>\n      <td id=\"T_40ebf_row1_col3\" class=\"data row1 col3\" >.jpg</td>\n      <td id=\"T_40ebf_row1_col4\" class=\"data row1 col4\" >exterior</td>\n      <td id=\"T_40ebf_row1_col5\" class=\"data row1 col5\" >RGB</td>\n      <td id=\"T_40ebf_row1_col6\" class=\"data row1 col6\" >night</td>\n    </tr>\n  </tbody>\n</table>\n",
          "text/plain": "<pandas.io.formats.style.Styler at 0x7940f3ac5650>"
         },
         "metadata": {},
         "output_type": "display_data"
        }
       ]
      }
     },
     "8dea788e888340eea086edbf7827bc79": {
      "model_module": "@jupyter-widgets/base",
      "model_module_version": "2.0.0",
      "model_name": "LayoutModel",
      "state": {}
     },
     "8dec6aea8ce74efc96d38909d91abdc8": {
      "model_module": "@jupyter-widgets/output",
      "model_module_version": "1.0.0",
      "model_name": "OutputModel",
      "state": {
       "layout": "IPY_MODEL_9492682e4e3946919cf749f608e1bb3b",
       "outputs": [
        {
         "data": {
          "text/html": "<style type=\"text/css\">\n#T_7dee5 th {\n  border-right: 1px solid #F0F0F0;\n}\n</style>\n<table id=\"T_7dee5\">\n  <thead>\n    <tr>\n      <th class=\"blank level0\" >&nbsp;</th>\n      <th id=\"T_7dee5_level0_col0\" class=\"col_heading level0 col0\" >image_id</th>\n      <th id=\"T_7dee5_level0_col1\" class=\"col_heading level0 col1\" >category_str</th>\n      <th id=\"T_7dee5_level0_col2\" class=\"col_heading level0 col2\" >category_id</th>\n      <th id=\"T_7dee5_level0_col3\" class=\"col_heading level0 col3\" >box_x_min</th>\n      <th id=\"T_7dee5_level0_col4\" class=\"col_heading level0 col4\" >box_y_min</th>\n      <th id=\"T_7dee5_level0_col5\" class=\"col_heading level0 col5\" >box_width</th>\n      <th id=\"T_7dee5_level0_col6\" class=\"col_heading level0 col6\" >box_height</th>\n      <th id=\"T_7dee5_level0_col7\" class=\"col_heading level0 col7\" >area</th>\n      <th id=\"T_7dee5_level0_col8\" class=\"col_heading level0 col8\" colspan=\"2\">attributes</th>\n    </tr>\n    <tr>\n      <th class=\"blank level1\" >&nbsp;</th>\n      <th id=\"T_7dee5_level1_col0\" class=\"col_heading level1 col0\" ></th>\n      <th id=\"T_7dee5_level1_col1\" class=\"col_heading level1 col1\" ></th>\n      <th id=\"T_7dee5_level1_col2\" class=\"col_heading level1 col2\" ></th>\n      <th id=\"T_7dee5_level1_col3\" class=\"col_heading level1 col3\" ></th>\n      <th id=\"T_7dee5_level1_col4\" class=\"col_heading level1 col4\" ></th>\n      <th id=\"T_7dee5_level1_col5\" class=\"col_heading level1 col5\" ></th>\n      <th id=\"T_7dee5_level1_col6\" class=\"col_heading level1 col6\" ></th>\n      <th id=\"T_7dee5_level1_col7\" class=\"col_heading level1 col7\" ></th>\n      <th id=\"T_7dee5_level1_col8\" class=\"col_heading level1 col8\" >colors</th>\n      <th id=\"T_7dee5_level1_col9\" class=\"col_heading level1 col9\" >job</th>\n    </tr>\n    <tr>\n      <th class=\"index_name level0\" >id</th>\n      <th class=\"blank col0\" >&nbsp;</th>\n      <th class=\"blank col1\" >&nbsp;</th>\n      <th class=\"blank col2\" >&nbsp;</th>\n      <th class=\"blank col3\" >&nbsp;</th>\n      <th class=\"blank col4\" >&nbsp;</th>\n      <th class=\"blank col5\" >&nbsp;</th>\n      <th class=\"blank col6\" >&nbsp;</th>\n      <th class=\"blank col7\" >&nbsp;</th>\n      <th class=\"blank col8\" >&nbsp;</th>\n      <th class=\"blank col9\" >&nbsp;</th>\n    </tr>\n  </thead>\n  <tbody>\n    <tr>\n      <th id=\"T_7dee5_level0_row0\" class=\"row_heading level0 row0\" >269791</th>\n      <td id=\"T_7dee5_row0_col0\" class=\"data row0 col0\" >6091</td>\n      <td id=\"T_7dee5_row0_col1\" class=\"data row0 col1\" >stop sign</td>\n      <td id=\"T_7dee5_row0_col2\" class=\"data row0 col2\" >13</td>\n      <td id=\"T_7dee5_row0_col3\" class=\"data row0 col3\" >100.220000</td>\n      <td id=\"T_7dee5_row0_col4\" class=\"data row0 col4\" >117.540000</td>\n      <td id=\"T_7dee5_row0_col5\" class=\"data row0 col5\" >253.430000</td>\n      <td id=\"T_7dee5_row0_col6\" class=\"data row0 col6\" >274.900000</td>\n      <td id=\"T_7dee5_row0_col7\" class=\"data row0 col7\" >46726.430300</td>\n      <td id=\"T_7dee5_row0_col8\" class=\"data row0 col8\" >['red', 'white']</td>\n      <td id=\"T_7dee5_row0_col9\" class=\"data row0 col9\" >['police']</td>\n    </tr>\n    <tr>\n      <th id=\"T_7dee5_level0_row1\" class=\"row_heading level0 row1\" >1161234</th>\n      <td id=\"T_7dee5_row1_col0\" class=\"data row1 col0\" >10395</td>\n      <td id=\"T_7dee5_row1_col1\" class=\"data row1 col1\" >teddy bear</td>\n      <td id=\"T_7dee5_row1_col2\" class=\"data row1 col2\" >88</td>\n      <td id=\"T_7dee5_row1_col3\" class=\"data row1 col3\" >49.190000</td>\n      <td id=\"T_7dee5_row1_col4\" class=\"data row1 col4\" >66.200000</td>\n      <td id=\"T_7dee5_row1_col5\" class=\"data row1 col5\" >378.970000</td>\n      <td id=\"T_7dee5_row1_col6\" class=\"data row1 col6\" >379.680000</td>\n      <td id=\"T_7dee5_row1_col7\" class=\"data row1 col7\" >84587.439100</td>\n      <td id=\"T_7dee5_row1_col8\" class=\"data row1 col8\" >['grey']</td>\n      <td id=\"T_7dee5_row1_col9\" class=\"data row1 col9\" >None</td>\n    </tr>\n  </tbody>\n</table>\n",
          "text/plain": "<pandas.io.formats.style.Styler at 0x7940f3e7d590>"
         },
         "metadata": {},
         "output_type": "display_data"
        }
       ]
      }
     },
     "8e34b7f291bd4d76a9f6e21da9eca863": {
      "model_module": "@jupyter-widgets/base",
      "model_module_version": "2.0.0",
      "model_name": "LayoutModel",
      "state": {}
     },
     "8fd2dc5254fc491bbeed776618fbf44d": {
      "model_module": "@jupyter-widgets/controls",
      "model_module_version": "2.0.0",
      "model_name": "TabModel",
      "state": {
       "children": [
        "IPY_MODEL_e74b5f475bcd4fe988238916f7e8a922",
        "IPY_MODEL_e17b38d62ef14dc9901c19937d973d26",
        "IPY_MODEL_b064360aca3f4085b01ac98b0d72e30d"
       ],
       "layout": "IPY_MODEL_86a2ad8a8d464913bc1c480faa11c050",
       "selected_index": 0,
       "titles": [
        "Images",
        "Annotations",
        "Label Map"
       ]
      }
     },
     "90119ebe56344d329c2cc79577b01e56": {
      "model_module": "@jupyter-widgets/base",
      "model_module_version": "2.0.0",
      "model_name": "LayoutModel",
      "state": {}
     },
     "907e4b3f7f8b42fc9859d4722f9ef85c": {
      "model_module": "@jupyter-widgets/controls",
      "model_module_version": "2.0.0",
      "model_name": "StackModel",
      "state": {
       "children": [
        "IPY_MODEL_c57572e0d3174255bbd88cd5051db3db",
        "IPY_MODEL_055f2fabf98b415ba51d397bfc7d28b6"
       ],
       "layout": "IPY_MODEL_27d01299cf544075a45a465fe6457ef7",
       "selected_index": 1,
       "titles": [
        "",
        ""
       ]
      }
     },
     "90c8111282444105aeb4e9cdbddaa495": {
      "model_module": "@jupyter-widgets/controls",
      "model_module_version": "2.0.0",
      "model_name": "VBoxModel",
      "state": {
       "children": [
        "IPY_MODEL_4434795ffe6e43caa017965c31da4162",
        "IPY_MODEL_b4896aa315594a899e4bf2978e6330d2"
       ],
       "layout": "IPY_MODEL_7b94c9ea32eb4ed09375153eb9a238ad"
      }
     },
     "91058b9922dc4a50a3567d1f64601e6e": {
      "model_module": "@jupyter-widgets/output",
      "model_module_version": "1.0.0",
      "model_name": "OutputModel",
      "state": {
       "layout": "IPY_MODEL_3c7364babf564f4b90e46afa2db9f237",
       "outputs": [
        {
         "data": {
          "application/vnd.jupyter.widget-view+json": {
           "model_id": "18c76c4652d24ae498506da979b2eac1",
           "version_major": 2,
           "version_minor": 0
          },
          "text/plain": "VBox(children=(HBox(children=(Label(value='Column format'), Dropdown(index=1, options=('raw', 'nested'), value…"
         },
         "metadata": {},
         "output_type": "display_data"
        }
       ]
      }
     },
     "928a449ee55844c28d428097ec7b7e37": {
      "model_module": "@jupyter-widgets/controls",
      "model_module_version": "2.0.0",
      "model_name": "LinkModel",
      "state": {
       "source": [
        "IPY_MODEL_98ae043445f74245af887299a198de3a",
        "index"
       ],
       "target": [
        "IPY_MODEL_137273feae674dffb709841507c73a67",
        "selected_index"
       ]
      }
     },
     "946f871f20074c9db7562f3ee71f8945": {
      "model_module": "@jupyter-widgets/base",
      "model_module_version": "2.0.0",
      "model_name": "LayoutModel",
      "state": {}
     },
     "948226bbdc9244fd83fcda5944de9108": {
      "model_module": "@jupyter-widgets/controls",
      "model_module_version": "2.0.0",
      "model_name": "HTMLStyleModel",
      "state": {
       "description_width": "",
       "font_size": null,
       "text_color": null
      }
     },
     "9492682e4e3946919cf749f608e1bb3b": {
      "model_module": "@jupyter-widgets/base",
      "model_module_version": "2.0.0",
      "model_name": "LayoutModel",
      "state": {}
     },
     "94faa84eafe94898a48f21d30294155f": {
      "model_module": "@jupyter-widgets/base",
      "model_module_version": "2.0.0",
      "model_name": "LayoutModel",
      "state": {}
     },
     "956f2e2ecbdd4017aae4495e854af939": {
      "model_module": "@jupyter-widgets/base",
      "model_module_version": "2.0.0",
      "model_name": "LayoutModel",
      "state": {}
     },
     "95a6edfb19db4f0b80535dffd281699d": {
      "model_module": "@jupyter-widgets/base",
      "model_module_version": "2.0.0",
      "model_name": "LayoutModel",
      "state": {}
     },
     "95a7f1ded1ca48999b2ad4848c58f8b2": {
      "model_module": "@jupyter-widgets/controls",
      "model_module_version": "2.0.0",
      "model_name": "VBoxModel",
      "state": {
       "children": [
        "IPY_MODEL_f879cebe86e84f2daf3d5d64a4dd0b86",
        "IPY_MODEL_665c4c436bb342529bf01e32c99b0e55"
       ],
       "layout": "IPY_MODEL_8840d0a90ac3484ab73cdadf004d7a40"
      }
     },
     "95aa70d1930b4cd1af18c1c5468ab764": {
      "model_module": "@jupyter-widgets/base",
      "model_module_version": "2.0.0",
      "model_name": "LayoutModel",
      "state": {}
     },
     "95ba326360aa4572aa343d812f065f11": {
      "model_module": "@jupyter-widgets/base",
      "model_module_version": "2.0.0",
      "model_name": "LayoutModel",
      "state": {}
     },
     "962871a977284adbb2534fe8e27b397c": {
      "model_module": "@jupyter-widgets/base",
      "model_module_version": "2.0.0",
      "model_name": "LayoutModel",
      "state": {}
     },
     "96cc77db99324f5eba57b2faf5044719": {
      "model_module": "@jupyter-widgets/controls",
      "model_module_version": "2.0.0",
      "model_name": "HTMLModel",
      "state": {
       "layout": "IPY_MODEL_563d06068bbd4354bff2da022003b747",
       "style": "IPY_MODEL_5b59d92be4014ee7899b345bec85026b",
       "value": "100%"
      }
     },
     "96e12c005b5d4a919b024bab56d1dba5": {
      "model_module": "@jupyter-widgets/output",
      "model_module_version": "1.0.0",
      "model_name": "OutputModel",
      "state": {
       "layout": "IPY_MODEL_4672297221bf40cbaf8208fa48b11720",
       "outputs": [
        {
         "data": {
          "text/html": "<div>\n<style scoped>\n    .dataframe tbody tr th:only-of-type {\n        vertical-align: middle;\n    }\n\n    .dataframe tbody tr th {\n        vertical-align: top;\n    }\n\n    .dataframe thead th {\n        text-align: right;\n    }\n</style>\n<table border=\"1\" class=\"dataframe\">\n  <thead>\n    <tr style=\"text-align: right;\">\n      <th></th>\n      <th>image_id</th>\n      <th>category_str</th>\n      <th>category_id</th>\n      <th>box_x_min</th>\n      <th>box_y_min</th>\n      <th>box_width</th>\n      <th>box_height</th>\n      <th>area</th>\n      <th>attributes.job</th>\n      <th>attributes.colors</th>\n    </tr>\n    <tr>\n      <th>id</th>\n      <th></th>\n      <th></th>\n      <th></th>\n      <th></th>\n      <th></th>\n      <th></th>\n      <th></th>\n      <th></th>\n      <th></th>\n      <th></th>\n    </tr>\n  </thead>\n  <tbody>\n    <tr>\n      <th>269791</th>\n      <td>6091</td>\n      <td>stop sign</td>\n      <td>13</td>\n      <td>100.22</td>\n      <td>117.54</td>\n      <td>253.43</td>\n      <td>274.9</td>\n      <td>46726.4303</td>\n      <td>[police]</td>\n      <td>[red, white]</td>\n    </tr>\n  </tbody>\n</table>\n</div>",
          "text/plain": "        image_id category_str  category_id  box_x_min  box_y_min  box_width  \\\nid                                                                            \n269791      6091    stop sign           13     100.22     117.54     253.43   \n\n        box_height        area attributes.job attributes.colors  \nid                                                               \n269791       274.9  46726.4303       [police]      [red, white]  "
         },
         "metadata": {},
         "output_type": "display_data"
        }
       ]
      }
     },
     "974236a0120c4565a2b1234b964af840": {
      "model_module": "@jupyter-widgets/controls",
      "model_module_version": "2.0.0",
      "model_name": "DescriptionStyleModel",
      "state": {
       "description_width": ""
      }
     },
     "974f1c4b3d534a929cf930ffa7330433": {
      "model_module": "@jupyter-widgets/base",
      "model_module_version": "2.0.0",
      "model_name": "LayoutModel",
      "state": {}
     },
     "98967b02edcc48dc864a7aef38769f2c": {
      "model_module": "@jupyter-widgets/controls",
      "model_module_version": "2.0.0",
      "model_name": "VBoxModel",
      "state": {
       "children": [
        "IPY_MODEL_a9f4ea8d2a034c3391cfed183aadbe34",
        "IPY_MODEL_e692c9939e9b4f2a9aa7f609a7342a02"
       ],
       "layout": "IPY_MODEL_c312a452a39d41109cb97feb1e702615"
      }
     },
     "98ae043445f74245af887299a198de3a": {
      "model_module": "@jupyter-widgets/controls",
      "model_module_version": "2.0.0",
      "model_name": "DropdownModel",
      "state": {
       "_options_labels": [
        "raw",
        "nested"
       ],
       "index": 1,
       "layout": "IPY_MODEL_b76d0f98a99942ddbd04da646a97dad8",
       "style": "IPY_MODEL_576e534969ee474abbd43a14366cbcac"
      }
     },
     "98ef4e14d0ea460fb3715aede1697c79": {
      "model_module": "@jupyter-widgets/base",
      "model_module_version": "2.0.0",
      "model_name": "LayoutModel",
      "state": {}
     },
     "99226b544c3841ea8ba9e045cad83eac": {
      "model_module": "@jupyter-widgets/output",
      "model_module_version": "1.0.0",
      "model_name": "OutputModel",
      "state": {
       "layout": "IPY_MODEL_30dc7e8e22214a4a813f2d3d86bee95a",
       "outputs": [
        {
         "data": {
          "text/html": "<style type=\"text/css\">\n#T_08082 th {\n  border-right: 1px solid #F0F0F0;\n}\n</style>\n<table id=\"T_08082\">\n  <thead>\n    <tr>\n      <th class=\"blank level0\" >&nbsp;</th>\n      <th id=\"T_08082_level0_col0\" class=\"col_heading level0 col0\" >width</th>\n      <th id=\"T_08082_level0_col1\" class=\"col_heading level0 col1\" >height</th>\n      <th id=\"T_08082_level0_col2\" class=\"col_heading level0 col2\" >relative_path</th>\n      <th id=\"T_08082_level0_col3\" class=\"col_heading level0 col3\" >type</th>\n      <th id=\"T_08082_level0_col4\" class=\"col_heading level0 col4\" colspan=\"3\">tags</th>\n    </tr>\n    <tr>\n      <th class=\"blank level1\" >&nbsp;</th>\n      <th id=\"T_08082_level1_col0\" class=\"col_heading level1 col0\" ></th>\n      <th id=\"T_08082_level1_col1\" class=\"col_heading level1 col1\" ></th>\n      <th id=\"T_08082_level1_col2\" class=\"col_heading level1 col2\" ></th>\n      <th id=\"T_08082_level1_col3\" class=\"col_heading level1 col3\" ></th>\n      <th id=\"T_08082_level1_col4\" class=\"col_heading level1 col4\" >location</th>\n      <th id=\"T_08082_level1_col5\" class=\"col_heading level1 col5\" >spectrum</th>\n      <th id=\"T_08082_level1_col6\" class=\"col_heading level1 col6\" >time</th>\n    </tr>\n    <tr>\n      <th class=\"index_name level0\" >id</th>\n      <th class=\"blank col0\" >&nbsp;</th>\n      <th class=\"blank col1\" >&nbsp;</th>\n      <th class=\"blank col2\" >&nbsp;</th>\n      <th class=\"blank col3\" >&nbsp;</th>\n      <th class=\"blank col4\" >&nbsp;</th>\n      <th class=\"blank col5\" >&nbsp;</th>\n      <th class=\"blank col6\" >&nbsp;</th>\n    </tr>\n  </thead>\n  <tbody>\n    <tr>\n      <th id=\"T_08082_level0_row0\" class=\"row_heading level0 row0\" >6091</th>\n      <td id=\"T_08082_row0_col0\" class=\"data row0 col0\" >480</td>\n      <td id=\"T_08082_row0_col1\" class=\"data row0 col1\" >640</td>\n      <td id=\"T_08082_row0_col2\" class=\"data row0 col2\" >image1.jpg</td>\n      <td id=\"T_08082_row0_col3\" class=\"data row0 col3\" >.jpg</td>\n      <td id=\"T_08082_row0_col4\" class=\"data row0 col4\" >exterior</td>\n      <td id=\"T_08082_row0_col5\" class=\"data row0 col5\" >RGB</td>\n      <td id=\"T_08082_row0_col6\" class=\"data row0 col6\" >night</td>\n    </tr>\n    <tr>\n      <th id=\"T_08082_level0_row1\" class=\"row_heading level0 row1\" >10395</th>\n      <td id=\"T_08082_row1_col0\" class=\"data row1 col0\" >500</td>\n      <td id=\"T_08082_row1_col1\" class=\"data row1 col1\" >476</td>\n      <td id=\"T_08082_row1_col2\" class=\"data row1 col2\" >image2.jpg</td>\n      <td id=\"T_08082_row1_col3\" class=\"data row1 col3\" >.jpg</td>\n      <td id=\"T_08082_row1_col4\" class=\"data row1 col4\" >exterior</td>\n      <td id=\"T_08082_row1_col5\" class=\"data row1 col5\" >RGB</td>\n      <td id=\"T_08082_row1_col6\" class=\"data row1 col6\" >night</td>\n    </tr>\n  </tbody>\n</table>\n",
          "text/plain": "<pandas.io.formats.style.Styler at 0x7940f3b262d0>"
         },
         "metadata": {},
         "output_type": "display_data"
        }
       ]
      }
     },
     "9ccf11c04ffa43e5a8c5689bdb672f41": {
      "model_module": "@jupyter-widgets/base",
      "model_module_version": "2.0.0",
      "model_name": "LayoutModel",
      "state": {}
     },
     "9d1e1606e8cb45138ccf4f21983b060d": {
      "model_module": "@jupyter-widgets/base",
      "model_module_version": "2.0.0",
      "model_name": "LayoutModel",
      "state": {}
     },
     "9d4609281c014251a47809ebaf7409f3": {
      "model_module": "@jupyter-widgets/base",
      "model_module_version": "2.0.0",
      "model_name": "LayoutModel",
      "state": {}
     },
     "9ddebf729dd042899592a38c4b1ac425": {
      "model_module": "@jupyter-widgets/base",
      "model_module_version": "2.0.0",
      "model_name": "LayoutModel",
      "state": {}
     },
     "9e9e7f4d0daf4e4a8b070bfa8b65c82e": {
      "model_module": "@jupyter-widgets/base",
      "model_module_version": "2.0.0",
      "model_name": "LayoutModel",
      "state": {}
     },
     "9f59b236c6ab4a30876508096303a1d5": {
      "model_module": "@jupyter-widgets/controls",
      "model_module_version": "2.0.0",
      "model_name": "LinkModel",
      "state": {
       "source": [
        "IPY_MODEL_8b25e9549910415da84db6b3adddc1e1",
        "index"
       ],
       "target": [
        "IPY_MODEL_8150e92f60b44908ab386b6fb7d2a512",
        "selected_index"
       ]
      }
     },
     "a0355fa8585b4f0190cac4831149d981": {
      "model_module": "@jupyter-widgets/controls",
      "model_module_version": "2.0.0",
      "model_name": "HTMLStyleModel",
      "state": {
       "description_width": "",
       "font_size": null,
       "text_color": null
      }
     },
     "a1f1b8783fdf4a379068cf4a570ca4cd": {
      "model_module": "@jupyter-widgets/output",
      "model_module_version": "1.0.0",
      "model_name": "OutputModel",
      "state": {
       "layout": "IPY_MODEL_d3c40da0b4014fe99f266a6ced07e74e",
       "outputs": [
        {
         "data": {
          "text/html": "<style type=\"text/css\">\n#T_f7e56 th {\n  border-right: 1px solid #F0F0F0;\n}\n</style>\n<table id=\"T_f7e56\">\n  <thead>\n    <tr>\n      <th class=\"blank level0\" >&nbsp;</th>\n      <th id=\"T_f7e56_level0_col0\" class=\"col_heading level0 col0\" >width</th>\n      <th id=\"T_f7e56_level0_col1\" class=\"col_heading level0 col1\" >height</th>\n      <th id=\"T_f7e56_level0_col2\" class=\"col_heading level0 col2\" >relative_path</th>\n      <th id=\"T_f7e56_level0_col3\" class=\"col_heading level0 col3\" >type</th>\n      <th id=\"T_f7e56_level0_col4\" class=\"col_heading level0 col4\" colspan=\"3\">tags</th>\n    </tr>\n    <tr>\n      <th class=\"blank level1\" >&nbsp;</th>\n      <th id=\"T_f7e56_level1_col0\" class=\"col_heading level1 col0\" ></th>\n      <th id=\"T_f7e56_level1_col1\" class=\"col_heading level1 col1\" ></th>\n      <th id=\"T_f7e56_level1_col2\" class=\"col_heading level1 col2\" ></th>\n      <th id=\"T_f7e56_level1_col3\" class=\"col_heading level1 col3\" ></th>\n      <th id=\"T_f7e56_level1_col4\" class=\"col_heading level1 col4\" >location</th>\n      <th id=\"T_f7e56_level1_col5\" class=\"col_heading level1 col5\" >spectrum</th>\n      <th id=\"T_f7e56_level1_col6\" class=\"col_heading level1 col6\" >time</th>\n    </tr>\n    <tr>\n      <th class=\"index_name level0\" >id</th>\n      <th class=\"blank col0\" >&nbsp;</th>\n      <th class=\"blank col1\" >&nbsp;</th>\n      <th class=\"blank col2\" >&nbsp;</th>\n      <th class=\"blank col3\" >&nbsp;</th>\n      <th class=\"blank col4\" >&nbsp;</th>\n      <th class=\"blank col5\" >&nbsp;</th>\n      <th class=\"blank col6\" >&nbsp;</th>\n    </tr>\n  </thead>\n  <tbody>\n    <tr>\n      <th id=\"T_f7e56_level0_row0\" class=\"row_heading level0 row0\" >6091</th>\n      <td id=\"T_f7e56_row0_col0\" class=\"data row0 col0\" >480</td>\n      <td id=\"T_f7e56_row0_col1\" class=\"data row0 col1\" >640</td>\n      <td id=\"T_f7e56_row0_col2\" class=\"data row0 col2\" >image1.jpg</td>\n      <td id=\"T_f7e56_row0_col3\" class=\"data row0 col3\" >.jpg</td>\n      <td id=\"T_f7e56_row0_col4\" class=\"data row0 col4\" >exterior</td>\n      <td id=\"T_f7e56_row0_col5\" class=\"data row0 col5\" >RGB</td>\n      <td id=\"T_f7e56_row0_col6\" class=\"data row0 col6\" >night</td>\n    </tr>\n    <tr>\n      <th id=\"T_f7e56_level0_row1\" class=\"row_heading level0 row1\" >10395</th>\n      <td id=\"T_f7e56_row1_col0\" class=\"data row1 col0\" >500</td>\n      <td id=\"T_f7e56_row1_col1\" class=\"data row1 col1\" >476</td>\n      <td id=\"T_f7e56_row1_col2\" class=\"data row1 col2\" >image2.jpg</td>\n      <td id=\"T_f7e56_row1_col3\" class=\"data row1 col3\" >.jpg</td>\n      <td id=\"T_f7e56_row1_col4\" class=\"data row1 col4\" >exterior</td>\n      <td id=\"T_f7e56_row1_col5\" class=\"data row1 col5\" >RGB</td>\n      <td id=\"T_f7e56_row1_col6\" class=\"data row1 col6\" >night</td>\n    </tr>\n  </tbody>\n</table>\n",
          "text/plain": "<pandas.io.formats.style.Styler at 0x7940f3b4a710>"
         },
         "metadata": {},
         "output_type": "display_data"
        }
       ]
      }
     },
     "a216e667ebf642459c813f16df72d61c": {
      "model_module": "@jupyter-widgets/base",
      "model_module_version": "2.0.0",
      "model_name": "LayoutModel",
      "state": {}
     },
     "a257dc35d3e24b49a3e3ac1059bf11f9": {
      "model_module": "@jupyter-widgets/base",
      "model_module_version": "2.0.0",
      "model_name": "LayoutModel",
      "state": {}
     },
     "a2a83e9e6bbc40528e03b2dd1af0dbad": {
      "model_module": "@jupyter-widgets/controls",
      "model_module_version": "2.0.0",
      "model_name": "DescriptionStyleModel",
      "state": {
       "description_width": ""
      }
     },
     "a33b60b688f444c88cbb989f8c7e19a8": {
      "model_module": "@jupyter-widgets/base",
      "model_module_version": "2.0.0",
      "model_name": "LayoutModel",
      "state": {}
     },
     "a38ab35a1a134be99991ed2be5704ed8": {
      "model_module": "@jupyter-widgets/controls",
      "model_module_version": "2.0.0",
      "model_name": "LinkModel",
      "state": {
       "source": [
        "IPY_MODEL_a45127fe65504e4c9e753bca3c2d483b",
        "index"
       ],
       "target": [
        "IPY_MODEL_c50789bee7754ba2bab3591d4f9b4b8c",
        "selected_index"
       ]
      }
     },
     "a39ce88aa0d5426192ff29aad4eac249": {
      "model_module": "@jupyter-widgets/output",
      "model_module_version": "1.0.0",
      "model_name": "OutputModel",
      "state": {
       "layout": "IPY_MODEL_c79ba4614aa6499b84b17119d9213833",
       "outputs": [
        {
         "data": {
          "text/html": "<div>\n<style scoped>\n    .dataframe tbody tr th:only-of-type {\n        vertical-align: middle;\n    }\n\n    .dataframe tbody tr th {\n        vertical-align: top;\n    }\n\n    .dataframe thead th {\n        text-align: right;\n    }\n</style>\n<table border=\"1\" class=\"dataframe\">\n  <thead>\n    <tr style=\"text-align: right;\">\n      <th></th>\n      <th>image_id</th>\n      <th>category_str</th>\n      <th>category_id</th>\n      <th>box_x_min</th>\n      <th>box_y_min</th>\n      <th>box_width</th>\n      <th>box_height</th>\n      <th>area</th>\n      <th>attributes.colors</th>\n      <th>attributes.job</th>\n    </tr>\n    <tr>\n      <th>id</th>\n      <th></th>\n      <th></th>\n      <th></th>\n      <th></th>\n      <th></th>\n      <th></th>\n      <th></th>\n      <th></th>\n      <th></th>\n      <th></th>\n    </tr>\n  </thead>\n  <tbody>\n    <tr>\n      <th>269791</th>\n      <td>6091</td>\n      <td>stop sign</td>\n      <td>13</td>\n      <td>100.22</td>\n      <td>117.54</td>\n      <td>253.43</td>\n      <td>274.9</td>\n      <td>46726.4303</td>\n      <td>[red, white]</td>\n      <td>[police]</td>\n    </tr>\n  </tbody>\n</table>\n</div>",
          "text/plain": "        image_id category_str  category_id  box_x_min  box_y_min  box_width  \\\nid                                                                            \n269791      6091    stop sign           13     100.22     117.54     253.43   \n\n        box_height        area attributes.colors attributes.job  \nid                                                               \n269791       274.9  46726.4303      [red, white]       [police]  "
         },
         "metadata": {},
         "output_type": "display_data"
        }
       ]
      }
     },
     "a43b4e0d825f416a925bcb62337151b0": {
      "model_module": "@jupyter-widgets/controls",
      "model_module_version": "2.0.0",
      "model_name": "HBoxModel",
      "state": {
       "children": [
        "IPY_MODEL_e96122e705064c6aa1919cab33baf4a9",
        "IPY_MODEL_a45127fe65504e4c9e753bca3c2d483b"
       ],
       "layout": "IPY_MODEL_946f871f20074c9db7562f3ee71f8945"
      }
     },
     "a43f259afc82449787a805f7b1dc03c0": {
      "model_module": "@jupyter-widgets/controls",
      "model_module_version": "2.0.0",
      "model_name": "LinkModel",
      "state": {
       "source": [
        "IPY_MODEL_1d8ca6079e344e32887539802f824163",
        "index"
       ],
       "target": [
        "IPY_MODEL_ab28170db9de44c39e8c590191d2286a",
        "selected_index"
       ]
      }
     },
     "a45127fe65504e4c9e753bca3c2d483b": {
      "model_module": "@jupyter-widgets/controls",
      "model_module_version": "2.0.0",
      "model_name": "DropdownModel",
      "state": {
       "_options_labels": [
        "raw",
        "nested"
       ],
       "index": 1,
       "layout": "IPY_MODEL_9e9e7f4d0daf4e4a8b070bfa8b65c82e",
       "style": "IPY_MODEL_82e957b0c4e14a9c8b54d941130028ba"
      }
     },
     "a4e14b540f9947a79adacade090cb97c": {
      "model_module": "@jupyter-widgets/output",
      "model_module_version": "1.0.0",
      "model_name": "OutputModel",
      "state": {
       "layout": "IPY_MODEL_3da4dc6d1f4b467b9c44bfed80270eae",
       "outputs": [
        {
         "data": {
          "text/html": "<style type=\"text/css\">\n#T_7b578 th {\n  border-right: 1px solid #F0F0F0;\n}\n</style>\n<table id=\"T_7b578\">\n  <thead>\n    <tr>\n      <th class=\"blank level0\" >&nbsp;</th>\n      <th id=\"T_7b578_level0_col0\" class=\"col_heading level0 col0\" >image_id</th>\n      <th id=\"T_7b578_level0_col1\" class=\"col_heading level0 col1\" >category_str</th>\n      <th id=\"T_7b578_level0_col2\" class=\"col_heading level0 col2\" >category_id</th>\n      <th id=\"T_7b578_level0_col3\" class=\"col_heading level0 col3\" >box_x_min</th>\n      <th id=\"T_7b578_level0_col4\" class=\"col_heading level0 col4\" >box_y_min</th>\n      <th id=\"T_7b578_level0_col5\" class=\"col_heading level0 col5\" >box_width</th>\n      <th id=\"T_7b578_level0_col6\" class=\"col_heading level0 col6\" >box_height</th>\n      <th id=\"T_7b578_level0_col7\" class=\"col_heading level0 col7\" >area</th>\n      <th id=\"T_7b578_level0_col8\" class=\"col_heading level0 col8\" colspan=\"2\">attributes</th>\n    </tr>\n    <tr>\n      <th class=\"blank level1\" >&nbsp;</th>\n      <th id=\"T_7b578_level1_col0\" class=\"col_heading level1 col0\" ></th>\n      <th id=\"T_7b578_level1_col1\" class=\"col_heading level1 col1\" ></th>\n      <th id=\"T_7b578_level1_col2\" class=\"col_heading level1 col2\" ></th>\n      <th id=\"T_7b578_level1_col3\" class=\"col_heading level1 col3\" ></th>\n      <th id=\"T_7b578_level1_col4\" class=\"col_heading level1 col4\" ></th>\n      <th id=\"T_7b578_level1_col5\" class=\"col_heading level1 col5\" ></th>\n      <th id=\"T_7b578_level1_col6\" class=\"col_heading level1 col6\" ></th>\n      <th id=\"T_7b578_level1_col7\" class=\"col_heading level1 col7\" ></th>\n      <th id=\"T_7b578_level1_col8\" class=\"col_heading level1 col8\" >colors</th>\n      <th id=\"T_7b578_level1_col9\" class=\"col_heading level1 col9\" >job</th>\n    </tr>\n    <tr>\n      <th class=\"index_name level0\" >id</th>\n      <th class=\"blank col0\" >&nbsp;</th>\n      <th class=\"blank col1\" >&nbsp;</th>\n      <th class=\"blank col2\" >&nbsp;</th>\n      <th class=\"blank col3\" >&nbsp;</th>\n      <th class=\"blank col4\" >&nbsp;</th>\n      <th class=\"blank col5\" >&nbsp;</th>\n      <th class=\"blank col6\" >&nbsp;</th>\n      <th class=\"blank col7\" >&nbsp;</th>\n      <th class=\"blank col8\" >&nbsp;</th>\n      <th class=\"blank col9\" >&nbsp;</th>\n    </tr>\n  </thead>\n  <tbody>\n    <tr>\n      <th id=\"T_7b578_level0_row0\" class=\"row_heading level0 row0\" >269791</th>\n      <td id=\"T_7b578_row0_col0\" class=\"data row0 col0\" >6091</td>\n      <td id=\"T_7b578_row0_col1\" class=\"data row0 col1\" >stop sign</td>\n      <td id=\"T_7b578_row0_col2\" class=\"data row0 col2\" >13</td>\n      <td id=\"T_7b578_row0_col3\" class=\"data row0 col3\" >100.220000</td>\n      <td id=\"T_7b578_row0_col4\" class=\"data row0 col4\" >117.540000</td>\n      <td id=\"T_7b578_row0_col5\" class=\"data row0 col5\" >253.430000</td>\n      <td id=\"T_7b578_row0_col6\" class=\"data row0 col6\" >274.900000</td>\n      <td id=\"T_7b578_row0_col7\" class=\"data row0 col7\" >46726.430300</td>\n      <td id=\"T_7b578_row0_col8\" class=\"data row0 col8\" >['red', 'white']</td>\n      <td id=\"T_7b578_row0_col9\" class=\"data row0 col9\" >['police']</td>\n    </tr>\n    <tr>\n      <th id=\"T_7b578_level0_row1\" class=\"row_heading level0 row1\" >1161234</th>\n      <td id=\"T_7b578_row1_col0\" class=\"data row1 col0\" >10395</td>\n      <td id=\"T_7b578_row1_col1\" class=\"data row1 col1\" >teddy bear</td>\n      <td id=\"T_7b578_row1_col2\" class=\"data row1 col2\" >88</td>\n      <td id=\"T_7b578_row1_col3\" class=\"data row1 col3\" >49.190000</td>\n      <td id=\"T_7b578_row1_col4\" class=\"data row1 col4\" >66.200000</td>\n      <td id=\"T_7b578_row1_col5\" class=\"data row1 col5\" >378.970000</td>\n      <td id=\"T_7b578_row1_col6\" class=\"data row1 col6\" >379.680000</td>\n      <td id=\"T_7b578_row1_col7\" class=\"data row1 col7\" >84587.439100</td>\n      <td id=\"T_7b578_row1_col8\" class=\"data row1 col8\" >['grey']</td>\n      <td id=\"T_7b578_row1_col9\" class=\"data row1 col9\" >None</td>\n    </tr>\n  </tbody>\n</table>\n",
          "text/plain": "<pandas.io.formats.style.Styler at 0x7940f3973850>"
         },
         "metadata": {},
         "output_type": "display_data"
        }
       ]
      }
     },
     "a57cc8f2031b4ff7ac5264dae4185143": {
      "model_module": "@jupyter-widgets/base",
      "model_module_version": "2.0.0",
      "model_name": "LayoutModel",
      "state": {}
     },
     "a692ca9af21e43fd9d90cacc8f078982": {
      "model_module": "@jupyter-widgets/output",
      "model_module_version": "1.0.0",
      "model_name": "OutputModel",
      "state": {
       "layout": "IPY_MODEL_6d7e2210e3914d59b21b33fac96cdc25",
       "outputs": [
        {
         "data": {
          "text/html": "<div>\n<style scoped>\n    .dataframe tbody tr th:only-of-type {\n        vertical-align: middle;\n    }\n\n    .dataframe tbody tr th {\n        vertical-align: top;\n    }\n\n    .dataframe thead th {\n        text-align: right;\n    }\n</style>\n<table border=\"1\" class=\"dataframe\">\n  <thead>\n    <tr style=\"text-align: right;\">\n      <th></th>\n      <th>width</th>\n      <th>height</th>\n      <th>relative_path</th>\n      <th>type</th>\n      <th>tags.location</th>\n      <th>tags.spectrum</th>\n      <th>tags.time</th>\n    </tr>\n    <tr>\n      <th>id</th>\n      <th></th>\n      <th></th>\n      <th></th>\n      <th></th>\n      <th></th>\n      <th></th>\n      <th></th>\n    </tr>\n  </thead>\n  <tbody>\n    <tr>\n      <th>6091</th>\n      <td>480</td>\n      <td>640</td>\n      <td>image1.jpg</td>\n      <td>.jpg</td>\n      <td>exterior</td>\n      <td>RGB</td>\n      <td>night</td>\n    </tr>\n    <tr>\n      <th>10395</th>\n      <td>500</td>\n      <td>476</td>\n      <td>image2.jpg</td>\n      <td>.jpg</td>\n      <td>exterior</td>\n      <td>RGB</td>\n      <td>night</td>\n    </tr>\n  </tbody>\n</table>\n</div>",
          "text/plain": "       width  height relative_path  type tags.location tags.spectrum tags.time\nid                                                                            \n6091     480     640    image1.jpg  .jpg      exterior           RGB     night\n10395    500     476    image2.jpg  .jpg      exterior           RGB     night"
         },
         "metadata": {},
         "output_type": "display_data"
        }
       ]
      }
     },
     "a8c9d7a83c8f4554b40d37fe4f6a3d6d": {
      "model_module": "@jupyter-widgets/controls",
      "model_module_version": "2.0.0",
      "model_name": "TabModel",
      "state": {
       "children": [
        "IPY_MODEL_faabe27cd21d4c0a866ec9822a7a8fdd",
        "IPY_MODEL_63e357efab664a24ac49e586820a05d8",
        "IPY_MODEL_dc3c25da603f47709e51368b2bc85cb2"
       ],
       "layout": "IPY_MODEL_1ece89c4bc6b40418fbc6b13aee1a5d6",
       "selected_index": 0,
       "titles": [
        "Images",
        "Annotations",
        "Label Map"
       ]
      }
     },
     "a965e68eaf084b5ca4eb5a94a09ebab3": {
      "model_module": "@jupyter-widgets/base",
      "model_module_version": "2.0.0",
      "model_name": "LayoutModel",
      "state": {}
     },
     "a9770d7b192a402fada577ea268aed62": {
      "model_module": "@jupyter-widgets/controls",
      "model_module_version": "2.0.0",
      "model_name": "HBoxModel",
      "state": {
       "children": [
        "IPY_MODEL_cc0668f5b663474d813ad1e6694edf83",
        "IPY_MODEL_0a5ad3a8c572402eb1b02cf86c507e1c"
       ],
       "layout": "IPY_MODEL_8d23a83cc5384540bd03c93853b9fcd6"
      }
     },
     "a98372d7ed044f46a9037b2a027cbae9": {
      "model_module": "@jupyter-widgets/base",
      "model_module_version": "2.0.0",
      "model_name": "LayoutModel",
      "state": {}
     },
     "a988c5d09e0e4d4d835b786c832f3b5b": {
      "model_module": "@jupyter-widgets/base",
      "model_module_version": "2.0.0",
      "model_name": "LayoutModel",
      "state": {}
     },
     "a99f9d0f9cb941c5858a90fe42fed680": {
      "model_module": "@jupyter-widgets/controls",
      "model_module_version": "2.0.0",
      "model_name": "VBoxModel",
      "state": {
       "children": [
        "IPY_MODEL_1681e663fd65493cbdea9161be82ba07",
        "IPY_MODEL_907e4b3f7f8b42fc9859d4722f9ef85c"
       ],
       "layout": "IPY_MODEL_da09794fd07048169d25772ee7845a11"
      }
     },
     "a9a823c3fe514f1fbbf13474a6cbd3a2": {
      "model_module": "@jupyter-widgets/base",
      "model_module_version": "2.0.0",
      "model_name": "LayoutModel",
      "state": {}
     },
     "a9eb32b5a389487e93301ac1f45eb4df": {
      "model_module": "@jupyter-widgets/controls",
      "model_module_version": "2.0.0",
      "model_name": "HBoxModel",
      "state": {
       "children": [
        "IPY_MODEL_03e7dbcfbb694ef4be8d08e041cbe1bf",
        "IPY_MODEL_b483e713571d495492efb42b40a3e600"
       ],
       "layout": "IPY_MODEL_a988c5d09e0e4d4d835b786c832f3b5b"
      }
     },
     "a9f4ea8d2a034c3391cfed183aadbe34": {
      "model_module": "@jupyter-widgets/controls",
      "model_module_version": "2.0.0",
      "model_name": "HBoxModel",
      "state": {
       "children": [
        "IPY_MODEL_8a4ab33373f14f73be285069cf47140f",
        "IPY_MODEL_95a7f1ded1ca48999b2ad4848c58f8b2"
       ],
       "layout": "IPY_MODEL_dfc5f536a6e549ab98d850690c994495"
      }
     },
     "aa0fa18c5b024eb3b2e57136256aaecb": {
      "model_module": "@jupyter-widgets/base",
      "model_module_version": "2.0.0",
      "model_name": "LayoutModel",
      "state": {}
     },
     "aac207e0866148cd9ea18309fb7b3dab": {
      "model_module": "@jupyter-widgets/base",
      "model_module_version": "2.0.0",
      "model_name": "LayoutModel",
      "state": {}
     },
     "ab28170db9de44c39e8c590191d2286a": {
      "model_module": "@jupyter-widgets/controls",
      "model_module_version": "2.0.0",
      "model_name": "StackModel",
      "state": {
       "children": [
        "IPY_MODEL_5f6707f488274bcb9686c19b3f6ac783",
        "IPY_MODEL_bc1895914a9f42688c7add779bae6b53"
       ],
       "layout": "IPY_MODEL_3bf5e0470a6e450cb86a49b49c48e5ea",
       "selected_index": 0,
       "titles": [
        "",
        ""
       ]
      }
     },
     "ac388d0a744d457badd2f20afd48009e": {
      "model_module": "@jupyter-widgets/base",
      "model_module_version": "2.0.0",
      "model_name": "LayoutModel",
      "state": {}
     },
     "ac616466b17a48f1be2dab241d09aaaa": {
      "model_module": "@jupyter-widgets/base",
      "model_module_version": "2.0.0",
      "model_name": "LayoutModel",
      "state": {}
     },
     "acac39f6b0d14adba2cfa0d1a956958d": {
      "model_module": "@jupyter-widgets/base",
      "model_module_version": "2.0.0",
      "model_name": "LayoutModel",
      "state": {}
     },
     "acb8c210988c47c1aba9373391b76358": {
      "model_module": "@jupyter-widgets/controls",
      "model_module_version": "2.0.0",
      "model_name": "VBoxModel",
      "state": {
       "children": [
        "IPY_MODEL_887130e2a4a84c33849784401bfedba6",
        "IPY_MODEL_ceb29c60259946778e7b1c5c11f394c4"
       ],
       "layout": "IPY_MODEL_89411a5fe0b24f80985bfe7654079eab"
      }
     },
     "ace75e5bfc284bd2bd9ecb8f5636bb48": {
      "model_module": "@jupyter-widgets/output",
      "model_module_version": "1.0.0",
      "model_name": "OutputModel",
      "state": {
       "layout": "IPY_MODEL_45d1800f668e4ed9a3609d3e2dfe267b",
       "outputs": [
        {
         "data": {
          "text/html": "<div>\n<style scoped>\n    .dataframe tbody tr th:only-of-type {\n        vertical-align: middle;\n    }\n\n    .dataframe tbody tr th {\n        vertical-align: top;\n    }\n\n    .dataframe thead th {\n        text-align: right;\n    }\n</style>\n<table border=\"1\" class=\"dataframe\">\n  <thead>\n    <tr style=\"text-align: right;\">\n      <th></th>\n      <th>width</th>\n      <th>height</th>\n      <th>relative_path</th>\n      <th>type</th>\n      <th>tags.location</th>\n      <th>tags.spectrum</th>\n      <th>tags.time</th>\n    </tr>\n    <tr>\n      <th>id</th>\n      <th></th>\n      <th></th>\n      <th></th>\n      <th></th>\n      <th></th>\n      <th></th>\n      <th></th>\n    </tr>\n  </thead>\n  <tbody>\n    <tr>\n      <th>6091</th>\n      <td>480</td>\n      <td>640</td>\n      <td>image1.jpg</td>\n      <td>.jpg</td>\n      <td>exterior</td>\n      <td>RGB</td>\n      <td>night</td>\n    </tr>\n    <tr>\n      <th>10395</th>\n      <td>500</td>\n      <td>476</td>\n      <td>image2.jpg</td>\n      <td>.jpg</td>\n      <td>exterior</td>\n      <td>RGB</td>\n      <td>night</td>\n    </tr>\n  </tbody>\n</table>\n</div>",
          "text/plain": "       width  height relative_path  type tags.location tags.spectrum tags.time\nid                                                                            \n6091     480     640    image1.jpg  .jpg      exterior           RGB     night\n10395    500     476    image2.jpg  .jpg      exterior           RGB     night"
         },
         "metadata": {},
         "output_type": "display_data"
        }
       ]
      }
     },
     "adbad114681d42228beeed82ea4b92dc": {
      "model_module": "@jupyter-widgets/controls",
      "model_module_version": "2.0.0",
      "model_name": "LabelStyleModel",
      "state": {
       "description_width": "",
       "font_family": null,
       "font_size": null,
       "font_style": null,
       "font_variant": null,
       "font_weight": null,
       "text_color": null,
       "text_decoration": null
      }
     },
     "ae242a0a739048a784ba17b197941a5d": {
      "model_module": "@jupyter-widgets/controls",
      "model_module_version": "2.0.0",
      "model_name": "TabModel",
      "state": {
       "children": [
        "IPY_MODEL_da657e4bc0bc496785a61846aa0763a2",
        "IPY_MODEL_2953790d879f4626a671bade59126c36",
        "IPY_MODEL_b45555a167334329aa739645e0dcf2bb"
       ],
       "layout": "IPY_MODEL_956f2e2ecbdd4017aae4495e854af939",
       "selected_index": 0,
       "titles": [
        "Images",
        "Annotations",
        "Label Map"
       ]
      }
     },
     "af3bea0edf7e499e85d2c968dc20adba": {
      "model_module": "@jupyter-widgets/base",
      "model_module_version": "2.0.0",
      "model_name": "LayoutModel",
      "state": {}
     },
     "af5c6e1f126d4d81a620bbb605c0f7ee": {
      "model_module": "@jupyter-widgets/controls",
      "model_module_version": "2.0.0",
      "model_name": "ToggleButtonsModel",
      "state": {
       "_options_labels": [
        "yes ",
        "no "
       ],
       "button_style": "",
       "icons": [
        "check",
        "times"
       ],
       "index": 1,
       "layout": "IPY_MODEL_fa520fd1853643879ef77189a2b5ed2e",
       "style": "IPY_MODEL_cc4b7f0300ab4764a9f4e9656e82f208",
       "tooltips": []
      }
     },
     "af7d3642feb1415a950f9403536031fb": {
      "model_module": "@jupyter-widgets/output",
      "model_module_version": "1.0.0",
      "model_name": "OutputModel",
      "state": {
       "layout": "IPY_MODEL_6b1bee49d1234b63922fad37788da759",
       "outputs": [
        {
         "data": {
          "text/html": "<div>\n<style scoped>\n    .dataframe tbody tr th:only-of-type {\n        vertical-align: middle;\n    }\n\n    .dataframe tbody tr th {\n        vertical-align: top;\n    }\n\n    .dataframe thead th {\n        text-align: right;\n    }\n</style>\n<table border=\"1\" class=\"dataframe\">\n  <thead>\n    <tr style=\"text-align: right;\">\n      <th></th>\n      <th>image_id</th>\n      <th>category_str</th>\n      <th>category_id</th>\n      <th>box_x_min</th>\n      <th>box_y_min</th>\n      <th>box_width</th>\n      <th>box_height</th>\n      <th>area</th>\n      <th>attributes.job</th>\n      <th>attributes.colors</th>\n    </tr>\n    <tr>\n      <th>id</th>\n      <th></th>\n      <th></th>\n      <th></th>\n      <th></th>\n      <th></th>\n      <th></th>\n      <th></th>\n      <th></th>\n      <th></th>\n      <th></th>\n    </tr>\n  </thead>\n  <tbody>\n    <tr>\n      <th>269791</th>\n      <td>6091</td>\n      <td>stop sign</td>\n      <td>13</td>\n      <td>100.22</td>\n      <td>117.54</td>\n      <td>253.43</td>\n      <td>274.90</td>\n      <td>46726.4303</td>\n      <td>[police]</td>\n      <td>[red, white]</td>\n    </tr>\n    <tr>\n      <th>1161234</th>\n      <td>10395</td>\n      <td>teddy bear</td>\n      <td>88</td>\n      <td>49.19</td>\n      <td>66.20</td>\n      <td>378.97</td>\n      <td>379.68</td>\n      <td>84587.4391</td>\n      <td>None</td>\n      <td>[grey]</td>\n    </tr>\n  </tbody>\n</table>\n</div>",
          "text/plain": "         image_id category_str  category_id  box_x_min  box_y_min  box_width  \\\nid                                                                             \n269791       6091    stop sign           13     100.22     117.54     253.43   \n1161234     10395   teddy bear           88      49.19      66.20     378.97   \n\n         box_height        area attributes.job attributes.colors  \nid                                                                \n269791       274.90  46726.4303       [police]      [red, white]  \n1161234      379.68  84587.4391           None            [grey]  "
         },
         "metadata": {},
         "output_type": "display_data"
        }
       ]
      }
     },
     "affeae28662b40fda2b69bf8291780cf": {
      "model_module": "@jupyter-widgets/base",
      "model_module_version": "2.0.0",
      "model_name": "LayoutModel",
      "state": {}
     },
     "b064360aca3f4085b01ac98b0d72e30d": {
      "model_module": "@jupyter-widgets/output",
      "model_module_version": "1.0.0",
      "model_name": "OutputModel",
      "state": {
       "layout": "IPY_MODEL_322827bb404043108aaeff537e91df81",
       "outputs": [
        {
         "data": {
          "text/html": "<div>\n<style scoped>\n    .dataframe tbody tr th:only-of-type {\n        vertical-align: middle;\n    }\n\n    .dataframe tbody tr th {\n        vertical-align: top;\n    }\n\n    .dataframe thead th {\n        text-align: right;\n    }\n</style>\n<table border=\"1\" class=\"dataframe\">\n  <thead>\n    <tr style=\"text-align: right;\">\n      <th></th>\n      <th>category string</th>\n    </tr>\n    <tr>\n      <th>category_id</th>\n      <th></th>\n    </tr>\n  </thead>\n  <tbody>\n    <tr>\n      <th>13</th>\n      <td>stop sign</td>\n    </tr>\n    <tr>\n      <th>88</th>\n      <td>teddy bear</td>\n    </tr>\n  </tbody>\n</table>\n</div>",
          "text/plain": "            category string\ncategory_id                \n13                stop sign\n88               teddy bear"
         },
         "metadata": {},
         "output_type": "display_data"
        }
       ]
      }
     },
     "b0b28fe5a2e24eafbf6c8d76144557bf": {
      "model_module": "@jupyter-widgets/base",
      "model_module_version": "2.0.0",
      "model_name": "LayoutModel",
      "state": {}
     },
     "b176a70599544113b1fccd2411bb5643": {
      "model_module": "@jupyter-widgets/base",
      "model_module_version": "2.0.0",
      "model_name": "LayoutModel",
      "state": {}
     },
     "b18f09bd82cd4dfba29320e4cf85e72e": {
      "model_module": "@jupyter-widgets/output",
      "model_module_version": "1.0.0",
      "model_name": "OutputModel",
      "state": {
       "layout": "IPY_MODEL_95ba326360aa4572aa343d812f065f11",
       "outputs": [
        {
         "data": {
          "text/html": "<style type=\"text/css\">\n#T_8337e th {\n  border-right: 1px solid #F0F0F0;\n}\n</style>\n<table id=\"T_8337e\">\n  <thead>\n    <tr>\n      <th class=\"blank level0\" >&nbsp;</th>\n      <th id=\"T_8337e_level0_col0\" class=\"col_heading level0 col0\" >image_id</th>\n      <th id=\"T_8337e_level0_col1\" class=\"col_heading level0 col1\" >category_str</th>\n      <th id=\"T_8337e_level0_col2\" class=\"col_heading level0 col2\" >category_id</th>\n      <th id=\"T_8337e_level0_col3\" class=\"col_heading level0 col3\" >box_x_min</th>\n      <th id=\"T_8337e_level0_col4\" class=\"col_heading level0 col4\" >box_y_min</th>\n      <th id=\"T_8337e_level0_col5\" class=\"col_heading level0 col5\" >box_width</th>\n      <th id=\"T_8337e_level0_col6\" class=\"col_heading level0 col6\" >box_height</th>\n      <th id=\"T_8337e_level0_col7\" class=\"col_heading level0 col7\" >area</th>\n      <th id=\"T_8337e_level0_col8\" class=\"col_heading level0 col8\" colspan=\"2\">attributes</th>\n    </tr>\n    <tr>\n      <th class=\"blank level1\" >&nbsp;</th>\n      <th id=\"T_8337e_level1_col0\" class=\"col_heading level1 col0\" ></th>\n      <th id=\"T_8337e_level1_col1\" class=\"col_heading level1 col1\" ></th>\n      <th id=\"T_8337e_level1_col2\" class=\"col_heading level1 col2\" ></th>\n      <th id=\"T_8337e_level1_col3\" class=\"col_heading level1 col3\" ></th>\n      <th id=\"T_8337e_level1_col4\" class=\"col_heading level1 col4\" ></th>\n      <th id=\"T_8337e_level1_col5\" class=\"col_heading level1 col5\" ></th>\n      <th id=\"T_8337e_level1_col6\" class=\"col_heading level1 col6\" ></th>\n      <th id=\"T_8337e_level1_col7\" class=\"col_heading level1 col7\" ></th>\n      <th id=\"T_8337e_level1_col8\" class=\"col_heading level1 col8\" >job</th>\n      <th id=\"T_8337e_level1_col9\" class=\"col_heading level1 col9\" >colors</th>\n    </tr>\n    <tr>\n      <th class=\"index_name level0\" >id</th>\n      <th class=\"blank col0\" >&nbsp;</th>\n      <th class=\"blank col1\" >&nbsp;</th>\n      <th class=\"blank col2\" >&nbsp;</th>\n      <th class=\"blank col3\" >&nbsp;</th>\n      <th class=\"blank col4\" >&nbsp;</th>\n      <th class=\"blank col5\" >&nbsp;</th>\n      <th class=\"blank col6\" >&nbsp;</th>\n      <th class=\"blank col7\" >&nbsp;</th>\n      <th class=\"blank col8\" >&nbsp;</th>\n      <th class=\"blank col9\" >&nbsp;</th>\n    </tr>\n  </thead>\n  <tbody>\n    <tr>\n      <th id=\"T_8337e_level0_row0\" class=\"row_heading level0 row0\" >269791</th>\n      <td id=\"T_8337e_row0_col0\" class=\"data row0 col0\" >6091</td>\n      <td id=\"T_8337e_row0_col1\" class=\"data row0 col1\" >stop sign</td>\n      <td id=\"T_8337e_row0_col2\" class=\"data row0 col2\" >13</td>\n      <td id=\"T_8337e_row0_col3\" class=\"data row0 col3\" >100.220000</td>\n      <td id=\"T_8337e_row0_col4\" class=\"data row0 col4\" >117.540000</td>\n      <td id=\"T_8337e_row0_col5\" class=\"data row0 col5\" >253.430000</td>\n      <td id=\"T_8337e_row0_col6\" class=\"data row0 col6\" >274.900000</td>\n      <td id=\"T_8337e_row0_col7\" class=\"data row0 col7\" >46726.430300</td>\n      <td id=\"T_8337e_row0_col8\" class=\"data row0 col8\" >['police']</td>\n      <td id=\"T_8337e_row0_col9\" class=\"data row0 col9\" >['red', 'white']</td>\n    </tr>\n  </tbody>\n</table>\n",
          "text/plain": "<pandas.io.formats.style.Styler at 0x7940f3913f90>"
         },
         "metadata": {},
         "output_type": "display_data"
        }
       ]
      }
     },
     "b21f00cedbca408fa98e80b6b9177c77": {
      "model_module": "@jupyter-widgets/controls",
      "model_module_version": "2.0.0",
      "model_name": "DescriptionStyleModel",
      "state": {
       "description_width": ""
      }
     },
     "b45555a167334329aa739645e0dcf2bb": {
      "model_module": "@jupyter-widgets/output",
      "model_module_version": "1.0.0",
      "model_name": "OutputModel",
      "state": {
       "layout": "IPY_MODEL_8dea788e888340eea086edbf7827bc79",
       "outputs": [
        {
         "data": {
          "text/html": "<div>\n<style scoped>\n    .dataframe tbody tr th:only-of-type {\n        vertical-align: middle;\n    }\n\n    .dataframe tbody tr th {\n        vertical-align: top;\n    }\n\n    .dataframe thead th {\n        text-align: right;\n    }\n</style>\n<table border=\"1\" class=\"dataframe\">\n  <thead>\n    <tr style=\"text-align: right;\">\n      <th></th>\n      <th>category string</th>\n    </tr>\n    <tr>\n      <th>category_id</th>\n      <th></th>\n    </tr>\n  </thead>\n  <tbody>\n    <tr>\n      <th>13</th>\n      <td>stop sign</td>\n    </tr>\n    <tr>\n      <th>88</th>\n      <td>teddy bear</td>\n    </tr>\n  </tbody>\n</table>\n</div>",
          "text/plain": "            category string\ncategory_id                \n13                stop sign\n88               teddy bear"
         },
         "metadata": {},
         "output_type": "display_data"
        }
       ]
      }
     },
     "b4822309721b4036966daff3d619ce7c": {
      "model_module": "@jupyter-widgets/output",
      "model_module_version": "1.0.0",
      "model_name": "OutputModel",
      "state": {
       "layout": "IPY_MODEL_ba2807217d86402da720409e62f40399",
       "outputs": [
        {
         "data": {
          "text/html": "<style type=\"text/css\">\n#T_13bfb th {\n  border-right: 1px solid #F0F0F0;\n}\n</style>\n<table id=\"T_13bfb\">\n  <thead>\n    <tr>\n      <th class=\"blank level0\" >&nbsp;</th>\n      <th id=\"T_13bfb_level0_col0\" class=\"col_heading level0 col0\" >width</th>\n      <th id=\"T_13bfb_level0_col1\" class=\"col_heading level0 col1\" >height</th>\n      <th id=\"T_13bfb_level0_col2\" class=\"col_heading level0 col2\" >relative_path</th>\n      <th id=\"T_13bfb_level0_col3\" class=\"col_heading level0 col3\" >type</th>\n      <th id=\"T_13bfb_level0_col4\" class=\"col_heading level0 col4\" colspan=\"3\">tags</th>\n    </tr>\n    <tr>\n      <th class=\"blank level1\" >&nbsp;</th>\n      <th id=\"T_13bfb_level1_col0\" class=\"col_heading level1 col0\" ></th>\n      <th id=\"T_13bfb_level1_col1\" class=\"col_heading level1 col1\" ></th>\n      <th id=\"T_13bfb_level1_col2\" class=\"col_heading level1 col2\" ></th>\n      <th id=\"T_13bfb_level1_col3\" class=\"col_heading level1 col3\" ></th>\n      <th id=\"T_13bfb_level1_col4\" class=\"col_heading level1 col4\" >location</th>\n      <th id=\"T_13bfb_level1_col5\" class=\"col_heading level1 col5\" >spectrum</th>\n      <th id=\"T_13bfb_level1_col6\" class=\"col_heading level1 col6\" >time</th>\n    </tr>\n    <tr>\n      <th class=\"index_name level0\" >id</th>\n      <th class=\"blank col0\" >&nbsp;</th>\n      <th class=\"blank col1\" >&nbsp;</th>\n      <th class=\"blank col2\" >&nbsp;</th>\n      <th class=\"blank col3\" >&nbsp;</th>\n      <th class=\"blank col4\" >&nbsp;</th>\n      <th class=\"blank col5\" >&nbsp;</th>\n      <th class=\"blank col6\" >&nbsp;</th>\n    </tr>\n  </thead>\n  <tbody>\n    <tr>\n      <th id=\"T_13bfb_level0_row0\" class=\"row_heading level0 row0\" >6091</th>\n      <td id=\"T_13bfb_row0_col0\" class=\"data row0 col0\" >480</td>\n      <td id=\"T_13bfb_row0_col1\" class=\"data row0 col1\" >640</td>\n      <td id=\"T_13bfb_row0_col2\" class=\"data row0 col2\" >image1.jpg</td>\n      <td id=\"T_13bfb_row0_col3\" class=\"data row0 col3\" >.jpg</td>\n      <td id=\"T_13bfb_row0_col4\" class=\"data row0 col4\" >exterior</td>\n      <td id=\"T_13bfb_row0_col5\" class=\"data row0 col5\" >RGB</td>\n      <td id=\"T_13bfb_row0_col6\" class=\"data row0 col6\" >night</td>\n    </tr>\n    <tr>\n      <th id=\"T_13bfb_level0_row1\" class=\"row_heading level0 row1\" >10395</th>\n      <td id=\"T_13bfb_row1_col0\" class=\"data row1 col0\" >500</td>\n      <td id=\"T_13bfb_row1_col1\" class=\"data row1 col1\" >476</td>\n      <td id=\"T_13bfb_row1_col2\" class=\"data row1 col2\" >image2.jpg</td>\n      <td id=\"T_13bfb_row1_col3\" class=\"data row1 col3\" >.jpg</td>\n      <td id=\"T_13bfb_row1_col4\" class=\"data row1 col4\" >exterior</td>\n      <td id=\"T_13bfb_row1_col5\" class=\"data row1 col5\" >RGB</td>\n      <td id=\"T_13bfb_row1_col6\" class=\"data row1 col6\" >night</td>\n    </tr>\n  </tbody>\n</table>\n",
          "text/plain": "<pandas.io.formats.style.Styler at 0x7940f3adf1d0>"
         },
         "metadata": {},
         "output_type": "display_data"
        }
       ]
      }
     },
     "b483e713571d495492efb42b40a3e600": {
      "model_module": "@jupyter-widgets/controls",
      "model_module_version": "2.0.0",
      "model_name": "DropdownModel",
      "state": {
       "_options_labels": [
        "raw",
        "nested"
       ],
       "index": 1,
       "layout": "IPY_MODEL_a98372d7ed044f46a9037b2a027cbae9",
       "style": "IPY_MODEL_3fa81b77b59c4632af9d460a8be5cbaa"
      }
     },
     "b4862abefd164a6197462e5a6e3b0572": {
      "model_module": "@jupyter-widgets/controls",
      "model_module_version": "2.0.0",
      "model_name": "DropdownModel",
      "state": {
       "_options_labels": [
        "raw",
        "nested"
       ],
       "index": 1,
       "layout": "IPY_MODEL_503fde465433400088b5b1ba849a8363",
       "style": "IPY_MODEL_974236a0120c4565a2b1234b964af840"
      }
     },
     "b4896aa315594a899e4bf2978e6330d2": {
      "model_module": "@jupyter-widgets/controls",
      "model_module_version": "2.0.0",
      "model_name": "LabelModel",
      "state": {
       "layout": "IPY_MODEL_5251143b52974036ab355ee7cacdf55d",
       "style": "IPY_MODEL_f81fd73302c248e2b3810fcc0ecf55b7",
       "value": "Column format"
      }
     },
     "b559e3280e504adaa50fd0003dfeee3d": {
      "model_module": "@jupyter-widgets/controls",
      "model_module_version": "2.0.0",
      "model_name": "DropdownModel",
      "state": {
       "_options_labels": [
        "raw",
        "nested"
       ],
       "index": 1,
       "layout": "IPY_MODEL_a257dc35d3e24b49a3e3ac1059bf11f9",
       "style": "IPY_MODEL_eb1e79ecc87e4ee7812a7d308c1e6c0b"
      }
     },
     "b56e430ea857498a84e3432c1985fb7c": {
      "model_module": "@jupyter-widgets/output",
      "model_module_version": "1.0.0",
      "model_name": "OutputModel",
      "state": {
       "layout": "IPY_MODEL_ba11cf20f7374dc8a0149ba86f780329",
       "outputs": [
        {
         "data": {
          "text/html": "<style type=\"text/css\">\n#T_6397c th {\n  border-right: 1px solid #F0F0F0;\n}\n</style>\n<table id=\"T_6397c\">\n  <thead>\n    <tr>\n      <th class=\"blank level0\" >&nbsp;</th>\n      <th id=\"T_6397c_level0_col0\" class=\"col_heading level0 col0\" >image_id</th>\n      <th id=\"T_6397c_level0_col1\" class=\"col_heading level0 col1\" >category_str</th>\n      <th id=\"T_6397c_level0_col2\" class=\"col_heading level0 col2\" >category_id</th>\n      <th id=\"T_6397c_level0_col3\" class=\"col_heading level0 col3\" >box_x_min</th>\n      <th id=\"T_6397c_level0_col4\" class=\"col_heading level0 col4\" >box_y_min</th>\n      <th id=\"T_6397c_level0_col5\" class=\"col_heading level0 col5\" >box_width</th>\n      <th id=\"T_6397c_level0_col6\" class=\"col_heading level0 col6\" >box_height</th>\n      <th id=\"T_6397c_level0_col7\" class=\"col_heading level0 col7\" >area</th>\n      <th id=\"T_6397c_level0_col8\" class=\"col_heading level0 col8\" colspan=\"2\">attributes</th>\n    </tr>\n    <tr>\n      <th class=\"blank level1\" >&nbsp;</th>\n      <th id=\"T_6397c_level1_col0\" class=\"col_heading level1 col0\" ></th>\n      <th id=\"T_6397c_level1_col1\" class=\"col_heading level1 col1\" ></th>\n      <th id=\"T_6397c_level1_col2\" class=\"col_heading level1 col2\" ></th>\n      <th id=\"T_6397c_level1_col3\" class=\"col_heading level1 col3\" ></th>\n      <th id=\"T_6397c_level1_col4\" class=\"col_heading level1 col4\" ></th>\n      <th id=\"T_6397c_level1_col5\" class=\"col_heading level1 col5\" ></th>\n      <th id=\"T_6397c_level1_col6\" class=\"col_heading level1 col6\" ></th>\n      <th id=\"T_6397c_level1_col7\" class=\"col_heading level1 col7\" ></th>\n      <th id=\"T_6397c_level1_col8\" class=\"col_heading level1 col8\" >colors</th>\n      <th id=\"T_6397c_level1_col9\" class=\"col_heading level1 col9\" >job</th>\n    </tr>\n    <tr>\n      <th class=\"index_name level0\" >id</th>\n      <th class=\"blank col0\" >&nbsp;</th>\n      <th class=\"blank col1\" >&nbsp;</th>\n      <th class=\"blank col2\" >&nbsp;</th>\n      <th class=\"blank col3\" >&nbsp;</th>\n      <th class=\"blank col4\" >&nbsp;</th>\n      <th class=\"blank col5\" >&nbsp;</th>\n      <th class=\"blank col6\" >&nbsp;</th>\n      <th class=\"blank col7\" >&nbsp;</th>\n      <th class=\"blank col8\" >&nbsp;</th>\n      <th class=\"blank col9\" >&nbsp;</th>\n    </tr>\n  </thead>\n  <tbody>\n    <tr>\n      <th id=\"T_6397c_level0_row0\" class=\"row_heading level0 row0\" >269791</th>\n      <td id=\"T_6397c_row0_col0\" class=\"data row0 col0\" >6091</td>\n      <td id=\"T_6397c_row0_col1\" class=\"data row0 col1\" >stop sign</td>\n      <td id=\"T_6397c_row0_col2\" class=\"data row0 col2\" >13</td>\n      <td id=\"T_6397c_row0_col3\" class=\"data row0 col3\" >100.220000</td>\n      <td id=\"T_6397c_row0_col4\" class=\"data row0 col4\" >117.540000</td>\n      <td id=\"T_6397c_row0_col5\" class=\"data row0 col5\" >253.430000</td>\n      <td id=\"T_6397c_row0_col6\" class=\"data row0 col6\" >274.900000</td>\n      <td id=\"T_6397c_row0_col7\" class=\"data row0 col7\" >46726.430300</td>\n      <td id=\"T_6397c_row0_col8\" class=\"data row0 col8\" >['red', 'white']</td>\n      <td id=\"T_6397c_row0_col9\" class=\"data row0 col9\" >['police']</td>\n    </tr>\n    <tr>\n      <th id=\"T_6397c_level0_row1\" class=\"row_heading level0 row1\" >1161234</th>\n      <td id=\"T_6397c_row1_col0\" class=\"data row1 col0\" >10395</td>\n      <td id=\"T_6397c_row1_col1\" class=\"data row1 col1\" >teddy bear</td>\n      <td id=\"T_6397c_row1_col2\" class=\"data row1 col2\" >88</td>\n      <td id=\"T_6397c_row1_col3\" class=\"data row1 col3\" >49.190000</td>\n      <td id=\"T_6397c_row1_col4\" class=\"data row1 col4\" >66.200000</td>\n      <td id=\"T_6397c_row1_col5\" class=\"data row1 col5\" >378.970000</td>\n      <td id=\"T_6397c_row1_col6\" class=\"data row1 col6\" >379.680000</td>\n      <td id=\"T_6397c_row1_col7\" class=\"data row1 col7\" >84587.439100</td>\n      <td id=\"T_6397c_row1_col8\" class=\"data row1 col8\" >['grey']</td>\n      <td id=\"T_6397c_row1_col9\" class=\"data row1 col9\" >[]</td>\n    </tr>\n  </tbody>\n</table>\n",
          "text/plain": "<pandas.io.formats.style.Styler at 0x7940f9172810>"
         },
         "metadata": {},
         "output_type": "display_data"
        }
       ]
      }
     },
     "b5871347f49a481fa21d9ab365cc1fa5": {
      "model_module": "@jupyter-widgets/controls",
      "model_module_version": "2.0.0",
      "model_name": "LabelStyleModel",
      "state": {
       "description_width": "",
       "font_family": null,
       "font_size": null,
       "font_style": null,
       "font_variant": null,
       "font_weight": null,
       "text_color": null,
       "text_decoration": null
      }
     },
     "b68ce890cf1a4b42acc281030f38db79": {
      "model_module": "@jupyter-widgets/base",
      "model_module_version": "2.0.0",
      "model_name": "LayoutModel",
      "state": {}
     },
     "b7275f7e83674361b401534cecb78e36": {
      "model_module": "@jupyter-widgets/controls",
      "model_module_version": "2.0.0",
      "model_name": "LabelModel",
      "state": {
       "layout": "IPY_MODEL_201da11722164c878c27bcb9814c772c",
       "style": "IPY_MODEL_cd9ef769de65469b8d1cdf61f9ecf266",
       "value": "Column format"
      }
     },
     "b7332191f28a4e84baf2a8d99f564bdf": {
      "model_module": "@jupyter-widgets/output",
      "model_module_version": "1.0.0",
      "model_name": "OutputModel",
      "state": {
       "layout": "IPY_MODEL_6fbb38f2a05a459b8dd519be02faadc6",
       "outputs": [
        {
         "data": {
          "text/html": "<div>\n<style scoped>\n    .dataframe tbody tr th:only-of-type {\n        vertical-align: middle;\n    }\n\n    .dataframe tbody tr th {\n        vertical-align: top;\n    }\n\n    .dataframe thead th {\n        text-align: right;\n    }\n</style>\n<table border=\"1\" class=\"dataframe\">\n  <thead>\n    <tr style=\"text-align: right;\">\n      <th></th>\n      <th>width</th>\n      <th>height</th>\n      <th>relative_path</th>\n      <th>type</th>\n      <th>tags.location</th>\n      <th>tags.spectrum</th>\n      <th>tags.time</th>\n    </tr>\n    <tr>\n      <th>id</th>\n      <th></th>\n      <th></th>\n      <th></th>\n      <th></th>\n      <th></th>\n      <th></th>\n      <th></th>\n    </tr>\n  </thead>\n  <tbody>\n    <tr>\n      <th>6091</th>\n      <td>480</td>\n      <td>640</td>\n      <td>image1.jpg</td>\n      <td>.jpg</td>\n      <td>exterior</td>\n      <td>RGB</td>\n      <td>night</td>\n    </tr>\n    <tr>\n      <th>10395</th>\n      <td>500</td>\n      <td>476</td>\n      <td>image2.jpg</td>\n      <td>.jpg</td>\n      <td>exterior</td>\n      <td>RGB</td>\n      <td>night</td>\n    </tr>\n  </tbody>\n</table>\n</div>",
          "text/plain": "       width  height relative_path  type tags.location tags.spectrum tags.time\nid                                                                            \n6091     480     640    image1.jpg  .jpg      exterior           RGB     night\n10395    500     476    image2.jpg  .jpg      exterior           RGB     night"
         },
         "metadata": {},
         "output_type": "display_data"
        }
       ]
      }
     },
     "b74ca75045054bcb9488bc6c9444d3a0": {
      "model_module": "@jupyter-widgets/base",
      "model_module_version": "2.0.0",
      "model_name": "LayoutModel",
      "state": {}
     },
     "b76d0f98a99942ddbd04da646a97dad8": {
      "model_module": "@jupyter-widgets/base",
      "model_module_version": "2.0.0",
      "model_name": "LayoutModel",
      "state": {}
     },
     "b7c959e0d52c4ae18e9cfc2c92c5c3d8": {
      "model_module": "@jupyter-widgets/controls",
      "model_module_version": "2.0.0",
      "model_name": "LabelModel",
      "state": {
       "layout": "IPY_MODEL_471a424aa7ae457fa953e06b84d8c738",
       "style": "IPY_MODEL_adbad114681d42228beeed82ea4b92dc",
       "value": "Column format"
      }
     },
     "b7d1d35b8976485d9a5d249be29e08bb": {
      "model_module": "@jupyter-widgets/controls",
      "model_module_version": "2.0.0",
      "model_name": "VBoxModel",
      "state": {
       "children": [
        "IPY_MODEL_15c996b6beb84a9eb54c28226f2bd579",
        "IPY_MODEL_137273feae674dffb709841507c73a67"
       ],
       "layout": "IPY_MODEL_e2bc2f6ea30744ac8d9bd8c1e63bc19f"
      }
     },
     "b7f97c532dbb41a9a36bf60c5777faa1": {
      "model_module": "@jupyter-widgets/base",
      "model_module_version": "2.0.0",
      "model_name": "LayoutModel",
      "state": {}
     },
     "b8645807457946fbb899002cf48564b8": {
      "model_module": "@jupyter-widgets/base",
      "model_module_version": "2.0.0",
      "model_name": "LayoutModel",
      "state": {}
     },
     "b864a5c9cc2d411c92a871a78c3ab21e": {
      "model_module": "@jupyter-widgets/controls",
      "model_module_version": "2.0.0",
      "model_name": "HBoxModel",
      "state": {
       "children": [
        "IPY_MODEL_d0f7740d4b29478a8b1b05f8583a2836",
        "IPY_MODEL_bed9c5fa40bc485789dba9e3612ceafd",
        "IPY_MODEL_4c67d2645735491392cdd393588ddd76"
       ],
       "layout": "IPY_MODEL_43a966ee67834d61909f3f7ddf7fc827"
      }
     },
     "b95c3eef5065475e9059b05042a9b758": {
      "model_module": "@jupyter-widgets/controls",
      "model_module_version": "2.0.0",
      "model_name": "FloatProgressModel",
      "state": {
       "bar_style": "success",
       "layout": "IPY_MODEL_522abf073cc24e96be29b07456d678c0",
       "max": 2,
       "style": "IPY_MODEL_2a9f1ee260d843efaf601c1846d954ba",
       "value": 2
      }
     },
     "b966c111a56b47998b255d81cd8bd75b": {
      "model_module": "@jupyter-widgets/controls",
      "model_module_version": "2.0.0",
      "model_name": "LabelStyleModel",
      "state": {
       "description_width": "",
       "font_family": null,
       "font_size": null,
       "font_style": null,
       "font_variant": null,
       "font_weight": null,
       "text_color": null,
       "text_decoration": null
      }
     },
     "ba11cf20f7374dc8a0149ba86f780329": {
      "model_module": "@jupyter-widgets/base",
      "model_module_version": "2.0.0",
      "model_name": "LayoutModel",
      "state": {}
     },
     "ba2807217d86402da720409e62f40399": {
      "model_module": "@jupyter-widgets/base",
      "model_module_version": "2.0.0",
      "model_name": "LayoutModel",
      "state": {}
     },
     "ba7b35e2c45b415c9a38f27d891652a4": {
      "model_module": "@jupyter-widgets/output",
      "model_module_version": "1.0.0",
      "model_name": "OutputModel",
      "state": {
       "layout": "IPY_MODEL_10ead96d57f44abf97eb89464993150a",
       "outputs": [
        {
         "data": {
          "text/html": "<style type=\"text/css\">\n#T_84fd8 th {\n  border-right: 1px solid #F0F0F0;\n}\n</style>\n<table id=\"T_84fd8\">\n  <thead>\n    <tr>\n      <th class=\"blank level0\" >&nbsp;</th>\n      <th id=\"T_84fd8_level0_col0\" class=\"col_heading level0 col0\" >width</th>\n      <th id=\"T_84fd8_level0_col1\" class=\"col_heading level0 col1\" >height</th>\n      <th id=\"T_84fd8_level0_col2\" class=\"col_heading level0 col2\" >relative_path</th>\n      <th id=\"T_84fd8_level0_col3\" class=\"col_heading level0 col3\" >type</th>\n      <th id=\"T_84fd8_level0_col4\" class=\"col_heading level0 col4\" colspan=\"3\">tags</th>\n    </tr>\n    <tr>\n      <th class=\"blank level1\" >&nbsp;</th>\n      <th id=\"T_84fd8_level1_col0\" class=\"col_heading level1 col0\" ></th>\n      <th id=\"T_84fd8_level1_col1\" class=\"col_heading level1 col1\" ></th>\n      <th id=\"T_84fd8_level1_col2\" class=\"col_heading level1 col2\" ></th>\n      <th id=\"T_84fd8_level1_col3\" class=\"col_heading level1 col3\" ></th>\n      <th id=\"T_84fd8_level1_col4\" class=\"col_heading level1 col4\" >location</th>\n      <th id=\"T_84fd8_level1_col5\" class=\"col_heading level1 col5\" >spectrum</th>\n      <th id=\"T_84fd8_level1_col6\" class=\"col_heading level1 col6\" >time</th>\n    </tr>\n    <tr>\n      <th class=\"index_name level0\" >id</th>\n      <th class=\"blank col0\" >&nbsp;</th>\n      <th class=\"blank col1\" >&nbsp;</th>\n      <th class=\"blank col2\" >&nbsp;</th>\n      <th class=\"blank col3\" >&nbsp;</th>\n      <th class=\"blank col4\" >&nbsp;</th>\n      <th class=\"blank col5\" >&nbsp;</th>\n      <th class=\"blank col6\" >&nbsp;</th>\n    </tr>\n  </thead>\n  <tbody>\n    <tr>\n      <th id=\"T_84fd8_level0_row0\" class=\"row_heading level0 row0\" >6091</th>\n      <td id=\"T_84fd8_row0_col0\" class=\"data row0 col0\" >480</td>\n      <td id=\"T_84fd8_row0_col1\" class=\"data row0 col1\" >640</td>\n      <td id=\"T_84fd8_row0_col2\" class=\"data row0 col2\" >image1.jpg</td>\n      <td id=\"T_84fd8_row0_col3\" class=\"data row0 col3\" >.jpg</td>\n      <td id=\"T_84fd8_row0_col4\" class=\"data row0 col4\" >exterior</td>\n      <td id=\"T_84fd8_row0_col5\" class=\"data row0 col5\" >RGB</td>\n      <td id=\"T_84fd8_row0_col6\" class=\"data row0 col6\" >night</td>\n    </tr>\n    <tr>\n      <th id=\"T_84fd8_level0_row1\" class=\"row_heading level0 row1\" >10395</th>\n      <td id=\"T_84fd8_row1_col0\" class=\"data row1 col0\" >500</td>\n      <td id=\"T_84fd8_row1_col1\" class=\"data row1 col1\" >476</td>\n      <td id=\"T_84fd8_row1_col2\" class=\"data row1 col2\" >image2.jpg</td>\n      <td id=\"T_84fd8_row1_col3\" class=\"data row1 col3\" >.jpg</td>\n      <td id=\"T_84fd8_row1_col4\" class=\"data row1 col4\" >exterior</td>\n      <td id=\"T_84fd8_row1_col5\" class=\"data row1 col5\" >RGB</td>\n      <td id=\"T_84fd8_row1_col6\" class=\"data row1 col6\" >night</td>\n    </tr>\n  </tbody>\n</table>\n",
          "text/plain": "<pandas.io.formats.style.Styler at 0x7940f3a0ded0>"
         },
         "metadata": {},
         "output_type": "display_data"
        }
       ]
      }
     },
     "bad7132e08fa4705804d160f71569e3a": {
      "model_module": "@jupyter-widgets/output",
      "model_module_version": "1.0.0",
      "model_name": "OutputModel",
      "state": {
       "layout": "IPY_MODEL_69f94f9aa444432999a81465b9bd6797",
       "outputs": [
        {
         "data": {
          "text/html": "<style type=\"text/css\">\n#T_bf3ce th {\n  border-right: 1px solid #F0F0F0;\n}\n</style>\n<table id=\"T_bf3ce\">\n  <thead>\n    <tr>\n      <th class=\"blank level0\" >&nbsp;</th>\n      <th id=\"T_bf3ce_level0_col0\" class=\"col_heading level0 col0\" >width</th>\n      <th id=\"T_bf3ce_level0_col1\" class=\"col_heading level0 col1\" >height</th>\n      <th id=\"T_bf3ce_level0_col2\" class=\"col_heading level0 col2\" >relative_path</th>\n      <th id=\"T_bf3ce_level0_col3\" class=\"col_heading level0 col3\" >type</th>\n      <th id=\"T_bf3ce_level0_col4\" class=\"col_heading level0 col4\" colspan=\"3\">tags</th>\n    </tr>\n    <tr>\n      <th class=\"blank level1\" >&nbsp;</th>\n      <th id=\"T_bf3ce_level1_col0\" class=\"col_heading level1 col0\" ></th>\n      <th id=\"T_bf3ce_level1_col1\" class=\"col_heading level1 col1\" ></th>\n      <th id=\"T_bf3ce_level1_col2\" class=\"col_heading level1 col2\" ></th>\n      <th id=\"T_bf3ce_level1_col3\" class=\"col_heading level1 col3\" ></th>\n      <th id=\"T_bf3ce_level1_col4\" class=\"col_heading level1 col4\" >location</th>\n      <th id=\"T_bf3ce_level1_col5\" class=\"col_heading level1 col5\" >spectrum</th>\n      <th id=\"T_bf3ce_level1_col6\" class=\"col_heading level1 col6\" >time</th>\n    </tr>\n    <tr>\n      <th class=\"index_name level0\" >id</th>\n      <th class=\"blank col0\" >&nbsp;</th>\n      <th class=\"blank col1\" >&nbsp;</th>\n      <th class=\"blank col2\" >&nbsp;</th>\n      <th class=\"blank col3\" >&nbsp;</th>\n      <th class=\"blank col4\" >&nbsp;</th>\n      <th class=\"blank col5\" >&nbsp;</th>\n      <th class=\"blank col6\" >&nbsp;</th>\n    </tr>\n  </thead>\n  <tbody>\n    <tr>\n      <th id=\"T_bf3ce_level0_row0\" class=\"row_heading level0 row0\" >6091</th>\n      <td id=\"T_bf3ce_row0_col0\" class=\"data row0 col0\" >480</td>\n      <td id=\"T_bf3ce_row0_col1\" class=\"data row0 col1\" >640</td>\n      <td id=\"T_bf3ce_row0_col2\" class=\"data row0 col2\" >image1.jpg</td>\n      <td id=\"T_bf3ce_row0_col3\" class=\"data row0 col3\" >.jpg</td>\n      <td id=\"T_bf3ce_row0_col4\" class=\"data row0 col4\" >exterior</td>\n      <td id=\"T_bf3ce_row0_col5\" class=\"data row0 col5\" >RGB</td>\n      <td id=\"T_bf3ce_row0_col6\" class=\"data row0 col6\" >night</td>\n    </tr>\n    <tr>\n      <th id=\"T_bf3ce_level0_row1\" class=\"row_heading level0 row1\" >10395</th>\n      <td id=\"T_bf3ce_row1_col0\" class=\"data row1 col0\" >500</td>\n      <td id=\"T_bf3ce_row1_col1\" class=\"data row1 col1\" >476</td>\n      <td id=\"T_bf3ce_row1_col2\" class=\"data row1 col2\" >image2.jpg</td>\n      <td id=\"T_bf3ce_row1_col3\" class=\"data row1 col3\" >.jpg</td>\n      <td id=\"T_bf3ce_row1_col4\" class=\"data row1 col4\" >exterior</td>\n      <td id=\"T_bf3ce_row1_col5\" class=\"data row1 col5\" >RGB</td>\n      <td id=\"T_bf3ce_row1_col6\" class=\"data row1 col6\" >night</td>\n    </tr>\n  </tbody>\n</table>\n",
          "text/plain": "<pandas.io.formats.style.Styler at 0x7940f3bd7710>"
         },
         "metadata": {},
         "output_type": "display_data"
        }
       ]
      }
     },
     "bc1895914a9f42688c7add779bae6b53": {
      "model_module": "@jupyter-widgets/output",
      "model_module_version": "1.0.0",
      "model_name": "OutputModel",
      "state": {
       "layout": "IPY_MODEL_3c4c4c7d73a84509a9bbf647ccc335d2",
       "outputs": [
        {
         "data": {
          "text/html": "<style type=\"text/css\">\n#T_04067 th {\n  border-right: 1px solid #F0F0F0;\n}\n</style>\n<table id=\"T_04067\">\n  <thead>\n    <tr>\n      <th class=\"blank level0\" >&nbsp;</th>\n      <th id=\"T_04067_level0_col0\" class=\"col_heading level0 col0\" >width</th>\n      <th id=\"T_04067_level0_col1\" class=\"col_heading level0 col1\" >height</th>\n      <th id=\"T_04067_level0_col2\" class=\"col_heading level0 col2\" >relative_path</th>\n      <th id=\"T_04067_level0_col3\" class=\"col_heading level0 col3\" >type</th>\n      <th id=\"T_04067_level0_col4\" class=\"col_heading level0 col4\" colspan=\"3\">tags</th>\n    </tr>\n    <tr>\n      <th class=\"blank level1\" >&nbsp;</th>\n      <th id=\"T_04067_level1_col0\" class=\"col_heading level1 col0\" ></th>\n      <th id=\"T_04067_level1_col1\" class=\"col_heading level1 col1\" ></th>\n      <th id=\"T_04067_level1_col2\" class=\"col_heading level1 col2\" ></th>\n      <th id=\"T_04067_level1_col3\" class=\"col_heading level1 col3\" ></th>\n      <th id=\"T_04067_level1_col4\" class=\"col_heading level1 col4\" >location</th>\n      <th id=\"T_04067_level1_col5\" class=\"col_heading level1 col5\" >spectrum</th>\n      <th id=\"T_04067_level1_col6\" class=\"col_heading level1 col6\" >time</th>\n    </tr>\n    <tr>\n      <th class=\"index_name level0\" >id</th>\n      <th class=\"blank col0\" >&nbsp;</th>\n      <th class=\"blank col1\" >&nbsp;</th>\n      <th class=\"blank col2\" >&nbsp;</th>\n      <th class=\"blank col3\" >&nbsp;</th>\n      <th class=\"blank col4\" >&nbsp;</th>\n      <th class=\"blank col5\" >&nbsp;</th>\n      <th class=\"blank col6\" >&nbsp;</th>\n    </tr>\n  </thead>\n  <tbody>\n    <tr>\n      <th id=\"T_04067_level0_row0\" class=\"row_heading level0 row0\" >6091</th>\n      <td id=\"T_04067_row0_col0\" class=\"data row0 col0\" >480</td>\n      <td id=\"T_04067_row0_col1\" class=\"data row0 col1\" >640</td>\n      <td id=\"T_04067_row0_col2\" class=\"data row0 col2\" >image1.jpg</td>\n      <td id=\"T_04067_row0_col3\" class=\"data row0 col3\" >.jpg</td>\n      <td id=\"T_04067_row0_col4\" class=\"data row0 col4\" >exterior</td>\n      <td id=\"T_04067_row0_col5\" class=\"data row0 col5\" >RGB</td>\n      <td id=\"T_04067_row0_col6\" class=\"data row0 col6\" >night</td>\n    </tr>\n    <tr>\n      <th id=\"T_04067_level0_row1\" class=\"row_heading level0 row1\" >10395</th>\n      <td id=\"T_04067_row1_col0\" class=\"data row1 col0\" >500</td>\n      <td id=\"T_04067_row1_col1\" class=\"data row1 col1\" >476</td>\n      <td id=\"T_04067_row1_col2\" class=\"data row1 col2\" >image2.jpg</td>\n      <td id=\"T_04067_row1_col3\" class=\"data row1 col3\" >.jpg</td>\n      <td id=\"T_04067_row1_col4\" class=\"data row1 col4\" >exterior</td>\n      <td id=\"T_04067_row1_col5\" class=\"data row1 col5\" >RGB</td>\n      <td id=\"T_04067_row1_col6\" class=\"data row1 col6\" >night</td>\n    </tr>\n  </tbody>\n</table>\n",
          "text/plain": "<pandas.io.formats.style.Styler at 0x7940fa423950>"
         },
         "metadata": {},
         "output_type": "display_data"
        }
       ]
      }
     },
     "bc1fb95a0b454824b37a8e68795624ed": {
      "model_module": "@jupyter-widgets/controls",
      "model_module_version": "2.0.0",
      "model_name": "HTMLStyleModel",
      "state": {
       "description_width": "",
       "font_size": null,
       "text_color": null
      }
     },
     "bc7a3894428247cfa807c1826acf9ea4": {
      "model_module": "@jupyter-widgets/base",
      "model_module_version": "2.0.0",
      "model_name": "LayoutModel",
      "state": {}
     },
     "bdff13ea6d5f48eeb2829006cfb36d84": {
      "model_module": "@jupyter-widgets/output",
      "model_module_version": "1.0.0",
      "model_name": "OutputModel",
      "state": {
       "layout": "IPY_MODEL_09c08f2772594ca9ab39e1c2c7ec8aea",
       "outputs": [
        {
         "data": {
          "text/html": "<style type=\"text/css\">\n#T_2322b th {\n  border-right: 1px solid #F0F0F0;\n}\n</style>\n<table id=\"T_2322b\">\n  <thead>\n    <tr>\n      <th class=\"blank level0\" >&nbsp;</th>\n      <th id=\"T_2322b_level0_col0\" class=\"col_heading level0 col0\" >image_id</th>\n      <th id=\"T_2322b_level0_col1\" class=\"col_heading level0 col1\" >category_str</th>\n      <th id=\"T_2322b_level0_col2\" class=\"col_heading level0 col2\" >category_id</th>\n      <th id=\"T_2322b_level0_col3\" class=\"col_heading level0 col3\" >box_x_min</th>\n      <th id=\"T_2322b_level0_col4\" class=\"col_heading level0 col4\" >box_y_min</th>\n      <th id=\"T_2322b_level0_col5\" class=\"col_heading level0 col5\" >box_width</th>\n      <th id=\"T_2322b_level0_col6\" class=\"col_heading level0 col6\" >box_height</th>\n      <th id=\"T_2322b_level0_col7\" class=\"col_heading level0 col7\" >area</th>\n      <th id=\"T_2322b_level0_col8\" class=\"col_heading level0 col8\" colspan=\"18\">attributes</th>\n    </tr>\n    <tr>\n      <th class=\"blank level1\" >&nbsp;</th>\n      <th id=\"T_2322b_level1_col0\" class=\"col_heading level1 col0\" ></th>\n      <th id=\"T_2322b_level1_col1\" class=\"col_heading level1 col1\" ></th>\n      <th id=\"T_2322b_level1_col2\" class=\"col_heading level1 col2\" ></th>\n      <th id=\"T_2322b_level1_col3\" class=\"col_heading level1 col3\" ></th>\n      <th id=\"T_2322b_level1_col4\" class=\"col_heading level1 col4\" ></th>\n      <th id=\"T_2322b_level1_col5\" class=\"col_heading level1 col5\" ></th>\n      <th id=\"T_2322b_level1_col6\" class=\"col_heading level1 col6\" ></th>\n      <th id=\"T_2322b_level1_col7\" class=\"col_heading level1 col7\" ></th>\n      <th id=\"T_2322b_level1_col8\" class=\"col_heading level1 col8\" colspan=\"13\">colors</th>\n      <th id=\"T_2322b_level1_col21\" class=\"col_heading level1 col21\" colspan=\"5\">job</th>\n    </tr>\n    <tr>\n      <th class=\"blank level2\" >&nbsp;</th>\n      <th id=\"T_2322b_level2_col0\" class=\"col_heading level2 col0\" ></th>\n      <th id=\"T_2322b_level2_col1\" class=\"col_heading level2 col1\" ></th>\n      <th id=\"T_2322b_level2_col2\" class=\"col_heading level2 col2\" ></th>\n      <th id=\"T_2322b_level2_col3\" class=\"col_heading level2 col3\" ></th>\n      <th id=\"T_2322b_level2_col4\" class=\"col_heading level2 col4\" ></th>\n      <th id=\"T_2322b_level2_col5\" class=\"col_heading level2 col5\" ></th>\n      <th id=\"T_2322b_level2_col6\" class=\"col_heading level2 col6\" ></th>\n      <th id=\"T_2322b_level2_col7\" class=\"col_heading level2 col7\" ></th>\n      <th id=\"T_2322b_level2_col8\" class=\"col_heading level2 col8\" >beige</th>\n      <th id=\"T_2322b_level2_col9\" class=\"col_heading level2 col9\" >black</th>\n      <th id=\"T_2322b_level2_col10\" class=\"col_heading level2 col10\" >blue</th>\n      <th id=\"T_2322b_level2_col11\" class=\"col_heading level2 col11\" >brown</th>\n      <th id=\"T_2322b_level2_col12\" class=\"col_heading level2 col12\" >cyan</th>\n      <th id=\"T_2322b_level2_col13\" class=\"col_heading level2 col13\" >green</th>\n      <th id=\"T_2322b_level2_col14\" class=\"col_heading level2 col14\" >grey</th>\n      <th id=\"T_2322b_level2_col15\" class=\"col_heading level2 col15\" >orange</th>\n      <th id=\"T_2322b_level2_col16\" class=\"col_heading level2 col16\" >pink</th>\n      <th id=\"T_2322b_level2_col17\" class=\"col_heading level2 col17\" >purple</th>\n      <th id=\"T_2322b_level2_col18\" class=\"col_heading level2 col18\" >red</th>\n      <th id=\"T_2322b_level2_col19\" class=\"col_heading level2 col19\" >white</th>\n      <th id=\"T_2322b_level2_col20\" class=\"col_heading level2 col20\" >yellow</th>\n      <th id=\"T_2322b_level2_col21\" class=\"col_heading level2 col21\" >ambulance</th>\n      <th id=\"T_2322b_level2_col22\" class=\"col_heading level2 col22\" >firefighter</th>\n      <th id=\"T_2322b_level2_col23\" class=\"col_heading level2 col23\" >police</th>\n      <th id=\"T_2322b_level2_col24\" class=\"col_heading level2 col24\" >public worker</th>\n      <th id=\"T_2322b_level2_col25\" class=\"col_heading level2 col25\" >unknown</th>\n    </tr>\n    <tr>\n      <th class=\"index_name level0\" >id</th>\n      <th class=\"blank col0\" >&nbsp;</th>\n      <th class=\"blank col1\" >&nbsp;</th>\n      <th class=\"blank col2\" >&nbsp;</th>\n      <th class=\"blank col3\" >&nbsp;</th>\n      <th class=\"blank col4\" >&nbsp;</th>\n      <th class=\"blank col5\" >&nbsp;</th>\n      <th class=\"blank col6\" >&nbsp;</th>\n      <th class=\"blank col7\" >&nbsp;</th>\n      <th class=\"blank col8\" >&nbsp;</th>\n      <th class=\"blank col9\" >&nbsp;</th>\n      <th class=\"blank col10\" >&nbsp;</th>\n      <th class=\"blank col11\" >&nbsp;</th>\n      <th class=\"blank col12\" >&nbsp;</th>\n      <th class=\"blank col13\" >&nbsp;</th>\n      <th class=\"blank col14\" >&nbsp;</th>\n      <th class=\"blank col15\" >&nbsp;</th>\n      <th class=\"blank col16\" >&nbsp;</th>\n      <th class=\"blank col17\" >&nbsp;</th>\n      <th class=\"blank col18\" >&nbsp;</th>\n      <th class=\"blank col19\" >&nbsp;</th>\n      <th class=\"blank col20\" >&nbsp;</th>\n      <th class=\"blank col21\" >&nbsp;</th>\n      <th class=\"blank col22\" >&nbsp;</th>\n      <th class=\"blank col23\" >&nbsp;</th>\n      <th class=\"blank col24\" >&nbsp;</th>\n      <th class=\"blank col25\" >&nbsp;</th>\n    </tr>\n  </thead>\n  <tbody>\n    <tr>\n      <th id=\"T_2322b_level0_row0\" class=\"row_heading level0 row0\" >269791</th>\n      <td id=\"T_2322b_row0_col0\" class=\"data row0 col0\" >6091</td>\n      <td id=\"T_2322b_row0_col1\" class=\"data row0 col1\" >stop sign</td>\n      <td id=\"T_2322b_row0_col2\" class=\"data row0 col2\" >13</td>\n      <td id=\"T_2322b_row0_col3\" class=\"data row0 col3\" >100.220000</td>\n      <td id=\"T_2322b_row0_col4\" class=\"data row0 col4\" >117.540000</td>\n      <td id=\"T_2322b_row0_col5\" class=\"data row0 col5\" >253.430000</td>\n      <td id=\"T_2322b_row0_col6\" class=\"data row0 col6\" >274.900000</td>\n      <td id=\"T_2322b_row0_col7\" class=\"data row0 col7\" >46726.430300</td>\n      <td id=\"T_2322b_row0_col8\" class=\"data row0 col8\" >False</td>\n      <td id=\"T_2322b_row0_col9\" class=\"data row0 col9\" >False</td>\n      <td id=\"T_2322b_row0_col10\" class=\"data row0 col10\" >False</td>\n      <td id=\"T_2322b_row0_col11\" class=\"data row0 col11\" >False</td>\n      <td id=\"T_2322b_row0_col12\" class=\"data row0 col12\" >False</td>\n      <td id=\"T_2322b_row0_col13\" class=\"data row0 col13\" >False</td>\n      <td id=\"T_2322b_row0_col14\" class=\"data row0 col14\" >False</td>\n      <td id=\"T_2322b_row0_col15\" class=\"data row0 col15\" >False</td>\n      <td id=\"T_2322b_row0_col16\" class=\"data row0 col16\" >False</td>\n      <td id=\"T_2322b_row0_col17\" class=\"data row0 col17\" >False</td>\n      <td id=\"T_2322b_row0_col18\" class=\"data row0 col18\" >True</td>\n      <td id=\"T_2322b_row0_col19\" class=\"data row0 col19\" >True</td>\n      <td id=\"T_2322b_row0_col20\" class=\"data row0 col20\" >False</td>\n      <td id=\"T_2322b_row0_col21\" class=\"data row0 col21\" >False</td>\n      <td id=\"T_2322b_row0_col22\" class=\"data row0 col22\" >False</td>\n      <td id=\"T_2322b_row0_col23\" class=\"data row0 col23\" >True</td>\n      <td id=\"T_2322b_row0_col24\" class=\"data row0 col24\" >False</td>\n      <td id=\"T_2322b_row0_col25\" class=\"data row0 col25\" >False</td>\n    </tr>\n    <tr>\n      <th id=\"T_2322b_level0_row1\" class=\"row_heading level0 row1\" >1161234</th>\n      <td id=\"T_2322b_row1_col0\" class=\"data row1 col0\" >10395</td>\n      <td id=\"T_2322b_row1_col1\" class=\"data row1 col1\" >teddy bear</td>\n      <td id=\"T_2322b_row1_col2\" class=\"data row1 col2\" >88</td>\n      <td id=\"T_2322b_row1_col3\" class=\"data row1 col3\" >49.190000</td>\n      <td id=\"T_2322b_row1_col4\" class=\"data row1 col4\" >66.200000</td>\n      <td id=\"T_2322b_row1_col5\" class=\"data row1 col5\" >378.970000</td>\n      <td id=\"T_2322b_row1_col6\" class=\"data row1 col6\" >379.680000</td>\n      <td id=\"T_2322b_row1_col7\" class=\"data row1 col7\" >84587.439100</td>\n      <td id=\"T_2322b_row1_col8\" class=\"data row1 col8\" >False</td>\n      <td id=\"T_2322b_row1_col9\" class=\"data row1 col9\" >False</td>\n      <td id=\"T_2322b_row1_col10\" class=\"data row1 col10\" >False</td>\n      <td id=\"T_2322b_row1_col11\" class=\"data row1 col11\" >False</td>\n      <td id=\"T_2322b_row1_col12\" class=\"data row1 col12\" >False</td>\n      <td id=\"T_2322b_row1_col13\" class=\"data row1 col13\" >False</td>\n      <td id=\"T_2322b_row1_col14\" class=\"data row1 col14\" >True</td>\n      <td id=\"T_2322b_row1_col15\" class=\"data row1 col15\" >False</td>\n      <td id=\"T_2322b_row1_col16\" class=\"data row1 col16\" >False</td>\n      <td id=\"T_2322b_row1_col17\" class=\"data row1 col17\" >False</td>\n      <td id=\"T_2322b_row1_col18\" class=\"data row1 col18\" >False</td>\n      <td id=\"T_2322b_row1_col19\" class=\"data row1 col19\" >False</td>\n      <td id=\"T_2322b_row1_col20\" class=\"data row1 col20\" >False</td>\n      <td id=\"T_2322b_row1_col21\" class=\"data row1 col21\" >False</td>\n      <td id=\"T_2322b_row1_col22\" class=\"data row1 col22\" >False</td>\n      <td id=\"T_2322b_row1_col23\" class=\"data row1 col23\" >False</td>\n      <td id=\"T_2322b_row1_col24\" class=\"data row1 col24\" >False</td>\n      <td id=\"T_2322b_row1_col25\" class=\"data row1 col25\" >False</td>\n    </tr>\n  </tbody>\n</table>\n",
          "text/plain": "<pandas.io.formats.style.Styler at 0x7940f3fb1a10>"
         },
         "metadata": {},
         "output_type": "display_data"
        }
       ]
      }
     },
     "bed9c5fa40bc485789dba9e3612ceafd": {
      "model_module": "@jupyter-widgets/controls",
      "model_module_version": "2.0.0",
      "model_name": "FloatProgressModel",
      "state": {
       "bar_style": "success",
       "layout": "IPY_MODEL_cadffdf76f5a4d44aded5a695521220c",
       "max": 2,
       "style": "IPY_MODEL_eed00c8689c94ba086bb09f4323c3f08",
       "value": 2
      }
     },
     "bfa6e3c8d0154644a8f1bc866d765bf1": {
      "model_module": "@jupyter-widgets/base",
      "model_module_version": "2.0.0",
      "model_name": "LayoutModel",
      "state": {}
     },
     "bfd2fa6b793a471a860d53ca3bef5962": {
      "model_module": "@jupyter-widgets/base",
      "model_module_version": "2.0.0",
      "model_name": "LayoutModel",
      "state": {}
     },
     "c1bb38eb31d746ff9d9ed3db9965103a": {
      "model_module": "@jupyter-widgets/base",
      "model_module_version": "2.0.0",
      "model_name": "LayoutModel",
      "state": {}
     },
     "c243b96315184bbcb0ec3c0546ae1960": {
      "model_module": "@jupyter-widgets/base",
      "model_module_version": "2.0.0",
      "model_name": "LayoutModel",
      "state": {}
     },
     "c2537b897c9e44d187bb00f3f90cca5d": {
      "model_module": "@jupyter-widgets/controls",
      "model_module_version": "2.0.0",
      "model_name": "DescriptionStyleModel",
      "state": {
       "description_width": ""
      }
     },
     "c26a61ef70f74b7b8b1e313d68fa42fd": {
      "model_module": "@jupyter-widgets/base",
      "model_module_version": "2.0.0",
      "model_name": "LayoutModel",
      "state": {}
     },
     "c312a452a39d41109cb97feb1e702615": {
      "model_module": "@jupyter-widgets/base",
      "model_module_version": "2.0.0",
      "model_name": "LayoutModel",
      "state": {}
     },
     "c35c18c049e94cc7bffa41bb78ea7b9f": {
      "model_module": "@jupyter-widgets/controls",
      "model_module_version": "2.0.0",
      "model_name": "ToggleButtonsStyleModel",
      "state": {
       "button_width": "auto",
       "description_width": ""
      }
     },
     "c38b00829145442599727fa4c420ab9b": {
      "model_module": "@jupyter-widgets/base",
      "model_module_version": "2.0.0",
      "model_name": "LayoutModel",
      "state": {}
     },
     "c420a1ba67204f2cb048a67e0655688b": {
      "model_module": "@jupyter-widgets/controls",
      "model_module_version": "2.0.0",
      "model_name": "LabelStyleModel",
      "state": {
       "description_width": "",
       "font_family": null,
       "font_size": null,
       "font_style": null,
       "font_variant": null,
       "font_weight": null,
       "text_color": null,
       "text_decoration": null
      }
     },
     "c49337a1fb2e46cd85d83c5aca262060": {
      "model_module": "@jupyter-widgets/base",
      "model_module_version": "2.0.0",
      "model_name": "LayoutModel",
      "state": {}
     },
     "c50789bee7754ba2bab3591d4f9b4b8c": {
      "model_module": "@jupyter-widgets/controls",
      "model_module_version": "2.0.0",
      "model_name": "StackModel",
      "state": {
       "children": [
        "IPY_MODEL_d5447602cc9a44d9857640353e9ae63c",
        "IPY_MODEL_200609463d994d1f9a047bd8b9ae8e8c"
       ],
       "layout": "IPY_MODEL_f01ce08dade445cf9dcec47719defcb1",
       "selected_index": 1,
       "titles": [
        "",
        ""
       ]
      }
     },
     "c57572e0d3174255bbd88cd5051db3db": {
      "model_module": "@jupyter-widgets/controls",
      "model_module_version": "2.0.0",
      "model_name": "StackModel",
      "state": {
       "children": [
        "IPY_MODEL_680b7700c0a14cf5a7389052d79a3a2c",
        "IPY_MODEL_8648df6315114b2492ac1edd4678d530"
       ],
       "layout": "IPY_MODEL_6e5c8485f56a4d25a004ceffab205073",
       "selected_index": 1,
       "titles": [
        "",
        ""
       ]
      }
     },
     "c5bf9bebc8af4c119f0bd5c509dede0c": {
      "model_module": "@jupyter-widgets/controls",
      "model_module_version": "2.0.0",
      "model_name": "TabModel",
      "state": {
       "children": [
        "IPY_MODEL_ea0a6048ceb44971885be4794cdb868a",
        "IPY_MODEL_df4fa4235583412e99ca755ce2dc0973",
        "IPY_MODEL_dafaadda2d2244afae46bf52c636999e"
       ],
       "layout": "IPY_MODEL_71e265ccab664fe9b9ef55e3231b9f7e",
       "selected_index": 0,
       "titles": [
        "Images",
        "Annotations",
        "Label Map"
       ]
      }
     },
     "c68021dbecb143ec8ae71e00749a7578": {
      "model_module": "@jupyter-widgets/controls",
      "model_module_version": "2.0.0",
      "model_name": "LabelModel",
      "state": {
       "layout": "IPY_MODEL_cdda066680d945ddaea2b002569aa900",
       "style": "IPY_MODEL_c420a1ba67204f2cb048a67e0655688b",
       "value": "Column format"
      }
     },
     "c79ba4614aa6499b84b17119d9213833": {
      "model_module": "@jupyter-widgets/base",
      "model_module_version": "2.0.0",
      "model_name": "LayoutModel",
      "state": {}
     },
     "ca3b29d92ed84fa4981a912c3d477e0f": {
      "model_module": "@jupyter-widgets/output",
      "model_module_version": "1.0.0",
      "model_name": "OutputModel",
      "state": {
       "layout": "IPY_MODEL_04e46c56624b4f56bfeea1e9495e2717",
       "outputs": [
        {
         "data": {
          "text/html": "<div>\n<style scoped>\n    .dataframe tbody tr th:only-of-type {\n        vertical-align: middle;\n    }\n\n    .dataframe tbody tr th {\n        vertical-align: top;\n    }\n\n    .dataframe thead th {\n        text-align: right;\n    }\n</style>\n<table border=\"1\" class=\"dataframe\">\n  <thead>\n    <tr style=\"text-align: right;\">\n      <th></th>\n      <th>width</th>\n      <th>height</th>\n      <th>relative_path</th>\n      <th>type</th>\n      <th>tags.location</th>\n      <th>tags.spectrum</th>\n      <th>tags.time</th>\n    </tr>\n    <tr>\n      <th>id</th>\n      <th></th>\n      <th></th>\n      <th></th>\n      <th></th>\n      <th></th>\n      <th></th>\n      <th></th>\n    </tr>\n  </thead>\n  <tbody>\n    <tr>\n      <th>6091</th>\n      <td>480</td>\n      <td>640</td>\n      <td>image1.jpg</td>\n      <td>.jpg</td>\n      <td>exterior</td>\n      <td>RGB</td>\n      <td>night</td>\n    </tr>\n    <tr>\n      <th>10395</th>\n      <td>500</td>\n      <td>476</td>\n      <td>image2.jpg</td>\n      <td>.jpg</td>\n      <td>exterior</td>\n      <td>RGB</td>\n      <td>night</td>\n    </tr>\n  </tbody>\n</table>\n</div>",
          "text/plain": "       width  height relative_path  type tags.location tags.spectrum tags.time\nid                                                                            \n6091     480     640    image1.jpg  .jpg      exterior           RGB     night\n10395    500     476    image2.jpg  .jpg      exterior           RGB     night"
         },
         "metadata": {},
         "output_type": "display_data"
        }
       ]
      }
     },
     "ca41e0229000482e88010897dd0b16df": {
      "model_module": "@jupyter-widgets/base",
      "model_module_version": "2.0.0",
      "model_name": "LayoutModel",
      "state": {}
     },
     "ca7c76f4872f49e3b487add5d0241be2": {
      "model_module": "@jupyter-widgets/output",
      "model_module_version": "1.0.0",
      "model_name": "OutputModel",
      "state": {
       "layout": "IPY_MODEL_9ccf11c04ffa43e5a8c5689bdb672f41",
       "outputs": [
        {
         "data": {
          "text/html": "<style type=\"text/css\">\n#T_13193 th {\n  border-right: 1px solid #F0F0F0;\n}\n</style>\n<table id=\"T_13193\">\n  <thead>\n    <tr>\n      <th class=\"blank level0\" >&nbsp;</th>\n      <th id=\"T_13193_level0_col0\" class=\"col_heading level0 col0\" >image_id</th>\n      <th id=\"T_13193_level0_col1\" class=\"col_heading level0 col1\" >category_str</th>\n      <th id=\"T_13193_level0_col2\" class=\"col_heading level0 col2\" >category_id</th>\n      <th id=\"T_13193_level0_col3\" class=\"col_heading level0 col3\" >box_x_min</th>\n      <th id=\"T_13193_level0_col4\" class=\"col_heading level0 col4\" >box_y_min</th>\n      <th id=\"T_13193_level0_col5\" class=\"col_heading level0 col5\" >box_width</th>\n      <th id=\"T_13193_level0_col6\" class=\"col_heading level0 col6\" >box_height</th>\n      <th id=\"T_13193_level0_col7\" class=\"col_heading level0 col7\" >area</th>\n      <th id=\"T_13193_level0_col8\" class=\"col_heading level0 col8\" colspan=\"2\">attributes</th>\n    </tr>\n    <tr>\n      <th class=\"blank level1\" >&nbsp;</th>\n      <th id=\"T_13193_level1_col0\" class=\"col_heading level1 col0\" ></th>\n      <th id=\"T_13193_level1_col1\" class=\"col_heading level1 col1\" ></th>\n      <th id=\"T_13193_level1_col2\" class=\"col_heading level1 col2\" ></th>\n      <th id=\"T_13193_level1_col3\" class=\"col_heading level1 col3\" ></th>\n      <th id=\"T_13193_level1_col4\" class=\"col_heading level1 col4\" ></th>\n      <th id=\"T_13193_level1_col5\" class=\"col_heading level1 col5\" ></th>\n      <th id=\"T_13193_level1_col6\" class=\"col_heading level1 col6\" ></th>\n      <th id=\"T_13193_level1_col7\" class=\"col_heading level1 col7\" ></th>\n      <th id=\"T_13193_level1_col8\" class=\"col_heading level1 col8\" >colors</th>\n      <th id=\"T_13193_level1_col9\" class=\"col_heading level1 col9\" >job</th>\n    </tr>\n    <tr>\n      <th class=\"index_name level0\" >id</th>\n      <th class=\"blank col0\" >&nbsp;</th>\n      <th class=\"blank col1\" >&nbsp;</th>\n      <th class=\"blank col2\" >&nbsp;</th>\n      <th class=\"blank col3\" >&nbsp;</th>\n      <th class=\"blank col4\" >&nbsp;</th>\n      <th class=\"blank col5\" >&nbsp;</th>\n      <th class=\"blank col6\" >&nbsp;</th>\n      <th class=\"blank col7\" >&nbsp;</th>\n      <th class=\"blank col8\" >&nbsp;</th>\n      <th class=\"blank col9\" >&nbsp;</th>\n    </tr>\n  </thead>\n  <tbody>\n    <tr>\n      <th id=\"T_13193_level0_row0\" class=\"row_heading level0 row0\" >269791</th>\n      <td id=\"T_13193_row0_col0\" class=\"data row0 col0\" >6091</td>\n      <td id=\"T_13193_row0_col1\" class=\"data row0 col1\" >stop sign</td>\n      <td id=\"T_13193_row0_col2\" class=\"data row0 col2\" >13</td>\n      <td id=\"T_13193_row0_col3\" class=\"data row0 col3\" >100.220000</td>\n      <td id=\"T_13193_row0_col4\" class=\"data row0 col4\" >117.540000</td>\n      <td id=\"T_13193_row0_col5\" class=\"data row0 col5\" >253.430000</td>\n      <td id=\"T_13193_row0_col6\" class=\"data row0 col6\" >274.900000</td>\n      <td id=\"T_13193_row0_col7\" class=\"data row0 col7\" >46726.430300</td>\n      <td id=\"T_13193_row0_col8\" class=\"data row0 col8\" >['red', 'white']</td>\n      <td id=\"T_13193_row0_col9\" class=\"data row0 col9\" >['police']</td>\n    </tr>\n  </tbody>\n</table>\n",
          "text/plain": "<pandas.io.formats.style.Styler at 0x7940f3a68790>"
         },
         "metadata": {},
         "output_type": "display_data"
        }
       ]
      }
     },
     "cadffdf76f5a4d44aded5a695521220c": {
      "model_module": "@jupyter-widgets/base",
      "model_module_version": "2.0.0",
      "model_name": "LayoutModel",
      "state": {}
     },
     "cb0e963631cb4d55a80900c365cdcbcf": {
      "model_module": "@jupyter-widgets/controls",
      "model_module_version": "2.0.0",
      "model_name": "HBoxModel",
      "state": {
       "children": [
        "IPY_MODEL_2eb5a09f0dd9439f8e897a5aea0e216f",
        "IPY_MODEL_d8f01a0665d142f980214ff0509a664d"
       ],
       "layout": "IPY_MODEL_43749d59f28e483c96d433258e9c7744"
      }
     },
     "cb2e6fc81a814f04ba2bc97d91516e68": {
      "model_module": "@jupyter-widgets/output",
      "model_module_version": "1.0.0",
      "model_name": "OutputModel",
      "state": {
       "layout": "IPY_MODEL_64f63783a7d14fdc8cdeefdef6eb6fb4",
       "outputs": [
        {
         "data": {
          "text/html": "<style type=\"text/css\">\n#T_b2279 th {\n  border-right: 1px solid #F0F0F0;\n}\n</style>\n<table id=\"T_b2279\">\n  <thead>\n    <tr>\n      <th class=\"blank level0\" >&nbsp;</th>\n      <th id=\"T_b2279_level0_col0\" class=\"col_heading level0 col0\" >width</th>\n      <th id=\"T_b2279_level0_col1\" class=\"col_heading level0 col1\" >height</th>\n      <th id=\"T_b2279_level0_col2\" class=\"col_heading level0 col2\" >relative_path</th>\n      <th id=\"T_b2279_level0_col3\" class=\"col_heading level0 col3\" >type</th>\n      <th id=\"T_b2279_level0_col4\" class=\"col_heading level0 col4\" colspan=\"3\">tags</th>\n    </tr>\n    <tr>\n      <th class=\"blank level1\" >&nbsp;</th>\n      <th id=\"T_b2279_level1_col0\" class=\"col_heading level1 col0\" ></th>\n      <th id=\"T_b2279_level1_col1\" class=\"col_heading level1 col1\" ></th>\n      <th id=\"T_b2279_level1_col2\" class=\"col_heading level1 col2\" ></th>\n      <th id=\"T_b2279_level1_col3\" class=\"col_heading level1 col3\" ></th>\n      <th id=\"T_b2279_level1_col4\" class=\"col_heading level1 col4\" >location</th>\n      <th id=\"T_b2279_level1_col5\" class=\"col_heading level1 col5\" >spectrum</th>\n      <th id=\"T_b2279_level1_col6\" class=\"col_heading level1 col6\" >time</th>\n    </tr>\n    <tr>\n      <th class=\"index_name level0\" >id</th>\n      <th class=\"blank col0\" >&nbsp;</th>\n      <th class=\"blank col1\" >&nbsp;</th>\n      <th class=\"blank col2\" >&nbsp;</th>\n      <th class=\"blank col3\" >&nbsp;</th>\n      <th class=\"blank col4\" >&nbsp;</th>\n      <th class=\"blank col5\" >&nbsp;</th>\n      <th class=\"blank col6\" >&nbsp;</th>\n    </tr>\n  </thead>\n  <tbody>\n    <tr>\n      <th id=\"T_b2279_level0_row0\" class=\"row_heading level0 row0\" >6091</th>\n      <td id=\"T_b2279_row0_col0\" class=\"data row0 col0\" >480</td>\n      <td id=\"T_b2279_row0_col1\" class=\"data row0 col1\" >640</td>\n      <td id=\"T_b2279_row0_col2\" class=\"data row0 col2\" >image1.jpg</td>\n      <td id=\"T_b2279_row0_col3\" class=\"data row0 col3\" >.jpg</td>\n      <td id=\"T_b2279_row0_col4\" class=\"data row0 col4\" >exterior</td>\n      <td id=\"T_b2279_row0_col5\" class=\"data row0 col5\" >RGB</td>\n      <td id=\"T_b2279_row0_col6\" class=\"data row0 col6\" >night</td>\n    </tr>\n    <tr>\n      <th id=\"T_b2279_level0_row1\" class=\"row_heading level0 row1\" >10395</th>\n      <td id=\"T_b2279_row1_col0\" class=\"data row1 col0\" >500</td>\n      <td id=\"T_b2279_row1_col1\" class=\"data row1 col1\" >476</td>\n      <td id=\"T_b2279_row1_col2\" class=\"data row1 col2\" >image2.jpg</td>\n      <td id=\"T_b2279_row1_col3\" class=\"data row1 col3\" >.jpg</td>\n      <td id=\"T_b2279_row1_col4\" class=\"data row1 col4\" >exterior</td>\n      <td id=\"T_b2279_row1_col5\" class=\"data row1 col5\" >RGB</td>\n      <td id=\"T_b2279_row1_col6\" class=\"data row1 col6\" >night</td>\n    </tr>\n  </tbody>\n</table>\n",
          "text/plain": "<pandas.io.formats.style.Styler at 0x7940f3adf210>"
         },
         "metadata": {},
         "output_type": "display_data"
        }
       ]
      }
     },
     "cb303aee35014106aacdd30b2be230e2": {
      "model_module": "@jupyter-widgets/base",
      "model_module_version": "2.0.0",
      "model_name": "LayoutModel",
      "state": {}
     },
     "cc0668f5b663474d813ad1e6694edf83": {
      "model_module": "@jupyter-widgets/controls",
      "model_module_version": "2.0.0",
      "model_name": "LabelModel",
      "state": {
       "layout": "IPY_MODEL_3f321faf0de3434585a47c7485781ddf",
       "style": "IPY_MODEL_1de0daa9b3de4ded941f28072774630e",
       "value": "Column format"
      }
     },
     "cc4b7f0300ab4764a9f4e9656e82f208": {
      "model_module": "@jupyter-widgets/controls",
      "model_module_version": "2.0.0",
      "model_name": "ToggleButtonsStyleModel",
      "state": {
       "button_width": "auto",
       "description_width": ""
      }
     },
     "cc78d96e04854349b11c5234e852f6da": {
      "model_module": "@jupyter-widgets/controls",
      "model_module_version": "2.0.0",
      "model_name": "LabelStyleModel",
      "state": {
       "description_width": "",
       "font_family": null,
       "font_size": null,
       "font_style": null,
       "font_variant": null,
       "font_weight": null,
       "text_color": null,
       "text_decoration": null
      }
     },
     "cc9489d8e5e24588b9fe79423bda8b8a": {
      "model_module": "@jupyter-widgets/controls",
      "model_module_version": "2.0.0",
      "model_name": "VBoxModel",
      "state": {
       "children": [
        "IPY_MODEL_60fb081928d34f25b1131fac221a5c83",
        "IPY_MODEL_c5bf9bebc8af4c119f0bd5c509dede0c"
       ],
       "layout": "IPY_MODEL_28f24a34506f4f3a81c7a0aee4488730"
      }
     },
     "cd9ef769de65469b8d1cdf61f9ecf266": {
      "model_module": "@jupyter-widgets/controls",
      "model_module_version": "2.0.0",
      "model_name": "LabelStyleModel",
      "state": {
       "description_width": "",
       "font_family": null,
       "font_size": null,
       "font_style": null,
       "font_variant": null,
       "font_weight": null,
       "text_color": null,
       "text_decoration": null
      }
     },
     "cdda066680d945ddaea2b002569aa900": {
      "model_module": "@jupyter-widgets/base",
      "model_module_version": "2.0.0",
      "model_name": "LayoutModel",
      "state": {}
     },
     "ceb29c60259946778e7b1c5c11f394c4": {
      "model_module": "@jupyter-widgets/controls",
      "model_module_version": "2.0.0",
      "model_name": "DropdownModel",
      "state": {
       "_options_labels": [
        "raw",
        "nested"
       ],
       "index": 0,
       "layout": "IPY_MODEL_29e603c11d8d4d73a8133fab2187783d",
       "style": "IPY_MODEL_b21f00cedbca408fa98e80b6b9177c77"
      }
     },
     "cf54d782dd024806a69f564ace26aaf7": {
      "model_module": "@jupyter-widgets/base",
      "model_module_version": "2.0.0",
      "model_name": "LayoutModel",
      "state": {}
     },
     "d0eb5159b5714eb5ac73be47f210dee9": {
      "model_module": "@jupyter-widgets/controls",
      "model_module_version": "2.0.0",
      "model_name": "LabelStyleModel",
      "state": {
       "description_width": "",
       "font_family": null,
       "font_size": null,
       "font_style": null,
       "font_variant": null,
       "font_weight": null,
       "text_color": null,
       "text_decoration": null
      }
     },
     "d0f7740d4b29478a8b1b05f8583a2836": {
      "model_module": "@jupyter-widgets/controls",
      "model_module_version": "2.0.0",
      "model_name": "HTMLModel",
      "state": {
       "layout": "IPY_MODEL_4851d84bd1a045ae8a98286271d3cd41",
       "style": "IPY_MODEL_ee5854ff501649758ccad33bb0edf5de",
       "value": "100%"
      }
     },
     "d25defcce6c54f7f80a7c683e6db8f60": {
      "model_module": "@jupyter-widgets/output",
      "model_module_version": "1.0.0",
      "model_name": "OutputModel",
      "state": {
       "layout": "IPY_MODEL_790e943d3bd54799a356f5851dfc06df",
       "outputs": [
        {
         "data": {
          "text/html": "<div>\n<style scoped>\n    .dataframe tbody tr th:only-of-type {\n        vertical-align: middle;\n    }\n\n    .dataframe tbody tr th {\n        vertical-align: top;\n    }\n\n    .dataframe thead th {\n        text-align: right;\n    }\n</style>\n<table border=\"1\" class=\"dataframe\">\n  <thead>\n    <tr style=\"text-align: right;\">\n      <th></th>\n      <th>image_id</th>\n      <th>category_str</th>\n      <th>category_id</th>\n      <th>box_x_min</th>\n      <th>box_y_min</th>\n      <th>box_width</th>\n      <th>box_height</th>\n      <th>area</th>\n      <th>attributes.colors</th>\n      <th>attributes.job</th>\n    </tr>\n    <tr>\n      <th>id</th>\n      <th></th>\n      <th></th>\n      <th></th>\n      <th></th>\n      <th></th>\n      <th></th>\n      <th></th>\n      <th></th>\n      <th></th>\n      <th></th>\n    </tr>\n  </thead>\n  <tbody>\n    <tr>\n      <th>269791</th>\n      <td>6091</td>\n      <td>stop sign</td>\n      <td>13</td>\n      <td>100.22</td>\n      <td>117.54</td>\n      <td>253.43</td>\n      <td>274.90</td>\n      <td>46726.4303</td>\n      <td>[red, white]</td>\n      <td>[police]</td>\n    </tr>\n    <tr>\n      <th>1161234</th>\n      <td>10395</td>\n      <td>teddy bear</td>\n      <td>88</td>\n      <td>49.19</td>\n      <td>66.20</td>\n      <td>378.97</td>\n      <td>379.68</td>\n      <td>84587.4391</td>\n      <td>[grey]</td>\n      <td>None</td>\n    </tr>\n  </tbody>\n</table>\n</div>",
          "text/plain": "         image_id category_str  category_id  box_x_min  box_y_min  box_width  \\\nid                                                                             \n269791       6091    stop sign           13     100.22     117.54     253.43   \n1161234     10395   teddy bear           88      49.19      66.20     378.97   \n\n         box_height        area attributes.colors attributes.job  \nid                                                                \n269791       274.90  46726.4303      [red, white]       [police]  \n1161234      379.68  84587.4391            [grey]           None  "
         },
         "metadata": {},
         "output_type": "display_data"
        }
       ]
      }
     },
     "d3a486cd1a444ce297c04754d3229f07": {
      "model_module": "@jupyter-widgets/output",
      "model_module_version": "1.0.0",
      "model_name": "OutputModel",
      "state": {
       "layout": "IPY_MODEL_bfd2fa6b793a471a860d53ca3bef5962",
       "outputs": [
        {
         "data": {
          "text/html": "<style type=\"text/css\">\n#T_c7bb9 th {\n  border-right: 1px solid #F0F0F0;\n}\n</style>\n<table id=\"T_c7bb9\">\n  <thead>\n    <tr>\n      <th class=\"blank level0\" >&nbsp;</th>\n      <th id=\"T_c7bb9_level0_col0\" class=\"col_heading level0 col0\" >width</th>\n      <th id=\"T_c7bb9_level0_col1\" class=\"col_heading level0 col1\" >height</th>\n      <th id=\"T_c7bb9_level0_col2\" class=\"col_heading level0 col2\" >relative_path</th>\n      <th id=\"T_c7bb9_level0_col3\" class=\"col_heading level0 col3\" >type</th>\n      <th id=\"T_c7bb9_level0_col4\" class=\"col_heading level0 col4\" colspan=\"3\">tags</th>\n    </tr>\n    <tr>\n      <th class=\"blank level1\" >&nbsp;</th>\n      <th id=\"T_c7bb9_level1_col0\" class=\"col_heading level1 col0\" ></th>\n      <th id=\"T_c7bb9_level1_col1\" class=\"col_heading level1 col1\" ></th>\n      <th id=\"T_c7bb9_level1_col2\" class=\"col_heading level1 col2\" ></th>\n      <th id=\"T_c7bb9_level1_col3\" class=\"col_heading level1 col3\" ></th>\n      <th id=\"T_c7bb9_level1_col4\" class=\"col_heading level1 col4\" >location</th>\n      <th id=\"T_c7bb9_level1_col5\" class=\"col_heading level1 col5\" >spectrum</th>\n      <th id=\"T_c7bb9_level1_col6\" class=\"col_heading level1 col6\" >time</th>\n    </tr>\n    <tr>\n      <th class=\"index_name level0\" >id</th>\n      <th class=\"blank col0\" >&nbsp;</th>\n      <th class=\"blank col1\" >&nbsp;</th>\n      <th class=\"blank col2\" >&nbsp;</th>\n      <th class=\"blank col3\" >&nbsp;</th>\n      <th class=\"blank col4\" >&nbsp;</th>\n      <th class=\"blank col5\" >&nbsp;</th>\n      <th class=\"blank col6\" >&nbsp;</th>\n    </tr>\n  </thead>\n  <tbody>\n    <tr>\n      <th id=\"T_c7bb9_level0_row0\" class=\"row_heading level0 row0\" >6091</th>\n      <td id=\"T_c7bb9_row0_col0\" class=\"data row0 col0\" >480</td>\n      <td id=\"T_c7bb9_row0_col1\" class=\"data row0 col1\" >640</td>\n      <td id=\"T_c7bb9_row0_col2\" class=\"data row0 col2\" >image1.jpg</td>\n      <td id=\"T_c7bb9_row0_col3\" class=\"data row0 col3\" >.jpg</td>\n      <td id=\"T_c7bb9_row0_col4\" class=\"data row0 col4\" >exterior</td>\n      <td id=\"T_c7bb9_row0_col5\" class=\"data row0 col5\" >RGB</td>\n      <td id=\"T_c7bb9_row0_col6\" class=\"data row0 col6\" >night</td>\n    </tr>\n    <tr>\n      <th id=\"T_c7bb9_level0_row1\" class=\"row_heading level0 row1\" >10395</th>\n      <td id=\"T_c7bb9_row1_col0\" class=\"data row1 col0\" >500</td>\n      <td id=\"T_c7bb9_row1_col1\" class=\"data row1 col1\" >476</td>\n      <td id=\"T_c7bb9_row1_col2\" class=\"data row1 col2\" >image2.jpg</td>\n      <td id=\"T_c7bb9_row1_col3\" class=\"data row1 col3\" >.jpg</td>\n      <td id=\"T_c7bb9_row1_col4\" class=\"data row1 col4\" >exterior</td>\n      <td id=\"T_c7bb9_row1_col5\" class=\"data row1 col5\" >RGB</td>\n      <td id=\"T_c7bb9_row1_col6\" class=\"data row1 col6\" >night</td>\n    </tr>\n  </tbody>\n</table>\n",
          "text/plain": "<pandas.io.formats.style.Styler at 0x7940f3a25590>"
         },
         "metadata": {},
         "output_type": "display_data"
        }
       ]
      }
     },
     "d3a6685dd7964e378992623047f4ada6": {
      "model_module": "@jupyter-widgets/output",
      "model_module_version": "1.0.0",
      "model_name": "OutputModel",
      "state": {
       "layout": "IPY_MODEL_7bd56e76409940a2bae7367eb1a573d8",
       "outputs": [
        {
         "data": {
          "text/html": "<style type=\"text/css\">\n#T_859df th {\n  border-right: 1px solid #F0F0F0;\n}\n</style>\n<table id=\"T_859df\">\n  <thead>\n    <tr>\n      <th class=\"blank level0\" >&nbsp;</th>\n      <th id=\"T_859df_level0_col0\" class=\"col_heading level0 col0\" >width</th>\n      <th id=\"T_859df_level0_col1\" class=\"col_heading level0 col1\" >height</th>\n      <th id=\"T_859df_level0_col2\" class=\"col_heading level0 col2\" >relative_path</th>\n      <th id=\"T_859df_level0_col3\" class=\"col_heading level0 col3\" >type</th>\n      <th id=\"T_859df_level0_col4\" class=\"col_heading level0 col4\" colspan=\"3\">tags</th>\n    </tr>\n    <tr>\n      <th class=\"blank level1\" >&nbsp;</th>\n      <th id=\"T_859df_level1_col0\" class=\"col_heading level1 col0\" ></th>\n      <th id=\"T_859df_level1_col1\" class=\"col_heading level1 col1\" ></th>\n      <th id=\"T_859df_level1_col2\" class=\"col_heading level1 col2\" ></th>\n      <th id=\"T_859df_level1_col3\" class=\"col_heading level1 col3\" ></th>\n      <th id=\"T_859df_level1_col4\" class=\"col_heading level1 col4\" >location</th>\n      <th id=\"T_859df_level1_col5\" class=\"col_heading level1 col5\" >spectrum</th>\n      <th id=\"T_859df_level1_col6\" class=\"col_heading level1 col6\" >time</th>\n    </tr>\n    <tr>\n      <th class=\"index_name level0\" >id</th>\n      <th class=\"blank col0\" >&nbsp;</th>\n      <th class=\"blank col1\" >&nbsp;</th>\n      <th class=\"blank col2\" >&nbsp;</th>\n      <th class=\"blank col3\" >&nbsp;</th>\n      <th class=\"blank col4\" >&nbsp;</th>\n      <th class=\"blank col5\" >&nbsp;</th>\n      <th class=\"blank col6\" >&nbsp;</th>\n    </tr>\n  </thead>\n  <tbody>\n    <tr>\n      <th id=\"T_859df_level0_row0\" class=\"row_heading level0 row0\" >6091</th>\n      <td id=\"T_859df_row0_col0\" class=\"data row0 col0\" >480</td>\n      <td id=\"T_859df_row0_col1\" class=\"data row0 col1\" >640</td>\n      <td id=\"T_859df_row0_col2\" class=\"data row0 col2\" >image1.jpg</td>\n      <td id=\"T_859df_row0_col3\" class=\"data row0 col3\" >.jpg</td>\n      <td id=\"T_859df_row0_col4\" class=\"data row0 col4\" >exterior</td>\n      <td id=\"T_859df_row0_col5\" class=\"data row0 col5\" >RGB</td>\n      <td id=\"T_859df_row0_col6\" class=\"data row0 col6\" >night</td>\n    </tr>\n    <tr>\n      <th id=\"T_859df_level0_row1\" class=\"row_heading level0 row1\" >10395</th>\n      <td id=\"T_859df_row1_col0\" class=\"data row1 col0\" >500</td>\n      <td id=\"T_859df_row1_col1\" class=\"data row1 col1\" >476</td>\n      <td id=\"T_859df_row1_col2\" class=\"data row1 col2\" >image2.jpg</td>\n      <td id=\"T_859df_row1_col3\" class=\"data row1 col3\" >.jpg</td>\n      <td id=\"T_859df_row1_col4\" class=\"data row1 col4\" >exterior</td>\n      <td id=\"T_859df_row1_col5\" class=\"data row1 col5\" >RGB</td>\n      <td id=\"T_859df_row1_col6\" class=\"data row1 col6\" >night</td>\n    </tr>\n  </tbody>\n</table>\n",
          "text/plain": "<pandas.io.formats.style.Styler at 0x7940f3951e50>"
         },
         "metadata": {},
         "output_type": "display_data"
        }
       ]
      }
     },
     "d3c40da0b4014fe99f266a6ced07e74e": {
      "model_module": "@jupyter-widgets/base",
      "model_module_version": "2.0.0",
      "model_name": "LayoutModel",
      "state": {}
     },
     "d3e685051a8049a0bb805111c553034b": {
      "model_module": "@jupyter-widgets/controls",
      "model_module_version": "2.0.0",
      "model_name": "DropdownModel",
      "state": {
       "_options_labels": [
        "raw",
        "nested"
       ],
       "index": 1,
       "layout": "IPY_MODEL_63d3103578f143eda9ef744c4199b33a",
       "style": "IPY_MODEL_00178f21f8804fc2baa6277c97ce20b1"
      }
     },
     "d5447602cc9a44d9857640353e9ae63c": {
      "model_module": "@jupyter-widgets/output",
      "model_module_version": "1.0.0",
      "model_name": "OutputModel",
      "state": {
       "layout": "IPY_MODEL_550c13d08bcd4a42bb9187e8a9a2079b",
       "outputs": [
        {
         "data": {
          "text/html": "<div>\n<style scoped>\n    .dataframe tbody tr th:only-of-type {\n        vertical-align: middle;\n    }\n\n    .dataframe tbody tr th {\n        vertical-align: top;\n    }\n\n    .dataframe thead th {\n        text-align: right;\n    }\n</style>\n<table border=\"1\" class=\"dataframe\">\n  <thead>\n    <tr style=\"text-align: right;\">\n      <th></th>\n      <th>image_id</th>\n      <th>category_str</th>\n      <th>category_id</th>\n      <th>box_x_min</th>\n      <th>box_y_min</th>\n      <th>box_width</th>\n      <th>box_height</th>\n      <th>area</th>\n      <th>attributes.colors</th>\n      <th>attributes.job</th>\n    </tr>\n    <tr>\n      <th>id</th>\n      <th></th>\n      <th></th>\n      <th></th>\n      <th></th>\n      <th></th>\n      <th></th>\n      <th></th>\n      <th></th>\n      <th></th>\n      <th></th>\n    </tr>\n  </thead>\n  <tbody>\n    <tr>\n      <th>269791</th>\n      <td>6091</td>\n      <td>stop sign</td>\n      <td>13</td>\n      <td>100.22</td>\n      <td>117.54</td>\n      <td>253.43</td>\n      <td>274.90</td>\n      <td>46726.4303</td>\n      <td>[red, white]</td>\n      <td>[police]</td>\n    </tr>\n    <tr>\n      <th>1161234</th>\n      <td>10395</td>\n      <td>teddy bear</td>\n      <td>88</td>\n      <td>49.19</td>\n      <td>66.20</td>\n      <td>378.97</td>\n      <td>379.68</td>\n      <td>84587.4391</td>\n      <td>[grey]</td>\n      <td>None</td>\n    </tr>\n  </tbody>\n</table>\n</div>",
          "text/plain": "         image_id category_str  category_id  box_x_min  box_y_min  box_width  \\\nid                                                                             \n269791       6091    stop sign           13     100.22     117.54     253.43   \n1161234     10395   teddy bear           88      49.19      66.20     378.97   \n\n         box_height        area attributes.colors attributes.job  \nid                                                                \n269791       274.90  46726.4303      [red, white]       [police]  \n1161234      379.68  84587.4391            [grey]           None  "
         },
         "metadata": {},
         "output_type": "display_data"
        }
       ]
      }
     },
     "d6e21ce9a5f3412886c186679898f12f": {
      "model_module": "@jupyter-widgets/controls",
      "model_module_version": "2.0.0",
      "model_name": "LabelStyleModel",
      "state": {
       "description_width": "",
       "font_family": null,
       "font_size": null,
       "font_style": null,
       "font_variant": null,
       "font_weight": null,
       "text_color": null,
       "text_decoration": null
      }
     },
     "d794635bdf3742728bced6b026683db0": {
      "model_module": "@jupyter-widgets/controls",
      "model_module_version": "2.0.0",
      "model_name": "StackModel",
      "state": {
       "children": [
        "IPY_MODEL_116b4624ae8e411bb06cfcdbb7ffa397",
        "IPY_MODEL_5a0bb661dfe74bd78d608a11e6a3dfde"
       ],
       "layout": "IPY_MODEL_6c8a181f12d442fa997a6c9d13026986",
       "selected_index": 1,
       "titles": [
        "",
        ""
       ]
      }
     },
     "d8771d6d18fe4fcf8605a1c5e15e00ce": {
      "model_module": "@jupyter-widgets/controls",
      "model_module_version": "2.0.0",
      "model_name": "StackModel",
      "state": {
       "children": [
        "IPY_MODEL_14132848699c469eabd3abd14b660851",
        "IPY_MODEL_bdff13ea6d5f48eeb2829006cfb36d84"
       ],
       "layout": "IPY_MODEL_6aff1ed1e96a4861a2e091eec3efa902",
       "selected_index": 0,
       "titles": [
        "",
        ""
       ]
      }
     },
     "d8f01a0665d142f980214ff0509a664d": {
      "model_module": "@jupyter-widgets/controls",
      "model_module_version": "2.0.0",
      "model_name": "DropdownModel",
      "state": {
       "_options_labels": [
        "raw",
        "nested"
       ],
       "index": 1,
       "layout": "IPY_MODEL_025e2d92d09d4dc1960241d7f82b00ff",
       "style": "IPY_MODEL_83e111e3a0f6439dbc26d3b0ecc5eb02"
      }
     },
     "d90e23fdc5de4e8693d06d1487f664fc": {
      "model_module": "@jupyter-widgets/base",
      "model_module_version": "2.0.0",
      "model_name": "LayoutModel",
      "state": {
       "width": "auto"
      }
     },
     "d94b69cea45e49978b12cae3fe9c3323": {
      "model_module": "@jupyter-widgets/base",
      "model_module_version": "2.0.0",
      "model_name": "LayoutModel",
      "state": {}
     },
     "d9cd2de0277c470bb7ca0716e5010460": {
      "model_module": "@jupyter-widgets/base",
      "model_module_version": "2.0.0",
      "model_name": "LayoutModel",
      "state": {}
     },
     "da09794fd07048169d25772ee7845a11": {
      "model_module": "@jupyter-widgets/base",
      "model_module_version": "2.0.0",
      "model_name": "LayoutModel",
      "state": {}
     },
     "da0d0cb76541403384776a4502467c08": {
      "model_module": "@jupyter-widgets/base",
      "model_module_version": "2.0.0",
      "model_name": "LayoutModel",
      "state": {}
     },
     "da657e4bc0bc496785a61846aa0763a2": {
      "model_module": "@jupyter-widgets/output",
      "model_module_version": "1.0.0",
      "model_name": "OutputModel",
      "state": {
       "layout": "IPY_MODEL_c26a61ef70f74b7b8b1e313d68fa42fd",
       "outputs": [
        {
         "data": {
          "application/vnd.jupyter.widget-view+json": {
           "model_id": "30e9f1825b9440238335ed8d48410989",
           "version_major": 2,
           "version_minor": 0
          },
          "text/plain": "VBox(children=(HBox(children=(Label(value='Column format'), Dropdown(index=1, options=('raw', 'nested'), value…"
         },
         "metadata": {},
         "output_type": "display_data"
        }
       ]
      }
     },
     "dafaadda2d2244afae46bf52c636999e": {
      "model_module": "@jupyter-widgets/output",
      "model_module_version": "1.0.0",
      "model_name": "OutputModel",
      "state": {
       "layout": "IPY_MODEL_893bdad326b7409ab4074f4a3907e148",
       "outputs": [
        {
         "data": {
          "text/html": "<div>\n<style scoped>\n    .dataframe tbody tr th:only-of-type {\n        vertical-align: middle;\n    }\n\n    .dataframe tbody tr th {\n        vertical-align: top;\n    }\n\n    .dataframe thead th {\n        text-align: right;\n    }\n</style>\n<table border=\"1\" class=\"dataframe\">\n  <thead>\n    <tr style=\"text-align: right;\">\n      <th></th>\n      <th>category string</th>\n    </tr>\n    <tr>\n      <th>category_id</th>\n      <th></th>\n    </tr>\n  </thead>\n  <tbody>\n    <tr>\n      <th>13</th>\n      <td>stop sign</td>\n    </tr>\n    <tr>\n      <th>88</th>\n      <td>teddy bear</td>\n    </tr>\n  </tbody>\n</table>\n</div>",
          "text/plain": "            category string\ncategory_id                \n13                stop sign\n88               teddy bear"
         },
         "metadata": {},
         "output_type": "display_data"
        }
       ]
      }
     },
     "db231ae4be514d21a74f85d3770f6926": {
      "model_module": "@jupyter-widgets/base",
      "model_module_version": "2.0.0",
      "model_name": "LayoutModel",
      "state": {}
     },
     "dba7513f7a7942738daecbd3f1990edf": {
      "model_module": "@jupyter-widgets/base",
      "model_module_version": "2.0.0",
      "model_name": "LayoutModel",
      "state": {}
     },
     "dc3c25da603f47709e51368b2bc85cb2": {
      "model_module": "@jupyter-widgets/output",
      "model_module_version": "1.0.0",
      "model_name": "OutputModel",
      "state": {
       "layout": "IPY_MODEL_54c6a81a6e0245ee9ffd87107c2061c1",
       "outputs": [
        {
         "data": {
          "text/html": "<div>\n<style scoped>\n    .dataframe tbody tr th:only-of-type {\n        vertical-align: middle;\n    }\n\n    .dataframe tbody tr th {\n        vertical-align: top;\n    }\n\n    .dataframe thead th {\n        text-align: right;\n    }\n</style>\n<table border=\"1\" class=\"dataframe\">\n  <thead>\n    <tr style=\"text-align: right;\">\n      <th></th>\n      <th>category string</th>\n    </tr>\n    <tr>\n      <th>category_id</th>\n      <th></th>\n    </tr>\n  </thead>\n  <tbody>\n    <tr>\n      <th>13</th>\n      <td>stop sign</td>\n    </tr>\n    <tr>\n      <th>88</th>\n      <td>teddy bear</td>\n    </tr>\n  </tbody>\n</table>\n</div>",
          "text/plain": "            category string\ncategory_id                \n13                stop sign\n88               teddy bear"
         },
         "metadata": {},
         "output_type": "display_data"
        }
       ]
      }
     },
     "dc64aef805da40d8a307d06d73dce679": {
      "model_module": "@jupyter-widgets/base",
      "model_module_version": "2.0.0",
      "model_name": "LayoutModel",
      "state": {}
     },
     "dce316837afb4f9093ce18623f87b4d5": {
      "model_module": "@jupyter-widgets/base",
      "model_module_version": "2.0.0",
      "model_name": "LayoutModel",
      "state": {}
     },
     "de584f02b4774207a1499a9c9d33b7e7": {
      "model_module": "@jupyter-widgets/base",
      "model_module_version": "2.0.0",
      "model_name": "LayoutModel",
      "state": {}
     },
     "de81c8b166254e5391d0cc4b9169f205": {
      "model_module": "@jupyter-widgets/controls",
      "model_module_version": "2.0.0",
      "model_name": "LinkModel",
      "state": {
       "source": [
        "IPY_MODEL_665c4c436bb342529bf01e32c99b0e55",
        "index"
       ],
       "target": [
        "IPY_MODEL_d794635bdf3742728bced6b026683db0",
        "selected_index"
       ]
      }
     },
     "df4fa4235583412e99ca755ce2dc0973": {
      "model_module": "@jupyter-widgets/output",
      "model_module_version": "1.0.0",
      "model_name": "OutputModel",
      "state": {
       "layout": "IPY_MODEL_04264ed64ed946a48928781c30b5d755",
       "outputs": [
        {
         "data": {
          "application/vnd.jupyter.widget-view+json": {
           "model_id": "a99f9d0f9cb941c5858a90fe42fed680",
           "version_major": 2,
           "version_minor": 0
          },
          "text/plain": "VBox(children=(HBox(children=(VBox(children=(Label(value='Booleanize'), Label(value='Column format'))), VBox(c…"
         },
         "metadata": {},
         "output_type": "display_data"
        }
       ]
      }
     },
     "dfc5f536a6e549ab98d850690c994495": {
      "model_module": "@jupyter-widgets/base",
      "model_module_version": "2.0.0",
      "model_name": "LayoutModel",
      "state": {}
     },
     "dfd0233da24b49b89441836c5f9e9e89": {
      "model_module": "@jupyter-widgets/controls",
      "model_module_version": "2.0.0",
      "model_name": "LabelModel",
      "state": {
       "layout": "IPY_MODEL_4746fe751c6b41ab8efbc2e46e07eca6",
       "style": "IPY_MODEL_ee43ad439dae408b931b35643223444f",
       "value": "Column format"
      }
     },
     "e17b38d62ef14dc9901c19937d973d26": {
      "model_module": "@jupyter-widgets/output",
      "model_module_version": "1.0.0",
      "model_name": "OutputModel",
      "state": {
       "layout": "IPY_MODEL_25a895ae0b624377aaa7b4b5bd8554e7",
       "outputs": [
        {
         "data": {
          "application/vnd.jupyter.widget-view+json": {
           "model_id": "066a6791a702412fb1d15d3a81d4027c",
           "version_major": 2,
           "version_minor": 0
          },
          "text/plain": "VBox(children=(HBox(children=(Label(value='Column format'), Dropdown(index=1, options=('raw', 'nested'), value…"
         },
         "metadata": {},
         "output_type": "display_data"
        }
       ]
      }
     },
     "e2bc2f6ea30744ac8d9bd8c1e63bc19f": {
      "model_module": "@jupyter-widgets/base",
      "model_module_version": "2.0.0",
      "model_name": "LayoutModel",
      "state": {}
     },
     "e3393e2df40f4b6cb2c34c615fb87695": {
      "model_module": "@jupyter-widgets/controls",
      "model_module_version": "2.0.0",
      "model_name": "VBoxModel",
      "state": {
       "children": [
        "IPY_MODEL_38c8a647f223402690ddd1c96b3458e4",
        "IPY_MODEL_1c45655045d042be94b2984b6afab3be"
       ],
       "layout": "IPY_MODEL_f4d909f54c1b4c0a96d2fb76eb506776"
      }
     },
     "e3bd2f799a714c8bafd825cd3da0932d": {
      "model_module": "@jupyter-widgets/controls",
      "model_module_version": "2.0.0",
      "model_name": "HBoxModel",
      "state": {
       "children": [
        "IPY_MODEL_e3393e2df40f4b6cb2c34c615fb87695",
        "IPY_MODEL_acb8c210988c47c1aba9373391b76358"
       ],
       "layout": "IPY_MODEL_6d557186ad59433bb7515e22c2a8e4b0"
      }
     },
     "e4e38f80fcec49fb88c444aeee836ac8": {
      "model_module": "@jupyter-widgets/controls",
      "model_module_version": "2.0.0",
      "model_name": "LinkModel",
      "state": {
       "source": [
        "IPY_MODEL_49c8c09615b24f3183dcb8eace1c8b6f",
        "index"
       ],
       "target": [
        "IPY_MODEL_c57572e0d3174255bbd88cd5051db3db",
        "selected_index"
       ]
      }
     },
     "e5622346c6de44ae8179842d2158ebf4": {
      "model_module": "@jupyter-widgets/base",
      "model_module_version": "2.0.0",
      "model_name": "LayoutModel",
      "state": {}
     },
     "e692c9939e9b4f2a9aa7f609a7342a02": {
      "model_module": "@jupyter-widgets/controls",
      "model_module_version": "2.0.0",
      "model_name": "StackModel",
      "state": {
       "children": [
        "IPY_MODEL_462506374d444c44856848b74ed4dc46",
        "IPY_MODEL_d794635bdf3742728bced6b026683db0"
       ],
       "layout": "IPY_MODEL_a9a823c3fe514f1fbbf13474a6cbd3a2",
       "selected_index": 1,
       "titles": [
        "",
        ""
       ]
      }
     },
     "e6f2b75902004d5098639bfd8ba3ac08": {
      "model_module": "@jupyter-widgets/controls",
      "model_module_version": "2.0.0",
      "model_name": "HTMLModel",
      "state": {
       "layout": "IPY_MODEL_c243b96315184bbcb0ec3c0546ae1960",
       "style": "IPY_MODEL_948226bbdc9244fd83fcda5944de9108",
       "value": "<p><span style='white-space: pre-wrap; font-weight: bold'>Dataset object containing 2 images and 2 objects\nName :\n\tsmall_v5_dataset\nImages root :\n\t../../test_libia/test_data/caipy_dataset/tags/small_v5_dataset/Images</span></p>"
      }
     },
     "e71ee6ccc60745ecbcd3865fd5522de4": {
      "model_module": "@jupyter-widgets/controls",
      "model_module_version": "2.0.0",
      "model_name": "HTMLStyleModel",
      "state": {
       "description_width": "",
       "font_size": null,
       "text_color": null
      }
     },
     "e74b5f475bcd4fe988238916f7e8a922": {
      "model_module": "@jupyter-widgets/output",
      "model_module_version": "1.0.0",
      "model_name": "OutputModel",
      "state": {
       "layout": "IPY_MODEL_b74ca75045054bcb9488bc6c9444d3a0",
       "outputs": [
        {
         "data": {
          "application/vnd.jupyter.widget-view+json": {
           "model_id": "3b8a36ee2a28484d80ae8b6aac54d711",
           "version_major": 2,
           "version_minor": 0
          },
          "text/plain": "VBox(children=(HBox(children=(Label(value='Column format'), Dropdown(index=1, options=('raw', 'nested'), value…"
         },
         "metadata": {},
         "output_type": "display_data"
        }
       ]
      }
     },
     "e78a13034b6e436d9fdce600c236468a": {
      "model_module": "@jupyter-widgets/output",
      "model_module_version": "1.0.0",
      "model_name": "OutputModel",
      "state": {
       "layout": "IPY_MODEL_1d7f7e7fb4f6494e959f91befa693e04",
       "outputs": [
        {
         "data": {
          "application/vnd.jupyter.widget-view+json": {
           "model_id": "1763df3f9ef242158b93ed675df78684",
           "version_major": 2,
           "version_minor": 0
          },
          "text/plain": "VBox(children=(HBox(children=(Label(value='Column format'), Dropdown(options=('raw', 'nested'), value='raw')))…"
         },
         "metadata": {},
         "output_type": "display_data"
        }
       ]
      }
     },
     "e7b9a727554741fcb369349e53f6c0f3": {
      "model_module": "@jupyter-widgets/base",
      "model_module_version": "2.0.0",
      "model_name": "LayoutModel",
      "state": {}
     },
     "e87f911d52a24f639a6acc54c921faba": {
      "model_module": "@jupyter-widgets/controls",
      "model_module_version": "2.0.0",
      "model_name": "DescriptionStyleModel",
      "state": {
       "description_width": ""
      }
     },
     "e8e291ed9b0a4bbbaa98b8a80ced2a01": {
      "model_module": "@jupyter-widgets/base",
      "model_module_version": "2.0.0",
      "model_name": "LayoutModel",
      "state": {}
     },
     "e96122e705064c6aa1919cab33baf4a9": {
      "model_module": "@jupyter-widgets/controls",
      "model_module_version": "2.0.0",
      "model_name": "LabelModel",
      "state": {
       "layout": "IPY_MODEL_8e34b7f291bd4d76a9f6e21da9eca863",
       "style": "IPY_MODEL_d6e21ce9a5f3412886c186679898f12f",
       "value": "Column format"
      }
     },
     "e9ecc47c360e40528b5b7b8ac49dd203": {
      "model_module": "@jupyter-widgets/controls",
      "model_module_version": "2.0.0",
      "model_name": "LinkModel",
      "state": {
       "source": [
        "IPY_MODEL_af5c6e1f126d4d81a620bbb605c0f7ee",
        "index"
       ],
       "target": [
        "IPY_MODEL_907e4b3f7f8b42fc9859d4722f9ef85c",
        "selected_index"
       ]
      }
     },
     "ea0a6048ceb44971885be4794cdb868a": {
      "model_module": "@jupyter-widgets/output",
      "model_module_version": "1.0.0",
      "model_name": "OutputModel",
      "state": {
       "layout": "IPY_MODEL_368c3b76181e4906961fa7dc7bb07a2c",
       "outputs": [
        {
         "data": {
          "application/vnd.jupyter.widget-view+json": {
           "model_id": "b7d1d35b8976485d9a5d249be29e08bb",
           "version_major": 2,
           "version_minor": 0
          },
          "text/plain": "VBox(children=(HBox(children=(Label(value='Column format'), Dropdown(index=1, options=('raw', 'nested'), value…"
         },
         "metadata": {},
         "output_type": "display_data"
        }
       ]
      }
     },
     "ead8e2a950284944ba78c30f0a64d593": {
      "model_module": "@jupyter-widgets/controls",
      "model_module_version": "2.0.0",
      "model_name": "HTMLModel",
      "state": {
       "layout": "IPY_MODEL_962871a977284adbb2534fe8e27b397c",
       "style": "IPY_MODEL_116dd2fe884141609a3cabafb30e488a",
       "value": "<p><span style='white-space: pre-wrap; font-weight: bold'>Dataset object containing 2 images and 2 objects\nName :\n\tsmall_v5_dataset\nImages root :\n\t../../test_libia/test_data/caipy_dataset/tags/small_v5_dataset/Images</span></p>"
      }
     },
     "eb1e79ecc87e4ee7812a7d308c1e6c0b": {
      "model_module": "@jupyter-widgets/controls",
      "model_module_version": "2.0.0",
      "model_name": "DescriptionStyleModel",
      "state": {
       "description_width": ""
      }
     },
     "ee43ad439dae408b931b35643223444f": {
      "model_module": "@jupyter-widgets/controls",
      "model_module_version": "2.0.0",
      "model_name": "LabelStyleModel",
      "state": {
       "description_width": "",
       "font_family": null,
       "font_size": null,
       "font_style": null,
       "font_variant": null,
       "font_weight": null,
       "text_color": null,
       "text_decoration": null
      }
     },
     "ee5854ff501649758ccad33bb0edf5de": {
      "model_module": "@jupyter-widgets/controls",
      "model_module_version": "2.0.0",
      "model_name": "HTMLStyleModel",
      "state": {
       "description_width": "",
       "font_size": null,
       "text_color": null
      }
     },
     "eed00c8689c94ba086bb09f4323c3f08": {
      "model_module": "@jupyter-widgets/controls",
      "model_module_version": "2.0.0",
      "model_name": "ProgressStyleModel",
      "state": {
       "description_width": ""
      }
     },
     "f004ecba0f3e4965b6458ab18211f8f8": {
      "model_module": "@jupyter-widgets/base",
      "model_module_version": "2.0.0",
      "model_name": "LayoutModel",
      "state": {}
     },
     "f01ce08dade445cf9dcec47719defcb1": {
      "model_module": "@jupyter-widgets/base",
      "model_module_version": "2.0.0",
      "model_name": "LayoutModel",
      "state": {}
     },
     "f0dbeb047943401c91e1ceb723939965": {
      "model_module": "@jupyter-widgets/output",
      "model_module_version": "1.0.0",
      "model_name": "OutputModel",
      "state": {
       "layout": "IPY_MODEL_95a6edfb19db4f0b80535dffd281699d",
       "outputs": [
        {
         "data": {
          "text/html": "<style type=\"text/css\">\n#T_44a97 th {\n  border-right: 1px solid #F0F0F0;\n}\n</style>\n<table id=\"T_44a97\">\n  <thead>\n    <tr>\n      <th class=\"blank level0\" >&nbsp;</th>\n      <th id=\"T_44a97_level0_col0\" class=\"col_heading level0 col0\" >width</th>\n      <th id=\"T_44a97_level0_col1\" class=\"col_heading level0 col1\" >height</th>\n      <th id=\"T_44a97_level0_col2\" class=\"col_heading level0 col2\" >relative_path</th>\n      <th id=\"T_44a97_level0_col3\" class=\"col_heading level0 col3\" >type</th>\n      <th id=\"T_44a97_level0_col4\" class=\"col_heading level0 col4\" colspan=\"3\">tags</th>\n    </tr>\n    <tr>\n      <th class=\"blank level1\" >&nbsp;</th>\n      <th id=\"T_44a97_level1_col0\" class=\"col_heading level1 col0\" ></th>\n      <th id=\"T_44a97_level1_col1\" class=\"col_heading level1 col1\" ></th>\n      <th id=\"T_44a97_level1_col2\" class=\"col_heading level1 col2\" ></th>\n      <th id=\"T_44a97_level1_col3\" class=\"col_heading level1 col3\" ></th>\n      <th id=\"T_44a97_level1_col4\" class=\"col_heading level1 col4\" >location</th>\n      <th id=\"T_44a97_level1_col5\" class=\"col_heading level1 col5\" >spectrum</th>\n      <th id=\"T_44a97_level1_col6\" class=\"col_heading level1 col6\" >time</th>\n    </tr>\n    <tr>\n      <th class=\"index_name level0\" >id</th>\n      <th class=\"blank col0\" >&nbsp;</th>\n      <th class=\"blank col1\" >&nbsp;</th>\n      <th class=\"blank col2\" >&nbsp;</th>\n      <th class=\"blank col3\" >&nbsp;</th>\n      <th class=\"blank col4\" >&nbsp;</th>\n      <th class=\"blank col5\" >&nbsp;</th>\n      <th class=\"blank col6\" >&nbsp;</th>\n    </tr>\n  </thead>\n  <tbody>\n    <tr>\n      <th id=\"T_44a97_level0_row0\" class=\"row_heading level0 row0\" >6091</th>\n      <td id=\"T_44a97_row0_col0\" class=\"data row0 col0\" >480</td>\n      <td id=\"T_44a97_row0_col1\" class=\"data row0 col1\" >640</td>\n      <td id=\"T_44a97_row0_col2\" class=\"data row0 col2\" >image1.jpg</td>\n      <td id=\"T_44a97_row0_col3\" class=\"data row0 col3\" >.jpg</td>\n      <td id=\"T_44a97_row0_col4\" class=\"data row0 col4\" >exterior</td>\n      <td id=\"T_44a97_row0_col5\" class=\"data row0 col5\" >RGB</td>\n      <td id=\"T_44a97_row0_col6\" class=\"data row0 col6\" >night</td>\n    </tr>\n    <tr>\n      <th id=\"T_44a97_level0_row1\" class=\"row_heading level0 row1\" >10395</th>\n      <td id=\"T_44a97_row1_col0\" class=\"data row1 col0\" >500</td>\n      <td id=\"T_44a97_row1_col1\" class=\"data row1 col1\" >476</td>\n      <td id=\"T_44a97_row1_col2\" class=\"data row1 col2\" >image2.jpg</td>\n      <td id=\"T_44a97_row1_col3\" class=\"data row1 col3\" >.jpg</td>\n      <td id=\"T_44a97_row1_col4\" class=\"data row1 col4\" >exterior</td>\n      <td id=\"T_44a97_row1_col5\" class=\"data row1 col5\" >RGB</td>\n      <td id=\"T_44a97_row1_col6\" class=\"data row1 col6\" >night</td>\n    </tr>\n  </tbody>\n</table>\n",
          "text/plain": "<pandas.io.formats.style.Styler at 0x7940f3b6d650>"
         },
         "metadata": {},
         "output_type": "display_data"
        }
       ]
      }
     },
     "f12d34ebb9ca4b7f89cee3a6d5956b6b": {
      "model_module": "@jupyter-widgets/controls",
      "model_module_version": "2.0.0",
      "model_name": "LinkModel",
      "state": {
       "source": [
        "IPY_MODEL_b483e713571d495492efb42b40a3e600",
        "index"
       ],
       "target": [
        "IPY_MODEL_48a9e466b72d47ffb47d01caf7b714fd",
        "selected_index"
       ]
      }
     },
     "f269d0a8572448d9a9a31886878024d2": {
      "model_module": "@jupyter-widgets/base",
      "model_module_version": "2.0.0",
      "model_name": "LayoutModel",
      "state": {}
     },
     "f2f462a605ea4c719be284c6f432ce59": {
      "model_module": "@jupyter-widgets/base",
      "model_module_version": "2.0.0",
      "model_name": "LayoutModel",
      "state": {}
     },
     "f31a5d9c55ec4e4f87afc75e237aa428": {
      "model_module": "@jupyter-widgets/base",
      "model_module_version": "2.0.0",
      "model_name": "LayoutModel",
      "state": {}
     },
     "f398e7abde9f44818497d03af1b69fa6": {
      "model_module": "@jupyter-widgets/controls",
      "model_module_version": "2.0.0",
      "model_name": "LinkModel",
      "state": {
       "source": [
        "IPY_MODEL_665c4c436bb342529bf01e32c99b0e55",
        "index"
       ],
       "target": [
        "IPY_MODEL_462506374d444c44856848b74ed4dc46",
        "selected_index"
       ]
      }
     },
     "f42976d4974242b0a839a036e827d294": {
      "model_module": "@jupyter-widgets/base",
      "model_module_version": "2.0.0",
      "model_name": "LayoutModel",
      "state": {}
     },
     "f4d909f54c1b4c0a96d2fb76eb506776": {
      "model_module": "@jupyter-widgets/base",
      "model_module_version": "2.0.0",
      "model_name": "LayoutModel",
      "state": {}
     },
     "f4e007fc83044dc8a4c4b1223e2eebbf": {
      "model_module": "@jupyter-widgets/output",
      "model_module_version": "1.0.0",
      "model_name": "OutputModel",
      "state": {
       "layout": "IPY_MODEL_f607e70a873643ffb0a615f02e4603be",
       "outputs": [
        {
         "data": {
          "text/html": "<div>\n<style scoped>\n    .dataframe tbody tr th:only-of-type {\n        vertical-align: middle;\n    }\n\n    .dataframe tbody tr th {\n        vertical-align: top;\n    }\n\n    .dataframe thead th {\n        text-align: right;\n    }\n</style>\n<table border=\"1\" class=\"dataframe\">\n  <thead>\n    <tr style=\"text-align: right;\">\n      <th></th>\n      <th>category string</th>\n    </tr>\n    <tr>\n      <th>category_id</th>\n      <th></th>\n    </tr>\n  </thead>\n  <tbody>\n    <tr>\n      <th>13</th>\n      <td>stop sign</td>\n    </tr>\n    <tr>\n      <th>88</th>\n      <td>teddy bear</td>\n    </tr>\n  </tbody>\n</table>\n</div>",
          "text/plain": "            category string\ncategory_id                \n13                stop sign\n88               teddy bear"
         },
         "metadata": {},
         "output_type": "display_data"
        }
       ]
      }
     },
     "f54540d61b62419eac021e3bd010804c": {
      "model_module": "@jupyter-widgets/controls",
      "model_module_version": "2.0.0",
      "model_name": "LinkModel",
      "state": {
       "source": [
        "IPY_MODEL_f879cebe86e84f2daf3d5d64a4dd0b86",
        "index"
       ],
       "target": [
        "IPY_MODEL_e692c9939e9b4f2a9aa7f609a7342a02",
        "selected_index"
       ]
      }
     },
     "f5fba25f9cab45bb8daf9377481da905": {
      "model_module": "@jupyter-widgets/base",
      "model_module_version": "2.0.0",
      "model_name": "LayoutModel",
      "state": {}
     },
     "f607e70a873643ffb0a615f02e4603be": {
      "model_module": "@jupyter-widgets/base",
      "model_module_version": "2.0.0",
      "model_name": "LayoutModel",
      "state": {}
     },
     "f73b8bed0af648f9b15a279652f50227": {
      "model_module": "@jupyter-widgets/controls",
      "model_module_version": "2.0.0",
      "model_name": "StackModel",
      "state": {
       "children": [
        "IPY_MODEL_665995a2d44b4e2698e6fb69c100f814",
        "IPY_MODEL_8d76fa29b2d3468392279e1b2d0e7a83"
       ],
       "layout": "IPY_MODEL_1df511c63d7f41c19d46847830648ea0",
       "selected_index": 1,
       "titles": [
        "",
        ""
       ]
      }
     },
     "f78fd9f70020405e958b4539cd004526": {
      "model_module": "@jupyter-widgets/controls",
      "model_module_version": "2.0.0",
      "model_name": "LabelStyleModel",
      "state": {
       "description_width": "",
       "font_family": null,
       "font_size": null,
       "font_style": null,
       "font_variant": null,
       "font_weight": null,
       "text_color": null,
       "text_decoration": null
      }
     },
     "f79dfd43903c4452b0f2fa1df000d025": {
      "model_module": "@jupyter-widgets/base",
      "model_module_version": "2.0.0",
      "model_name": "LayoutModel",
      "state": {}
     },
     "f79eae4bdc0b49bba1790a8af63357f8": {
      "model_module": "@jupyter-widgets/base",
      "model_module_version": "2.0.0",
      "model_name": "LayoutModel",
      "state": {}
     },
     "f7e8bfbe60a942b2a00b94464a416211": {
      "model_module": "@jupyter-widgets/base",
      "model_module_version": "2.0.0",
      "model_name": "LayoutModel",
      "state": {}
     },
     "f81fd73302c248e2b3810fcc0ecf55b7": {
      "model_module": "@jupyter-widgets/controls",
      "model_module_version": "2.0.0",
      "model_name": "LabelStyleModel",
      "state": {
       "description_width": "",
       "font_family": null,
       "font_size": null,
       "font_style": null,
       "font_variant": null,
       "font_weight": null,
       "text_color": null,
       "text_decoration": null
      }
     },
     "f840a5e024af4c3cb4c2a55b3c9816d8": {
      "model_module": "@jupyter-widgets/controls",
      "model_module_version": "2.0.0",
      "model_name": "HBoxModel",
      "state": {
       "children": [
        "IPY_MODEL_90c8111282444105aeb4e9cdbddaa495",
        "IPY_MODEL_164d41eff09845da98d36f2bafb49942"
       ],
       "layout": "IPY_MODEL_f79dfd43903c4452b0f2fa1df000d025"
      }
     },
     "f879cebe86e84f2daf3d5d64a4dd0b86": {
      "model_module": "@jupyter-widgets/controls",
      "model_module_version": "2.0.0",
      "model_name": "ToggleButtonsModel",
      "state": {
       "_options_labels": [
        "yes ",
        "no "
       ],
       "button_style": "",
       "icons": [
        "check",
        "times"
       ],
       "index": 1,
       "layout": "IPY_MODEL_d90e23fdc5de4e8693d06d1487f664fc",
       "style": "IPY_MODEL_8cfa3a48c69041dda97dcce09c508d27",
       "tooltips": []
      }
     },
     "f8efbd7eeef84d0ea663c63d38c7753d": {
      "model_module": "@jupyter-widgets/controls",
      "model_module_version": "2.0.0",
      "model_name": "StackModel",
      "state": {
       "children": [
        "IPY_MODEL_d8771d6d18fe4fcf8605a1c5e15e00ce",
        "IPY_MODEL_f9e2d860b6784e2bae70aacd9696aa26"
       ],
       "layout": "IPY_MODEL_15753d0f0b7c40339e3fc4d9d892ee1b",
       "selected_index": 0,
       "titles": [
        "",
        ""
       ]
      }
     },
     "f9655fdfe462442db231096f1c04604b": {
      "model_module": "@jupyter-widgets/controls",
      "model_module_version": "2.0.0",
      "model_name": "LabelModel",
      "state": {
       "layout": "IPY_MODEL_6457415728be4cbe9f264af3403ab3bc",
       "style": "IPY_MODEL_b5871347f49a481fa21d9ab365cc1fa5",
       "value": "Column format"
      }
     },
     "f9e2d860b6784e2bae70aacd9696aa26": {
      "model_module": "@jupyter-widgets/controls",
      "model_module_version": "2.0.0",
      "model_name": "StackModel",
      "state": {
       "children": [
        "IPY_MODEL_8cd1d0095470420f8e6d2fbb8b28457d",
        "IPY_MODEL_b56e430ea857498a84e3432c1985fb7c"
       ],
       "layout": "IPY_MODEL_7df58bff598b4b52840ad92d85f45e5e",
       "selected_index": 0,
       "titles": [
        "",
        ""
       ]
      }
     },
     "fa520fd1853643879ef77189a2b5ed2e": {
      "model_module": "@jupyter-widgets/base",
      "model_module_version": "2.0.0",
      "model_name": "LayoutModel",
      "state": {
       "width": "auto"
      }
     },
     "faabe27cd21d4c0a866ec9822a7a8fdd": {
      "model_module": "@jupyter-widgets/output",
      "model_module_version": "1.0.0",
      "model_name": "OutputModel",
      "state": {
       "layout": "IPY_MODEL_4c28d96cb5cf4332bed6dad63659b8bd",
       "outputs": [
        {
         "data": {
          "application/vnd.jupyter.widget-view+json": {
           "model_id": "17872b7fc2da400283f1064ef7aa0870",
           "version_major": 2,
           "version_minor": 0
          },
          "text/plain": "VBox(children=(HBox(children=(Label(value='Column format'), Dropdown(index=1, options=('raw', 'nested'), value…"
         },
         "metadata": {},
         "output_type": "display_data"
        }
       ]
      }
     },
     "fb7e7441e17c42c3a58e8bd4bf04ef34": {
      "model_module": "@jupyter-widgets/base",
      "model_module_version": "2.0.0",
      "model_name": "LayoutModel",
      "state": {}
     },
     "fc8042ff984444a982b2e8675b5a37b6": {
      "model_module": "@jupyter-widgets/base",
      "model_module_version": "2.0.0",
      "model_name": "LayoutModel",
      "state": {}
     },
     "fd4eed059e104c76b2c45b5ffa0fe211": {
      "model_module": "@jupyter-widgets/base",
      "model_module_version": "2.0.0",
      "model_name": "LayoutModel",
      "state": {}
     },
     "fd9fa9b20f264e76a69685a0b80b5f50": {
      "model_module": "@jupyter-widgets/controls",
      "model_module_version": "2.0.0",
      "model_name": "VBoxModel",
      "state": {
       "children": [
        "IPY_MODEL_e3bd2f799a714c8bafd825cd3da0932d",
        "IPY_MODEL_f8efbd7eeef84d0ea663c63d38c7753d"
       ],
       "layout": "IPY_MODEL_5444e177e4b64b3d960c8eb8b997a11c"
      }
     },
     "fe78a68a9ffa4fd7896390027e528756": {
      "model_module": "@jupyter-widgets/base",
      "model_module_version": "2.0.0",
      "model_name": "LayoutModel",
      "state": {}
     },
     "ff6eeb6ed8834034ad8492f0e299246f": {
      "model_module": "@jupyter-widgets/base",
      "model_module_version": "2.0.0",
      "model_name": "LayoutModel",
      "state": {}
     }
    },
    "version_major": 2,
    "version_minor": 0
   }
  }
 },
 "nbformat": 4,
 "nbformat_minor": 4
}
