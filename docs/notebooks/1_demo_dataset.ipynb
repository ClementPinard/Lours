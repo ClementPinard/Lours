{
 "cells": [
  {
   "cell_type": "markdown",
   "id": "8dd43ef7",
   "metadata": {},
   "source": [
    "# Dataset 101 : Mechanics\n",
    "\n",
    "This notebook will make use of libia's data object.\n",
    "How to load from a known dataset format, how to merge two datasets, how to remap classes, and how to write it on disk in a wanted format"
   ]
  },
  {
   "cell_type": "code",
   "execution_count": 1,
   "id": "a9865afa",
   "metadata": {},
   "outputs": [],
   "source": [
    "%load_ext autoreload\n",
    "\n",
    "%autoreload 2\n",
    "from libia.dataset import Dataset, from_coco, from_caipy\n",
    "from libia.utils.testing import assert_dataset_equal"
   ]
  },
  {
   "cell_type": "markdown",
   "id": "360b5478",
   "metadata": {},
   "source": [
    "Loading coco eval in test folders. Note that you can also load cAIpy and darknet."
   ]
  },
  {
   "cell_type": "code",
   "execution_count": 2,
   "id": "62a029e4",
   "metadata": {},
   "outputs": [],
   "source": [
    "COCO_dataset = from_coco(\"notebook_data/coco_valid.json\")"
   ]
  },
  {
   "cell_type": "code",
   "execution_count": 3,
   "id": "0feaba1c",
   "metadata": {},
   "outputs": [
    {
     "data": {
      "application/vnd.jupyter.widget-view+json": {
       "model_id": "5ae83b69469e46da8534eec8fb87cc3a",
       "version_major": 2,
       "version_minor": 0
      },
      "text/plain": [
       "VBox(children=(HTML(value=\"<p><span style='white-space: pre-wrap; font-weight: bold'>Dataset object containing…"
      ]
     },
     "metadata": {},
     "output_type": "display_data"
    }
   ],
   "source": [
    "COCO_dataset"
   ]
  },
  {
   "cell_type": "markdown",
   "id": "5823f4e0",
   "metadata": {},
   "source": [
    "## Dataset Sampling\n",
    "\n",
    "You can use the `loc[]` or `.iloc[]` interface to sample the sub-datasets you want at the image level. To sample at the annotation level, you can use `.loc_annot[]` and `.iloc_annot[]` methods\n",
    "\n",
    "Notes:\n",
    "\n",
    " - For `iloc`, images indices are not considered, only the row number (like in pandas.DataFrame.iloc), so you might want to reorder the images before, or use `loc` that uses indices\n",
    " - calling a single number, e.g. `dataset[0]` will give you a dataset of only one image but it will still be a dataset object with two dataframes\n",
    " - Images are never loaded by the dataset object itself, you need to load them yourself in your pipeline\n",
    " - the `[]` method is equivalent to `iloc[]`"
   ]
  },
  {
   "cell_type": "markdown",
   "id": "daf90ac6-4927-470e-a7b4-049f71cb2a32",
   "metadata": {},
   "source": [
    "### Image based sampling"
   ]
  },
  {
   "cell_type": "code",
   "execution_count": 4,
   "id": "45882700",
   "metadata": {},
   "outputs": [
    {
     "data": {
      "application/vnd.jupyter.widget-view+json": {
       "model_id": "3e0981c0177a4976bb1f04c361cd1ad5",
       "version_major": 2,
       "version_minor": 0
      },
      "text/plain": [
       "VBox(children=(HTML(value=\"<p><span style='white-space: pre-wrap; font-weight: bold'>Dataset object containing…"
      ]
     },
     "metadata": {},
     "output_type": "display_data"
    }
   ],
   "source": [
    "# Only taking 50% of the images\n",
    "COCO_dataset.iloc[::2]"
   ]
  },
  {
   "cell_type": "code",
   "execution_count": 5,
   "id": "462b60cd",
   "metadata": {},
   "outputs": [
    {
     "name": "stdout",
     "output_type": "stream",
     "text": [
      "Index([352582, 113354,  58393, 147729, 310072,  50149, 519208, 356125,  38048,\n",
      "       567825,\n",
      "       ...\n",
      "       166478, 185409, 577976, 189806, 363188, 311180, 302030, 105455, 428280,\n",
      "       349837],\n",
      "      dtype='int64', name='id', length=4722)\n"
     ]
    },
    {
     "data": {
      "application/vnd.jupyter.widget-view+json": {
       "model_id": "372d3eb6f3ae40d18206cad8c9325016",
       "version_major": 2,
       "version_minor": 0
      },
      "text/plain": [
       "VBox(children=(HTML(value=\"<p><span style='white-space: pre-wrap; font-weight: bold'>Dataset object containing…"
      ]
     },
     "metadata": {},
     "output_type": "display_data"
    }
   ],
   "source": [
    "ids_to_keep = COCO_dataset.images.index[COCO_dataset.images.index > 30_000]\n",
    "print(ids_to_keep)\n",
    "COCO_dataset.loc[ids_to_keep]"
   ]
  },
  {
   "cell_type": "markdown",
   "id": "4c46aa67-fce4-4835-801d-e27cc2e14fbb",
   "metadata": {},
   "source": [
    "This is equivalent to using `filter_images` method with `loc` mode"
   ]
  },
  {
   "cell_type": "code",
   "execution_count": 6,
   "id": "241cd185-92ab-4a6e-b033-4c2943c714ed",
   "metadata": {},
   "outputs": [
    {
     "data": {
      "application/vnd.jupyter.widget-view+json": {
       "model_id": "8412c2d2fd034b41b272be18c93572b4",
       "version_major": 2,
       "version_minor": 0
      },
      "text/plain": [
       "VBox(children=(HTML(value=\"<p><span style='white-space: pre-wrap; font-weight: bold'>Dataset object containing…"
      ]
     },
     "metadata": {},
     "output_type": "display_data"
    }
   ],
   "source": [
    "COCO_dataset.filter_images(ids_to_keep, mode=\"loc\")"
   ]
  },
  {
   "cell_type": "markdown",
   "id": "6685d27a-b03b-4e45-9043-c005193f31d2",
   "metadata": {},
   "source": [
    "### Annotation based sampling\n",
    "\n",
    "Remove half the annotations"
   ]
  },
  {
   "cell_type": "code",
   "execution_count": 7,
   "id": "8ed8ab68-45a2-46c5-9fae-6406bb5d2f5a",
   "metadata": {},
   "outputs": [
    {
     "data": {
      "application/vnd.jupyter.widget-view+json": {
       "model_id": "4c001d057aff4000a45f8111d312c906",
       "version_major": 2,
       "version_minor": 0
      },
      "text/plain": [
       "VBox(children=(HTML(value=\"<p><span style='white-space: pre-wrap; font-weight: bold'>Dataset object containing…"
      ]
     },
     "metadata": {},
     "output_type": "display_data"
    }
   ],
   "source": [
    "COCO_dataset.iloc_annot[::2]"
   ]
  },
  {
   "cell_type": "markdown",
   "id": "681152c9-c50e-4fff-b1c8-21139634c1f6",
   "metadata": {},
   "source": [
    "Remove half the annotations, remove images emptied of annotations (but keep the ones that were already empty)"
   ]
  },
  {
   "cell_type": "code",
   "execution_count": 8,
   "id": "91eb6800-f939-46f8-84d8-9c59c0293eec",
   "metadata": {},
   "outputs": [
    {
     "data": {
      "application/vnd.jupyter.widget-view+json": {
       "model_id": "bf0cfdb49de044d692397749629f3014",
       "version_major": 2,
       "version_minor": 0
      },
      "text/plain": [
       "VBox(children=(HTML(value=\"<p><span style='white-space: pre-wrap; font-weight: bold'>Dataset object containing…"
      ]
     },
     "metadata": {},
     "output_type": "display_data"
    }
   ],
   "source": [
    "to_keep = COCO_dataset.annotations.index[::2]\n",
    "filtered = COCO_dataset.filter_annotations(\n",
    "    to_keep, mode=\"loc\", remove_emptied_images=True\n",
    ")\n",
    "display(filtered)"
   ]
  },
  {
   "cell_type": "markdown",
   "id": "6a1531b7-ff3a-4c7a-b111-e48a19b808ff",
   "metadata": {},
   "source": [
    "You can also use `slice(None, None, 2)` with the `iloc` mode"
   ]
  },
  {
   "cell_type": "code",
   "execution_count": 9,
   "id": "4d467f11-4b84-4129-8ac5-6f15850e2770",
   "metadata": {},
   "outputs": [],
   "source": [
    "filtered_2 = COCO_dataset.filter_annotations(\n",
    "    slice(None, None, 2), mode=\"iloc\", remove_emptied_images=True\n",
    ")\n",
    "\n",
    "assert_dataset_equal(filtered, filtered_2)"
   ]
  },
  {
   "cell_type": "markdown",
   "id": "dba6bb16-a44f-4b6d-a7c3-74c81a5d784d",
   "metadata": {},
   "source": [
    "### Iterating through the dataset\n",
    "\n",
    "You can iterate through the dataset"
   ]
  },
  {
   "cell_type": "code",
   "execution_count": 10,
   "id": "bec60af8",
   "metadata": {},
   "outputs": [
    {
     "data": {
      "application/vnd.jupyter.widget-view+json": {
       "model_id": "deb579dfe1fc4a108178083a3bc1b5c7",
       "version_major": 2,
       "version_minor": 0
      },
      "text/plain": [
       "VBox(children=(HTML(value=\"<p><span style='white-space: pre-wrap; font-weight: bold'>Dataset object containing…"
      ]
     },
     "metadata": {},
     "output_type": "display_data"
    },
    {
     "data": {
      "application/vnd.jupyter.widget-view+json": {
       "model_id": "d547f9350fdd447f84b5ddb6bbd25a89",
       "version_major": 2,
       "version_minor": 0
      },
      "text/plain": [
       "VBox(children=(HTML(value=\"<p><span style='white-space: pre-wrap; font-weight: bold'>Dataset object containing…"
      ]
     },
     "metadata": {},
     "output_type": "display_data"
    }
   ],
   "source": [
    "for single_image_dataset in COCO_dataset[:2]:\n",
    "    display(single_image_dataset)"
   ]
  },
  {
   "cell_type": "markdown",
   "id": "75c23a7f-8d4f-42d2-8a77-e8d3a04c17cf",
   "metadata": {},
   "source": [
    "The `iter_image` method can help you get directly image and annotations dataframes instead of Dataset objects with a single image)\n"
   ]
  },
  {
   "cell_type": "code",
   "execution_count": 11,
   "id": "6d9b5cda",
   "metadata": {},
   "outputs": [
    {
     "name": "stdout",
     "output_type": "stream",
     "text": [
      "width                                      425\n",
      "height                                     640\n",
      "relative_path    Images/valid/000000352582.jpg\n",
      "type                                      .jpg\n",
      "split                                    valid\n",
      "Name: 352582, dtype: object\n"
     ]
    },
    {
     "data": {
      "text/html": [
       "<div>\n",
       "<style scoped>\n",
       "    .dataframe tbody tr th:only-of-type {\n",
       "        vertical-align: middle;\n",
       "    }\n",
       "\n",
       "    .dataframe tbody tr th {\n",
       "        vertical-align: top;\n",
       "    }\n",
       "\n",
       "    .dataframe thead th {\n",
       "        text-align: right;\n",
       "    }\n",
       "</style>\n",
       "<table border=\"1\" class=\"dataframe\">\n",
       "  <thead>\n",
       "    <tr style=\"text-align: right;\">\n",
       "      <th></th>\n",
       "      <th>image_id</th>\n",
       "      <th>category_str</th>\n",
       "      <th>category_id</th>\n",
       "      <th>split</th>\n",
       "      <th>box_x_min</th>\n",
       "      <th>box_y_min</th>\n",
       "      <th>box_width</th>\n",
       "      <th>box_height</th>\n",
       "      <th>area</th>\n",
       "    </tr>\n",
       "    <tr>\n",
       "      <th>id</th>\n",
       "      <th></th>\n",
       "      <th></th>\n",
       "      <th></th>\n",
       "      <th></th>\n",
       "      <th></th>\n",
       "      <th></th>\n",
       "      <th></th>\n",
       "      <th></th>\n",
       "      <th></th>\n",
       "    </tr>\n",
       "  </thead>\n",
       "  <tbody>\n",
       "    <tr>\n",
       "      <th>460450</th>\n",
       "      <td>352582</td>\n",
       "      <td>person</td>\n",
       "      <td>1</td>\n",
       "      <td>valid</td>\n",
       "      <td>112.43</td>\n",
       "      <td>195.32</td>\n",
       "      <td>214.78</td>\n",
       "      <td>438.19</td>\n",
       "      <td>48685.6791</td>\n",
       "    </tr>\n",
       "    <tr>\n",
       "      <th>535917</th>\n",
       "      <td>352582</td>\n",
       "      <td>person</td>\n",
       "      <td>1</td>\n",
       "      <td>valid</td>\n",
       "      <td>0.00</td>\n",
       "      <td>256.00</td>\n",
       "      <td>80.54</td>\n",
       "      <td>376.81</td>\n",
       "      <td>22650.7380</td>\n",
       "    </tr>\n",
       "    <tr>\n",
       "      <th>602093</th>\n",
       "      <td>352582</td>\n",
       "      <td>frisbee</td>\n",
       "      <td>34</td>\n",
       "      <td>valid</td>\n",
       "      <td>171.63</td>\n",
       "      <td>424.03</td>\n",
       "      <td>85.89</td>\n",
       "      <td>40.67</td>\n",
       "      <td>2605.7209</td>\n",
       "    </tr>\n",
       "  </tbody>\n",
       "</table>\n",
       "</div>"
      ],
      "text/plain": [
       "        image_id category_str  category_id  split  box_x_min  box_y_min  \\\n",
       "id                                                                        \n",
       "460450    352582       person            1  valid     112.43     195.32   \n",
       "535917    352582       person            1  valid       0.00     256.00   \n",
       "602093    352582      frisbee           34  valid     171.63     424.03   \n",
       "\n",
       "        box_width  box_height        area  \n",
       "id                                         \n",
       "460450     214.78      438.19  48685.6791  \n",
       "535917      80.54      376.81  22650.7380  \n",
       "602093      85.89       40.67   2605.7209  "
      ]
     },
     "metadata": {},
     "output_type": "display_data"
    },
    {
     "name": "stdout",
     "output_type": "stream",
     "text": [
      "width                                      640\n",
      "height                                     480\n",
      "relative_path    Images/valid/000000113354.jpg\n",
      "type                                      .jpg\n",
      "split                                    valid\n",
      "Name: 113354, dtype: object\n"
     ]
    },
    {
     "data": {
      "text/html": [
       "<div>\n",
       "<style scoped>\n",
       "    .dataframe tbody tr th:only-of-type {\n",
       "        vertical-align: middle;\n",
       "    }\n",
       "\n",
       "    .dataframe tbody tr th {\n",
       "        vertical-align: top;\n",
       "    }\n",
       "\n",
       "    .dataframe thead th {\n",
       "        text-align: right;\n",
       "    }\n",
       "</style>\n",
       "<table border=\"1\" class=\"dataframe\">\n",
       "  <thead>\n",
       "    <tr style=\"text-align: right;\">\n",
       "      <th></th>\n",
       "      <th>image_id</th>\n",
       "      <th>category_str</th>\n",
       "      <th>category_id</th>\n",
       "      <th>split</th>\n",
       "      <th>box_x_min</th>\n",
       "      <th>box_y_min</th>\n",
       "      <th>box_width</th>\n",
       "      <th>box_height</th>\n",
       "      <th>area</th>\n",
       "    </tr>\n",
       "    <tr>\n",
       "      <th>id</th>\n",
       "      <th></th>\n",
       "      <th></th>\n",
       "      <th></th>\n",
       "      <th></th>\n",
       "      <th></th>\n",
       "      <th></th>\n",
       "      <th></th>\n",
       "      <th></th>\n",
       "      <th></th>\n",
       "    </tr>\n",
       "  </thead>\n",
       "  <tbody>\n",
       "    <tr>\n",
       "      <th>589077</th>\n",
       "      <td>113354</td>\n",
       "      <td>zebra</td>\n",
       "      <td>24</td>\n",
       "      <td>valid</td>\n",
       "      <td>260.99</td>\n",
       "      <td>158.88</td>\n",
       "      <td>141.52</td>\n",
       "      <td>194.11</td>\n",
       "      <td>9978.94125</td>\n",
       "    </tr>\n",
       "    <tr>\n",
       "      <th>589740</th>\n",
       "      <td>113354</td>\n",
       "      <td>zebra</td>\n",
       "      <td>24</td>\n",
       "      <td>valid</td>\n",
       "      <td>366.49</td>\n",
       "      <td>174.59</td>\n",
       "      <td>115.67</td>\n",
       "      <td>142.71</td>\n",
       "      <td>5784.68620</td>\n",
       "    </tr>\n",
       "    <tr>\n",
       "      <th>592005</th>\n",
       "      <td>113354</td>\n",
       "      <td>zebra</td>\n",
       "      <td>24</td>\n",
       "      <td>valid</td>\n",
       "      <td>3.24</td>\n",
       "      <td>151.28</td>\n",
       "      <td>265.34</td>\n",
       "      <td>175.82</td>\n",
       "      <td>16206.37480</td>\n",
       "    </tr>\n",
       "  </tbody>\n",
       "</table>\n",
       "</div>"
      ],
      "text/plain": [
       "        image_id category_str  category_id  split  box_x_min  box_y_min  \\\n",
       "id                                                                        \n",
       "589077    113354        zebra           24  valid     260.99     158.88   \n",
       "589740    113354        zebra           24  valid     366.49     174.59   \n",
       "592005    113354        zebra           24  valid       3.24     151.28   \n",
       "\n",
       "        box_width  box_height         area  \n",
       "id                                          \n",
       "589077     141.52      194.11   9978.94125  \n",
       "589740     115.67      142.71   5784.68620  \n",
       "592005     265.34      175.82  16206.37480  "
      ]
     },
     "metadata": {},
     "output_type": "display_data"
    }
   ],
   "source": [
    "for image, annotations in COCO_dataset[:2].iter_images():\n",
    "    print(image)\n",
    "    display(annotations)"
   ]
  },
  {
   "cell_type": "code",
   "execution_count": 12,
   "id": "9aeb39a4-ff36-430d-beed-ec0fca71a189",
   "metadata": {},
   "outputs": [
    {
     "name": "stdout",
     "output_type": "stream",
     "text": [
      "width                                      425\n",
      "height                                     640\n",
      "relative_path    Images/valid/000000352582.jpg\n",
      "type                                      .jpg\n",
      "split                                    valid\n",
      "Name: 352582, dtype: object\n"
     ]
    },
    {
     "data": {
      "text/html": [
       "<div>\n",
       "<style scoped>\n",
       "    .dataframe tbody tr th:only-of-type {\n",
       "        vertical-align: middle;\n",
       "    }\n",
       "\n",
       "    .dataframe tbody tr th {\n",
       "        vertical-align: top;\n",
       "    }\n",
       "\n",
       "    .dataframe thead th {\n",
       "        text-align: right;\n",
       "    }\n",
       "</style>\n",
       "<table border=\"1\" class=\"dataframe\">\n",
       "  <thead>\n",
       "    <tr style=\"text-align: right;\">\n",
       "      <th></th>\n",
       "      <th>image_id</th>\n",
       "      <th>category_str</th>\n",
       "      <th>category_id</th>\n",
       "      <th>split</th>\n",
       "      <th>box_x_min</th>\n",
       "      <th>box_y_min</th>\n",
       "      <th>box_width</th>\n",
       "      <th>box_height</th>\n",
       "      <th>area</th>\n",
       "    </tr>\n",
       "    <tr>\n",
       "      <th>id</th>\n",
       "      <th></th>\n",
       "      <th></th>\n",
       "      <th></th>\n",
       "      <th></th>\n",
       "      <th></th>\n",
       "      <th></th>\n",
       "      <th></th>\n",
       "      <th></th>\n",
       "      <th></th>\n",
       "    </tr>\n",
       "  </thead>\n",
       "  <tbody>\n",
       "    <tr>\n",
       "      <th>589077</th>\n",
       "      <td>113354</td>\n",
       "      <td>zebra</td>\n",
       "      <td>24</td>\n",
       "      <td>valid</td>\n",
       "      <td>260.99</td>\n",
       "      <td>158.88</td>\n",
       "      <td>141.52</td>\n",
       "      <td>194.11</td>\n",
       "      <td>9978.94125</td>\n",
       "    </tr>\n",
       "    <tr>\n",
       "      <th>589740</th>\n",
       "      <td>113354</td>\n",
       "      <td>zebra</td>\n",
       "      <td>24</td>\n",
       "      <td>valid</td>\n",
       "      <td>366.49</td>\n",
       "      <td>174.59</td>\n",
       "      <td>115.67</td>\n",
       "      <td>142.71</td>\n",
       "      <td>5784.68620</td>\n",
       "    </tr>\n",
       "    <tr>\n",
       "      <th>592005</th>\n",
       "      <td>113354</td>\n",
       "      <td>zebra</td>\n",
       "      <td>24</td>\n",
       "      <td>valid</td>\n",
       "      <td>3.24</td>\n",
       "      <td>151.28</td>\n",
       "      <td>265.34</td>\n",
       "      <td>175.82</td>\n",
       "      <td>16206.37480</td>\n",
       "    </tr>\n",
       "  </tbody>\n",
       "</table>\n",
       "</div>"
      ],
      "text/plain": [
       "        image_id category_str  category_id  split  box_x_min  box_y_min  \\\n",
       "id                                                                        \n",
       "589077    113354        zebra           24  valid     260.99     158.88   \n",
       "589740    113354        zebra           24  valid     366.49     174.59   \n",
       "592005    113354        zebra           24  valid       3.24     151.28   \n",
       "\n",
       "        box_width  box_height         area  \n",
       "id                                          \n",
       "589077     141.52      194.11   9978.94125  \n",
       "589740     115.67      142.71   5784.68620  \n",
       "592005     265.34      175.82  16206.37480  "
      ]
     },
     "metadata": {},
     "output_type": "display_data"
    }
   ],
   "source": [
    "image, annotation = COCO_dataset[:2].get_one_frame(0)\n",
    "print(image)\n",
    "display(annotations)"
   ]
  },
  {
   "cell_type": "markdown",
   "id": "23d1ac33",
   "metadata": {},
   "source": [
    "## Remap classes\n",
    "\n",
    "Here we use the preset COCO -> Pascal to convert coco classes into Pascal's annotation book"
   ]
  },
  {
   "cell_type": "code",
   "execution_count": 13,
   "id": "0370d148",
   "metadata": {},
   "outputs": [
    {
     "data": {
      "text/plain": [
       "{1: 'person',\n",
       " 2: 'bicycle',\n",
       " 3: 'car',\n",
       " 4: 'motorcycle',\n",
       " 5: 'airplane',\n",
       " 6: 'bus',\n",
       " 7: 'train',\n",
       " 8: 'truck',\n",
       " 9: 'boat',\n",
       " 10: 'traffic light',\n",
       " 11: 'fire hydrant',\n",
       " 13: 'stop sign',\n",
       " 14: 'parking meter',\n",
       " 15: 'bench',\n",
       " 16: 'bird',\n",
       " 17: 'cat',\n",
       " 18: 'dog',\n",
       " 19: 'horse',\n",
       " 20: 'sheep',\n",
       " 21: 'cow',\n",
       " 22: 'elephant',\n",
       " 23: 'bear',\n",
       " 24: 'zebra',\n",
       " 25: 'giraffe',\n",
       " 27: 'backpack',\n",
       " 28: 'umbrella',\n",
       " 31: 'handbag',\n",
       " 32: 'tie',\n",
       " 33: 'suitcase',\n",
       " 34: 'frisbee',\n",
       " 35: 'skis',\n",
       " 36: 'snowboard',\n",
       " 37: 'sports ball',\n",
       " 38: 'kite',\n",
       " 39: 'baseball bat',\n",
       " 40: 'baseball glove',\n",
       " 41: 'skateboard',\n",
       " 42: 'surfboard',\n",
       " 43: 'tennis racket',\n",
       " 44: 'bottle',\n",
       " 46: 'wine glass',\n",
       " 47: 'cup',\n",
       " 48: 'fork',\n",
       " 49: 'knife',\n",
       " 50: 'spoon',\n",
       " 51: 'bowl',\n",
       " 52: 'banana',\n",
       " 53: 'apple',\n",
       " 54: 'sandwich',\n",
       " 55: 'orange',\n",
       " 56: 'broccoli',\n",
       " 57: 'carrot',\n",
       " 58: 'hot dog',\n",
       " 59: 'pizza',\n",
       " 60: 'donut',\n",
       " 61: 'cake',\n",
       " 62: 'chair',\n",
       " 63: 'couch',\n",
       " 64: 'potted plant',\n",
       " 65: 'bed',\n",
       " 67: 'dining table',\n",
       " 70: 'toilet',\n",
       " 72: 'tv',\n",
       " 73: 'laptop',\n",
       " 74: 'mouse',\n",
       " 75: 'remote',\n",
       " 76: 'keyboard',\n",
       " 77: 'cell phone',\n",
       " 78: 'microwave',\n",
       " 79: 'oven',\n",
       " 80: 'toaster',\n",
       " 81: 'sink',\n",
       " 82: 'refrigerator',\n",
       " 84: 'book',\n",
       " 85: 'clock',\n",
       " 86: 'vase',\n",
       " 87: 'scissors',\n",
       " 88: 'teddy bear',\n",
       " 89: 'hair drier',\n",
       " 90: 'toothbrush'}"
      ]
     },
     "execution_count": 13,
     "metadata": {},
     "output_type": "execute_result"
    }
   ],
   "source": [
    "COCO_dataset.label_map"
   ]
  },
  {
   "cell_type": "code",
   "execution_count": 14,
   "id": "f98b9239",
   "metadata": {},
   "outputs": [],
   "source": [
    "COCO_pascal = COCO_dataset.remap_from_preset(\"coco\", \"pascalvoc\")"
   ]
  },
  {
   "cell_type": "markdown",
   "id": "ee0ae0f8",
   "metadata": {},
   "source": [
    "See how label map tab has changed"
   ]
  },
  {
   "cell_type": "code",
   "execution_count": 15,
   "id": "13ccea81",
   "metadata": {},
   "outputs": [
    {
     "data": {
      "application/vnd.jupyter.widget-view+json": {
       "model_id": "c0842573e52f451a9c0330c57582545b",
       "version_major": 2,
       "version_minor": 0
      },
      "text/plain": [
       "VBox(children=(HTML(value=\"<p><span style='white-space: pre-wrap; font-weight: bold'>Dataset object containing…"
      ]
     },
     "metadata": {},
     "output_type": "display_data"
    }
   ],
   "source": [
    "COCO_pascal"
   ]
  },
  {
   "cell_type": "markdown",
   "id": "75af882b",
   "metadata": {},
   "source": [
    "### Remap from dictionaries\n",
    "\n",
    "Fictional usecase where we want to only have vehicles, bags and animals.\n",
    "If given, new_names must be the length of distinct values in class_mapping"
   ]
  },
  {
   "cell_type": "code",
   "execution_count": 16,
   "id": "f1d57135",
   "metadata": {},
   "outputs": [],
   "source": [
    "COCO_RT = COCO_pascal.remap_classes(\n",
    "    class_mapping={\n",
    "        1: 2,\n",
    "        2: 2,\n",
    "        3: 1,\n",
    "        4: 1,\n",
    "        5: 3,\n",
    "        6: 2,\n",
    "        7: 2,\n",
    "        8: 1,\n",
    "        9: 3,\n",
    "        10: 1,\n",
    "        11: 3,\n",
    "        12: 1,\n",
    "        13: 1,\n",
    "        14: 2,\n",
    "        16: 3,\n",
    "        17: 1,\n",
    "        18: 3,\n",
    "        19: 2,\n",
    "        20: 3,\n",
    "    },\n",
    "    new_names={1: \"Animal\", 2: \"Vehicle\", 3: \"Object\"},\n",
    ")"
   ]
  },
  {
   "cell_type": "code",
   "execution_count": 17,
   "id": "132bce91",
   "metadata": {},
   "outputs": [
    {
     "data": {
      "application/vnd.jupyter.widget-view+json": {
       "model_id": "66c5898e6d684231b8354c3b6620b168",
       "version_major": 2,
       "version_minor": 0
      },
      "text/plain": [
       "VBox(children=(HTML(value=\"<p><span style='white-space: pre-wrap; font-weight: bold'>Dataset object containing…"
      ]
     },
     "metadata": {},
     "output_type": "display_data"
    }
   ],
   "source": [
    "COCO_RT"
   ]
  },
  {
   "cell_type": "markdown",
   "id": "0c615950",
   "metadata": {},
   "source": [
    "### Remap from dataframe\n",
    "\n",
    "Dataframe for remapping must have at least 2 columns : `input_category_id` and `output_category_id`\n",
    "\n",
    "If available, `output_category_name` will be use to replace the names of remapped ids.\n",
    "\n",
    "`input_category_name` only serves an informative purpose."
   ]
  },
  {
   "cell_type": "code",
   "execution_count": 18,
   "id": "6afdf8fc",
   "metadata": {},
   "outputs": [],
   "source": [
    "import pandas as pd\n",
    "\n",
    "class_table = (\n",
    "    pd.Series(COCO_pascal.label_map).rename(\"input_category_name\").sort_index()\n",
    ")\n",
    "class_table.index.rename(\"input_category_id\", inplace=True)\n",
    "class_table = class_table.reset_index().drop(15)\n",
    "class_table[\"output_category_id\"] = [\n",
    "    2,\n",
    "    2,\n",
    "    1,\n",
    "    2,\n",
    "    3,\n",
    "    2,\n",
    "    2,\n",
    "    1,\n",
    "    3,\n",
    "    1,\n",
    "    3,\n",
    "    1,\n",
    "    1,\n",
    "    2,\n",
    "    3,\n",
    "    1,\n",
    "    3,\n",
    "    2,\n",
    "    3,\n",
    "]\n",
    "class_table[\"output_category_name\"] = class_table[\"output_category_id\"].replace(\n",
    "    {1: \"animal\", 2: \"vehicle\", 3: \"object\"}\n",
    ")"
   ]
  },
  {
   "cell_type": "code",
   "execution_count": 19,
   "id": "43e1a9eb",
   "metadata": {
    "scrolled": true
   },
   "outputs": [
    {
     "data": {
      "text/html": [
       "<div>\n",
       "<style scoped>\n",
       "    .dataframe tbody tr th:only-of-type {\n",
       "        vertical-align: middle;\n",
       "    }\n",
       "\n",
       "    .dataframe tbody tr th {\n",
       "        vertical-align: top;\n",
       "    }\n",
       "\n",
       "    .dataframe thead th {\n",
       "        text-align: right;\n",
       "    }\n",
       "</style>\n",
       "<table border=\"1\" class=\"dataframe\">\n",
       "  <thead>\n",
       "    <tr style=\"text-align: right;\">\n",
       "      <th></th>\n",
       "      <th>input_category_id</th>\n",
       "      <th>input_category_name</th>\n",
       "      <th>output_category_id</th>\n",
       "      <th>output_category_name</th>\n",
       "    </tr>\n",
       "  </thead>\n",
       "  <tbody>\n",
       "    <tr>\n",
       "      <th>0</th>\n",
       "      <td>1</td>\n",
       "      <td>aeroplane</td>\n",
       "      <td>2</td>\n",
       "      <td>vehicle</td>\n",
       "    </tr>\n",
       "    <tr>\n",
       "      <th>1</th>\n",
       "      <td>2</td>\n",
       "      <td>bicycle</td>\n",
       "      <td>2</td>\n",
       "      <td>vehicle</td>\n",
       "    </tr>\n",
       "    <tr>\n",
       "      <th>2</th>\n",
       "      <td>3</td>\n",
       "      <td>bird</td>\n",
       "      <td>1</td>\n",
       "      <td>animal</td>\n",
       "    </tr>\n",
       "    <tr>\n",
       "      <th>3</th>\n",
       "      <td>4</td>\n",
       "      <td>boat</td>\n",
       "      <td>2</td>\n",
       "      <td>vehicle</td>\n",
       "    </tr>\n",
       "    <tr>\n",
       "      <th>4</th>\n",
       "      <td>5</td>\n",
       "      <td>bottle</td>\n",
       "      <td>3</td>\n",
       "      <td>object</td>\n",
       "    </tr>\n",
       "    <tr>\n",
       "      <th>5</th>\n",
       "      <td>6</td>\n",
       "      <td>bus</td>\n",
       "      <td>2</td>\n",
       "      <td>vehicle</td>\n",
       "    </tr>\n",
       "    <tr>\n",
       "      <th>6</th>\n",
       "      <td>7</td>\n",
       "      <td>car</td>\n",
       "      <td>2</td>\n",
       "      <td>vehicle</td>\n",
       "    </tr>\n",
       "    <tr>\n",
       "      <th>7</th>\n",
       "      <td>8</td>\n",
       "      <td>cat</td>\n",
       "      <td>1</td>\n",
       "      <td>animal</td>\n",
       "    </tr>\n",
       "    <tr>\n",
       "      <th>8</th>\n",
       "      <td>9</td>\n",
       "      <td>chair</td>\n",
       "      <td>3</td>\n",
       "      <td>object</td>\n",
       "    </tr>\n",
       "    <tr>\n",
       "      <th>9</th>\n",
       "      <td>10</td>\n",
       "      <td>cow</td>\n",
       "      <td>1</td>\n",
       "      <td>animal</td>\n",
       "    </tr>\n",
       "    <tr>\n",
       "      <th>10</th>\n",
       "      <td>11</td>\n",
       "      <td>diningtable</td>\n",
       "      <td>3</td>\n",
       "      <td>object</td>\n",
       "    </tr>\n",
       "    <tr>\n",
       "      <th>11</th>\n",
       "      <td>12</td>\n",
       "      <td>dog</td>\n",
       "      <td>1</td>\n",
       "      <td>animal</td>\n",
       "    </tr>\n",
       "    <tr>\n",
       "      <th>12</th>\n",
       "      <td>13</td>\n",
       "      <td>horse</td>\n",
       "      <td>1</td>\n",
       "      <td>animal</td>\n",
       "    </tr>\n",
       "    <tr>\n",
       "      <th>13</th>\n",
       "      <td>14</td>\n",
       "      <td>motorbike</td>\n",
       "      <td>2</td>\n",
       "      <td>vehicle</td>\n",
       "    </tr>\n",
       "    <tr>\n",
       "      <th>14</th>\n",
       "      <td>15</td>\n",
       "      <td>person</td>\n",
       "      <td>3</td>\n",
       "      <td>object</td>\n",
       "    </tr>\n",
       "    <tr>\n",
       "      <th>16</th>\n",
       "      <td>17</td>\n",
       "      <td>sheep</td>\n",
       "      <td>1</td>\n",
       "      <td>animal</td>\n",
       "    </tr>\n",
       "    <tr>\n",
       "      <th>17</th>\n",
       "      <td>18</td>\n",
       "      <td>sofa</td>\n",
       "      <td>3</td>\n",
       "      <td>object</td>\n",
       "    </tr>\n",
       "    <tr>\n",
       "      <th>18</th>\n",
       "      <td>19</td>\n",
       "      <td>train</td>\n",
       "      <td>2</td>\n",
       "      <td>vehicle</td>\n",
       "    </tr>\n",
       "    <tr>\n",
       "      <th>19</th>\n",
       "      <td>20</td>\n",
       "      <td>tvmonitor</td>\n",
       "      <td>3</td>\n",
       "      <td>object</td>\n",
       "    </tr>\n",
       "  </tbody>\n",
       "</table>\n",
       "</div>"
      ],
      "text/plain": [
       "    input_category_id input_category_name  output_category_id  \\\n",
       "0                   1           aeroplane                   2   \n",
       "1                   2             bicycle                   2   \n",
       "2                   3                bird                   1   \n",
       "3                   4                boat                   2   \n",
       "4                   5              bottle                   3   \n",
       "5                   6                 bus                   2   \n",
       "6                   7                 car                   2   \n",
       "7                   8                 cat                   1   \n",
       "8                   9               chair                   3   \n",
       "9                  10                 cow                   1   \n",
       "10                 11         diningtable                   3   \n",
       "11                 12                 dog                   1   \n",
       "12                 13               horse                   1   \n",
       "13                 14           motorbike                   2   \n",
       "14                 15              person                   3   \n",
       "16                 17               sheep                   1   \n",
       "17                 18                sofa                   3   \n",
       "18                 19               train                   2   \n",
       "19                 20           tvmonitor                   3   \n",
       "\n",
       "   output_category_name  \n",
       "0               vehicle  \n",
       "1               vehicle  \n",
       "2                animal  \n",
       "3               vehicle  \n",
       "4                object  \n",
       "5               vehicle  \n",
       "6               vehicle  \n",
       "7                animal  \n",
       "8                object  \n",
       "9                animal  \n",
       "10               object  \n",
       "11               animal  \n",
       "12               animal  \n",
       "13              vehicle  \n",
       "14               object  \n",
       "16               animal  \n",
       "17               object  \n",
       "18              vehicle  \n",
       "19               object  "
      ]
     },
     "execution_count": 19,
     "metadata": {},
     "output_type": "execute_result"
    }
   ],
   "source": [
    "class_table"
   ]
  },
  {
   "cell_type": "code",
   "execution_count": 20,
   "id": "bd8e9292",
   "metadata": {},
   "outputs": [],
   "source": [
    "COCO_RT_DF = COCO_pascal.remap_from_dataframe(class_table)"
   ]
  },
  {
   "cell_type": "code",
   "execution_count": 21,
   "id": "5adf94a8",
   "metadata": {},
   "outputs": [
    {
     "data": {
      "application/vnd.jupyter.widget-view+json": {
       "model_id": "aaceed134f0847ef9b9992481c8a1c97",
       "version_major": 2,
       "version_minor": 0
      },
      "text/plain": [
       "VBox(children=(HTML(value=\"<p><span style='white-space: pre-wrap; font-weight: bold'>Dataset object containing…"
      ]
     },
     "metadata": {},
     "output_type": "display_data"
    }
   ],
   "source": [
    "COCO_RT_DF"
   ]
  },
  {
   "cell_type": "markdown",
   "id": "c4e2d597",
   "metadata": {},
   "source": [
    "### Remap from CSV\n",
    "\n",
    "Basically the same as remap from dataframe, except the input is a csv file with the same data"
   ]
  },
  {
   "cell_type": "code",
   "execution_count": 22,
   "id": "5576ee64",
   "metadata": {},
   "outputs": [],
   "source": [
    "csv_file = \"remap.csv\"\n",
    "class_table.to_csv(csv_file, index=False)"
   ]
  },
  {
   "cell_type": "code",
   "execution_count": 23,
   "id": "43c67237",
   "metadata": {},
   "outputs": [
    {
     "name": "stdout",
     "output_type": "stream",
     "text": [
      "input_category_id,input_category_name,output_category_id,output_category_name\n",
      "1,aeroplane,2,vehicle\n",
      "2,bicycle,2,vehicle\n",
      "3,bird,1,animal\n",
      "4,boat,2,vehicle\n",
      "5,bottle,3,object\n",
      "6,bus,2,vehicle\n",
      "7,car,2,vehicle\n",
      "8,cat,1,animal\n",
      "9,chair,3,object\n",
      "10,cow,1,animal\n",
      "11,diningtable,3,object\n",
      "12,dog,1,animal\n",
      "13,horse,1,animal\n",
      "14,motorbike,2,vehicle\n",
      "15,person,3,object\n",
      "17,sheep,1,animal\n",
      "18,sofa,3,object\n",
      "19,train,2,vehicle\n",
      "20,tvmonitor,3,object\n"
     ]
    }
   ],
   "source": [
    "!cat remap.csv"
   ]
  },
  {
   "cell_type": "code",
   "execution_count": 24,
   "id": "6e64cee3",
   "metadata": {},
   "outputs": [],
   "source": [
    "COCO_RT_CSV = COCO_pascal.remap_from_csv(csv_file)"
   ]
  },
  {
   "cell_type": "code",
   "execution_count": 25,
   "id": "661820a1",
   "metadata": {
    "editable": true,
    "slideshow": {
     "slide_type": ""
    },
    "tags": []
   },
   "outputs": [
    {
     "data": {
      "application/vnd.jupyter.widget-view+json": {
       "model_id": "344847f654624dabb579b6924839a711",
       "version_major": 2,
       "version_minor": 0
      },
      "text/plain": [
       "VBox(children=(HTML(value=\"<p><span style='white-space: pre-wrap; font-weight: bold'>Dataset object containing…"
      ]
     },
     "metadata": {},
     "output_type": "display_data"
    }
   ],
   "source": [
    "COCO_RT_CSV"
   ]
  },
  {
   "cell_type": "markdown",
   "id": "6ad1ee14-9f78-49e7-b3f9-a66e62f586e8",
   "metadata": {},
   "source": [
    "### Remap from other dataset\n",
    "\n",
    "This method will try to retrieve the label names in the other dataset and apply a remapping accordingly.\n",
    "\n",
    "classes that are not in the other dataset are mapped to a free id with respect to the other dataset's label map."
   ]
  },
  {
   "cell_type": "code",
   "execution_count": 26,
   "id": "ca0b35e5-5424-4f0b-a6e0-d08f00a34ab7",
   "metadata": {},
   "outputs": [
    {
     "name": "stdout",
     "output_type": "stream",
     "text": [
      "Using the following class remapping dictionary :\n",
      "{1: 22,\n",
      " 2: 21,\n",
      " 3: 23,\n",
      " 4: 4,\n",
      " 5: 5,\n",
      " 6: 6,\n",
      " 7: 7,\n",
      " 8: 8,\n",
      " 9: 9,\n",
      " 10: 10,\n",
      " 11: 11,\n",
      " 12: 12,\n",
      " 13: 13,\n",
      " 14: 14,\n",
      " 15: 15,\n",
      " 16: 16,\n",
      " 17: 17,\n",
      " 18: 18,\n",
      " 19: 19,\n",
      " 20: 20}\n"
     ]
    },
    {
     "data": {
      "application/vnd.jupyter.widget-view+json": {
       "model_id": "66fc017ed5cf4d37988be297d41631d0",
       "version_major": 2,
       "version_minor": 0
      },
      "text/plain": [
       "VBox(children=(HTML(value=\"<p><span style='white-space: pre-wrap; font-weight: bold'>Dataset object containing…"
      ]
     },
     "metadata": {},
     "output_type": "display_data"
    }
   ],
   "source": [
    "COCO_RT_other = COCO_pascal.remap_from_other(COCO_RT_CSV)\n",
    "COCO_RT_CSV"
   ]
  },
  {
   "cell_type": "markdown",
   "id": "eb84deb8-c5ee-4f0c-9581-f20b883d16b8",
   "metadata": {},
   "source": [
    "## Dataset Reindexing\n",
    "\n",
    "### Resetting index\n",
    "\n",
    "The `reset_index` method allows you to reorder the dataset's dataframes according to some column values"
   ]
  },
  {
   "cell_type": "code",
   "execution_count": 27,
   "id": "36b551b2-ff99-4d2f-835b-2d1836224770",
   "metadata": {},
   "outputs": [
    {
     "data": {
      "application/vnd.jupyter.widget-view+json": {
       "model_id": "34d27bc8262b406aa07897df435cd0c8",
       "version_major": 2,
       "version_minor": 0
      },
      "text/plain": [
       "VBox(children=(HTML(value=\"<p><span style='white-space: pre-wrap; font-weight: bold'>Dataset object containing…"
      ]
     },
     "metadata": {},
     "output_type": "display_data"
    }
   ],
   "source": [
    "COCO_dataset.reset_index()"
   ]
  },
  {
   "cell_type": "markdown",
   "id": "79cd558b-a37b-45d9-bf3e-59b1857d2a19",
   "metadata": {},
   "source": [
    "Sort the annotations by category string first : Get the dataframe to start with airplanes and finish with zebra."
   ]
  },
  {
   "cell_type": "code",
   "execution_count": 28,
   "id": "77c46450-874b-4ddc-a926-367b4e3fd4db",
   "metadata": {},
   "outputs": [
    {
     "data": {
      "application/vnd.jupyter.widget-view+json": {
       "model_id": "1bdf3d6bc034444baef9dc61ee66349d",
       "version_major": 2,
       "version_minor": 0
      },
      "text/plain": [
       "VBox(children=(HTML(value=\"<p><span style='white-space: pre-wrap; font-weight: bold'>Dataset object containing…"
      ]
     },
     "metadata": {},
     "output_type": "display_data"
    }
   ],
   "source": [
    "reset_COCO_dataset = COCO_dataset.reset_index(\n",
    "    start_image_id=10,\n",
    "    start_annotations_id=2,\n",
    "    sort_annotations_by=(\"category_str\", \"image_id\"),\n",
    ")\n",
    "reset_COCO_dataset"
   ]
  },
  {
   "cell_type": "markdown",
   "id": "b910f594-11f5-450d-9713-464118823637",
   "metadata": {},
   "source": [
    "### Reindex with mapping\n",
    "\n",
    "Akin to class remapping, you can also remap the dataset's dataframe indexes with dictionaries. Note that unmapped index values will be reset to a range index, but they will not be sorted. Be sure to sort the dataframes the way you want before calling the method `reset_index_from_mapping` with an incomplete index mapping."
   ]
  },
  {
   "cell_type": "code",
   "execution_count": 29,
   "id": "6e585ae1-5a68-40b1-81e5-1336b56bf0f5",
   "metadata": {},
   "outputs": [
    {
     "data": {
      "application/vnd.jupyter.widget-view+json": {
       "model_id": "076f5014f362455db86f5b8131aa0ea7",
       "version_major": 2,
       "version_minor": 0
      },
      "text/plain": [
       "VBox(children=(HTML(value=\"<p><span style='white-space: pre-wrap; font-weight: bold'>Dataset object containing…"
      ]
     },
     "metadata": {},
     "output_type": "display_data"
    }
   ],
   "source": [
    "COCO_dataset.reset_index_from_mapping(\n",
    "    images_index_map={58393: 0}, annotations_index_map={331107: 0}\n",
    ")"
   ]
  },
  {
   "cell_type": "markdown",
   "id": "1f9d3ba0-863c-4992-aa4e-a61acd7de77d",
   "metadata": {},
   "source": [
    "### Reindex images index from other dataframe\n",
    "\n",
    "This feature is similar to panda's [merge](https://pandas.pydata.org/docs/reference/api/pandas.DataFrame.merge.html) function : by selecting columns to merge on, the dataset will construct an index mapping for entries that are in both original images dataframe and the other dataframe, and optionally remap the other rows to a simple range index"
   ]
  },
  {
   "cell_type": "code",
   "execution_count": 30,
   "id": "5c7c3b19-faf8-4133-9361-d1859ca131c0",
   "metadata": {},
   "outputs": [
    {
     "data": {
      "application/vnd.jupyter.widget-view+json": {
       "model_id": "205f0ed4acc74934a2be02cf5be092cd",
       "version_major": 2,
       "version_minor": 0
      },
      "text/plain": [
       "VBox(children=(HTML(value=\"<p><span style='white-space: pre-wrap; font-weight: bold'>Dataset object containing…"
      ]
     },
     "metadata": {},
     "output_type": "display_data"
    },
    {
     "data": {
      "text/html": [
       "<div>\n",
       "<style scoped>\n",
       "    .dataframe tbody tr th:only-of-type {\n",
       "        vertical-align: middle;\n",
       "    }\n",
       "\n",
       "    .dataframe tbody tr th {\n",
       "        vertical-align: top;\n",
       "    }\n",
       "\n",
       "    .dataframe thead th {\n",
       "        text-align: right;\n",
       "    }\n",
       "</style>\n",
       "<table border=\"1\" class=\"dataframe\">\n",
       "  <thead>\n",
       "    <tr style=\"text-align: right;\">\n",
       "      <th></th>\n",
       "      <th>width</th>\n",
       "      <th>height</th>\n",
       "      <th>relative_path</th>\n",
       "      <th>type</th>\n",
       "      <th>split</th>\n",
       "    </tr>\n",
       "    <tr>\n",
       "      <th>id</th>\n",
       "      <th></th>\n",
       "      <th></th>\n",
       "      <th></th>\n",
       "      <th></th>\n",
       "      <th></th>\n",
       "    </tr>\n",
       "  </thead>\n",
       "  <tbody>\n",
       "    <tr>\n",
       "      <th>10</th>\n",
       "      <td>640</td>\n",
       "      <td>426</td>\n",
       "      <td>Images/valid/000000000139.jpg</td>\n",
       "      <td>.jpg</td>\n",
       "      <td>valid</td>\n",
       "    </tr>\n",
       "    <tr>\n",
       "      <th>11</th>\n",
       "      <td>586</td>\n",
       "      <td>640</td>\n",
       "      <td>Images/valid/000000000285.jpg</td>\n",
       "      <td>.jpg</td>\n",
       "      <td>valid</td>\n",
       "    </tr>\n",
       "    <tr>\n",
       "      <th>12</th>\n",
       "      <td>640</td>\n",
       "      <td>483</td>\n",
       "      <td>Images/valid/000000000632.jpg</td>\n",
       "      <td>.jpg</td>\n",
       "      <td>valid</td>\n",
       "    </tr>\n",
       "    <tr>\n",
       "      <th>13</th>\n",
       "      <td>375</td>\n",
       "      <td>500</td>\n",
       "      <td>Images/valid/000000000724.jpg</td>\n",
       "      <td>.jpg</td>\n",
       "      <td>valid</td>\n",
       "    </tr>\n",
       "    <tr>\n",
       "      <th>14</th>\n",
       "      <td>428</td>\n",
       "      <td>640</td>\n",
       "      <td>Images/valid/000000000776.jpg</td>\n",
       "      <td>.jpg</td>\n",
       "      <td>valid</td>\n",
       "    </tr>\n",
       "    <tr>\n",
       "      <th>...</th>\n",
       "      <td>...</td>\n",
       "      <td>...</td>\n",
       "      <td>...</td>\n",
       "      <td>...</td>\n",
       "      <td>...</td>\n",
       "    </tr>\n",
       "    <tr>\n",
       "      <th>5005</th>\n",
       "      <td>640</td>\n",
       "      <td>354</td>\n",
       "      <td>Images/valid/000000581317.jpg</td>\n",
       "      <td>.jpg</td>\n",
       "      <td>valid</td>\n",
       "    </tr>\n",
       "    <tr>\n",
       "      <th>5006</th>\n",
       "      <td>612</td>\n",
       "      <td>612</td>\n",
       "      <td>Images/valid/000000581357.jpg</td>\n",
       "      <td>.jpg</td>\n",
       "      <td>valid</td>\n",
       "    </tr>\n",
       "    <tr>\n",
       "      <th>5007</th>\n",
       "      <td>640</td>\n",
       "      <td>427</td>\n",
       "      <td>Images/valid/000000581482.jpg</td>\n",
       "      <td>.jpg</td>\n",
       "      <td>valid</td>\n",
       "    </tr>\n",
       "    <tr>\n",
       "      <th>5008</th>\n",
       "      <td>478</td>\n",
       "      <td>640</td>\n",
       "      <td>Images/valid/000000581615.jpg</td>\n",
       "      <td>.jpg</td>\n",
       "      <td>valid</td>\n",
       "    </tr>\n",
       "    <tr>\n",
       "      <th>5009</th>\n",
       "      <td>640</td>\n",
       "      <td>478</td>\n",
       "      <td>Images/valid/000000581781.jpg</td>\n",
       "      <td>.jpg</td>\n",
       "      <td>valid</td>\n",
       "    </tr>\n",
       "  </tbody>\n",
       "</table>\n",
       "<p>5000 rows × 5 columns</p>\n",
       "</div>"
      ],
      "text/plain": [
       "      width  height                  relative_path  type  split\n",
       "id                                                             \n",
       "10      640     426  Images/valid/000000000139.jpg  .jpg  valid\n",
       "11      586     640  Images/valid/000000000285.jpg  .jpg  valid\n",
       "12      640     483  Images/valid/000000000632.jpg  .jpg  valid\n",
       "13      375     500  Images/valid/000000000724.jpg  .jpg  valid\n",
       "14      428     640  Images/valid/000000000776.jpg  .jpg  valid\n",
       "...     ...     ...                            ...   ...    ...\n",
       "5005    640     354  Images/valid/000000581317.jpg  .jpg  valid\n",
       "5006    612     612  Images/valid/000000581357.jpg  .jpg  valid\n",
       "5007    640     427  Images/valid/000000581482.jpg  .jpg  valid\n",
       "5008    478     640  Images/valid/000000581615.jpg  .jpg  valid\n",
       "5009    640     478  Images/valid/000000581781.jpg  .jpg  valid\n",
       "\n",
       "[5000 rows x 5 columns]"
      ]
     },
     "execution_count": 30,
     "metadata": {},
     "output_type": "execute_result"
    }
   ],
   "source": [
    "matched_COCO = COCO_dataset.match_index(reset_COCO_dataset.images, on=\"relative_path\")\n",
    "display(matched_COCO)\n",
    "\n",
    "matched_COCO.images.sort_index()"
   ]
  },
  {
   "cell_type": "markdown",
   "id": "11316769",
   "metadata": {},
   "source": [
    "## Dataset merge\n",
    "\n",
    "### Regular merge\n",
    "\n",
    "Here, we divide COCO in two and merge them again to show how it works"
   ]
  },
  {
   "cell_type": "code",
   "execution_count": 31,
   "id": "fad3507e",
   "metadata": {},
   "outputs": [],
   "source": [
    "half1 = COCO_dataset[::2]\n",
    "half2 = COCO_dataset[1::2]"
   ]
  },
  {
   "cell_type": "code",
   "execution_count": 32,
   "id": "47348dd6",
   "metadata": {},
   "outputs": [
    {
     "data": {
      "application/vnd.jupyter.widget-view+json": {
       "model_id": "b5a9b32992ce49fda69111552824156e",
       "version_major": 2,
       "version_minor": 0
      },
      "text/plain": [
       "VBox(children=(HTML(value=\"<p><span style='white-space: pre-wrap; font-weight: bold'>Dataset object containing…"
      ]
     },
     "metadata": {},
     "output_type": "display_data"
    },
    {
     "data": {
      "application/vnd.jupyter.widget-view+json": {
       "model_id": "8f165e10a8b749389f3617f490d2cb65",
       "version_major": 2,
       "version_minor": 0
      },
      "text/plain": [
       "VBox(children=(HTML(value=\"<p><span style='white-space: pre-wrap; font-weight: bold'>Dataset object containing…"
      ]
     },
     "metadata": {},
     "output_type": "display_data"
    }
   ],
   "source": [
    "from libia.utils.testing import assert_dataset_equal\n",
    "\n",
    "merged_back = half1 + half2\n",
    "display(merged_back)\n",
    "display(COCO_dataset)\n",
    "assert_dataset_equal(COCO_dataset, merged_back)"
   ]
  },
  {
   "cell_type": "markdown",
   "id": "16546503",
   "metadata": {},
   "source": [
    "### Merge with `ignore_index`\n",
    "\n",
    "the merge function can be used with `ignore_index` when image ids are overlapping"
   ]
  },
  {
   "cell_type": "code",
   "execution_count": 33,
   "id": "47cb8ffb",
   "metadata": {},
   "outputs": [],
   "source": [
    "half1 = half1.reset_index()\n",
    "half2 = half2.reset_index()"
   ]
  },
  {
   "cell_type": "code",
   "execution_count": 34,
   "id": "2a1f28f6",
   "metadata": {},
   "outputs": [
    {
     "data": {
      "application/vnd.jupyter.widget-view+json": {
       "model_id": "d20531b850294af6ac1bfee3da6d4b62",
       "version_major": 2,
       "version_minor": 0
      },
      "text/plain": [
       "VBox(children=(HTML(value=\"<p><span style='white-space: pre-wrap; font-weight: bold'>Dataset object containing…"
      ]
     },
     "metadata": {},
     "output_type": "display_data"
    }
   ],
   "source": [
    "merged_back = half1.merge(half2, ignore_index=True)\n",
    "assert_dataset_equal(merged_back, COCO_dataset, ignore_index=True)\n",
    "merged_back"
   ]
  },
  {
   "cell_type": "markdown",
   "id": "e749611b",
   "metadata": {},
   "source": [
    "### Merging with overlapping ids\n",
    "\n",
    "If your datasets have images with overlapping ids, they can still be merged as long as the overlapping subset are the exact same"
   ]
  },
  {
   "cell_type": "code",
   "execution_count": 35,
   "id": "cb2350a1",
   "metadata": {},
   "outputs": [
    {
     "data": {
      "application/vnd.jupyter.widget-view+json": {
       "model_id": "2b0df1454ddf4954b8c6377ccb72544c",
       "version_major": 2,
       "version_minor": 0
      },
      "text/plain": [
       "VBox(children=(HTML(value=\"<p><span style='white-space: pre-wrap; font-weight: bold'>Dataset object containing…"
      ]
     },
     "metadata": {},
     "output_type": "display_data"
    },
    {
     "data": {
      "application/vnd.jupyter.widget-view+json": {
       "model_id": "8a648d3ad8af46f5838e5b5074761d73",
       "version_major": 2,
       "version_minor": 0
      },
      "text/plain": [
       "VBox(children=(HTML(value=\"<p><span style='white-space: pre-wrap; font-weight: bold'>Dataset object containing…"
      ]
     },
     "metadata": {},
     "output_type": "display_data"
    }
   ],
   "source": [
    "half1 = Dataset.from_template(\n",
    "    COCO_dataset, annotations=COCO_dataset.annotations.iloc[::2]\n",
    ")\n",
    "display(half1)\n",
    "half2 = Dataset.from_template(\n",
    "    COCO_dataset, annotations=COCO_dataset.annotations.iloc[1::2]\n",
    ")\n",
    "display(half2)\n",
    "merged_back = half1 + half2\n",
    "assert_dataset_equal(COCO_dataset, merged_back)"
   ]
  },
  {
   "cell_type": "markdown",
   "id": "16ebfbd3",
   "metadata": {},
   "source": [
    "Merging overlapping ids can be turned off with `allow_overlapping_ids` set to False."
   ]
  },
  {
   "cell_type": "code",
   "execution_count": 36,
   "id": "5a165442",
   "metadata": {
    "editable": true,
    "slideshow": {
     "slide_type": ""
    },
    "tags": [
     "raises-exception"
    ]
   },
   "outputs": [
    {
     "ename": "ValueError",
     "evalue": "Overlapping image ids not permitted. Consider using the allow_overlapping_image_ids or ignore_index options",
     "output_type": "error",
     "traceback": [
      "\u001b[0;31m---------------------------------------------------------------------------\u001b[0m",
      "\u001b[0;31mValueError\u001b[0m                                Traceback (most recent call last)",
      "Cell \u001b[0;32mIn[36], line 1\u001b[0m\n\u001b[0;32m----> 1\u001b[0m \u001b[43mhalf1\u001b[49m\u001b[38;5;241;43m.\u001b[39;49m\u001b[43mmerge\u001b[49m\u001b[43m(\u001b[49m\u001b[43mhalf2\u001b[49m\u001b[43m,\u001b[49m\u001b[43m \u001b[49m\u001b[43mallow_overlapping_image_ids\u001b[49m\u001b[38;5;241;43m=\u001b[39;49m\u001b[38;5;28;43;01mFalse\u001b[39;49;00m\u001b[43m)\u001b[49m\n",
      "File \u001b[0;32m~/workspace/libia-to-bamboo/libia/dataset/dataset.py:2802\u001b[0m, in \u001b[0;36mDataset.merge\u001b[0;34m(self, other, allow_overlapping_image_ids, realign_label_map, ignore_index, mark_origin, overwrite_origin)\u001b[0m\n\u001b[1;32m   2343\u001b[0m \u001b[38;5;250m\u001b[39m\u001b[38;5;124;03m\"\"\"Merge two datasets and return a unique dataset object containing\u001b[39;00m\n\u001b[1;32m   2344\u001b[0m \u001b[38;5;124;03mSamples from both. Result's images_root will be the common path of both\u001b[39;00m\n\u001b[1;32m   2345\u001b[0m \u001b[38;5;124;03mdatasets, and the image relative paths will be updated accordingly.\u001b[39;00m\n\u001b[0;32m   (...)\u001b[0m\n\u001b[1;32m   2798\u001b[0m \n\u001b[1;32m   2799\u001b[0m \u001b[38;5;124;03m\"\"\"\u001b[39;00m\n\u001b[1;32m   2800\u001b[0m \u001b[38;5;28;01mfrom\u001b[39;00m \u001b[38;5;21;01m.\u001b[39;00m\u001b[38;5;21;01mmerge\u001b[39;00m \u001b[38;5;28;01mimport\u001b[39;00m merge_datasets\n\u001b[0;32m-> 2802\u001b[0m \u001b[38;5;28;01mreturn\u001b[39;00m \u001b[43mmerge_datasets\u001b[49m\u001b[43m(\u001b[49m\n\u001b[1;32m   2803\u001b[0m \u001b[43m    \u001b[49m\u001b[38;5;28;43mself\u001b[39;49m\u001b[43m,\u001b[49m\n\u001b[1;32m   2804\u001b[0m \u001b[43m    \u001b[49m\u001b[43mother\u001b[49m\u001b[43m,\u001b[49m\n\u001b[1;32m   2805\u001b[0m \u001b[43m    \u001b[49m\u001b[43mallow_overlapping_image_ids\u001b[49m\u001b[38;5;241;43m=\u001b[39;49m\u001b[43mallow_overlapping_image_ids\u001b[49m\u001b[43m,\u001b[49m\n\u001b[1;32m   2806\u001b[0m \u001b[43m    \u001b[49m\u001b[43mrealign_label_map\u001b[49m\u001b[38;5;241;43m=\u001b[39;49m\u001b[43mrealign_label_map\u001b[49m\u001b[43m,\u001b[49m\n\u001b[1;32m   2807\u001b[0m \u001b[43m    \u001b[49m\u001b[43mignore_index\u001b[49m\u001b[38;5;241;43m=\u001b[39;49m\u001b[43mignore_index\u001b[49m\u001b[43m,\u001b[49m\n\u001b[1;32m   2808\u001b[0m \u001b[43m    \u001b[49m\u001b[43mmark_origin\u001b[49m\u001b[38;5;241;43m=\u001b[39;49m\u001b[43mmark_origin\u001b[49m\u001b[43m,\u001b[49m\n\u001b[1;32m   2809\u001b[0m \u001b[43m    \u001b[49m\u001b[43moverwrite_origin\u001b[49m\u001b[38;5;241;43m=\u001b[39;49m\u001b[43moverwrite_origin\u001b[49m\u001b[43m,\u001b[49m\n\u001b[1;32m   2810\u001b[0m \u001b[43m\u001b[49m\u001b[43m)\u001b[49m\n",
      "File \u001b[0;32m~/workspace/libia-to-bamboo/libia/dataset/merge.py:167\u001b[0m, in \u001b[0;36mmerge_datasets\u001b[0;34m(dataset1, dataset2, allow_overlapping_image_ids, realign_label_map, ignore_index, mark_origin, overwrite_origin)\u001b[0m\n\u001b[1;32m    164\u001b[0m mutual_images_columns \u001b[38;5;241m=\u001b[39m dataset1_images_columns \u001b[38;5;241m&\u001b[39m dataset2_images_columns\n\u001b[1;32m    166\u001b[0m \u001b[38;5;28;01mif\u001b[39;00m mutual_images_ids \u001b[38;5;129;01mand\u001b[39;00m \u001b[38;5;129;01mnot\u001b[39;00m allow_overlapping_image_ids:\n\u001b[0;32m--> 167\u001b[0m     \u001b[38;5;28;01mraise\u001b[39;00m \u001b[38;5;167;01mValueError\u001b[39;00m(\n\u001b[1;32m    168\u001b[0m         \u001b[38;5;124m\"\u001b[39m\u001b[38;5;124mOverlapping image ids not permitted. Consider using the\u001b[39m\u001b[38;5;124m\"\u001b[39m\n\u001b[1;32m    169\u001b[0m         \u001b[38;5;124m\"\u001b[39m\u001b[38;5;124m allow_overlapping_image_ids or ignore_index options\u001b[39m\u001b[38;5;124m\"\u001b[39m\n\u001b[1;32m    170\u001b[0m     )\n\u001b[1;32m    172\u001b[0m assert_frame_intersections_equal(\n\u001b[1;32m    173\u001b[0m     dataset1_images\u001b[38;5;241m.\u001b[39mdrop([\u001b[38;5;124m\"\u001b[39m\u001b[38;5;124morigin\u001b[39m\u001b[38;5;124m\"\u001b[39m, \u001b[38;5;124m\"\u001b[39m\u001b[38;5;124morigin_id\u001b[39m\u001b[38;5;124m\"\u001b[39m], axis\u001b[38;5;241m=\u001b[39m\u001b[38;5;241m1\u001b[39m, errors\u001b[38;5;241m=\u001b[39m\u001b[38;5;124m\"\u001b[39m\u001b[38;5;124mignore\u001b[39m\u001b[38;5;124m\"\u001b[39m),\n\u001b[1;32m    174\u001b[0m     dataset2_images\u001b[38;5;241m.\u001b[39mdrop([\u001b[38;5;124m\"\u001b[39m\u001b[38;5;124morigin\u001b[39m\u001b[38;5;124m\"\u001b[39m, \u001b[38;5;124m\"\u001b[39m\u001b[38;5;124morigin_id\u001b[39m\u001b[38;5;124m\"\u001b[39m], axis\u001b[38;5;241m=\u001b[39m\u001b[38;5;241m1\u001b[39m, errors\u001b[38;5;241m=\u001b[39m\u001b[38;5;124m\"\u001b[39m\u001b[38;5;124mignore\u001b[39m\u001b[38;5;124m\"\u001b[39m),\n\u001b[1;32m    175\u001b[0m )\n\u001b[1;32m    177\u001b[0m \u001b[38;5;66;03m# Concat horizontally by extending images from dataset1 with columns from dataset2\u001b[39;00m\n\u001b[1;32m    178\u001b[0m \u001b[38;5;66;03m# and then vertically by extending images with dataset2 images which id is not\u001b[39;00m\n\u001b[1;32m    179\u001b[0m \u001b[38;5;66;03m# in dataset1 images index.\u001b[39;00m\n",
      "\u001b[0;31mValueError\u001b[0m: Overlapping image ids not permitted. Consider using the allow_overlapping_image_ids or ignore_index options"
     ]
    }
   ],
   "source": [
    "half1.merge(half2, allow_overlapping_image_ids=False)"
   ]
  },
  {
   "cell_type": "markdown",
   "id": "61cfd434",
   "metadata": {},
   "source": [
    "### Incompatible Label maps\n",
    "\n",
    "In the case the label map of one dataset is not the subset of the other and vice versa, the label maps are incompatible."
   ]
  },
  {
   "cell_type": "code",
   "execution_count": 37,
   "id": "19adeab2",
   "metadata": {},
   "outputs": [],
   "source": [
    "new_label_map = {**COCO_pascal.label_map, **{1: \"something else\"}}\n",
    "COCO_incompatible = COCO_pascal.from_template(label_map=new_label_map)"
   ]
  },
  {
   "cell_type": "code",
   "execution_count": 38,
   "id": "f24744b4-8ab4-4e8d-86eb-7bf53e865fb9",
   "metadata": {
    "editable": true,
    "slideshow": {
     "slide_type": ""
    },
    "tags": [
     "raises-exception"
    ]
   },
   "outputs": [
    {
     "ename": "IncompatibleLabelMapsError",
     "evalue": "Label maps are incompatible",
     "output_type": "error",
     "traceback": [
      "\u001b[0;31m---------------------------------------------------------------------------\u001b[0m",
      "\u001b[0;31mIncompatibleLabelMapsError\u001b[0m                Traceback (most recent call last)",
      "Cell \u001b[0;32mIn[38], line 1\u001b[0m\n\u001b[0;32m----> 1\u001b[0m \u001b[43mCOCO_pascal\u001b[49m\u001b[38;5;241;43m.\u001b[39;49m\u001b[43mmerge\u001b[49m\u001b[43m(\u001b[49m\u001b[43mCOCO_incompatible\u001b[49m\u001b[43m)\u001b[49m\n",
      "File \u001b[0;32m~/workspace/libia-to-bamboo/libia/dataset/dataset.py:2802\u001b[0m, in \u001b[0;36mDataset.merge\u001b[0;34m(self, other, allow_overlapping_image_ids, realign_label_map, ignore_index, mark_origin, overwrite_origin)\u001b[0m\n\u001b[1;32m   2343\u001b[0m \u001b[38;5;250m\u001b[39m\u001b[38;5;124;03m\"\"\"Merge two datasets and return a unique dataset object containing\u001b[39;00m\n\u001b[1;32m   2344\u001b[0m \u001b[38;5;124;03mSamples from both. Result's images_root will be the common path of both\u001b[39;00m\n\u001b[1;32m   2345\u001b[0m \u001b[38;5;124;03mdatasets, and the image relative paths will be updated accordingly.\u001b[39;00m\n\u001b[0;32m   (...)\u001b[0m\n\u001b[1;32m   2798\u001b[0m \n\u001b[1;32m   2799\u001b[0m \u001b[38;5;124;03m\"\"\"\u001b[39;00m\n\u001b[1;32m   2800\u001b[0m \u001b[38;5;28;01mfrom\u001b[39;00m \u001b[38;5;21;01m.\u001b[39;00m\u001b[38;5;21;01mmerge\u001b[39;00m \u001b[38;5;28;01mimport\u001b[39;00m merge_datasets\n\u001b[0;32m-> 2802\u001b[0m \u001b[38;5;28;01mreturn\u001b[39;00m \u001b[43mmerge_datasets\u001b[49m\u001b[43m(\u001b[49m\n\u001b[1;32m   2803\u001b[0m \u001b[43m    \u001b[49m\u001b[38;5;28;43mself\u001b[39;49m\u001b[43m,\u001b[49m\n\u001b[1;32m   2804\u001b[0m \u001b[43m    \u001b[49m\u001b[43mother\u001b[49m\u001b[43m,\u001b[49m\n\u001b[1;32m   2805\u001b[0m \u001b[43m    \u001b[49m\u001b[43mallow_overlapping_image_ids\u001b[49m\u001b[38;5;241;43m=\u001b[39;49m\u001b[43mallow_overlapping_image_ids\u001b[49m\u001b[43m,\u001b[49m\n\u001b[1;32m   2806\u001b[0m \u001b[43m    \u001b[49m\u001b[43mrealign_label_map\u001b[49m\u001b[38;5;241;43m=\u001b[39;49m\u001b[43mrealign_label_map\u001b[49m\u001b[43m,\u001b[49m\n\u001b[1;32m   2807\u001b[0m \u001b[43m    \u001b[49m\u001b[43mignore_index\u001b[49m\u001b[38;5;241;43m=\u001b[39;49m\u001b[43mignore_index\u001b[49m\u001b[43m,\u001b[49m\n\u001b[1;32m   2808\u001b[0m \u001b[43m    \u001b[49m\u001b[43mmark_origin\u001b[49m\u001b[38;5;241;43m=\u001b[39;49m\u001b[43mmark_origin\u001b[49m\u001b[43m,\u001b[49m\n\u001b[1;32m   2809\u001b[0m \u001b[43m    \u001b[49m\u001b[43moverwrite_origin\u001b[49m\u001b[38;5;241;43m=\u001b[39;49m\u001b[43moverwrite_origin\u001b[49m\u001b[43m,\u001b[49m\n\u001b[1;32m   2810\u001b[0m \u001b[43m\u001b[49m\u001b[43m)\u001b[49m\n",
      "File \u001b[0;32m~/workspace/libia-to-bamboo/libia/dataset/merge.py:138\u001b[0m, in \u001b[0;36mmerge_datasets\u001b[0;34m(dataset1, dataset2, allow_overlapping_image_ids, realign_label_map, ignore_index, mark_origin, overwrite_origin)\u001b[0m\n\u001b[1;32m    134\u001b[0m     label_map \u001b[38;5;241m=\u001b[39m merge_label_maps(\n\u001b[1;32m    135\u001b[0m         dataset1\u001b[38;5;241m.\u001b[39mlabel_map, dataset2\u001b[38;5;241m.\u001b[39mlabel_map, method\u001b[38;5;241m=\u001b[39m\u001b[38;5;124m\"\u001b[39m\u001b[38;5;124mouter\u001b[39m\u001b[38;5;124m\"\u001b[39m\n\u001b[1;32m    136\u001b[0m     )\n\u001b[1;32m    137\u001b[0m \u001b[38;5;28;01melse\u001b[39;00m:\n\u001b[0;32m--> 138\u001b[0m     label_map \u001b[38;5;241m=\u001b[39m \u001b[43mmerge_label_maps\u001b[49m\u001b[43m(\u001b[49m\n\u001b[1;32m    139\u001b[0m \u001b[43m        \u001b[49m\u001b[43mdataset1\u001b[49m\u001b[38;5;241;43m.\u001b[39;49m\u001b[43mlabel_map\u001b[49m\u001b[43m,\u001b[49m\u001b[43m \u001b[49m\u001b[43mdataset2\u001b[49m\u001b[38;5;241;43m.\u001b[39;49m\u001b[43mlabel_map\u001b[49m\u001b[43m,\u001b[49m\u001b[43m \u001b[49m\u001b[43mmethod\u001b[49m\u001b[38;5;241;43m=\u001b[39;49m\u001b[38;5;124;43m\"\u001b[39;49m\u001b[38;5;124;43mouter\u001b[39;49m\u001b[38;5;124;43m\"\u001b[39;49m\n\u001b[1;32m    140\u001b[0m \u001b[43m    \u001b[49m\u001b[43m)\u001b[49m\n\u001b[1;32m    142\u001b[0m dataset1_images, dataset2_images, booleanized_image_columns \u001b[38;5;241m=\u001b[39m (\n\u001b[1;32m    143\u001b[0m     broadcast_booleanization(\n\u001b[1;32m    144\u001b[0m         dataset1\u001b[38;5;241m.\u001b[39mimages,\n\u001b[0;32m   (...)\u001b[0m\n\u001b[1;32m    148\u001b[0m     )\n\u001b[1;32m    149\u001b[0m )\n\u001b[1;32m    150\u001b[0m dataset1_annotations, dataset2_annotations, booleanized_annotations_columns \u001b[38;5;241m=\u001b[39m (\n\u001b[1;32m    151\u001b[0m     broadcast_booleanization(\n\u001b[1;32m    152\u001b[0m         dataset1\u001b[38;5;241m.\u001b[39mannotations,\n\u001b[0;32m   (...)\u001b[0m\n\u001b[1;32m    156\u001b[0m     )\n\u001b[1;32m    157\u001b[0m )\n",
      "File \u001b[0;32m~/workspace/libia-to-bamboo/libia/utils/label_map_merger.py:66\u001b[0m, in \u001b[0;36mmerge_label_maps\u001b[0;34m(left, right, method)\u001b[0m\n\u001b[1;32m     64\u001b[0m     \u001b[38;5;66;03m# The other way around when the other dataset's label map is the biggest\u001b[39;00m\n\u001b[1;32m     65\u001b[0m     \u001b[38;5;28;01mif\u001b[39;00m {k: left[k] \u001b[38;5;28;01mfor\u001b[39;00m k \u001b[38;5;129;01min\u001b[39;00m intersection} \u001b[38;5;241m!=\u001b[39m {k: right[k] \u001b[38;5;28;01mfor\u001b[39;00m k \u001b[38;5;129;01min\u001b[39;00m intersection}:\n\u001b[0;32m---> 66\u001b[0m         \u001b[38;5;28;01mraise\u001b[39;00m IncompatibleLabelMapsError(\u001b[38;5;124m\"\u001b[39m\u001b[38;5;124mLabel maps are incompatible\u001b[39m\u001b[38;5;124m\"\u001b[39m)\n\u001b[1;32m     67\u001b[0m     \u001b[38;5;28;01mreturn\u001b[39;00m left \u001b[38;5;241m|\u001b[39m right\n\u001b[1;32m     68\u001b[0m \u001b[38;5;28;01melse\u001b[39;00m:\n",
      "\u001b[0;31mIncompatibleLabelMapsError\u001b[0m: Label maps are incompatible"
     ]
    }
   ],
   "source": [
    "COCO_pascal.merge(COCO_incompatible)"
   ]
  },
  {
   "cell_type": "markdown",
   "id": "f844b99d",
   "metadata": {},
   "source": [
    "If we lookup the label map of SmartCity, we can see that class labels are not the same for class id 41 (dog vs domestic animal)"
   ]
  },
  {
   "cell_type": "code",
   "execution_count": 39,
   "id": "4e6faca3",
   "metadata": {},
   "outputs": [
    {
     "name": "stdout",
     "output_type": "stream",
     "text": [
      "Incompatible label map for category_id 1 : 'aeroplane' vs 'something else'\n"
     ]
    }
   ],
   "source": [
    "for k, name in COCO_pascal.label_map.items():\n",
    "    other_name = COCO_incompatible.label_map.get(k)\n",
    "    if other_name is not None and other_name != name:\n",
    "        print(\n",
    "            f\"Incompatible label map for category_id {k} : '{name}' vs '{other_name}'\"\n",
    "        )"
   ]
  },
  {
   "cell_type": "markdown",
   "id": "4f944206-fb1a-45ce-80c3-a9c5ac182ece",
   "metadata": {},
   "source": [
    "### Automatic remapping\n",
    "\n",
    "It is possible though to remap a dataset to match another dataset's label map by retrieving categories with the same names.\n",
    "\n",
    "We can use either the `remap_from_other` method or directly use the addition as it will fallback to the automatic remapping with a warning.\n",
    "\n",
    "Note that the merge is effective but you should avoid this fallback mechanism if possible, because label names are not supposed to be used as ids."
   ]
  },
  {
   "cell_type": "code",
   "execution_count": 40,
   "id": "2ad07471",
   "metadata": {},
   "outputs": [
    {
     "name": "stdout",
     "output_type": "stream",
     "text": [
      "Using the following class remapping dictionary :\n",
      "{1: 21,\n",
      " 2: 2,\n",
      " 3: 3,\n",
      " 4: 4,\n",
      " 5: 5,\n",
      " 6: 6,\n",
      " 7: 7,\n",
      " 8: 8,\n",
      " 9: 9,\n",
      " 10: 10,\n",
      " 11: 11,\n",
      " 12: 12,\n",
      " 13: 13,\n",
      " 14: 14,\n",
      " 15: 15,\n",
      " 16: 16,\n",
      " 17: 17,\n",
      " 18: 18,\n",
      " 19: 19,\n",
      " 20: 20}\n"
     ]
    },
    {
     "data": {
      "application/vnd.jupyter.widget-view+json": {
       "model_id": "2fbad9d86aa44668863e9da6cb7bf762",
       "version_major": 2,
       "version_minor": 0
      },
      "text/plain": [
       "VBox(children=(HTML(value=\"<p><span style='white-space: pre-wrap; font-weight: bold'>Dataset object containing…"
      ]
     },
     "metadata": {},
     "output_type": "display_data"
    }
   ],
   "source": [
    "remapped = COCO_incompatible.remap_from_other(COCO_pascal)\n",
    "merged = COCO_pascal.merge(remapped)\n",
    "merged"
   ]
  },
  {
   "cell_type": "code",
   "execution_count": 41,
   "id": "192cf38a-f5ab-40e8-bb79-412c56ca7e58",
   "metadata": {},
   "outputs": [
    {
     "name": "stdout",
     "output_type": "stream",
     "text": [
      "Using the following class remapping dictionary :\n",
      "{1: 21,\n",
      " 2: 2,\n",
      " 3: 3,\n",
      " 4: 4,\n",
      " 5: 5,\n",
      " 6: 6,\n",
      " 7: 7,\n",
      " 8: 8,\n",
      " 9: 9,\n",
      " 10: 10,\n",
      " 11: 11,\n",
      " 12: 12,\n",
      " 13: 13,\n",
      " 14: 14,\n",
      " 15: 15,\n",
      " 16: 16,\n",
      " 17: 17,\n",
      " 18: 18,\n",
      " 19: 19,\n",
      " 20: 20}\n"
     ]
    },
    {
     "name": "stderr",
     "output_type": "stream",
     "text": [
      "/Users/clement.pinard/workspace/libia-to-bamboo/libia/dataset/dataset.py:2842: RuntimeWarning: Addition failed because of incompatible label maps, trying to remap classes of right value and retry the merge\n",
      "  warn(\n"
     ]
    },
    {
     "data": {
      "application/vnd.jupyter.widget-view+json": {
       "model_id": "30a619c9c27343b9a4b5b1356cdd88b8",
       "version_major": 2,
       "version_minor": 0
      },
      "text/plain": [
       "VBox(children=(HTML(value=\"<p><span style='white-space: pre-wrap; font-weight: bold'>Dataset object containing…"
      ]
     },
     "metadata": {},
     "output_type": "display_data"
    }
   ],
   "source": [
    "merged = COCO_incompatible + COCO_pascal\n",
    "merged"
   ]
  },
  {
   "cell_type": "markdown",
   "id": "187e2f27-49ee-445e-bae0-80c0a8af1ed4",
   "metadata": {},
   "source": [
    "## Adding annotations to dataset\n",
    "\n",
    "### Standalone annotation addition\n",
    "\n",
    "Similar to [pandas.DataFrame.append](https://pandas.pydata.org/pandas-docs/version/1.4/reference/api/pandas.DataFrame.append.html), you can append one annotation row to your annotations dataframe.\n",
    "\n",
    "Notice the `box_format` option which will let the method take care of the conversion itself. See [libia.utils.bbox_converter](../generated/libia.utils.bbox_converter.rst) for name conventions. For example yolo bboxes are giving box center x and y coordinates plus box height and width, all normalized with frame size. The format is thus `cxcywh`.\n",
    "\n",
    "First, create a dataset with 2 images and no annotation"
   ]
  },
  {
   "cell_type": "code",
   "execution_count": 42,
   "id": "1188a06e-b468-4733-9da7-d46e2a4e5885",
   "metadata": {},
   "outputs": [
    {
     "data": {
      "application/vnd.jupyter.widget-view+json": {
       "model_id": "2daa77b174a743be99c373b635a0aad0",
       "version_major": 2,
       "version_minor": 0
      },
      "text/plain": [
       "VBox(children=(HTML(value=\"<p><span style='white-space: pre-wrap; font-weight: bold'>Dataset object containing…"
      ]
     },
     "metadata": {},
     "output_type": "display_data"
    }
   ],
   "source": [
    "empty = COCO_pascal.loc_annot[[]].iloc[:2]\n",
    "display(empty)"
   ]
  },
  {
   "cell_type": "markdown",
   "id": "b416871a-ae6f-42ae-b2cc-9907f688dae3",
   "metadata": {},
   "source": [
    "Here, we add one bounding box, for the first image. the box is a quarter of the image (half the height and half the width) and is at the top-left corner of the image."
   ]
  },
  {
   "cell_type": "code",
   "execution_count": 43,
   "id": "caade903-3cf9-4cd9-b11d-67c9b028eaa8",
   "metadata": {},
   "outputs": [
    {
     "data": {
      "application/vnd.jupyter.widget-view+json": {
       "model_id": "833ebf018cac4364b46803f034e99e86",
       "version_major": 2,
       "version_minor": 0
      },
      "text/plain": [
       "VBox(children=(HTML(value=\"<p><span style='white-space: pre-wrap; font-weight: bold'>Dataset object containing…"
      ]
     },
     "metadata": {},
     "output_type": "display_data"
    }
   ],
   "source": [
    "import numpy as np\n",
    "\n",
    "empty.add_detection_annotation(\n",
    "    format_string=\"cxcywh\",\n",
    "    image_id=352582,\n",
    "    bbox_coordinates=[0.75, 0.75, 0.5, 0.5],\n",
    "    confidence=0.5,\n",
    "    category_id=20,\n",
    ")"
   ]
  },
  {
   "cell_type": "markdown",
   "id": "72f9191a-8909-4029-a8f8-412cae67f1c5",
   "metadata": {},
   "source": [
    "### Introduction the AnnotationAppender context manager\n",
    "\n",
    "Similarly to [pandas.DataFrame.append](https://pandas.pydata.org/pandas-docs/version/1.4/reference/api/pandas.DataFrame.append.html), calling this method multiple times is discouraged, because each time it creates a new dataframe with only one more row.\n",
    "\n",
    "What you can do instead is use the `annotation_append` method with a context manager. This appender will cache all the added annotation and will only append the consolidated data when exiting the context.\n",
    "\n",
    "This is very useful when running an inference on a whole dataset.\n",
    "\n",
    "Note that this operation is inplace !"
   ]
  },
  {
   "cell_type": "code",
   "execution_count": 44,
   "id": "5d2b9fe1-0f1e-4ac3-8bb5-bd82a07ae7a0",
   "metadata": {},
   "outputs": [
    {
     "name": "stdout",
     "output_type": "stream",
     "text": [
      "0\n"
     ]
    },
    {
     "name": "stderr",
     "output_type": "stream",
     "text": [
      "/Users/clement.pinard/workspace/libia-to-bamboo/libia/dataset/dataset.py:1004: UserWarning: Incomplete Label map, setting following label of the following id to their string equivalent : {21}\n",
      "  warn(\n"
     ]
    },
    {
     "data": {
      "application/vnd.jupyter.widget-view+json": {
       "model_id": "aab203f5d3d142528519ccab7bd8857a",
       "version_major": 2,
       "version_minor": 0
      },
      "text/plain": [
       "VBox(children=(HTML(value=\"<p><span style='white-space: pre-wrap; font-weight: bold'>Dataset object containing…"
      ]
     },
     "metadata": {},
     "output_type": "display_data"
    }
   ],
   "source": [
    "with empty.annotation_append(format_string=\"cxcywh\") as appender:\n",
    "    appender.append(\n",
    "        image_id=352582,\n",
    "        bbox_coordinates=[0.75, 0.75, 0.5, 0.5],\n",
    "        confidence=0.5,\n",
    "        category_id=20,\n",
    "    )\n",
    "    appender.append(\n",
    "        image_id=113354,\n",
    "        bbox_coordinates=[0.25, 0.25, 0.5, 0.5],\n",
    "        confidence=0.5,\n",
    "        category_id=21,\n",
    "    )\n",
    "    print(empty.len_annot())  # Note that the dataset is not changed here\n",
    "\n",
    "display(empty)"
   ]
  }
 ],
 "metadata": {
  "kernelspec": {
   "display_name": "Python 3 (ipykernel)",
   "language": "python",
   "name": "python3"
  },
  "language_info": {
   "codemirror_mode": {
    "name": "ipython",
    "version": 3
   },
   "file_extension": ".py",
   "mimetype": "text/x-python",
   "name": "python",
   "nbconvert_exporter": "python",
   "pygments_lexer": "ipython3",
   "version": "3.11.9"
  },
  "widgets": {
   "application/vnd.jupyter.widget-state+json": {
    "state": {
     "000a5e54b1f8484e853f08284f4e546b": {
      "model_module": "@jupyter-widgets/base",
      "model_module_version": "2.0.0",
      "model_name": "LayoutModel",
      "state": {}
     },
     "009f7a851044439da752f8e57b304336": {
      "model_module": "@jupyter-widgets/controls",
      "model_module_version": "2.0.0",
      "model_name": "HTMLStyleModel",
      "state": {
       "description_width": "",
       "font_size": null,
       "text_color": null
      }
     },
     "012b4fbf313249f0a09551359a62229b": {
      "model_module": "@jupyter-widgets/base",
      "model_module_version": "2.0.0",
      "model_name": "LayoutModel",
      "state": {}
     },
     "017e290a4cf14e09bc26ff3104b7af76": {
      "model_module": "@jupyter-widgets/base",
      "model_module_version": "2.0.0",
      "model_name": "LayoutModel",
      "state": {}
     },
     "01d1d33815be4b048ac730311c5cfde4": {
      "model_module": "@jupyter-widgets/output",
      "model_module_version": "1.0.0",
      "model_name": "OutputModel",
      "state": {
       "layout": "IPY_MODEL_c417fee3d8f34750a905b314223cd36e",
       "outputs": [
        {
         "data": {
          "text/html": "<div>\n<style scoped>\n    .dataframe tbody tr th:only-of-type {\n        vertical-align: middle;\n    }\n\n    .dataframe tbody tr th {\n        vertical-align: top;\n    }\n\n    .dataframe thead th {\n        text-align: right;\n    }\n</style>\n<table border=\"1\" class=\"dataframe\">\n  <thead>\n    <tr style=\"text-align: right;\">\n      <th></th>\n      <th>category string</th>\n    </tr>\n    <tr>\n      <th>category_id</th>\n      <th></th>\n    </tr>\n  </thead>\n  <tbody>\n    <tr>\n      <th>1</th>\n      <td>person</td>\n    </tr>\n    <tr>\n      <th>2</th>\n      <td>bicycle</td>\n    </tr>\n    <tr>\n      <th>3</th>\n      <td>car</td>\n    </tr>\n    <tr>\n      <th>4</th>\n      <td>motorcycle</td>\n    </tr>\n    <tr>\n      <th>5</th>\n      <td>airplane</td>\n    </tr>\n    <tr>\n      <th>...</th>\n      <td>...</td>\n    </tr>\n    <tr>\n      <th>86</th>\n      <td>vase</td>\n    </tr>\n    <tr>\n      <th>87</th>\n      <td>scissors</td>\n    </tr>\n    <tr>\n      <th>88</th>\n      <td>teddy bear</td>\n    </tr>\n    <tr>\n      <th>89</th>\n      <td>hair drier</td>\n    </tr>\n    <tr>\n      <th>90</th>\n      <td>toothbrush</td>\n    </tr>\n  </tbody>\n</table>\n<p>80 rows × 1 columns</p>\n</div>",
          "text/plain": "            category string\ncategory_id                \n1                    person\n2                   bicycle\n3                       car\n4                motorcycle\n5                  airplane\n...                     ...\n86                     vase\n87                 scissors\n88               teddy bear\n89               hair drier\n90               toothbrush\n\n[80 rows x 1 columns]"
         },
         "metadata": {},
         "output_type": "display_data"
        }
       ]
      }
     },
     "027574edd34c481e8534de087f78f615": {
      "model_module": "@jupyter-widgets/output",
      "model_module_version": "1.0.0",
      "model_name": "OutputModel",
      "state": {
       "layout": "IPY_MODEL_4540d399ec7f46fcb7a177b9a00f9434",
       "outputs": [
        {
         "data": {
          "text/html": "<div>\n<style scoped>\n    .dataframe tbody tr th:only-of-type {\n        vertical-align: middle;\n    }\n\n    .dataframe tbody tr th {\n        vertical-align: top;\n    }\n\n    .dataframe thead th {\n        text-align: right;\n    }\n</style>\n<table border=\"1\" class=\"dataframe\">\n  <thead>\n    <tr style=\"text-align: right;\">\n      <th></th>\n      <th>category string</th>\n    </tr>\n    <tr>\n      <th>category_id</th>\n      <th></th>\n    </tr>\n  </thead>\n  <tbody>\n    <tr>\n      <th>1</th>\n      <td>vehicle</td>\n    </tr>\n    <tr>\n      <th>2</th>\n      <td>person</td>\n    </tr>\n    <tr>\n      <th>3</th>\n      <td>tool</td>\n    </tr>\n    <tr>\n      <th>6</th>\n      <td>abandoned objects</td>\n    </tr>\n    <tr>\n      <th>10</th>\n      <td>car</td>\n    </tr>\n    <tr>\n      <th>11</th>\n      <td>two-wheeler</td>\n    </tr>\n    <tr>\n      <th>12</th>\n      <td>train</td>\n    </tr>\n    <tr>\n      <th>20</th>\n      <td>standing person</td>\n    </tr>\n    <tr>\n      <th>21</th>\n      <td>sitting person</td>\n    </tr>\n    <tr>\n      <th>22</th>\n      <td>laying person</td>\n    </tr>\n    <tr>\n      <th>28</th>\n      <td>packet</td>\n    </tr>\n    <tr>\n      <th>29</th>\n      <td>bag</td>\n    </tr>\n    <tr>\n      <th>30</th>\n      <td>suitcase</td>\n    </tr>\n    <tr>\n      <th>31</th>\n      <td>head</td>\n    </tr>\n    <tr>\n      <th>32</th>\n      <td>light truck</td>\n    </tr>\n    <tr>\n      <th>33</th>\n      <td>heavy truck</td>\n    </tr>\n    <tr>\n      <th>34</th>\n      <td>garbage truck</td>\n    </tr>\n    <tr>\n      <th>36</th>\n      <td>dump truck</td>\n    </tr>\n    <tr>\n      <th>37</th>\n      <td>truck with trailer</td>\n    </tr>\n    <tr>\n      <th>38</th>\n      <td>truck without trailer</td>\n    </tr>\n    <tr>\n      <th>40</th>\n      <td>tank truck</td>\n    </tr>\n    <tr>\n      <th>41</th>\n      <td>dog</td>\n    </tr>\n    <tr>\n      <th>42</th>\n      <td>motorcycle</td>\n    </tr>\n    <tr>\n      <th>43</th>\n      <td>heavy equipment</td>\n    </tr>\n    <tr>\n      <th>44</th>\n      <td>animals</td>\n    </tr>\n    <tr>\n      <th>46</th>\n      <td>personal protection equipment</td>\n    </tr>\n    <tr>\n      <th>47</th>\n      <td>utility vehicle</td>\n    </tr>\n    <tr>\n      <th>48</th>\n      <td>minibus</td>\n    </tr>\n    <tr>\n      <th>49</th>\n      <td>taxi</td>\n    </tr>\n    <tr>\n      <th>50</th>\n      <td>body parts</td>\n    </tr>\n    <tr>\n      <th>51</th>\n      <td>vehicle parts</td>\n    </tr>\n    <tr>\n      <th>52</th>\n      <td>taxi light</td>\n    </tr>\n    <tr>\n      <th>53</th>\n      <td>safety helmet</td>\n    </tr>\n    <tr>\n      <th>54</th>\n      <td>safety vest</td>\n    </tr>\n    <tr>\n      <th>55</th>\n      <td>domestic animals</td>\n    </tr>\n    <tr>\n      <th>100</th>\n      <td>sedan</td>\n    </tr>\n    <tr>\n      <th>101</th>\n      <td>van</td>\n    </tr>\n    <tr>\n      <th>102</th>\n      <td>bus</td>\n    </tr>\n    <tr>\n      <th>103</th>\n      <td>truck</td>\n    </tr>\n    <tr>\n      <th>104</th>\n      <td>special</td>\n    </tr>\n    <tr>\n      <th>111</th>\n      <td>bicycle</td>\n    </tr>\n    <tr>\n      <th>112</th>\n      <td>scooter</td>\n    </tr>\n    <tr>\n      <th>113</th>\n      <td>wheelchair</td>\n    </tr>\n    <tr>\n      <th>210</th>\n      <td>biker</td>\n    </tr>\n    <tr>\n      <th>211</th>\n      <td>cyclist</td>\n    </tr>\n    <tr>\n      <th>212</th>\n      <td>scooter rider</td>\n    </tr>\n    <tr>\n      <th>213</th>\n      <td>tricyclist</td>\n    </tr>\n    <tr>\n      <th>214</th>\n      <td>wheelchair user</td>\n    </tr>\n    <tr>\n      <th>1040</th>\n      <td>police</td>\n    </tr>\n    <tr>\n      <th>1041</th>\n      <td>ambulance</td>\n    </tr>\n    <tr>\n      <th>1042</th>\n      <td>firefighter</td>\n    </tr>\n    <tr>\n      <th>1100</th>\n      <td>motorbike</td>\n    </tr>\n    <tr>\n      <th>1121</th>\n      <td>standing scooter</td>\n    </tr>\n    <tr>\n      <th>4</th>\n      <td>domestical animal</td>\n    </tr>\n  </tbody>\n</table>\n</div>",
          "text/plain": "                           category string\ncategory_id                               \n1                                  vehicle\n2                                   person\n3                                     tool\n6                        abandoned objects\n10                                     car\n11                             two-wheeler\n12                                   train\n20                         standing person\n21                          sitting person\n22                           laying person\n28                                  packet\n29                                     bag\n30                                suitcase\n31                                    head\n32                             light truck\n33                             heavy truck\n34                           garbage truck\n36                              dump truck\n37                      truck with trailer\n38                   truck without trailer\n40                              tank truck\n41                                     dog\n42                              motorcycle\n43                         heavy equipment\n44                                 animals\n46           personal protection equipment\n47                         utility vehicle\n48                                 minibus\n49                                    taxi\n50                              body parts\n51                           vehicle parts\n52                              taxi light\n53                           safety helmet\n54                             safety vest\n55                        domestic animals\n100                                  sedan\n101                                    van\n102                                    bus\n103                                  truck\n104                                special\n111                                bicycle\n112                                scooter\n113                             wheelchair\n210                                  biker\n211                                cyclist\n212                          scooter rider\n213                             tricyclist\n214                        wheelchair user\n1040                                police\n1041                             ambulance\n1042                           firefighter\n1100                             motorbike\n1121                      standing scooter\n4                        domestical animal"
         },
         "metadata": {},
         "output_type": "display_data"
        }
       ]
      }
     },
     "02e2428cf39b49ec98839dedd7a9fa70": {
      "model_module": "@jupyter-widgets/controls",
      "model_module_version": "2.0.0",
      "model_name": "HTMLModel",
      "state": {
       "layout": "IPY_MODEL_f10b710cf65e4d5dbdf713d4b0f32c92",
       "style": "IPY_MODEL_735ede7a517e4568bf64f74ccb196544",
       "value": "<p><span style='white-space: pre-wrap; font-weight: bold'>Dataset object containing 5,000 images and 36,781 objects\nName :\n\tcoco\nImages root :\n\tnotebook_data</span></p>"
      }
     },
     "045f69ca6a5c4daca8d9dab65a019d26": {
      "model_module": "@jupyter-widgets/controls",
      "model_module_version": "2.0.0",
      "model_name": "HTMLModel",
      "state": {
       "layout": "IPY_MODEL_f00954000e754a3e84f45957d4308d35",
       "style": "IPY_MODEL_8acdba519fba415ca03e6f98ba8e74da",
       "value": "<p><span style='white-space: pre-wrap; font-weight: bold'>Dataset object containing 5,000 images and 5,143 objects\nName :\n\tcoco\nImages root :\n\tnotebook_data</span></p>"
      }
     },
     "047b32fb1e614c00abbe28673f63a501": {
      "model_module": "@jupyter-widgets/base",
      "model_module_version": "2.0.0",
      "model_name": "LayoutModel",
      "state": {}
     },
     "04c91354041145a9a9bca452c374ed60": {
      "model_module": "@jupyter-widgets/controls",
      "model_module_version": "2.0.0",
      "model_name": "HTMLModel",
      "state": {
       "layout": "IPY_MODEL_67ddc7fc7ec44f938acb55582824d3cb",
       "style": "IPY_MODEL_3edb6f03127e41a7bf1ee7a1104e7f19",
       "value": "<p><span style='white-space: pre-wrap; font-weight: bold'>Dataset object containing 5,000 images and 36,781 objects\nName :\n\tcoco\nImages root :\n\tnotebook_data</span></p>"
      }
     },
     "063d51c9c39d45c58f6b85fa8b17f63a": {
      "model_module": "@jupyter-widgets/controls",
      "model_module_version": "2.0.0",
      "model_name": "TabModel",
      "state": {
       "children": [
        "IPY_MODEL_b3ad25f52517499fa3b2aaa22bf9cce3",
        "IPY_MODEL_7d93632d7a9442b19669af4012c72ed2",
        "IPY_MODEL_7c866e276a914c4089c25490d33cb94e"
       ],
       "layout": "IPY_MODEL_a067adea60de4cbab6648d9900b8fb71",
       "selected_index": 0,
       "titles": [
        "Images",
        "Annotations",
        "Label Map"
       ]
      }
     },
     "076cb45525fa49a5a362cab29f375942": {
      "model_module": "@jupyter-widgets/output",
      "model_module_version": "1.0.0",
      "model_name": "OutputModel",
      "state": {
       "layout": "IPY_MODEL_1f1c81c1ce2c4d14be5ee3773dc94b12",
       "outputs": [
        {
         "data": {
          "text/html": "<div>\n<style scoped>\n    .dataframe tbody tr th:only-of-type {\n        vertical-align: middle;\n    }\n\n    .dataframe tbody tr th {\n        vertical-align: top;\n    }\n\n    .dataframe thead th {\n        text-align: right;\n    }\n</style>\n<table border=\"1\" class=\"dataframe\">\n  <thead>\n    <tr style=\"text-align: right;\">\n      <th></th>\n      <th>width</th>\n      <th>height</th>\n      <th>relative_path</th>\n      <th>type</th>\n      <th>split</th>\n    </tr>\n    <tr>\n      <th>id</th>\n      <th></th>\n      <th></th>\n      <th></th>\n      <th></th>\n      <th></th>\n    </tr>\n  </thead>\n  <tbody>\n    <tr>\n      <th>352582</th>\n      <td>425</td>\n      <td>640</td>\n      <td>Images/valid/000000352582.jpg</td>\n      <td>.jpg</td>\n      <td>valid</td>\n    </tr>\n    <tr>\n      <th>113354</th>\n      <td>640</td>\n      <td>480</td>\n      <td>Images/valid/000000113354.jpg</td>\n      <td>.jpg</td>\n      <td>valid</td>\n    </tr>\n    <tr>\n      <th>58393</th>\n      <td>640</td>\n      <td>486</td>\n      <td>Images/valid/000000058393.jpg</td>\n      <td>.jpg</td>\n      <td>valid</td>\n    </tr>\n    <tr>\n      <th>147729</th>\n      <td>500</td>\n      <td>375</td>\n      <td>Images/valid/000000147729.jpg</td>\n      <td>.jpg</td>\n      <td>valid</td>\n    </tr>\n    <tr>\n      <th>310072</th>\n      <td>640</td>\n      <td>383</td>\n      <td>Images/valid/000000310072.jpg</td>\n      <td>.jpg</td>\n      <td>valid</td>\n    </tr>\n    <tr>\n      <th>...</th>\n      <td>...</td>\n      <td>...</td>\n      <td>...</td>\n      <td>...</td>\n      <td>...</td>\n    </tr>\n    <tr>\n      <th>311180</th>\n      <td>480</td>\n      <td>640</td>\n      <td>Images/valid/000000311180.jpg</td>\n      <td>.jpg</td>\n      <td>valid</td>\n    </tr>\n    <tr>\n      <th>302030</th>\n      <td>640</td>\n      <td>359</td>\n      <td>Images/valid/000000302030.jpg</td>\n      <td>.jpg</td>\n      <td>valid</td>\n    </tr>\n    <tr>\n      <th>105455</th>\n      <td>427</td>\n      <td>640</td>\n      <td>Images/valid/000000105455.jpg</td>\n      <td>.jpg</td>\n      <td>valid</td>\n    </tr>\n    <tr>\n      <th>428280</th>\n      <td>500</td>\n      <td>333</td>\n      <td>Images/valid/000000428280.jpg</td>\n      <td>.jpg</td>\n      <td>valid</td>\n    </tr>\n    <tr>\n      <th>349837</th>\n      <td>500</td>\n      <td>333</td>\n      <td>Images/valid/000000349837.jpg</td>\n      <td>.jpg</td>\n      <td>valid</td>\n    </tr>\n  </tbody>\n</table>\n<p>5000 rows × 5 columns</p>\n</div>",
          "text/plain": "        width  height                  relative_path  type  split\nid                                                               \n352582    425     640  Images/valid/000000352582.jpg  .jpg  valid\n113354    640     480  Images/valid/000000113354.jpg  .jpg  valid\n58393     640     486  Images/valid/000000058393.jpg  .jpg  valid\n147729    500     375  Images/valid/000000147729.jpg  .jpg  valid\n310072    640     383  Images/valid/000000310072.jpg  .jpg  valid\n...       ...     ...                            ...   ...    ...\n311180    480     640  Images/valid/000000311180.jpg  .jpg  valid\n302030    640     359  Images/valid/000000302030.jpg  .jpg  valid\n105455    427     640  Images/valid/000000105455.jpg  .jpg  valid\n428280    500     333  Images/valid/000000428280.jpg  .jpg  valid\n349837    500     333  Images/valid/000000349837.jpg  .jpg  valid\n\n[5000 rows x 5 columns]"
         },
         "metadata": {},
         "output_type": "display_data"
        }
       ]
      }
     },
     "07f29f6774364a5985f926be014bb2fa": {
      "model_module": "@jupyter-widgets/base",
      "model_module_version": "2.0.0",
      "model_name": "LayoutModel",
      "state": {}
     },
     "08ad16cf9e114914a8ad1185eedf13ed": {
      "model_module": "@jupyter-widgets/base",
      "model_module_version": "2.0.0",
      "model_name": "LayoutModel",
      "state": {}
     },
     "08dfb99ab78644a691b9052a7d2794bd": {
      "model_module": "@jupyter-widgets/base",
      "model_module_version": "2.0.0",
      "model_name": "LayoutModel",
      "state": {}
     },
     "08e2700f97ca48cf8fcbdebbaef52632": {
      "model_module": "@jupyter-widgets/base",
      "model_module_version": "2.0.0",
      "model_name": "LayoutModel",
      "state": {}
     },
     "096be585560a408c9d51d1f1422f2473": {
      "model_module": "@jupyter-widgets/base",
      "model_module_version": "2.0.0",
      "model_name": "LayoutModel",
      "state": {}
     },
     "0a55d68ac86d4c9c8286dbee7b1b0bfd": {
      "model_module": "@jupyter-widgets/output",
      "model_module_version": "1.0.0",
      "model_name": "OutputModel",
      "state": {
       "layout": "IPY_MODEL_96a55a100d624cbaa1c00842f2c787a8",
       "outputs": [
        {
         "data": {
          "text/html": "<div>\n<style scoped>\n    .dataframe tbody tr th:only-of-type {\n        vertical-align: middle;\n    }\n\n    .dataframe tbody tr th {\n        vertical-align: top;\n    }\n\n    .dataframe thead th {\n        text-align: right;\n    }\n</style>\n<table border=\"1\" class=\"dataframe\">\n  <thead>\n    <tr style=\"text-align: right;\">\n      <th></th>\n      <th>category string</th>\n    </tr>\n    <tr>\n      <th>category_id</th>\n      <th></th>\n    </tr>\n  </thead>\n  <tbody>\n    <tr>\n      <th>2</th>\n      <td>person</td>\n    </tr>\n    <tr>\n      <th>111</th>\n      <td>bicycle</td>\n    </tr>\n    <tr>\n      <th>100</th>\n      <td>sedan</td>\n    </tr>\n    <tr>\n      <th>110</th>\n      <td>motorcycle</td>\n    </tr>\n    <tr>\n      <th>102</th>\n      <td>bus</td>\n    </tr>\n    <tr>\n      <th>12</th>\n      <td>train</td>\n    </tr>\n    <tr>\n      <th>10</th>\n      <td>car</td>\n    </tr>\n    <tr>\n      <th>41</th>\n      <td>domestical animal</td>\n    </tr>\n    <tr>\n      <th>410</th>\n      <td>dog</td>\n    </tr>\n    <tr>\n      <th>61</th>\n      <td>bag</td>\n    </tr>\n    <tr>\n      <th>60</th>\n      <td>suitcase</td>\n    </tr>\n  </tbody>\n</table>\n</div>",
          "text/plain": "               category string\ncategory_id                   \n2                       person\n111                    bicycle\n100                      sedan\n110                 motorcycle\n102                        bus\n12                       train\n10                         car\n41           domestical animal\n410                        dog\n61                         bag\n60                    suitcase"
         },
         "metadata": {},
         "output_type": "display_data"
        }
       ]
      }
     },
     "0c708588cba74f558e1ffa788728f142": {
      "model_module": "@jupyter-widgets/base",
      "model_module_version": "2.0.0",
      "model_name": "LayoutModel",
      "state": {}
     },
     "0dd1ab8bff564398a639b3c2bc691991": {
      "model_module": "@jupyter-widgets/output",
      "model_module_version": "1.0.0",
      "model_name": "OutputModel",
      "state": {
       "layout": "IPY_MODEL_fd4ae0e039444acfb4dc5c74c68ba84b",
       "outputs": [
        {
         "data": {
          "text/html": "<div>\n<style scoped>\n    .dataframe tbody tr th:only-of-type {\n        vertical-align: middle;\n    }\n\n    .dataframe tbody tr th {\n        vertical-align: top;\n    }\n\n    .dataframe thead th {\n        text-align: right;\n    }\n</style>\n<table border=\"1\" class=\"dataframe\">\n  <thead>\n    <tr style=\"text-align: right;\">\n      <th></th>\n      <th>image_id</th>\n      <th>category_str</th>\n      <th>category_id</th>\n      <th>split</th>\n      <th>box_x_min</th>\n      <th>box_y_min</th>\n      <th>box_width</th>\n      <th>box_height</th>\n      <th>area</th>\n      <th>object_id</th>\n    </tr>\n    <tr>\n      <th>id</th>\n      <th></th>\n      <th></th>\n      <th></th>\n      <th></th>\n      <th></th>\n      <th></th>\n      <th></th>\n      <th></th>\n      <th></th>\n      <th></th>\n    </tr>\n  </thead>\n  <tbody>\n    <tr>\n      <th>319049</th>\n      <td>6493</td>\n      <td>sedan</td>\n      <td>100</td>\n      <td>Paris</td>\n      <td>0.00</td>\n      <td>632.00</td>\n      <td>210.00</td>\n      <td>159.00</td>\n      <td>33390.00000</td>\n      <td>55689.0</td>\n    </tr>\n    <tr>\n      <th>319050</th>\n      <td>6493</td>\n      <td>motorbike</td>\n      <td>1100</td>\n      <td>Paris</td>\n      <td>203.00</td>\n      <td>611.00</td>\n      <td>86.00</td>\n      <td>86.00</td>\n      <td>7396.00000</td>\n      <td>30178.0</td>\n    </tr>\n    <tr>\n      <th>319051</th>\n      <td>6493</td>\n      <td>motorbike</td>\n      <td>1100</td>\n      <td>Paris</td>\n      <td>272.00</td>\n      <td>589.00</td>\n      <td>77.00</td>\n      <td>83.00</td>\n      <td>6391.00000</td>\n      <td>48923.0</td>\n    </tr>\n    <tr>\n      <th>319052</th>\n      <td>6493</td>\n      <td>motorbike</td>\n      <td>1100</td>\n      <td>Paris</td>\n      <td>341.00</td>\n      <td>559.00</td>\n      <td>69.00</td>\n      <td>91.00</td>\n      <td>6279.00000</td>\n      <td>8678.0</td>\n    </tr>\n    <tr>\n      <th>319053</th>\n      <td>6493</td>\n      <td>standing person</td>\n      <td>20</td>\n      <td>Paris</td>\n      <td>517.00</td>\n      <td>527.00</td>\n      <td>38.00</td>\n      <td>82.00</td>\n      <td>3116.00000</td>\n      <td>560.0</td>\n    </tr>\n    <tr>\n      <th>...</th>\n      <td>...</td>\n      <td>...</td>\n      <td>...</td>\n      <td>...</td>\n      <td>...</td>\n      <td>...</td>\n      <td>...</td>\n      <td>...</td>\n      <td>...</td>\n      <td>...</td>\n    </tr>\n    <tr>\n      <th>1760513</th>\n      <td>363188</td>\n      <td>bag</td>\n      <td>29</td>\n      <td>valid</td>\n      <td>221.41</td>\n      <td>199.76</td>\n      <td>91.36</td>\n      <td>63.64</td>\n      <td>865.42470</td>\n      <td>NaN</td>\n    </tr>\n    <tr>\n      <th>2366778</th>\n      <td>363188</td>\n      <td>person</td>\n      <td>2</td>\n      <td>valid</td>\n      <td>80.77</td>\n      <td>158.46</td>\n      <td>23.14</td>\n      <td>45.34</td>\n      <td>600.52020</td>\n      <td>NaN</td>\n    </tr>\n    <tr>\n      <th>900100703076</th>\n      <td>363188</td>\n      <td>person</td>\n      <td>2</td>\n      <td>valid</td>\n      <td>0.00</td>\n      <td>129.00</td>\n      <td>305.00</td>\n      <td>115.00</td>\n      <td>4293.00000</td>\n      <td>NaN</td>\n    </tr>\n    <tr>\n      <th>2064804</th>\n      <td>311180</td>\n      <td>person</td>\n      <td>2</td>\n      <td>valid</td>\n      <td>0.92</td>\n      <td>103.12</td>\n      <td>446.49</td>\n      <td>536.47</td>\n      <td>125482.38805</td>\n      <td>NaN</td>\n    </tr>\n    <tr>\n      <th>1532635</th>\n      <td>105455</td>\n      <td>sedan</td>\n      <td>100</td>\n      <td>valid</td>\n      <td>333.56</td>\n      <td>517.21</td>\n      <td>17.43</td>\n      <td>14.58</td>\n      <td>182.21680</td>\n      <td>NaN</td>\n    </tr>\n  </tbody>\n</table>\n<p>19822 rows × 10 columns</p>\n</div>",
          "text/plain": "              image_id     category_str  category_id  split  box_x_min  \\\nid                                                                       \n319049            6493            sedan          100  Paris       0.00   \n319050            6493        motorbike         1100  Paris     203.00   \n319051            6493        motorbike         1100  Paris     272.00   \n319052            6493        motorbike         1100  Paris     341.00   \n319053            6493  standing person           20  Paris     517.00   \n...                ...              ...          ...    ...        ...   \n1760513         363188              bag           29  valid     221.41   \n2366778         363188           person            2  valid      80.77   \n900100703076    363188           person            2  valid       0.00   \n2064804         311180           person            2  valid       0.92   \n1532635         105455            sedan          100  valid     333.56   \n\n              box_y_min  box_width  box_height          area  object_id  \nid                                                                       \n319049           632.00     210.00      159.00   33390.00000    55689.0  \n319050           611.00      86.00       86.00    7396.00000    30178.0  \n319051           589.00      77.00       83.00    6391.00000    48923.0  \n319052           559.00      69.00       91.00    6279.00000     8678.0  \n319053           527.00      38.00       82.00    3116.00000      560.0  \n...                 ...        ...         ...           ...        ...  \n1760513          199.76      91.36       63.64     865.42470        NaN  \n2366778          158.46      23.14       45.34     600.52020        NaN  \n900100703076     129.00     305.00      115.00    4293.00000        NaN  \n2064804          103.12     446.49      536.47  125482.38805        NaN  \n1532635          517.21      17.43       14.58     182.21680        NaN  \n\n[19822 rows x 10 columns]"
         },
         "metadata": {},
         "output_type": "display_data"
        }
       ]
      }
     },
     "0e03bf5374ec43afb5f3fd9e974d0898": {
      "model_module": "@jupyter-widgets/base",
      "model_module_version": "2.0.0",
      "model_name": "LayoutModel",
      "state": {}
     },
     "0e212d1045d44311b3a2fa8d30176599": {
      "model_module": "@jupyter-widgets/base",
      "model_module_version": "2.0.0",
      "model_name": "LayoutModel",
      "state": {}
     },
     "0e6f07c8f9234a22a13aeb66a37ae957": {
      "model_module": "@jupyter-widgets/controls",
      "model_module_version": "2.0.0",
      "model_name": "TabModel",
      "state": {
       "children": [
        "IPY_MODEL_4bc50cc941d54fe4ba2cc6b011100d54",
        "IPY_MODEL_e6ebee4fb350450bb503c6456b6bc95e",
        "IPY_MODEL_deece2bc27d64e809b0f0ffe181fe420"
       ],
       "layout": "IPY_MODEL_2e808708e80347828ec3f9afe38ab7ed",
       "selected_index": 0,
       "titles": [
        "Images",
        "Annotations",
        "Label Map"
       ]
      }
     },
     "0f046094f30d46c8af05aa99c92e13d1": {
      "model_module": "@jupyter-widgets/controls",
      "model_module_version": "2.0.0",
      "model_name": "HTMLModel",
      "state": {
       "layout": "IPY_MODEL_8f45928fe53e497f97878cfe7f645f61",
       "style": "IPY_MODEL_f687b523e612474c9c9c9b671423f44d",
       "value": "<p><span style='white-space: pre-wrap; font-weight: bold'>Dataset object containing 4,722 images and 34,818 objects\nName :\n\tcoco\nImages root :\n\tnotebook_data</span></p>"
      }
     },
     "0f17208476314df2b2fa23c772f6b494": {
      "model_module": "@jupyter-widgets/base",
      "model_module_version": "2.0.0",
      "model_name": "LayoutModel",
      "state": {}
     },
     "0f83b1c906904cb39135ed23ae9983fa": {
      "model_module": "@jupyter-widgets/base",
      "model_module_version": "2.0.0",
      "model_name": "LayoutModel",
      "state": {}
     },
     "0fa247a61d2a4c5ca4d561745684b411": {
      "model_module": "@jupyter-widgets/output",
      "model_module_version": "1.0.0",
      "model_name": "OutputModel",
      "state": {
       "layout": "IPY_MODEL_463be15ce5f2423f85904578b484bfb1",
       "outputs": [
        {
         "data": {
          "text/html": "<div>\n<style scoped>\n    .dataframe tbody tr th:only-of-type {\n        vertical-align: middle;\n    }\n\n    .dataframe tbody tr th {\n        vertical-align: top;\n    }\n\n    .dataframe thead th {\n        text-align: right;\n    }\n</style>\n<table border=\"1\" class=\"dataframe\">\n  <thead>\n    <tr style=\"text-align: right;\">\n      <th></th>\n      <th>category string</th>\n    </tr>\n    <tr>\n      <th>category_id</th>\n      <th></th>\n    </tr>\n  </thead>\n  <tbody>\n    <tr>\n      <th>1</th>\n      <td>person</td>\n    </tr>\n    <tr>\n      <th>2</th>\n      <td>bicycle</td>\n    </tr>\n    <tr>\n      <th>3</th>\n      <td>car</td>\n    </tr>\n    <tr>\n      <th>4</th>\n      <td>motorcycle</td>\n    </tr>\n    <tr>\n      <th>5</th>\n      <td>airplane</td>\n    </tr>\n    <tr>\n      <th>...</th>\n      <td>...</td>\n    </tr>\n    <tr>\n      <th>86</th>\n      <td>vase</td>\n    </tr>\n    <tr>\n      <th>87</th>\n      <td>scissors</td>\n    </tr>\n    <tr>\n      <th>88</th>\n      <td>teddy bear</td>\n    </tr>\n    <tr>\n      <th>89</th>\n      <td>hair drier</td>\n    </tr>\n    <tr>\n      <th>90</th>\n      <td>toothbrush</td>\n    </tr>\n  </tbody>\n</table>\n<p>80 rows × 1 columns</p>\n</div>",
          "text/plain": "            category string\ncategory_id                \n1                    person\n2                   bicycle\n3                       car\n4                motorcycle\n5                  airplane\n...                     ...\n86                     vase\n87                 scissors\n88               teddy bear\n89               hair drier\n90               toothbrush\n\n[80 rows x 1 columns]"
         },
         "metadata": {},
         "output_type": "display_data"
        }
       ]
      }
     },
     "109cf86ee75244a3867eede424c06f8c": {
      "model_module": "@jupyter-widgets/base",
      "model_module_version": "2.0.0",
      "model_name": "LayoutModel",
      "state": {}
     },
     "11b4a3703f834869bba421f47fd069a3": {
      "model_module": "@jupyter-widgets/controls",
      "model_module_version": "2.0.0",
      "model_name": "VBoxModel",
      "state": {
       "children": [
        "IPY_MODEL_c80b1625d5c248d4b69aea8814bffd4d",
        "IPY_MODEL_9aa80116a3f949efb8b955b1c1859744"
       ],
       "layout": "IPY_MODEL_dc26d390ce884090834f8acf5f829cdf"
      }
     },
     "124de2c7cc8e4c51984f12359b9c672d": {
      "model_module": "@jupyter-widgets/output",
      "model_module_version": "1.0.0",
      "model_name": "OutputModel",
      "state": {
       "layout": "IPY_MODEL_4fcd449afaed43ef8a17d179816c5007",
       "outputs": [
        {
         "data": {
          "text/html": "<div>\n<style scoped>\n    .dataframe tbody tr th:only-of-type {\n        vertical-align: middle;\n    }\n\n    .dataframe tbody tr th {\n        vertical-align: top;\n    }\n\n    .dataframe thead th {\n        text-align: right;\n    }\n</style>\n<table border=\"1\" class=\"dataframe\">\n  <thead>\n    <tr style=\"text-align: right;\">\n      <th></th>\n      <th>category string</th>\n    </tr>\n    <tr>\n      <th>category_id</th>\n      <th></th>\n    </tr>\n  </thead>\n  <tbody>\n    <tr>\n      <th>1</th>\n      <td>person</td>\n    </tr>\n    <tr>\n      <th>2</th>\n      <td>bicycle</td>\n    </tr>\n    <tr>\n      <th>3</th>\n      <td>car</td>\n    </tr>\n    <tr>\n      <th>4</th>\n      <td>motorcycle</td>\n    </tr>\n    <tr>\n      <th>5</th>\n      <td>airplane</td>\n    </tr>\n    <tr>\n      <th>...</th>\n      <td>...</td>\n    </tr>\n    <tr>\n      <th>86</th>\n      <td>vase</td>\n    </tr>\n    <tr>\n      <th>87</th>\n      <td>scissors</td>\n    </tr>\n    <tr>\n      <th>88</th>\n      <td>teddy bear</td>\n    </tr>\n    <tr>\n      <th>89</th>\n      <td>hair drier</td>\n    </tr>\n    <tr>\n      <th>90</th>\n      <td>toothbrush</td>\n    </tr>\n  </tbody>\n</table>\n<p>80 rows × 1 columns</p>\n</div>",
          "text/plain": "            category string\ncategory_id                \n1                    person\n2                   bicycle\n3                       car\n4                motorcycle\n5                  airplane\n...                     ...\n86                     vase\n87                 scissors\n88               teddy bear\n89               hair drier\n90               toothbrush\n\n[80 rows x 1 columns]"
         },
         "metadata": {},
         "output_type": "display_data"
        }
       ]
      }
     },
     "1252043de56a40638fa0ad798643d66d": {
      "model_module": "@jupyter-widgets/controls",
      "model_module_version": "2.0.0",
      "model_name": "HTMLStyleModel",
      "state": {
       "description_width": "",
       "font_size": null,
       "text_color": null
      }
     },
     "132b83b33bf3466e8573a83e33a509c3": {
      "model_module": "@jupyter-widgets/base",
      "model_module_version": "2.0.0",
      "model_name": "LayoutModel",
      "state": {}
     },
     "13fb585955bb4ac18e1d173f5be42a61": {
      "model_module": "@jupyter-widgets/base",
      "model_module_version": "2.0.0",
      "model_name": "LayoutModel",
      "state": {}
     },
     "1416f9b474a24937b723b5f3b963bc3d": {
      "model_module": "@jupyter-widgets/controls",
      "model_module_version": "2.0.0",
      "model_name": "HTMLStyleModel",
      "state": {
       "description_width": "",
       "font_size": null,
       "text_color": null
      }
     },
     "14920287853b4463808e03ee1387d1a7": {
      "model_module": "@jupyter-widgets/controls",
      "model_module_version": "2.0.0",
      "model_name": "HTMLModel",
      "state": {
       "layout": "IPY_MODEL_7aa3e04fe4094863b5518df7992fe347",
       "style": "IPY_MODEL_3a2b17664ac140d78520a4c5300ae5f5",
       "value": "<p><span style='white-space: pre-wrap; font-weight: bold'>Dataset object containing 5,000 images and 5,143 objects\nName :\n\tcoco\nImages root :\n\tnotebook_data</span></p>"
      }
     },
     "14c9eff2b13d470abb1cd5c212d6c618": {
      "model_module": "@jupyter-widgets/controls",
      "model_module_version": "2.0.0",
      "model_name": "VBoxModel",
      "state": {
       "children": [
        "IPY_MODEL_ccafb9f9f93b452f9b3e814de8580e87",
        "IPY_MODEL_0e6f07c8f9234a22a13aeb66a37ae957"
       ],
       "layout": "IPY_MODEL_3051e8bb7d604f078dc79e2a61112cef"
      }
     },
     "154d29f071ef4168bb329113f398f898": {
      "model_module": "@jupyter-widgets/output",
      "model_module_version": "1.0.0",
      "model_name": "OutputModel",
      "state": {
       "layout": "IPY_MODEL_3d766ee091c34dcea2fd04524e345a2b",
       "outputs": [
        {
         "data": {
          "text/html": "<div>\n<style scoped>\n    .dataframe tbody tr th:only-of-type {\n        vertical-align: middle;\n    }\n\n    .dataframe tbody tr th {\n        vertical-align: top;\n    }\n\n    .dataframe thead th {\n        text-align: right;\n    }\n</style>\n<table border=\"1\" class=\"dataframe\">\n  <thead>\n    <tr style=\"text-align: right;\">\n      <th></th>\n      <th>width</th>\n      <th>height</th>\n      <th>relative_path</th>\n      <th>type</th>\n      <th>split</th>\n    </tr>\n    <tr>\n      <th>id</th>\n      <th></th>\n      <th></th>\n      <th></th>\n      <th></th>\n      <th></th>\n    </tr>\n  </thead>\n  <tbody>\n    <tr>\n      <th>113354</th>\n      <td>640</td>\n      <td>480</td>\n      <td>Images/valid/000000113354.jpg</td>\n      <td>.jpg</td>\n      <td>valid</td>\n    </tr>\n  </tbody>\n</table>\n</div>",
          "text/plain": "        width  height                  relative_path  type  split\nid                                                               \n113354    640     480  Images/valid/000000113354.jpg  .jpg  valid"
         },
         "metadata": {},
         "output_type": "display_data"
        }
       ]
      }
     },
     "159bb66846164353a2cb754c5533539c": {
      "model_module": "@jupyter-widgets/output",
      "model_module_version": "1.0.0",
      "model_name": "OutputModel",
      "state": {
       "layout": "IPY_MODEL_c572ffaa12b845f485859ee7a5558489",
       "outputs": [
        {
         "data": {
          "text/html": "<div>\n<style scoped>\n    .dataframe tbody tr th:only-of-type {\n        vertical-align: middle;\n    }\n\n    .dataframe tbody tr th {\n        vertical-align: top;\n    }\n\n    .dataframe thead th {\n        text-align: right;\n    }\n</style>\n<table border=\"1\" class=\"dataframe\">\n  <thead>\n    <tr style=\"text-align: right;\">\n      <th></th>\n      <th>category string</th>\n    </tr>\n    <tr>\n      <th>category_id</th>\n      <th></th>\n    </tr>\n  </thead>\n  <tbody>\n    <tr>\n      <th>1</th>\n      <td>person</td>\n    </tr>\n    <tr>\n      <th>2</th>\n      <td>bicycle</td>\n    </tr>\n    <tr>\n      <th>3</th>\n      <td>car</td>\n    </tr>\n    <tr>\n      <th>4</th>\n      <td>motorcycle</td>\n    </tr>\n    <tr>\n      <th>5</th>\n      <td>airplane</td>\n    </tr>\n    <tr>\n      <th>...</th>\n      <td>...</td>\n    </tr>\n    <tr>\n      <th>86</th>\n      <td>vase</td>\n    </tr>\n    <tr>\n      <th>87</th>\n      <td>scissors</td>\n    </tr>\n    <tr>\n      <th>88</th>\n      <td>teddy bear</td>\n    </tr>\n    <tr>\n      <th>89</th>\n      <td>hair drier</td>\n    </tr>\n    <tr>\n      <th>90</th>\n      <td>toothbrush</td>\n    </tr>\n  </tbody>\n</table>\n<p>80 rows × 1 columns</p>\n</div>",
          "text/plain": "            category string\ncategory_id                \n1                    person\n2                   bicycle\n3                       car\n4                motorcycle\n5                  airplane\n...                     ...\n86                     vase\n87                 scissors\n88               teddy bear\n89               hair drier\n90               toothbrush\n\n[80 rows x 1 columns]"
         },
         "metadata": {},
         "output_type": "display_data"
        }
       ]
      }
     },
     "15b687c65c5748a69ead0b5e940730bd": {
      "model_module": "@jupyter-widgets/controls",
      "model_module_version": "2.0.0",
      "model_name": "HTMLModel",
      "state": {
       "layout": "IPY_MODEL_ba4c9be84f0049739a9704cc7ba1fc97",
       "style": "IPY_MODEL_6737bc5a08654f319515e5b2ca970d9c",
       "value": "<p><span style='white-space: pre-wrap; font-weight: bold'>Dataset object containing 5,000 images and 5,143 objects\nName :\n\tcoco\nImages root :\n\tnotebook_data</span></p>"
      }
     },
     "1616e1562d044a25a4bd62eaa2f2879a": {
      "model_module": "@jupyter-widgets/base",
      "model_module_version": "2.0.0",
      "model_name": "LayoutModel",
      "state": {}
     },
     "1680a5d5e44c4cf5af0bacc3a29d62c7": {
      "model_module": "@jupyter-widgets/base",
      "model_module_version": "2.0.0",
      "model_name": "LayoutModel",
      "state": {}
     },
     "168ef23aeb3a4211b806b250b7f8a65a": {
      "model_module": "@jupyter-widgets/base",
      "model_module_version": "2.0.0",
      "model_name": "LayoutModel",
      "state": {}
     },
     "17c92255a8d94ff583db6d932cbb04da": {
      "model_module": "@jupyter-widgets/base",
      "model_module_version": "2.0.0",
      "model_name": "LayoutModel",
      "state": {}
     },
     "1806823b51b6461b819a313d85ae308e": {
      "model_module": "@jupyter-widgets/output",
      "model_module_version": "1.0.0",
      "model_name": "OutputModel",
      "state": {
       "layout": "IPY_MODEL_b4c56bc21a884ca1a28d53108f8b0d72",
       "outputs": [
        {
         "data": {
          "text/html": "<div>\n<style scoped>\n    .dataframe tbody tr th:only-of-type {\n        vertical-align: middle;\n    }\n\n    .dataframe tbody tr th {\n        vertical-align: top;\n    }\n\n    .dataframe thead th {\n        text-align: right;\n    }\n</style>\n<table border=\"1\" class=\"dataframe\">\n  <thead>\n    <tr style=\"text-align: right;\">\n      <th></th>\n      <th>width</th>\n      <th>height</th>\n      <th>relative_path</th>\n      <th>type</th>\n      <th>split</th>\n    </tr>\n    <tr>\n      <th>id</th>\n      <th></th>\n      <th></th>\n      <th></th>\n      <th></th>\n      <th></th>\n    </tr>\n  </thead>\n  <tbody>\n    <tr>\n      <th>352582</th>\n      <td>425</td>\n      <td>640</td>\n      <td>Images/valid/000000352582.jpg</td>\n      <td>.jpg</td>\n      <td>valid</td>\n    </tr>\n    <tr>\n      <th>113354</th>\n      <td>640</td>\n      <td>480</td>\n      <td>Images/valid/000000113354.jpg</td>\n      <td>.jpg</td>\n      <td>valid</td>\n    </tr>\n    <tr>\n      <th>58393</th>\n      <td>640</td>\n      <td>486</td>\n      <td>Images/valid/000000058393.jpg</td>\n      <td>.jpg</td>\n      <td>valid</td>\n    </tr>\n    <tr>\n      <th>147729</th>\n      <td>500</td>\n      <td>375</td>\n      <td>Images/valid/000000147729.jpg</td>\n      <td>.jpg</td>\n      <td>valid</td>\n    </tr>\n    <tr>\n      <th>310072</th>\n      <td>640</td>\n      <td>383</td>\n      <td>Images/valid/000000310072.jpg</td>\n      <td>.jpg</td>\n      <td>valid</td>\n    </tr>\n    <tr>\n      <th>...</th>\n      <td>...</td>\n      <td>...</td>\n      <td>...</td>\n      <td>...</td>\n      <td>...</td>\n    </tr>\n    <tr>\n      <th>311180</th>\n      <td>480</td>\n      <td>640</td>\n      <td>Images/valid/000000311180.jpg</td>\n      <td>.jpg</td>\n      <td>valid</td>\n    </tr>\n    <tr>\n      <th>302030</th>\n      <td>640</td>\n      <td>359</td>\n      <td>Images/valid/000000302030.jpg</td>\n      <td>.jpg</td>\n      <td>valid</td>\n    </tr>\n    <tr>\n      <th>105455</th>\n      <td>427</td>\n      <td>640</td>\n      <td>Images/valid/000000105455.jpg</td>\n      <td>.jpg</td>\n      <td>valid</td>\n    </tr>\n    <tr>\n      <th>428280</th>\n      <td>500</td>\n      <td>333</td>\n      <td>Images/valid/000000428280.jpg</td>\n      <td>.jpg</td>\n      <td>valid</td>\n    </tr>\n    <tr>\n      <th>349837</th>\n      <td>500</td>\n      <td>333</td>\n      <td>Images/valid/000000349837.jpg</td>\n      <td>.jpg</td>\n      <td>valid</td>\n    </tr>\n  </tbody>\n</table>\n<p>5000 rows × 5 columns</p>\n</div>",
          "text/plain": "        width  height                  relative_path  type  split\nid                                                               \n352582    425     640  Images/valid/000000352582.jpg  .jpg  valid\n113354    640     480  Images/valid/000000113354.jpg  .jpg  valid\n58393     640     486  Images/valid/000000058393.jpg  .jpg  valid\n147729    500     375  Images/valid/000000147729.jpg  .jpg  valid\n310072    640     383  Images/valid/000000310072.jpg  .jpg  valid\n...       ...     ...                            ...   ...    ...\n311180    480     640  Images/valid/000000311180.jpg  .jpg  valid\n302030    640     359  Images/valid/000000302030.jpg  .jpg  valid\n105455    427     640  Images/valid/000000105455.jpg  .jpg  valid\n428280    500     333  Images/valid/000000428280.jpg  .jpg  valid\n349837    500     333  Images/valid/000000349837.jpg  .jpg  valid\n\n[5000 rows x 5 columns]"
         },
         "metadata": {},
         "output_type": "display_data"
        }
       ]
      }
     },
     "18979c5911324f4387b6ebc581d763a8": {
      "model_module": "@jupyter-widgets/output",
      "model_module_version": "1.0.0",
      "model_name": "OutputModel",
      "state": {
       "layout": "IPY_MODEL_ee5240ec7e3b462999c0e290894a742a",
       "outputs": [
        {
         "data": {
          "text/html": "<div>\n<style scoped>\n    .dataframe tbody tr th:only-of-type {\n        vertical-align: middle;\n    }\n\n    .dataframe tbody tr th {\n        vertical-align: top;\n    }\n\n    .dataframe thead th {\n        text-align: right;\n    }\n</style>\n<table border=\"1\" class=\"dataframe\">\n  <thead>\n    <tr style=\"text-align: right;\">\n      <th></th>\n      <th>width</th>\n      <th>height</th>\n      <th>relative_path</th>\n      <th>type</th>\n      <th>split</th>\n    </tr>\n    <tr>\n      <th>id</th>\n      <th></th>\n      <th></th>\n      <th></th>\n      <th></th>\n      <th></th>\n    </tr>\n  </thead>\n  <tbody>\n    <tr>\n      <th>3053</th>\n      <td>425</td>\n      <td>640</td>\n      <td>Images/valid/000000352582.jpg</td>\n      <td>.jpg</td>\n      <td>valid</td>\n    </tr>\n    <tr>\n      <th>967</th>\n      <td>640</td>\n      <td>480</td>\n      <td>Images/valid/000000113354.jpg</td>\n      <td>.jpg</td>\n      <td>valid</td>\n    </tr>\n    <tr>\n      <th>524</th>\n      <td>640</td>\n      <td>486</td>\n      <td>Images/valid/000000058393.jpg</td>\n      <td>.jpg</td>\n      <td>valid</td>\n    </tr>\n    <tr>\n      <th>1260</th>\n      <td>500</td>\n      <td>375</td>\n      <td>Images/valid/000000147729.jpg</td>\n      <td>.jpg</td>\n      <td>valid</td>\n    </tr>\n    <tr>\n      <th>2695</th>\n      <td>640</td>\n      <td>383</td>\n      <td>Images/valid/000000310072.jpg</td>\n      <td>.jpg</td>\n      <td>valid</td>\n    </tr>\n    <tr>\n      <th>...</th>\n      <td>...</td>\n      <td>...</td>\n      <td>...</td>\n      <td>...</td>\n      <td>...</td>\n    </tr>\n    <tr>\n      <th>2702</th>\n      <td>480</td>\n      <td>640</td>\n      <td>Images/valid/000000311180.jpg</td>\n      <td>.jpg</td>\n      <td>valid</td>\n    </tr>\n    <tr>\n      <th>2626</th>\n      <td>640</td>\n      <td>359</td>\n      <td>Images/valid/000000302030.jpg</td>\n      <td>.jpg</td>\n      <td>valid</td>\n    </tr>\n    <tr>\n      <th>905</th>\n      <td>427</td>\n      <td>640</td>\n      <td>Images/valid/000000105455.jpg</td>\n      <td>.jpg</td>\n      <td>valid</td>\n    </tr>\n    <tr>\n      <th>3705</th>\n      <td>500</td>\n      <td>333</td>\n      <td>Images/valid/000000428280.jpg</td>\n      <td>.jpg</td>\n      <td>valid</td>\n    </tr>\n    <tr>\n      <th>3028</th>\n      <td>500</td>\n      <td>333</td>\n      <td>Images/valid/000000349837.jpg</td>\n      <td>.jpg</td>\n      <td>valid</td>\n    </tr>\n  </tbody>\n</table>\n<p>5000 rows × 5 columns</p>\n</div>",
          "text/plain": "      width  height                  relative_path  type  split\nid                                                             \n3053    425     640  Images/valid/000000352582.jpg  .jpg  valid\n967     640     480  Images/valid/000000113354.jpg  .jpg  valid\n524     640     486  Images/valid/000000058393.jpg  .jpg  valid\n1260    500     375  Images/valid/000000147729.jpg  .jpg  valid\n2695    640     383  Images/valid/000000310072.jpg  .jpg  valid\n...     ...     ...                            ...   ...    ...\n2702    480     640  Images/valid/000000311180.jpg  .jpg  valid\n2626    640     359  Images/valid/000000302030.jpg  .jpg  valid\n905     427     640  Images/valid/000000105455.jpg  .jpg  valid\n3705    500     333  Images/valid/000000428280.jpg  .jpg  valid\n3028    500     333  Images/valid/000000349837.jpg  .jpg  valid\n\n[5000 rows x 5 columns]"
         },
         "metadata": {},
         "output_type": "display_data"
        }
       ]
      }
     },
     "1970b27f18fa40c0b73ca251136c2263": {
      "model_module": "@jupyter-widgets/controls",
      "model_module_version": "2.0.0",
      "model_name": "VBoxModel",
      "state": {
       "children": [
        "IPY_MODEL_f94af64c1feb49ffabd1d93d796846ba",
        "IPY_MODEL_063d51c9c39d45c58f6b85fa8b17f63a"
       ],
       "layout": "IPY_MODEL_c8707bef186a4880894260f278718efd"
      }
     },
     "1a50fd3cde1b41f78d149c09b1dc5a17": {
      "model_module": "@jupyter-widgets/controls",
      "model_module_version": "2.0.0",
      "model_name": "TabModel",
      "state": {
       "children": [
        "IPY_MODEL_83e203111fcb4b0a979bcc78b3a43c5a",
        "IPY_MODEL_54516878809f42f981d26be89bde7825",
        "IPY_MODEL_e055ea2e96554b52921c4fe1ec020a1d"
       ],
       "layout": "IPY_MODEL_8922eb8987db403a882288f07fc9b433",
       "selected_index": 0,
       "titles": [
        "Images",
        "Annotations",
        "Label Map"
       ]
      }
     },
     "1a5cd5a91c06452787450d9c3bea1c77": {
      "model_module": "@jupyter-widgets/output",
      "model_module_version": "1.0.0",
      "model_name": "OutputModel",
      "state": {
       "layout": "IPY_MODEL_0e03bf5374ec43afb5f3fd9e974d0898",
       "outputs": [
        {
         "data": {
          "text/html": "<div>\n<style scoped>\n    .dataframe tbody tr th:only-of-type {\n        vertical-align: middle;\n    }\n\n    .dataframe tbody tr th {\n        vertical-align: top;\n    }\n\n    .dataframe thead th {\n        text-align: right;\n    }\n</style>\n<table border=\"1\" class=\"dataframe\">\n  <thead>\n    <tr style=\"text-align: right;\">\n      <th></th>\n      <th>image_id</th>\n      <th>category_str</th>\n      <th>category_id</th>\n      <th>split</th>\n      <th>box_x_min</th>\n      <th>box_y_min</th>\n      <th>box_width</th>\n      <th>box_height</th>\n      <th>area</th>\n    </tr>\n    <tr>\n      <th>id</th>\n      <th></th>\n      <th></th>\n      <th></th>\n      <th></th>\n      <th></th>\n      <th></th>\n      <th></th>\n      <th></th>\n      <th></th>\n    </tr>\n  </thead>\n  <tbody>\n    <tr>\n      <th>460450</th>\n      <td>352582</td>\n      <td>person</td>\n      <td>1</td>\n      <td>valid</td>\n      <td>112.43</td>\n      <td>195.32</td>\n      <td>214.78</td>\n      <td>438.19</td>\n      <td>48685.67910</td>\n    </tr>\n    <tr>\n      <th>602093</th>\n      <td>352582</td>\n      <td>frisbee</td>\n      <td>34</td>\n      <td>valid</td>\n      <td>171.63</td>\n      <td>424.03</td>\n      <td>85.89</td>\n      <td>40.67</td>\n      <td>2605.72090</td>\n    </tr>\n    <tr>\n      <th>589740</th>\n      <td>113354</td>\n      <td>zebra</td>\n      <td>24</td>\n      <td>valid</td>\n      <td>366.49</td>\n      <td>174.59</td>\n      <td>115.67</td>\n      <td>142.71</td>\n      <td>5784.68620</td>\n    </tr>\n    <tr>\n      <th>467905</th>\n      <td>58393</td>\n      <td>person</td>\n      <td>1</td>\n      <td>valid</td>\n      <td>342.52</td>\n      <td>163.33</td>\n      <td>192.24</td>\n      <td>77.47</td>\n      <td>5408.64720</td>\n    </tr>\n    <tr>\n      <th>1710990</th>\n      <td>58393</td>\n      <td>person</td>\n      <td>1</td>\n      <td>valid</td>\n      <td>418.99</td>\n      <td>182.65</td>\n      <td>61.12</td>\n      <td>45.00</td>\n      <td>1792.80770</td>\n    </tr>\n    <tr>\n      <th>...</th>\n      <td>...</td>\n      <td>...</td>\n      <td>...</td>\n      <td>...</td>\n      <td>...</td>\n      <td>...</td>\n      <td>...</td>\n      <td>...</td>\n      <td>...</td>\n    </tr>\n    <tr>\n      <th>1101888</th>\n      <td>428280</td>\n      <td>laptop</td>\n      <td>73</td>\n      <td>valid</td>\n      <td>118.71</td>\n      <td>138.34</td>\n      <td>44.79</td>\n      <td>35.83</td>\n      <td>1405.98065</td>\n    </tr>\n    <tr>\n      <th>2190513</th>\n      <td>428280</td>\n      <td>chair</td>\n      <td>62</td>\n      <td>valid</td>\n      <td>203.58</td>\n      <td>179.65</td>\n      <td>105.27</td>\n      <td>139.55</td>\n      <td>7696.12525</td>\n    </tr>\n    <tr>\n      <th>331107</th>\n      <td>349837</td>\n      <td>refrigerator</td>\n      <td>82</td>\n      <td>valid</td>\n      <td>66.00</td>\n      <td>94.87</td>\n      <td>71.25</td>\n      <td>194.26</td>\n      <td>12029.44125</td>\n    </tr>\n    <tr>\n      <th>333394</th>\n      <td>349837</td>\n      <td>refrigerator</td>\n      <td>82</td>\n      <td>valid</td>\n      <td>234.44</td>\n      <td>29.87</td>\n      <td>113.49</td>\n      <td>298.65</td>\n      <td>30406.51295</td>\n    </tr>\n    <tr>\n      <th>333731</th>\n      <td>349837</td>\n      <td>refrigerator</td>\n      <td>82</td>\n      <td>valid</td>\n      <td>460.39</td>\n      <td>0.00</td>\n      <td>39.61</td>\n      <td>328.64</td>\n      <td>12492.52165</td>\n    </tr>\n  </tbody>\n</table>\n<p>18391 rows × 9 columns</p>\n</div>",
          "text/plain": "         image_id  category_str  category_id  split  box_x_min  box_y_min  \\\nid                                                                          \n460450     352582        person            1  valid     112.43     195.32   \n602093     352582       frisbee           34  valid     171.63     424.03   \n589740     113354         zebra           24  valid     366.49     174.59   \n467905      58393        person            1  valid     342.52     163.33   \n1710990     58393        person            1  valid     418.99     182.65   \n...           ...           ...          ...    ...        ...        ...   \n1101888    428280        laptop           73  valid     118.71     138.34   \n2190513    428280         chair           62  valid     203.58     179.65   \n331107     349837  refrigerator           82  valid      66.00      94.87   \n333394     349837  refrigerator           82  valid     234.44      29.87   \n333731     349837  refrigerator           82  valid     460.39       0.00   \n\n         box_width  box_height         area  \nid                                           \n460450      214.78      438.19  48685.67910  \n602093       85.89       40.67   2605.72090  \n589740      115.67      142.71   5784.68620  \n467905      192.24       77.47   5408.64720  \n1710990      61.12       45.00   1792.80770  \n...            ...         ...          ...  \n1101888      44.79       35.83   1405.98065  \n2190513     105.27      139.55   7696.12525  \n331107       71.25      194.26  12029.44125  \n333394      113.49      298.65  30406.51295  \n333731       39.61      328.64  12492.52165  \n\n[18391 rows x 9 columns]"
         },
         "metadata": {},
         "output_type": "display_data"
        }
       ]
      }
     },
     "1aaf92bec1cd442b9330a198f7d56ee1": {
      "model_module": "@jupyter-widgets/base",
      "model_module_version": "2.0.0",
      "model_name": "LayoutModel",
      "state": {}
     },
     "1cb92b66c8184d67ac0465a03d8c34b3": {
      "model_module": "@jupyter-widgets/base",
      "model_module_version": "2.0.0",
      "model_name": "LayoutModel",
      "state": {}
     },
     "1d70177086d9490e8acbb8e6a1b7c456": {
      "model_module": "@jupyter-widgets/output",
      "model_module_version": "1.0.0",
      "model_name": "OutputModel",
      "state": {
       "layout": "IPY_MODEL_70fdba3e32804c24b70a1b285a985f71",
       "outputs": [
        {
         "data": {
          "text/html": "<div>\n<style scoped>\n    .dataframe tbody tr th:only-of-type {\n        vertical-align: middle;\n    }\n\n    .dataframe tbody tr th {\n        vertical-align: top;\n    }\n\n    .dataframe thead th {\n        text-align: right;\n    }\n</style>\n<table border=\"1\" class=\"dataframe\">\n  <thead>\n    <tr style=\"text-align: right;\">\n      <th></th>\n      <th>width</th>\n      <th>height</th>\n      <th>relative_path</th>\n      <th>type</th>\n      <th>split</th>\n    </tr>\n    <tr>\n      <th>id</th>\n      <th></th>\n      <th></th>\n      <th></th>\n      <th></th>\n      <th></th>\n    </tr>\n  </thead>\n  <tbody>\n    <tr>\n      <th>352582</th>\n      <td>425</td>\n      <td>640</td>\n      <td>Images/valid/000000352582.jpg</td>\n      <td>.jpg</td>\n      <td>valid</td>\n    </tr>\n    <tr>\n      <th>113354</th>\n      <td>640</td>\n      <td>480</td>\n      <td>Images/valid/000000113354.jpg</td>\n      <td>.jpg</td>\n      <td>valid</td>\n    </tr>\n    <tr>\n      <th>58393</th>\n      <td>640</td>\n      <td>486</td>\n      <td>Images/valid/000000058393.jpg</td>\n      <td>.jpg</td>\n      <td>valid</td>\n    </tr>\n    <tr>\n      <th>147729</th>\n      <td>500</td>\n      <td>375</td>\n      <td>Images/valid/000000147729.jpg</td>\n      <td>.jpg</td>\n      <td>valid</td>\n    </tr>\n    <tr>\n      <th>310072</th>\n      <td>640</td>\n      <td>383</td>\n      <td>Images/valid/000000310072.jpg</td>\n      <td>.jpg</td>\n      <td>valid</td>\n    </tr>\n    <tr>\n      <th>...</th>\n      <td>...</td>\n      <td>...</td>\n      <td>...</td>\n      <td>...</td>\n      <td>...</td>\n    </tr>\n    <tr>\n      <th>311180</th>\n      <td>480</td>\n      <td>640</td>\n      <td>Images/valid/000000311180.jpg</td>\n      <td>.jpg</td>\n      <td>valid</td>\n    </tr>\n    <tr>\n      <th>302030</th>\n      <td>640</td>\n      <td>359</td>\n      <td>Images/valid/000000302030.jpg</td>\n      <td>.jpg</td>\n      <td>valid</td>\n    </tr>\n    <tr>\n      <th>105455</th>\n      <td>427</td>\n      <td>640</td>\n      <td>Images/valid/000000105455.jpg</td>\n      <td>.jpg</td>\n      <td>valid</td>\n    </tr>\n    <tr>\n      <th>428280</th>\n      <td>500</td>\n      <td>333</td>\n      <td>Images/valid/000000428280.jpg</td>\n      <td>.jpg</td>\n      <td>valid</td>\n    </tr>\n    <tr>\n      <th>349837</th>\n      <td>500</td>\n      <td>333</td>\n      <td>Images/valid/000000349837.jpg</td>\n      <td>.jpg</td>\n      <td>valid</td>\n    </tr>\n  </tbody>\n</table>\n<p>5000 rows × 5 columns</p>\n</div>",
          "text/plain": "        width  height                  relative_path  type  split\nid                                                               \n352582    425     640  Images/valid/000000352582.jpg  .jpg  valid\n113354    640     480  Images/valid/000000113354.jpg  .jpg  valid\n58393     640     486  Images/valid/000000058393.jpg  .jpg  valid\n147729    500     375  Images/valid/000000147729.jpg  .jpg  valid\n310072    640     383  Images/valid/000000310072.jpg  .jpg  valid\n...       ...     ...                            ...   ...    ...\n311180    480     640  Images/valid/000000311180.jpg  .jpg  valid\n302030    640     359  Images/valid/000000302030.jpg  .jpg  valid\n105455    427     640  Images/valid/000000105455.jpg  .jpg  valid\n428280    500     333  Images/valid/000000428280.jpg  .jpg  valid\n349837    500     333  Images/valid/000000349837.jpg  .jpg  valid\n\n[5000 rows x 5 columns]"
         },
         "metadata": {},
         "output_type": "display_data"
        }
       ]
      }
     },
     "1ef59c8060c844fe982a644c188e4f31": {
      "model_module": "@jupyter-widgets/controls",
      "model_module_version": "2.0.0",
      "model_name": "TabModel",
      "state": {
       "children": [
        "IPY_MODEL_43e6dc6680604f52951eeee42e046a9e",
        "IPY_MODEL_502ed02a10684ca3824cfb4c98159fd2",
        "IPY_MODEL_027574edd34c481e8534de087f78f615"
       ],
       "layout": "IPY_MODEL_c809aeda1ca94d378c54d210891e5745",
       "selected_index": 0,
       "titles": [
        "Images",
        "Annotations",
        "Label Map"
       ]
      }
     },
     "1f1c81c1ce2c4d14be5ee3773dc94b12": {
      "model_module": "@jupyter-widgets/base",
      "model_module_version": "2.0.0",
      "model_name": "LayoutModel",
      "state": {}
     },
     "1fc92f635def49f58903c29563dec9c3": {
      "model_module": "@jupyter-widgets/base",
      "model_module_version": "2.0.0",
      "model_name": "LayoutModel",
      "state": {}
     },
     "2055ad3d77a84aa69d7093f46273f036": {
      "model_module": "@jupyter-widgets/base",
      "model_module_version": "2.0.0",
      "model_name": "LayoutModel",
      "state": {}
     },
     "20c7d2be1b8a40a28b0ad3abdf22127b": {
      "model_module": "@jupyter-widgets/controls",
      "model_module_version": "2.0.0",
      "model_name": "HTMLModel",
      "state": {
       "layout": "IPY_MODEL_bedb4bd1670c4e22b1ec4fdb51fab79e",
       "style": "IPY_MODEL_e5203aea1a034e4f8f07478a1518f32c",
       "value": "<p><span style='white-space: pre-wrap; font-weight: bold'>Dataset object containing 5,000 images and 36,781 objects\nName :\n\tcoco\nImages root :\n\tnotebook_data</span></p>"
      }
     },
     "23897ec8a10d41658c76b17eb00cf4d4": {
      "model_module": "@jupyter-widgets/base",
      "model_module_version": "2.0.0",
      "model_name": "LayoutModel",
      "state": {}
     },
     "23ed09427de242f3b230bd3767bf66b0": {
      "model_module": "@jupyter-widgets/base",
      "model_module_version": "2.0.0",
      "model_name": "LayoutModel",
      "state": {}
     },
     "2572b7a106bd469ea145786b8d9bf1d4": {
      "model_module": "@jupyter-widgets/controls",
      "model_module_version": "2.0.0",
      "model_name": "VBoxModel",
      "state": {
       "children": [
        "IPY_MODEL_20c7d2be1b8a40a28b0ad3abdf22127b",
        "IPY_MODEL_d6c7a6732abe4d088111573889108ec2"
       ],
       "layout": "IPY_MODEL_b162419c877c48d5a1025451a2672beb"
      }
     },
     "26ef8be6383a42208015aed17d6569c8": {
      "model_module": "@jupyter-widgets/base",
      "model_module_version": "2.0.0",
      "model_name": "LayoutModel",
      "state": {}
     },
     "27386ac3f6d946fba2d17329720bf368": {
      "model_module": "@jupyter-widgets/base",
      "model_module_version": "2.0.0",
      "model_name": "LayoutModel",
      "state": {}
     },
     "2778d61fc01a436e916253188585e30e": {
      "model_module": "@jupyter-widgets/output",
      "model_module_version": "1.0.0",
      "model_name": "OutputModel",
      "state": {
       "layout": "IPY_MODEL_6970548c33f84974964ded501928192b",
       "outputs": [
        {
         "data": {
          "text/html": "<div>\n<style scoped>\n    .dataframe tbody tr th:only-of-type {\n        vertical-align: middle;\n    }\n\n    .dataframe tbody tr th {\n        vertical-align: top;\n    }\n\n    .dataframe thead th {\n        text-align: right;\n    }\n</style>\n<table border=\"1\" class=\"dataframe\">\n  <thead>\n    <tr style=\"text-align: right;\">\n      <th></th>\n      <th>image_id</th>\n      <th>category_str</th>\n      <th>category_id</th>\n      <th>split</th>\n      <th>box_x_min</th>\n      <th>box_y_min</th>\n      <th>box_width</th>\n      <th>box_height</th>\n      <th>area</th>\n    </tr>\n    <tr>\n      <th>id</th>\n      <th></th>\n      <th></th>\n      <th></th>\n      <th></th>\n      <th></th>\n      <th></th>\n      <th></th>\n      <th></th>\n      <th></th>\n    </tr>\n  </thead>\n  <tbody>\n    <tr>\n      <th>0</th>\n      <td>0</td>\n      <td>chair</td>\n      <td>62</td>\n      <td>valid</td>\n      <td>244.82</td>\n      <td>230.45</td>\n      <td>104.72</td>\n      <td>87.69</td>\n      <td>5184.22260</td>\n    </tr>\n    <tr>\n      <th>1</th>\n      <td>0</td>\n      <td>potted plant</td>\n      <td>64</td>\n      <td>valid</td>\n      <td>183.36</td>\n      <td>136.56</td>\n      <td>60.78</td>\n      <td>92.39</td>\n      <td>2464.93305</td>\n    </tr>\n    <tr>\n      <th>2</th>\n      <td>0</td>\n      <td>potted plant</td>\n      <td>64</td>\n      <td>valid</td>\n      <td>347.35</td>\n      <td>212.37</td>\n      <td>82.51</td>\n      <td>143.00</td>\n      <td>7034.62185</td>\n    </tr>\n    <tr>\n      <th>3</th>\n      <td>0</td>\n      <td>bed</td>\n      <td>65</td>\n      <td>valid</td>\n      <td>3.27</td>\n      <td>266.85</td>\n      <td>401.23</td>\n      <td>208.25</td>\n      <td>64019.87940</td>\n    </tr>\n    <tr>\n      <th>4</th>\n      <td>0</td>\n      <td>book</td>\n      <td>84</td>\n      <td>valid</td>\n      <td>416.00</td>\n      <td>43.00</td>\n      <td>153.00</td>\n      <td>303.00</td>\n      <td>20933.00000</td>\n    </tr>\n    <tr>\n      <th>...</th>\n      <td>...</td>\n      <td>...</td>\n      <td>...</td>\n      <td>...</td>\n      <td>...</td>\n      <td>...</td>\n      <td>...</td>\n      <td>...</td>\n      <td>...</td>\n    </tr>\n    <tr>\n      <th>36776</th>\n      <td>4997</td>\n      <td>skateboard</td>\n      <td>41</td>\n      <td>valid</td>\n      <td>128.77</td>\n      <td>152.72</td>\n      <td>50.00</td>\n      <td>17.21</td>\n      <td>364.30040</td>\n    </tr>\n    <tr>\n      <th>36777</th>\n      <td>4998</td>\n      <td>person</td>\n      <td>1</td>\n      <td>valid</td>\n      <td>0.00</td>\n      <td>2.53</td>\n      <td>469.53</td>\n      <td>215.26</td>\n      <td>53359.63985</td>\n    </tr>\n    <tr>\n      <th>36778</th>\n      <td>4998</td>\n      <td>hot dog</td>\n      <td>58</td>\n      <td>valid</td>\n      <td>39.91</td>\n      <td>140.73</td>\n      <td>308.31</td>\n      <td>232.60</td>\n      <td>46341.95470</td>\n    </tr>\n    <tr>\n      <th>36779</th>\n      <td>4998</td>\n      <td>hot dog</td>\n      <td>58</td>\n      <td>valid</td>\n      <td>147.27</td>\n      <td>282.15</td>\n      <td>246.36</td>\n      <td>206.45</td>\n      <td>14878.08055</td>\n    </tr>\n    <tr>\n      <th>36780</th>\n      <td>4999</td>\n      <td>toilet</td>\n      <td>70</td>\n      <td>valid</td>\n      <td>139.32</td>\n      <td>386.03</td>\n      <td>191.56</td>\n      <td>235.10</td>\n      <td>34120.51835</td>\n    </tr>\n  </tbody>\n</table>\n<p>36781 rows × 9 columns</p>\n</div>",
          "text/plain": "       image_id  category_str  category_id  split  box_x_min  box_y_min  \\\nid                                                                        \n0             0         chair           62  valid     244.82     230.45   \n1             0  potted plant           64  valid     183.36     136.56   \n2             0  potted plant           64  valid     347.35     212.37   \n3             0           bed           65  valid       3.27     266.85   \n4             0          book           84  valid     416.00      43.00   \n...         ...           ...          ...    ...        ...        ...   \n36776      4997    skateboard           41  valid     128.77     152.72   \n36777      4998        person            1  valid       0.00       2.53   \n36778      4998       hot dog           58  valid      39.91     140.73   \n36779      4998       hot dog           58  valid     147.27     282.15   \n36780      4999        toilet           70  valid     139.32     386.03   \n\n       box_width  box_height         area  \nid                                         \n0         104.72       87.69   5184.22260  \n1          60.78       92.39   2464.93305  \n2          82.51      143.00   7034.62185  \n3         401.23      208.25  64019.87940  \n4         153.00      303.00  20933.00000  \n...          ...         ...          ...  \n36776      50.00       17.21    364.30040  \n36777     469.53      215.26  53359.63985  \n36778     308.31      232.60  46341.95470  \n36779     246.36      206.45  14878.08055  \n36780     191.56      235.10  34120.51835  \n\n[36781 rows x 9 columns]"
         },
         "metadata": {},
         "output_type": "display_data"
        }
       ]
      }
     },
     "27fb01ccb6a046238a4f7b5203c95ac6": {
      "model_module": "@jupyter-widgets/output",
      "model_module_version": "1.0.0",
      "model_name": "OutputModel",
      "state": {
       "layout": "IPY_MODEL_b24720adc0f24e8d8b8e4dbe2c94c131",
       "outputs": [
        {
         "data": {
          "text/html": "<div>\n<style scoped>\n    .dataframe tbody tr th:only-of-type {\n        vertical-align: middle;\n    }\n\n    .dataframe tbody tr th {\n        vertical-align: top;\n    }\n\n    .dataframe thead th {\n        text-align: right;\n    }\n</style>\n<table border=\"1\" class=\"dataframe\">\n  <thead>\n    <tr style=\"text-align: right;\">\n      <th></th>\n      <th>width</th>\n      <th>height</th>\n      <th>relative_path</th>\n      <th>type</th>\n      <th>split</th>\n    </tr>\n    <tr>\n      <th>id</th>\n      <th></th>\n      <th></th>\n      <th></th>\n      <th></th>\n      <th></th>\n    </tr>\n  </thead>\n  <tbody>\n    <tr>\n      <th>352582</th>\n      <td>425</td>\n      <td>640</td>\n      <td>Images/valid/000000352582.jpg</td>\n      <td>.jpg</td>\n      <td>valid</td>\n    </tr>\n    <tr>\n      <th>58393</th>\n      <td>640</td>\n      <td>486</td>\n      <td>Images/valid/000000058393.jpg</td>\n      <td>.jpg</td>\n      <td>valid</td>\n    </tr>\n    <tr>\n      <th>310072</th>\n      <td>640</td>\n      <td>383</td>\n      <td>Images/valid/000000310072.jpg</td>\n      <td>.jpg</td>\n      <td>valid</td>\n    </tr>\n    <tr>\n      <th>519208</th>\n      <td>640</td>\n      <td>406</td>\n      <td>Images/valid/000000519208.jpg</td>\n      <td>.jpg</td>\n      <td>valid</td>\n    </tr>\n    <tr>\n      <th>38048</th>\n      <td>299</td>\n      <td>500</td>\n      <td>Images/valid/000000038048.jpg</td>\n      <td>.jpg</td>\n      <td>valid</td>\n    </tr>\n    <tr>\n      <th>...</th>\n      <td>...</td>\n      <td>...</td>\n      <td>...</td>\n      <td>...</td>\n      <td>...</td>\n    </tr>\n    <tr>\n      <th>286708</th>\n      <td>640</td>\n      <td>481</td>\n      <td>Images/valid/000000286708.jpg</td>\n      <td>.jpg</td>\n      <td>valid</td>\n    </tr>\n    <tr>\n      <th>507893</th>\n      <td>427</td>\n      <td>640</td>\n      <td>Images/valid/000000507893.jpg</td>\n      <td>.jpg</td>\n      <td>valid</td>\n    </tr>\n    <tr>\n      <th>524280</th>\n      <td>640</td>\n      <td>640</td>\n      <td>Images/valid/000000524280.jpg</td>\n      <td>.jpg</td>\n      <td>valid</td>\n    </tr>\n    <tr>\n      <th>344059</th>\n      <td>640</td>\n      <td>427</td>\n      <td>Images/valid/000000344059.jpg</td>\n      <td>.jpg</td>\n      <td>valid</td>\n    </tr>\n    <tr>\n      <th>311295</th>\n      <td>640</td>\n      <td>427</td>\n      <td>Images/valid/000000311295.jpg</td>\n      <td>.jpg</td>\n      <td>valid</td>\n    </tr>\n  </tbody>\n</table>\n<p>5000 rows × 5 columns</p>\n</div>",
          "text/plain": "        width  height                  relative_path  type  split\nid                                                               \n352582    425     640  Images/valid/000000352582.jpg  .jpg  valid\n58393     640     486  Images/valid/000000058393.jpg  .jpg  valid\n310072    640     383  Images/valid/000000310072.jpg  .jpg  valid\n519208    640     406  Images/valid/000000519208.jpg  .jpg  valid\n38048     299     500  Images/valid/000000038048.jpg  .jpg  valid\n...       ...     ...                            ...   ...    ...\n286708    640     481  Images/valid/000000286708.jpg  .jpg  valid\n507893    427     640  Images/valid/000000507893.jpg  .jpg  valid\n524280    640     640  Images/valid/000000524280.jpg  .jpg  valid\n344059    640     427  Images/valid/000000344059.jpg  .jpg  valid\n311295    640     427  Images/valid/000000311295.jpg  .jpg  valid\n\n[5000 rows x 5 columns]"
         },
         "metadata": {},
         "output_type": "display_data"
        }
       ]
      }
     },
     "285fb49c96394563a1a30947308ef787": {
      "model_module": "@jupyter-widgets/controls",
      "model_module_version": "2.0.0",
      "model_name": "TabModel",
      "state": {
       "children": [
        "IPY_MODEL_d4a3c75f41264f90a6ad3589e582f618",
        "IPY_MODEL_976a13b001fc4c14b8d5f1ce936a2950",
        "IPY_MODEL_a0f0c5093c8f41ef9ec406b059d3a1ca"
       ],
       "layout": "IPY_MODEL_ca5cf90d157543809b2d73cc8535dc2a",
       "selected_index": 0,
       "titles": [
        "Images",
        "Annotations",
        "Label Map"
       ]
      }
     },
     "2984d46b4b6f45668aafca06ab5bd639": {
      "model_module": "@jupyter-widgets/controls",
      "model_module_version": "2.0.0",
      "model_name": "HTMLModel",
      "state": {
       "layout": "IPY_MODEL_fd96899755ae416ba93e40a6f52d069d",
       "style": "IPY_MODEL_867bb3c5528c4a8cb46413d99d287c03",
       "value": "<p><span style='white-space: pre-wrap; font-weight: bold'>Dataset object containing 1 image and 3 objects\nName :\n\tcoco\nImages root :\n\tnotebook_data</span></p>"
      }
     },
     "2a66014449e14c65adac74c2f5889e69": {
      "model_module": "@jupyter-widgets/base",
      "model_module_version": "2.0.0",
      "model_name": "LayoutModel",
      "state": {}
     },
     "2a791bf4d78f4c49aa450bb808d1d4b5": {
      "model_module": "@jupyter-widgets/base",
      "model_module_version": "2.0.0",
      "model_name": "LayoutModel",
      "state": {}
     },
     "2afb03082ce5455da5102614d6fe5ddb": {
      "model_module": "@jupyter-widgets/base",
      "model_module_version": "2.0.0",
      "model_name": "LayoutModel",
      "state": {}
     },
     "2dc2f8f05d8e42628b68a3fea7a100d4": {
      "model_module": "@jupyter-widgets/controls",
      "model_module_version": "2.0.0",
      "model_name": "TabModel",
      "state": {
       "children": [
        "IPY_MODEL_a9ff964c470040dcb0296533c1fc1549",
        "IPY_MODEL_7fa275d5df164db3aa3f9a553ad8502b",
        "IPY_MODEL_e74072710cb94a5980b1e917c349935b"
       ],
       "layout": "IPY_MODEL_012b4fbf313249f0a09551359a62229b",
       "selected_index": 0,
       "titles": [
        "Images",
        "Annotations",
        "Label Map"
       ]
      }
     },
     "2e25bf2637de4af08efb9739a7ebb958": {
      "model_module": "@jupyter-widgets/controls",
      "model_module_version": "2.0.0",
      "model_name": "VBoxModel",
      "state": {
       "children": [
        "IPY_MODEL_14920287853b4463808e03ee1387d1a7",
        "IPY_MODEL_2dc2f8f05d8e42628b68a3fea7a100d4"
       ],
       "layout": "IPY_MODEL_168ef23aeb3a4211b806b250b7f8a65a"
      }
     },
     "2e38665363164a55b26ecb0fd0749d95": {
      "model_module": "@jupyter-widgets/controls",
      "model_module_version": "2.0.0",
      "model_name": "TabModel",
      "state": {
       "children": [
        "IPY_MODEL_bb4462384b104b4e9366bf2bc44e2481",
        "IPY_MODEL_c88eb912639647eeb382b2315fb3144a",
        "IPY_MODEL_f4b6c2ed9df4470da8287ed4be6c26b5"
       ],
       "layout": "IPY_MODEL_2afb03082ce5455da5102614d6fe5ddb",
       "selected_index": 0,
       "titles": [
        "Images",
        "Annotations",
        "Label Map"
       ]
      }
     },
     "2e6825f75c644e88a01793a485919326": {
      "model_module": "@jupyter-widgets/controls",
      "model_module_version": "2.0.0",
      "model_name": "HTMLStyleModel",
      "state": {
       "description_width": "",
       "font_size": null,
       "text_color": null
      }
     },
     "2e808708e80347828ec3f9afe38ab7ed": {
      "model_module": "@jupyter-widgets/base",
      "model_module_version": "2.0.0",
      "model_name": "LayoutModel",
      "state": {}
     },
     "2f2794c6b07c45c1a6ddafee759a526f": {
      "model_module": "@jupyter-widgets/controls",
      "model_module_version": "2.0.0",
      "model_name": "TabModel",
      "state": {
       "children": [
        "IPY_MODEL_daeaa77f2e9347cc9f7d1387f782ed57",
        "IPY_MODEL_1a5cd5a91c06452787450d9c3bea1c77",
        "IPY_MODEL_8c32105a7b0846368814d96ae9039ddb"
       ],
       "layout": "IPY_MODEL_92d5116bf412467a838dd76d8df73614",
       "selected_index": 0,
       "titles": [
        "Images",
        "Annotations",
        "Label Map"
       ]
      }
     },
     "301bb5947ad745acb8a094b89f6cc57d": {
      "model_module": "@jupyter-widgets/base",
      "model_module_version": "2.0.0",
      "model_name": "LayoutModel",
      "state": {}
     },
     "3051e8bb7d604f078dc79e2a61112cef": {
      "model_module": "@jupyter-widgets/base",
      "model_module_version": "2.0.0",
      "model_name": "LayoutModel",
      "state": {}
     },
     "316625e8ff664a0f812a42015acd1a6b": {
      "model_module": "@jupyter-widgets/output",
      "model_module_version": "1.0.0",
      "model_name": "OutputModel",
      "state": {
       "layout": "IPY_MODEL_41565d002d4f4565b81b985a0fe50a32",
       "outputs": [
        {
         "data": {
          "text/html": "<div>\n<style scoped>\n    .dataframe tbody tr th:only-of-type {\n        vertical-align: middle;\n    }\n\n    .dataframe tbody tr th {\n        vertical-align: top;\n    }\n\n    .dataframe thead th {\n        text-align: right;\n    }\n</style>\n<table border=\"1\" class=\"dataframe\">\n  <thead>\n    <tr style=\"text-align: right;\">\n      <th></th>\n      <th>width</th>\n      <th>height</th>\n      <th>relative_path</th>\n      <th>type</th>\n      <th>split</th>\n    </tr>\n    <tr>\n      <th>id</th>\n      <th></th>\n      <th></th>\n      <th></th>\n      <th></th>\n      <th></th>\n    </tr>\n  </thead>\n  <tbody>\n    <tr>\n      <th>352582</th>\n      <td>425</td>\n      <td>640</td>\n      <td>Images/valid/000000352582.jpg</td>\n      <td>.jpg</td>\n      <td>valid</td>\n    </tr>\n  </tbody>\n</table>\n</div>",
          "text/plain": "        width  height                  relative_path  type  split\nid                                                               \n352582    425     640  Images/valid/000000352582.jpg  .jpg  valid"
         },
         "metadata": {},
         "output_type": "display_data"
        }
       ]
      }
     },
     "3488cb51a933422dbe5951753f695c6f": {
      "model_module": "@jupyter-widgets/base",
      "model_module_version": "2.0.0",
      "model_name": "LayoutModel",
      "state": {}
     },
     "34eb9b2674ae420189320d71c7421a95": {
      "model_module": "@jupyter-widgets/controls",
      "model_module_version": "2.0.0",
      "model_name": "TabModel",
      "state": {
       "children": [
        "IPY_MODEL_4a270344a06e4faa9d86e8f36f8b8956",
        "IPY_MODEL_b980e912c86342cc8d197540ea3b61d2",
        "IPY_MODEL_e2d11117fd6242049b20c972dc998ee5"
       ],
       "layout": "IPY_MODEL_3954c39fdbf94cc38865860f03ec62d8",
       "selected_index": 0,
       "titles": [
        "Images",
        "Annotations",
        "Label Map"
       ]
      }
     },
     "35f84b4b3b814c9f8c65f601f9de52c7": {
      "model_module": "@jupyter-widgets/base",
      "model_module_version": "2.0.0",
      "model_name": "LayoutModel",
      "state": {}
     },
     "3636ee4edac34014ba95ff95469cea5b": {
      "model_module": "@jupyter-widgets/base",
      "model_module_version": "2.0.0",
      "model_name": "LayoutModel",
      "state": {}
     },
     "3824bfa0da4b46e0bb4523494f50280f": {
      "model_module": "@jupyter-widgets/base",
      "model_module_version": "2.0.0",
      "model_name": "LayoutModel",
      "state": {}
     },
     "3835d004868d4b47a29e5d65c48087a5": {
      "model_module": "@jupyter-widgets/controls",
      "model_module_version": "2.0.0",
      "model_name": "HTMLModel",
      "state": {
       "layout": "IPY_MODEL_87a48cdb0ca64a55a39ae698e23cd06f",
       "style": "IPY_MODEL_64418921d8914a6e887078465095cf30",
       "value": "<p><span style='white-space: pre-wrap; font-weight: bold'>Dataset object containing 5,000 images and 16,147 objects\nName :\n\tcoco\nImages root :\n\tnotebook_data</span></p>"
      }
     },
     "393643a9a08e4705afc5d024a8e91484": {
      "model_module": "@jupyter-widgets/base",
      "model_module_version": "2.0.0",
      "model_name": "LayoutModel",
      "state": {}
     },
     "3954c39fdbf94cc38865860f03ec62d8": {
      "model_module": "@jupyter-widgets/base",
      "model_module_version": "2.0.0",
      "model_name": "LayoutModel",
      "state": {}
     },
     "398811d645e74eb2b6878e128266be86": {
      "model_module": "@jupyter-widgets/controls",
      "model_module_version": "2.0.0",
      "model_name": "VBoxModel",
      "state": {
       "children": [
        "IPY_MODEL_3835d004868d4b47a29e5d65c48087a5",
        "IPY_MODEL_58f94001d4c44146a6733268d5185464"
       ],
       "layout": "IPY_MODEL_702944a9ef084dcc9988bdcc77bfcf7e"
      }
     },
     "3a04df0b705943e68db3868587365f3e": {
      "model_module": "@jupyter-widgets/output",
      "model_module_version": "1.0.0",
      "model_name": "OutputModel",
      "state": {
       "layout": "IPY_MODEL_5d4f001c0387412cb6e01ebdf0d15469",
       "outputs": [
        {
         "data": {
          "text/html": "<div>\n<style scoped>\n    .dataframe tbody tr th:only-of-type {\n        vertical-align: middle;\n    }\n\n    .dataframe tbody tr th {\n        vertical-align: top;\n    }\n\n    .dataframe thead th {\n        text-align: right;\n    }\n</style>\n<table border=\"1\" class=\"dataframe\">\n  <thead>\n    <tr style=\"text-align: right;\">\n      <th></th>\n      <th>category string</th>\n    </tr>\n    <tr>\n      <th>category_id</th>\n      <th></th>\n    </tr>\n  </thead>\n  <tbody>\n    <tr>\n      <th>1</th>\n      <td>vehicle</td>\n    </tr>\n    <tr>\n      <th>2</th>\n      <td>person</td>\n    </tr>\n    <tr>\n      <th>3</th>\n      <td>tool</td>\n    </tr>\n    <tr>\n      <th>6</th>\n      <td>abandoned objects</td>\n    </tr>\n    <tr>\n      <th>10</th>\n      <td>car</td>\n    </tr>\n    <tr>\n      <th>11</th>\n      <td>two-wheeler</td>\n    </tr>\n    <tr>\n      <th>12</th>\n      <td>train</td>\n    </tr>\n    <tr>\n      <th>20</th>\n      <td>standing person</td>\n    </tr>\n    <tr>\n      <th>21</th>\n      <td>sitting person</td>\n    </tr>\n    <tr>\n      <th>22</th>\n      <td>laying person</td>\n    </tr>\n    <tr>\n      <th>28</th>\n      <td>packet</td>\n    </tr>\n    <tr>\n      <th>29</th>\n      <td>bag</td>\n    </tr>\n    <tr>\n      <th>30</th>\n      <td>suitcase</td>\n    </tr>\n    <tr>\n      <th>31</th>\n      <td>head</td>\n    </tr>\n    <tr>\n      <th>32</th>\n      <td>light truck</td>\n    </tr>\n    <tr>\n      <th>33</th>\n      <td>heavy truck</td>\n    </tr>\n    <tr>\n      <th>34</th>\n      <td>garbage truck</td>\n    </tr>\n    <tr>\n      <th>36</th>\n      <td>dump truck</td>\n    </tr>\n    <tr>\n      <th>37</th>\n      <td>truck with trailer</td>\n    </tr>\n    <tr>\n      <th>38</th>\n      <td>truck without trailer</td>\n    </tr>\n    <tr>\n      <th>40</th>\n      <td>tank truck</td>\n    </tr>\n    <tr>\n      <th>41</th>\n      <td>dog</td>\n    </tr>\n    <tr>\n      <th>42</th>\n      <td>motorcycle</td>\n    </tr>\n    <tr>\n      <th>43</th>\n      <td>heavy equipment</td>\n    </tr>\n    <tr>\n      <th>44</th>\n      <td>animals</td>\n    </tr>\n    <tr>\n      <th>46</th>\n      <td>personal protection equipment</td>\n    </tr>\n    <tr>\n      <th>47</th>\n      <td>utility vehicle</td>\n    </tr>\n    <tr>\n      <th>48</th>\n      <td>minibus</td>\n    </tr>\n    <tr>\n      <th>49</th>\n      <td>taxi</td>\n    </tr>\n    <tr>\n      <th>50</th>\n      <td>body parts</td>\n    </tr>\n    <tr>\n      <th>51</th>\n      <td>vehicle parts</td>\n    </tr>\n    <tr>\n      <th>52</th>\n      <td>taxi light</td>\n    </tr>\n    <tr>\n      <th>53</th>\n      <td>safety helmet</td>\n    </tr>\n    <tr>\n      <th>54</th>\n      <td>safety vest</td>\n    </tr>\n    <tr>\n      <th>55</th>\n      <td>domestic animals</td>\n    </tr>\n    <tr>\n      <th>100</th>\n      <td>sedan</td>\n    </tr>\n    <tr>\n      <th>101</th>\n      <td>van</td>\n    </tr>\n    <tr>\n      <th>102</th>\n      <td>bus</td>\n    </tr>\n    <tr>\n      <th>103</th>\n      <td>truck</td>\n    </tr>\n    <tr>\n      <th>104</th>\n      <td>special</td>\n    </tr>\n    <tr>\n      <th>111</th>\n      <td>bicycle</td>\n    </tr>\n    <tr>\n      <th>112</th>\n      <td>scooter</td>\n    </tr>\n    <tr>\n      <th>113</th>\n      <td>wheelchair</td>\n    </tr>\n    <tr>\n      <th>210</th>\n      <td>biker</td>\n    </tr>\n    <tr>\n      <th>211</th>\n      <td>cyclist</td>\n    </tr>\n    <tr>\n      <th>212</th>\n      <td>scooter rider</td>\n    </tr>\n    <tr>\n      <th>213</th>\n      <td>tricyclist</td>\n    </tr>\n    <tr>\n      <th>214</th>\n      <td>wheelchair user</td>\n    </tr>\n    <tr>\n      <th>1040</th>\n      <td>police</td>\n    </tr>\n    <tr>\n      <th>1041</th>\n      <td>ambulance</td>\n    </tr>\n    <tr>\n      <th>1042</th>\n      <td>firefighter</td>\n    </tr>\n    <tr>\n      <th>1100</th>\n      <td>motorbike</td>\n    </tr>\n    <tr>\n      <th>1121</th>\n      <td>standing scooter</td>\n    </tr>\n    <tr>\n      <th>4</th>\n      <td>domestical animal</td>\n    </tr>\n  </tbody>\n</table>\n</div>",
          "text/plain": "                           category string\ncategory_id                               \n1                                  vehicle\n2                                   person\n3                                     tool\n6                        abandoned objects\n10                                     car\n11                             two-wheeler\n12                                   train\n20                         standing person\n21                          sitting person\n22                           laying person\n28                                  packet\n29                                     bag\n30                                suitcase\n31                                    head\n32                             light truck\n33                             heavy truck\n34                           garbage truck\n36                              dump truck\n37                      truck with trailer\n38                   truck without trailer\n40                              tank truck\n41                                     dog\n42                              motorcycle\n43                         heavy equipment\n44                                 animals\n46           personal protection equipment\n47                         utility vehicle\n48                                 minibus\n49                                    taxi\n50                              body parts\n51                           vehicle parts\n52                              taxi light\n53                           safety helmet\n54                             safety vest\n55                        domestic animals\n100                                  sedan\n101                                    van\n102                                    bus\n103                                  truck\n104                                special\n111                                bicycle\n112                                scooter\n113                             wheelchair\n210                                  biker\n211                                cyclist\n212                          scooter rider\n213                             tricyclist\n214                        wheelchair user\n1040                                police\n1041                             ambulance\n1042                           firefighter\n1100                             motorbike\n1121                      standing scooter\n4                        domestical animal"
         },
         "metadata": {},
         "output_type": "display_data"
        }
       ]
      }
     },
     "3a2b17664ac140d78520a4c5300ae5f5": {
      "model_module": "@jupyter-widgets/controls",
      "model_module_version": "2.0.0",
      "model_name": "HTMLStyleModel",
      "state": {
       "description_width": "",
       "font_size": null,
       "text_color": null
      }
     },
     "3a5cf62bea6d48008548721eb87a96dd": {
      "model_module": "@jupyter-widgets/output",
      "model_module_version": "1.0.0",
      "model_name": "OutputModel",
      "state": {
       "layout": "IPY_MODEL_83e29b501c044da3b5be5a08ea147d34",
       "outputs": [
        {
         "data": {
          "text/html": "<div>\n<style scoped>\n    .dataframe tbody tr th:only-of-type {\n        vertical-align: middle;\n    }\n\n    .dataframe tbody tr th {\n        vertical-align: top;\n    }\n\n    .dataframe thead th {\n        text-align: right;\n    }\n</style>\n<table border=\"1\" class=\"dataframe\">\n  <thead>\n    <tr style=\"text-align: right;\">\n      <th></th>\n      <th>category string</th>\n    </tr>\n    <tr>\n      <th>category_id</th>\n      <th></th>\n    </tr>\n  </thead>\n  <tbody>\n    <tr>\n      <th>1</th>\n      <td>person</td>\n    </tr>\n    <tr>\n      <th>2</th>\n      <td>bicycle</td>\n    </tr>\n    <tr>\n      <th>3</th>\n      <td>car</td>\n    </tr>\n    <tr>\n      <th>4</th>\n      <td>motorcycle</td>\n    </tr>\n    <tr>\n      <th>5</th>\n      <td>airplane</td>\n    </tr>\n    <tr>\n      <th>...</th>\n      <td>...</td>\n    </tr>\n    <tr>\n      <th>86</th>\n      <td>vase</td>\n    </tr>\n    <tr>\n      <th>87</th>\n      <td>scissors</td>\n    </tr>\n    <tr>\n      <th>88</th>\n      <td>teddy bear</td>\n    </tr>\n    <tr>\n      <th>89</th>\n      <td>hair drier</td>\n    </tr>\n    <tr>\n      <th>90</th>\n      <td>toothbrush</td>\n    </tr>\n  </tbody>\n</table>\n<p>80 rows × 1 columns</p>\n</div>",
          "text/plain": "            category string\ncategory_id                \n1                    person\n2                   bicycle\n3                       car\n4                motorcycle\n5                  airplane\n...                     ...\n86                     vase\n87                 scissors\n88               teddy bear\n89               hair drier\n90               toothbrush\n\n[80 rows x 1 columns]"
         },
         "metadata": {},
         "output_type": "display_data"
        }
       ]
      }
     },
     "3b42f9bab9dd407e8bde63abe3e9128e": {
      "model_module": "@jupyter-widgets/base",
      "model_module_version": "2.0.0",
      "model_name": "LayoutModel",
      "state": {}
     },
     "3ba04c02df0443dc8bf6107f9f7e4a6c": {
      "model_module": "@jupyter-widgets/base",
      "model_module_version": "2.0.0",
      "model_name": "LayoutModel",
      "state": {}
     },
     "3bed826eda09408fb0bf2e04c4e47e36": {
      "model_module": "@jupyter-widgets/base",
      "model_module_version": "2.0.0",
      "model_name": "LayoutModel",
      "state": {}
     },
     "3bef596caff049db9aaeb69ed2efedab": {
      "model_module": "@jupyter-widgets/output",
      "model_module_version": "1.0.0",
      "model_name": "OutputModel",
      "state": {
       "layout": "IPY_MODEL_804aa7ff9b67495599d73b6e14784430",
       "outputs": [
        {
         "data": {
          "text/html": "<div>\n<style scoped>\n    .dataframe tbody tr th:only-of-type {\n        vertical-align: middle;\n    }\n\n    .dataframe tbody tr th {\n        vertical-align: top;\n    }\n\n    .dataframe thead th {\n        text-align: right;\n    }\n</style>\n<table border=\"1\" class=\"dataframe\">\n  <thead>\n    <tr style=\"text-align: right;\">\n      <th></th>\n      <th>image_id</th>\n      <th>category_str</th>\n      <th>category_id</th>\n      <th>split</th>\n      <th>box_x_min</th>\n      <th>box_y_min</th>\n      <th>box_width</th>\n      <th>box_height</th>\n      <th>area</th>\n    </tr>\n    <tr>\n      <th>id</th>\n      <th></th>\n      <th></th>\n      <th></th>\n      <th></th>\n      <th></th>\n      <th></th>\n      <th></th>\n      <th></th>\n      <th></th>\n    </tr>\n  </thead>\n  <tbody>\n    <tr>\n      <th>357584</th>\n      <td>310072</td>\n      <td>vehicle</td>\n      <td>1</td>\n      <td>valid</td>\n      <td>223.85</td>\n      <td>0.00</td>\n      <td>258.83</td>\n      <td>69.08</td>\n      <td>14718.47935</td>\n    </tr>\n    <tr>\n      <th>358258</th>\n      <td>310072</td>\n      <td>vehicle</td>\n      <td>1</td>\n      <td>valid</td>\n      <td>0.00</td>\n      <td>1.94</td>\n      <td>135.99</td>\n      <td>66.27</td>\n      <td>6989.84750</td>\n    </tr>\n    <tr>\n      <th>363154</th>\n      <td>310072</td>\n      <td>vehicle</td>\n      <td>1</td>\n      <td>valid</td>\n      <td>170.89</td>\n      <td>0.00</td>\n      <td>71.06</td>\n      <td>36.96</td>\n      <td>1729.26630</td>\n    </tr>\n    <tr>\n      <th>1337431</th>\n      <td>310072</td>\n      <td>vehicle</td>\n      <td>1</td>\n      <td>valid</td>\n      <td>631.99</td>\n      <td>7.35</td>\n      <td>8.01</td>\n      <td>15.46</td>\n      <td>91.97330</td>\n    </tr>\n    <tr>\n      <th>1368385</th>\n      <td>310072</td>\n      <td>vehicle</td>\n      <td>1</td>\n      <td>valid</td>\n      <td>0.00</td>\n      <td>0.00</td>\n      <td>131.87</td>\n      <td>71.46</td>\n      <td>7558.39585</td>\n    </tr>\n    <tr>\n      <th>...</th>\n      <td>...</td>\n      <td>...</td>\n      <td>...</td>\n      <td>...</td>\n      <td>...</td>\n      <td>...</td>\n      <td>...</td>\n      <td>...</td>\n      <td>...</td>\n    </tr>\n    <tr>\n      <th>10068</th>\n      <td>189806</td>\n      <td>vehicle</td>\n      <td>1</td>\n      <td>valid</td>\n      <td>263.63</td>\n      <td>193.10</td>\n      <td>180.04</td>\n      <td>103.59</td>\n      <td>10866.03335</td>\n    </tr>\n    <tr>\n      <th>46540</th>\n      <td>189806</td>\n      <td>vehicle</td>\n      <td>1</td>\n      <td>valid</td>\n      <td>130.91</td>\n      <td>165.20</td>\n      <td>94.54</td>\n      <td>104.73</td>\n      <td>5204.68295</td>\n    </tr>\n    <tr>\n      <th>344755</th>\n      <td>363188</td>\n      <td>vehicle</td>\n      <td>1</td>\n      <td>valid</td>\n      <td>590.03</td>\n      <td>198.92</td>\n      <td>49.97</td>\n      <td>106.42</td>\n      <td>4084.58345</td>\n    </tr>\n    <tr>\n      <th>1420625</th>\n      <td>363188</td>\n      <td>vehicle</td>\n      <td>1</td>\n      <td>valid</td>\n      <td>221.41</td>\n      <td>199.76</td>\n      <td>91.36</td>\n      <td>63.64</td>\n      <td>865.42470</td>\n    </tr>\n    <tr>\n      <th>1192747</th>\n      <td>105455</td>\n      <td>vehicle</td>\n      <td>1</td>\n      <td>valid</td>\n      <td>333.56</td>\n      <td>517.21</td>\n      <td>17.43</td>\n      <td>14.58</td>\n      <td>182.21680</td>\n    </tr>\n  </tbody>\n</table>\n<p>5143 rows × 9 columns</p>\n</div>",
          "text/plain": "         image_id category_str  category_id  split  box_x_min  box_y_min  \\\nid                                                                         \n357584     310072      vehicle            1  valid     223.85       0.00   \n358258     310072      vehicle            1  valid       0.00       1.94   \n363154     310072      vehicle            1  valid     170.89       0.00   \n1337431    310072      vehicle            1  valid     631.99       7.35   \n1368385    310072      vehicle            1  valid       0.00       0.00   \n...           ...          ...          ...    ...        ...        ...   \n10068      189806      vehicle            1  valid     263.63     193.10   \n46540      189806      vehicle            1  valid     130.91     165.20   \n344755     363188      vehicle            1  valid     590.03     198.92   \n1420625    363188      vehicle            1  valid     221.41     199.76   \n1192747    105455      vehicle            1  valid     333.56     517.21   \n\n         box_width  box_height         area  \nid                                           \n357584      258.83       69.08  14718.47935  \n358258      135.99       66.27   6989.84750  \n363154       71.06       36.96   1729.26630  \n1337431       8.01       15.46     91.97330  \n1368385     131.87       71.46   7558.39585  \n...            ...         ...          ...  \n10068       180.04      103.59  10866.03335  \n46540        94.54      104.73   5204.68295  \n344755       49.97      106.42   4084.58345  \n1420625      91.36       63.64    865.42470  \n1192747      17.43       14.58    182.21680  \n\n[5143 rows x 9 columns]"
         },
         "metadata": {},
         "output_type": "display_data"
        }
       ]
      }
     },
     "3d766ee091c34dcea2fd04524e345a2b": {
      "model_module": "@jupyter-widgets/base",
      "model_module_version": "2.0.0",
      "model_name": "LayoutModel",
      "state": {}
     },
     "3edb6f03127e41a7bf1ee7a1104e7f19": {
      "model_module": "@jupyter-widgets/controls",
      "model_module_version": "2.0.0",
      "model_name": "HTMLStyleModel",
      "state": {
       "description_width": "",
       "font_size": null,
       "text_color": null
      }
     },
     "3f0c3be359c24aa1b99018d38ebfd8f3": {
      "model_module": "@jupyter-widgets/controls",
      "model_module_version": "2.0.0",
      "model_name": "HTMLStyleModel",
      "state": {
       "description_width": "",
       "font_size": null,
       "text_color": null
      }
     },
     "3f1ac25d4b364b9ebea791c29d10fa9f": {
      "model_module": "@jupyter-widgets/output",
      "model_module_version": "1.0.0",
      "model_name": "OutputModel",
      "state": {
       "layout": "IPY_MODEL_dda17401931441fbb6a1eba601641cf4",
       "outputs": [
        {
         "data": {
          "text/html": "<div>\n<style scoped>\n    .dataframe tbody tr th:only-of-type {\n        vertical-align: middle;\n    }\n\n    .dataframe tbody tr th {\n        vertical-align: top;\n    }\n\n    .dataframe thead th {\n        text-align: right;\n    }\n</style>\n<table border=\"1\" class=\"dataframe\">\n  <thead>\n    <tr style=\"text-align: right;\">\n      <th></th>\n      <th>category string</th>\n    </tr>\n    <tr>\n      <th>category_id</th>\n      <th></th>\n    </tr>\n  </thead>\n  <tbody>\n    <tr>\n      <th>1</th>\n      <td>person</td>\n    </tr>\n    <tr>\n      <th>2</th>\n      <td>bicycle</td>\n    </tr>\n    <tr>\n      <th>3</th>\n      <td>car</td>\n    </tr>\n    <tr>\n      <th>4</th>\n      <td>motorcycle</td>\n    </tr>\n    <tr>\n      <th>5</th>\n      <td>airplane</td>\n    </tr>\n    <tr>\n      <th>...</th>\n      <td>...</td>\n    </tr>\n    <tr>\n      <th>86</th>\n      <td>vase</td>\n    </tr>\n    <tr>\n      <th>87</th>\n      <td>scissors</td>\n    </tr>\n    <tr>\n      <th>88</th>\n      <td>teddy bear</td>\n    </tr>\n    <tr>\n      <th>89</th>\n      <td>hair drier</td>\n    </tr>\n    <tr>\n      <th>90</th>\n      <td>toothbrush</td>\n    </tr>\n  </tbody>\n</table>\n<p>80 rows × 1 columns</p>\n</div>",
          "text/plain": "            category string\ncategory_id                \n1                    person\n2                   bicycle\n3                       car\n4                motorcycle\n5                  airplane\n...                     ...\n86                     vase\n87                 scissors\n88               teddy bear\n89               hair drier\n90               toothbrush\n\n[80 rows x 1 columns]"
         },
         "metadata": {},
         "output_type": "display_data"
        }
       ]
      }
     },
     "41565d002d4f4565b81b985a0fe50a32": {
      "model_module": "@jupyter-widgets/base",
      "model_module_version": "2.0.0",
      "model_name": "LayoutModel",
      "state": {}
     },
     "4158d35d56e14215b55f2422f226c30e": {
      "model_module": "@jupyter-widgets/base",
      "model_module_version": "2.0.0",
      "model_name": "LayoutModel",
      "state": {}
     },
     "43e6dc6680604f52951eeee42e046a9e": {
      "model_module": "@jupyter-widgets/output",
      "model_module_version": "1.0.0",
      "model_name": "OutputModel",
      "state": {
       "layout": "IPY_MODEL_047b32fb1e614c00abbe28673f63a501",
       "outputs": [
        {
         "data": {
          "text/html": "<div>\n<style scoped>\n    .dataframe tbody tr th:only-of-type {\n        vertical-align: middle;\n    }\n\n    .dataframe tbody tr th {\n        vertical-align: top;\n    }\n\n    .dataframe thead th {\n        text-align: right;\n    }\n</style>\n<table border=\"1\" class=\"dataframe\">\n  <thead>\n    <tr style=\"text-align: right;\">\n      <th></th>\n      <th>width</th>\n      <th>height</th>\n      <th>relative_path</th>\n      <th>type</th>\n      <th>split</th>\n    </tr>\n    <tr>\n      <th>id</th>\n      <th></th>\n      <th></th>\n      <th></th>\n      <th></th>\n      <th></th>\n    </tr>\n  </thead>\n  <tbody>\n    <tr>\n      <th>6493</th>\n      <td>1920</td>\n      <td>1080</td>\n      <td>Images/NORM0020_frame0282.jpg</td>\n      <td>.jpg</td>\n      <td>Paris</td>\n    </tr>\n    <tr>\n      <th>5890</th>\n      <td>1920</td>\n      <td>1080</td>\n      <td>Images/NORM0018_frame0928.jpg</td>\n      <td>.jpg</td>\n      <td>Paris</td>\n    </tr>\n    <tr>\n      <th>2247</th>\n      <td>1920</td>\n      <td>1080</td>\n      <td>Images/NORM0015_frame183.jpg</td>\n      <td>.jpg</td>\n      <td>Paris</td>\n    </tr>\n    <tr>\n      <th>2189</th>\n      <td>1920</td>\n      <td>1080</td>\n      <td>Images/NORM0015_frame123.jpg</td>\n      <td>.jpg</td>\n      <td>Paris</td>\n    </tr>\n    <tr>\n      <th>5745</th>\n      <td>1920</td>\n      <td>1080</td>\n      <td>Images/NORM0018_frame0763.jpg</td>\n      <td>.jpg</td>\n      <td>Paris</td>\n    </tr>\n    <tr>\n      <th>...</th>\n      <td>...</td>\n      <td>...</td>\n      <td>...</td>\n      <td>...</td>\n      <td>...</td>\n    </tr>\n    <tr>\n      <th>98287</th>\n      <td>415</td>\n      <td>640</td>\n      <td>Images/valid/000000098287.jpg</td>\n      <td>.jpg</td>\n      <td>valid</td>\n    </tr>\n    <tr>\n      <th>507893</th>\n      <td>427</td>\n      <td>640</td>\n      <td>Images/valid/000000507893.jpg</td>\n      <td>.jpg</td>\n      <td>valid</td>\n    </tr>\n    <tr>\n      <th>524280</th>\n      <td>640</td>\n      <td>640</td>\n      <td>Images/valid/000000524280.jpg</td>\n      <td>.jpg</td>\n      <td>valid</td>\n    </tr>\n    <tr>\n      <th>344059</th>\n      <td>640</td>\n      <td>427</td>\n      <td>Images/valid/000000344059.jpg</td>\n      <td>.jpg</td>\n      <td>valid</td>\n    </tr>\n    <tr>\n      <th>311295</th>\n      <td>640</td>\n      <td>427</td>\n      <td>Images/valid/000000311295.jpg</td>\n      <td>.jpg</td>\n      <td>valid</td>\n    </tr>\n  </tbody>\n</table>\n<p>5076 rows × 5 columns</p>\n</div>",
          "text/plain": "        width  height                  relative_path  type  split\nid                                                               \n6493     1920    1080  Images/NORM0020_frame0282.jpg  .jpg  Paris\n5890     1920    1080  Images/NORM0018_frame0928.jpg  .jpg  Paris\n2247     1920    1080   Images/NORM0015_frame183.jpg  .jpg  Paris\n2189     1920    1080   Images/NORM0015_frame123.jpg  .jpg  Paris\n5745     1920    1080  Images/NORM0018_frame0763.jpg  .jpg  Paris\n...       ...     ...                            ...   ...    ...\n98287     415     640  Images/valid/000000098287.jpg  .jpg  valid\n507893    427     640  Images/valid/000000507893.jpg  .jpg  valid\n524280    640     640  Images/valid/000000524280.jpg  .jpg  valid\n344059    640     427  Images/valid/000000344059.jpg  .jpg  valid\n311295    640     427  Images/valid/000000311295.jpg  .jpg  valid\n\n[5076 rows x 5 columns]"
         },
         "metadata": {},
         "output_type": "display_data"
        }
       ]
      }
     },
     "43ef1fcd80f94bb99be75f2dec29a56b": {
      "model_module": "@jupyter-widgets/base",
      "model_module_version": "2.0.0",
      "model_name": "LayoutModel",
      "state": {}
     },
     "447412cd9b0947179642eaea08e1877d": {
      "model_module": "@jupyter-widgets/controls",
      "model_module_version": "2.0.0",
      "model_name": "VBoxModel",
      "state": {
       "children": [
        "IPY_MODEL_e1666ba9e67d45b38ea7819535b4f572",
        "IPY_MODEL_cdb2244ab6324797b2d8130dd7866839"
       ],
       "layout": "IPY_MODEL_e48adcf89c284bb28ad16c35c5e4ee35"
      }
     },
     "44d3c3fb8de24a27b5fd44fb2ec9d271": {
      "model_module": "@jupyter-widgets/controls",
      "model_module_version": "2.0.0",
      "model_name": "TabModel",
      "state": {
       "children": [
        "IPY_MODEL_6aeeaf8046744074b0cafe49d4ef7fbe",
        "IPY_MODEL_9e5d5573a9094a1cb9d624e4d3fb5a75",
        "IPY_MODEL_0a55d68ac86d4c9c8286dbee7b1b0bfd"
       ],
       "layout": "IPY_MODEL_fbda8167b66041dbbe24a73e25266251",
       "selected_index": 0,
       "titles": [
        "Images",
        "Annotations",
        "Label Map"
       ]
      }
     },
     "4540d399ec7f46fcb7a177b9a00f9434": {
      "model_module": "@jupyter-widgets/base",
      "model_module_version": "2.0.0",
      "model_name": "LayoutModel",
      "state": {}
     },
     "4576ccff891c4058b055cee50877ea63": {
      "model_module": "@jupyter-widgets/base",
      "model_module_version": "2.0.0",
      "model_name": "LayoutModel",
      "state": {}
     },
     "45971d712c1c4124958d079879aedb19": {
      "model_module": "@jupyter-widgets/controls",
      "model_module_version": "2.0.0",
      "model_name": "HTMLStyleModel",
      "state": {
       "description_width": "",
       "font_size": null,
       "text_color": null
      }
     },
     "45ec8003721e4cf1b4a58d20528ef42e": {
      "model_module": "@jupyter-widgets/output",
      "model_module_version": "1.0.0",
      "model_name": "OutputModel",
      "state": {
       "layout": "IPY_MODEL_dbcd7f1499f840b3acd3d02b57937b0d",
       "outputs": [
        {
         "data": {
          "text/html": "<div>\n<style scoped>\n    .dataframe tbody tr th:only-of-type {\n        vertical-align: middle;\n    }\n\n    .dataframe tbody tr th {\n        vertical-align: top;\n    }\n\n    .dataframe thead th {\n        text-align: right;\n    }\n</style>\n<table border=\"1\" class=\"dataframe\">\n  <thead>\n    <tr style=\"text-align: right;\">\n      <th></th>\n      <th>image_id</th>\n      <th>category_str</th>\n      <th>category_id</th>\n      <th>split</th>\n      <th>box_x_min</th>\n      <th>box_y_min</th>\n      <th>box_width</th>\n      <th>box_height</th>\n      <th>area</th>\n    </tr>\n    <tr>\n      <th>id</th>\n      <th></th>\n      <th></th>\n      <th></th>\n      <th></th>\n      <th></th>\n      <th></th>\n      <th></th>\n      <th></th>\n      <th></th>\n    </tr>\n  </thead>\n  <tbody>\n    <tr>\n      <th>460450</th>\n      <td>352582</td>\n      <td>person</td>\n      <td>1</td>\n      <td>valid</td>\n      <td>112.43</td>\n      <td>195.32</td>\n      <td>214.78</td>\n      <td>438.19</td>\n      <td>48685.67910</td>\n    </tr>\n    <tr>\n      <th>535917</th>\n      <td>352582</td>\n      <td>person</td>\n      <td>1</td>\n      <td>valid</td>\n      <td>0.00</td>\n      <td>256.00</td>\n      <td>80.54</td>\n      <td>376.81</td>\n      <td>22650.73800</td>\n    </tr>\n    <tr>\n      <th>602093</th>\n      <td>352582</td>\n      <td>frisbee</td>\n      <td>34</td>\n      <td>valid</td>\n      <td>171.63</td>\n      <td>424.03</td>\n      <td>85.89</td>\n      <td>40.67</td>\n      <td>2605.72090</td>\n    </tr>\n    <tr>\n      <th>467905</th>\n      <td>58393</td>\n      <td>person</td>\n      <td>1</td>\n      <td>valid</td>\n      <td>342.52</td>\n      <td>163.33</td>\n      <td>192.24</td>\n      <td>77.47</td>\n      <td>5408.64720</td>\n    </tr>\n    <tr>\n      <th>576900</th>\n      <td>58393</td>\n      <td>bench</td>\n      <td>15</td>\n      <td>valid</td>\n      <td>44.78</td>\n      <td>242.27</td>\n      <td>547.16</td>\n      <td>224.98</td>\n      <td>82291.54995</td>\n    </tr>\n    <tr>\n      <th>...</th>\n      <td>...</td>\n      <td>...</td>\n      <td>...</td>\n      <td>...</td>\n      <td>...</td>\n      <td>...</td>\n      <td>...</td>\n      <td>...</td>\n      <td>...</td>\n    </tr>\n    <tr>\n      <th>109094</th>\n      <td>428280</td>\n      <td>chair</td>\n      <td>62</td>\n      <td>valid</td>\n      <td>187.71</td>\n      <td>114.80</td>\n      <td>44.07</td>\n      <td>66.41</td>\n      <td>2069.93800</td>\n    </tr>\n    <tr>\n      <th>578099</th>\n      <td>428280</td>\n      <td>bench</td>\n      <td>15</td>\n      <td>valid</td>\n      <td>0.75</td>\n      <td>184.42</td>\n      <td>181.43</td>\n      <td>132.90</td>\n      <td>13841.81490</td>\n    </tr>\n    <tr>\n      <th>1101888</th>\n      <td>428280</td>\n      <td>laptop</td>\n      <td>73</td>\n      <td>valid</td>\n      <td>118.71</td>\n      <td>138.34</td>\n      <td>44.79</td>\n      <td>35.83</td>\n      <td>1405.98065</td>\n    </tr>\n    <tr>\n      <th>1117514</th>\n      <td>428280</td>\n      <td>keyboard</td>\n      <td>76</td>\n      <td>valid</td>\n      <td>121.04</td>\n      <td>165.65</td>\n      <td>40.27</td>\n      <td>6.02</td>\n      <td>217.08440</td>\n    </tr>\n    <tr>\n      <th>2190513</th>\n      <td>428280</td>\n      <td>chair</td>\n      <td>62</td>\n      <td>valid</td>\n      <td>203.58</td>\n      <td>179.65</td>\n      <td>105.27</td>\n      <td>139.55</td>\n      <td>7696.12525</td>\n    </tr>\n  </tbody>\n</table>\n<p>18670 rows × 9 columns</p>\n</div>",
          "text/plain": "         image_id category_str  category_id  split  box_x_min  box_y_min  \\\nid                                                                         \n460450     352582       person            1  valid     112.43     195.32   \n535917     352582       person            1  valid       0.00     256.00   \n602093     352582      frisbee           34  valid     171.63     424.03   \n467905      58393       person            1  valid     342.52     163.33   \n576900      58393        bench           15  valid      44.78     242.27   \n...           ...          ...          ...    ...        ...        ...   \n109094     428280        chair           62  valid     187.71     114.80   \n578099     428280        bench           15  valid       0.75     184.42   \n1101888    428280       laptop           73  valid     118.71     138.34   \n1117514    428280     keyboard           76  valid     121.04     165.65   \n2190513    428280        chair           62  valid     203.58     179.65   \n\n         box_width  box_height         area  \nid                                           \n460450      214.78      438.19  48685.67910  \n535917       80.54      376.81  22650.73800  \n602093       85.89       40.67   2605.72090  \n467905      192.24       77.47   5408.64720  \n576900      547.16      224.98  82291.54995  \n...            ...         ...          ...  \n109094       44.07       66.41   2069.93800  \n578099      181.43      132.90  13841.81490  \n1101888      44.79       35.83   1405.98065  \n1117514      40.27        6.02    217.08440  \n2190513     105.27      139.55   7696.12525  \n\n[18670 rows x 9 columns]"
         },
         "metadata": {},
         "output_type": "display_data"
        }
       ]
      }
     },
     "463be15ce5f2423f85904578b484bfb1": {
      "model_module": "@jupyter-widgets/base",
      "model_module_version": "2.0.0",
      "model_name": "LayoutModel",
      "state": {}
     },
     "4690c73043464e7ba090c642268abcce": {
      "model_module": "@jupyter-widgets/output",
      "model_module_version": "1.0.0",
      "model_name": "OutputModel",
      "state": {
       "layout": "IPY_MODEL_46edbcf57d4a4e9b874f7aff37ab1482",
       "outputs": [
        {
         "data": {
          "text/html": "<div>\n<style scoped>\n    .dataframe tbody tr th:only-of-type {\n        vertical-align: middle;\n    }\n\n    .dataframe tbody tr th {\n        vertical-align: top;\n    }\n\n    .dataframe thead th {\n        text-align: right;\n    }\n</style>\n<table border=\"1\" class=\"dataframe\">\n  <thead>\n    <tr style=\"text-align: right;\">\n      <th></th>\n      <th>category string</th>\n    </tr>\n    <tr>\n      <th>category_id</th>\n      <th></th>\n    </tr>\n  </thead>\n  <tbody>\n    <tr>\n      <th>1</th>\n      <td>vehicle</td>\n    </tr>\n    <tr>\n      <th>3</th>\n      <td>animal</td>\n    </tr>\n    <tr>\n      <th>2</th>\n      <td>bag</td>\n    </tr>\n  </tbody>\n</table>\n</div>",
          "text/plain": "            category string\ncategory_id                \n1                   vehicle\n3                    animal\n2                       bag"
         },
         "metadata": {},
         "output_type": "display_data"
        }
       ]
      }
     },
     "46bdf0a0e4274de496ea0d49c9131198": {
      "model_module": "@jupyter-widgets/controls",
      "model_module_version": "2.0.0",
      "model_name": "HTMLModel",
      "state": {
       "layout": "IPY_MODEL_9d2fbc38a7c741a2a614b451744d80cb",
       "style": "IPY_MODEL_2e6825f75c644e88a01793a485919326",
       "value": "<p><span style='white-space: pre-wrap; font-weight: bold'>Dataset object containing 5,000 images and 5,143 objects\nName :\n\tcoco\nImages root :\n\tnotebook_data</span></p>"
      }
     },
     "46edbcf57d4a4e9b874f7aff37ab1482": {
      "model_module": "@jupyter-widgets/base",
      "model_module_version": "2.0.0",
      "model_name": "LayoutModel",
      "state": {}
     },
     "484a683f058b4f2a83759a3a75551b9f": {
      "model_module": "@jupyter-widgets/output",
      "model_module_version": "1.0.0",
      "model_name": "OutputModel",
      "state": {
       "layout": "IPY_MODEL_b8e095a727784910a052e99351504d70",
       "outputs": [
        {
         "data": {
          "text/html": "<div>\n<style scoped>\n    .dataframe tbody tr th:only-of-type {\n        vertical-align: middle;\n    }\n\n    .dataframe tbody tr th {\n        vertical-align: top;\n    }\n\n    .dataframe thead th {\n        text-align: right;\n    }\n</style>\n<table border=\"1\" class=\"dataframe\">\n  <thead>\n    <tr style=\"text-align: right;\">\n      <th></th>\n      <th>image_id</th>\n      <th>category_str</th>\n      <th>category_id</th>\n      <th>split</th>\n      <th>box_x_min</th>\n      <th>box_y_min</th>\n      <th>box_width</th>\n      <th>box_height</th>\n      <th>area</th>\n      <th>confidence</th>\n    </tr>\n    <tr>\n      <th>id</th>\n      <th></th>\n      <th></th>\n      <th></th>\n      <th></th>\n      <th></th>\n      <th></th>\n      <th></th>\n      <th></th>\n      <th></th>\n      <th></th>\n    </tr>\n  </thead>\n  <tbody>\n    <tr>\n      <th>0</th>\n      <td>352582</td>\n      <td>suitcase</td>\n      <td>60</td>\n      <td>valid</td>\n      <td>212.5</td>\n      <td>320.0</td>\n      <td>212.5</td>\n      <td>320.0</td>\n      <td>68000.0</td>\n      <td>0.5</td>\n    </tr>\n    <tr>\n      <th>1</th>\n      <td>113354</td>\n      <td>bag</td>\n      <td>61</td>\n      <td>valid</td>\n      <td>0.0</td>\n      <td>0.0</td>\n      <td>320.0</td>\n      <td>240.0</td>\n      <td>76800.0</td>\n      <td>0.5</td>\n    </tr>\n  </tbody>\n</table>\n</div>",
          "text/plain": "    image_id category_str  category_id  split  box_x_min  box_y_min  \\\nid                                                                    \n0     352582     suitcase           60  valid      212.5      320.0   \n1     113354          bag           61  valid        0.0        0.0   \n\n    box_width  box_height     area  confidence  \nid                                              \n0       212.5       320.0  68000.0         0.5  \n1       320.0       240.0  76800.0         0.5  "
         },
         "metadata": {},
         "output_type": "display_data"
        }
       ]
      }
     },
     "4887dda2b4d747b99b53512b1b0d8269": {
      "model_module": "@jupyter-widgets/base",
      "model_module_version": "2.0.0",
      "model_name": "LayoutModel",
      "state": {}
     },
     "4939eadc268842cfba551558ca478ef8": {
      "model_module": "@jupyter-widgets/base",
      "model_module_version": "2.0.0",
      "model_name": "LayoutModel",
      "state": {}
     },
     "4a270344a06e4faa9d86e8f36f8b8956": {
      "model_module": "@jupyter-widgets/output",
      "model_module_version": "1.0.0",
      "model_name": "OutputModel",
      "state": {
       "layout": "IPY_MODEL_df472973aa4c44fea3741d7fe7a7f497",
       "outputs": [
        {
         "data": {
          "text/html": "<div>\n<style scoped>\n    .dataframe tbody tr th:only-of-type {\n        vertical-align: middle;\n    }\n\n    .dataframe tbody tr th {\n        vertical-align: top;\n    }\n\n    .dataframe thead th {\n        text-align: right;\n    }\n</style>\n<table border=\"1\" class=\"dataframe\">\n  <thead>\n    <tr style=\"text-align: right;\">\n      <th></th>\n      <th>width</th>\n      <th>height</th>\n      <th>relative_path</th>\n      <th>type</th>\n      <th>split</th>\n    </tr>\n    <tr>\n      <th>id</th>\n      <th></th>\n      <th></th>\n      <th></th>\n      <th></th>\n      <th></th>\n    </tr>\n  </thead>\n  <tbody>\n    <tr>\n      <th>352582</th>\n      <td>425</td>\n      <td>640</td>\n      <td>Images/valid/000000352582.jpg</td>\n      <td>.jpg</td>\n      <td>valid</td>\n    </tr>\n    <tr>\n      <th>113354</th>\n      <td>640</td>\n      <td>480</td>\n      <td>Images/valid/000000113354.jpg</td>\n      <td>.jpg</td>\n      <td>valid</td>\n    </tr>\n    <tr>\n      <th>58393</th>\n      <td>640</td>\n      <td>486</td>\n      <td>Images/valid/000000058393.jpg</td>\n      <td>.jpg</td>\n      <td>valid</td>\n    </tr>\n    <tr>\n      <th>147729</th>\n      <td>500</td>\n      <td>375</td>\n      <td>Images/valid/000000147729.jpg</td>\n      <td>.jpg</td>\n      <td>valid</td>\n    </tr>\n    <tr>\n      <th>310072</th>\n      <td>640</td>\n      <td>383</td>\n      <td>Images/valid/000000310072.jpg</td>\n      <td>.jpg</td>\n      <td>valid</td>\n    </tr>\n    <tr>\n      <th>...</th>\n      <td>...</td>\n      <td>...</td>\n      <td>...</td>\n      <td>...</td>\n      <td>...</td>\n    </tr>\n    <tr>\n      <th>311180</th>\n      <td>480</td>\n      <td>640</td>\n      <td>Images/valid/000000311180.jpg</td>\n      <td>.jpg</td>\n      <td>valid</td>\n    </tr>\n    <tr>\n      <th>302030</th>\n      <td>640</td>\n      <td>359</td>\n      <td>Images/valid/000000302030.jpg</td>\n      <td>.jpg</td>\n      <td>valid</td>\n    </tr>\n    <tr>\n      <th>105455</th>\n      <td>427</td>\n      <td>640</td>\n      <td>Images/valid/000000105455.jpg</td>\n      <td>.jpg</td>\n      <td>valid</td>\n    </tr>\n    <tr>\n      <th>428280</th>\n      <td>500</td>\n      <td>333</td>\n      <td>Images/valid/000000428280.jpg</td>\n      <td>.jpg</td>\n      <td>valid</td>\n    </tr>\n    <tr>\n      <th>349837</th>\n      <td>500</td>\n      <td>333</td>\n      <td>Images/valid/000000349837.jpg</td>\n      <td>.jpg</td>\n      <td>valid</td>\n    </tr>\n  </tbody>\n</table>\n<p>5000 rows × 5 columns</p>\n</div>",
          "text/plain": "        width  height                  relative_path  type  split\nid                                                               \n352582    425     640  Images/valid/000000352582.jpg  .jpg  valid\n113354    640     480  Images/valid/000000113354.jpg  .jpg  valid\n58393     640     486  Images/valid/000000058393.jpg  .jpg  valid\n147729    500     375  Images/valid/000000147729.jpg  .jpg  valid\n310072    640     383  Images/valid/000000310072.jpg  .jpg  valid\n...       ...     ...                            ...   ...    ...\n311180    480     640  Images/valid/000000311180.jpg  .jpg  valid\n302030    640     359  Images/valid/000000302030.jpg  .jpg  valid\n105455    427     640  Images/valid/000000105455.jpg  .jpg  valid\n428280    500     333  Images/valid/000000428280.jpg  .jpg  valid\n349837    500     333  Images/valid/000000349837.jpg  .jpg  valid\n\n[5000 rows x 5 columns]"
         },
         "metadata": {},
         "output_type": "display_data"
        }
       ]
      }
     },
     "4a40453dda51443aa1c46c0544921913": {
      "model_module": "@jupyter-widgets/controls",
      "model_module_version": "2.0.0",
      "model_name": "TabModel",
      "state": {
       "children": [
        "IPY_MODEL_316625e8ff664a0f812a42015acd1a6b",
        "IPY_MODEL_ed07319a399f4efeaae1d78094d4cfae",
        "IPY_MODEL_159bb66846164353a2cb754c5533539c"
       ],
       "layout": "IPY_MODEL_dfc2ca586a0848a58b017be7170c7d7a",
       "selected_index": 0,
       "titles": [
        "Images",
        "Annotations",
        "Label Map"
       ]
      }
     },
     "4b4f61a08ab14e84a569e86bf313fff6": {
      "model_module": "@jupyter-widgets/base",
      "model_module_version": "2.0.0",
      "model_name": "LayoutModel",
      "state": {}
     },
     "4bc50cc941d54fe4ba2cc6b011100d54": {
      "model_module": "@jupyter-widgets/output",
      "model_module_version": "1.0.0",
      "model_name": "OutputModel",
      "state": {
       "layout": "IPY_MODEL_2a66014449e14c65adac74c2f5889e69",
       "outputs": [
        {
         "data": {
          "text/html": "<div>\n<style scoped>\n    .dataframe tbody tr th:only-of-type {\n        vertical-align: middle;\n    }\n\n    .dataframe tbody tr th {\n        vertical-align: top;\n    }\n\n    .dataframe thead th {\n        text-align: right;\n    }\n</style>\n<table border=\"1\" class=\"dataframe\">\n  <thead>\n    <tr style=\"text-align: right;\">\n      <th></th>\n      <th>width</th>\n      <th>height</th>\n      <th>relative_path</th>\n      <th>type</th>\n      <th>split</th>\n    </tr>\n    <tr>\n      <th>id</th>\n      <th></th>\n      <th></th>\n      <th></th>\n      <th></th>\n      <th></th>\n    </tr>\n  </thead>\n  <tbody>\n    <tr>\n      <th>352582</th>\n      <td>425</td>\n      <td>640</td>\n      <td>Images/valid/000000352582.jpg</td>\n      <td>.jpg</td>\n      <td>valid</td>\n    </tr>\n    <tr>\n      <th>113354</th>\n      <td>640</td>\n      <td>480</td>\n      <td>Images/valid/000000113354.jpg</td>\n      <td>.jpg</td>\n      <td>valid</td>\n    </tr>\n  </tbody>\n</table>\n</div>",
          "text/plain": "        width  height                  relative_path  type  split\nid                                                               \n352582    425     640  Images/valid/000000352582.jpg  .jpg  valid\n113354    640     480  Images/valid/000000113354.jpg  .jpg  valid"
         },
         "metadata": {},
         "output_type": "display_data"
        }
       ]
      }
     },
     "4d401b4c71724b63b1789803f9ea6065": {
      "model_module": "@jupyter-widgets/base",
      "model_module_version": "2.0.0",
      "model_name": "LayoutModel",
      "state": {}
     },
     "4ee5ed5311bd4f009788a22e991dceb3": {
      "model_module": "@jupyter-widgets/controls",
      "model_module_version": "2.0.0",
      "model_name": "VBoxModel",
      "state": {
       "children": [
        "IPY_MODEL_6d3e5311d9634394ac2797808999ed71",
        "IPY_MODEL_bc91ae56ebad45d3a817b074743e94ab"
       ],
       "layout": "IPY_MODEL_43ef1fcd80f94bb99be75f2dec29a56b"
      }
     },
     "4fcd449afaed43ef8a17d179816c5007": {
      "model_module": "@jupyter-widgets/base",
      "model_module_version": "2.0.0",
      "model_name": "LayoutModel",
      "state": {}
     },
     "502ed02a10684ca3824cfb4c98159fd2": {
      "model_module": "@jupyter-widgets/output",
      "model_module_version": "1.0.0",
      "model_name": "OutputModel",
      "state": {
       "layout": "IPY_MODEL_91db72919c7f449e93e2aea90950134e",
       "outputs": [
        {
         "data": {
          "text/html": "<div>\n<style scoped>\n    .dataframe tbody tr th:only-of-type {\n        vertical-align: middle;\n    }\n\n    .dataframe tbody tr th {\n        vertical-align: top;\n    }\n\n    .dataframe thead th {\n        text-align: right;\n    }\n</style>\n<table border=\"1\" class=\"dataframe\">\n  <thead>\n    <tr style=\"text-align: right;\">\n      <th></th>\n      <th>image_id</th>\n      <th>category_str</th>\n      <th>category_id</th>\n      <th>split</th>\n      <th>box_x_min</th>\n      <th>box_y_min</th>\n      <th>box_width</th>\n      <th>box_height</th>\n      <th>area</th>\n      <th>object_id</th>\n    </tr>\n    <tr>\n      <th>id</th>\n      <th></th>\n      <th></th>\n      <th></th>\n      <th></th>\n      <th></th>\n      <th></th>\n      <th></th>\n      <th></th>\n      <th></th>\n      <th></th>\n    </tr>\n  </thead>\n  <tbody>\n    <tr>\n      <th>319049</th>\n      <td>6493</td>\n      <td>sedan</td>\n      <td>100</td>\n      <td>Paris</td>\n      <td>0.00</td>\n      <td>632.00</td>\n      <td>210.00</td>\n      <td>159.00</td>\n      <td>33390.00000</td>\n      <td>55689.0</td>\n    </tr>\n    <tr>\n      <th>319050</th>\n      <td>6493</td>\n      <td>motorbike</td>\n      <td>1100</td>\n      <td>Paris</td>\n      <td>203.00</td>\n      <td>611.00</td>\n      <td>86.00</td>\n      <td>86.00</td>\n      <td>7396.00000</td>\n      <td>30178.0</td>\n    </tr>\n    <tr>\n      <th>319051</th>\n      <td>6493</td>\n      <td>motorbike</td>\n      <td>1100</td>\n      <td>Paris</td>\n      <td>272.00</td>\n      <td>589.00</td>\n      <td>77.00</td>\n      <td>83.00</td>\n      <td>6391.00000</td>\n      <td>48923.0</td>\n    </tr>\n    <tr>\n      <th>319052</th>\n      <td>6493</td>\n      <td>motorbike</td>\n      <td>1100</td>\n      <td>Paris</td>\n      <td>341.00</td>\n      <td>559.00</td>\n      <td>69.00</td>\n      <td>91.00</td>\n      <td>6279.00000</td>\n      <td>8678.0</td>\n    </tr>\n    <tr>\n      <th>319053</th>\n      <td>6493</td>\n      <td>standing person</td>\n      <td>20</td>\n      <td>Paris</td>\n      <td>517.00</td>\n      <td>527.00</td>\n      <td>38.00</td>\n      <td>82.00</td>\n      <td>3116.00000</td>\n      <td>560.0</td>\n    </tr>\n    <tr>\n      <th>...</th>\n      <td>...</td>\n      <td>...</td>\n      <td>...</td>\n      <td>...</td>\n      <td>...</td>\n      <td>...</td>\n      <td>...</td>\n      <td>...</td>\n      <td>...</td>\n      <td>...</td>\n    </tr>\n    <tr>\n      <th>1760513</th>\n      <td>363188</td>\n      <td>bag</td>\n      <td>29</td>\n      <td>valid</td>\n      <td>221.41</td>\n      <td>199.76</td>\n      <td>91.36</td>\n      <td>63.64</td>\n      <td>865.42470</td>\n      <td>NaN</td>\n    </tr>\n    <tr>\n      <th>2366778</th>\n      <td>363188</td>\n      <td>person</td>\n      <td>2</td>\n      <td>valid</td>\n      <td>80.77</td>\n      <td>158.46</td>\n      <td>23.14</td>\n      <td>45.34</td>\n      <td>600.52020</td>\n      <td>NaN</td>\n    </tr>\n    <tr>\n      <th>900100703076</th>\n      <td>363188</td>\n      <td>person</td>\n      <td>2</td>\n      <td>valid</td>\n      <td>0.00</td>\n      <td>129.00</td>\n      <td>305.00</td>\n      <td>115.00</td>\n      <td>4293.00000</td>\n      <td>NaN</td>\n    </tr>\n    <tr>\n      <th>2064804</th>\n      <td>311180</td>\n      <td>person</td>\n      <td>2</td>\n      <td>valid</td>\n      <td>0.92</td>\n      <td>103.12</td>\n      <td>446.49</td>\n      <td>536.47</td>\n      <td>125482.38805</td>\n      <td>NaN</td>\n    </tr>\n    <tr>\n      <th>1532635</th>\n      <td>105455</td>\n      <td>sedan</td>\n      <td>100</td>\n      <td>valid</td>\n      <td>333.56</td>\n      <td>517.21</td>\n      <td>17.43</td>\n      <td>14.58</td>\n      <td>182.21680</td>\n      <td>NaN</td>\n    </tr>\n  </tbody>\n</table>\n<p>19822 rows × 10 columns</p>\n</div>",
          "text/plain": "              image_id     category_str  category_id  split  box_x_min  \\\nid                                                                       \n319049            6493            sedan          100  Paris       0.00   \n319050            6493        motorbike         1100  Paris     203.00   \n319051            6493        motorbike         1100  Paris     272.00   \n319052            6493        motorbike         1100  Paris     341.00   \n319053            6493  standing person           20  Paris     517.00   \n...                ...              ...          ...    ...        ...   \n1760513         363188              bag           29  valid     221.41   \n2366778         363188           person            2  valid      80.77   \n900100703076    363188           person            2  valid       0.00   \n2064804         311180           person            2  valid       0.92   \n1532635         105455            sedan          100  valid     333.56   \n\n              box_y_min  box_width  box_height          area  object_id  \nid                                                                       \n319049           632.00     210.00      159.00   33390.00000    55689.0  \n319050           611.00      86.00       86.00    7396.00000    30178.0  \n319051           589.00      77.00       83.00    6391.00000    48923.0  \n319052           559.00      69.00       91.00    6279.00000     8678.0  \n319053           527.00      38.00       82.00    3116.00000      560.0  \n...                 ...        ...         ...           ...        ...  \n1760513          199.76      91.36       63.64     865.42470        NaN  \n2366778          158.46      23.14       45.34     600.52020        NaN  \n900100703076     129.00     305.00      115.00    4293.00000        NaN  \n2064804          103.12     446.49      536.47  125482.38805        NaN  \n1532635          517.21      17.43       14.58     182.21680        NaN  \n\n[19822 rows x 10 columns]"
         },
         "metadata": {},
         "output_type": "display_data"
        }
       ]
      }
     },
     "5325a2c6f5e347cdbdb4246f9b7c00f5": {
      "model_module": "@jupyter-widgets/controls",
      "model_module_version": "2.0.0",
      "model_name": "HTMLStyleModel",
      "state": {
       "description_width": "",
       "font_size": null,
       "text_color": null
      }
     },
     "532b8e439d5c4ed186408450a1986139": {
      "model_module": "@jupyter-widgets/controls",
      "model_module_version": "2.0.0",
      "model_name": "HTMLStyleModel",
      "state": {
       "description_width": "",
       "font_size": null,
       "text_color": null
      }
     },
     "53767ed0b7284f4ea7dc2cdf4ce80ec3": {
      "model_module": "@jupyter-widgets/base",
      "model_module_version": "2.0.0",
      "model_name": "LayoutModel",
      "state": {}
     },
     "53a00408a1f04292b07cf3406f47fb46": {
      "model_module": "@jupyter-widgets/output",
      "model_module_version": "1.0.0",
      "model_name": "OutputModel",
      "state": {
       "layout": "IPY_MODEL_3636ee4edac34014ba95ff95469cea5b",
       "outputs": [
        {
         "data": {
          "text/html": "<div>\n<style scoped>\n    .dataframe tbody tr th:only-of-type {\n        vertical-align: middle;\n    }\n\n    .dataframe tbody tr th {\n        vertical-align: top;\n    }\n\n    .dataframe thead th {\n        text-align: right;\n    }\n</style>\n<table border=\"1\" class=\"dataframe\">\n  <thead>\n    <tr style=\"text-align: right;\">\n      <th></th>\n      <th>image_id</th>\n      <th>category_str</th>\n      <th>category_id</th>\n      <th>split</th>\n      <th>box_x_min</th>\n      <th>box_y_min</th>\n      <th>box_width</th>\n      <th>box_height</th>\n      <th>area</th>\n    </tr>\n    <tr>\n      <th>id</th>\n      <th></th>\n      <th></th>\n      <th></th>\n      <th></th>\n      <th></th>\n      <th></th>\n      <th></th>\n      <th></th>\n      <th></th>\n    </tr>\n  </thead>\n  <tbody>\n    <tr>\n      <th>460450</th>\n      <td>3053</td>\n      <td>person</td>\n      <td>1</td>\n      <td>valid</td>\n      <td>112.43</td>\n      <td>195.32</td>\n      <td>214.78</td>\n      <td>438.19</td>\n      <td>48685.67910</td>\n    </tr>\n    <tr>\n      <th>535917</th>\n      <td>3053</td>\n      <td>person</td>\n      <td>1</td>\n      <td>valid</td>\n      <td>0.00</td>\n      <td>256.00</td>\n      <td>80.54</td>\n      <td>376.81</td>\n      <td>22650.73800</td>\n    </tr>\n    <tr>\n      <th>602093</th>\n      <td>3053</td>\n      <td>frisbee</td>\n      <td>34</td>\n      <td>valid</td>\n      <td>171.63</td>\n      <td>424.03</td>\n      <td>85.89</td>\n      <td>40.67</td>\n      <td>2605.72090</td>\n    </tr>\n    <tr>\n      <th>589077</th>\n      <td>967</td>\n      <td>zebra</td>\n      <td>24</td>\n      <td>valid</td>\n      <td>260.99</td>\n      <td>158.88</td>\n      <td>141.52</td>\n      <td>194.11</td>\n      <td>9978.94125</td>\n    </tr>\n    <tr>\n      <th>589740</th>\n      <td>967</td>\n      <td>zebra</td>\n      <td>24</td>\n      <td>valid</td>\n      <td>366.49</td>\n      <td>174.59</td>\n      <td>115.67</td>\n      <td>142.71</td>\n      <td>5784.68620</td>\n    </tr>\n    <tr>\n      <th>...</th>\n      <td>...</td>\n      <td>...</td>\n      <td>...</td>\n      <td>...</td>\n      <td>...</td>\n      <td>...</td>\n      <td>...</td>\n      <td>...</td>\n      <td>...</td>\n    </tr>\n    <tr>\n      <th>331107</th>\n      <td>3028</td>\n      <td>refrigerator</td>\n      <td>82</td>\n      <td>valid</td>\n      <td>66.00</td>\n      <td>94.87</td>\n      <td>71.25</td>\n      <td>194.26</td>\n      <td>12029.44125</td>\n    </tr>\n    <tr>\n      <th>332788</th>\n      <td>3028</td>\n      <td>refrigerator</td>\n      <td>82</td>\n      <td>valid</td>\n      <td>138.00</td>\n      <td>62.63</td>\n      <td>98.25</td>\n      <td>252.00</td>\n      <td>23037.46875</td>\n    </tr>\n    <tr>\n      <th>333394</th>\n      <td>3028</td>\n      <td>refrigerator</td>\n      <td>82</td>\n      <td>valid</td>\n      <td>234.44</td>\n      <td>29.87</td>\n      <td>113.49</td>\n      <td>298.65</td>\n      <td>30406.51295</td>\n    </tr>\n    <tr>\n      <th>333685</th>\n      <td>3028</td>\n      <td>refrigerator</td>\n      <td>82</td>\n      <td>valid</td>\n      <td>335.04</td>\n      <td>10.48</td>\n      <td>125.17</td>\n      <td>318.78</td>\n      <td>37187.97840</td>\n    </tr>\n    <tr>\n      <th>333731</th>\n      <td>3028</td>\n      <td>refrigerator</td>\n      <td>82</td>\n      <td>valid</td>\n      <td>460.39</td>\n      <td>0.00</td>\n      <td>39.61</td>\n      <td>328.64</td>\n      <td>12492.52165</td>\n    </tr>\n  </tbody>\n</table>\n<p>36781 rows × 9 columns</p>\n</div>",
          "text/plain": "        image_id  category_str  category_id  split  box_x_min  box_y_min  \\\nid                                                                         \n460450      3053        person            1  valid     112.43     195.32   \n535917      3053        person            1  valid       0.00     256.00   \n602093      3053       frisbee           34  valid     171.63     424.03   \n589077       967         zebra           24  valid     260.99     158.88   \n589740       967         zebra           24  valid     366.49     174.59   \n...          ...           ...          ...    ...        ...        ...   \n331107      3028  refrigerator           82  valid      66.00      94.87   \n332788      3028  refrigerator           82  valid     138.00      62.63   \n333394      3028  refrigerator           82  valid     234.44      29.87   \n333685      3028  refrigerator           82  valid     335.04      10.48   \n333731      3028  refrigerator           82  valid     460.39       0.00   \n\n        box_width  box_height         area  \nid                                          \n460450     214.78      438.19  48685.67910  \n535917      80.54      376.81  22650.73800  \n602093      85.89       40.67   2605.72090  \n589077     141.52      194.11   9978.94125  \n589740     115.67      142.71   5784.68620  \n...           ...         ...          ...  \n331107      71.25      194.26  12029.44125  \n332788      98.25      252.00  23037.46875  \n333394     113.49      298.65  30406.51295  \n333685     125.17      318.78  37187.97840  \n333731      39.61      328.64  12492.52165  \n\n[36781 rows x 9 columns]"
         },
         "metadata": {},
         "output_type": "display_data"
        }
       ]
      }
     },
     "54516878809f42f981d26be89bde7825": {
      "model_module": "@jupyter-widgets/output",
      "model_module_version": "1.0.0",
      "model_name": "OutputModel",
      "state": {
       "layout": "IPY_MODEL_921b40e58c44473b8d5a67a34da00af5",
       "outputs": [
        {
         "data": {
          "text/html": "<div>\n<style scoped>\n    .dataframe tbody tr th:only-of-type {\n        vertical-align: middle;\n    }\n\n    .dataframe tbody tr th {\n        vertical-align: top;\n    }\n\n    .dataframe thead th {\n        text-align: right;\n    }\n</style>\n<table border=\"1\" class=\"dataframe\">\n  <thead>\n    <tr style=\"text-align: right;\">\n      <th></th>\n      <th>image_id</th>\n      <th>category_str</th>\n      <th>category_id</th>\n      <th>split</th>\n      <th>box_x_min</th>\n      <th>box_y_min</th>\n      <th>box_width</th>\n      <th>box_height</th>\n      <th>area</th>\n    </tr>\n    <tr>\n      <th>id</th>\n      <th></th>\n      <th></th>\n      <th></th>\n      <th></th>\n      <th></th>\n      <th></th>\n      <th></th>\n      <th></th>\n      <th></th>\n    </tr>\n  </thead>\n  <tbody>\n    <tr>\n      <th>460450</th>\n      <td>352582</td>\n      <td>person</td>\n      <td>1</td>\n      <td>valid</td>\n      <td>112.43</td>\n      <td>195.32</td>\n      <td>214.78</td>\n      <td>438.19</td>\n      <td>48685.67910</td>\n    </tr>\n    <tr>\n      <th>535917</th>\n      <td>352582</td>\n      <td>person</td>\n      <td>1</td>\n      <td>valid</td>\n      <td>0.00</td>\n      <td>256.00</td>\n      <td>80.54</td>\n      <td>376.81</td>\n      <td>22650.73800</td>\n    </tr>\n    <tr>\n      <th>602093</th>\n      <td>352582</td>\n      <td>frisbee</td>\n      <td>34</td>\n      <td>valid</td>\n      <td>171.63</td>\n      <td>424.03</td>\n      <td>85.89</td>\n      <td>40.67</td>\n      <td>2605.72090</td>\n    </tr>\n    <tr>\n      <th>589077</th>\n      <td>113354</td>\n      <td>zebra</td>\n      <td>24</td>\n      <td>valid</td>\n      <td>260.99</td>\n      <td>158.88</td>\n      <td>141.52</td>\n      <td>194.11</td>\n      <td>9978.94125</td>\n    </tr>\n    <tr>\n      <th>589740</th>\n      <td>113354</td>\n      <td>zebra</td>\n      <td>24</td>\n      <td>valid</td>\n      <td>366.49</td>\n      <td>174.59</td>\n      <td>115.67</td>\n      <td>142.71</td>\n      <td>5784.68620</td>\n    </tr>\n    <tr>\n      <th>...</th>\n      <td>...</td>\n      <td>...</td>\n      <td>...</td>\n      <td>...</td>\n      <td>...</td>\n      <td>...</td>\n      <td>...</td>\n      <td>...</td>\n      <td>...</td>\n    </tr>\n    <tr>\n      <th>331107</th>\n      <td>349837</td>\n      <td>refrigerator</td>\n      <td>82</td>\n      <td>valid</td>\n      <td>66.00</td>\n      <td>94.87</td>\n      <td>71.25</td>\n      <td>194.26</td>\n      <td>12029.44125</td>\n    </tr>\n    <tr>\n      <th>332788</th>\n      <td>349837</td>\n      <td>refrigerator</td>\n      <td>82</td>\n      <td>valid</td>\n      <td>138.00</td>\n      <td>62.63</td>\n      <td>98.25</td>\n      <td>252.00</td>\n      <td>23037.46875</td>\n    </tr>\n    <tr>\n      <th>333394</th>\n      <td>349837</td>\n      <td>refrigerator</td>\n      <td>82</td>\n      <td>valid</td>\n      <td>234.44</td>\n      <td>29.87</td>\n      <td>113.49</td>\n      <td>298.65</td>\n      <td>30406.51295</td>\n    </tr>\n    <tr>\n      <th>333685</th>\n      <td>349837</td>\n      <td>refrigerator</td>\n      <td>82</td>\n      <td>valid</td>\n      <td>335.04</td>\n      <td>10.48</td>\n      <td>125.17</td>\n      <td>318.78</td>\n      <td>37187.97840</td>\n    </tr>\n    <tr>\n      <th>333731</th>\n      <td>349837</td>\n      <td>refrigerator</td>\n      <td>82</td>\n      <td>valid</td>\n      <td>460.39</td>\n      <td>0.00</td>\n      <td>39.61</td>\n      <td>328.64</td>\n      <td>12492.52165</td>\n    </tr>\n  </tbody>\n</table>\n<p>34818 rows × 9 columns</p>\n</div>",
          "text/plain": "        image_id  category_str  category_id  split  box_x_min  box_y_min  \\\nid                                                                         \n460450    352582        person            1  valid     112.43     195.32   \n535917    352582        person            1  valid       0.00     256.00   \n602093    352582       frisbee           34  valid     171.63     424.03   \n589077    113354         zebra           24  valid     260.99     158.88   \n589740    113354         zebra           24  valid     366.49     174.59   \n...          ...           ...          ...    ...        ...        ...   \n331107    349837  refrigerator           82  valid      66.00      94.87   \n332788    349837  refrigerator           82  valid     138.00      62.63   \n333394    349837  refrigerator           82  valid     234.44      29.87   \n333685    349837  refrigerator           82  valid     335.04      10.48   \n333731    349837  refrigerator           82  valid     460.39       0.00   \n\n        box_width  box_height         area  \nid                                          \n460450     214.78      438.19  48685.67910  \n535917      80.54      376.81  22650.73800  \n602093      85.89       40.67   2605.72090  \n589077     141.52      194.11   9978.94125  \n589740     115.67      142.71   5784.68620  \n...           ...         ...          ...  \n331107      71.25      194.26  12029.44125  \n332788      98.25      252.00  23037.46875  \n333394     113.49      298.65  30406.51295  \n333685     125.17      318.78  37187.97840  \n333731      39.61      328.64  12492.52165  \n\n[34818 rows x 9 columns]"
         },
         "metadata": {},
         "output_type": "display_data"
        }
       ]
      }
     },
     "553c5382871c477299213d6002d4f9aa": {
      "model_module": "@jupyter-widgets/controls",
      "model_module_version": "2.0.0",
      "model_name": "TabModel",
      "state": {
       "children": [
        "IPY_MODEL_643130daf5e040059783bf86462bc418",
        "IPY_MODEL_95bd19b5f5754ce5bdfc87db5795802c",
        "IPY_MODEL_c6e20f31e53c4079a45532555e89d324"
       ],
       "layout": "IPY_MODEL_4939eadc268842cfba551558ca478ef8",
       "selected_index": 0,
       "titles": [
        "Images",
        "Annotations",
        "Label Map"
       ]
      }
     },
     "56186a46f31b4463b97bfe5fc93e454b": {
      "model_module": "@jupyter-widgets/output",
      "model_module_version": "1.0.0",
      "model_name": "OutputModel",
      "state": {
       "layout": "IPY_MODEL_9708ae09d6604e1ebdbca8d38412ac07",
       "outputs": [
        {
         "data": {
          "text/html": "<div>\n<style scoped>\n    .dataframe tbody tr th:only-of-type {\n        vertical-align: middle;\n    }\n\n    .dataframe tbody tr th {\n        vertical-align: top;\n    }\n\n    .dataframe thead th {\n        text-align: right;\n    }\n</style>\n<table border=\"1\" class=\"dataframe\">\n  <thead>\n    <tr style=\"text-align: right;\">\n      <th></th>\n      <th>category string</th>\n    </tr>\n    <tr>\n      <th>category_id</th>\n      <th></th>\n    </tr>\n  </thead>\n  <tbody>\n    <tr>\n      <th>1</th>\n      <td>person</td>\n    </tr>\n    <tr>\n      <th>2</th>\n      <td>bicycle</td>\n    </tr>\n    <tr>\n      <th>3</th>\n      <td>car</td>\n    </tr>\n    <tr>\n      <th>4</th>\n      <td>motorcycle</td>\n    </tr>\n    <tr>\n      <th>5</th>\n      <td>airplane</td>\n    </tr>\n    <tr>\n      <th>...</th>\n      <td>...</td>\n    </tr>\n    <tr>\n      <th>86</th>\n      <td>vase</td>\n    </tr>\n    <tr>\n      <th>87</th>\n      <td>scissors</td>\n    </tr>\n    <tr>\n      <th>88</th>\n      <td>teddy bear</td>\n    </tr>\n    <tr>\n      <th>89</th>\n      <td>hair drier</td>\n    </tr>\n    <tr>\n      <th>90</th>\n      <td>toothbrush</td>\n    </tr>\n  </tbody>\n</table>\n<p>80 rows × 1 columns</p>\n</div>",
          "text/plain": "            category string\ncategory_id                \n1                    person\n2                   bicycle\n3                       car\n4                motorcycle\n5                  airplane\n...                     ...\n86                     vase\n87                 scissors\n88               teddy bear\n89               hair drier\n90               toothbrush\n\n[80 rows x 1 columns]"
         },
         "metadata": {},
         "output_type": "display_data"
        }
       ]
      }
     },
     "562914ef9a784277a4e422b9e7b527fe": {
      "model_module": "@jupyter-widgets/base",
      "model_module_version": "2.0.0",
      "model_name": "LayoutModel",
      "state": {}
     },
     "5656d447bdef47bc91c96668e7dc2340": {
      "model_module": "@jupyter-widgets/controls",
      "model_module_version": "2.0.0",
      "model_name": "HTMLModel",
      "state": {
       "layout": "IPY_MODEL_f135817d2e6744df8c945f080d445594",
       "style": "IPY_MODEL_8244e9e4890143389d55a26624f309a1",
       "value": "<p><span style='white-space: pre-wrap; font-weight: bold'>Dataset object containing 4,722 images and 34,818 objects\nName :\n\tcoco\nImages root :\n\tnotebook_data</span></p>"
      }
     },
     "56c48fbbd0504372bcbda6bb1fadf27b": {
      "model_module": "@jupyter-widgets/base",
      "model_module_version": "2.0.0",
      "model_name": "LayoutModel",
      "state": {}
     },
     "5785926c454d47ac882ec6924f2d8120": {
      "model_module": "@jupyter-widgets/output",
      "model_module_version": "1.0.0",
      "model_name": "OutputModel",
      "state": {
       "layout": "IPY_MODEL_132b83b33bf3466e8573a83e33a509c3",
       "outputs": [
        {
         "data": {
          "text/html": "<div>\n<style scoped>\n    .dataframe tbody tr th:only-of-type {\n        vertical-align: middle;\n    }\n\n    .dataframe tbody tr th {\n        vertical-align: top;\n    }\n\n    .dataframe thead th {\n        text-align: right;\n    }\n</style>\n<table border=\"1\" class=\"dataframe\">\n  <thead>\n    <tr style=\"text-align: right;\">\n      <th></th>\n      <th>width</th>\n      <th>height</th>\n      <th>relative_path</th>\n      <th>type</th>\n      <th>split</th>\n    </tr>\n    <tr>\n      <th>id</th>\n      <th></th>\n      <th></th>\n      <th></th>\n      <th></th>\n      <th></th>\n    </tr>\n  </thead>\n  <tbody>\n    <tr>\n      <th>352582</th>\n      <td>425</td>\n      <td>640</td>\n      <td>Images/valid/000000352582.jpg</td>\n      <td>.jpg</td>\n      <td>valid</td>\n    </tr>\n    <tr>\n      <th>113354</th>\n      <td>640</td>\n      <td>480</td>\n      <td>Images/valid/000000113354.jpg</td>\n      <td>.jpg</td>\n      <td>valid</td>\n    </tr>\n    <tr>\n      <th>58393</th>\n      <td>640</td>\n      <td>486</td>\n      <td>Images/valid/000000058393.jpg</td>\n      <td>.jpg</td>\n      <td>valid</td>\n    </tr>\n    <tr>\n      <th>147729</th>\n      <td>500</td>\n      <td>375</td>\n      <td>Images/valid/000000147729.jpg</td>\n      <td>.jpg</td>\n      <td>valid</td>\n    </tr>\n    <tr>\n      <th>310072</th>\n      <td>640</td>\n      <td>383</td>\n      <td>Images/valid/000000310072.jpg</td>\n      <td>.jpg</td>\n      <td>valid</td>\n    </tr>\n    <tr>\n      <th>...</th>\n      <td>...</td>\n      <td>...</td>\n      <td>...</td>\n      <td>...</td>\n      <td>...</td>\n    </tr>\n    <tr>\n      <th>311180</th>\n      <td>480</td>\n      <td>640</td>\n      <td>Images/valid/000000311180.jpg</td>\n      <td>.jpg</td>\n      <td>valid</td>\n    </tr>\n    <tr>\n      <th>302030</th>\n      <td>640</td>\n      <td>359</td>\n      <td>Images/valid/000000302030.jpg</td>\n      <td>.jpg</td>\n      <td>valid</td>\n    </tr>\n    <tr>\n      <th>105455</th>\n      <td>427</td>\n      <td>640</td>\n      <td>Images/valid/000000105455.jpg</td>\n      <td>.jpg</td>\n      <td>valid</td>\n    </tr>\n    <tr>\n      <th>428280</th>\n      <td>500</td>\n      <td>333</td>\n      <td>Images/valid/000000428280.jpg</td>\n      <td>.jpg</td>\n      <td>valid</td>\n    </tr>\n    <tr>\n      <th>349837</th>\n      <td>500</td>\n      <td>333</td>\n      <td>Images/valid/000000349837.jpg</td>\n      <td>.jpg</td>\n      <td>valid</td>\n    </tr>\n  </tbody>\n</table>\n<p>5000 rows × 5 columns</p>\n</div>",
          "text/plain": "        width  height                  relative_path  type  split\nid                                                               \n352582    425     640  Images/valid/000000352582.jpg  .jpg  valid\n113354    640     480  Images/valid/000000113354.jpg  .jpg  valid\n58393     640     486  Images/valid/000000058393.jpg  .jpg  valid\n147729    500     375  Images/valid/000000147729.jpg  .jpg  valid\n310072    640     383  Images/valid/000000310072.jpg  .jpg  valid\n...       ...     ...                            ...   ...    ...\n311180    480     640  Images/valid/000000311180.jpg  .jpg  valid\n302030    640     359  Images/valid/000000302030.jpg  .jpg  valid\n105455    427     640  Images/valid/000000105455.jpg  .jpg  valid\n428280    500     333  Images/valid/000000428280.jpg  .jpg  valid\n349837    500     333  Images/valid/000000349837.jpg  .jpg  valid\n\n[5000 rows x 5 columns]"
         },
         "metadata": {},
         "output_type": "display_data"
        }
       ]
      }
     },
     "57f1eb88d2634517a5c81043bd698835": {
      "model_module": "@jupyter-widgets/base",
      "model_module_version": "2.0.0",
      "model_name": "LayoutModel",
      "state": {}
     },
     "584b7077356449debe4c2b23f086ed9d": {
      "model_module": "@jupyter-widgets/base",
      "model_module_version": "2.0.0",
      "model_name": "LayoutModel",
      "state": {}
     },
     "5886930366ee4599934de4e17cf93815": {
      "model_module": "@jupyter-widgets/controls",
      "model_module_version": "2.0.0",
      "model_name": "TabModel",
      "state": {
       "children": [
        "IPY_MODEL_1806823b51b6461b819a313d85ae308e",
        "IPY_MODEL_8bbc7a41f9f841f2a8f6a01a98301a2d",
        "IPY_MODEL_ef65891409c4419cb88edce2789aa500"
       ],
       "layout": "IPY_MODEL_fe9750a4cfca439798219a9dcb1c53bd",
       "selected_index": 0,
       "titles": [
        "Images",
        "Annotations",
        "Label Map"
       ]
      }
     },
     "58f94001d4c44146a6733268d5185464": {
      "model_module": "@jupyter-widgets/controls",
      "model_module_version": "2.0.0",
      "model_name": "TabModel",
      "state": {
       "children": [
        "IPY_MODEL_1d70177086d9490e8acbb8e6a1b7c456",
        "IPY_MODEL_c00c162a663347309527f2fd54726282",
        "IPY_MODEL_cb34e0259b7b42dca74f2e85e1c4cd83"
       ],
       "layout": "IPY_MODEL_8889cd6c0f9049e9be19071ff8afaba5",
       "selected_index": 0,
       "titles": [
        "Images",
        "Annotations",
        "Label Map"
       ]
      }
     },
     "5a017b0de8d848dfb02a489f6bdc0623": {
      "model_module": "@jupyter-widgets/base",
      "model_module_version": "2.0.0",
      "model_name": "LayoutModel",
      "state": {}
     },
     "5c61c9fce03241ebbe04b4901e823fb6": {
      "model_module": "@jupyter-widgets/controls",
      "model_module_version": "2.0.0",
      "model_name": "VBoxModel",
      "state": {
       "children": [
        "IPY_MODEL_99863d1d296942bfbdd46bf539f89dd4",
        "IPY_MODEL_553c5382871c477299213d6002d4f9aa"
       ],
       "layout": "IPY_MODEL_4b4f61a08ab14e84a569e86bf313fff6"
      }
     },
     "5d4f001c0387412cb6e01ebdf0d15469": {
      "model_module": "@jupyter-widgets/base",
      "model_module_version": "2.0.0",
      "model_name": "LayoutModel",
      "state": {}
     },
     "621338b9b40b4f12b0ec1611a641de2d": {
      "model_module": "@jupyter-widgets/base",
      "model_module_version": "2.0.0",
      "model_name": "LayoutModel",
      "state": {}
     },
     "62bc8c027154456fb5c527d518cd47f6": {
      "model_module": "@jupyter-widgets/output",
      "model_module_version": "1.0.0",
      "model_name": "OutputModel",
      "state": {
       "layout": "IPY_MODEL_97bff9602f63475ea1f3ce1f071c56de",
       "outputs": [
        {
         "data": {
          "text/html": "<div>\n<style scoped>\n    .dataframe tbody tr th:only-of-type {\n        vertical-align: middle;\n    }\n\n    .dataframe tbody tr th {\n        vertical-align: top;\n    }\n\n    .dataframe thead th {\n        text-align: right;\n    }\n</style>\n<table border=\"1\" class=\"dataframe\">\n  <thead>\n    <tr style=\"text-align: right;\">\n      <th></th>\n      <th>category string</th>\n    </tr>\n    <tr>\n      <th>category_id</th>\n      <th></th>\n    </tr>\n  </thead>\n  <tbody>\n    <tr>\n      <th>1</th>\n      <td>Vehicle</td>\n    </tr>\n    <tr>\n      <th>3</th>\n      <td>Animal</td>\n    </tr>\n    <tr>\n      <th>2</th>\n      <td>Bag</td>\n    </tr>\n  </tbody>\n</table>\n</div>",
          "text/plain": "            category string\ncategory_id                \n1                   Vehicle\n3                    Animal\n2                       Bag"
         },
         "metadata": {},
         "output_type": "display_data"
        }
       ]
      }
     },
     "643130daf5e040059783bf86462bc418": {
      "model_module": "@jupyter-widgets/output",
      "model_module_version": "1.0.0",
      "model_name": "OutputModel",
      "state": {
       "layout": "IPY_MODEL_3824bfa0da4b46e0bb4523494f50280f",
       "outputs": [
        {
         "data": {
          "text/html": "<div>\n<style scoped>\n    .dataframe tbody tr th:only-of-type {\n        vertical-align: middle;\n    }\n\n    .dataframe tbody tr th {\n        vertical-align: top;\n    }\n\n    .dataframe thead th {\n        text-align: right;\n    }\n</style>\n<table border=\"1\" class=\"dataframe\">\n  <thead>\n    <tr style=\"text-align: right;\">\n      <th></th>\n      <th>width</th>\n      <th>height</th>\n      <th>relative_path</th>\n      <th>type</th>\n      <th>split</th>\n    </tr>\n    <tr>\n      <th>id</th>\n      <th></th>\n      <th></th>\n      <th></th>\n      <th></th>\n      <th></th>\n    </tr>\n  </thead>\n  <tbody>\n    <tr>\n      <th>447789</th>\n      <td>640</td>\n      <td>427</td>\n      <td>Images/valid/000000447789.jpg</td>\n      <td>.jpg</td>\n      <td>valid</td>\n    </tr>\n    <tr>\n      <th>514540</th>\n      <td>429</td>\n      <td>640</td>\n      <td>Images/valid/000000514540.jpg</td>\n      <td>.jpg</td>\n      <td>valid</td>\n    </tr>\n    <tr>\n      <th>476491</th>\n      <td>336</td>\n      <td>500</td>\n      <td>Images/valid/000000476491.jpg</td>\n      <td>.jpg</td>\n      <td>valid</td>\n    </tr>\n    <tr>\n      <th>41488</th>\n      <td>640</td>\n      <td>369</td>\n      <td>Images/valid/000000041488.jpg</td>\n      <td>.jpg</td>\n      <td>valid</td>\n    </tr>\n    <tr>\n      <th>121153</th>\n      <td>640</td>\n      <td>480</td>\n      <td>Images/valid/000000121153.jpg</td>\n      <td>.jpg</td>\n      <td>valid</td>\n    </tr>\n    <tr>\n      <th>...</th>\n      <td>...</td>\n      <td>...</td>\n      <td>...</td>\n      <td>...</td>\n      <td>...</td>\n    </tr>\n    <tr>\n      <th>311180</th>\n      <td>480</td>\n      <td>640</td>\n      <td>Images/valid/000000311180.jpg</td>\n      <td>.jpg</td>\n      <td>valid</td>\n    </tr>\n    <tr>\n      <th>302030</th>\n      <td>640</td>\n      <td>359</td>\n      <td>Images/valid/000000302030.jpg</td>\n      <td>.jpg</td>\n      <td>valid</td>\n    </tr>\n    <tr>\n      <th>105455</th>\n      <td>427</td>\n      <td>640</td>\n      <td>Images/valid/000000105455.jpg</td>\n      <td>.jpg</td>\n      <td>valid</td>\n    </tr>\n    <tr>\n      <th>428280</th>\n      <td>500</td>\n      <td>333</td>\n      <td>Images/valid/000000428280.jpg</td>\n      <td>.jpg</td>\n      <td>valid</td>\n    </tr>\n    <tr>\n      <th>349837</th>\n      <td>500</td>\n      <td>333</td>\n      <td>Images/valid/000000349837.jpg</td>\n      <td>.jpg</td>\n      <td>valid</td>\n    </tr>\n  </tbody>\n</table>\n<p>4706 rows × 5 columns</p>\n</div>",
          "text/plain": "        width  height                  relative_path  type  split\nid                                                               \n447789    640     427  Images/valid/000000447789.jpg  .jpg  valid\n514540    429     640  Images/valid/000000514540.jpg  .jpg  valid\n476491    336     500  Images/valid/000000476491.jpg  .jpg  valid\n41488     640     369  Images/valid/000000041488.jpg  .jpg  valid\n121153    640     480  Images/valid/000000121153.jpg  .jpg  valid\n...       ...     ...                            ...   ...    ...\n311180    480     640  Images/valid/000000311180.jpg  .jpg  valid\n302030    640     359  Images/valid/000000302030.jpg  .jpg  valid\n105455    427     640  Images/valid/000000105455.jpg  .jpg  valid\n428280    500     333  Images/valid/000000428280.jpg  .jpg  valid\n349837    500     333  Images/valid/000000349837.jpg  .jpg  valid\n\n[4706 rows x 5 columns]"
         },
         "metadata": {},
         "output_type": "display_data"
        }
       ]
      }
     },
     "64418921d8914a6e887078465095cf30": {
      "model_module": "@jupyter-widgets/controls",
      "model_module_version": "2.0.0",
      "model_name": "HTMLStyleModel",
      "state": {
       "description_width": "",
       "font_size": null,
       "text_color": null
      }
     },
     "649d1e92ccb14b228ac02eae8896d0e3": {
      "model_module": "@jupyter-widgets/base",
      "model_module_version": "2.0.0",
      "model_name": "LayoutModel",
      "state": {}
     },
     "653a77ebba1c491d989943e25eabb70f": {
      "model_module": "@jupyter-widgets/controls",
      "model_module_version": "2.0.0",
      "model_name": "HTMLModel",
      "state": {
       "layout": "IPY_MODEL_e227b9c8d8194bdf809f1902470c9900",
       "style": "IPY_MODEL_a906e40c8dfe421791496e5865113d98",
       "value": "<p><span style='white-space: pre-wrap; font-weight: bold'>Dataset object containing 5,000 images and 18,390 objects\nName :\n\tcoco\nImages root :\n\tnotebook_data</span></p>"
      }
     },
     "658364e0b52b422eac66d0535c4b7960": {
      "model_module": "@jupyter-widgets/controls",
      "model_module_version": "2.0.0",
      "model_name": "VBoxModel",
      "state": {
       "children": [
        "IPY_MODEL_02e2428cf39b49ec98839dedd7a9fa70",
        "IPY_MODEL_2e38665363164a55b26ecb0fd0749d95"
       ],
       "layout": "IPY_MODEL_08dfb99ab78644a691b9052a7d2794bd"
      }
     },
     "658725de461042c19f6367fdfe0fd4df": {
      "model_module": "@jupyter-widgets/controls",
      "model_module_version": "2.0.0",
      "model_name": "TabModel",
      "state": {
       "children": [
        "IPY_MODEL_f736863a3caf4884a3920ece493808a4",
        "IPY_MODEL_e237f37431f04ccdaefe08f7b83935b6",
        "IPY_MODEL_62bc8c027154456fb5c527d518cd47f6"
       ],
       "layout": "IPY_MODEL_b8a7a55a22e448aabe6ce60dec5abc5f",
       "selected_index": 0,
       "titles": [
        "Images",
        "Annotations",
        "Label Map"
       ]
      }
     },
     "65ded6abaf904351b029a28e9981d390": {
      "model_module": "@jupyter-widgets/base",
      "model_module_version": "2.0.0",
      "model_name": "LayoutModel",
      "state": {}
     },
     "6737bc5a08654f319515e5b2ca970d9c": {
      "model_module": "@jupyter-widgets/controls",
      "model_module_version": "2.0.0",
      "model_name": "HTMLStyleModel",
      "state": {
       "description_width": "",
       "font_size": null,
       "text_color": null
      }
     },
     "67ddc7fc7ec44f938acb55582824d3cb": {
      "model_module": "@jupyter-widgets/base",
      "model_module_version": "2.0.0",
      "model_name": "LayoutModel",
      "state": {}
     },
     "6970548c33f84974964ded501928192b": {
      "model_module": "@jupyter-widgets/base",
      "model_module_version": "2.0.0",
      "model_name": "LayoutModel",
      "state": {}
     },
     "69e62664e91d46899829f613e0a8dcb7": {
      "model_module": "@jupyter-widgets/base",
      "model_module_version": "2.0.0",
      "model_name": "LayoutModel",
      "state": {}
     },
     "6aeeaf8046744074b0cafe49d4ef7fbe": {
      "model_module": "@jupyter-widgets/output",
      "model_module_version": "1.0.0",
      "model_name": "OutputModel",
      "state": {
       "layout": "IPY_MODEL_26ef8be6383a42208015aed17d6569c8",
       "outputs": [
        {
         "data": {
          "text/html": "<div>\n<style scoped>\n    .dataframe tbody tr th:only-of-type {\n        vertical-align: middle;\n    }\n\n    .dataframe tbody tr th {\n        vertical-align: top;\n    }\n\n    .dataframe thead th {\n        text-align: right;\n    }\n</style>\n<table border=\"1\" class=\"dataframe\">\n  <thead>\n    <tr style=\"text-align: right;\">\n      <th></th>\n      <th>width</th>\n      <th>height</th>\n      <th>relative_path</th>\n      <th>type</th>\n      <th>split</th>\n    </tr>\n    <tr>\n      <th>id</th>\n      <th></th>\n      <th></th>\n      <th></th>\n      <th></th>\n      <th></th>\n    </tr>\n  </thead>\n  <tbody>\n    <tr>\n      <th>352582</th>\n      <td>425</td>\n      <td>640</td>\n      <td>Images/valid/000000352582.jpg</td>\n      <td>.jpg</td>\n      <td>valid</td>\n    </tr>\n    <tr>\n      <th>113354</th>\n      <td>640</td>\n      <td>480</td>\n      <td>Images/valid/000000113354.jpg</td>\n      <td>.jpg</td>\n      <td>valid</td>\n    </tr>\n  </tbody>\n</table>\n</div>",
          "text/plain": "        width  height                  relative_path  type  split\nid                                                               \n352582    425     640  Images/valid/000000352582.jpg  .jpg  valid\n113354    640     480  Images/valid/000000113354.jpg  .jpg  valid"
         },
         "metadata": {},
         "output_type": "display_data"
        }
       ]
      }
     },
     "6b9a21be70e4477289078e28ba381d45": {
      "model_module": "@jupyter-widgets/controls",
      "model_module_version": "2.0.0",
      "model_name": "VBoxModel",
      "state": {
       "children": [
        "IPY_MODEL_04c91354041145a9a9bca452c374ed60",
        "IPY_MODEL_285fb49c96394563a1a30947308ef787"
       ],
       "layout": "IPY_MODEL_f13edfa87c774800b7e35122ce7a5a3d"
      }
     },
     "6d3e5311d9634394ac2797808999ed71": {
      "model_module": "@jupyter-widgets/controls",
      "model_module_version": "2.0.0",
      "model_name": "HTMLModel",
      "state": {
       "layout": "IPY_MODEL_1cb92b66c8184d67ac0465a03d8c34b3",
       "style": "IPY_MODEL_1252043de56a40638fa0ad798643d66d",
       "value": "<p><span style='white-space: pre-wrap; font-weight: bold'>Dataset object containing 2 images and 2 objects\nName :\n\tcoco\nImages root :\n\tnotebook_data</span></p>"
      }
     },
     "6e0419c231fa4d2f85d0bf5ba7a88cbf": {
      "model_module": "@jupyter-widgets/controls",
      "model_module_version": "2.0.0",
      "model_name": "TabModel",
      "state": {
       "children": [
        "IPY_MODEL_e632e552abae4b039b2c3233f81dfdc9",
        "IPY_MODEL_c93d2cfc133b401282f6f045f1bb0223",
        "IPY_MODEL_b64aba9ae4c0484594269ccb84a79bdd"
       ],
       "layout": "IPY_MODEL_56c48fbbd0504372bcbda6bb1fadf27b",
       "selected_index": 0,
       "titles": [
        "Images",
        "Annotations",
        "Label Map"
       ]
      }
     },
     "6f265d1d74fb43609d0e826b82e49209": {
      "model_module": "@jupyter-widgets/controls",
      "model_module_version": "2.0.0",
      "model_name": "VBoxModel",
      "state": {
       "children": [
        "IPY_MODEL_2984d46b4b6f45668aafca06ab5bd639",
        "IPY_MODEL_b217ba852a2d4c8eb6ab3838bed537d6"
       ],
       "layout": "IPY_MODEL_be1a9f5f95b741a7a45238443bceafb3"
      }
     },
     "6fd00400082e4cd887a8653fded7f9ef": {
      "model_module": "@jupyter-widgets/output",
      "model_module_version": "1.0.0",
      "model_name": "OutputModel",
      "state": {
       "layout": "IPY_MODEL_a74d5337152d43b7997d568b0e8858da",
       "outputs": [
        {
         "data": {
          "text/html": "<div>\n<style scoped>\n    .dataframe tbody tr th:only-of-type {\n        vertical-align: middle;\n    }\n\n    .dataframe tbody tr th {\n        vertical-align: top;\n    }\n\n    .dataframe thead th {\n        text-align: right;\n    }\n</style>\n<table border=\"1\" class=\"dataframe\">\n  <thead>\n    <tr style=\"text-align: right;\">\n      <th></th>\n      <th>category string</th>\n    </tr>\n    <tr>\n      <th>category_id</th>\n      <th></th>\n    </tr>\n  </thead>\n  <tbody>\n    <tr>\n      <th>2</th>\n      <td>person</td>\n    </tr>\n    <tr>\n      <th>111</th>\n      <td>bicycle</td>\n    </tr>\n    <tr>\n      <th>100</th>\n      <td>sedan</td>\n    </tr>\n    <tr>\n      <th>110</th>\n      <td>motorcycle</td>\n    </tr>\n    <tr>\n      <th>102</th>\n      <td>bus</td>\n    </tr>\n    <tr>\n      <th>12</th>\n      <td>train</td>\n    </tr>\n    <tr>\n      <th>10</th>\n      <td>car</td>\n    </tr>\n    <tr>\n      <th>41</th>\n      <td>domestical animal</td>\n    </tr>\n    <tr>\n      <th>410</th>\n      <td>dog</td>\n    </tr>\n    <tr>\n      <th>61</th>\n      <td>bag</td>\n    </tr>\n    <tr>\n      <th>60</th>\n      <td>suitcase</td>\n    </tr>\n  </tbody>\n</table>\n</div>",
          "text/plain": "               category string\ncategory_id                   \n2                       person\n111                    bicycle\n100                      sedan\n110                 motorcycle\n102                        bus\n12                       train\n10                         car\n41           domestical animal\n410                        dog\n61                         bag\n60                    suitcase"
         },
         "metadata": {},
         "output_type": "display_data"
        }
       ]
      }
     },
     "702944a9ef084dcc9988bdcc77bfcf7e": {
      "model_module": "@jupyter-widgets/base",
      "model_module_version": "2.0.0",
      "model_name": "LayoutModel",
      "state": {}
     },
     "70926fd032a64534883038ebe234265d": {
      "model_module": "@jupyter-widgets/controls",
      "model_module_version": "2.0.0",
      "model_name": "VBoxModel",
      "state": {
       "children": [
        "IPY_MODEL_46bdf0a0e4274de496ea0d49c9131198",
        "IPY_MODEL_5886930366ee4599934de4e17cf93815"
       ],
       "layout": "IPY_MODEL_1616e1562d044a25a4bd62eaa2f2879a"
      }
     },
     "70fdba3e32804c24b70a1b285a985f71": {
      "model_module": "@jupyter-widgets/base",
      "model_module_version": "2.0.0",
      "model_name": "LayoutModel",
      "state": {}
     },
     "731539e5661148739eb8978c60efc5f8": {
      "model_module": "@jupyter-widgets/controls",
      "model_module_version": "2.0.0",
      "model_name": "HTMLStyleModel",
      "state": {
       "description_width": "",
       "font_size": null,
       "text_color": null
      }
     },
     "735ede7a517e4568bf64f74ccb196544": {
      "model_module": "@jupyter-widgets/controls",
      "model_module_version": "2.0.0",
      "model_name": "HTMLStyleModel",
      "state": {
       "description_width": "",
       "font_size": null,
       "text_color": null
      }
     },
     "740572852b404ab6b16bf51549e42d4a": {
      "model_module": "@jupyter-widgets/base",
      "model_module_version": "2.0.0",
      "model_name": "LayoutModel",
      "state": {}
     },
     "74323b14a37d444ba817ba62f83ca5a8": {
      "model_module": "@jupyter-widgets/output",
      "model_module_version": "1.0.0",
      "model_name": "OutputModel",
      "state": {
       "layout": "IPY_MODEL_08e2700f97ca48cf8fcbdebbaef52632",
       "outputs": [
        {
         "data": {
          "text/html": "<div>\n<style scoped>\n    .dataframe tbody tr th:only-of-type {\n        vertical-align: middle;\n    }\n\n    .dataframe tbody tr th {\n        vertical-align: top;\n    }\n\n    .dataframe thead th {\n        text-align: right;\n    }\n</style>\n<table border=\"1\" class=\"dataframe\">\n  <thead>\n    <tr style=\"text-align: right;\">\n      <th></th>\n      <th>width</th>\n      <th>height</th>\n      <th>relative_path</th>\n      <th>type</th>\n      <th>split</th>\n    </tr>\n    <tr>\n      <th>id</th>\n      <th></th>\n      <th></th>\n      <th></th>\n      <th></th>\n      <th></th>\n    </tr>\n  </thead>\n  <tbody>\n    <tr>\n      <th>352582</th>\n      <td>425</td>\n      <td>640</td>\n      <td>Images/valid/000000352582.jpg</td>\n      <td>.jpg</td>\n      <td>valid</td>\n    </tr>\n    <tr>\n      <th>58393</th>\n      <td>640</td>\n      <td>486</td>\n      <td>Images/valid/000000058393.jpg</td>\n      <td>.jpg</td>\n      <td>valid</td>\n    </tr>\n    <tr>\n      <th>310072</th>\n      <td>640</td>\n      <td>383</td>\n      <td>Images/valid/000000310072.jpg</td>\n      <td>.jpg</td>\n      <td>valid</td>\n    </tr>\n    <tr>\n      <th>519208</th>\n      <td>640</td>\n      <td>406</td>\n      <td>Images/valid/000000519208.jpg</td>\n      <td>.jpg</td>\n      <td>valid</td>\n    </tr>\n    <tr>\n      <th>38048</th>\n      <td>299</td>\n      <td>500</td>\n      <td>Images/valid/000000038048.jpg</td>\n      <td>.jpg</td>\n      <td>valid</td>\n    </tr>\n    <tr>\n      <th>...</th>\n      <td>...</td>\n      <td>...</td>\n      <td>...</td>\n      <td>...</td>\n      <td>...</td>\n    </tr>\n    <tr>\n      <th>185409</th>\n      <td>640</td>\n      <td>424</td>\n      <td>Images/valid/000000185409.jpg</td>\n      <td>.jpg</td>\n      <td>valid</td>\n    </tr>\n    <tr>\n      <th>577976</th>\n      <td>640</td>\n      <td>428</td>\n      <td>Images/valid/000000577976.jpg</td>\n      <td>.jpg</td>\n      <td>valid</td>\n    </tr>\n    <tr>\n      <th>363188</th>\n      <td>640</td>\n      <td>425</td>\n      <td>Images/valid/000000363188.jpg</td>\n      <td>.jpg</td>\n      <td>valid</td>\n    </tr>\n    <tr>\n      <th>302030</th>\n      <td>640</td>\n      <td>359</td>\n      <td>Images/valid/000000302030.jpg</td>\n      <td>.jpg</td>\n      <td>valid</td>\n    </tr>\n    <tr>\n      <th>428280</th>\n      <td>500</td>\n      <td>333</td>\n      <td>Images/valid/000000428280.jpg</td>\n      <td>.jpg</td>\n      <td>valid</td>\n    </tr>\n  </tbody>\n</table>\n<p>2500 rows × 5 columns</p>\n</div>",
          "text/plain": "        width  height                  relative_path  type  split\nid                                                               \n352582    425     640  Images/valid/000000352582.jpg  .jpg  valid\n58393     640     486  Images/valid/000000058393.jpg  .jpg  valid\n310072    640     383  Images/valid/000000310072.jpg  .jpg  valid\n519208    640     406  Images/valid/000000519208.jpg  .jpg  valid\n38048     299     500  Images/valid/000000038048.jpg  .jpg  valid\n...       ...     ...                            ...   ...    ...\n185409    640     424  Images/valid/000000185409.jpg  .jpg  valid\n577976    640     428  Images/valid/000000577976.jpg  .jpg  valid\n363188    640     425  Images/valid/000000363188.jpg  .jpg  valid\n302030    640     359  Images/valid/000000302030.jpg  .jpg  valid\n428280    500     333  Images/valid/000000428280.jpg  .jpg  valid\n\n[2500 rows x 5 columns]"
         },
         "metadata": {},
         "output_type": "display_data"
        }
       ]
      }
     },
     "7aa3e04fe4094863b5518df7992fe347": {
      "model_module": "@jupyter-widgets/base",
      "model_module_version": "2.0.0",
      "model_name": "LayoutModel",
      "state": {}
     },
     "7b439da9083b497faeabde84b2b6936f": {
      "model_module": "@jupyter-widgets/controls",
      "model_module_version": "2.0.0",
      "model_name": "HTMLStyleModel",
      "state": {
       "description_width": "",
       "font_size": null,
       "text_color": null
      }
     },
     "7c2e5007141746398e1584d8537559f5": {
      "model_module": "@jupyter-widgets/controls",
      "model_module_version": "2.0.0",
      "model_name": "HTMLStyleModel",
      "state": {
       "description_width": "",
       "font_size": null,
       "text_color": null
      }
     },
     "7c4075c4396641a8a621885ace1f814b": {
      "model_module": "@jupyter-widgets/base",
      "model_module_version": "2.0.0",
      "model_name": "LayoutModel",
      "state": {}
     },
     "7c866e276a914c4089c25490d33cb94e": {
      "model_module": "@jupyter-widgets/output",
      "model_module_version": "1.0.0",
      "model_name": "OutputModel",
      "state": {
       "layout": "IPY_MODEL_c259d5ca11ee4e528183f9b259bba383",
       "outputs": [
        {
         "data": {
          "text/html": "<div>\n<style scoped>\n    .dataframe tbody tr th:only-of-type {\n        vertical-align: middle;\n    }\n\n    .dataframe tbody tr th {\n        vertical-align: top;\n    }\n\n    .dataframe thead th {\n        text-align: right;\n    }\n</style>\n<table border=\"1\" class=\"dataframe\">\n  <thead>\n    <tr style=\"text-align: right;\">\n      <th></th>\n      <th>category string</th>\n    </tr>\n    <tr>\n      <th>category_id</th>\n      <th></th>\n    </tr>\n  </thead>\n  <tbody>\n    <tr>\n      <th>1</th>\n      <td>person</td>\n    </tr>\n    <tr>\n      <th>2</th>\n      <td>bicycle</td>\n    </tr>\n    <tr>\n      <th>3</th>\n      <td>car</td>\n    </tr>\n    <tr>\n      <th>4</th>\n      <td>motorcycle</td>\n    </tr>\n    <tr>\n      <th>5</th>\n      <td>airplane</td>\n    </tr>\n    <tr>\n      <th>...</th>\n      <td>...</td>\n    </tr>\n    <tr>\n      <th>86</th>\n      <td>vase</td>\n    </tr>\n    <tr>\n      <th>87</th>\n      <td>scissors</td>\n    </tr>\n    <tr>\n      <th>88</th>\n      <td>teddy bear</td>\n    </tr>\n    <tr>\n      <th>89</th>\n      <td>hair drier</td>\n    </tr>\n    <tr>\n      <th>90</th>\n      <td>toothbrush</td>\n    </tr>\n  </tbody>\n</table>\n<p>80 rows × 1 columns</p>\n</div>",
          "text/plain": "            category string\ncategory_id                \n1                    person\n2                   bicycle\n3                       car\n4                motorcycle\n5                  airplane\n...                     ...\n86                     vase\n87                 scissors\n88               teddy bear\n89               hair drier\n90               toothbrush\n\n[80 rows x 1 columns]"
         },
         "metadata": {},
         "output_type": "display_data"
        }
       ]
      }
     },
     "7ce4a1cd59fc43ef918afdbab535f086": {
      "model_module": "@jupyter-widgets/base",
      "model_module_version": "2.0.0",
      "model_name": "LayoutModel",
      "state": {}
     },
     "7d72cbcc122343e686927d09922b941d": {
      "model_module": "@jupyter-widgets/controls",
      "model_module_version": "2.0.0",
      "model_name": "HTMLStyleModel",
      "state": {
       "description_width": "",
       "font_size": null,
       "text_color": null
      }
     },
     "7d93632d7a9442b19669af4012c72ed2": {
      "model_module": "@jupyter-widgets/output",
      "model_module_version": "1.0.0",
      "model_name": "OutputModel",
      "state": {
       "layout": "IPY_MODEL_87c6f34844c14f9193debd3e77035b7d",
       "outputs": [
        {
         "data": {
          "text/html": "<div>\n<style scoped>\n    .dataframe tbody tr th:only-of-type {\n        vertical-align: middle;\n    }\n\n    .dataframe tbody tr th {\n        vertical-align: top;\n    }\n\n    .dataframe thead th {\n        text-align: right;\n    }\n</style>\n<table border=\"1\" class=\"dataframe\">\n  <thead>\n    <tr style=\"text-align: right;\">\n      <th></th>\n      <th>image_id</th>\n      <th>category_str</th>\n      <th>category_id</th>\n      <th>split</th>\n      <th>box_x_min</th>\n      <th>box_y_min</th>\n      <th>box_width</th>\n      <th>box_height</th>\n      <th>area</th>\n    </tr>\n    <tr>\n      <th>id</th>\n      <th></th>\n      <th></th>\n      <th></th>\n      <th></th>\n      <th></th>\n      <th></th>\n      <th></th>\n      <th></th>\n      <th></th>\n    </tr>\n  </thead>\n  <tbody>\n    <tr>\n      <th>460450</th>\n      <td>352582</td>\n      <td>person</td>\n      <td>1</td>\n      <td>valid</td>\n      <td>112.43</td>\n      <td>195.32</td>\n      <td>214.78</td>\n      <td>438.19</td>\n      <td>48685.67910</td>\n    </tr>\n    <tr>\n      <th>602093</th>\n      <td>352582</td>\n      <td>frisbee</td>\n      <td>34</td>\n      <td>valid</td>\n      <td>171.63</td>\n      <td>424.03</td>\n      <td>85.89</td>\n      <td>40.67</td>\n      <td>2605.72090</td>\n    </tr>\n    <tr>\n      <th>589740</th>\n      <td>113354</td>\n      <td>zebra</td>\n      <td>24</td>\n      <td>valid</td>\n      <td>366.49</td>\n      <td>174.59</td>\n      <td>115.67</td>\n      <td>142.71</td>\n      <td>5784.68620</td>\n    </tr>\n    <tr>\n      <th>467905</th>\n      <td>58393</td>\n      <td>person</td>\n      <td>1</td>\n      <td>valid</td>\n      <td>342.52</td>\n      <td>163.33</td>\n      <td>192.24</td>\n      <td>77.47</td>\n      <td>5408.64720</td>\n    </tr>\n    <tr>\n      <th>1710990</th>\n      <td>58393</td>\n      <td>person</td>\n      <td>1</td>\n      <td>valid</td>\n      <td>418.99</td>\n      <td>182.65</td>\n      <td>61.12</td>\n      <td>45.00</td>\n      <td>1792.80770</td>\n    </tr>\n    <tr>\n      <th>...</th>\n      <td>...</td>\n      <td>...</td>\n      <td>...</td>\n      <td>...</td>\n      <td>...</td>\n      <td>...</td>\n      <td>...</td>\n      <td>...</td>\n      <td>...</td>\n    </tr>\n    <tr>\n      <th>1101888</th>\n      <td>428280</td>\n      <td>laptop</td>\n      <td>73</td>\n      <td>valid</td>\n      <td>118.71</td>\n      <td>138.34</td>\n      <td>44.79</td>\n      <td>35.83</td>\n      <td>1405.98065</td>\n    </tr>\n    <tr>\n      <th>2190513</th>\n      <td>428280</td>\n      <td>chair</td>\n      <td>62</td>\n      <td>valid</td>\n      <td>203.58</td>\n      <td>179.65</td>\n      <td>105.27</td>\n      <td>139.55</td>\n      <td>7696.12525</td>\n    </tr>\n    <tr>\n      <th>331107</th>\n      <td>349837</td>\n      <td>refrigerator</td>\n      <td>82</td>\n      <td>valid</td>\n      <td>66.00</td>\n      <td>94.87</td>\n      <td>71.25</td>\n      <td>194.26</td>\n      <td>12029.44125</td>\n    </tr>\n    <tr>\n      <th>333394</th>\n      <td>349837</td>\n      <td>refrigerator</td>\n      <td>82</td>\n      <td>valid</td>\n      <td>234.44</td>\n      <td>29.87</td>\n      <td>113.49</td>\n      <td>298.65</td>\n      <td>30406.51295</td>\n    </tr>\n    <tr>\n      <th>333731</th>\n      <td>349837</td>\n      <td>refrigerator</td>\n      <td>82</td>\n      <td>valid</td>\n      <td>460.39</td>\n      <td>0.00</td>\n      <td>39.61</td>\n      <td>328.64</td>\n      <td>12492.52165</td>\n    </tr>\n  </tbody>\n</table>\n<p>18391 rows × 9 columns</p>\n</div>",
          "text/plain": "         image_id  category_str  category_id  split  box_x_min  box_y_min  \\\nid                                                                          \n460450     352582        person            1  valid     112.43     195.32   \n602093     352582       frisbee           34  valid     171.63     424.03   \n589740     113354         zebra           24  valid     366.49     174.59   \n467905      58393        person            1  valid     342.52     163.33   \n1710990     58393        person            1  valid     418.99     182.65   \n...           ...           ...          ...    ...        ...        ...   \n1101888    428280        laptop           73  valid     118.71     138.34   \n2190513    428280         chair           62  valid     203.58     179.65   \n331107     349837  refrigerator           82  valid      66.00      94.87   \n333394     349837  refrigerator           82  valid     234.44      29.87   \n333731     349837  refrigerator           82  valid     460.39       0.00   \n\n         box_width  box_height         area  \nid                                           \n460450      214.78      438.19  48685.67910  \n602093       85.89       40.67   2605.72090  \n589740      115.67      142.71   5784.68620  \n467905      192.24       77.47   5408.64720  \n1710990      61.12       45.00   1792.80770  \n...            ...         ...          ...  \n1101888      44.79       35.83   1405.98065  \n2190513     105.27      139.55   7696.12525  \n331107       71.25      194.26  12029.44125  \n333394      113.49      298.65  30406.51295  \n333731       39.61      328.64  12492.52165  \n\n[18391 rows x 9 columns]"
         },
         "metadata": {},
         "output_type": "display_data"
        }
       ]
      }
     },
     "7e25e47802d8474ca963faa66df162e6": {
      "model_module": "@jupyter-widgets/controls",
      "model_module_version": "2.0.0",
      "model_name": "HTMLModel",
      "state": {
       "layout": "IPY_MODEL_dac711e998d6487e8db47bb49ba810c0",
       "style": "IPY_MODEL_7d72cbcc122343e686927d09922b941d",
       "value": "<p><span style='white-space: pre-wrap; font-weight: bold'>Dataset object containing 5,076 images and 19,822 objects\nName :\n\tsmartcity_capta+coco\nImages root :\n\tnotebook_data</span></p>"
      }
     },
     "7ea38cc2303346d29dcafdaf0c4587db": {
      "model_module": "@jupyter-widgets/base",
      "model_module_version": "2.0.0",
      "model_name": "LayoutModel",
      "state": {}
     },
     "7fa275d5df164db3aa3f9a553ad8502b": {
      "model_module": "@jupyter-widgets/output",
      "model_module_version": "1.0.0",
      "model_name": "OutputModel",
      "state": {
       "layout": "IPY_MODEL_0f83b1c906904cb39135ed23ae9983fa",
       "outputs": [
        {
         "data": {
          "text/html": "<div>\n<style scoped>\n    .dataframe tbody tr th:only-of-type {\n        vertical-align: middle;\n    }\n\n    .dataframe tbody tr th {\n        vertical-align: top;\n    }\n\n    .dataframe thead th {\n        text-align: right;\n    }\n</style>\n<table border=\"1\" class=\"dataframe\">\n  <thead>\n    <tr style=\"text-align: right;\">\n      <th></th>\n      <th>image_id</th>\n      <th>category_str</th>\n      <th>category_id</th>\n      <th>split</th>\n      <th>box_x_min</th>\n      <th>box_y_min</th>\n      <th>box_width</th>\n      <th>box_height</th>\n      <th>area</th>\n    </tr>\n    <tr>\n      <th>id</th>\n      <th></th>\n      <th></th>\n      <th></th>\n      <th></th>\n      <th></th>\n      <th></th>\n      <th></th>\n      <th></th>\n      <th></th>\n    </tr>\n  </thead>\n  <tbody>\n    <tr>\n      <th>357584</th>\n      <td>310072</td>\n      <td>vehicle</td>\n      <td>1</td>\n      <td>valid</td>\n      <td>223.85</td>\n      <td>0.00</td>\n      <td>258.83</td>\n      <td>69.08</td>\n      <td>14718.47935</td>\n    </tr>\n    <tr>\n      <th>358258</th>\n      <td>310072</td>\n      <td>vehicle</td>\n      <td>1</td>\n      <td>valid</td>\n      <td>0.00</td>\n      <td>1.94</td>\n      <td>135.99</td>\n      <td>66.27</td>\n      <td>6989.84750</td>\n    </tr>\n    <tr>\n      <th>363154</th>\n      <td>310072</td>\n      <td>vehicle</td>\n      <td>1</td>\n      <td>valid</td>\n      <td>170.89</td>\n      <td>0.00</td>\n      <td>71.06</td>\n      <td>36.96</td>\n      <td>1729.26630</td>\n    </tr>\n    <tr>\n      <th>1337431</th>\n      <td>310072</td>\n      <td>vehicle</td>\n      <td>1</td>\n      <td>valid</td>\n      <td>631.99</td>\n      <td>7.35</td>\n      <td>8.01</td>\n      <td>15.46</td>\n      <td>91.97330</td>\n    </tr>\n    <tr>\n      <th>1368385</th>\n      <td>310072</td>\n      <td>vehicle</td>\n      <td>1</td>\n      <td>valid</td>\n      <td>0.00</td>\n      <td>0.00</td>\n      <td>131.87</td>\n      <td>71.46</td>\n      <td>7558.39585</td>\n    </tr>\n    <tr>\n      <th>...</th>\n      <td>...</td>\n      <td>...</td>\n      <td>...</td>\n      <td>...</td>\n      <td>...</td>\n      <td>...</td>\n      <td>...</td>\n      <td>...</td>\n      <td>...</td>\n    </tr>\n    <tr>\n      <th>10068</th>\n      <td>189806</td>\n      <td>vehicle</td>\n      <td>1</td>\n      <td>valid</td>\n      <td>263.63</td>\n      <td>193.10</td>\n      <td>180.04</td>\n      <td>103.59</td>\n      <td>10866.03335</td>\n    </tr>\n    <tr>\n      <th>46540</th>\n      <td>189806</td>\n      <td>vehicle</td>\n      <td>1</td>\n      <td>valid</td>\n      <td>130.91</td>\n      <td>165.20</td>\n      <td>94.54</td>\n      <td>104.73</td>\n      <td>5204.68295</td>\n    </tr>\n    <tr>\n      <th>344755</th>\n      <td>363188</td>\n      <td>vehicle</td>\n      <td>1</td>\n      <td>valid</td>\n      <td>590.03</td>\n      <td>198.92</td>\n      <td>49.97</td>\n      <td>106.42</td>\n      <td>4084.58345</td>\n    </tr>\n    <tr>\n      <th>1420625</th>\n      <td>363188</td>\n      <td>vehicle</td>\n      <td>1</td>\n      <td>valid</td>\n      <td>221.41</td>\n      <td>199.76</td>\n      <td>91.36</td>\n      <td>63.64</td>\n      <td>865.42470</td>\n    </tr>\n    <tr>\n      <th>1192747</th>\n      <td>105455</td>\n      <td>vehicle</td>\n      <td>1</td>\n      <td>valid</td>\n      <td>333.56</td>\n      <td>517.21</td>\n      <td>17.43</td>\n      <td>14.58</td>\n      <td>182.21680</td>\n    </tr>\n  </tbody>\n</table>\n<p>5143 rows × 9 columns</p>\n</div>",
          "text/plain": "         image_id category_str  category_id  split  box_x_min  box_y_min  \\\nid                                                                         \n357584     310072      vehicle            1  valid     223.85       0.00   \n358258     310072      vehicle            1  valid       0.00       1.94   \n363154     310072      vehicle            1  valid     170.89       0.00   \n1337431    310072      vehicle            1  valid     631.99       7.35   \n1368385    310072      vehicle            1  valid       0.00       0.00   \n...           ...          ...          ...    ...        ...        ...   \n10068      189806      vehicle            1  valid     263.63     193.10   \n46540      189806      vehicle            1  valid     130.91     165.20   \n344755     363188      vehicle            1  valid     590.03     198.92   \n1420625    363188      vehicle            1  valid     221.41     199.76   \n1192747    105455      vehicle            1  valid     333.56     517.21   \n\n         box_width  box_height         area  \nid                                           \n357584      258.83       69.08  14718.47935  \n358258      135.99       66.27   6989.84750  \n363154       71.06       36.96   1729.26630  \n1337431       8.01       15.46     91.97330  \n1368385     131.87       71.46   7558.39585  \n...            ...         ...          ...  \n10068       180.04      103.59  10866.03335  \n46540        94.54      104.73   5204.68295  \n344755       49.97      106.42   4084.58345  \n1420625      91.36       63.64    865.42470  \n1192747      17.43       14.58    182.21680  \n\n[5143 rows x 9 columns]"
         },
         "metadata": {},
         "output_type": "display_data"
        }
       ]
      }
     },
     "804aa7ff9b67495599d73b6e14784430": {
      "model_module": "@jupyter-widgets/base",
      "model_module_version": "2.0.0",
      "model_name": "LayoutModel",
      "state": {}
     },
     "807fd5002c664dbc8cb7871f5c0b6c60": {
      "model_module": "@jupyter-widgets/base",
      "model_module_version": "2.0.0",
      "model_name": "LayoutModel",
      "state": {}
     },
     "81a7d188e1e245a5ad69ac999b78a84d": {
      "model_module": "@jupyter-widgets/controls",
      "model_module_version": "2.0.0",
      "model_name": "VBoxModel",
      "state": {
       "children": [
        "IPY_MODEL_f13f64836c2041b2b68511545a916b59",
        "IPY_MODEL_cfcd6ea1fc124ddb9c7419fdb1e18c9e"
       ],
       "layout": "IPY_MODEL_b2814f143f0d47e2844ca6f2b94aa4d6"
      }
     },
     "8244e9e4890143389d55a26624f309a1": {
      "model_module": "@jupyter-widgets/controls",
      "model_module_version": "2.0.0",
      "model_name": "HTMLStyleModel",
      "state": {
       "description_width": "",
       "font_size": null,
       "text_color": null
      }
     },
     "83e203111fcb4b0a979bcc78b3a43c5a": {
      "model_module": "@jupyter-widgets/output",
      "model_module_version": "1.0.0",
      "model_name": "OutputModel",
      "state": {
       "layout": "IPY_MODEL_8c8805e6a0f441319dc8e8c3906f2349",
       "outputs": [
        {
         "data": {
          "text/html": "<div>\n<style scoped>\n    .dataframe tbody tr th:only-of-type {\n        vertical-align: middle;\n    }\n\n    .dataframe tbody tr th {\n        vertical-align: top;\n    }\n\n    .dataframe thead th {\n        text-align: right;\n    }\n</style>\n<table border=\"1\" class=\"dataframe\">\n  <thead>\n    <tr style=\"text-align: right;\">\n      <th></th>\n      <th>width</th>\n      <th>height</th>\n      <th>relative_path</th>\n      <th>type</th>\n      <th>split</th>\n    </tr>\n    <tr>\n      <th>id</th>\n      <th></th>\n      <th></th>\n      <th></th>\n      <th></th>\n      <th></th>\n    </tr>\n  </thead>\n  <tbody>\n    <tr>\n      <th>352582</th>\n      <td>425</td>\n      <td>640</td>\n      <td>Images/valid/000000352582.jpg</td>\n      <td>.jpg</td>\n      <td>valid</td>\n    </tr>\n    <tr>\n      <th>113354</th>\n      <td>640</td>\n      <td>480</td>\n      <td>Images/valid/000000113354.jpg</td>\n      <td>.jpg</td>\n      <td>valid</td>\n    </tr>\n    <tr>\n      <th>58393</th>\n      <td>640</td>\n      <td>486</td>\n      <td>Images/valid/000000058393.jpg</td>\n      <td>.jpg</td>\n      <td>valid</td>\n    </tr>\n    <tr>\n      <th>147729</th>\n      <td>500</td>\n      <td>375</td>\n      <td>Images/valid/000000147729.jpg</td>\n      <td>.jpg</td>\n      <td>valid</td>\n    </tr>\n    <tr>\n      <th>310072</th>\n      <td>640</td>\n      <td>383</td>\n      <td>Images/valid/000000310072.jpg</td>\n      <td>.jpg</td>\n      <td>valid</td>\n    </tr>\n    <tr>\n      <th>...</th>\n      <td>...</td>\n      <td>...</td>\n      <td>...</td>\n      <td>...</td>\n      <td>...</td>\n    </tr>\n    <tr>\n      <th>311180</th>\n      <td>480</td>\n      <td>640</td>\n      <td>Images/valid/000000311180.jpg</td>\n      <td>.jpg</td>\n      <td>valid</td>\n    </tr>\n    <tr>\n      <th>302030</th>\n      <td>640</td>\n      <td>359</td>\n      <td>Images/valid/000000302030.jpg</td>\n      <td>.jpg</td>\n      <td>valid</td>\n    </tr>\n    <tr>\n      <th>105455</th>\n      <td>427</td>\n      <td>640</td>\n      <td>Images/valid/000000105455.jpg</td>\n      <td>.jpg</td>\n      <td>valid</td>\n    </tr>\n    <tr>\n      <th>428280</th>\n      <td>500</td>\n      <td>333</td>\n      <td>Images/valid/000000428280.jpg</td>\n      <td>.jpg</td>\n      <td>valid</td>\n    </tr>\n    <tr>\n      <th>349837</th>\n      <td>500</td>\n      <td>333</td>\n      <td>Images/valid/000000349837.jpg</td>\n      <td>.jpg</td>\n      <td>valid</td>\n    </tr>\n  </tbody>\n</table>\n<p>4722 rows × 5 columns</p>\n</div>",
          "text/plain": "        width  height                  relative_path  type  split\nid                                                               \n352582    425     640  Images/valid/000000352582.jpg  .jpg  valid\n113354    640     480  Images/valid/000000113354.jpg  .jpg  valid\n58393     640     486  Images/valid/000000058393.jpg  .jpg  valid\n147729    500     375  Images/valid/000000147729.jpg  .jpg  valid\n310072    640     383  Images/valid/000000310072.jpg  .jpg  valid\n...       ...     ...                            ...   ...    ...\n311180    480     640  Images/valid/000000311180.jpg  .jpg  valid\n302030    640     359  Images/valid/000000302030.jpg  .jpg  valid\n105455    427     640  Images/valid/000000105455.jpg  .jpg  valid\n428280    500     333  Images/valid/000000428280.jpg  .jpg  valid\n349837    500     333  Images/valid/000000349837.jpg  .jpg  valid\n\n[4722 rows x 5 columns]"
         },
         "metadata": {},
         "output_type": "display_data"
        }
       ]
      }
     },
     "83e29b501c044da3b5be5a08ea147d34": {
      "model_module": "@jupyter-widgets/base",
      "model_module_version": "2.0.0",
      "model_name": "LayoutModel",
      "state": {}
     },
     "85d2ea2bad2f4a7db8cad0a38b39482b": {
      "model_module": "@jupyter-widgets/controls",
      "model_module_version": "2.0.0",
      "model_name": "HTMLModel",
      "state": {
       "layout": "IPY_MODEL_b8efc68be03649a0b3adffb9ecf00404",
       "style": "IPY_MODEL_532b8e439d5c4ed186408450a1986139",
       "value": "<p><span style='white-space: pre-wrap; font-weight: bold'>Dataset object containing 2,500 images and 18,670 objects\nName :\n\tcoco\nImages root :\n\tnotebook_data</span></p>"
      }
     },
     "867bb3c5528c4a8cb46413d99d287c03": {
      "model_module": "@jupyter-widgets/controls",
      "model_module_version": "2.0.0",
      "model_name": "HTMLStyleModel",
      "state": {
       "description_width": "",
       "font_size": null,
       "text_color": null
      }
     },
     "870237b6891d4247bffa5f8263e685d4": {
      "model_module": "@jupyter-widgets/base",
      "model_module_version": "2.0.0",
      "model_name": "LayoutModel",
      "state": {}
     },
     "87a48cdb0ca64a55a39ae698e23cd06f": {
      "model_module": "@jupyter-widgets/base",
      "model_module_version": "2.0.0",
      "model_name": "LayoutModel",
      "state": {}
     },
     "87b279cadf97461ca3f14ca371df9b8e": {
      "model_module": "@jupyter-widgets/output",
      "model_module_version": "1.0.0",
      "model_name": "OutputModel",
      "state": {
       "layout": "IPY_MODEL_7ce4a1cd59fc43ef918afdbab535f086",
       "outputs": [
        {
         "data": {
          "text/html": "<div>\n<style scoped>\n    .dataframe tbody tr th:only-of-type {\n        vertical-align: middle;\n    }\n\n    .dataframe tbody tr th {\n        vertical-align: top;\n    }\n\n    .dataframe thead th {\n        text-align: right;\n    }\n</style>\n<table border=\"1\" class=\"dataframe\">\n  <thead>\n    <tr style=\"text-align: right;\">\n      <th></th>\n      <th>width</th>\n      <th>height</th>\n      <th>relative_path</th>\n      <th>type</th>\n      <th>split</th>\n    </tr>\n    <tr>\n      <th>id</th>\n      <th></th>\n      <th></th>\n      <th></th>\n      <th></th>\n      <th></th>\n    </tr>\n  </thead>\n  <tbody>\n    <tr>\n      <th>0</th>\n      <td>640</td>\n      <td>486</td>\n      <td>Images/valid/000000058393.jpg</td>\n      <td>.jpg</td>\n      <td>valid</td>\n    </tr>\n    <tr>\n      <th>1</th>\n      <td>425</td>\n      <td>640</td>\n      <td>Images/valid/000000352582.jpg</td>\n      <td>.jpg</td>\n      <td>valid</td>\n    </tr>\n    <tr>\n      <th>2</th>\n      <td>640</td>\n      <td>480</td>\n      <td>Images/valid/000000113354.jpg</td>\n      <td>.jpg</td>\n      <td>valid</td>\n    </tr>\n    <tr>\n      <th>3</th>\n      <td>500</td>\n      <td>375</td>\n      <td>Images/valid/000000147729.jpg</td>\n      <td>.jpg</td>\n      <td>valid</td>\n    </tr>\n    <tr>\n      <th>4</th>\n      <td>640</td>\n      <td>383</td>\n      <td>Images/valid/000000310072.jpg</td>\n      <td>.jpg</td>\n      <td>valid</td>\n    </tr>\n    <tr>\n      <th>...</th>\n      <td>...</td>\n      <td>...</td>\n      <td>...</td>\n      <td>...</td>\n      <td>...</td>\n    </tr>\n    <tr>\n      <th>4995</th>\n      <td>480</td>\n      <td>640</td>\n      <td>Images/valid/000000311180.jpg</td>\n      <td>.jpg</td>\n      <td>valid</td>\n    </tr>\n    <tr>\n      <th>4996</th>\n      <td>640</td>\n      <td>359</td>\n      <td>Images/valid/000000302030.jpg</td>\n      <td>.jpg</td>\n      <td>valid</td>\n    </tr>\n    <tr>\n      <th>4997</th>\n      <td>427</td>\n      <td>640</td>\n      <td>Images/valid/000000105455.jpg</td>\n      <td>.jpg</td>\n      <td>valid</td>\n    </tr>\n    <tr>\n      <th>4998</th>\n      <td>500</td>\n      <td>333</td>\n      <td>Images/valid/000000428280.jpg</td>\n      <td>.jpg</td>\n      <td>valid</td>\n    </tr>\n    <tr>\n      <th>4999</th>\n      <td>500</td>\n      <td>333</td>\n      <td>Images/valid/000000349837.jpg</td>\n      <td>.jpg</td>\n      <td>valid</td>\n    </tr>\n  </tbody>\n</table>\n<p>5000 rows × 5 columns</p>\n</div>",
          "text/plain": "      width  height                  relative_path  type  split\nid                                                             \n0       640     486  Images/valid/000000058393.jpg  .jpg  valid\n1       425     640  Images/valid/000000352582.jpg  .jpg  valid\n2       640     480  Images/valid/000000113354.jpg  .jpg  valid\n3       500     375  Images/valid/000000147729.jpg  .jpg  valid\n4       640     383  Images/valid/000000310072.jpg  .jpg  valid\n...     ...     ...                            ...   ...    ...\n4995    480     640  Images/valid/000000311180.jpg  .jpg  valid\n4996    640     359  Images/valid/000000302030.jpg  .jpg  valid\n4997    427     640  Images/valid/000000105455.jpg  .jpg  valid\n4998    500     333  Images/valid/000000428280.jpg  .jpg  valid\n4999    500     333  Images/valid/000000349837.jpg  .jpg  valid\n\n[5000 rows x 5 columns]"
         },
         "metadata": {},
         "output_type": "display_data"
        }
       ]
      }
     },
     "87c6f34844c14f9193debd3e77035b7d": {
      "model_module": "@jupyter-widgets/base",
      "model_module_version": "2.0.0",
      "model_name": "LayoutModel",
      "state": {}
     },
     "881fd8c193694b139321ae4143205526": {
      "model_module": "@jupyter-widgets/base",
      "model_module_version": "2.0.0",
      "model_name": "LayoutModel",
      "state": {}
     },
     "8866070e785345b5a49551110ed6f1c4": {
      "model_module": "@jupyter-widgets/output",
      "model_module_version": "1.0.0",
      "model_name": "OutputModel",
      "state": {
       "layout": "IPY_MODEL_fc7764aa992e48b38aecdce96132b7a1",
       "outputs": [
        {
         "data": {
          "text/html": "<div>\n<style scoped>\n    .dataframe tbody tr th:only-of-type {\n        vertical-align: middle;\n    }\n\n    .dataframe tbody tr th {\n        vertical-align: top;\n    }\n\n    .dataframe thead th {\n        text-align: right;\n    }\n</style>\n<table border=\"1\" class=\"dataframe\">\n  <thead>\n    <tr style=\"text-align: right;\">\n      <th></th>\n      <th>width</th>\n      <th>height</th>\n      <th>relative_path</th>\n      <th>type</th>\n      <th>split</th>\n    </tr>\n    <tr>\n      <th>id</th>\n      <th></th>\n      <th></th>\n      <th></th>\n      <th></th>\n      <th></th>\n    </tr>\n  </thead>\n  <tbody>\n    <tr>\n      <th>352582</th>\n      <td>425</td>\n      <td>640</td>\n      <td>Images/valid/000000352582.jpg</td>\n      <td>.jpg</td>\n      <td>valid</td>\n    </tr>\n    <tr>\n      <th>113354</th>\n      <td>640</td>\n      <td>480</td>\n      <td>Images/valid/000000113354.jpg</td>\n      <td>.jpg</td>\n      <td>valid</td>\n    </tr>\n  </tbody>\n</table>\n</div>",
          "text/plain": "        width  height                  relative_path  type  split\nid                                                               \n352582    425     640  Images/valid/000000352582.jpg  .jpg  valid\n113354    640     480  Images/valid/000000113354.jpg  .jpg  valid"
         },
         "metadata": {},
         "output_type": "display_data"
        }
       ]
      }
     },
     "8889cd6c0f9049e9be19071ff8afaba5": {
      "model_module": "@jupyter-widgets/base",
      "model_module_version": "2.0.0",
      "model_name": "LayoutModel",
      "state": {}
     },
     "888c450cc9534c22910a09e17a2c0e55": {
      "model_module": "@jupyter-widgets/base",
      "model_module_version": "2.0.0",
      "model_name": "LayoutModel",
      "state": {}
     },
     "8922eb8987db403a882288f07fc9b433": {
      "model_module": "@jupyter-widgets/base",
      "model_module_version": "2.0.0",
      "model_name": "LayoutModel",
      "state": {}
     },
     "8973924984f448c58cbcd96c50034a4e": {
      "model_module": "@jupyter-widgets/base",
      "model_module_version": "2.0.0",
      "model_name": "LayoutModel",
      "state": {}
     },
     "8aa03c053dd8485397c26faee0ac7bd5": {
      "model_module": "@jupyter-widgets/output",
      "model_module_version": "1.0.0",
      "model_name": "OutputModel",
      "state": {
       "layout": "IPY_MODEL_53767ed0b7284f4ea7dc2cdf4ce80ec3",
       "outputs": [
        {
         "data": {
          "text/html": "<div>\n<style scoped>\n    .dataframe tbody tr th:only-of-type {\n        vertical-align: middle;\n    }\n\n    .dataframe tbody tr th {\n        vertical-align: top;\n    }\n\n    .dataframe thead th {\n        text-align: right;\n    }\n</style>\n<table border=\"1\" class=\"dataframe\">\n  <thead>\n    <tr style=\"text-align: right;\">\n      <th></th>\n      <th>image_id</th>\n      <th>category_str</th>\n      <th>category_id</th>\n      <th>split</th>\n      <th>box_x_min</th>\n      <th>box_y_min</th>\n      <th>box_width</th>\n      <th>box_height</th>\n      <th>area</th>\n    </tr>\n    <tr>\n      <th>id</th>\n      <th></th>\n      <th></th>\n      <th></th>\n      <th></th>\n      <th></th>\n      <th></th>\n      <th></th>\n      <th></th>\n      <th></th>\n    </tr>\n  </thead>\n  <tbody>\n    <tr>\n      <th>460450</th>\n      <td>352582</td>\n      <td>person</td>\n      <td>1</td>\n      <td>valid</td>\n      <td>112.43</td>\n      <td>195.32</td>\n      <td>214.78</td>\n      <td>438.19</td>\n      <td>48685.67910</td>\n    </tr>\n    <tr>\n      <th>535917</th>\n      <td>352582</td>\n      <td>person</td>\n      <td>1</td>\n      <td>valid</td>\n      <td>0.00</td>\n      <td>256.00</td>\n      <td>80.54</td>\n      <td>376.81</td>\n      <td>22650.73800</td>\n    </tr>\n    <tr>\n      <th>602093</th>\n      <td>352582</td>\n      <td>frisbee</td>\n      <td>34</td>\n      <td>valid</td>\n      <td>171.63</td>\n      <td>424.03</td>\n      <td>85.89</td>\n      <td>40.67</td>\n      <td>2605.72090</td>\n    </tr>\n    <tr>\n      <th>467905</th>\n      <td>58393</td>\n      <td>person</td>\n      <td>1</td>\n      <td>valid</td>\n      <td>342.52</td>\n      <td>163.33</td>\n      <td>192.24</td>\n      <td>77.47</td>\n      <td>5408.64720</td>\n    </tr>\n    <tr>\n      <th>576900</th>\n      <td>58393</td>\n      <td>bench</td>\n      <td>15</td>\n      <td>valid</td>\n      <td>44.78</td>\n      <td>242.27</td>\n      <td>547.16</td>\n      <td>224.98</td>\n      <td>82291.54995</td>\n    </tr>\n    <tr>\n      <th>...</th>\n      <td>...</td>\n      <td>...</td>\n      <td>...</td>\n      <td>...</td>\n      <td>...</td>\n      <td>...</td>\n      <td>...</td>\n      <td>...</td>\n      <td>...</td>\n    </tr>\n    <tr>\n      <th>331107</th>\n      <td>349837</td>\n      <td>refrigerator</td>\n      <td>82</td>\n      <td>valid</td>\n      <td>66.00</td>\n      <td>94.87</td>\n      <td>71.25</td>\n      <td>194.26</td>\n      <td>12029.44125</td>\n    </tr>\n    <tr>\n      <th>332788</th>\n      <td>349837</td>\n      <td>refrigerator</td>\n      <td>82</td>\n      <td>valid</td>\n      <td>138.00</td>\n      <td>62.63</td>\n      <td>98.25</td>\n      <td>252.00</td>\n      <td>23037.46875</td>\n    </tr>\n    <tr>\n      <th>333394</th>\n      <td>349837</td>\n      <td>refrigerator</td>\n      <td>82</td>\n      <td>valid</td>\n      <td>234.44</td>\n      <td>29.87</td>\n      <td>113.49</td>\n      <td>298.65</td>\n      <td>30406.51295</td>\n    </tr>\n    <tr>\n      <th>333685</th>\n      <td>349837</td>\n      <td>refrigerator</td>\n      <td>82</td>\n      <td>valid</td>\n      <td>335.04</td>\n      <td>10.48</td>\n      <td>125.17</td>\n      <td>318.78</td>\n      <td>37187.97840</td>\n    </tr>\n    <tr>\n      <th>333731</th>\n      <td>349837</td>\n      <td>refrigerator</td>\n      <td>82</td>\n      <td>valid</td>\n      <td>460.39</td>\n      <td>0.00</td>\n      <td>39.61</td>\n      <td>328.64</td>\n      <td>12492.52165</td>\n    </tr>\n  </tbody>\n</table>\n<p>36781 rows × 9 columns</p>\n</div>",
          "text/plain": "        image_id  category_str  category_id  split  box_x_min  box_y_min  \\\nid                                                                         \n460450    352582        person            1  valid     112.43     195.32   \n535917    352582        person            1  valid       0.00     256.00   \n602093    352582       frisbee           34  valid     171.63     424.03   \n467905     58393        person            1  valid     342.52     163.33   \n576900     58393         bench           15  valid      44.78     242.27   \n...          ...           ...          ...    ...        ...        ...   \n331107    349837  refrigerator           82  valid      66.00      94.87   \n332788    349837  refrigerator           82  valid     138.00      62.63   \n333394    349837  refrigerator           82  valid     234.44      29.87   \n333685    349837  refrigerator           82  valid     335.04      10.48   \n333731    349837  refrigerator           82  valid     460.39       0.00   \n\n        box_width  box_height         area  \nid                                          \n460450     214.78      438.19  48685.67910  \n535917      80.54      376.81  22650.73800  \n602093      85.89       40.67   2605.72090  \n467905     192.24       77.47   5408.64720  \n576900     547.16      224.98  82291.54995  \n...           ...         ...          ...  \n331107      71.25      194.26  12029.44125  \n332788      98.25      252.00  23037.46875  \n333394     113.49      298.65  30406.51295  \n333685     125.17      318.78  37187.97840  \n333731      39.61      328.64  12492.52165  \n\n[36781 rows x 9 columns]"
         },
         "metadata": {},
         "output_type": "display_data"
        }
       ]
      }
     },
     "8acdba519fba415ca03e6f98ba8e74da": {
      "model_module": "@jupyter-widgets/controls",
      "model_module_version": "2.0.0",
      "model_name": "HTMLStyleModel",
      "state": {
       "description_width": "",
       "font_size": null,
       "text_color": null
      }
     },
     "8b16b8c0e8934287a02f8dede6779d8e": {
      "model_module": "@jupyter-widgets/output",
      "model_module_version": "1.0.0",
      "model_name": "OutputModel",
      "state": {
       "layout": "IPY_MODEL_f83cc91c00ed4d3ebcfa0cc56ad1aa2c",
       "outputs": [
        {
         "data": {
          "text/html": "<div>\n<style scoped>\n    .dataframe tbody tr th:only-of-type {\n        vertical-align: middle;\n    }\n\n    .dataframe tbody tr th {\n        vertical-align: top;\n    }\n\n    .dataframe thead th {\n        text-align: right;\n    }\n</style>\n<table border=\"1\" class=\"dataframe\">\n  <thead>\n    <tr style=\"text-align: right;\">\n      <th></th>\n      <th>width</th>\n      <th>height</th>\n      <th>relative_path</th>\n      <th>type</th>\n      <th>split</th>\n    </tr>\n    <tr>\n      <th>id</th>\n      <th></th>\n      <th></th>\n      <th></th>\n      <th></th>\n      <th></th>\n    </tr>\n  </thead>\n  <tbody>\n    <tr>\n      <th>0</th>\n      <td>640</td>\n      <td>426</td>\n      <td>Images/valid/000000000139.jpg</td>\n      <td>.jpg</td>\n      <td>valid</td>\n    </tr>\n    <tr>\n      <th>1</th>\n      <td>586</td>\n      <td>640</td>\n      <td>Images/valid/000000000285.jpg</td>\n      <td>.jpg</td>\n      <td>valid</td>\n    </tr>\n    <tr>\n      <th>2</th>\n      <td>640</td>\n      <td>483</td>\n      <td>Images/valid/000000000632.jpg</td>\n      <td>.jpg</td>\n      <td>valid</td>\n    </tr>\n    <tr>\n      <th>3</th>\n      <td>375</td>\n      <td>500</td>\n      <td>Images/valid/000000000724.jpg</td>\n      <td>.jpg</td>\n      <td>valid</td>\n    </tr>\n    <tr>\n      <th>4</th>\n      <td>428</td>\n      <td>640</td>\n      <td>Images/valid/000000000776.jpg</td>\n      <td>.jpg</td>\n      <td>valid</td>\n    </tr>\n    <tr>\n      <th>...</th>\n      <td>...</td>\n      <td>...</td>\n      <td>...</td>\n      <td>...</td>\n      <td>...</td>\n    </tr>\n    <tr>\n      <th>4995</th>\n      <td>640</td>\n      <td>354</td>\n      <td>Images/valid/000000581317.jpg</td>\n      <td>.jpg</td>\n      <td>valid</td>\n    </tr>\n    <tr>\n      <th>4996</th>\n      <td>612</td>\n      <td>612</td>\n      <td>Images/valid/000000581357.jpg</td>\n      <td>.jpg</td>\n      <td>valid</td>\n    </tr>\n    <tr>\n      <th>4997</th>\n      <td>640</td>\n      <td>427</td>\n      <td>Images/valid/000000581482.jpg</td>\n      <td>.jpg</td>\n      <td>valid</td>\n    </tr>\n    <tr>\n      <th>4998</th>\n      <td>478</td>\n      <td>640</td>\n      <td>Images/valid/000000581615.jpg</td>\n      <td>.jpg</td>\n      <td>valid</td>\n    </tr>\n    <tr>\n      <th>4999</th>\n      <td>640</td>\n      <td>478</td>\n      <td>Images/valid/000000581781.jpg</td>\n      <td>.jpg</td>\n      <td>valid</td>\n    </tr>\n  </tbody>\n</table>\n<p>5000 rows × 5 columns</p>\n</div>",
          "text/plain": "      width  height                  relative_path  type  split\nid                                                             \n0       640     426  Images/valid/000000000139.jpg  .jpg  valid\n1       586     640  Images/valid/000000000285.jpg  .jpg  valid\n2       640     483  Images/valid/000000000632.jpg  .jpg  valid\n3       375     500  Images/valid/000000000724.jpg  .jpg  valid\n4       428     640  Images/valid/000000000776.jpg  .jpg  valid\n...     ...     ...                            ...   ...    ...\n4995    640     354  Images/valid/000000581317.jpg  .jpg  valid\n4996    612     612  Images/valid/000000581357.jpg  .jpg  valid\n4997    640     427  Images/valid/000000581482.jpg  .jpg  valid\n4998    478     640  Images/valid/000000581615.jpg  .jpg  valid\n4999    640     478  Images/valid/000000581781.jpg  .jpg  valid\n\n[5000 rows x 5 columns]"
         },
         "metadata": {},
         "output_type": "display_data"
        }
       ]
      }
     },
     "8b6c8cf1908b4457ad894110df2ccdb8": {
      "model_module": "@jupyter-widgets/base",
      "model_module_version": "2.0.0",
      "model_name": "LayoutModel",
      "state": {}
     },
     "8bbc7a41f9f841f2a8f6a01a98301a2d": {
      "model_module": "@jupyter-widgets/output",
      "model_module_version": "1.0.0",
      "model_name": "OutputModel",
      "state": {
       "layout": "IPY_MODEL_0f17208476314df2b2fa23c772f6b494",
       "outputs": [
        {
         "data": {
          "text/html": "<div>\n<style scoped>\n    .dataframe tbody tr th:only-of-type {\n        vertical-align: middle;\n    }\n\n    .dataframe tbody tr th {\n        vertical-align: top;\n    }\n\n    .dataframe thead th {\n        text-align: right;\n    }\n</style>\n<table border=\"1\" class=\"dataframe\">\n  <thead>\n    <tr style=\"text-align: right;\">\n      <th></th>\n      <th>image_id</th>\n      <th>category_str</th>\n      <th>category_id</th>\n      <th>split</th>\n      <th>box_x_min</th>\n      <th>box_y_min</th>\n      <th>box_width</th>\n      <th>box_height</th>\n      <th>area</th>\n    </tr>\n    <tr>\n      <th>id</th>\n      <th></th>\n      <th></th>\n      <th></th>\n      <th></th>\n      <th></th>\n      <th></th>\n      <th></th>\n      <th></th>\n      <th></th>\n    </tr>\n  </thead>\n  <tbody>\n    <tr>\n      <th>357584</th>\n      <td>310072</td>\n      <td>vehicle</td>\n      <td>1</td>\n      <td>valid</td>\n      <td>223.85</td>\n      <td>0.00</td>\n      <td>258.83</td>\n      <td>69.08</td>\n      <td>14718.47935</td>\n    </tr>\n    <tr>\n      <th>358258</th>\n      <td>310072</td>\n      <td>vehicle</td>\n      <td>1</td>\n      <td>valid</td>\n      <td>0.00</td>\n      <td>1.94</td>\n      <td>135.99</td>\n      <td>66.27</td>\n      <td>6989.84750</td>\n    </tr>\n    <tr>\n      <th>363154</th>\n      <td>310072</td>\n      <td>vehicle</td>\n      <td>1</td>\n      <td>valid</td>\n      <td>170.89</td>\n      <td>0.00</td>\n      <td>71.06</td>\n      <td>36.96</td>\n      <td>1729.26630</td>\n    </tr>\n    <tr>\n      <th>1337431</th>\n      <td>310072</td>\n      <td>vehicle</td>\n      <td>1</td>\n      <td>valid</td>\n      <td>631.99</td>\n      <td>7.35</td>\n      <td>8.01</td>\n      <td>15.46</td>\n      <td>91.97330</td>\n    </tr>\n    <tr>\n      <th>1368385</th>\n      <td>310072</td>\n      <td>vehicle</td>\n      <td>1</td>\n      <td>valid</td>\n      <td>0.00</td>\n      <td>0.00</td>\n      <td>131.87</td>\n      <td>71.46</td>\n      <td>7558.39585</td>\n    </tr>\n    <tr>\n      <th>...</th>\n      <td>...</td>\n      <td>...</td>\n      <td>...</td>\n      <td>...</td>\n      <td>...</td>\n      <td>...</td>\n      <td>...</td>\n      <td>...</td>\n      <td>...</td>\n    </tr>\n    <tr>\n      <th>10068</th>\n      <td>189806</td>\n      <td>vehicle</td>\n      <td>1</td>\n      <td>valid</td>\n      <td>263.63</td>\n      <td>193.10</td>\n      <td>180.04</td>\n      <td>103.59</td>\n      <td>10866.03335</td>\n    </tr>\n    <tr>\n      <th>46540</th>\n      <td>189806</td>\n      <td>vehicle</td>\n      <td>1</td>\n      <td>valid</td>\n      <td>130.91</td>\n      <td>165.20</td>\n      <td>94.54</td>\n      <td>104.73</td>\n      <td>5204.68295</td>\n    </tr>\n    <tr>\n      <th>344755</th>\n      <td>363188</td>\n      <td>vehicle</td>\n      <td>1</td>\n      <td>valid</td>\n      <td>590.03</td>\n      <td>198.92</td>\n      <td>49.97</td>\n      <td>106.42</td>\n      <td>4084.58345</td>\n    </tr>\n    <tr>\n      <th>1420625</th>\n      <td>363188</td>\n      <td>vehicle</td>\n      <td>1</td>\n      <td>valid</td>\n      <td>221.41</td>\n      <td>199.76</td>\n      <td>91.36</td>\n      <td>63.64</td>\n      <td>865.42470</td>\n    </tr>\n    <tr>\n      <th>1192747</th>\n      <td>105455</td>\n      <td>vehicle</td>\n      <td>1</td>\n      <td>valid</td>\n      <td>333.56</td>\n      <td>517.21</td>\n      <td>17.43</td>\n      <td>14.58</td>\n      <td>182.21680</td>\n    </tr>\n  </tbody>\n</table>\n<p>5143 rows × 9 columns</p>\n</div>",
          "text/plain": "         image_id category_str  category_id  split  box_x_min  box_y_min  \\\nid                                                                         \n357584     310072      vehicle            1  valid     223.85       0.00   \n358258     310072      vehicle            1  valid       0.00       1.94   \n363154     310072      vehicle            1  valid     170.89       0.00   \n1337431    310072      vehicle            1  valid     631.99       7.35   \n1368385    310072      vehicle            1  valid       0.00       0.00   \n...           ...          ...          ...    ...        ...        ...   \n10068      189806      vehicle            1  valid     263.63     193.10   \n46540      189806      vehicle            1  valid     130.91     165.20   \n344755     363188      vehicle            1  valid     590.03     198.92   \n1420625    363188      vehicle            1  valid     221.41     199.76   \n1192747    105455      vehicle            1  valid     333.56     517.21   \n\n         box_width  box_height         area  \nid                                           \n357584      258.83       69.08  14718.47935  \n358258      135.99       66.27   6989.84750  \n363154       71.06       36.96   1729.26630  \n1337431       8.01       15.46     91.97330  \n1368385     131.87       71.46   7558.39585  \n...            ...         ...          ...  \n10068       180.04      103.59  10866.03335  \n46540        94.54      104.73   5204.68295  \n344755       49.97      106.42   4084.58345  \n1420625      91.36       63.64    865.42470  \n1192747      17.43       14.58    182.21680  \n\n[5143 rows x 9 columns]"
         },
         "metadata": {},
         "output_type": "display_data"
        }
       ]
      }
     },
     "8bc6ea76bfde4b87a33bd825ccecc77b": {
      "model_module": "@jupyter-widgets/base",
      "model_module_version": "2.0.0",
      "model_name": "LayoutModel",
      "state": {}
     },
     "8c32105a7b0846368814d96ae9039ddb": {
      "model_module": "@jupyter-widgets/output",
      "model_module_version": "1.0.0",
      "model_name": "OutputModel",
      "state": {
       "layout": "IPY_MODEL_2a791bf4d78f4c49aa450bb808d1d4b5",
       "outputs": [
        {
         "data": {
          "text/html": "<div>\n<style scoped>\n    .dataframe tbody tr th:only-of-type {\n        vertical-align: middle;\n    }\n\n    .dataframe tbody tr th {\n        vertical-align: top;\n    }\n\n    .dataframe thead th {\n        text-align: right;\n    }\n</style>\n<table border=\"1\" class=\"dataframe\">\n  <thead>\n    <tr style=\"text-align: right;\">\n      <th></th>\n      <th>category string</th>\n    </tr>\n    <tr>\n      <th>category_id</th>\n      <th></th>\n    </tr>\n  </thead>\n  <tbody>\n    <tr>\n      <th>1</th>\n      <td>person</td>\n    </tr>\n    <tr>\n      <th>2</th>\n      <td>bicycle</td>\n    </tr>\n    <tr>\n      <th>3</th>\n      <td>car</td>\n    </tr>\n    <tr>\n      <th>4</th>\n      <td>motorcycle</td>\n    </tr>\n    <tr>\n      <th>5</th>\n      <td>airplane</td>\n    </tr>\n    <tr>\n      <th>...</th>\n      <td>...</td>\n    </tr>\n    <tr>\n      <th>86</th>\n      <td>vase</td>\n    </tr>\n    <tr>\n      <th>87</th>\n      <td>scissors</td>\n    </tr>\n    <tr>\n      <th>88</th>\n      <td>teddy bear</td>\n    </tr>\n    <tr>\n      <th>89</th>\n      <td>hair drier</td>\n    </tr>\n    <tr>\n      <th>90</th>\n      <td>toothbrush</td>\n    </tr>\n  </tbody>\n</table>\n<p>80 rows × 1 columns</p>\n</div>",
          "text/plain": "            category string\ncategory_id                \n1                    person\n2                   bicycle\n3                       car\n4                motorcycle\n5                  airplane\n...                     ...\n86                     vase\n87                 scissors\n88               teddy bear\n89               hair drier\n90               toothbrush\n\n[80 rows x 1 columns]"
         },
         "metadata": {},
         "output_type": "display_data"
        }
       ]
      }
     },
     "8c86a55837f24dc4a0d97d718a9d24a1": {
      "model_module": "@jupyter-widgets/controls",
      "model_module_version": "2.0.0",
      "model_name": "VBoxModel",
      "state": {
       "children": [
        "IPY_MODEL_c2972b90c94b4f49ad06b3ebfa80f78e",
        "IPY_MODEL_2f2794c6b07c45c1a6ddafee759a526f"
       ],
       "layout": "IPY_MODEL_1680a5d5e44c4cf5af0bacc3a29d62c7"
      }
     },
     "8c8805e6a0f441319dc8e8c3906f2349": {
      "model_module": "@jupyter-widgets/base",
      "model_module_version": "2.0.0",
      "model_name": "LayoutModel",
      "state": {}
     },
     "8da4dc5f90684d39a3623070462c412d": {
      "model_module": "@jupyter-widgets/base",
      "model_module_version": "2.0.0",
      "model_name": "LayoutModel",
      "state": {}
     },
     "8dcdde34750d48e6bb1a27ce1967692e": {
      "model_module": "@jupyter-widgets/base",
      "model_module_version": "2.0.0",
      "model_name": "LayoutModel",
      "state": {}
     },
     "8f45928fe53e497f97878cfe7f645f61": {
      "model_module": "@jupyter-widgets/base",
      "model_module_version": "2.0.0",
      "model_name": "LayoutModel",
      "state": {}
     },
     "906e0da2a30a4c56b6ee41b001a230db": {
      "model_module": "@jupyter-widgets/controls",
      "model_module_version": "2.0.0",
      "model_name": "TabModel",
      "state": {
       "children": [
        "IPY_MODEL_74323b14a37d444ba817ba62f83ca5a8",
        "IPY_MODEL_45ec8003721e4cf1b4a58d20528ef42e",
        "IPY_MODEL_56186a46f31b4463b97bfe5fc93e454b"
       ],
       "layout": "IPY_MODEL_017e290a4cf14e09bc26ff3104b7af76",
       "selected_index": 0,
       "titles": [
        "Images",
        "Annotations",
        "Label Map"
       ]
      }
     },
     "91db72919c7f449e93e2aea90950134e": {
      "model_module": "@jupyter-widgets/base",
      "model_module_version": "2.0.0",
      "model_name": "LayoutModel",
      "state": {}
     },
     "921b40e58c44473b8d5a67a34da00af5": {
      "model_module": "@jupyter-widgets/base",
      "model_module_version": "2.0.0",
      "model_name": "LayoutModel",
      "state": {}
     },
     "922e430cc62c4c54ad988163641fc111": {
      "model_module": "@jupyter-widgets/output",
      "model_module_version": "1.0.0",
      "model_name": "OutputModel",
      "state": {
       "layout": "IPY_MODEL_27386ac3f6d946fba2d17329720bf368",
       "outputs": [
        {
         "data": {
          "text/html": "<div>\n<style scoped>\n    .dataframe tbody tr th:only-of-type {\n        vertical-align: middle;\n    }\n\n    .dataframe tbody tr th {\n        vertical-align: top;\n    }\n\n    .dataframe thead th {\n        text-align: right;\n    }\n</style>\n<table border=\"1\" class=\"dataframe\">\n  <thead>\n    <tr style=\"text-align: right;\">\n      <th></th>\n      <th>image_id</th>\n      <th>category_str</th>\n      <th>category_id</th>\n      <th>split</th>\n      <th>box_x_min</th>\n      <th>box_y_min</th>\n      <th>box_width</th>\n      <th>box_height</th>\n      <th>area</th>\n    </tr>\n    <tr>\n      <th>id</th>\n      <th></th>\n      <th></th>\n      <th></th>\n      <th></th>\n      <th></th>\n      <th></th>\n      <th></th>\n      <th></th>\n      <th></th>\n    </tr>\n  </thead>\n  <tbody>\n    <tr>\n      <th>0</th>\n      <td>4999</td>\n      <td>refrigerator</td>\n      <td>82</td>\n      <td>valid</td>\n      <td>66.00</td>\n      <td>94.87</td>\n      <td>71.25</td>\n      <td>194.26</td>\n      <td>12029.44125</td>\n    </tr>\n    <tr>\n      <th>1</th>\n      <td>1</td>\n      <td>person</td>\n      <td>1</td>\n      <td>valid</td>\n      <td>112.43</td>\n      <td>195.32</td>\n      <td>214.78</td>\n      <td>438.19</td>\n      <td>48685.67910</td>\n    </tr>\n    <tr>\n      <th>2</th>\n      <td>1</td>\n      <td>person</td>\n      <td>1</td>\n      <td>valid</td>\n      <td>0.00</td>\n      <td>256.00</td>\n      <td>80.54</td>\n      <td>376.81</td>\n      <td>22650.73800</td>\n    </tr>\n    <tr>\n      <th>3</th>\n      <td>1</td>\n      <td>frisbee</td>\n      <td>34</td>\n      <td>valid</td>\n      <td>171.63</td>\n      <td>424.03</td>\n      <td>85.89</td>\n      <td>40.67</td>\n      <td>2605.72090</td>\n    </tr>\n    <tr>\n      <th>4</th>\n      <td>2</td>\n      <td>zebra</td>\n      <td>24</td>\n      <td>valid</td>\n      <td>260.99</td>\n      <td>158.88</td>\n      <td>141.52</td>\n      <td>194.11</td>\n      <td>9978.94125</td>\n    </tr>\n    <tr>\n      <th>...</th>\n      <td>...</td>\n      <td>...</td>\n      <td>...</td>\n      <td>...</td>\n      <td>...</td>\n      <td>...</td>\n      <td>...</td>\n      <td>...</td>\n      <td>...</td>\n    </tr>\n    <tr>\n      <th>36776</th>\n      <td>4999</td>\n      <td>refrigerator</td>\n      <td>82</td>\n      <td>valid</td>\n      <td>14.97</td>\n      <td>104.02</td>\n      <td>62.11</td>\n      <td>166.12</td>\n      <td>8470.60700</td>\n    </tr>\n    <tr>\n      <th>36777</th>\n      <td>4999</td>\n      <td>refrigerator</td>\n      <td>82</td>\n      <td>valid</td>\n      <td>138.00</td>\n      <td>62.63</td>\n      <td>98.25</td>\n      <td>252.00</td>\n      <td>23037.46875</td>\n    </tr>\n    <tr>\n      <th>36778</th>\n      <td>4999</td>\n      <td>refrigerator</td>\n      <td>82</td>\n      <td>valid</td>\n      <td>234.44</td>\n      <td>29.87</td>\n      <td>113.49</td>\n      <td>298.65</td>\n      <td>30406.51295</td>\n    </tr>\n    <tr>\n      <th>36779</th>\n      <td>4999</td>\n      <td>refrigerator</td>\n      <td>82</td>\n      <td>valid</td>\n      <td>335.04</td>\n      <td>10.48</td>\n      <td>125.17</td>\n      <td>318.78</td>\n      <td>37187.97840</td>\n    </tr>\n    <tr>\n      <th>36780</th>\n      <td>4999</td>\n      <td>refrigerator</td>\n      <td>82</td>\n      <td>valid</td>\n      <td>460.39</td>\n      <td>0.00</td>\n      <td>39.61</td>\n      <td>328.64</td>\n      <td>12492.52165</td>\n    </tr>\n  </tbody>\n</table>\n<p>36781 rows × 9 columns</p>\n</div>",
          "text/plain": "       image_id  category_str  category_id  split  box_x_min  box_y_min  \\\nid                                                                        \n0          4999  refrigerator           82  valid      66.00      94.87   \n1             1        person            1  valid     112.43     195.32   \n2             1        person            1  valid       0.00     256.00   \n3             1       frisbee           34  valid     171.63     424.03   \n4             2         zebra           24  valid     260.99     158.88   \n...         ...           ...          ...    ...        ...        ...   \n36776      4999  refrigerator           82  valid      14.97     104.02   \n36777      4999  refrigerator           82  valid     138.00      62.63   \n36778      4999  refrigerator           82  valid     234.44      29.87   \n36779      4999  refrigerator           82  valid     335.04      10.48   \n36780      4999  refrigerator           82  valid     460.39       0.00   \n\n       box_width  box_height         area  \nid                                         \n0          71.25      194.26  12029.44125  \n1         214.78      438.19  48685.67910  \n2          80.54      376.81  22650.73800  \n3          85.89       40.67   2605.72090  \n4         141.52      194.11   9978.94125  \n...          ...         ...          ...  \n36776      62.11      166.12   8470.60700  \n36777      98.25      252.00  23037.46875  \n36778     113.49      298.65  30406.51295  \n36779     125.17      318.78  37187.97840  \n36780      39.61      328.64  12492.52165  \n\n[36781 rows x 9 columns]"
         },
         "metadata": {},
         "output_type": "display_data"
        }
       ]
      }
     },
     "92d5116bf412467a838dd76d8df73614": {
      "model_module": "@jupyter-widgets/base",
      "model_module_version": "2.0.0",
      "model_name": "LayoutModel",
      "state": {}
     },
     "92f76b574def4824babeb0351b7c45f7": {
      "model_module": "@jupyter-widgets/base",
      "model_module_version": "2.0.0",
      "model_name": "LayoutModel",
      "state": {}
     },
     "93a2159dc1a9485ab2af1800f9c8e309": {
      "model_module": "@jupyter-widgets/controls",
      "model_module_version": "2.0.0",
      "model_name": "VBoxModel",
      "state": {
       "children": [
        "IPY_MODEL_7e25e47802d8474ca963faa66df162e6",
        "IPY_MODEL_1ef59c8060c844fe982a644c188e4f31"
       ],
       "layout": "IPY_MODEL_9e58315f930e4a6a9cd5ba303d306d9b"
      }
     },
     "93a3eb772998444fa5ec05bc76d9bcac": {
      "model_module": "@jupyter-widgets/output",
      "model_module_version": "1.0.0",
      "model_name": "OutputModel",
      "state": {
       "layout": "IPY_MODEL_57f1eb88d2634517a5c81043bd698835",
       "outputs": [
        {
         "data": {
          "text/html": "<div>\n<style scoped>\n    .dataframe tbody tr th:only-of-type {\n        vertical-align: middle;\n    }\n\n    .dataframe tbody tr th {\n        vertical-align: top;\n    }\n\n    .dataframe thead th {\n        text-align: right;\n    }\n</style>\n<table border=\"1\" class=\"dataframe\">\n  <thead>\n    <tr style=\"text-align: right;\">\n      <th></th>\n      <th>image_id</th>\n      <th>category_str</th>\n      <th>category_id</th>\n      <th>split</th>\n      <th>box_x_min</th>\n      <th>box_y_min</th>\n      <th>box_width</th>\n      <th>box_height</th>\n      <th>area</th>\n    </tr>\n    <tr>\n      <th>id</th>\n      <th></th>\n      <th></th>\n      <th></th>\n      <th></th>\n      <th></th>\n      <th></th>\n      <th></th>\n      <th></th>\n      <th></th>\n    </tr>\n  </thead>\n  <tbody>\n    <tr>\n      <th>460450</th>\n      <td>352582</td>\n      <td>person</td>\n      <td>1</td>\n      <td>valid</td>\n      <td>112.43</td>\n      <td>195.32</td>\n      <td>214.78</td>\n      <td>438.19</td>\n      <td>48685.67910</td>\n    </tr>\n    <tr>\n      <th>535917</th>\n      <td>352582</td>\n      <td>person</td>\n      <td>1</td>\n      <td>valid</td>\n      <td>0.00</td>\n      <td>256.00</td>\n      <td>80.54</td>\n      <td>376.81</td>\n      <td>22650.73800</td>\n    </tr>\n    <tr>\n      <th>602093</th>\n      <td>352582</td>\n      <td>frisbee</td>\n      <td>34</td>\n      <td>valid</td>\n      <td>171.63</td>\n      <td>424.03</td>\n      <td>85.89</td>\n      <td>40.67</td>\n      <td>2605.72090</td>\n    </tr>\n    <tr>\n      <th>589077</th>\n      <td>113354</td>\n      <td>zebra</td>\n      <td>24</td>\n      <td>valid</td>\n      <td>260.99</td>\n      <td>158.88</td>\n      <td>141.52</td>\n      <td>194.11</td>\n      <td>9978.94125</td>\n    </tr>\n    <tr>\n      <th>589740</th>\n      <td>113354</td>\n      <td>zebra</td>\n      <td>24</td>\n      <td>valid</td>\n      <td>366.49</td>\n      <td>174.59</td>\n      <td>115.67</td>\n      <td>142.71</td>\n      <td>5784.68620</td>\n    </tr>\n    <tr>\n      <th>...</th>\n      <td>...</td>\n      <td>...</td>\n      <td>...</td>\n      <td>...</td>\n      <td>...</td>\n      <td>...</td>\n      <td>...</td>\n      <td>...</td>\n      <td>...</td>\n    </tr>\n    <tr>\n      <th>331107</th>\n      <td>349837</td>\n      <td>refrigerator</td>\n      <td>82</td>\n      <td>valid</td>\n      <td>66.00</td>\n      <td>94.87</td>\n      <td>71.25</td>\n      <td>194.26</td>\n      <td>12029.44125</td>\n    </tr>\n    <tr>\n      <th>332788</th>\n      <td>349837</td>\n      <td>refrigerator</td>\n      <td>82</td>\n      <td>valid</td>\n      <td>138.00</td>\n      <td>62.63</td>\n      <td>98.25</td>\n      <td>252.00</td>\n      <td>23037.46875</td>\n    </tr>\n    <tr>\n      <th>333394</th>\n      <td>349837</td>\n      <td>refrigerator</td>\n      <td>82</td>\n      <td>valid</td>\n      <td>234.44</td>\n      <td>29.87</td>\n      <td>113.49</td>\n      <td>298.65</td>\n      <td>30406.51295</td>\n    </tr>\n    <tr>\n      <th>333685</th>\n      <td>349837</td>\n      <td>refrigerator</td>\n      <td>82</td>\n      <td>valid</td>\n      <td>335.04</td>\n      <td>10.48</td>\n      <td>125.17</td>\n      <td>318.78</td>\n      <td>37187.97840</td>\n    </tr>\n    <tr>\n      <th>333731</th>\n      <td>349837</td>\n      <td>refrigerator</td>\n      <td>82</td>\n      <td>valid</td>\n      <td>460.39</td>\n      <td>0.00</td>\n      <td>39.61</td>\n      <td>328.64</td>\n      <td>12492.52165</td>\n    </tr>\n  </tbody>\n</table>\n<p>36781 rows × 9 columns</p>\n</div>",
          "text/plain": "        image_id  category_str  category_id  split  box_x_min  box_y_min  \\\nid                                                                         \n460450    352582        person            1  valid     112.43     195.32   \n535917    352582        person            1  valid       0.00     256.00   \n602093    352582       frisbee           34  valid     171.63     424.03   \n589077    113354         zebra           24  valid     260.99     158.88   \n589740    113354         zebra           24  valid     366.49     174.59   \n...          ...           ...          ...    ...        ...        ...   \n331107    349837  refrigerator           82  valid      66.00      94.87   \n332788    349837  refrigerator           82  valid     138.00      62.63   \n333394    349837  refrigerator           82  valid     234.44      29.87   \n333685    349837  refrigerator           82  valid     335.04      10.48   \n333731    349837  refrigerator           82  valid     460.39       0.00   \n\n        box_width  box_height         area  \nid                                          \n460450     214.78      438.19  48685.67910  \n535917      80.54      376.81  22650.73800  \n602093      85.89       40.67   2605.72090  \n589077     141.52      194.11   9978.94125  \n589740     115.67      142.71   5784.68620  \n...           ...         ...          ...  \n331107      71.25      194.26  12029.44125  \n332788      98.25      252.00  23037.46875  \n333394     113.49      298.65  30406.51295  \n333685     125.17      318.78  37187.97840  \n333731      39.61      328.64  12492.52165  \n\n[36781 rows x 9 columns]"
         },
         "metadata": {},
         "output_type": "display_data"
        }
       ]
      }
     },
     "95bd19b5f5754ce5bdfc87db5795802c": {
      "model_module": "@jupyter-widgets/output",
      "model_module_version": "1.0.0",
      "model_name": "OutputModel",
      "state": {
       "layout": "IPY_MODEL_807fd5002c664dbc8cb7871f5c0b6c60",
       "outputs": [
        {
         "data": {
          "text/html": "<div>\n<style scoped>\n    .dataframe tbody tr th:only-of-type {\n        vertical-align: middle;\n    }\n\n    .dataframe tbody tr th {\n        vertical-align: top;\n    }\n\n    .dataframe thead th {\n        text-align: right;\n    }\n</style>\n<table border=\"1\" class=\"dataframe\">\n  <thead>\n    <tr style=\"text-align: right;\">\n      <th></th>\n      <th>image_id</th>\n      <th>category_str</th>\n      <th>category_id</th>\n      <th>split</th>\n      <th>box_x_min</th>\n      <th>box_y_min</th>\n      <th>box_width</th>\n      <th>box_height</th>\n      <th>area</th>\n    </tr>\n    <tr>\n      <th>id</th>\n      <th></th>\n      <th></th>\n      <th></th>\n      <th></th>\n      <th></th>\n      <th></th>\n      <th></th>\n      <th></th>\n      <th></th>\n    </tr>\n  </thead>\n  <tbody>\n    <tr>\n      <th>460450</th>\n      <td>352582</td>\n      <td>person</td>\n      <td>1</td>\n      <td>valid</td>\n      <td>112.43</td>\n      <td>195.32</td>\n      <td>214.78</td>\n      <td>438.19</td>\n      <td>48685.67910</td>\n    </tr>\n    <tr>\n      <th>602093</th>\n      <td>352582</td>\n      <td>frisbee</td>\n      <td>34</td>\n      <td>valid</td>\n      <td>171.63</td>\n      <td>424.03</td>\n      <td>85.89</td>\n      <td>40.67</td>\n      <td>2605.72090</td>\n    </tr>\n    <tr>\n      <th>589740</th>\n      <td>113354</td>\n      <td>zebra</td>\n      <td>24</td>\n      <td>valid</td>\n      <td>366.49</td>\n      <td>174.59</td>\n      <td>115.67</td>\n      <td>142.71</td>\n      <td>5784.68620</td>\n    </tr>\n    <tr>\n      <th>467905</th>\n      <td>58393</td>\n      <td>person</td>\n      <td>1</td>\n      <td>valid</td>\n      <td>342.52</td>\n      <td>163.33</td>\n      <td>192.24</td>\n      <td>77.47</td>\n      <td>5408.64720</td>\n    </tr>\n    <tr>\n      <th>1710990</th>\n      <td>58393</td>\n      <td>person</td>\n      <td>1</td>\n      <td>valid</td>\n      <td>418.99</td>\n      <td>182.65</td>\n      <td>61.12</td>\n      <td>45.00</td>\n      <td>1792.80770</td>\n    </tr>\n    <tr>\n      <th>...</th>\n      <td>...</td>\n      <td>...</td>\n      <td>...</td>\n      <td>...</td>\n      <td>...</td>\n      <td>...</td>\n      <td>...</td>\n      <td>...</td>\n      <td>...</td>\n    </tr>\n    <tr>\n      <th>1101888</th>\n      <td>428280</td>\n      <td>laptop</td>\n      <td>73</td>\n      <td>valid</td>\n      <td>118.71</td>\n      <td>138.34</td>\n      <td>44.79</td>\n      <td>35.83</td>\n      <td>1405.98065</td>\n    </tr>\n    <tr>\n      <th>2190513</th>\n      <td>428280</td>\n      <td>chair</td>\n      <td>62</td>\n      <td>valid</td>\n      <td>203.58</td>\n      <td>179.65</td>\n      <td>105.27</td>\n      <td>139.55</td>\n      <td>7696.12525</td>\n    </tr>\n    <tr>\n      <th>331107</th>\n      <td>349837</td>\n      <td>refrigerator</td>\n      <td>82</td>\n      <td>valid</td>\n      <td>66.00</td>\n      <td>94.87</td>\n      <td>71.25</td>\n      <td>194.26</td>\n      <td>12029.44125</td>\n    </tr>\n    <tr>\n      <th>333394</th>\n      <td>349837</td>\n      <td>refrigerator</td>\n      <td>82</td>\n      <td>valid</td>\n      <td>234.44</td>\n      <td>29.87</td>\n      <td>113.49</td>\n      <td>298.65</td>\n      <td>30406.51295</td>\n    </tr>\n    <tr>\n      <th>333731</th>\n      <td>349837</td>\n      <td>refrigerator</td>\n      <td>82</td>\n      <td>valid</td>\n      <td>460.39</td>\n      <td>0.00</td>\n      <td>39.61</td>\n      <td>328.64</td>\n      <td>12492.52165</td>\n    </tr>\n  </tbody>\n</table>\n<p>18391 rows × 9 columns</p>\n</div>",
          "text/plain": "         image_id  category_str  category_id  split  box_x_min  box_y_min  \\\nid                                                                          \n460450     352582        person            1  valid     112.43     195.32   \n602093     352582       frisbee           34  valid     171.63     424.03   \n589740     113354         zebra           24  valid     366.49     174.59   \n467905      58393        person            1  valid     342.52     163.33   \n1710990     58393        person            1  valid     418.99     182.65   \n...           ...           ...          ...    ...        ...        ...   \n1101888    428280        laptop           73  valid     118.71     138.34   \n2190513    428280         chair           62  valid     203.58     179.65   \n331107     349837  refrigerator           82  valid      66.00      94.87   \n333394     349837  refrigerator           82  valid     234.44      29.87   \n333731     349837  refrigerator           82  valid     460.39       0.00   \n\n         box_width  box_height         area  \nid                                           \n460450      214.78      438.19  48685.67910  \n602093       85.89       40.67   2605.72090  \n589740      115.67      142.71   5784.68620  \n467905      192.24       77.47   5408.64720  \n1710990      61.12       45.00   1792.80770  \n...            ...         ...          ...  \n1101888      44.79       35.83   1405.98065  \n2190513     105.27      139.55   7696.12525  \n331107       71.25      194.26  12029.44125  \n333394      113.49      298.65  30406.51295  \n333731       39.61      328.64  12492.52165  \n\n[18391 rows x 9 columns]"
         },
         "metadata": {},
         "output_type": "display_data"
        }
       ]
      }
     },
     "96a55a100d624cbaa1c00842f2c787a8": {
      "model_module": "@jupyter-widgets/base",
      "model_module_version": "2.0.0",
      "model_name": "LayoutModel",
      "state": {}
     },
     "9708ae09d6604e1ebdbca8d38412ac07": {
      "model_module": "@jupyter-widgets/base",
      "model_module_version": "2.0.0",
      "model_name": "LayoutModel",
      "state": {}
     },
     "976a13b001fc4c14b8d5f1ce936a2950": {
      "model_module": "@jupyter-widgets/output",
      "model_module_version": "1.0.0",
      "model_name": "OutputModel",
      "state": {
       "layout": "IPY_MODEL_08ad16cf9e114914a8ad1185eedf13ed",
       "outputs": [
        {
         "data": {
          "text/html": "<div>\n<style scoped>\n    .dataframe tbody tr th:only-of-type {\n        vertical-align: middle;\n    }\n\n    .dataframe tbody tr th {\n        vertical-align: top;\n    }\n\n    .dataframe thead th {\n        text-align: right;\n    }\n</style>\n<table border=\"1\" class=\"dataframe\">\n  <thead>\n    <tr style=\"text-align: right;\">\n      <th></th>\n      <th>image_id</th>\n      <th>category_str</th>\n      <th>category_id</th>\n      <th>split</th>\n      <th>box_x_min</th>\n      <th>box_y_min</th>\n      <th>box_width</th>\n      <th>box_height</th>\n      <th>area</th>\n    </tr>\n    <tr>\n      <th>id</th>\n      <th></th>\n      <th></th>\n      <th></th>\n      <th></th>\n      <th></th>\n      <th></th>\n      <th></th>\n      <th></th>\n      <th></th>\n    </tr>\n  </thead>\n  <tbody>\n    <tr>\n      <th>460450</th>\n      <td>352582</td>\n      <td>person</td>\n      <td>1</td>\n      <td>valid</td>\n      <td>112.43</td>\n      <td>195.32</td>\n      <td>214.78</td>\n      <td>438.19</td>\n      <td>48685.67910</td>\n    </tr>\n    <tr>\n      <th>535917</th>\n      <td>352582</td>\n      <td>person</td>\n      <td>1</td>\n      <td>valid</td>\n      <td>0.00</td>\n      <td>256.00</td>\n      <td>80.54</td>\n      <td>376.81</td>\n      <td>22650.73800</td>\n    </tr>\n    <tr>\n      <th>602093</th>\n      <td>352582</td>\n      <td>frisbee</td>\n      <td>34</td>\n      <td>valid</td>\n      <td>171.63</td>\n      <td>424.03</td>\n      <td>85.89</td>\n      <td>40.67</td>\n      <td>2605.72090</td>\n    </tr>\n    <tr>\n      <th>589077</th>\n      <td>113354</td>\n      <td>zebra</td>\n      <td>24</td>\n      <td>valid</td>\n      <td>260.99</td>\n      <td>158.88</td>\n      <td>141.52</td>\n      <td>194.11</td>\n      <td>9978.94125</td>\n    </tr>\n    <tr>\n      <th>589740</th>\n      <td>113354</td>\n      <td>zebra</td>\n      <td>24</td>\n      <td>valid</td>\n      <td>366.49</td>\n      <td>174.59</td>\n      <td>115.67</td>\n      <td>142.71</td>\n      <td>5784.68620</td>\n    </tr>\n    <tr>\n      <th>...</th>\n      <td>...</td>\n      <td>...</td>\n      <td>...</td>\n      <td>...</td>\n      <td>...</td>\n      <td>...</td>\n      <td>...</td>\n      <td>...</td>\n      <td>...</td>\n    </tr>\n    <tr>\n      <th>331107</th>\n      <td>349837</td>\n      <td>refrigerator</td>\n      <td>82</td>\n      <td>valid</td>\n      <td>66.00</td>\n      <td>94.87</td>\n      <td>71.25</td>\n      <td>194.26</td>\n      <td>12029.44125</td>\n    </tr>\n    <tr>\n      <th>332788</th>\n      <td>349837</td>\n      <td>refrigerator</td>\n      <td>82</td>\n      <td>valid</td>\n      <td>138.00</td>\n      <td>62.63</td>\n      <td>98.25</td>\n      <td>252.00</td>\n      <td>23037.46875</td>\n    </tr>\n    <tr>\n      <th>333394</th>\n      <td>349837</td>\n      <td>refrigerator</td>\n      <td>82</td>\n      <td>valid</td>\n      <td>234.44</td>\n      <td>29.87</td>\n      <td>113.49</td>\n      <td>298.65</td>\n      <td>30406.51295</td>\n    </tr>\n    <tr>\n      <th>333685</th>\n      <td>349837</td>\n      <td>refrigerator</td>\n      <td>82</td>\n      <td>valid</td>\n      <td>335.04</td>\n      <td>10.48</td>\n      <td>125.17</td>\n      <td>318.78</td>\n      <td>37187.97840</td>\n    </tr>\n    <tr>\n      <th>333731</th>\n      <td>349837</td>\n      <td>refrigerator</td>\n      <td>82</td>\n      <td>valid</td>\n      <td>460.39</td>\n      <td>0.00</td>\n      <td>39.61</td>\n      <td>328.64</td>\n      <td>12492.52165</td>\n    </tr>\n  </tbody>\n</table>\n<p>36781 rows × 9 columns</p>\n</div>",
          "text/plain": "        image_id  category_str  category_id  split  box_x_min  box_y_min  \\\nid                                                                         \n460450    352582        person            1  valid     112.43     195.32   \n535917    352582        person            1  valid       0.00     256.00   \n602093    352582       frisbee           34  valid     171.63     424.03   \n589077    113354         zebra           24  valid     260.99     158.88   \n589740    113354         zebra           24  valid     366.49     174.59   \n...          ...           ...          ...    ...        ...        ...   \n331107    349837  refrigerator           82  valid      66.00      94.87   \n332788    349837  refrigerator           82  valid     138.00      62.63   \n333394    349837  refrigerator           82  valid     234.44      29.87   \n333685    349837  refrigerator           82  valid     335.04      10.48   \n333731    349837  refrigerator           82  valid     460.39       0.00   \n\n        box_width  box_height         area  \nid                                          \n460450     214.78      438.19  48685.67910  \n535917      80.54      376.81  22650.73800  \n602093      85.89       40.67   2605.72090  \n589077     141.52      194.11   9978.94125  \n589740     115.67      142.71   5784.68620  \n...           ...         ...          ...  \n331107      71.25      194.26  12029.44125  \n332788      98.25      252.00  23037.46875  \n333394     113.49      298.65  30406.51295  \n333685     125.17      318.78  37187.97840  \n333731      39.61      328.64  12492.52165  \n\n[36781 rows x 9 columns]"
         },
         "metadata": {},
         "output_type": "display_data"
        }
       ]
      }
     },
     "97bff9602f63475ea1f3ce1f071c56de": {
      "model_module": "@jupyter-widgets/base",
      "model_module_version": "2.0.0",
      "model_name": "LayoutModel",
      "state": {}
     },
     "99863d1d296942bfbdd46bf539f89dd4": {
      "model_module": "@jupyter-widgets/controls",
      "model_module_version": "2.0.0",
      "model_name": "HTMLModel",
      "state": {
       "layout": "IPY_MODEL_c0248a690e684be4a425ea2258a92f50",
       "style": "IPY_MODEL_731539e5661148739eb8978c60efc5f8",
       "value": "<p><span style='white-space: pre-wrap; font-weight: bold'>Dataset object containing 4,706 images and 18,391 objects\nName :\n\tcoco\nImages root :\n\tnotebook_data</span></p>"
      }
     },
     "9aa80116a3f949efb8b955b1c1859744": {
      "model_module": "@jupyter-widgets/controls",
      "model_module_version": "2.0.0",
      "model_name": "TabModel",
      "state": {
       "children": [
        "IPY_MODEL_b6bb53f483984e70a586347fa92c47e8",
        "IPY_MODEL_0dd1ab8bff564398a639b3c2bc691991",
        "IPY_MODEL_3a04df0b705943e68db3868587365f3e"
       ],
       "layout": "IPY_MODEL_bb6f967f14d344e0bd5669ad4689f243",
       "selected_index": 0,
       "titles": [
        "Images",
        "Annotations",
        "Label Map"
       ]
      }
     },
     "9b126ac85da4482fb2ce94024da03eaf": {
      "model_module": "@jupyter-widgets/output",
      "model_module_version": "1.0.0",
      "model_name": "OutputModel",
      "state": {
       "layout": "IPY_MODEL_1aaf92bec1cd442b9330a198f7d56ee1",
       "outputs": [
        {
         "data": {
          "text/html": "<div>\n<style scoped>\n    .dataframe tbody tr th:only-of-type {\n        vertical-align: middle;\n    }\n\n    .dataframe tbody tr th {\n        vertical-align: top;\n    }\n\n    .dataframe thead th {\n        text-align: right;\n    }\n</style>\n<table border=\"1\" class=\"dataframe\">\n  <thead>\n    <tr style=\"text-align: right;\">\n      <th></th>\n      <th>category string</th>\n    </tr>\n    <tr>\n      <th>category_id</th>\n      <th></th>\n    </tr>\n  </thead>\n  <tbody>\n    <tr>\n      <th>1</th>\n      <td>person</td>\n    </tr>\n    <tr>\n      <th>2</th>\n      <td>bicycle</td>\n    </tr>\n    <tr>\n      <th>3</th>\n      <td>car</td>\n    </tr>\n    <tr>\n      <th>4</th>\n      <td>motorcycle</td>\n    </tr>\n    <tr>\n      <th>5</th>\n      <td>airplane</td>\n    </tr>\n    <tr>\n      <th>...</th>\n      <td>...</td>\n    </tr>\n    <tr>\n      <th>86</th>\n      <td>vase</td>\n    </tr>\n    <tr>\n      <th>87</th>\n      <td>scissors</td>\n    </tr>\n    <tr>\n      <th>88</th>\n      <td>teddy bear</td>\n    </tr>\n    <tr>\n      <th>89</th>\n      <td>hair drier</td>\n    </tr>\n    <tr>\n      <th>90</th>\n      <td>toothbrush</td>\n    </tr>\n  </tbody>\n</table>\n<p>80 rows × 1 columns</p>\n</div>",
          "text/plain": "            category string\ncategory_id                \n1                    person\n2                   bicycle\n3                       car\n4                motorcycle\n5                  airplane\n...                     ...\n86                     vase\n87                 scissors\n88               teddy bear\n89               hair drier\n90               toothbrush\n\n[80 rows x 1 columns]"
         },
         "metadata": {},
         "output_type": "display_data"
        }
       ]
      }
     },
     "9d2fbc38a7c741a2a614b451744d80cb": {
      "model_module": "@jupyter-widgets/base",
      "model_module_version": "2.0.0",
      "model_name": "LayoutModel",
      "state": {}
     },
     "9da439c98f3c4d7aa6caa27ed70dfa32": {
      "model_module": "@jupyter-widgets/controls",
      "model_module_version": "2.0.0",
      "model_name": "TabModel",
      "state": {
       "children": [
        "IPY_MODEL_076cb45525fa49a5a362cab29f375942",
        "IPY_MODEL_93a3eb772998444fa5ec05bc76d9bcac",
        "IPY_MODEL_9b126ac85da4482fb2ce94024da03eaf"
       ],
       "layout": "IPY_MODEL_cadb58ff30e043c998fae6ee670d2804",
       "selected_index": 0,
       "titles": [
        "Images",
        "Annotations",
        "Label Map"
       ]
      }
     },
     "9e58315f930e4a6a9cd5ba303d306d9b": {
      "model_module": "@jupyter-widgets/base",
      "model_module_version": "2.0.0",
      "model_name": "LayoutModel",
      "state": {}
     },
     "9e5d5573a9094a1cb9d624e4d3fb5a75": {
      "model_module": "@jupyter-widgets/output",
      "model_module_version": "1.0.0",
      "model_name": "OutputModel",
      "state": {
       "layout": "IPY_MODEL_3488cb51a933422dbe5951753f695c6f",
       "outputs": [
        {
         "data": {
          "text/html": "<div>\n<style scoped>\n    .dataframe tbody tr th:only-of-type {\n        vertical-align: middle;\n    }\n\n    .dataframe tbody tr th {\n        vertical-align: top;\n    }\n\n    .dataframe thead th {\n        text-align: right;\n    }\n</style>\n<table border=\"1\" class=\"dataframe\">\n  <thead>\n    <tr style=\"text-align: right;\">\n      <th></th>\n      <th>image_id</th>\n      <th>category_str</th>\n      <th>category_id</th>\n      <th>split</th>\n      <th>box_x_min</th>\n      <th>box_y_min</th>\n      <th>box_width</th>\n      <th>box_height</th>\n      <th>area</th>\n    </tr>\n    <tr>\n      <th>id</th>\n      <th></th>\n      <th></th>\n      <th></th>\n      <th></th>\n      <th></th>\n      <th></th>\n      <th></th>\n      <th></th>\n      <th></th>\n    </tr>\n  </thead>\n  <tbody>\n  </tbody>\n</table>\n</div>",
          "text/plain": "Empty DataFrame\nColumns: [image_id, category_str, category_id, split, box_x_min, box_y_min, box_width, box_height, area]\nIndex: []"
         },
         "metadata": {},
         "output_type": "display_data"
        }
       ]
      }
     },
     "9f98f4f9a484443d86f7a8b53a6f0383": {
      "model_module": "@jupyter-widgets/controls",
      "model_module_version": "2.0.0",
      "model_name": "HTMLModel",
      "state": {
       "layout": "IPY_MODEL_ba07b59a8dcd4f12ae197bdba17a4081",
       "style": "IPY_MODEL_cbc53dde861749d4b4644390f6d89b24",
       "value": "<p><span style='white-space: pre-wrap; font-weight: bold'>Dataset object containing 5,000 images and 36,781 objects\nName :\n\tcoco\nImages root :\n\tnotebook_data</span></p>"
      }
     },
     "9fdc80dfaf034401a9557abb6745c036": {
      "model_module": "@jupyter-widgets/controls",
      "model_module_version": "2.0.0",
      "model_name": "VBoxModel",
      "state": {
       "children": [
        "IPY_MODEL_0f046094f30d46c8af05aa99c92e13d1",
        "IPY_MODEL_1a50fd3cde1b41f78d149c09b1dc5a17"
       ],
       "layout": "IPY_MODEL_daf121e7d7c343c9bc202fb4003d4687"
      }
     },
     "a05d6961fe7a4f9abf64888cd1d54d39": {
      "model_module": "@jupyter-widgets/base",
      "model_module_version": "2.0.0",
      "model_name": "LayoutModel",
      "state": {}
     },
     "a067adea60de4cbab6648d9900b8fb71": {
      "model_module": "@jupyter-widgets/base",
      "model_module_version": "2.0.0",
      "model_name": "LayoutModel",
      "state": {}
     },
     "a0f0c5093c8f41ef9ec406b059d3a1ca": {
      "model_module": "@jupyter-widgets/output",
      "model_module_version": "1.0.0",
      "model_name": "OutputModel",
      "state": {
       "layout": "IPY_MODEL_1fc92f635def49f58903c29563dec9c3",
       "outputs": [
        {
         "data": {
          "text/html": "<div>\n<style scoped>\n    .dataframe tbody tr th:only-of-type {\n        vertical-align: middle;\n    }\n\n    .dataframe tbody tr th {\n        vertical-align: top;\n    }\n\n    .dataframe thead th {\n        text-align: right;\n    }\n</style>\n<table border=\"1\" class=\"dataframe\">\n  <thead>\n    <tr style=\"text-align: right;\">\n      <th></th>\n      <th>category string</th>\n    </tr>\n    <tr>\n      <th>category_id</th>\n      <th></th>\n    </tr>\n  </thead>\n  <tbody>\n    <tr>\n      <th>1</th>\n      <td>person</td>\n    </tr>\n    <tr>\n      <th>2</th>\n      <td>bicycle</td>\n    </tr>\n    <tr>\n      <th>3</th>\n      <td>car</td>\n    </tr>\n    <tr>\n      <th>4</th>\n      <td>motorcycle</td>\n    </tr>\n    <tr>\n      <th>5</th>\n      <td>airplane</td>\n    </tr>\n    <tr>\n      <th>...</th>\n      <td>...</td>\n    </tr>\n    <tr>\n      <th>86</th>\n      <td>vase</td>\n    </tr>\n    <tr>\n      <th>87</th>\n      <td>scissors</td>\n    </tr>\n    <tr>\n      <th>88</th>\n      <td>teddy bear</td>\n    </tr>\n    <tr>\n      <th>89</th>\n      <td>hair drier</td>\n    </tr>\n    <tr>\n      <th>90</th>\n      <td>toothbrush</td>\n    </tr>\n  </tbody>\n</table>\n<p>80 rows × 1 columns</p>\n</div>",
          "text/plain": "            category string\ncategory_id                \n1                    person\n2                   bicycle\n3                       car\n4                motorcycle\n5                  airplane\n...                     ...\n86                     vase\n87                 scissors\n88               teddy bear\n89               hair drier\n90               toothbrush\n\n[80 rows x 1 columns]"
         },
         "metadata": {},
         "output_type": "display_data"
        }
       ]
      }
     },
     "a4a609c3e02041e892e87a1e15cf5dae": {
      "model_module": "@jupyter-widgets/base",
      "model_module_version": "2.0.0",
      "model_name": "LayoutModel",
      "state": {}
     },
     "a74d5337152d43b7997d568b0e8858da": {
      "model_module": "@jupyter-widgets/base",
      "model_module_version": "2.0.0",
      "model_name": "LayoutModel",
      "state": {}
     },
     "a7c264d282b0470087525fab6eb267dd": {
      "model_module": "@jupyter-widgets/controls",
      "model_module_version": "2.0.0",
      "model_name": "VBoxModel",
      "state": {
       "children": [
        "IPY_MODEL_653a77ebba1c491d989943e25eabb70f",
        "IPY_MODEL_34eb9b2674ae420189320d71c7421a95"
       ],
       "layout": "IPY_MODEL_8bc6ea76bfde4b87a33bd825ccecc77b"
      }
     },
     "a89a3d4f3b88410084208619d227f84f": {
      "model_module": "@jupyter-widgets/controls",
      "model_module_version": "2.0.0",
      "model_name": "HTMLStyleModel",
      "state": {
       "description_width": "",
       "font_size": null,
       "text_color": null
      }
     },
     "a906e40c8dfe421791496e5865113d98": {
      "model_module": "@jupyter-widgets/controls",
      "model_module_version": "2.0.0",
      "model_name": "HTMLStyleModel",
      "state": {
       "description_width": "",
       "font_size": null,
       "text_color": null
      }
     },
     "a9ff964c470040dcb0296533c1fc1549": {
      "model_module": "@jupyter-widgets/output",
      "model_module_version": "1.0.0",
      "model_name": "OutputModel",
      "state": {
       "layout": "IPY_MODEL_b78b3fc0a8e44db3b3cd13d6a6afe869",
       "outputs": [
        {
         "data": {
          "text/html": "<div>\n<style scoped>\n    .dataframe tbody tr th:only-of-type {\n        vertical-align: middle;\n    }\n\n    .dataframe tbody tr th {\n        vertical-align: top;\n    }\n\n    .dataframe thead th {\n        text-align: right;\n    }\n</style>\n<table border=\"1\" class=\"dataframe\">\n  <thead>\n    <tr style=\"text-align: right;\">\n      <th></th>\n      <th>width</th>\n      <th>height</th>\n      <th>relative_path</th>\n      <th>type</th>\n      <th>split</th>\n    </tr>\n    <tr>\n      <th>id</th>\n      <th></th>\n      <th></th>\n      <th></th>\n      <th></th>\n      <th></th>\n    </tr>\n  </thead>\n  <tbody>\n    <tr>\n      <th>352582</th>\n      <td>425</td>\n      <td>640</td>\n      <td>Images/valid/000000352582.jpg</td>\n      <td>.jpg</td>\n      <td>valid</td>\n    </tr>\n    <tr>\n      <th>113354</th>\n      <td>640</td>\n      <td>480</td>\n      <td>Images/valid/000000113354.jpg</td>\n      <td>.jpg</td>\n      <td>valid</td>\n    </tr>\n    <tr>\n      <th>58393</th>\n      <td>640</td>\n      <td>486</td>\n      <td>Images/valid/000000058393.jpg</td>\n      <td>.jpg</td>\n      <td>valid</td>\n    </tr>\n    <tr>\n      <th>147729</th>\n      <td>500</td>\n      <td>375</td>\n      <td>Images/valid/000000147729.jpg</td>\n      <td>.jpg</td>\n      <td>valid</td>\n    </tr>\n    <tr>\n      <th>310072</th>\n      <td>640</td>\n      <td>383</td>\n      <td>Images/valid/000000310072.jpg</td>\n      <td>.jpg</td>\n      <td>valid</td>\n    </tr>\n    <tr>\n      <th>...</th>\n      <td>...</td>\n      <td>...</td>\n      <td>...</td>\n      <td>...</td>\n      <td>...</td>\n    </tr>\n    <tr>\n      <th>311180</th>\n      <td>480</td>\n      <td>640</td>\n      <td>Images/valid/000000311180.jpg</td>\n      <td>.jpg</td>\n      <td>valid</td>\n    </tr>\n    <tr>\n      <th>302030</th>\n      <td>640</td>\n      <td>359</td>\n      <td>Images/valid/000000302030.jpg</td>\n      <td>.jpg</td>\n      <td>valid</td>\n    </tr>\n    <tr>\n      <th>105455</th>\n      <td>427</td>\n      <td>640</td>\n      <td>Images/valid/000000105455.jpg</td>\n      <td>.jpg</td>\n      <td>valid</td>\n    </tr>\n    <tr>\n      <th>428280</th>\n      <td>500</td>\n      <td>333</td>\n      <td>Images/valid/000000428280.jpg</td>\n      <td>.jpg</td>\n      <td>valid</td>\n    </tr>\n    <tr>\n      <th>349837</th>\n      <td>500</td>\n      <td>333</td>\n      <td>Images/valid/000000349837.jpg</td>\n      <td>.jpg</td>\n      <td>valid</td>\n    </tr>\n  </tbody>\n</table>\n<p>5000 rows × 5 columns</p>\n</div>",
          "text/plain": "        width  height                  relative_path  type  split\nid                                                               \n352582    425     640  Images/valid/000000352582.jpg  .jpg  valid\n113354    640     480  Images/valid/000000113354.jpg  .jpg  valid\n58393     640     486  Images/valid/000000058393.jpg  .jpg  valid\n147729    500     375  Images/valid/000000147729.jpg  .jpg  valid\n310072    640     383  Images/valid/000000310072.jpg  .jpg  valid\n...       ...     ...                            ...   ...    ...\n311180    480     640  Images/valid/000000311180.jpg  .jpg  valid\n302030    640     359  Images/valid/000000302030.jpg  .jpg  valid\n105455    427     640  Images/valid/000000105455.jpg  .jpg  valid\n428280    500     333  Images/valid/000000428280.jpg  .jpg  valid\n349837    500     333  Images/valid/000000349837.jpg  .jpg  valid\n\n[5000 rows x 5 columns]"
         },
         "metadata": {},
         "output_type": "display_data"
        }
       ]
      }
     },
     "ad1d0e8ccf70489e92d61f052a5ae159": {
      "model_module": "@jupyter-widgets/base",
      "model_module_version": "2.0.0",
      "model_name": "LayoutModel",
      "state": {}
     },
     "ad42a634393a424db47916adc2a6de41": {
      "model_module": "@jupyter-widgets/controls",
      "model_module_version": "2.0.0",
      "model_name": "VBoxModel",
      "state": {
       "children": [
        "IPY_MODEL_045f69ca6a5c4daca8d9dab65a019d26",
        "IPY_MODEL_be068f84bdb143528958fa4a53c67238"
       ],
       "layout": "IPY_MODEL_096be585560a408c9d51d1f1422f2473"
      }
     },
     "ae3cf866393b4ec4ac40269a750d3a10": {
      "model_module": "@jupyter-widgets/output",
      "model_module_version": "1.0.0",
      "model_name": "OutputModel",
      "state": {
       "layout": "IPY_MODEL_7c4075c4396641a8a621885ace1f814b",
       "outputs": [
        {
         "data": {
          "text/html": "<div>\n<style scoped>\n    .dataframe tbody tr th:only-of-type {\n        vertical-align: middle;\n    }\n\n    .dataframe tbody tr th {\n        vertical-align: top;\n    }\n\n    .dataframe thead th {\n        text-align: right;\n    }\n</style>\n<table border=\"1\" class=\"dataframe\">\n  <thead>\n    <tr style=\"text-align: right;\">\n      <th></th>\n      <th>width</th>\n      <th>height</th>\n      <th>relative_path</th>\n      <th>type</th>\n      <th>split</th>\n    </tr>\n    <tr>\n      <th>id</th>\n      <th></th>\n      <th></th>\n      <th></th>\n      <th></th>\n      <th></th>\n    </tr>\n  </thead>\n  <tbody>\n    <tr>\n      <th>0</th>\n      <td>640</td>\n      <td>483</td>\n      <td>Images/valid/000000000632.jpg</td>\n      <td>.jpg</td>\n      <td>valid</td>\n    </tr>\n    <tr>\n      <th>1</th>\n      <td>375</td>\n      <td>500</td>\n      <td>Images/valid/000000000724.jpg</td>\n      <td>.jpg</td>\n      <td>valid</td>\n    </tr>\n    <tr>\n      <th>2</th>\n      <td>428</td>\n      <td>640</td>\n      <td>Images/valid/000000000776.jpg</td>\n      <td>.jpg</td>\n      <td>valid</td>\n    </tr>\n    <tr>\n      <th>3</th>\n      <td>640</td>\n      <td>425</td>\n      <td>Images/valid/000000000785.jpg</td>\n      <td>.jpg</td>\n      <td>valid</td>\n    </tr>\n    <tr>\n      <th>4</th>\n      <td>640</td>\n      <td>427</td>\n      <td>Images/valid/000000001268.jpg</td>\n      <td>.jpg</td>\n      <td>valid</td>\n    </tr>\n    <tr>\n      <th>...</th>\n      <td>...</td>\n      <td>...</td>\n      <td>...</td>\n      <td>...</td>\n      <td>...</td>\n    </tr>\n    <tr>\n      <th>4995</th>\n      <td>640</td>\n      <td>428</td>\n      <td>Images/valid/000000580418.jpg</td>\n      <td>.jpg</td>\n      <td>valid</td>\n    </tr>\n    <tr>\n      <th>4996</th>\n      <td>640</td>\n      <td>425</td>\n      <td>Images/valid/000000580757.jpg</td>\n      <td>.jpg</td>\n      <td>valid</td>\n    </tr>\n    <tr>\n      <th>4997</th>\n      <td>500</td>\n      <td>375</td>\n      <td>Images/valid/000000581062.jpg</td>\n      <td>.jpg</td>\n      <td>valid</td>\n    </tr>\n    <tr>\n      <th>4998</th>\n      <td>479</td>\n      <td>640</td>\n      <td>Images/valid/000000581206.jpg</td>\n      <td>.jpg</td>\n      <td>valid</td>\n    </tr>\n    <tr>\n      <th>4999</th>\n      <td>478</td>\n      <td>640</td>\n      <td>Images/valid/000000581615.jpg</td>\n      <td>.jpg</td>\n      <td>valid</td>\n    </tr>\n  </tbody>\n</table>\n<p>5000 rows × 5 columns</p>\n</div>",
          "text/plain": "      width  height                  relative_path  type  split\nid                                                             \n0       640     483  Images/valid/000000000632.jpg  .jpg  valid\n1       375     500  Images/valid/000000000724.jpg  .jpg  valid\n2       428     640  Images/valid/000000000776.jpg  .jpg  valid\n3       640     425  Images/valid/000000000785.jpg  .jpg  valid\n4       640     427  Images/valid/000000001268.jpg  .jpg  valid\n...     ...     ...                            ...   ...    ...\n4995    640     428  Images/valid/000000580418.jpg  .jpg  valid\n4996    640     425  Images/valid/000000580757.jpg  .jpg  valid\n4997    500     375  Images/valid/000000581062.jpg  .jpg  valid\n4998    479     640  Images/valid/000000581206.jpg  .jpg  valid\n4999    478     640  Images/valid/000000581615.jpg  .jpg  valid\n\n[5000 rows x 5 columns]"
         },
         "metadata": {},
         "output_type": "display_data"
        }
       ]
      }
     },
     "aec15b706feb48c3a2221de4a0413308": {
      "model_module": "@jupyter-widgets/base",
      "model_module_version": "2.0.0",
      "model_name": "LayoutModel",
      "state": {}
     },
     "b0981334e1e44bc29936fb70b73a97a8": {
      "model_module": "@jupyter-widgets/output",
      "model_module_version": "1.0.0",
      "model_name": "OutputModel",
      "state": {
       "layout": "IPY_MODEL_d94834afc1d8491187d1bf1c9284a9df",
       "outputs": [
        {
         "data": {
          "text/html": "<div>\n<style scoped>\n    .dataframe tbody tr th:only-of-type {\n        vertical-align: middle;\n    }\n\n    .dataframe tbody tr th {\n        vertical-align: top;\n    }\n\n    .dataframe thead th {\n        text-align: right;\n    }\n</style>\n<table border=\"1\" class=\"dataframe\">\n  <thead>\n    <tr style=\"text-align: right;\">\n      <th></th>\n      <th>image_id</th>\n      <th>category_str</th>\n      <th>category_id</th>\n      <th>split</th>\n      <th>box_x_min</th>\n      <th>box_y_min</th>\n      <th>box_width</th>\n      <th>box_height</th>\n      <th>area</th>\n    </tr>\n    <tr>\n      <th>id</th>\n      <th></th>\n      <th></th>\n      <th></th>\n      <th></th>\n      <th></th>\n      <th></th>\n      <th></th>\n      <th></th>\n      <th></th>\n    </tr>\n  </thead>\n  <tbody>\n    <tr>\n      <th>0</th>\n      <td>0</td>\n      <td>person</td>\n      <td>1</td>\n      <td>valid</td>\n      <td>384.43</td>\n      <td>172.21</td>\n      <td>15.12</td>\n      <td>35.74</td>\n      <td>435.14495</td>\n    </tr>\n    <tr>\n      <th>1</th>\n      <td>0</td>\n      <td>person</td>\n      <td>1</td>\n      <td>valid</td>\n      <td>412.80</td>\n      <td>157.61</td>\n      <td>53.05</td>\n      <td>138.01</td>\n      <td>2913.11040</td>\n    </tr>\n    <tr>\n      <th>2</th>\n      <td>0</td>\n      <td>chair</td>\n      <td>62</td>\n      <td>valid</td>\n      <td>290.69</td>\n      <td>218.00</td>\n      <td>61.83</td>\n      <td>98.48</td>\n      <td>1833.78400</td>\n    </tr>\n    <tr>\n      <th>3</th>\n      <td>0</td>\n      <td>chair</td>\n      <td>62</td>\n      <td>valid</td>\n      <td>317.40</td>\n      <td>219.24</td>\n      <td>21.58</td>\n      <td>11.59</td>\n      <td>210.14820</td>\n    </tr>\n    <tr>\n      <th>4</th>\n      <td>0</td>\n      <td>chair</td>\n      <td>62</td>\n      <td>valid</td>\n      <td>358.98</td>\n      <td>218.05</td>\n      <td>56.00</td>\n      <td>102.83</td>\n      <td>2245.34355</td>\n    </tr>\n    <tr>\n      <th>...</th>\n      <td>...</td>\n      <td>...</td>\n      <td>...</td>\n      <td>...</td>\n      <td>...</td>\n      <td>...</td>\n      <td>...</td>\n      <td>...</td>\n      <td>...</td>\n    </tr>\n    <tr>\n      <th>36776</th>\n      <td>4999</td>\n      <td>banana</td>\n      <td>52</td>\n      <td>valid</td>\n      <td>439.33</td>\n      <td>94.35</td>\n      <td>160.05</td>\n      <td>171.86</td>\n      <td>16690.94945</td>\n    </tr>\n    <tr>\n      <th>36777</th>\n      <td>4999</td>\n      <td>banana</td>\n      <td>52</td>\n      <td>valid</td>\n      <td>467.23</td>\n      <td>280.45</td>\n      <td>172.77</td>\n      <td>177.63</td>\n      <td>22016.99120</td>\n    </tr>\n    <tr>\n      <th>36778</th>\n      <td>4999</td>\n      <td>banana</td>\n      <td>52</td>\n      <td>valid</td>\n      <td>467.75</td>\n      <td>0.00</td>\n      <td>70.41</td>\n      <td>25.88</td>\n      <td>1191.12265</td>\n    </tr>\n    <tr>\n      <th>36779</th>\n      <td>4999</td>\n      <td>banana</td>\n      <td>52</td>\n      <td>valid</td>\n      <td>561.81</td>\n      <td>6.87</td>\n      <td>78.11</td>\n      <td>34.13</td>\n      <td>1736.78505</td>\n    </tr>\n    <tr>\n      <th>36780</th>\n      <td>4999</td>\n      <td>banana</td>\n      <td>52</td>\n      <td>valid</td>\n      <td>582.44</td>\n      <td>141.91</td>\n      <td>57.56</td>\n      <td>86.75</td>\n      <td>1752.08170</td>\n    </tr>\n  </tbody>\n</table>\n<p>36781 rows × 9 columns</p>\n</div>",
          "text/plain": "       image_id category_str  category_id  split  box_x_min  box_y_min  \\\nid                                                                       \n0             0       person            1  valid     384.43     172.21   \n1             0       person            1  valid     412.80     157.61   \n2             0        chair           62  valid     290.69     218.00   \n3             0        chair           62  valid     317.40     219.24   \n4             0        chair           62  valid     358.98     218.05   \n...         ...          ...          ...    ...        ...        ...   \n36776      4999       banana           52  valid     439.33      94.35   \n36777      4999       banana           52  valid     467.23     280.45   \n36778      4999       banana           52  valid     467.75       0.00   \n36779      4999       banana           52  valid     561.81       6.87   \n36780      4999       banana           52  valid     582.44     141.91   \n\n       box_width  box_height         area  \nid                                         \n0          15.12       35.74    435.14495  \n1          53.05      138.01   2913.11040  \n2          61.83       98.48   1833.78400  \n3          21.58       11.59    210.14820  \n4          56.00      102.83   2245.34355  \n...          ...         ...          ...  \n36776     160.05      171.86  16690.94945  \n36777     172.77      177.63  22016.99120  \n36778      70.41       25.88   1191.12265  \n36779      78.11       34.13   1736.78505  \n36780      57.56       86.75   1752.08170  \n\n[36781 rows x 9 columns]"
         },
         "metadata": {},
         "output_type": "display_data"
        }
       ]
      }
     },
     "b162419c877c48d5a1025451a2672beb": {
      "model_module": "@jupyter-widgets/base",
      "model_module_version": "2.0.0",
      "model_name": "LayoutModel",
      "state": {}
     },
     "b217ba852a2d4c8eb6ab3838bed537d6": {
      "model_module": "@jupyter-widgets/controls",
      "model_module_version": "2.0.0",
      "model_name": "TabModel",
      "state": {
       "children": [
        "IPY_MODEL_154d29f071ef4168bb329113f398f898",
        "IPY_MODEL_bbfdb4d23a9440c1aaddd36ad24d1208",
        "IPY_MODEL_01d1d33815be4b048ac730311c5cfde4"
       ],
       "layout": "IPY_MODEL_0e212d1045d44311b3a2fa8d30176599",
       "selected_index": 0,
       "titles": [
        "Images",
        "Annotations",
        "Label Map"
       ]
      }
     },
     "b24720adc0f24e8d8b8e4dbe2c94c131": {
      "model_module": "@jupyter-widgets/base",
      "model_module_version": "2.0.0",
      "model_name": "LayoutModel",
      "state": {}
     },
     "b2814f143f0d47e2844ca6f2b94aa4d6": {
      "model_module": "@jupyter-widgets/base",
      "model_module_version": "2.0.0",
      "model_name": "LayoutModel",
      "state": {}
     },
     "b3ad25f52517499fa3b2aaa22bf9cce3": {
      "model_module": "@jupyter-widgets/output",
      "model_module_version": "1.0.0",
      "model_name": "OutputModel",
      "state": {
       "layout": "IPY_MODEL_65ded6abaf904351b029a28e9981d390",
       "outputs": [
        {
         "data": {
          "text/html": "<div>\n<style scoped>\n    .dataframe tbody tr th:only-of-type {\n        vertical-align: middle;\n    }\n\n    .dataframe tbody tr th {\n        vertical-align: top;\n    }\n\n    .dataframe thead th {\n        text-align: right;\n    }\n</style>\n<table border=\"1\" class=\"dataframe\">\n  <thead>\n    <tr style=\"text-align: right;\">\n      <th></th>\n      <th>width</th>\n      <th>height</th>\n      <th>relative_path</th>\n      <th>type</th>\n      <th>split</th>\n    </tr>\n    <tr>\n      <th>id</th>\n      <th></th>\n      <th></th>\n      <th></th>\n      <th></th>\n      <th></th>\n    </tr>\n  </thead>\n  <tbody>\n    <tr>\n      <th>352582</th>\n      <td>425</td>\n      <td>640</td>\n      <td>Images/valid/000000352582.jpg</td>\n      <td>.jpg</td>\n      <td>valid</td>\n    </tr>\n    <tr>\n      <th>113354</th>\n      <td>640</td>\n      <td>480</td>\n      <td>Images/valid/000000113354.jpg</td>\n      <td>.jpg</td>\n      <td>valid</td>\n    </tr>\n    <tr>\n      <th>58393</th>\n      <td>640</td>\n      <td>486</td>\n      <td>Images/valid/000000058393.jpg</td>\n      <td>.jpg</td>\n      <td>valid</td>\n    </tr>\n    <tr>\n      <th>147729</th>\n      <td>500</td>\n      <td>375</td>\n      <td>Images/valid/000000147729.jpg</td>\n      <td>.jpg</td>\n      <td>valid</td>\n    </tr>\n    <tr>\n      <th>310072</th>\n      <td>640</td>\n      <td>383</td>\n      <td>Images/valid/000000310072.jpg</td>\n      <td>.jpg</td>\n      <td>valid</td>\n    </tr>\n    <tr>\n      <th>...</th>\n      <td>...</td>\n      <td>...</td>\n      <td>...</td>\n      <td>...</td>\n      <td>...</td>\n    </tr>\n    <tr>\n      <th>311180</th>\n      <td>480</td>\n      <td>640</td>\n      <td>Images/valid/000000311180.jpg</td>\n      <td>.jpg</td>\n      <td>valid</td>\n    </tr>\n    <tr>\n      <th>302030</th>\n      <td>640</td>\n      <td>359</td>\n      <td>Images/valid/000000302030.jpg</td>\n      <td>.jpg</td>\n      <td>valid</td>\n    </tr>\n    <tr>\n      <th>105455</th>\n      <td>427</td>\n      <td>640</td>\n      <td>Images/valid/000000105455.jpg</td>\n      <td>.jpg</td>\n      <td>valid</td>\n    </tr>\n    <tr>\n      <th>428280</th>\n      <td>500</td>\n      <td>333</td>\n      <td>Images/valid/000000428280.jpg</td>\n      <td>.jpg</td>\n      <td>valid</td>\n    </tr>\n    <tr>\n      <th>349837</th>\n      <td>500</td>\n      <td>333</td>\n      <td>Images/valid/000000349837.jpg</td>\n      <td>.jpg</td>\n      <td>valid</td>\n    </tr>\n  </tbody>\n</table>\n<p>5000 rows × 5 columns</p>\n</div>",
          "text/plain": "        width  height                  relative_path  type  split\nid                                                               \n352582    425     640  Images/valid/000000352582.jpg  .jpg  valid\n113354    640     480  Images/valid/000000113354.jpg  .jpg  valid\n58393     640     486  Images/valid/000000058393.jpg  .jpg  valid\n147729    500     375  Images/valid/000000147729.jpg  .jpg  valid\n310072    640     383  Images/valid/000000310072.jpg  .jpg  valid\n...       ...     ...                            ...   ...    ...\n311180    480     640  Images/valid/000000311180.jpg  .jpg  valid\n302030    640     359  Images/valid/000000302030.jpg  .jpg  valid\n105455    427     640  Images/valid/000000105455.jpg  .jpg  valid\n428280    500     333  Images/valid/000000428280.jpg  .jpg  valid\n349837    500     333  Images/valid/000000349837.jpg  .jpg  valid\n\n[5000 rows x 5 columns]"
         },
         "metadata": {},
         "output_type": "display_data"
        }
       ]
      }
     },
     "b4c56bc21a884ca1a28d53108f8b0d72": {
      "model_module": "@jupyter-widgets/base",
      "model_module_version": "2.0.0",
      "model_name": "LayoutModel",
      "state": {}
     },
     "b4cfae471bba4a5b9000ccfcad6796dd": {
      "model_module": "@jupyter-widgets/base",
      "model_module_version": "2.0.0",
      "model_name": "LayoutModel",
      "state": {}
     },
     "b64aba9ae4c0484594269ccb84a79bdd": {
      "model_module": "@jupyter-widgets/output",
      "model_module_version": "1.0.0",
      "model_name": "OutputModel",
      "state": {
       "layout": "IPY_MODEL_5a017b0de8d848dfb02a489f6bdc0623",
       "outputs": [
        {
         "data": {
          "text/html": "<div>\n<style scoped>\n    .dataframe tbody tr th:only-of-type {\n        vertical-align: middle;\n    }\n\n    .dataframe tbody tr th {\n        vertical-align: top;\n    }\n\n    .dataframe thead th {\n        text-align: right;\n    }\n</style>\n<table border=\"1\" class=\"dataframe\">\n  <thead>\n    <tr style=\"text-align: right;\">\n      <th></th>\n      <th>category string</th>\n    </tr>\n    <tr>\n      <th>category_id</th>\n      <th></th>\n    </tr>\n  </thead>\n  <tbody>\n    <tr>\n      <th>1</th>\n      <td>person</td>\n    </tr>\n    <tr>\n      <th>2</th>\n      <td>bicycle</td>\n    </tr>\n    <tr>\n      <th>3</th>\n      <td>car</td>\n    </tr>\n    <tr>\n      <th>4</th>\n      <td>motorcycle</td>\n    </tr>\n    <tr>\n      <th>5</th>\n      <td>airplane</td>\n    </tr>\n    <tr>\n      <th>...</th>\n      <td>...</td>\n    </tr>\n    <tr>\n      <th>86</th>\n      <td>vase</td>\n    </tr>\n    <tr>\n      <th>87</th>\n      <td>scissors</td>\n    </tr>\n    <tr>\n      <th>88</th>\n      <td>teddy bear</td>\n    </tr>\n    <tr>\n      <th>89</th>\n      <td>hair drier</td>\n    </tr>\n    <tr>\n      <th>90</th>\n      <td>toothbrush</td>\n    </tr>\n  </tbody>\n</table>\n<p>80 rows × 1 columns</p>\n</div>",
          "text/plain": "            category string\ncategory_id                \n1                    person\n2                   bicycle\n3                       car\n4                motorcycle\n5                  airplane\n...                     ...\n86                     vase\n87                 scissors\n88               teddy bear\n89               hair drier\n90               toothbrush\n\n[80 rows x 1 columns]"
         },
         "metadata": {},
         "output_type": "display_data"
        }
       ]
      }
     },
     "b6bb53f483984e70a586347fa92c47e8": {
      "model_module": "@jupyter-widgets/output",
      "model_module_version": "1.0.0",
      "model_name": "OutputModel",
      "state": {
       "layout": "IPY_MODEL_92f76b574def4824babeb0351b7c45f7",
       "outputs": [
        {
         "data": {
          "text/html": "<div>\n<style scoped>\n    .dataframe tbody tr th:only-of-type {\n        vertical-align: middle;\n    }\n\n    .dataframe tbody tr th {\n        vertical-align: top;\n    }\n\n    .dataframe thead th {\n        text-align: right;\n    }\n</style>\n<table border=\"1\" class=\"dataframe\">\n  <thead>\n    <tr style=\"text-align: right;\">\n      <th></th>\n      <th>width</th>\n      <th>height</th>\n      <th>relative_path</th>\n      <th>type</th>\n      <th>split</th>\n    </tr>\n    <tr>\n      <th>id</th>\n      <th></th>\n      <th></th>\n      <th></th>\n      <th></th>\n      <th></th>\n    </tr>\n  </thead>\n  <tbody>\n    <tr>\n      <th>6493</th>\n      <td>1920</td>\n      <td>1080</td>\n      <td>Images/NORM0020_frame0282.jpg</td>\n      <td>.jpg</td>\n      <td>Paris</td>\n    </tr>\n    <tr>\n      <th>5890</th>\n      <td>1920</td>\n      <td>1080</td>\n      <td>Images/NORM0018_frame0928.jpg</td>\n      <td>.jpg</td>\n      <td>Paris</td>\n    </tr>\n    <tr>\n      <th>2247</th>\n      <td>1920</td>\n      <td>1080</td>\n      <td>Images/NORM0015_frame183.jpg</td>\n      <td>.jpg</td>\n      <td>Paris</td>\n    </tr>\n    <tr>\n      <th>2189</th>\n      <td>1920</td>\n      <td>1080</td>\n      <td>Images/NORM0015_frame123.jpg</td>\n      <td>.jpg</td>\n      <td>Paris</td>\n    </tr>\n    <tr>\n      <th>5745</th>\n      <td>1920</td>\n      <td>1080</td>\n      <td>Images/NORM0018_frame0763.jpg</td>\n      <td>.jpg</td>\n      <td>Paris</td>\n    </tr>\n    <tr>\n      <th>...</th>\n      <td>...</td>\n      <td>...</td>\n      <td>...</td>\n      <td>...</td>\n      <td>...</td>\n    </tr>\n    <tr>\n      <th>98287</th>\n      <td>415</td>\n      <td>640</td>\n      <td>Images/valid/000000098287.jpg</td>\n      <td>.jpg</td>\n      <td>valid</td>\n    </tr>\n    <tr>\n      <th>507893</th>\n      <td>427</td>\n      <td>640</td>\n      <td>Images/valid/000000507893.jpg</td>\n      <td>.jpg</td>\n      <td>valid</td>\n    </tr>\n    <tr>\n      <th>524280</th>\n      <td>640</td>\n      <td>640</td>\n      <td>Images/valid/000000524280.jpg</td>\n      <td>.jpg</td>\n      <td>valid</td>\n    </tr>\n    <tr>\n      <th>344059</th>\n      <td>640</td>\n      <td>427</td>\n      <td>Images/valid/000000344059.jpg</td>\n      <td>.jpg</td>\n      <td>valid</td>\n    </tr>\n    <tr>\n      <th>311295</th>\n      <td>640</td>\n      <td>427</td>\n      <td>Images/valid/000000311295.jpg</td>\n      <td>.jpg</td>\n      <td>valid</td>\n    </tr>\n  </tbody>\n</table>\n<p>5076 rows × 5 columns</p>\n</div>",
          "text/plain": "        width  height                  relative_path  type  split\nid                                                               \n6493     1920    1080  Images/NORM0020_frame0282.jpg  .jpg  Paris\n5890     1920    1080  Images/NORM0018_frame0928.jpg  .jpg  Paris\n2247     1920    1080   Images/NORM0015_frame183.jpg  .jpg  Paris\n2189     1920    1080   Images/NORM0015_frame123.jpg  .jpg  Paris\n5745     1920    1080  Images/NORM0018_frame0763.jpg  .jpg  Paris\n...       ...     ...                            ...   ...    ...\n98287     415     640  Images/valid/000000098287.jpg  .jpg  valid\n507893    427     640  Images/valid/000000507893.jpg  .jpg  valid\n524280    640     640  Images/valid/000000524280.jpg  .jpg  valid\n344059    640     427  Images/valid/000000344059.jpg  .jpg  valid\n311295    640     427  Images/valid/000000311295.jpg  .jpg  valid\n\n[5076 rows x 5 columns]"
         },
         "metadata": {},
         "output_type": "display_data"
        }
       ]
      }
     },
     "b78b3fc0a8e44db3b3cd13d6a6afe869": {
      "model_module": "@jupyter-widgets/base",
      "model_module_version": "2.0.0",
      "model_name": "LayoutModel",
      "state": {}
     },
     "b8a7a55a22e448aabe6ce60dec5abc5f": {
      "model_module": "@jupyter-widgets/base",
      "model_module_version": "2.0.0",
      "model_name": "LayoutModel",
      "state": {}
     },
     "b8e095a727784910a052e99351504d70": {
      "model_module": "@jupyter-widgets/base",
      "model_module_version": "2.0.0",
      "model_name": "LayoutModel",
      "state": {}
     },
     "b8efc68be03649a0b3adffb9ecf00404": {
      "model_module": "@jupyter-widgets/base",
      "model_module_version": "2.0.0",
      "model_name": "LayoutModel",
      "state": {}
     },
     "b980e912c86342cc8d197540ea3b61d2": {
      "model_module": "@jupyter-widgets/output",
      "model_module_version": "1.0.0",
      "model_name": "OutputModel",
      "state": {
       "layout": "IPY_MODEL_3bed826eda09408fb0bf2e04c4e47e36",
       "outputs": [
        {
         "data": {
          "text/html": "<div>\n<style scoped>\n    .dataframe tbody tr th:only-of-type {\n        vertical-align: middle;\n    }\n\n    .dataframe tbody tr th {\n        vertical-align: top;\n    }\n\n    .dataframe thead th {\n        text-align: right;\n    }\n</style>\n<table border=\"1\" class=\"dataframe\">\n  <thead>\n    <tr style=\"text-align: right;\">\n      <th></th>\n      <th>image_id</th>\n      <th>category_str</th>\n      <th>category_id</th>\n      <th>split</th>\n      <th>box_x_min</th>\n      <th>box_y_min</th>\n      <th>box_width</th>\n      <th>box_height</th>\n      <th>area</th>\n    </tr>\n    <tr>\n      <th>id</th>\n      <th></th>\n      <th></th>\n      <th></th>\n      <th></th>\n      <th></th>\n      <th></th>\n      <th></th>\n      <th></th>\n      <th></th>\n    </tr>\n  </thead>\n  <tbody>\n    <tr>\n      <th>535917</th>\n      <td>352582</td>\n      <td>person</td>\n      <td>1</td>\n      <td>valid</td>\n      <td>0.00</td>\n      <td>256.00</td>\n      <td>80.54</td>\n      <td>376.81</td>\n      <td>22650.73800</td>\n    </tr>\n    <tr>\n      <th>589077</th>\n      <td>113354</td>\n      <td>zebra</td>\n      <td>24</td>\n      <td>valid</td>\n      <td>260.99</td>\n      <td>158.88</td>\n      <td>141.52</td>\n      <td>194.11</td>\n      <td>9978.94125</td>\n    </tr>\n    <tr>\n      <th>592005</th>\n      <td>113354</td>\n      <td>zebra</td>\n      <td>24</td>\n      <td>valid</td>\n      <td>3.24</td>\n      <td>151.28</td>\n      <td>265.34</td>\n      <td>175.82</td>\n      <td>16206.37480</td>\n    </tr>\n    <tr>\n      <th>576900</th>\n      <td>58393</td>\n      <td>bench</td>\n      <td>15</td>\n      <td>valid</td>\n      <td>44.78</td>\n      <td>242.27</td>\n      <td>547.16</td>\n      <td>224.98</td>\n      <td>82291.54995</td>\n    </tr>\n    <tr>\n      <th>322417</th>\n      <td>147729</td>\n      <td>cell phone</td>\n      <td>77</td>\n      <td>valid</td>\n      <td>254.48</td>\n      <td>117.54</td>\n      <td>49.92</td>\n      <td>75.00</td>\n      <td>1306.79705</td>\n    </tr>\n    <tr>\n      <th>...</th>\n      <td>...</td>\n      <td>...</td>\n      <td>...</td>\n      <td>...</td>\n      <td>...</td>\n      <td>...</td>\n      <td>...</td>\n      <td>...</td>\n      <td>...</td>\n    </tr>\n    <tr>\n      <th>578099</th>\n      <td>428280</td>\n      <td>bench</td>\n      <td>15</td>\n      <td>valid</td>\n      <td>0.75</td>\n      <td>184.42</td>\n      <td>181.43</td>\n      <td>132.90</td>\n      <td>13841.81490</td>\n    </tr>\n    <tr>\n      <th>1117514</th>\n      <td>428280</td>\n      <td>keyboard</td>\n      <td>76</td>\n      <td>valid</td>\n      <td>121.04</td>\n      <td>165.65</td>\n      <td>40.27</td>\n      <td>6.02</td>\n      <td>217.08440</td>\n    </tr>\n    <tr>\n      <th>330925</th>\n      <td>349837</td>\n      <td>refrigerator</td>\n      <td>82</td>\n      <td>valid</td>\n      <td>14.97</td>\n      <td>104.02</td>\n      <td>62.11</td>\n      <td>166.12</td>\n      <td>8470.60700</td>\n    </tr>\n    <tr>\n      <th>332788</th>\n      <td>349837</td>\n      <td>refrigerator</td>\n      <td>82</td>\n      <td>valid</td>\n      <td>138.00</td>\n      <td>62.63</td>\n      <td>98.25</td>\n      <td>252.00</td>\n      <td>23037.46875</td>\n    </tr>\n    <tr>\n      <th>333685</th>\n      <td>349837</td>\n      <td>refrigerator</td>\n      <td>82</td>\n      <td>valid</td>\n      <td>335.04</td>\n      <td>10.48</td>\n      <td>125.17</td>\n      <td>318.78</td>\n      <td>37187.97840</td>\n    </tr>\n  </tbody>\n</table>\n<p>18390 rows × 9 columns</p>\n</div>",
          "text/plain": "         image_id  category_str  category_id  split  box_x_min  box_y_min  \\\nid                                                                          \n535917     352582        person            1  valid       0.00     256.00   \n589077     113354         zebra           24  valid     260.99     158.88   \n592005     113354         zebra           24  valid       3.24     151.28   \n576900      58393         bench           15  valid      44.78     242.27   \n322417     147729    cell phone           77  valid     254.48     117.54   \n...           ...           ...          ...    ...        ...        ...   \n578099     428280         bench           15  valid       0.75     184.42   \n1117514    428280      keyboard           76  valid     121.04     165.65   \n330925     349837  refrigerator           82  valid      14.97     104.02   \n332788     349837  refrigerator           82  valid     138.00      62.63   \n333685     349837  refrigerator           82  valid     335.04      10.48   \n\n         box_width  box_height         area  \nid                                           \n535917       80.54      376.81  22650.73800  \n589077      141.52      194.11   9978.94125  \n592005      265.34      175.82  16206.37480  \n576900      547.16      224.98  82291.54995  \n322417       49.92       75.00   1306.79705  \n...            ...         ...          ...  \n578099      181.43      132.90  13841.81490  \n1117514      40.27        6.02    217.08440  \n330925       62.11      166.12   8470.60700  \n332788       98.25      252.00  23037.46875  \n333685      125.17      318.78  37187.97840  \n\n[18390 rows x 9 columns]"
         },
         "metadata": {},
         "output_type": "display_data"
        }
       ]
      }
     },
     "ba07b59a8dcd4f12ae197bdba17a4081": {
      "model_module": "@jupyter-widgets/base",
      "model_module_version": "2.0.0",
      "model_name": "LayoutModel",
      "state": {}
     },
     "ba4c9be84f0049739a9704cc7ba1fc97": {
      "model_module": "@jupyter-widgets/base",
      "model_module_version": "2.0.0",
      "model_name": "LayoutModel",
      "state": {}
     },
     "baea9dbca41f47418600d6921d343386": {
      "model_module": "@jupyter-widgets/controls",
      "model_module_version": "2.0.0",
      "model_name": "VBoxModel",
      "state": {
       "children": [
        "IPY_MODEL_e42a3be280b24ebe8713b30646861e81",
        "IPY_MODEL_44d3c3fb8de24a27b5fd44fb2ec9d271"
       ],
       "layout": "IPY_MODEL_ad1d0e8ccf70489e92d61f052a5ae159"
      }
     },
     "bb4462384b104b4e9366bf2bc44e2481": {
      "model_module": "@jupyter-widgets/output",
      "model_module_version": "1.0.0",
      "model_name": "OutputModel",
      "state": {
       "layout": "IPY_MODEL_fa2fc2f687fa4c698311a6a8630bad21",
       "outputs": [
        {
         "data": {
          "text/html": "<div>\n<style scoped>\n    .dataframe tbody tr th:only-of-type {\n        vertical-align: middle;\n    }\n\n    .dataframe tbody tr th {\n        vertical-align: top;\n    }\n\n    .dataframe thead th {\n        text-align: right;\n    }\n</style>\n<table border=\"1\" class=\"dataframe\">\n  <thead>\n    <tr style=\"text-align: right;\">\n      <th></th>\n      <th>width</th>\n      <th>height</th>\n      <th>relative_path</th>\n      <th>type</th>\n      <th>split</th>\n    </tr>\n    <tr>\n      <th>id</th>\n      <th></th>\n      <th></th>\n      <th></th>\n      <th></th>\n      <th></th>\n    </tr>\n  </thead>\n  <tbody>\n    <tr>\n      <th>10</th>\n      <td>640</td>\n      <td>426</td>\n      <td>Images/valid/000000000139.jpg</td>\n      <td>.jpg</td>\n      <td>valid</td>\n    </tr>\n    <tr>\n      <th>11</th>\n      <td>586</td>\n      <td>640</td>\n      <td>Images/valid/000000000285.jpg</td>\n      <td>.jpg</td>\n      <td>valid</td>\n    </tr>\n    <tr>\n      <th>12</th>\n      <td>640</td>\n      <td>483</td>\n      <td>Images/valid/000000000632.jpg</td>\n      <td>.jpg</td>\n      <td>valid</td>\n    </tr>\n    <tr>\n      <th>13</th>\n      <td>375</td>\n      <td>500</td>\n      <td>Images/valid/000000000724.jpg</td>\n      <td>.jpg</td>\n      <td>valid</td>\n    </tr>\n    <tr>\n      <th>14</th>\n      <td>428</td>\n      <td>640</td>\n      <td>Images/valid/000000000776.jpg</td>\n      <td>.jpg</td>\n      <td>valid</td>\n    </tr>\n    <tr>\n      <th>...</th>\n      <td>...</td>\n      <td>...</td>\n      <td>...</td>\n      <td>...</td>\n      <td>...</td>\n    </tr>\n    <tr>\n      <th>5005</th>\n      <td>640</td>\n      <td>354</td>\n      <td>Images/valid/000000581317.jpg</td>\n      <td>.jpg</td>\n      <td>valid</td>\n    </tr>\n    <tr>\n      <th>5006</th>\n      <td>612</td>\n      <td>612</td>\n      <td>Images/valid/000000581357.jpg</td>\n      <td>.jpg</td>\n      <td>valid</td>\n    </tr>\n    <tr>\n      <th>5007</th>\n      <td>640</td>\n      <td>427</td>\n      <td>Images/valid/000000581482.jpg</td>\n      <td>.jpg</td>\n      <td>valid</td>\n    </tr>\n    <tr>\n      <th>5008</th>\n      <td>478</td>\n      <td>640</td>\n      <td>Images/valid/000000581615.jpg</td>\n      <td>.jpg</td>\n      <td>valid</td>\n    </tr>\n    <tr>\n      <th>5009</th>\n      <td>640</td>\n      <td>478</td>\n      <td>Images/valid/000000581781.jpg</td>\n      <td>.jpg</td>\n      <td>valid</td>\n    </tr>\n  </tbody>\n</table>\n<p>5000 rows × 5 columns</p>\n</div>",
          "text/plain": "      width  height                  relative_path  type  split\nid                                                             \n10      640     426  Images/valid/000000000139.jpg  .jpg  valid\n11      586     640  Images/valid/000000000285.jpg  .jpg  valid\n12      640     483  Images/valid/000000000632.jpg  .jpg  valid\n13      375     500  Images/valid/000000000724.jpg  .jpg  valid\n14      428     640  Images/valid/000000000776.jpg  .jpg  valid\n...     ...     ...                            ...   ...    ...\n5005    640     354  Images/valid/000000581317.jpg  .jpg  valid\n5006    612     612  Images/valid/000000581357.jpg  .jpg  valid\n5007    640     427  Images/valid/000000581482.jpg  .jpg  valid\n5008    478     640  Images/valid/000000581615.jpg  .jpg  valid\n5009    640     478  Images/valid/000000581781.jpg  .jpg  valid\n\n[5000 rows x 5 columns]"
         },
         "metadata": {},
         "output_type": "display_data"
        }
       ]
      }
     },
     "bb6f967f14d344e0bd5669ad4689f243": {
      "model_module": "@jupyter-widgets/base",
      "model_module_version": "2.0.0",
      "model_name": "LayoutModel",
      "state": {}
     },
     "bbfdb4d23a9440c1aaddd36ad24d1208": {
      "model_module": "@jupyter-widgets/output",
      "model_module_version": "1.0.0",
      "model_name": "OutputModel",
      "state": {
       "layout": "IPY_MODEL_d31926bb825d406ea36d40fbff476929",
       "outputs": [
        {
         "data": {
          "text/html": "<div>\n<style scoped>\n    .dataframe tbody tr th:only-of-type {\n        vertical-align: middle;\n    }\n\n    .dataframe tbody tr th {\n        vertical-align: top;\n    }\n\n    .dataframe thead th {\n        text-align: right;\n    }\n</style>\n<table border=\"1\" class=\"dataframe\">\n  <thead>\n    <tr style=\"text-align: right;\">\n      <th></th>\n      <th>image_id</th>\n      <th>category_str</th>\n      <th>category_id</th>\n      <th>split</th>\n      <th>box_x_min</th>\n      <th>box_y_min</th>\n      <th>box_width</th>\n      <th>box_height</th>\n      <th>area</th>\n    </tr>\n    <tr>\n      <th>id</th>\n      <th></th>\n      <th></th>\n      <th></th>\n      <th></th>\n      <th></th>\n      <th></th>\n      <th></th>\n      <th></th>\n      <th></th>\n    </tr>\n  </thead>\n  <tbody>\n    <tr>\n      <th>589077</th>\n      <td>113354</td>\n      <td>zebra</td>\n      <td>24</td>\n      <td>valid</td>\n      <td>260.99</td>\n      <td>158.88</td>\n      <td>141.52</td>\n      <td>194.11</td>\n      <td>9978.94125</td>\n    </tr>\n    <tr>\n      <th>589740</th>\n      <td>113354</td>\n      <td>zebra</td>\n      <td>24</td>\n      <td>valid</td>\n      <td>366.49</td>\n      <td>174.59</td>\n      <td>115.67</td>\n      <td>142.71</td>\n      <td>5784.68620</td>\n    </tr>\n    <tr>\n      <th>592005</th>\n      <td>113354</td>\n      <td>zebra</td>\n      <td>24</td>\n      <td>valid</td>\n      <td>3.24</td>\n      <td>151.28</td>\n      <td>265.34</td>\n      <td>175.82</td>\n      <td>16206.37480</td>\n    </tr>\n  </tbody>\n</table>\n</div>",
          "text/plain": "        image_id category_str  category_id  split  box_x_min  box_y_min  \\\nid                                                                        \n589077    113354        zebra           24  valid     260.99     158.88   \n589740    113354        zebra           24  valid     366.49     174.59   \n592005    113354        zebra           24  valid       3.24     151.28   \n\n        box_width  box_height         area  \nid                                          \n589077     141.52      194.11   9978.94125  \n589740     115.67      142.71   5784.68620  \n592005     265.34      175.82  16206.37480  "
         },
         "metadata": {},
         "output_type": "display_data"
        }
       ]
      }
     },
     "bc76242669d94ef9a846f77b88e3ae51": {
      "model_module": "@jupyter-widgets/base",
      "model_module_version": "2.0.0",
      "model_name": "LayoutModel",
      "state": {}
     },
     "bc91ae56ebad45d3a817b074743e94ab": {
      "model_module": "@jupyter-widgets/controls",
      "model_module_version": "2.0.0",
      "model_name": "TabModel",
      "state": {
       "children": [
        "IPY_MODEL_8866070e785345b5a49551110ed6f1c4",
        "IPY_MODEL_484a683f058b4f2a83759a3a75551b9f",
        "IPY_MODEL_6fd00400082e4cd887a8653fded7f9ef"
       ],
       "layout": "IPY_MODEL_d8b4bc9c844a4f58bf4571cbe7af2136",
       "selected_index": 0,
       "titles": [
        "Images",
        "Annotations",
        "Label Map"
       ]
      }
     },
     "be068f84bdb143528958fa4a53c67238": {
      "model_module": "@jupyter-widgets/controls",
      "model_module_version": "2.0.0",
      "model_name": "TabModel",
      "state": {
       "children": [
        "IPY_MODEL_5785926c454d47ac882ec6924f2d8120",
        "IPY_MODEL_3bef596caff049db9aaeb69ed2efedab",
        "IPY_MODEL_4690c73043464e7ba090c642268abcce"
       ],
       "layout": "IPY_MODEL_584b7077356449debe4c2b23f086ed9d",
       "selected_index": 0,
       "titles": [
        "Images",
        "Annotations",
        "Label Map"
       ]
      }
     },
     "be1a9f5f95b741a7a45238443bceafb3": {
      "model_module": "@jupyter-widgets/base",
      "model_module_version": "2.0.0",
      "model_name": "LayoutModel",
      "state": {}
     },
     "bedb4bd1670c4e22b1ec4fdb51fab79e": {
      "model_module": "@jupyter-widgets/base",
      "model_module_version": "2.0.0",
      "model_name": "LayoutModel",
      "state": {}
     },
     "bf201b396f8d44d38c03c7b6acdaaaab": {
      "model_module": "@jupyter-widgets/controls",
      "model_module_version": "2.0.0",
      "model_name": "TabModel",
      "state": {
       "children": [
        "IPY_MODEL_18979c5911324f4387b6ebc581d763a8",
        "IPY_MODEL_53a00408a1f04292b07cf3406f47fb46",
        "IPY_MODEL_124de2c7cc8e4c51984f12359b9c672d"
       ],
       "layout": "IPY_MODEL_3ba04c02df0443dc8bf6107f9f7e4a6c",
       "selected_index": 0,
       "titles": [
        "Images",
        "Annotations",
        "Label Map"
       ]
      }
     },
     "c00c162a663347309527f2fd54726282": {
      "model_module": "@jupyter-widgets/output",
      "model_module_version": "1.0.0",
      "model_name": "OutputModel",
      "state": {
       "layout": "IPY_MODEL_bc76242669d94ef9a846f77b88e3ae51",
       "outputs": [
        {
         "data": {
          "text/html": "<div>\n<style scoped>\n    .dataframe tbody tr th:only-of-type {\n        vertical-align: middle;\n    }\n\n    .dataframe tbody tr th {\n        vertical-align: top;\n    }\n\n    .dataframe thead th {\n        text-align: right;\n    }\n</style>\n<table border=\"1\" class=\"dataframe\">\n  <thead>\n    <tr style=\"text-align: right;\">\n      <th></th>\n      <th>image_id</th>\n      <th>category_str</th>\n      <th>category_id</th>\n      <th>split</th>\n      <th>box_x_min</th>\n      <th>box_y_min</th>\n      <th>box_width</th>\n      <th>box_height</th>\n      <th>area</th>\n    </tr>\n    <tr>\n      <th>id</th>\n      <th></th>\n      <th></th>\n      <th></th>\n      <th></th>\n      <th></th>\n      <th></th>\n      <th></th>\n      <th></th>\n      <th></th>\n    </tr>\n  </thead>\n  <tbody>\n    <tr>\n      <th>460450</th>\n      <td>352582</td>\n      <td>person</td>\n      <td>2</td>\n      <td>valid</td>\n      <td>112.43</td>\n      <td>195.32</td>\n      <td>214.78</td>\n      <td>438.19</td>\n      <td>48685.67910</td>\n    </tr>\n    <tr>\n      <th>535917</th>\n      <td>352582</td>\n      <td>person</td>\n      <td>2</td>\n      <td>valid</td>\n      <td>0.00</td>\n      <td>256.00</td>\n      <td>80.54</td>\n      <td>376.81</td>\n      <td>22650.73800</td>\n    </tr>\n    <tr>\n      <th>467905</th>\n      <td>58393</td>\n      <td>person</td>\n      <td>2</td>\n      <td>valid</td>\n      <td>342.52</td>\n      <td>163.33</td>\n      <td>192.24</td>\n      <td>77.47</td>\n      <td>5408.64720</td>\n    </tr>\n    <tr>\n      <th>1710990</th>\n      <td>58393</td>\n      <td>person</td>\n      <td>2</td>\n      <td>valid</td>\n      <td>418.99</td>\n      <td>182.65</td>\n      <td>61.12</td>\n      <td>45.00</td>\n      <td>1792.80770</td>\n    </tr>\n    <tr>\n      <th>1238519</th>\n      <td>147729</td>\n      <td>person</td>\n      <td>2</td>\n      <td>valid</td>\n      <td>0.00</td>\n      <td>87.01</td>\n      <td>310.67</td>\n      <td>287.99</td>\n      <td>55847.52705</td>\n    </tr>\n    <tr>\n      <th>...</th>\n      <td>...</td>\n      <td>...</td>\n      <td>...</td>\n      <td>...</td>\n      <td>...</td>\n      <td>...</td>\n      <td>...</td>\n      <td>...</td>\n      <td>...</td>\n    </tr>\n    <tr>\n      <th>1420625</th>\n      <td>363188</td>\n      <td>bag</td>\n      <td>61</td>\n      <td>valid</td>\n      <td>221.41</td>\n      <td>199.76</td>\n      <td>91.36</td>\n      <td>63.64</td>\n      <td>865.42470</td>\n    </tr>\n    <tr>\n      <th>2026890</th>\n      <td>363188</td>\n      <td>person</td>\n      <td>2</td>\n      <td>valid</td>\n      <td>80.77</td>\n      <td>158.46</td>\n      <td>23.14</td>\n      <td>45.34</td>\n      <td>600.52020</td>\n    </tr>\n    <tr>\n      <th>900100363188</th>\n      <td>363188</td>\n      <td>person</td>\n      <td>2</td>\n      <td>valid</td>\n      <td>0.00</td>\n      <td>129.00</td>\n      <td>305.00</td>\n      <td>115.00</td>\n      <td>4293.00000</td>\n    </tr>\n    <tr>\n      <th>1724916</th>\n      <td>311180</td>\n      <td>person</td>\n      <td>2</td>\n      <td>valid</td>\n      <td>0.92</td>\n      <td>103.12</td>\n      <td>446.49</td>\n      <td>536.47</td>\n      <td>125482.38805</td>\n    </tr>\n    <tr>\n      <th>1192747</th>\n      <td>105455</td>\n      <td>sedan</td>\n      <td>100</td>\n      <td>valid</td>\n      <td>333.56</td>\n      <td>517.21</td>\n      <td>17.43</td>\n      <td>14.58</td>\n      <td>182.21680</td>\n    </tr>\n  </tbody>\n</table>\n<p>16147 rows × 9 columns</p>\n</div>",
          "text/plain": "              image_id category_str  category_id  split  box_x_min  box_y_min  \\\nid                                                                              \n460450          352582       person            2  valid     112.43     195.32   \n535917          352582       person            2  valid       0.00     256.00   \n467905           58393       person            2  valid     342.52     163.33   \n1710990          58393       person            2  valid     418.99     182.65   \n1238519         147729       person            2  valid       0.00      87.01   \n...                ...          ...          ...    ...        ...        ...   \n1420625         363188          bag           61  valid     221.41     199.76   \n2026890         363188       person            2  valid      80.77     158.46   \n900100363188    363188       person            2  valid       0.00     129.00   \n1724916         311180       person            2  valid       0.92     103.12   \n1192747         105455        sedan          100  valid     333.56     517.21   \n\n              box_width  box_height          area  \nid                                                 \n460450           214.78      438.19   48685.67910  \n535917            80.54      376.81   22650.73800  \n467905           192.24       77.47    5408.64720  \n1710990           61.12       45.00    1792.80770  \n1238519          310.67      287.99   55847.52705  \n...                 ...         ...           ...  \n1420625           91.36       63.64     865.42470  \n2026890           23.14       45.34     600.52020  \n900100363188     305.00      115.00    4293.00000  \n1724916          446.49      536.47  125482.38805  \n1192747           17.43       14.58     182.21680  \n\n[16147 rows x 9 columns]"
         },
         "metadata": {},
         "output_type": "display_data"
        }
       ]
      }
     },
     "c0248a690e684be4a425ea2258a92f50": {
      "model_module": "@jupyter-widgets/base",
      "model_module_version": "2.0.0",
      "model_name": "LayoutModel",
      "state": {}
     },
     "c0d860e092934ea5a2ebd12f84322fe1": {
      "model_module": "@jupyter-widgets/controls",
      "model_module_version": "2.0.0",
      "model_name": "HTMLModel",
      "state": {
       "layout": "IPY_MODEL_562914ef9a784277a4e422b9e7b527fe",
       "style": "IPY_MODEL_e715cd29143641e1aa536a5f73b00a74",
       "value": "<p><span style='white-space: pre-wrap; font-weight: bold'>Dataset object containing 5,000 images and 36,781 objects\nName :\n\tcoco\nImages root :\n\tnotebook_data</span></p>"
      }
     },
     "c259d5ca11ee4e528183f9b259bba383": {
      "model_module": "@jupyter-widgets/base",
      "model_module_version": "2.0.0",
      "model_name": "LayoutModel",
      "state": {}
     },
     "c2972b90c94b4f49ad06b3ebfa80f78e": {
      "model_module": "@jupyter-widgets/controls",
      "model_module_version": "2.0.0",
      "model_name": "HTMLModel",
      "state": {
       "layout": "IPY_MODEL_c5dd9f6ff57b46b0896b4967e34afe6f",
       "style": "IPY_MODEL_5325a2c6f5e347cdbdb4246f9b7c00f5",
       "value": "<p><span style='white-space: pre-wrap; font-weight: bold'>Dataset object containing 5,000 images and 18,391 objects\nName :\n\tcoco\nImages root :\n\tnotebook_data</span></p>"
      }
     },
     "c417fee3d8f34750a905b314223cd36e": {
      "model_module": "@jupyter-widgets/base",
      "model_module_version": "2.0.0",
      "model_name": "LayoutModel",
      "state": {}
     },
     "c572ffaa12b845f485859ee7a5558489": {
      "model_module": "@jupyter-widgets/base",
      "model_module_version": "2.0.0",
      "model_name": "LayoutModel",
      "state": {}
     },
     "c5dd9f6ff57b46b0896b4967e34afe6f": {
      "model_module": "@jupyter-widgets/base",
      "model_module_version": "2.0.0",
      "model_name": "LayoutModel",
      "state": {}
     },
     "c6411dd5bd3d4967b3ab76ebe377228b": {
      "model_module": "@jupyter-widgets/base",
      "model_module_version": "2.0.0",
      "model_name": "LayoutModel",
      "state": {}
     },
     "c6e20f31e53c4079a45532555e89d324": {
      "model_module": "@jupyter-widgets/output",
      "model_module_version": "1.0.0",
      "model_name": "OutputModel",
      "state": {
       "layout": "IPY_MODEL_0c708588cba74f558e1ffa788728f142",
       "outputs": [
        {
         "data": {
          "text/html": "<div>\n<style scoped>\n    .dataframe tbody tr th:only-of-type {\n        vertical-align: middle;\n    }\n\n    .dataframe tbody tr th {\n        vertical-align: top;\n    }\n\n    .dataframe thead th {\n        text-align: right;\n    }\n</style>\n<table border=\"1\" class=\"dataframe\">\n  <thead>\n    <tr style=\"text-align: right;\">\n      <th></th>\n      <th>category string</th>\n    </tr>\n    <tr>\n      <th>category_id</th>\n      <th></th>\n    </tr>\n  </thead>\n  <tbody>\n    <tr>\n      <th>1</th>\n      <td>person</td>\n    </tr>\n    <tr>\n      <th>2</th>\n      <td>bicycle</td>\n    </tr>\n    <tr>\n      <th>3</th>\n      <td>car</td>\n    </tr>\n    <tr>\n      <th>4</th>\n      <td>motorcycle</td>\n    </tr>\n    <tr>\n      <th>5</th>\n      <td>airplane</td>\n    </tr>\n    <tr>\n      <th>...</th>\n      <td>...</td>\n    </tr>\n    <tr>\n      <th>86</th>\n      <td>vase</td>\n    </tr>\n    <tr>\n      <th>87</th>\n      <td>scissors</td>\n    </tr>\n    <tr>\n      <th>88</th>\n      <td>teddy bear</td>\n    </tr>\n    <tr>\n      <th>89</th>\n      <td>hair drier</td>\n    </tr>\n    <tr>\n      <th>90</th>\n      <td>toothbrush</td>\n    </tr>\n  </tbody>\n</table>\n<p>80 rows × 1 columns</p>\n</div>",
          "text/plain": "            category string\ncategory_id                \n1                    person\n2                   bicycle\n3                       car\n4                motorcycle\n5                  airplane\n...                     ...\n86                     vase\n87                 scissors\n88               teddy bear\n89               hair drier\n90               toothbrush\n\n[80 rows x 1 columns]"
         },
         "metadata": {},
         "output_type": "display_data"
        }
       ]
      }
     },
     "c809aeda1ca94d378c54d210891e5745": {
      "model_module": "@jupyter-widgets/base",
      "model_module_version": "2.0.0",
      "model_name": "LayoutModel",
      "state": {}
     },
     "c80b1625d5c248d4b69aea8814bffd4d": {
      "model_module": "@jupyter-widgets/controls",
      "model_module_version": "2.0.0",
      "model_name": "HTMLModel",
      "state": {
       "layout": "IPY_MODEL_649d1e92ccb14b228ac02eae8896d0e3",
       "style": "IPY_MODEL_7b439da9083b497faeabde84b2b6936f",
       "value": "<p><span style='white-space: pre-wrap; font-weight: bold'>Dataset object containing 5,076 images and 19,822 objects\nName :\n\tsmartcity_capta+coco\nImages root :\n\tnotebook_data</span></p>"
      }
     },
     "c8707bef186a4880894260f278718efd": {
      "model_module": "@jupyter-widgets/base",
      "model_module_version": "2.0.0",
      "model_name": "LayoutModel",
      "state": {}
     },
     "c88eb912639647eeb382b2315fb3144a": {
      "model_module": "@jupyter-widgets/output",
      "model_module_version": "1.0.0",
      "model_name": "OutputModel",
      "state": {
       "layout": "IPY_MODEL_8da4dc5f90684d39a3623070462c412d",
       "outputs": [
        {
         "data": {
          "text/html": "<div>\n<style scoped>\n    .dataframe tbody tr th:only-of-type {\n        vertical-align: middle;\n    }\n\n    .dataframe tbody tr th {\n        vertical-align: top;\n    }\n\n    .dataframe thead th {\n        text-align: right;\n    }\n</style>\n<table border=\"1\" class=\"dataframe\">\n  <thead>\n    <tr style=\"text-align: right;\">\n      <th></th>\n      <th>image_id</th>\n      <th>category_str</th>\n      <th>category_id</th>\n      <th>split</th>\n      <th>box_x_min</th>\n      <th>box_y_min</th>\n      <th>box_width</th>\n      <th>box_height</th>\n      <th>area</th>\n    </tr>\n    <tr>\n      <th>id</th>\n      <th></th>\n      <th></th>\n      <th></th>\n      <th></th>\n      <th></th>\n      <th></th>\n      <th></th>\n      <th></th>\n      <th></th>\n    </tr>\n  </thead>\n  <tbody>\n    <tr>\n      <th>2</th>\n      <td>29</td>\n      <td>airplane</td>\n      <td>5</td>\n      <td>valid</td>\n      <td>282.23</td>\n      <td>139.38</td>\n      <td>51.22</td>\n      <td>43.78</td>\n      <td>567.94110</td>\n    </tr>\n    <tr>\n      <th>3</th>\n      <td>29</td>\n      <td>airplane</td>\n      <td>5</td>\n      <td>valid</td>\n      <td>150.17</td>\n      <td>8.63</td>\n      <td>74.09</td>\n      <td>77.19</td>\n      <td>1454.47215</td>\n    </tr>\n    <tr>\n      <th>4</th>\n      <td>61</td>\n      <td>airplane</td>\n      <td>5</td>\n      <td>valid</td>\n      <td>9.43</td>\n      <td>105.72</td>\n      <td>621.76</td>\n      <td>183.15</td>\n      <td>40544.34585</td>\n    </tr>\n    <tr>\n      <th>5</th>\n      <td>61</td>\n      <td>airplane</td>\n      <td>5</td>\n      <td>valid</td>\n      <td>51.40</td>\n      <td>249.06</td>\n      <td>250.44</td>\n      <td>28.09</td>\n      <td>2415.22505</td>\n    </tr>\n    <tr>\n      <th>6</th>\n      <td>139</td>\n      <td>airplane</td>\n      <td>5</td>\n      <td>valid</td>\n      <td>0.00</td>\n      <td>142.01</td>\n      <td>566.13</td>\n      <td>143.94</td>\n      <td>30298.91215</td>\n    </tr>\n    <tr>\n      <th>...</th>\n      <td>...</td>\n      <td>...</td>\n      <td>...</td>\n      <td>...</td>\n      <td>...</td>\n      <td>...</td>\n      <td>...</td>\n      <td>...</td>\n      <td>...</td>\n    </tr>\n    <tr>\n      <th>36778</th>\n      <td>4838</td>\n      <td>zebra</td>\n      <td>24</td>\n      <td>valid</td>\n      <td>70.11</td>\n      <td>2.16</td>\n      <td>433.62</td>\n      <td>434.69</td>\n      <td>122687.61775</td>\n    </tr>\n    <tr>\n      <th>36779</th>\n      <td>4966</td>\n      <td>zebra</td>\n      <td>24</td>\n      <td>valid</td>\n      <td>107.31</td>\n      <td>141.64</td>\n      <td>79.67</td>\n      <td>159.54</td>\n      <td>5946.64725</td>\n    </tr>\n    <tr>\n      <th>36780</th>\n      <td>4966</td>\n      <td>zebra</td>\n      <td>24</td>\n      <td>valid</td>\n      <td>342.29</td>\n      <td>164.82</td>\n      <td>224.42</td>\n      <td>222.78</td>\n      <td>23360.62700</td>\n    </tr>\n    <tr>\n      <th>36781</th>\n      <td>4966</td>\n      <td>zebra</td>\n      <td>24</td>\n      <td>valid</td>\n      <td>418.15</td>\n      <td>164.91</td>\n      <td>82.46</td>\n      <td>63.51</td>\n      <td>3431.98040</td>\n    </tr>\n    <tr>\n      <th>36782</th>\n      <td>4966</td>\n      <td>zebra</td>\n      <td>24</td>\n      <td>valid</td>\n      <td>190.56</td>\n      <td>143.91</td>\n      <td>61.39</td>\n      <td>172.45</td>\n      <td>5648.15435</td>\n    </tr>\n  </tbody>\n</table>\n<p>36781 rows × 9 columns</p>\n</div>",
          "text/plain": "       image_id category_str  category_id  split  box_x_min  box_y_min  \\\nid                                                                       \n2            29     airplane            5  valid     282.23     139.38   \n3            29     airplane            5  valid     150.17       8.63   \n4            61     airplane            5  valid       9.43     105.72   \n5            61     airplane            5  valid      51.40     249.06   \n6           139     airplane            5  valid       0.00     142.01   \n...         ...          ...          ...    ...        ...        ...   \n36778      4838        zebra           24  valid      70.11       2.16   \n36779      4966        zebra           24  valid     107.31     141.64   \n36780      4966        zebra           24  valid     342.29     164.82   \n36781      4966        zebra           24  valid     418.15     164.91   \n36782      4966        zebra           24  valid     190.56     143.91   \n\n       box_width  box_height          area  \nid                                          \n2          51.22       43.78     567.94110  \n3          74.09       77.19    1454.47215  \n4         621.76      183.15   40544.34585  \n5         250.44       28.09    2415.22505  \n6         566.13      143.94   30298.91215  \n...          ...         ...           ...  \n36778     433.62      434.69  122687.61775  \n36779      79.67      159.54    5946.64725  \n36780     224.42      222.78   23360.62700  \n36781      82.46       63.51    3431.98040  \n36782      61.39      172.45    5648.15435  \n\n[36781 rows x 9 columns]"
         },
         "metadata": {},
         "output_type": "display_data"
        }
       ]
      }
     },
     "c93d2cfc133b401282f6f045f1bb0223": {
      "model_module": "@jupyter-widgets/output",
      "model_module_version": "1.0.0",
      "model_name": "OutputModel",
      "state": {
       "layout": "IPY_MODEL_000a5e54b1f8484e853f08284f4e546b",
       "outputs": [
        {
         "data": {
          "text/html": "<div>\n<style scoped>\n    .dataframe tbody tr th:only-of-type {\n        vertical-align: middle;\n    }\n\n    .dataframe tbody tr th {\n        vertical-align: top;\n    }\n\n    .dataframe thead th {\n        text-align: right;\n    }\n</style>\n<table border=\"1\" class=\"dataframe\">\n  <thead>\n    <tr style=\"text-align: right;\">\n      <th></th>\n      <th>image_id</th>\n      <th>category_str</th>\n      <th>category_id</th>\n      <th>split</th>\n      <th>box_x_min</th>\n      <th>box_y_min</th>\n      <th>box_width</th>\n      <th>box_height</th>\n      <th>area</th>\n    </tr>\n    <tr>\n      <th>id</th>\n      <th></th>\n      <th></th>\n      <th></th>\n      <th></th>\n      <th></th>\n      <th></th>\n      <th></th>\n      <th></th>\n      <th></th>\n    </tr>\n  </thead>\n  <tbody>\n    <tr>\n      <th>460450</th>\n      <td>352582</td>\n      <td>person</td>\n      <td>1</td>\n      <td>valid</td>\n      <td>112.43</td>\n      <td>195.32</td>\n      <td>214.78</td>\n      <td>438.19</td>\n      <td>48685.67910</td>\n    </tr>\n    <tr>\n      <th>535917</th>\n      <td>352582</td>\n      <td>person</td>\n      <td>1</td>\n      <td>valid</td>\n      <td>0.00</td>\n      <td>256.00</td>\n      <td>80.54</td>\n      <td>376.81</td>\n      <td>22650.73800</td>\n    </tr>\n    <tr>\n      <th>602093</th>\n      <td>352582</td>\n      <td>frisbee</td>\n      <td>34</td>\n      <td>valid</td>\n      <td>171.63</td>\n      <td>424.03</td>\n      <td>85.89</td>\n      <td>40.67</td>\n      <td>2605.72090</td>\n    </tr>\n    <tr>\n      <th>589077</th>\n      <td>113354</td>\n      <td>zebra</td>\n      <td>24</td>\n      <td>valid</td>\n      <td>260.99</td>\n      <td>158.88</td>\n      <td>141.52</td>\n      <td>194.11</td>\n      <td>9978.94125</td>\n    </tr>\n    <tr>\n      <th>589740</th>\n      <td>113354</td>\n      <td>zebra</td>\n      <td>24</td>\n      <td>valid</td>\n      <td>366.49</td>\n      <td>174.59</td>\n      <td>115.67</td>\n      <td>142.71</td>\n      <td>5784.68620</td>\n    </tr>\n    <tr>\n      <th>...</th>\n      <td>...</td>\n      <td>...</td>\n      <td>...</td>\n      <td>...</td>\n      <td>...</td>\n      <td>...</td>\n      <td>...</td>\n      <td>...</td>\n      <td>...</td>\n    </tr>\n    <tr>\n      <th>331107</th>\n      <td>349837</td>\n      <td>refrigerator</td>\n      <td>82</td>\n      <td>valid</td>\n      <td>66.00</td>\n      <td>94.87</td>\n      <td>71.25</td>\n      <td>194.26</td>\n      <td>12029.44125</td>\n    </tr>\n    <tr>\n      <th>332788</th>\n      <td>349837</td>\n      <td>refrigerator</td>\n      <td>82</td>\n      <td>valid</td>\n      <td>138.00</td>\n      <td>62.63</td>\n      <td>98.25</td>\n      <td>252.00</td>\n      <td>23037.46875</td>\n    </tr>\n    <tr>\n      <th>333394</th>\n      <td>349837</td>\n      <td>refrigerator</td>\n      <td>82</td>\n      <td>valid</td>\n      <td>234.44</td>\n      <td>29.87</td>\n      <td>113.49</td>\n      <td>298.65</td>\n      <td>30406.51295</td>\n    </tr>\n    <tr>\n      <th>333685</th>\n      <td>349837</td>\n      <td>refrigerator</td>\n      <td>82</td>\n      <td>valid</td>\n      <td>335.04</td>\n      <td>10.48</td>\n      <td>125.17</td>\n      <td>318.78</td>\n      <td>37187.97840</td>\n    </tr>\n    <tr>\n      <th>333731</th>\n      <td>349837</td>\n      <td>refrigerator</td>\n      <td>82</td>\n      <td>valid</td>\n      <td>460.39</td>\n      <td>0.00</td>\n      <td>39.61</td>\n      <td>328.64</td>\n      <td>12492.52165</td>\n    </tr>\n  </tbody>\n</table>\n<p>34818 rows × 9 columns</p>\n</div>",
          "text/plain": "        image_id  category_str  category_id  split  box_x_min  box_y_min  \\\nid                                                                         \n460450    352582        person            1  valid     112.43     195.32   \n535917    352582        person            1  valid       0.00     256.00   \n602093    352582       frisbee           34  valid     171.63     424.03   \n589077    113354         zebra           24  valid     260.99     158.88   \n589740    113354         zebra           24  valid     366.49     174.59   \n...          ...           ...          ...    ...        ...        ...   \n331107    349837  refrigerator           82  valid      66.00      94.87   \n332788    349837  refrigerator           82  valid     138.00      62.63   \n333394    349837  refrigerator           82  valid     234.44      29.87   \n333685    349837  refrigerator           82  valid     335.04      10.48   \n333731    349837  refrigerator           82  valid     460.39       0.00   \n\n        box_width  box_height         area  \nid                                          \n460450     214.78      438.19  48685.67910  \n535917      80.54      376.81  22650.73800  \n602093      85.89       40.67   2605.72090  \n589077     141.52      194.11   9978.94125  \n589740     115.67      142.71   5784.68620  \n...           ...         ...          ...  \n331107      71.25      194.26  12029.44125  \n332788      98.25      252.00  23037.46875  \n333394     113.49      298.65  30406.51295  \n333685     125.17      318.78  37187.97840  \n333731      39.61      328.64  12492.52165  \n\n[34818 rows x 9 columns]"
         },
         "metadata": {},
         "output_type": "display_data"
        }
       ]
      }
     },
     "c97e3bee005b413d880e928a544d3b93": {
      "model_module": "@jupyter-widgets/controls",
      "model_module_version": "2.0.0",
      "model_name": "HTMLModel",
      "state": {
       "layout": "IPY_MODEL_aec15b706feb48c3a2221de4a0413308",
       "style": "IPY_MODEL_a89a3d4f3b88410084208619d227f84f",
       "value": "<p><span style='white-space: pre-wrap; font-weight: bold'>Dataset object containing 1 image and 3 objects\nName :\n\tcoco\nImages root :\n\tnotebook_data</span></p>"
      }
     },
     "ca5cf90d157543809b2d73cc8535dc2a": {
      "model_module": "@jupyter-widgets/base",
      "model_module_version": "2.0.0",
      "model_name": "LayoutModel",
      "state": {}
     },
     "cadb58ff30e043c998fae6ee670d2804": {
      "model_module": "@jupyter-widgets/base",
      "model_module_version": "2.0.0",
      "model_name": "LayoutModel",
      "state": {}
     },
     "cb34e0259b7b42dca74f2e85e1c4cd83": {
      "model_module": "@jupyter-widgets/output",
      "model_module_version": "1.0.0",
      "model_name": "OutputModel",
      "state": {
       "layout": "IPY_MODEL_8b6c8cf1908b4457ad894110df2ccdb8",
       "outputs": [
        {
         "data": {
          "text/html": "<div>\n<style scoped>\n    .dataframe tbody tr th:only-of-type {\n        vertical-align: middle;\n    }\n\n    .dataframe tbody tr th {\n        vertical-align: top;\n    }\n\n    .dataframe thead th {\n        text-align: right;\n    }\n</style>\n<table border=\"1\" class=\"dataframe\">\n  <thead>\n    <tr style=\"text-align: right;\">\n      <th></th>\n      <th>category string</th>\n    </tr>\n    <tr>\n      <th>category_id</th>\n      <th></th>\n    </tr>\n  </thead>\n  <tbody>\n    <tr>\n      <th>2</th>\n      <td>person</td>\n    </tr>\n    <tr>\n      <th>111</th>\n      <td>bicycle</td>\n    </tr>\n    <tr>\n      <th>100</th>\n      <td>sedan</td>\n    </tr>\n    <tr>\n      <th>110</th>\n      <td>motorcycle</td>\n    </tr>\n    <tr>\n      <th>102</th>\n      <td>bus</td>\n    </tr>\n    <tr>\n      <th>12</th>\n      <td>train</td>\n    </tr>\n    <tr>\n      <th>10</th>\n      <td>car</td>\n    </tr>\n    <tr>\n      <th>41</th>\n      <td>domestical animal</td>\n    </tr>\n    <tr>\n      <th>410</th>\n      <td>dog</td>\n    </tr>\n    <tr>\n      <th>61</th>\n      <td>bag</td>\n    </tr>\n    <tr>\n      <th>60</th>\n      <td>suitcase</td>\n    </tr>\n  </tbody>\n</table>\n</div>",
          "text/plain": "               category string\ncategory_id                   \n2                       person\n111                    bicycle\n100                      sedan\n110                 motorcycle\n102                        bus\n12                       train\n10                         car\n41           domestical animal\n410                        dog\n61                         bag\n60                    suitcase"
         },
         "metadata": {},
         "output_type": "display_data"
        }
       ]
      }
     },
     "cbc53dde861749d4b4644390f6d89b24": {
      "model_module": "@jupyter-widgets/controls",
      "model_module_version": "2.0.0",
      "model_name": "HTMLStyleModel",
      "state": {
       "description_width": "",
       "font_size": null,
       "text_color": null
      }
     },
     "cc92f80ed7f64507864d11686ca932ed": {
      "model_module": "@jupyter-widgets/base",
      "model_module_version": "2.0.0",
      "model_name": "LayoutModel",
      "state": {}
     },
     "ccafb9f9f93b452f9b3e814de8580e87": {
      "model_module": "@jupyter-widgets/controls",
      "model_module_version": "2.0.0",
      "model_name": "HTMLModel",
      "state": {
       "layout": "IPY_MODEL_35f84b4b3b814c9f8c65f601f9de52c7",
       "style": "IPY_MODEL_45971d712c1c4124958d079879aedb19",
       "value": "<p><span style='white-space: pre-wrap; font-weight: bold'>Dataset object containing 2 images and 1 object\nName :\n\tcoco\nImages root :\n\tnotebook_data</span></p>"
      }
     },
     "cdb2244ab6324797b2d8130dd7866839": {
      "model_module": "@jupyter-widgets/controls",
      "model_module_version": "2.0.0",
      "model_name": "TabModel",
      "state": {
       "children": [
        "IPY_MODEL_87b279cadf97461ca3f14ca371df9b8e",
        "IPY_MODEL_922e430cc62c4c54ad988163641fc111",
        "IPY_MODEL_3f1ac25d4b364b9ebea791c29d10fa9f"
       ],
       "layout": "IPY_MODEL_23897ec8a10d41658c76b17eb00cf4d4",
       "selected_index": 0,
       "titles": [
        "Images",
        "Annotations",
        "Label Map"
       ]
      }
     },
     "cfcd6ea1fc124ddb9c7419fdb1e18c9e": {
      "model_module": "@jupyter-widgets/controls",
      "model_module_version": "2.0.0",
      "model_name": "TabModel",
      "state": {
       "children": [
        "IPY_MODEL_8b16b8c0e8934287a02f8dede6779d8e",
        "IPY_MODEL_b0981334e1e44bc29936fb70b73a97a8",
        "IPY_MODEL_3a5cf62bea6d48008548721eb87a96dd"
       ],
       "layout": "IPY_MODEL_2055ad3d77a84aa69d7093f46273f036",
       "selected_index": 0,
       "titles": [
        "Images",
        "Annotations",
        "Label Map"
       ]
      }
     },
     "d24df15b211a47abbdec19ef62c8883d": {
      "model_module": "@jupyter-widgets/controls",
      "model_module_version": "2.0.0",
      "model_name": "VBoxModel",
      "state": {
       "children": [
        "IPY_MODEL_e3084fee85314470b2978885adaf88c2",
        "IPY_MODEL_d4cad2637a7545adb905408699f590fb"
       ],
       "layout": "IPY_MODEL_c6411dd5bd3d4967b3ab76ebe377228b"
      }
     },
     "d31926bb825d406ea36d40fbff476929": {
      "model_module": "@jupyter-widgets/base",
      "model_module_version": "2.0.0",
      "model_name": "LayoutModel",
      "state": {}
     },
     "d4a3c75f41264f90a6ad3589e582f618": {
      "model_module": "@jupyter-widgets/output",
      "model_module_version": "1.0.0",
      "model_name": "OutputModel",
      "state": {
       "layout": "IPY_MODEL_a4a609c3e02041e892e87a1e15cf5dae",
       "outputs": [
        {
         "data": {
          "text/html": "<div>\n<style scoped>\n    .dataframe tbody tr th:only-of-type {\n        vertical-align: middle;\n    }\n\n    .dataframe tbody tr th {\n        vertical-align: top;\n    }\n\n    .dataframe thead th {\n        text-align: right;\n    }\n</style>\n<table border=\"1\" class=\"dataframe\">\n  <thead>\n    <tr style=\"text-align: right;\">\n      <th></th>\n      <th>width</th>\n      <th>height</th>\n      <th>relative_path</th>\n      <th>type</th>\n      <th>split</th>\n    </tr>\n    <tr>\n      <th>id</th>\n      <th></th>\n      <th></th>\n      <th></th>\n      <th></th>\n      <th></th>\n    </tr>\n  </thead>\n  <tbody>\n    <tr>\n      <th>352582</th>\n      <td>425</td>\n      <td>640</td>\n      <td>Images/valid/000000352582.jpg</td>\n      <td>.jpg</td>\n      <td>valid</td>\n    </tr>\n    <tr>\n      <th>113354</th>\n      <td>640</td>\n      <td>480</td>\n      <td>Images/valid/000000113354.jpg</td>\n      <td>.jpg</td>\n      <td>valid</td>\n    </tr>\n    <tr>\n      <th>58393</th>\n      <td>640</td>\n      <td>486</td>\n      <td>Images/valid/000000058393.jpg</td>\n      <td>.jpg</td>\n      <td>valid</td>\n    </tr>\n    <tr>\n      <th>147729</th>\n      <td>500</td>\n      <td>375</td>\n      <td>Images/valid/000000147729.jpg</td>\n      <td>.jpg</td>\n      <td>valid</td>\n    </tr>\n    <tr>\n      <th>310072</th>\n      <td>640</td>\n      <td>383</td>\n      <td>Images/valid/000000310072.jpg</td>\n      <td>.jpg</td>\n      <td>valid</td>\n    </tr>\n    <tr>\n      <th>...</th>\n      <td>...</td>\n      <td>...</td>\n      <td>...</td>\n      <td>...</td>\n      <td>...</td>\n    </tr>\n    <tr>\n      <th>311180</th>\n      <td>480</td>\n      <td>640</td>\n      <td>Images/valid/000000311180.jpg</td>\n      <td>.jpg</td>\n      <td>valid</td>\n    </tr>\n    <tr>\n      <th>302030</th>\n      <td>640</td>\n      <td>359</td>\n      <td>Images/valid/000000302030.jpg</td>\n      <td>.jpg</td>\n      <td>valid</td>\n    </tr>\n    <tr>\n      <th>105455</th>\n      <td>427</td>\n      <td>640</td>\n      <td>Images/valid/000000105455.jpg</td>\n      <td>.jpg</td>\n      <td>valid</td>\n    </tr>\n    <tr>\n      <th>428280</th>\n      <td>500</td>\n      <td>333</td>\n      <td>Images/valid/000000428280.jpg</td>\n      <td>.jpg</td>\n      <td>valid</td>\n    </tr>\n    <tr>\n      <th>349837</th>\n      <td>500</td>\n      <td>333</td>\n      <td>Images/valid/000000349837.jpg</td>\n      <td>.jpg</td>\n      <td>valid</td>\n    </tr>\n  </tbody>\n</table>\n<p>5000 rows × 5 columns</p>\n</div>",
          "text/plain": "        width  height                  relative_path  type  split\nid                                                               \n352582    425     640  Images/valid/000000352582.jpg  .jpg  valid\n113354    640     480  Images/valid/000000113354.jpg  .jpg  valid\n58393     640     486  Images/valid/000000058393.jpg  .jpg  valid\n147729    500     375  Images/valid/000000147729.jpg  .jpg  valid\n310072    640     383  Images/valid/000000310072.jpg  .jpg  valid\n...       ...     ...                            ...   ...    ...\n311180    480     640  Images/valid/000000311180.jpg  .jpg  valid\n302030    640     359  Images/valid/000000302030.jpg  .jpg  valid\n105455    427     640  Images/valid/000000105455.jpg  .jpg  valid\n428280    500     333  Images/valid/000000428280.jpg  .jpg  valid\n349837    500     333  Images/valid/000000349837.jpg  .jpg  valid\n\n[5000 rows x 5 columns]"
         },
         "metadata": {},
         "output_type": "display_data"
        }
       ]
      }
     },
     "d4cad2637a7545adb905408699f590fb": {
      "model_module": "@jupyter-widgets/controls",
      "model_module_version": "2.0.0",
      "model_name": "TabModel",
      "state": {
       "children": [
        "IPY_MODEL_ae3cf866393b4ec4ac40269a750d3a10",
        "IPY_MODEL_2778d61fc01a436e916253188585e30e",
        "IPY_MODEL_0fa247a61d2a4c5ca4d561745684b411"
       ],
       "layout": "IPY_MODEL_df6d5349154049a2a94e7c04bd055bc0",
       "selected_index": 0,
       "titles": [
        "Images",
        "Annotations",
        "Label Map"
       ]
      }
     },
     "d62aac955151470987acadb3fa557eb5": {
      "model_module": "@jupyter-widgets/output",
      "model_module_version": "1.0.0",
      "model_name": "OutputModel",
      "state": {
       "layout": "IPY_MODEL_881fd8c193694b139321ae4143205526",
       "outputs": [
        {
         "data": {
          "text/html": "<div>\n<style scoped>\n    .dataframe tbody tr th:only-of-type {\n        vertical-align: middle;\n    }\n\n    .dataframe tbody tr th {\n        vertical-align: top;\n    }\n\n    .dataframe thead th {\n        text-align: right;\n    }\n</style>\n<table border=\"1\" class=\"dataframe\">\n  <thead>\n    <tr style=\"text-align: right;\">\n      <th></th>\n      <th>category string</th>\n    </tr>\n    <tr>\n      <th>category_id</th>\n      <th></th>\n    </tr>\n  </thead>\n  <tbody>\n    <tr>\n      <th>1</th>\n      <td>person</td>\n    </tr>\n    <tr>\n      <th>2</th>\n      <td>bicycle</td>\n    </tr>\n    <tr>\n      <th>3</th>\n      <td>car</td>\n    </tr>\n    <tr>\n      <th>4</th>\n      <td>motorcycle</td>\n    </tr>\n    <tr>\n      <th>5</th>\n      <td>airplane</td>\n    </tr>\n    <tr>\n      <th>...</th>\n      <td>...</td>\n    </tr>\n    <tr>\n      <th>86</th>\n      <td>vase</td>\n    </tr>\n    <tr>\n      <th>87</th>\n      <td>scissors</td>\n    </tr>\n    <tr>\n      <th>88</th>\n      <td>teddy bear</td>\n    </tr>\n    <tr>\n      <th>89</th>\n      <td>hair drier</td>\n    </tr>\n    <tr>\n      <th>90</th>\n      <td>toothbrush</td>\n    </tr>\n  </tbody>\n</table>\n<p>80 rows × 1 columns</p>\n</div>",
          "text/plain": "            category string\ncategory_id                \n1                    person\n2                   bicycle\n3                       car\n4                motorcycle\n5                  airplane\n...                     ...\n86                     vase\n87                 scissors\n88               teddy bear\n89               hair drier\n90               toothbrush\n\n[80 rows x 1 columns]"
         },
         "metadata": {},
         "output_type": "display_data"
        }
       ]
      }
     },
     "d6c7a6732abe4d088111573889108ec2": {
      "model_module": "@jupyter-widgets/controls",
      "model_module_version": "2.0.0",
      "model_name": "TabModel",
      "state": {
       "children": [
        "IPY_MODEL_27fb01ccb6a046238a4f7b5203c95ac6",
        "IPY_MODEL_8aa03c053dd8485397c26faee0ac7bd5",
        "IPY_MODEL_d62aac955151470987acadb3fa557eb5"
       ],
       "layout": "IPY_MODEL_13fb585955bb4ac18e1d173f5be42a61",
       "selected_index": 0,
       "titles": [
        "Images",
        "Annotations",
        "Label Map"
       ]
      }
     },
     "d82087924e4142f288a9b8904f221455": {
      "model_module": "@jupyter-widgets/controls",
      "model_module_version": "2.0.0",
      "model_name": "VBoxModel",
      "state": {
       "children": [
        "IPY_MODEL_15b687c65c5748a69ead0b5e940730bd",
        "IPY_MODEL_658725de461042c19f6367fdfe0fd4df"
       ],
       "layout": "IPY_MODEL_23ed09427de242f3b230bd3767bf66b0"
      }
     },
     "d8b4bc9c844a4f58bf4571cbe7af2136": {
      "model_module": "@jupyter-widgets/base",
      "model_module_version": "2.0.0",
      "model_name": "LayoutModel",
      "state": {}
     },
     "d94834afc1d8491187d1bf1c9284a9df": {
      "model_module": "@jupyter-widgets/base",
      "model_module_version": "2.0.0",
      "model_name": "LayoutModel",
      "state": {}
     },
     "dac711e998d6487e8db47bb49ba810c0": {
      "model_module": "@jupyter-widgets/base",
      "model_module_version": "2.0.0",
      "model_name": "LayoutModel",
      "state": {}
     },
     "daeaa77f2e9347cc9f7d1387f782ed57": {
      "model_module": "@jupyter-widgets/output",
      "model_module_version": "1.0.0",
      "model_name": "OutputModel",
      "state": {
       "layout": "IPY_MODEL_301bb5947ad745acb8a094b89f6cc57d",
       "outputs": [
        {
         "data": {
          "text/html": "<div>\n<style scoped>\n    .dataframe tbody tr th:only-of-type {\n        vertical-align: middle;\n    }\n\n    .dataframe tbody tr th {\n        vertical-align: top;\n    }\n\n    .dataframe thead th {\n        text-align: right;\n    }\n</style>\n<table border=\"1\" class=\"dataframe\">\n  <thead>\n    <tr style=\"text-align: right;\">\n      <th></th>\n      <th>width</th>\n      <th>height</th>\n      <th>relative_path</th>\n      <th>type</th>\n      <th>split</th>\n    </tr>\n    <tr>\n      <th>id</th>\n      <th></th>\n      <th></th>\n      <th></th>\n      <th></th>\n      <th></th>\n    </tr>\n  </thead>\n  <tbody>\n    <tr>\n      <th>352582</th>\n      <td>425</td>\n      <td>640</td>\n      <td>Images/valid/000000352582.jpg</td>\n      <td>.jpg</td>\n      <td>valid</td>\n    </tr>\n    <tr>\n      <th>113354</th>\n      <td>640</td>\n      <td>480</td>\n      <td>Images/valid/000000113354.jpg</td>\n      <td>.jpg</td>\n      <td>valid</td>\n    </tr>\n    <tr>\n      <th>58393</th>\n      <td>640</td>\n      <td>486</td>\n      <td>Images/valid/000000058393.jpg</td>\n      <td>.jpg</td>\n      <td>valid</td>\n    </tr>\n    <tr>\n      <th>147729</th>\n      <td>500</td>\n      <td>375</td>\n      <td>Images/valid/000000147729.jpg</td>\n      <td>.jpg</td>\n      <td>valid</td>\n    </tr>\n    <tr>\n      <th>310072</th>\n      <td>640</td>\n      <td>383</td>\n      <td>Images/valid/000000310072.jpg</td>\n      <td>.jpg</td>\n      <td>valid</td>\n    </tr>\n    <tr>\n      <th>...</th>\n      <td>...</td>\n      <td>...</td>\n      <td>...</td>\n      <td>...</td>\n      <td>...</td>\n    </tr>\n    <tr>\n      <th>311180</th>\n      <td>480</td>\n      <td>640</td>\n      <td>Images/valid/000000311180.jpg</td>\n      <td>.jpg</td>\n      <td>valid</td>\n    </tr>\n    <tr>\n      <th>302030</th>\n      <td>640</td>\n      <td>359</td>\n      <td>Images/valid/000000302030.jpg</td>\n      <td>.jpg</td>\n      <td>valid</td>\n    </tr>\n    <tr>\n      <th>105455</th>\n      <td>427</td>\n      <td>640</td>\n      <td>Images/valid/000000105455.jpg</td>\n      <td>.jpg</td>\n      <td>valid</td>\n    </tr>\n    <tr>\n      <th>428280</th>\n      <td>500</td>\n      <td>333</td>\n      <td>Images/valid/000000428280.jpg</td>\n      <td>.jpg</td>\n      <td>valid</td>\n    </tr>\n    <tr>\n      <th>349837</th>\n      <td>500</td>\n      <td>333</td>\n      <td>Images/valid/000000349837.jpg</td>\n      <td>.jpg</td>\n      <td>valid</td>\n    </tr>\n  </tbody>\n</table>\n<p>5000 rows × 5 columns</p>\n</div>",
          "text/plain": "        width  height                  relative_path  type  split\nid                                                               \n352582    425     640  Images/valid/000000352582.jpg  .jpg  valid\n113354    640     480  Images/valid/000000113354.jpg  .jpg  valid\n58393     640     486  Images/valid/000000058393.jpg  .jpg  valid\n147729    500     375  Images/valid/000000147729.jpg  .jpg  valid\n310072    640     383  Images/valid/000000310072.jpg  .jpg  valid\n...       ...     ...                            ...   ...    ...\n311180    480     640  Images/valid/000000311180.jpg  .jpg  valid\n302030    640     359  Images/valid/000000302030.jpg  .jpg  valid\n105455    427     640  Images/valid/000000105455.jpg  .jpg  valid\n428280    500     333  Images/valid/000000428280.jpg  .jpg  valid\n349837    500     333  Images/valid/000000349837.jpg  .jpg  valid\n\n[5000 rows x 5 columns]"
         },
         "metadata": {},
         "output_type": "display_data"
        }
       ]
      }
     },
     "daf121e7d7c343c9bc202fb4003d4687": {
      "model_module": "@jupyter-widgets/base",
      "model_module_version": "2.0.0",
      "model_name": "LayoutModel",
      "state": {}
     },
     "dbcd7f1499f840b3acd3d02b57937b0d": {
      "model_module": "@jupyter-widgets/base",
      "model_module_version": "2.0.0",
      "model_name": "LayoutModel",
      "state": {}
     },
     "dc26d390ce884090834f8acf5f829cdf": {
      "model_module": "@jupyter-widgets/base",
      "model_module_version": "2.0.0",
      "model_name": "LayoutModel",
      "state": {}
     },
     "dd26702479034291a38500897b696c79": {
      "model_module": "@jupyter-widgets/controls",
      "model_module_version": "2.0.0",
      "model_name": "VBoxModel",
      "state": {
       "children": [
        "IPY_MODEL_c0d860e092934ea5a2ebd12f84322fe1",
        "IPY_MODEL_9da439c98f3c4d7aa6caa27ed70dfa32"
       ],
       "layout": "IPY_MODEL_8973924984f448c58cbcd96c50034a4e"
      }
     },
     "dda17401931441fbb6a1eba601641cf4": {
      "model_module": "@jupyter-widgets/base",
      "model_module_version": "2.0.0",
      "model_name": "LayoutModel",
      "state": {}
     },
     "de4fc22b09c6427496f1627a544e7432": {
      "model_module": "@jupyter-widgets/controls",
      "model_module_version": "2.0.0",
      "model_name": "VBoxModel",
      "state": {
       "children": [
        "IPY_MODEL_5656d447bdef47bc91c96668e7dc2340",
        "IPY_MODEL_6e0419c231fa4d2f85d0bf5ba7a88cbf"
       ],
       "layout": "IPY_MODEL_888c450cc9534c22910a09e17a2c0e55"
      }
     },
     "deece2bc27d64e809b0f0ffe181fe420": {
      "model_module": "@jupyter-widgets/output",
      "model_module_version": "1.0.0",
      "model_name": "OutputModel",
      "state": {
       "layout": "IPY_MODEL_870237b6891d4247bffa5f8263e685d4",
       "outputs": [
        {
         "data": {
          "text/html": "<div>\n<style scoped>\n    .dataframe tbody tr th:only-of-type {\n        vertical-align: middle;\n    }\n\n    .dataframe tbody tr th {\n        vertical-align: top;\n    }\n\n    .dataframe thead th {\n        text-align: right;\n    }\n</style>\n<table border=\"1\" class=\"dataframe\">\n  <thead>\n    <tr style=\"text-align: right;\">\n      <th></th>\n      <th>category string</th>\n    </tr>\n    <tr>\n      <th>category_id</th>\n      <th></th>\n    </tr>\n  </thead>\n  <tbody>\n    <tr>\n      <th>2</th>\n      <td>person</td>\n    </tr>\n    <tr>\n      <th>111</th>\n      <td>bicycle</td>\n    </tr>\n    <tr>\n      <th>100</th>\n      <td>sedan</td>\n    </tr>\n    <tr>\n      <th>110</th>\n      <td>motorcycle</td>\n    </tr>\n    <tr>\n      <th>102</th>\n      <td>bus</td>\n    </tr>\n    <tr>\n      <th>12</th>\n      <td>train</td>\n    </tr>\n    <tr>\n      <th>10</th>\n      <td>car</td>\n    </tr>\n    <tr>\n      <th>41</th>\n      <td>domestical animal</td>\n    </tr>\n    <tr>\n      <th>410</th>\n      <td>dog</td>\n    </tr>\n    <tr>\n      <th>61</th>\n      <td>bag</td>\n    </tr>\n    <tr>\n      <th>60</th>\n      <td>suitcase</td>\n    </tr>\n  </tbody>\n</table>\n</div>",
          "text/plain": "               category string\ncategory_id                   \n2                       person\n111                    bicycle\n100                      sedan\n110                 motorcycle\n102                        bus\n12                       train\n10                         car\n41           domestical animal\n410                        dog\n61                         bag\n60                    suitcase"
         },
         "metadata": {},
         "output_type": "display_data"
        }
       ]
      }
     },
     "defd8db7be584ef58af4221757118c85": {
      "model_module": "@jupyter-widgets/base",
      "model_module_version": "2.0.0",
      "model_name": "LayoutModel",
      "state": {}
     },
     "df472973aa4c44fea3741d7fe7a7f497": {
      "model_module": "@jupyter-widgets/base",
      "model_module_version": "2.0.0",
      "model_name": "LayoutModel",
      "state": {}
     },
     "df6d5349154049a2a94e7c04bd055bc0": {
      "model_module": "@jupyter-widgets/base",
      "model_module_version": "2.0.0",
      "model_name": "LayoutModel",
      "state": {}
     },
     "dfc2ca586a0848a58b017be7170c7d7a": {
      "model_module": "@jupyter-widgets/base",
      "model_module_version": "2.0.0",
      "model_name": "LayoutModel",
      "state": {}
     },
     "e055ea2e96554b52921c4fe1ec020a1d": {
      "model_module": "@jupyter-widgets/output",
      "model_module_version": "1.0.0",
      "model_name": "OutputModel",
      "state": {
       "layout": "IPY_MODEL_a05d6961fe7a4f9abf64888cd1d54d39",
       "outputs": [
        {
         "data": {
          "text/html": "<div>\n<style scoped>\n    .dataframe tbody tr th:only-of-type {\n        vertical-align: middle;\n    }\n\n    .dataframe tbody tr th {\n        vertical-align: top;\n    }\n\n    .dataframe thead th {\n        text-align: right;\n    }\n</style>\n<table border=\"1\" class=\"dataframe\">\n  <thead>\n    <tr style=\"text-align: right;\">\n      <th></th>\n      <th>category string</th>\n    </tr>\n    <tr>\n      <th>category_id</th>\n      <th></th>\n    </tr>\n  </thead>\n  <tbody>\n    <tr>\n      <th>1</th>\n      <td>person</td>\n    </tr>\n    <tr>\n      <th>2</th>\n      <td>bicycle</td>\n    </tr>\n    <tr>\n      <th>3</th>\n      <td>car</td>\n    </tr>\n    <tr>\n      <th>4</th>\n      <td>motorcycle</td>\n    </tr>\n    <tr>\n      <th>5</th>\n      <td>airplane</td>\n    </tr>\n    <tr>\n      <th>...</th>\n      <td>...</td>\n    </tr>\n    <tr>\n      <th>86</th>\n      <td>vase</td>\n    </tr>\n    <tr>\n      <th>87</th>\n      <td>scissors</td>\n    </tr>\n    <tr>\n      <th>88</th>\n      <td>teddy bear</td>\n    </tr>\n    <tr>\n      <th>89</th>\n      <td>hair drier</td>\n    </tr>\n    <tr>\n      <th>90</th>\n      <td>toothbrush</td>\n    </tr>\n  </tbody>\n</table>\n<p>80 rows × 1 columns</p>\n</div>",
          "text/plain": "            category string\ncategory_id                \n1                    person\n2                   bicycle\n3                       car\n4                motorcycle\n5                  airplane\n...                     ...\n86                     vase\n87                 scissors\n88               teddy bear\n89               hair drier\n90               toothbrush\n\n[80 rows x 1 columns]"
         },
         "metadata": {},
         "output_type": "display_data"
        }
       ]
      }
     },
     "e1666ba9e67d45b38ea7819535b4f572": {
      "model_module": "@jupyter-widgets/controls",
      "model_module_version": "2.0.0",
      "model_name": "HTMLModel",
      "state": {
       "layout": "IPY_MODEL_defd8db7be584ef58af4221757118c85",
       "style": "IPY_MODEL_e8344b3188234da191f1627817096f50",
       "value": "<p><span style='white-space: pre-wrap; font-weight: bold'>Dataset object containing 5,000 images and 36,781 objects\nName :\n\tcoco\nImages root :\n\tnotebook_data</span></p>"
      }
     },
     "e227b9c8d8194bdf809f1902470c9900": {
      "model_module": "@jupyter-widgets/base",
      "model_module_version": "2.0.0",
      "model_name": "LayoutModel",
      "state": {}
     },
     "e237f37431f04ccdaefe08f7b83935b6": {
      "model_module": "@jupyter-widgets/output",
      "model_module_version": "1.0.0",
      "model_name": "OutputModel",
      "state": {
       "layout": "IPY_MODEL_7ea38cc2303346d29dcafdaf0c4587db",
       "outputs": [
        {
         "data": {
          "text/html": "<div>\n<style scoped>\n    .dataframe tbody tr th:only-of-type {\n        vertical-align: middle;\n    }\n\n    .dataframe tbody tr th {\n        vertical-align: top;\n    }\n\n    .dataframe thead th {\n        text-align: right;\n    }\n</style>\n<table border=\"1\" class=\"dataframe\">\n  <thead>\n    <tr style=\"text-align: right;\">\n      <th></th>\n      <th>image_id</th>\n      <th>category_str</th>\n      <th>category_id</th>\n      <th>split</th>\n      <th>box_x_min</th>\n      <th>box_y_min</th>\n      <th>box_width</th>\n      <th>box_height</th>\n      <th>area</th>\n    </tr>\n    <tr>\n      <th>id</th>\n      <th></th>\n      <th></th>\n      <th></th>\n      <th></th>\n      <th></th>\n      <th></th>\n      <th></th>\n      <th></th>\n      <th></th>\n    </tr>\n  </thead>\n  <tbody>\n    <tr>\n      <th>357584</th>\n      <td>310072</td>\n      <td>Vehicle</td>\n      <td>1</td>\n      <td>valid</td>\n      <td>223.85</td>\n      <td>0.00</td>\n      <td>258.83</td>\n      <td>69.08</td>\n      <td>14718.47935</td>\n    </tr>\n    <tr>\n      <th>358258</th>\n      <td>310072</td>\n      <td>Vehicle</td>\n      <td>1</td>\n      <td>valid</td>\n      <td>0.00</td>\n      <td>1.94</td>\n      <td>135.99</td>\n      <td>66.27</td>\n      <td>6989.84750</td>\n    </tr>\n    <tr>\n      <th>363154</th>\n      <td>310072</td>\n      <td>Vehicle</td>\n      <td>1</td>\n      <td>valid</td>\n      <td>170.89</td>\n      <td>0.00</td>\n      <td>71.06</td>\n      <td>36.96</td>\n      <td>1729.26630</td>\n    </tr>\n    <tr>\n      <th>1337431</th>\n      <td>310072</td>\n      <td>Vehicle</td>\n      <td>1</td>\n      <td>valid</td>\n      <td>631.99</td>\n      <td>7.35</td>\n      <td>8.01</td>\n      <td>15.46</td>\n      <td>91.97330</td>\n    </tr>\n    <tr>\n      <th>1368385</th>\n      <td>310072</td>\n      <td>Vehicle</td>\n      <td>1</td>\n      <td>valid</td>\n      <td>0.00</td>\n      <td>0.00</td>\n      <td>131.87</td>\n      <td>71.46</td>\n      <td>7558.39585</td>\n    </tr>\n    <tr>\n      <th>...</th>\n      <td>...</td>\n      <td>...</td>\n      <td>...</td>\n      <td>...</td>\n      <td>...</td>\n      <td>...</td>\n      <td>...</td>\n      <td>...</td>\n      <td>...</td>\n    </tr>\n    <tr>\n      <th>10068</th>\n      <td>189806</td>\n      <td>Animal</td>\n      <td>3</td>\n      <td>valid</td>\n      <td>263.63</td>\n      <td>193.10</td>\n      <td>180.04</td>\n      <td>103.59</td>\n      <td>10866.03335</td>\n    </tr>\n    <tr>\n      <th>46540</th>\n      <td>189806</td>\n      <td>Animal</td>\n      <td>3</td>\n      <td>valid</td>\n      <td>130.91</td>\n      <td>165.20</td>\n      <td>94.54</td>\n      <td>104.73</td>\n      <td>5204.68295</td>\n    </tr>\n    <tr>\n      <th>344755</th>\n      <td>363188</td>\n      <td>Vehicle</td>\n      <td>1</td>\n      <td>valid</td>\n      <td>590.03</td>\n      <td>198.92</td>\n      <td>49.97</td>\n      <td>106.42</td>\n      <td>4084.58345</td>\n    </tr>\n    <tr>\n      <th>1420625</th>\n      <td>363188</td>\n      <td>Bag</td>\n      <td>2</td>\n      <td>valid</td>\n      <td>221.41</td>\n      <td>199.76</td>\n      <td>91.36</td>\n      <td>63.64</td>\n      <td>865.42470</td>\n    </tr>\n    <tr>\n      <th>1192747</th>\n      <td>105455</td>\n      <td>Vehicle</td>\n      <td>1</td>\n      <td>valid</td>\n      <td>333.56</td>\n      <td>517.21</td>\n      <td>17.43</td>\n      <td>14.58</td>\n      <td>182.21680</td>\n    </tr>\n  </tbody>\n</table>\n<p>5143 rows × 9 columns</p>\n</div>",
          "text/plain": "         image_id category_str  category_id  split  box_x_min  box_y_min  \\\nid                                                                         \n357584     310072      Vehicle            1  valid     223.85       0.00   \n358258     310072      Vehicle            1  valid       0.00       1.94   \n363154     310072      Vehicle            1  valid     170.89       0.00   \n1337431    310072      Vehicle            1  valid     631.99       7.35   \n1368385    310072      Vehicle            1  valid       0.00       0.00   \n...           ...          ...          ...    ...        ...        ...   \n10068      189806       Animal            3  valid     263.63     193.10   \n46540      189806       Animal            3  valid     130.91     165.20   \n344755     363188      Vehicle            1  valid     590.03     198.92   \n1420625    363188          Bag            2  valid     221.41     199.76   \n1192747    105455      Vehicle            1  valid     333.56     517.21   \n\n         box_width  box_height         area  \nid                                           \n357584      258.83       69.08  14718.47935  \n358258      135.99       66.27   6989.84750  \n363154       71.06       36.96   1729.26630  \n1337431       8.01       15.46     91.97330  \n1368385     131.87       71.46   7558.39585  \n...            ...         ...          ...  \n10068       180.04      103.59  10866.03335  \n46540        94.54      104.73   5204.68295  \n344755       49.97      106.42   4084.58345  \n1420625      91.36       63.64    865.42470  \n1192747      17.43       14.58    182.21680  \n\n[5143 rows x 9 columns]"
         },
         "metadata": {},
         "output_type": "display_data"
        }
       ]
      }
     },
     "e2d11117fd6242049b20c972dc998ee5": {
      "model_module": "@jupyter-widgets/output",
      "model_module_version": "1.0.0",
      "model_name": "OutputModel",
      "state": {
       "layout": "IPY_MODEL_07f29f6774364a5985f926be014bb2fa",
       "outputs": [
        {
         "data": {
          "text/html": "<div>\n<style scoped>\n    .dataframe tbody tr th:only-of-type {\n        vertical-align: middle;\n    }\n\n    .dataframe tbody tr th {\n        vertical-align: top;\n    }\n\n    .dataframe thead th {\n        text-align: right;\n    }\n</style>\n<table border=\"1\" class=\"dataframe\">\n  <thead>\n    <tr style=\"text-align: right;\">\n      <th></th>\n      <th>category string</th>\n    </tr>\n    <tr>\n      <th>category_id</th>\n      <th></th>\n    </tr>\n  </thead>\n  <tbody>\n    <tr>\n      <th>1</th>\n      <td>person</td>\n    </tr>\n    <tr>\n      <th>2</th>\n      <td>bicycle</td>\n    </tr>\n    <tr>\n      <th>3</th>\n      <td>car</td>\n    </tr>\n    <tr>\n      <th>4</th>\n      <td>motorcycle</td>\n    </tr>\n    <tr>\n      <th>5</th>\n      <td>airplane</td>\n    </tr>\n    <tr>\n      <th>...</th>\n      <td>...</td>\n    </tr>\n    <tr>\n      <th>86</th>\n      <td>vase</td>\n    </tr>\n    <tr>\n      <th>87</th>\n      <td>scissors</td>\n    </tr>\n    <tr>\n      <th>88</th>\n      <td>teddy bear</td>\n    </tr>\n    <tr>\n      <th>89</th>\n      <td>hair drier</td>\n    </tr>\n    <tr>\n      <th>90</th>\n      <td>toothbrush</td>\n    </tr>\n  </tbody>\n</table>\n<p>80 rows × 1 columns</p>\n</div>",
          "text/plain": "            category string\ncategory_id                \n1                    person\n2                   bicycle\n3                       car\n4                motorcycle\n5                  airplane\n...                     ...\n86                     vase\n87                 scissors\n88               teddy bear\n89               hair drier\n90               toothbrush\n\n[80 rows x 1 columns]"
         },
         "metadata": {},
         "output_type": "display_data"
        }
       ]
      }
     },
     "e3084fee85314470b2978885adaf88c2": {
      "model_module": "@jupyter-widgets/controls",
      "model_module_version": "2.0.0",
      "model_name": "HTMLModel",
      "state": {
       "layout": "IPY_MODEL_4887dda2b4d747b99b53512b1b0d8269",
       "style": "IPY_MODEL_1416f9b474a24937b723b5f3b963bc3d",
       "value": "<p><span style='white-space: pre-wrap; font-weight: bold'>Dataset object containing 5,000 images and 36,781 objects\nName :\n\tcoco\nImages root :\n\tnotebook_data</span></p>"
      }
     },
     "e42a3be280b24ebe8713b30646861e81": {
      "model_module": "@jupyter-widgets/controls",
      "model_module_version": "2.0.0",
      "model_name": "HTMLModel",
      "state": {
       "layout": "IPY_MODEL_109cf86ee75244a3867eede424c06f8c",
       "style": "IPY_MODEL_3f0c3be359c24aa1b99018d38ebfd8f3",
       "value": "<p><span style='white-space: pre-wrap; font-weight: bold'>Dataset object containing 2 images and 0 object\nName :\n\tcoco\nImages root :\n\tnotebook_data</span></p>"
      }
     },
     "e48adcf89c284bb28ad16c35c5e4ee35": {
      "model_module": "@jupyter-widgets/base",
      "model_module_version": "2.0.0",
      "model_name": "LayoutModel",
      "state": {}
     },
     "e5203aea1a034e4f8f07478a1518f32c": {
      "model_module": "@jupyter-widgets/controls",
      "model_module_version": "2.0.0",
      "model_name": "HTMLStyleModel",
      "state": {
       "description_width": "",
       "font_size": null,
       "text_color": null
      }
     },
     "e5f03032a64d45dea659775708127005": {
      "model_module": "@jupyter-widgets/controls",
      "model_module_version": "2.0.0",
      "model_name": "VBoxModel",
      "state": {
       "children": [
        "IPY_MODEL_9f98f4f9a484443d86f7a8b53a6f0383",
        "IPY_MODEL_bf201b396f8d44d38c03c7b6acdaaaab"
       ],
       "layout": "IPY_MODEL_740572852b404ab6b16bf51549e42d4a"
      }
     },
     "e632e552abae4b039b2c3233f81dfdc9": {
      "model_module": "@jupyter-widgets/output",
      "model_module_version": "1.0.0",
      "model_name": "OutputModel",
      "state": {
       "layout": "IPY_MODEL_3b42f9bab9dd407e8bde63abe3e9128e",
       "outputs": [
        {
         "data": {
          "text/html": "<div>\n<style scoped>\n    .dataframe tbody tr th:only-of-type {\n        vertical-align: middle;\n    }\n\n    .dataframe tbody tr th {\n        vertical-align: top;\n    }\n\n    .dataframe thead th {\n        text-align: right;\n    }\n</style>\n<table border=\"1\" class=\"dataframe\">\n  <thead>\n    <tr style=\"text-align: right;\">\n      <th></th>\n      <th>width</th>\n      <th>height</th>\n      <th>relative_path</th>\n      <th>type</th>\n      <th>split</th>\n    </tr>\n    <tr>\n      <th>id</th>\n      <th></th>\n      <th></th>\n      <th></th>\n      <th></th>\n      <th></th>\n    </tr>\n  </thead>\n  <tbody>\n    <tr>\n      <th>352582</th>\n      <td>425</td>\n      <td>640</td>\n      <td>Images/valid/000000352582.jpg</td>\n      <td>.jpg</td>\n      <td>valid</td>\n    </tr>\n    <tr>\n      <th>113354</th>\n      <td>640</td>\n      <td>480</td>\n      <td>Images/valid/000000113354.jpg</td>\n      <td>.jpg</td>\n      <td>valid</td>\n    </tr>\n    <tr>\n      <th>58393</th>\n      <td>640</td>\n      <td>486</td>\n      <td>Images/valid/000000058393.jpg</td>\n      <td>.jpg</td>\n      <td>valid</td>\n    </tr>\n    <tr>\n      <th>147729</th>\n      <td>500</td>\n      <td>375</td>\n      <td>Images/valid/000000147729.jpg</td>\n      <td>.jpg</td>\n      <td>valid</td>\n    </tr>\n    <tr>\n      <th>310072</th>\n      <td>640</td>\n      <td>383</td>\n      <td>Images/valid/000000310072.jpg</td>\n      <td>.jpg</td>\n      <td>valid</td>\n    </tr>\n    <tr>\n      <th>...</th>\n      <td>...</td>\n      <td>...</td>\n      <td>...</td>\n      <td>...</td>\n      <td>...</td>\n    </tr>\n    <tr>\n      <th>311180</th>\n      <td>480</td>\n      <td>640</td>\n      <td>Images/valid/000000311180.jpg</td>\n      <td>.jpg</td>\n      <td>valid</td>\n    </tr>\n    <tr>\n      <th>302030</th>\n      <td>640</td>\n      <td>359</td>\n      <td>Images/valid/000000302030.jpg</td>\n      <td>.jpg</td>\n      <td>valid</td>\n    </tr>\n    <tr>\n      <th>105455</th>\n      <td>427</td>\n      <td>640</td>\n      <td>Images/valid/000000105455.jpg</td>\n      <td>.jpg</td>\n      <td>valid</td>\n    </tr>\n    <tr>\n      <th>428280</th>\n      <td>500</td>\n      <td>333</td>\n      <td>Images/valid/000000428280.jpg</td>\n      <td>.jpg</td>\n      <td>valid</td>\n    </tr>\n    <tr>\n      <th>349837</th>\n      <td>500</td>\n      <td>333</td>\n      <td>Images/valid/000000349837.jpg</td>\n      <td>.jpg</td>\n      <td>valid</td>\n    </tr>\n  </tbody>\n</table>\n<p>4722 rows × 5 columns</p>\n</div>",
          "text/plain": "        width  height                  relative_path  type  split\nid                                                               \n352582    425     640  Images/valid/000000352582.jpg  .jpg  valid\n113354    640     480  Images/valid/000000113354.jpg  .jpg  valid\n58393     640     486  Images/valid/000000058393.jpg  .jpg  valid\n147729    500     375  Images/valid/000000147729.jpg  .jpg  valid\n310072    640     383  Images/valid/000000310072.jpg  .jpg  valid\n...       ...     ...                            ...   ...    ...\n311180    480     640  Images/valid/000000311180.jpg  .jpg  valid\n302030    640     359  Images/valid/000000302030.jpg  .jpg  valid\n105455    427     640  Images/valid/000000105455.jpg  .jpg  valid\n428280    500     333  Images/valid/000000428280.jpg  .jpg  valid\n349837    500     333  Images/valid/000000349837.jpg  .jpg  valid\n\n[4722 rows x 5 columns]"
         },
         "metadata": {},
         "output_type": "display_data"
        }
       ]
      }
     },
     "e6ebee4fb350450bb503c6456b6bc95e": {
      "model_module": "@jupyter-widgets/output",
      "model_module_version": "1.0.0",
      "model_name": "OutputModel",
      "state": {
       "layout": "IPY_MODEL_4d401b4c71724b63b1789803f9ea6065",
       "outputs": [
        {
         "data": {
          "text/html": "<div>\n<style scoped>\n    .dataframe tbody tr th:only-of-type {\n        vertical-align: middle;\n    }\n\n    .dataframe tbody tr th {\n        vertical-align: top;\n    }\n\n    .dataframe thead th {\n        text-align: right;\n    }\n</style>\n<table border=\"1\" class=\"dataframe\">\n  <thead>\n    <tr style=\"text-align: right;\">\n      <th></th>\n      <th>image_id</th>\n      <th>category_str</th>\n      <th>category_id</th>\n      <th>split</th>\n      <th>box_x_min</th>\n      <th>box_y_min</th>\n      <th>box_width</th>\n      <th>box_height</th>\n      <th>area</th>\n      <th>confidence</th>\n    </tr>\n    <tr>\n      <th>id</th>\n      <th></th>\n      <th></th>\n      <th></th>\n      <th></th>\n      <th></th>\n      <th></th>\n      <th></th>\n      <th></th>\n      <th></th>\n      <th></th>\n    </tr>\n  </thead>\n  <tbody>\n    <tr>\n      <th>0</th>\n      <td>352582</td>\n      <td>suitcase</td>\n      <td>60</td>\n      <td>valid</td>\n      <td>212.5</td>\n      <td>320.0</td>\n      <td>212.5</td>\n      <td>320.0</td>\n      <td>68000.0</td>\n      <td>0.5</td>\n    </tr>\n  </tbody>\n</table>\n</div>",
          "text/plain": "    image_id category_str  category_id  split  box_x_min  box_y_min  \\\nid                                                                    \n0     352582     suitcase           60  valid      212.5      320.0   \n\n    box_width  box_height     area  confidence  \nid                                              \n0       212.5       320.0  68000.0         0.5  "
         },
         "metadata": {},
         "output_type": "display_data"
        }
       ]
      }
     },
     "e715cd29143641e1aa536a5f73b00a74": {
      "model_module": "@jupyter-widgets/controls",
      "model_module_version": "2.0.0",
      "model_name": "HTMLStyleModel",
      "state": {
       "description_width": "",
       "font_size": null,
       "text_color": null
      }
     },
     "e74072710cb94a5980b1e917c349935b": {
      "model_module": "@jupyter-widgets/output",
      "model_module_version": "1.0.0",
      "model_name": "OutputModel",
      "state": {
       "layout": "IPY_MODEL_393643a9a08e4705afc5d024a8e91484",
       "outputs": [
        {
         "data": {
          "text/html": "<div>\n<style scoped>\n    .dataframe tbody tr th:only-of-type {\n        vertical-align: middle;\n    }\n\n    .dataframe tbody tr th {\n        vertical-align: top;\n    }\n\n    .dataframe thead th {\n        text-align: right;\n    }\n</style>\n<table border=\"1\" class=\"dataframe\">\n  <thead>\n    <tr style=\"text-align: right;\">\n      <th></th>\n      <th>category string</th>\n    </tr>\n    <tr>\n      <th>category_id</th>\n      <th></th>\n    </tr>\n  </thead>\n  <tbody>\n    <tr>\n      <th>1</th>\n      <td>vehicle</td>\n    </tr>\n    <tr>\n      <th>3</th>\n      <td>animal</td>\n    </tr>\n    <tr>\n      <th>2</th>\n      <td>bag</td>\n    </tr>\n  </tbody>\n</table>\n</div>",
          "text/plain": "            category string\ncategory_id                \n1                   vehicle\n3                    animal\n2                       bag"
         },
         "metadata": {},
         "output_type": "display_data"
        }
       ]
      }
     },
     "e8344b3188234da191f1627817096f50": {
      "model_module": "@jupyter-widgets/controls",
      "model_module_version": "2.0.0",
      "model_name": "HTMLStyleModel",
      "state": {
       "description_width": "",
       "font_size": null,
       "text_color": null
      }
     },
     "ea1b07e366954852a0ace5768fbcb0c4": {
      "model_module": "@jupyter-widgets/controls",
      "model_module_version": "2.0.0",
      "model_name": "VBoxModel",
      "state": {
       "children": [
        "IPY_MODEL_c97e3bee005b413d880e928a544d3b93",
        "IPY_MODEL_4a40453dda51443aa1c46c0544921913"
       ],
       "layout": "IPY_MODEL_4158d35d56e14215b55f2422f226c30e"
      }
     },
     "eb06369aa3a344fb8b751e5ac90a6203": {
      "model_module": "@jupyter-widgets/controls",
      "model_module_version": "2.0.0",
      "model_name": "VBoxModel",
      "state": {
       "children": [
        "IPY_MODEL_85d2ea2bad2f4a7db8cad0a38b39482b",
        "IPY_MODEL_906e0da2a30a4c56b6ee41b001a230db"
       ],
       "layout": "IPY_MODEL_8dcdde34750d48e6bb1a27ce1967692e"
      }
     },
     "ed07319a399f4efeaae1d78094d4cfae": {
      "model_module": "@jupyter-widgets/output",
      "model_module_version": "1.0.0",
      "model_name": "OutputModel",
      "state": {
       "layout": "IPY_MODEL_17c92255a8d94ff583db6d932cbb04da",
       "outputs": [
        {
         "data": {
          "text/html": "<div>\n<style scoped>\n    .dataframe tbody tr th:only-of-type {\n        vertical-align: middle;\n    }\n\n    .dataframe tbody tr th {\n        vertical-align: top;\n    }\n\n    .dataframe thead th {\n        text-align: right;\n    }\n</style>\n<table border=\"1\" class=\"dataframe\">\n  <thead>\n    <tr style=\"text-align: right;\">\n      <th></th>\n      <th>image_id</th>\n      <th>category_str</th>\n      <th>category_id</th>\n      <th>split</th>\n      <th>box_x_min</th>\n      <th>box_y_min</th>\n      <th>box_width</th>\n      <th>box_height</th>\n      <th>area</th>\n    </tr>\n    <tr>\n      <th>id</th>\n      <th></th>\n      <th></th>\n      <th></th>\n      <th></th>\n      <th></th>\n      <th></th>\n      <th></th>\n      <th></th>\n      <th></th>\n    </tr>\n  </thead>\n  <tbody>\n    <tr>\n      <th>460450</th>\n      <td>352582</td>\n      <td>person</td>\n      <td>1</td>\n      <td>valid</td>\n      <td>112.43</td>\n      <td>195.32</td>\n      <td>214.78</td>\n      <td>438.19</td>\n      <td>48685.6791</td>\n    </tr>\n    <tr>\n      <th>535917</th>\n      <td>352582</td>\n      <td>person</td>\n      <td>1</td>\n      <td>valid</td>\n      <td>0.00</td>\n      <td>256.00</td>\n      <td>80.54</td>\n      <td>376.81</td>\n      <td>22650.7380</td>\n    </tr>\n    <tr>\n      <th>602093</th>\n      <td>352582</td>\n      <td>frisbee</td>\n      <td>34</td>\n      <td>valid</td>\n      <td>171.63</td>\n      <td>424.03</td>\n      <td>85.89</td>\n      <td>40.67</td>\n      <td>2605.7209</td>\n    </tr>\n  </tbody>\n</table>\n</div>",
          "text/plain": "        image_id category_str  category_id  split  box_x_min  box_y_min  \\\nid                                                                        \n460450    352582       person            1  valid     112.43     195.32   \n535917    352582       person            1  valid       0.00     256.00   \n602093    352582      frisbee           34  valid     171.63     424.03   \n\n        box_width  box_height        area  \nid                                         \n460450     214.78      438.19  48685.6791  \n535917      80.54      376.81  22650.7380  \n602093      85.89       40.67   2605.7209  "
         },
         "metadata": {},
         "output_type": "display_data"
        }
       ]
      }
     },
     "ee5240ec7e3b462999c0e290894a742a": {
      "model_module": "@jupyter-widgets/base",
      "model_module_version": "2.0.0",
      "model_name": "LayoutModel",
      "state": {}
     },
     "ef65891409c4419cb88edce2789aa500": {
      "model_module": "@jupyter-widgets/output",
      "model_module_version": "1.0.0",
      "model_name": "OutputModel",
      "state": {
       "layout": "IPY_MODEL_621338b9b40b4f12b0ec1611a641de2d",
       "outputs": [
        {
         "data": {
          "text/html": "<div>\n<style scoped>\n    .dataframe tbody tr th:only-of-type {\n        vertical-align: middle;\n    }\n\n    .dataframe tbody tr th {\n        vertical-align: top;\n    }\n\n    .dataframe thead th {\n        text-align: right;\n    }\n</style>\n<table border=\"1\" class=\"dataframe\">\n  <thead>\n    <tr style=\"text-align: right;\">\n      <th></th>\n      <th>category string</th>\n    </tr>\n    <tr>\n      <th>category_id</th>\n      <th></th>\n    </tr>\n  </thead>\n  <tbody>\n    <tr>\n      <th>1</th>\n      <td>vehicle</td>\n    </tr>\n    <tr>\n      <th>3</th>\n      <td>animal</td>\n    </tr>\n    <tr>\n      <th>2</th>\n      <td>bag</td>\n    </tr>\n  </tbody>\n</table>\n</div>",
          "text/plain": "            category string\ncategory_id                \n1                   vehicle\n3                    animal\n2                       bag"
         },
         "metadata": {},
         "output_type": "display_data"
        }
       ]
      }
     },
     "f00954000e754a3e84f45957d4308d35": {
      "model_module": "@jupyter-widgets/base",
      "model_module_version": "2.0.0",
      "model_name": "LayoutModel",
      "state": {}
     },
     "f10b710cf65e4d5dbdf713d4b0f32c92": {
      "model_module": "@jupyter-widgets/base",
      "model_module_version": "2.0.0",
      "model_name": "LayoutModel",
      "state": {}
     },
     "f135817d2e6744df8c945f080d445594": {
      "model_module": "@jupyter-widgets/base",
      "model_module_version": "2.0.0",
      "model_name": "LayoutModel",
      "state": {}
     },
     "f13edfa87c774800b7e35122ce7a5a3d": {
      "model_module": "@jupyter-widgets/base",
      "model_module_version": "2.0.0",
      "model_name": "LayoutModel",
      "state": {}
     },
     "f13f64836c2041b2b68511545a916b59": {
      "model_module": "@jupyter-widgets/controls",
      "model_module_version": "2.0.0",
      "model_name": "HTMLModel",
      "state": {
       "layout": "IPY_MODEL_b4cfae471bba4a5b9000ccfcad6796dd",
       "style": "IPY_MODEL_009f7a851044439da752f8e57b304336",
       "value": "<p><span style='white-space: pre-wrap; font-weight: bold'>Dataset object containing 5,000 images and 36,781 objects\nName :\n\tcoco\nImages root :\n\tnotebook_data</span></p>"
      }
     },
     "f4b6c2ed9df4470da8287ed4be6c26b5": {
      "model_module": "@jupyter-widgets/output",
      "model_module_version": "1.0.0",
      "model_name": "OutputModel",
      "state": {
       "layout": "IPY_MODEL_cc92f80ed7f64507864d11686ca932ed",
       "outputs": [
        {
         "data": {
          "text/html": "<div>\n<style scoped>\n    .dataframe tbody tr th:only-of-type {\n        vertical-align: middle;\n    }\n\n    .dataframe tbody tr th {\n        vertical-align: top;\n    }\n\n    .dataframe thead th {\n        text-align: right;\n    }\n</style>\n<table border=\"1\" class=\"dataframe\">\n  <thead>\n    <tr style=\"text-align: right;\">\n      <th></th>\n      <th>category string</th>\n    </tr>\n    <tr>\n      <th>category_id</th>\n      <th></th>\n    </tr>\n  </thead>\n  <tbody>\n    <tr>\n      <th>1</th>\n      <td>person</td>\n    </tr>\n    <tr>\n      <th>2</th>\n      <td>bicycle</td>\n    </tr>\n    <tr>\n      <th>3</th>\n      <td>car</td>\n    </tr>\n    <tr>\n      <th>4</th>\n      <td>motorcycle</td>\n    </tr>\n    <tr>\n      <th>5</th>\n      <td>airplane</td>\n    </tr>\n    <tr>\n      <th>...</th>\n      <td>...</td>\n    </tr>\n    <tr>\n      <th>86</th>\n      <td>vase</td>\n    </tr>\n    <tr>\n      <th>87</th>\n      <td>scissors</td>\n    </tr>\n    <tr>\n      <th>88</th>\n      <td>teddy bear</td>\n    </tr>\n    <tr>\n      <th>89</th>\n      <td>hair drier</td>\n    </tr>\n    <tr>\n      <th>90</th>\n      <td>toothbrush</td>\n    </tr>\n  </tbody>\n</table>\n<p>80 rows × 1 columns</p>\n</div>",
          "text/plain": "            category string\ncategory_id                \n1                    person\n2                   bicycle\n3                       car\n4                motorcycle\n5                  airplane\n...                     ...\n86                     vase\n87                 scissors\n88               teddy bear\n89               hair drier\n90               toothbrush\n\n[80 rows x 1 columns]"
         },
         "metadata": {},
         "output_type": "display_data"
        }
       ]
      }
     },
     "f687b523e612474c9c9c9b671423f44d": {
      "model_module": "@jupyter-widgets/controls",
      "model_module_version": "2.0.0",
      "model_name": "HTMLStyleModel",
      "state": {
       "description_width": "",
       "font_size": null,
       "text_color": null
      }
     },
     "f736863a3caf4884a3920ece493808a4": {
      "model_module": "@jupyter-widgets/output",
      "model_module_version": "1.0.0",
      "model_name": "OutputModel",
      "state": {
       "layout": "IPY_MODEL_69e62664e91d46899829f613e0a8dcb7",
       "outputs": [
        {
         "data": {
          "text/html": "<div>\n<style scoped>\n    .dataframe tbody tr th:only-of-type {\n        vertical-align: middle;\n    }\n\n    .dataframe tbody tr th {\n        vertical-align: top;\n    }\n\n    .dataframe thead th {\n        text-align: right;\n    }\n</style>\n<table border=\"1\" class=\"dataframe\">\n  <thead>\n    <tr style=\"text-align: right;\">\n      <th></th>\n      <th>width</th>\n      <th>height</th>\n      <th>relative_path</th>\n      <th>type</th>\n      <th>split</th>\n    </tr>\n    <tr>\n      <th>id</th>\n      <th></th>\n      <th></th>\n      <th></th>\n      <th></th>\n      <th></th>\n    </tr>\n  </thead>\n  <tbody>\n    <tr>\n      <th>352582</th>\n      <td>425</td>\n      <td>640</td>\n      <td>Images/valid/000000352582.jpg</td>\n      <td>.jpg</td>\n      <td>valid</td>\n    </tr>\n    <tr>\n      <th>113354</th>\n      <td>640</td>\n      <td>480</td>\n      <td>Images/valid/000000113354.jpg</td>\n      <td>.jpg</td>\n      <td>valid</td>\n    </tr>\n    <tr>\n      <th>58393</th>\n      <td>640</td>\n      <td>486</td>\n      <td>Images/valid/000000058393.jpg</td>\n      <td>.jpg</td>\n      <td>valid</td>\n    </tr>\n    <tr>\n      <th>147729</th>\n      <td>500</td>\n      <td>375</td>\n      <td>Images/valid/000000147729.jpg</td>\n      <td>.jpg</td>\n      <td>valid</td>\n    </tr>\n    <tr>\n      <th>310072</th>\n      <td>640</td>\n      <td>383</td>\n      <td>Images/valid/000000310072.jpg</td>\n      <td>.jpg</td>\n      <td>valid</td>\n    </tr>\n    <tr>\n      <th>...</th>\n      <td>...</td>\n      <td>...</td>\n      <td>...</td>\n      <td>...</td>\n      <td>...</td>\n    </tr>\n    <tr>\n      <th>311180</th>\n      <td>480</td>\n      <td>640</td>\n      <td>Images/valid/000000311180.jpg</td>\n      <td>.jpg</td>\n      <td>valid</td>\n    </tr>\n    <tr>\n      <th>302030</th>\n      <td>640</td>\n      <td>359</td>\n      <td>Images/valid/000000302030.jpg</td>\n      <td>.jpg</td>\n      <td>valid</td>\n    </tr>\n    <tr>\n      <th>105455</th>\n      <td>427</td>\n      <td>640</td>\n      <td>Images/valid/000000105455.jpg</td>\n      <td>.jpg</td>\n      <td>valid</td>\n    </tr>\n    <tr>\n      <th>428280</th>\n      <td>500</td>\n      <td>333</td>\n      <td>Images/valid/000000428280.jpg</td>\n      <td>.jpg</td>\n      <td>valid</td>\n    </tr>\n    <tr>\n      <th>349837</th>\n      <td>500</td>\n      <td>333</td>\n      <td>Images/valid/000000349837.jpg</td>\n      <td>.jpg</td>\n      <td>valid</td>\n    </tr>\n  </tbody>\n</table>\n<p>5000 rows × 5 columns</p>\n</div>",
          "text/plain": "        width  height                  relative_path  type  split\nid                                                               \n352582    425     640  Images/valid/000000352582.jpg  .jpg  valid\n113354    640     480  Images/valid/000000113354.jpg  .jpg  valid\n58393     640     486  Images/valid/000000058393.jpg  .jpg  valid\n147729    500     375  Images/valid/000000147729.jpg  .jpg  valid\n310072    640     383  Images/valid/000000310072.jpg  .jpg  valid\n...       ...     ...                            ...   ...    ...\n311180    480     640  Images/valid/000000311180.jpg  .jpg  valid\n302030    640     359  Images/valid/000000302030.jpg  .jpg  valid\n105455    427     640  Images/valid/000000105455.jpg  .jpg  valid\n428280    500     333  Images/valid/000000428280.jpg  .jpg  valid\n349837    500     333  Images/valid/000000349837.jpg  .jpg  valid\n\n[5000 rows x 5 columns]"
         },
         "metadata": {},
         "output_type": "display_data"
        }
       ]
      }
     },
     "f83cc91c00ed4d3ebcfa0cc56ad1aa2c": {
      "model_module": "@jupyter-widgets/base",
      "model_module_version": "2.0.0",
      "model_name": "LayoutModel",
      "state": {}
     },
     "f94af64c1feb49ffabd1d93d796846ba": {
      "model_module": "@jupyter-widgets/controls",
      "model_module_version": "2.0.0",
      "model_name": "HTMLModel",
      "state": {
       "layout": "IPY_MODEL_4576ccff891c4058b055cee50877ea63",
       "style": "IPY_MODEL_7c2e5007141746398e1584d8537559f5",
       "value": "<p><span style='white-space: pre-wrap; font-weight: bold'>Dataset object containing 5,000 images and 18,391 objects\nName :\n\tcoco\nImages root :\n\tnotebook_data</span></p>"
      }
     },
     "fa2fc2f687fa4c698311a6a8630bad21": {
      "model_module": "@jupyter-widgets/base",
      "model_module_version": "2.0.0",
      "model_name": "LayoutModel",
      "state": {}
     },
     "fbda8167b66041dbbe24a73e25266251": {
      "model_module": "@jupyter-widgets/base",
      "model_module_version": "2.0.0",
      "model_name": "LayoutModel",
      "state": {}
     },
     "fc7764aa992e48b38aecdce96132b7a1": {
      "model_module": "@jupyter-widgets/base",
      "model_module_version": "2.0.0",
      "model_name": "LayoutModel",
      "state": {}
     },
     "fd4ae0e039444acfb4dc5c74c68ba84b": {
      "model_module": "@jupyter-widgets/base",
      "model_module_version": "2.0.0",
      "model_name": "LayoutModel",
      "state": {}
     },
     "fd96899755ae416ba93e40a6f52d069d": {
      "model_module": "@jupyter-widgets/base",
      "model_module_version": "2.0.0",
      "model_name": "LayoutModel",
      "state": {}
     },
     "fe9750a4cfca439798219a9dcb1c53bd": {
      "model_module": "@jupyter-widgets/base",
      "model_module_version": "2.0.0",
      "model_name": "LayoutModel",
      "state": {}
     }
    },
    "version_major": 2,
    "version_minor": 0
   }
  }
 },
 "nbformat": 4,
 "nbformat_minor": 5
}
